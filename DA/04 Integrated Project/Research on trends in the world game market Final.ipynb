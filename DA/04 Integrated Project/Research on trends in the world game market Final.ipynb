{
 "cells": [
  {
   "cell_type": "markdown",
   "metadata": {},
   "source": [
    "# Research on trends in the world game market"
   ]
  },
  {
   "cell_type": "markdown",
   "metadata": {},
   "source": [
    "This research is made on December 2016. The purpose of the research is to serve as a tool for planning an advertising campaign for 2017. The research will try forecasting trends to determine if a certain game will be a hit or not."
   ]
  },
  {
   "cell_type": "markdown",
   "metadata": {
    "toc": true
   },
   "source": [
    "<h1>Table of Contents<span class=\"tocSkip\"></span></h1>\n",
    "<div class=\"toc\"><ul class=\"toc-item\"><li><span><a href=\"#Project-description\" data-toc-modified-id=\"Project-description-1\"><span class=\"toc-item-num\">1&nbsp;&nbsp;</span>Project description</a></span></li><li><span><a href=\"#Data-preperation\" data-toc-modified-id=\"Data-preperation-2\"><span class=\"toc-item-num\">2&nbsp;&nbsp;</span>Data preperation</a></span><ul class=\"toc-item\"><li><span><a href=\"#Replace-the-column-names-(make-them-lowercase)\" data-toc-modified-id=\"Replace-the-column-names-(make-them-lowercase)-2.1\"><span class=\"toc-item-num\">2.1&nbsp;&nbsp;</span>Replace the column names (make them lowercase)</a></span></li><li><span><a href=\"#Data-conversion\" data-toc-modified-id=\"Data-conversion-2.2\"><span class=\"toc-item-num\">2.2&nbsp;&nbsp;</span>Data conversion</a></span></li><li><span><a href=\"#Calculate-the-total-sales\" data-toc-modified-id=\"Calculate-the-total-sales-2.3\"><span class=\"toc-item-num\">2.3&nbsp;&nbsp;</span>Calculate the total sales</a></span></li><li><span><a href=\"#Missing-values\" data-toc-modified-id=\"Missing-values-2.4\"><span class=\"toc-item-num\">2.4&nbsp;&nbsp;</span>Missing values</a></span><ul class=\"toc-item\"><li><span><a href=\"#Name\" data-toc-modified-id=\"Name-2.4.1\"><span class=\"toc-item-num\">2.4.1&nbsp;&nbsp;</span>Name</a></span></li><li><span><a href=\"#Year_of_Release\" data-toc-modified-id=\"Year_of_Release-2.4.2\"><span class=\"toc-item-num\">2.4.2&nbsp;&nbsp;</span>Year_of_Release</a></span></li><li><span><a href=\"#Critic_Score,-User_Score,-Rating\" data-toc-modified-id=\"Critic_Score,-User_Score,-Rating-2.4.3\"><span class=\"toc-item-num\">2.4.3&nbsp;&nbsp;</span>Critic_Score, User_Score, Rating</a></span></li><li><span><a href=\"#The-user_score-column-has-a-strange-value---TBD-(to-be-determined).\" data-toc-modified-id=\"The-user_score-column-has-a-strange-value---TBD-(to-be-determined).-2.4.4\"><span class=\"toc-item-num\">2.4.4&nbsp;&nbsp;</span>The user_score column has a strange value - TBD (to be determined).</a></span></li></ul></li></ul></li><li><span><a href=\"#Analyze-the-data\" data-toc-modified-id=\"Analyze-the-data-3\"><span class=\"toc-item-num\">3&nbsp;&nbsp;</span>Analyze the data</a></span><ul class=\"toc-item\"><li><span><a href=\"#Game-releases-per-year\" data-toc-modified-id=\"Game-releases-per-year-3.1\"><span class=\"toc-item-num\">3.1&nbsp;&nbsp;</span>Game releases per year</a></span><ul class=\"toc-item\"><li><span><a href=\"#Image(filename='USA_Internet_Speed_2007_2017.PNG',-width=530,-height=300)\" data-toc-modified-id=\"Image(filename='USA_Internet_Speed_2007_2017.PNG',-width=530,-height=300)-3.1.1\"><span class=\"toc-item-num\">3.1.1&nbsp;&nbsp;</span>Image(filename='USA_Internet_Speed_2007_2017.PNG', width=530, height=300)</a></span></li></ul></li><li><span><a href=\"#Sales-acourding-to-platform\" data-toc-modified-id=\"Sales-acourding-to-platform-3.2\"><span class=\"toc-item-num\">3.2&nbsp;&nbsp;</span>Sales acourding to platform</a></span><ul class=\"toc-item\"><li><span><a href=\"#Distribution-sales-of-PS2-games\" data-toc-modified-id=\"Distribution-sales-of-PS2-games-3.2.1\"><span class=\"toc-item-num\">3.2.1&nbsp;&nbsp;</span>Distribution sales of PS2 games</a></span></li><li><span><a href=\"#Platform-which-it's-glory-days-passed\" data-toc-modified-id=\"Platform-which-it's-glory-days-passed-3.2.2\"><span class=\"toc-item-num\">3.2.2&nbsp;&nbsp;</span>Platform which it's glory days passed</a></span></li><li><span><a href=\"#Life-time-of-a-platform\" data-toc-modified-id=\"Life-time-of-a-platform-3.2.3\"><span class=\"toc-item-num\">3.2.3&nbsp;&nbsp;</span>Life time of a platform</a></span></li><li><span><a href=\"#Which-platforms-are-leading-in-sales?-Which-ones-are-growing-or-shrinking?-Select-several-potentially-profitable-platforms\" data-toc-modified-id=\"Which-platforms-are-leading-in-sales?-Which-ones-are-growing-or-shrinking?-Select-several-potentially-profitable-platforms-3.2.4\"><span class=\"toc-item-num\">3.2.4&nbsp;&nbsp;</span>Which platforms are leading in sales? Which ones are growing or shrinking? Select several potentially profitable platforms</a></span></li><li><span><a href=\"#Build-a-box-plot-for-the-global-sales-of-all-games,-broken-down-by-platform\" data-toc-modified-id=\"Build-a-box-plot-for-the-global-sales-of-all-games,-broken-down-by-platform-3.2.5\"><span class=\"toc-item-num\">3.2.5&nbsp;&nbsp;</span>Build a box plot for the global sales of all games, broken down by platform</a></span></li><li><span><a href=\"#Correlation-between-sales-and-reviews\" data-toc-modified-id=\"Correlation-between-sales-and-reviews-3.2.6\"><span class=\"toc-item-num\">3.2.6&nbsp;&nbsp;</span>Correlation between sales and reviews</a></span></li><li><span><a href=\"#Comparison-between-sales-of-the-same-games-across-deferent-platforms\" data-toc-modified-id=\"Comparison-between-sales-of-the-same-games-across-deferent-platforms-3.2.7\"><span class=\"toc-item-num\">3.2.7&nbsp;&nbsp;</span>Comparison between sales of the same games across deferent platforms</a></span></li><li><span><a href=\"#Game-distribution-by-genre\" data-toc-modified-id=\"Game-distribution-by-genre-3.2.8\"><span class=\"toc-item-num\">3.2.8&nbsp;&nbsp;</span>Game distribution by genre</a></span></li></ul></li><li><span><a href=\"#Create-a-user-profile-for-each-region\" data-toc-modified-id=\"Create-a-user-profile-for-each-region-3.3\"><span class=\"toc-item-num\">3.3&nbsp;&nbsp;</span>Create a user profile for each region</a></span><ul class=\"toc-item\"><li><span><a href=\"#Top-5-selling-platforms-in-each-region\" data-toc-modified-id=\"Top-5-selling-platforms-in-each-region-3.3.1\"><span class=\"toc-item-num\">3.3.1&nbsp;&nbsp;</span>Top 5 selling platforms in each region</a></span></li><li><span><a href=\"#Top-5-selling-genres-in-each-region\" data-toc-modified-id=\"Top-5-selling-genres-in-each-region-3.3.2\"><span class=\"toc-item-num\">3.3.2&nbsp;&nbsp;</span>Top 5 selling genres in each region</a></span></li><li><span><a href=\"#How-ESRB-ratings-affect-sales-in-each-regions\" data-toc-modified-id=\"How-ESRB-ratings-affect-sales-in-each-regions-3.3.3\"><span class=\"toc-item-num\">3.3.3&nbsp;&nbsp;</span>How ESRB ratings affect sales in each regions</a></span></li></ul></li></ul></li><li><span><a href=\"#Test-hypotheses\" data-toc-modified-id=\"Test-hypotheses-4\"><span class=\"toc-item-num\">4&nbsp;&nbsp;</span>Test hypotheses</a></span><ul class=\"toc-item\"><li><span><a href=\"#Average-user-ratings-of-the-Xbox-One-and-PC-platforms-are-the-same\" data-toc-modified-id=\"Average-user-ratings-of-the-Xbox-One-and-PC-platforms-are-the-same-4.1\"><span class=\"toc-item-num\">4.1&nbsp;&nbsp;</span>Average user ratings of the Xbox One and PC platforms are the same</a></span></li><li><span><a href=\"#Average-user-ratings-for-the-Action-and-Sports-genres-are-different.\" data-toc-modified-id=\"Average-user-ratings-for-the-Action-and-Sports-genres-are-different.-4.2\"><span class=\"toc-item-num\">4.2&nbsp;&nbsp;</span>Average user ratings for the Action and Sports genres are different.</a></span></li></ul></li><li><span><a href=\"#Conclusion\" data-toc-modified-id=\"Conclusion-5\"><span class=\"toc-item-num\">5&nbsp;&nbsp;</span>Conclusion</a></span></li></ul></div>"
   ]
  },
  {
   "cell_type": "markdown",
   "metadata": {},
   "source": [
    "## Project description"
   ]
  },
  {
   "cell_type": "markdown",
   "metadata": {},
   "source": [
    "As an analyst for the online store Ice, which sells video games all over the world. I need to identify patterns that determine whether a game succeeds or not. This will allow you to spot potential big winners and plan advertising campaigns.<br>\n",
    "The data is going back to 2016. __The data is cumulative__. Now it’s December 2016 and I'm planning a campaign for 2017. \n"
   ]
  },
  {
   "cell_type": "markdown",
   "metadata": {},
   "source": [
    "## Data preperation"
   ]
  },
  {
   "cell_type": "code",
   "execution_count": 1,
   "metadata": {},
   "outputs": [],
   "source": [
    "import pandas as pd\n",
    "import datetime\n",
    "import matplotlib.pyplot as plt\n",
    "import numpy as np\n",
    "from scipy import stats as st\n",
    "from IPython.display import Image\n",
    "from IPython.core.display import HTML \n",
    "\n",
    "import seaborn as sns\n",
    "# sns.set_theme(style=\"whitegrid\")\n",
    "\n",
    "from IPython.core.interactiveshell import InteractiveShell\n",
    "InteractiveShell.ast_node_interactivity = \"all\""
   ]
  },
  {
   "cell_type": "code",
   "execution_count": 2,
   "metadata": {},
   "outputs": [],
   "source": [
    "def load_data(file_name):\n",
    "    df=''\n",
    "    try:\n",
    "        df=pd.read_csv(file_name)\n",
    "    except:\n",
    "        df=pd.read_csv('/datasets/{}'.format(file_name))\n",
    "    return df\n",
    "\n",
    "df=load_data('games.csv')"
   ]
  },
  {
   "cell_type": "code",
   "execution_count": 3,
   "metadata": {},
   "outputs": [
    {
     "data": {
      "text/html": [
       "<div>\n",
       "<style scoped>\n",
       "    .dataframe tbody tr th:only-of-type {\n",
       "        vertical-align: middle;\n",
       "    }\n",
       "\n",
       "    .dataframe tbody tr th {\n",
       "        vertical-align: top;\n",
       "    }\n",
       "\n",
       "    .dataframe thead th {\n",
       "        text-align: right;\n",
       "    }\n",
       "</style>\n",
       "<table border=\"1\" class=\"dataframe\">\n",
       "  <thead>\n",
       "    <tr style=\"text-align: right;\">\n",
       "      <th></th>\n",
       "      <th>Name</th>\n",
       "      <th>Platform</th>\n",
       "      <th>Year_of_Release</th>\n",
       "      <th>Genre</th>\n",
       "      <th>NA_sales</th>\n",
       "      <th>EU_sales</th>\n",
       "      <th>JP_sales</th>\n",
       "      <th>Other_sales</th>\n",
       "      <th>Critic_Score</th>\n",
       "      <th>User_Score</th>\n",
       "      <th>Rating</th>\n",
       "    </tr>\n",
       "  </thead>\n",
       "  <tbody>\n",
       "    <tr>\n",
       "      <td>0</td>\n",
       "      <td>Wii Sports</td>\n",
       "      <td>Wii</td>\n",
       "      <td>2006.0</td>\n",
       "      <td>Sports</td>\n",
       "      <td>41.36</td>\n",
       "      <td>28.96</td>\n",
       "      <td>3.77</td>\n",
       "      <td>8.45</td>\n",
       "      <td>76.0</td>\n",
       "      <td>8</td>\n",
       "      <td>E</td>\n",
       "    </tr>\n",
       "    <tr>\n",
       "      <td>1</td>\n",
       "      <td>Super Mario Bros.</td>\n",
       "      <td>NES</td>\n",
       "      <td>1985.0</td>\n",
       "      <td>Platform</td>\n",
       "      <td>29.08</td>\n",
       "      <td>3.58</td>\n",
       "      <td>6.81</td>\n",
       "      <td>0.77</td>\n",
       "      <td>NaN</td>\n",
       "      <td>NaN</td>\n",
       "      <td>NaN</td>\n",
       "    </tr>\n",
       "    <tr>\n",
       "      <td>2</td>\n",
       "      <td>Mario Kart Wii</td>\n",
       "      <td>Wii</td>\n",
       "      <td>2008.0</td>\n",
       "      <td>Racing</td>\n",
       "      <td>15.68</td>\n",
       "      <td>12.76</td>\n",
       "      <td>3.79</td>\n",
       "      <td>3.29</td>\n",
       "      <td>82.0</td>\n",
       "      <td>8.3</td>\n",
       "      <td>E</td>\n",
       "    </tr>\n",
       "    <tr>\n",
       "      <td>3</td>\n",
       "      <td>Wii Sports Resort</td>\n",
       "      <td>Wii</td>\n",
       "      <td>2009.0</td>\n",
       "      <td>Sports</td>\n",
       "      <td>15.61</td>\n",
       "      <td>10.93</td>\n",
       "      <td>3.28</td>\n",
       "      <td>2.95</td>\n",
       "      <td>80.0</td>\n",
       "      <td>8</td>\n",
       "      <td>E</td>\n",
       "    </tr>\n",
       "    <tr>\n",
       "      <td>4</td>\n",
       "      <td>Pokemon Red/Pokemon Blue</td>\n",
       "      <td>GB</td>\n",
       "      <td>1996.0</td>\n",
       "      <td>Role-Playing</td>\n",
       "      <td>11.27</td>\n",
       "      <td>8.89</td>\n",
       "      <td>10.22</td>\n",
       "      <td>1.00</td>\n",
       "      <td>NaN</td>\n",
       "      <td>NaN</td>\n",
       "      <td>NaN</td>\n",
       "    </tr>\n",
       "  </tbody>\n",
       "</table>\n",
       "</div>"
      ],
      "text/plain": [
       "                       Name Platform  Year_of_Release         Genre  NA_sales  \\\n",
       "0                Wii Sports      Wii           2006.0        Sports     41.36   \n",
       "1         Super Mario Bros.      NES           1985.0      Platform     29.08   \n",
       "2            Mario Kart Wii      Wii           2008.0        Racing     15.68   \n",
       "3         Wii Sports Resort      Wii           2009.0        Sports     15.61   \n",
       "4  Pokemon Red/Pokemon Blue       GB           1996.0  Role-Playing     11.27   \n",
       "\n",
       "   EU_sales  JP_sales  Other_sales  Critic_Score User_Score Rating  \n",
       "0     28.96      3.77         8.45          76.0          8      E  \n",
       "1      3.58      6.81         0.77           NaN        NaN    NaN  \n",
       "2     12.76      3.79         3.29          82.0        8.3      E  \n",
       "3     10.93      3.28         2.95          80.0          8      E  \n",
       "4      8.89     10.22         1.00           NaN        NaN    NaN  "
      ]
     },
     "execution_count": 3,
     "metadata": {},
     "output_type": "execute_result"
    }
   ],
   "source": [
    "df.head()"
   ]
  },
  {
   "cell_type": "markdown",
   "metadata": {},
   "source": [
    "### Replace the column names (make them lowercase)"
   ]
  },
  {
   "cell_type": "code",
   "execution_count": 4,
   "metadata": {},
   "outputs": [
    {
     "data": {
      "text/html": [
       "<div>\n",
       "<style scoped>\n",
       "    .dataframe tbody tr th:only-of-type {\n",
       "        vertical-align: middle;\n",
       "    }\n",
       "\n",
       "    .dataframe tbody tr th {\n",
       "        vertical-align: top;\n",
       "    }\n",
       "\n",
       "    .dataframe thead th {\n",
       "        text-align: right;\n",
       "    }\n",
       "</style>\n",
       "<table border=\"1\" class=\"dataframe\">\n",
       "  <thead>\n",
       "    <tr style=\"text-align: right;\">\n",
       "      <th></th>\n",
       "      <th>name</th>\n",
       "      <th>platform</th>\n",
       "      <th>year_of_release</th>\n",
       "      <th>genre</th>\n",
       "      <th>na_sales</th>\n",
       "      <th>eu_sales</th>\n",
       "      <th>jp_sales</th>\n",
       "      <th>other_sales</th>\n",
       "      <th>critic_score</th>\n",
       "      <th>user_score</th>\n",
       "      <th>rating</th>\n",
       "    </tr>\n",
       "  </thead>\n",
       "  <tbody>\n",
       "    <tr>\n",
       "      <td>0</td>\n",
       "      <td>Wii Sports</td>\n",
       "      <td>Wii</td>\n",
       "      <td>2006.0</td>\n",
       "      <td>Sports</td>\n",
       "      <td>41.36</td>\n",
       "      <td>28.96</td>\n",
       "      <td>3.77</td>\n",
       "      <td>8.45</td>\n",
       "      <td>76.0</td>\n",
       "      <td>8</td>\n",
       "      <td>E</td>\n",
       "    </tr>\n",
       "    <tr>\n",
       "      <td>1</td>\n",
       "      <td>Super Mario Bros.</td>\n",
       "      <td>NES</td>\n",
       "      <td>1985.0</td>\n",
       "      <td>Platform</td>\n",
       "      <td>29.08</td>\n",
       "      <td>3.58</td>\n",
       "      <td>6.81</td>\n",
       "      <td>0.77</td>\n",
       "      <td>NaN</td>\n",
       "      <td>NaN</td>\n",
       "      <td>NaN</td>\n",
       "    </tr>\n",
       "    <tr>\n",
       "      <td>2</td>\n",
       "      <td>Mario Kart Wii</td>\n",
       "      <td>Wii</td>\n",
       "      <td>2008.0</td>\n",
       "      <td>Racing</td>\n",
       "      <td>15.68</td>\n",
       "      <td>12.76</td>\n",
       "      <td>3.79</td>\n",
       "      <td>3.29</td>\n",
       "      <td>82.0</td>\n",
       "      <td>8.3</td>\n",
       "      <td>E</td>\n",
       "    </tr>\n",
       "    <tr>\n",
       "      <td>3</td>\n",
       "      <td>Wii Sports Resort</td>\n",
       "      <td>Wii</td>\n",
       "      <td>2009.0</td>\n",
       "      <td>Sports</td>\n",
       "      <td>15.61</td>\n",
       "      <td>10.93</td>\n",
       "      <td>3.28</td>\n",
       "      <td>2.95</td>\n",
       "      <td>80.0</td>\n",
       "      <td>8</td>\n",
       "      <td>E</td>\n",
       "    </tr>\n",
       "    <tr>\n",
       "      <td>4</td>\n",
       "      <td>Pokemon Red/Pokemon Blue</td>\n",
       "      <td>GB</td>\n",
       "      <td>1996.0</td>\n",
       "      <td>Role-Playing</td>\n",
       "      <td>11.27</td>\n",
       "      <td>8.89</td>\n",
       "      <td>10.22</td>\n",
       "      <td>1.00</td>\n",
       "      <td>NaN</td>\n",
       "      <td>NaN</td>\n",
       "      <td>NaN</td>\n",
       "    </tr>\n",
       "  </tbody>\n",
       "</table>\n",
       "</div>"
      ],
      "text/plain": [
       "                       name platform  year_of_release         genre  na_sales  \\\n",
       "0                Wii Sports      Wii           2006.0        Sports     41.36   \n",
       "1         Super Mario Bros.      NES           1985.0      Platform     29.08   \n",
       "2            Mario Kart Wii      Wii           2008.0        Racing     15.68   \n",
       "3         Wii Sports Resort      Wii           2009.0        Sports     15.61   \n",
       "4  Pokemon Red/Pokemon Blue       GB           1996.0  Role-Playing     11.27   \n",
       "\n",
       "   eu_sales  jp_sales  other_sales  critic_score user_score rating  \n",
       "0     28.96      3.77         8.45          76.0          8      E  \n",
       "1      3.58      6.81         0.77           NaN        NaN    NaN  \n",
       "2     12.76      3.79         3.29          82.0        8.3      E  \n",
       "3     10.93      3.28         2.95          80.0          8      E  \n",
       "4      8.89     10.22         1.00           NaN        NaN    NaN  "
      ]
     },
     "execution_count": 4,
     "metadata": {},
     "output_type": "execute_result"
    }
   ],
   "source": [
    "df.columns=['name', 'platform', 'year_of_release', 'genre', 'na_sales', 'eu_sales', 'jp_sales', 'other_sales', 'critic_score', 'user_score', 'rating']\n",
    "df.head()"
   ]
  },
  {
   "cell_type": "markdown",
   "metadata": {},
   "source": [
    "### Data conversion"
   ]
  },
  {
   "cell_type": "markdown",
   "metadata": {},
   "source": [
    "One of the things that want to check later on is how reviews affect sales. \n",
    "For this I'll have to change the following:  \n",
    "1. Remove the TBD in the user_score column, which will be replaced with 0. the TBD caused the column to be of type of string, so I'm changing it to float so that I'll be able to do calculations on that column\n",
    "2. Replace NaN with 0 in the columns critic_score, user_score.\n",
    "3. Create a new column for the user_score column with scores on the scale of 1-100 so that it will be easier to compare to the critic_score column."
   ]
  },
  {
   "cell_type": "code",
   "execution_count": 5,
   "metadata": {},
   "outputs": [],
   "source": [
    "df['user_score_tbd']=df['user_score']\n",
    "df['user_score_nan']=df['user_score']\n",
    "\n",
    "# for user_score_nan I replace the tbd with NaN value. in the statistical part\n",
    "# the NaN will be omited easly\n",
    "df.loc[df['user_score_nan']==\"tbd\",'user_score_nan']=np.NaN\n",
    "\n",
    "df['user_score']=df['user_score'].fillna(0)\n",
    "df.loc[df['user_score']==\"tbd\",'user_score']=0\n",
    "df['user_score']=df['user_score'].astype('float')*10"
   ]
  },
  {
   "cell_type": "code",
   "execution_count": 6,
   "metadata": {},
   "outputs": [],
   "source": [
    "df['critic_score']=df['critic_score'].fillna(0)"
   ]
  },
  {
   "cell_type": "code",
   "execution_count": 7,
   "metadata": {
    "scrolled": true
   },
   "outputs": [
    {
     "data": {
      "text/html": [
       "<div>\n",
       "<style scoped>\n",
       "    .dataframe tbody tr th:only-of-type {\n",
       "        vertical-align: middle;\n",
       "    }\n",
       "\n",
       "    .dataframe tbody tr th {\n",
       "        vertical-align: top;\n",
       "    }\n",
       "\n",
       "    .dataframe thead th {\n",
       "        text-align: right;\n",
       "    }\n",
       "</style>\n",
       "<table border=\"1\" class=\"dataframe\">\n",
       "  <thead>\n",
       "    <tr style=\"text-align: right;\">\n",
       "      <th></th>\n",
       "      <th>name</th>\n",
       "      <th>platform</th>\n",
       "      <th>year_of_release</th>\n",
       "      <th>genre</th>\n",
       "      <th>na_sales</th>\n",
       "      <th>eu_sales</th>\n",
       "      <th>jp_sales</th>\n",
       "      <th>other_sales</th>\n",
       "      <th>critic_score</th>\n",
       "      <th>user_score</th>\n",
       "      <th>rating</th>\n",
       "      <th>user_score_tbd</th>\n",
       "      <th>user_score_nan</th>\n",
       "    </tr>\n",
       "  </thead>\n",
       "  <tbody>\n",
       "    <tr>\n",
       "      <td>0</td>\n",
       "      <td>Wii Sports</td>\n",
       "      <td>Wii</td>\n",
       "      <td>2006.0</td>\n",
       "      <td>Sports</td>\n",
       "      <td>41.36</td>\n",
       "      <td>28.96</td>\n",
       "      <td>3.77</td>\n",
       "      <td>8.45</td>\n",
       "      <td>76.0</td>\n",
       "      <td>80.0</td>\n",
       "      <td>E</td>\n",
       "      <td>8</td>\n",
       "      <td>8</td>\n",
       "    </tr>\n",
       "    <tr>\n",
       "      <td>1</td>\n",
       "      <td>Super Mario Bros.</td>\n",
       "      <td>NES</td>\n",
       "      <td>1985.0</td>\n",
       "      <td>Platform</td>\n",
       "      <td>29.08</td>\n",
       "      <td>3.58</td>\n",
       "      <td>6.81</td>\n",
       "      <td>0.77</td>\n",
       "      <td>0.0</td>\n",
       "      <td>0.0</td>\n",
       "      <td>NaN</td>\n",
       "      <td>NaN</td>\n",
       "      <td>NaN</td>\n",
       "    </tr>\n",
       "    <tr>\n",
       "      <td>2</td>\n",
       "      <td>Mario Kart Wii</td>\n",
       "      <td>Wii</td>\n",
       "      <td>2008.0</td>\n",
       "      <td>Racing</td>\n",
       "      <td>15.68</td>\n",
       "      <td>12.76</td>\n",
       "      <td>3.79</td>\n",
       "      <td>3.29</td>\n",
       "      <td>82.0</td>\n",
       "      <td>83.0</td>\n",
       "      <td>E</td>\n",
       "      <td>8.3</td>\n",
       "      <td>8.3</td>\n",
       "    </tr>\n",
       "    <tr>\n",
       "      <td>3</td>\n",
       "      <td>Wii Sports Resort</td>\n",
       "      <td>Wii</td>\n",
       "      <td>2009.0</td>\n",
       "      <td>Sports</td>\n",
       "      <td>15.61</td>\n",
       "      <td>10.93</td>\n",
       "      <td>3.28</td>\n",
       "      <td>2.95</td>\n",
       "      <td>80.0</td>\n",
       "      <td>80.0</td>\n",
       "      <td>E</td>\n",
       "      <td>8</td>\n",
       "      <td>8</td>\n",
       "    </tr>\n",
       "    <tr>\n",
       "      <td>4</td>\n",
       "      <td>Pokemon Red/Pokemon Blue</td>\n",
       "      <td>GB</td>\n",
       "      <td>1996.0</td>\n",
       "      <td>Role-Playing</td>\n",
       "      <td>11.27</td>\n",
       "      <td>8.89</td>\n",
       "      <td>10.22</td>\n",
       "      <td>1.00</td>\n",
       "      <td>0.0</td>\n",
       "      <td>0.0</td>\n",
       "      <td>NaN</td>\n",
       "      <td>NaN</td>\n",
       "      <td>NaN</td>\n",
       "    </tr>\n",
       "  </tbody>\n",
       "</table>\n",
       "</div>"
      ],
      "text/plain": [
       "                       name platform  year_of_release         genre  na_sales  \\\n",
       "0                Wii Sports      Wii           2006.0        Sports     41.36   \n",
       "1         Super Mario Bros.      NES           1985.0      Platform     29.08   \n",
       "2            Mario Kart Wii      Wii           2008.0        Racing     15.68   \n",
       "3         Wii Sports Resort      Wii           2009.0        Sports     15.61   \n",
       "4  Pokemon Red/Pokemon Blue       GB           1996.0  Role-Playing     11.27   \n",
       "\n",
       "   eu_sales  jp_sales  other_sales  critic_score  user_score rating  \\\n",
       "0     28.96      3.77         8.45          76.0        80.0      E   \n",
       "1      3.58      6.81         0.77           0.0         0.0    NaN   \n",
       "2     12.76      3.79         3.29          82.0        83.0      E   \n",
       "3     10.93      3.28         2.95          80.0        80.0      E   \n",
       "4      8.89     10.22         1.00           0.0         0.0    NaN   \n",
       "\n",
       "  user_score_tbd user_score_nan  \n",
       "0              8              8  \n",
       "1            NaN            NaN  \n",
       "2            8.3            8.3  \n",
       "3              8              8  \n",
       "4            NaN            NaN  "
      ]
     },
     "execution_count": 7,
     "metadata": {},
     "output_type": "execute_result"
    }
   ],
   "source": [
    "df.head()"
   ]
  },
  {
   "cell_type": "markdown",
   "metadata": {},
   "source": [
    "### Calculate the total sales "
   ]
  },
  {
   "cell_type": "code",
   "execution_count": 8,
   "metadata": {},
   "outputs": [
    {
     "data": {
      "text/html": [
       "<div>\n",
       "<style scoped>\n",
       "    .dataframe tbody tr th:only-of-type {\n",
       "        vertical-align: middle;\n",
       "    }\n",
       "\n",
       "    .dataframe tbody tr th {\n",
       "        vertical-align: top;\n",
       "    }\n",
       "\n",
       "    .dataframe thead th {\n",
       "        text-align: right;\n",
       "    }\n",
       "</style>\n",
       "<table border=\"1\" class=\"dataframe\">\n",
       "  <thead>\n",
       "    <tr style=\"text-align: right;\">\n",
       "      <th></th>\n",
       "      <th>name</th>\n",
       "      <th>platform</th>\n",
       "      <th>year_of_release</th>\n",
       "      <th>genre</th>\n",
       "      <th>na_sales</th>\n",
       "      <th>eu_sales</th>\n",
       "      <th>jp_sales</th>\n",
       "      <th>other_sales</th>\n",
       "      <th>critic_score</th>\n",
       "      <th>user_score</th>\n",
       "      <th>rating</th>\n",
       "      <th>user_score_tbd</th>\n",
       "      <th>user_score_nan</th>\n",
       "      <th>total_sales</th>\n",
       "    </tr>\n",
       "  </thead>\n",
       "  <tbody>\n",
       "    <tr>\n",
       "      <td>0</td>\n",
       "      <td>Wii Sports</td>\n",
       "      <td>Wii</td>\n",
       "      <td>2006.0</td>\n",
       "      <td>Sports</td>\n",
       "      <td>41.36</td>\n",
       "      <td>28.96</td>\n",
       "      <td>3.77</td>\n",
       "      <td>8.45</td>\n",
       "      <td>76.0</td>\n",
       "      <td>80.0</td>\n",
       "      <td>E</td>\n",
       "      <td>8</td>\n",
       "      <td>8</td>\n",
       "      <td>82.54</td>\n",
       "    </tr>\n",
       "    <tr>\n",
       "      <td>1</td>\n",
       "      <td>Super Mario Bros.</td>\n",
       "      <td>NES</td>\n",
       "      <td>1985.0</td>\n",
       "      <td>Platform</td>\n",
       "      <td>29.08</td>\n",
       "      <td>3.58</td>\n",
       "      <td>6.81</td>\n",
       "      <td>0.77</td>\n",
       "      <td>0.0</td>\n",
       "      <td>0.0</td>\n",
       "      <td>NaN</td>\n",
       "      <td>NaN</td>\n",
       "      <td>NaN</td>\n",
       "      <td>40.24</td>\n",
       "    </tr>\n",
       "    <tr>\n",
       "      <td>2</td>\n",
       "      <td>Mario Kart Wii</td>\n",
       "      <td>Wii</td>\n",
       "      <td>2008.0</td>\n",
       "      <td>Racing</td>\n",
       "      <td>15.68</td>\n",
       "      <td>12.76</td>\n",
       "      <td>3.79</td>\n",
       "      <td>3.29</td>\n",
       "      <td>82.0</td>\n",
       "      <td>83.0</td>\n",
       "      <td>E</td>\n",
       "      <td>8.3</td>\n",
       "      <td>8.3</td>\n",
       "      <td>35.52</td>\n",
       "    </tr>\n",
       "    <tr>\n",
       "      <td>3</td>\n",
       "      <td>Wii Sports Resort</td>\n",
       "      <td>Wii</td>\n",
       "      <td>2009.0</td>\n",
       "      <td>Sports</td>\n",
       "      <td>15.61</td>\n",
       "      <td>10.93</td>\n",
       "      <td>3.28</td>\n",
       "      <td>2.95</td>\n",
       "      <td>80.0</td>\n",
       "      <td>80.0</td>\n",
       "      <td>E</td>\n",
       "      <td>8</td>\n",
       "      <td>8</td>\n",
       "      <td>32.77</td>\n",
       "    </tr>\n",
       "    <tr>\n",
       "      <td>4</td>\n",
       "      <td>Pokemon Red/Pokemon Blue</td>\n",
       "      <td>GB</td>\n",
       "      <td>1996.0</td>\n",
       "      <td>Role-Playing</td>\n",
       "      <td>11.27</td>\n",
       "      <td>8.89</td>\n",
       "      <td>10.22</td>\n",
       "      <td>1.00</td>\n",
       "      <td>0.0</td>\n",
       "      <td>0.0</td>\n",
       "      <td>NaN</td>\n",
       "      <td>NaN</td>\n",
       "      <td>NaN</td>\n",
       "      <td>31.38</td>\n",
       "    </tr>\n",
       "  </tbody>\n",
       "</table>\n",
       "</div>"
      ],
      "text/plain": [
       "                       name platform  year_of_release         genre  na_sales  \\\n",
       "0                Wii Sports      Wii           2006.0        Sports     41.36   \n",
       "1         Super Mario Bros.      NES           1985.0      Platform     29.08   \n",
       "2            Mario Kart Wii      Wii           2008.0        Racing     15.68   \n",
       "3         Wii Sports Resort      Wii           2009.0        Sports     15.61   \n",
       "4  Pokemon Red/Pokemon Blue       GB           1996.0  Role-Playing     11.27   \n",
       "\n",
       "   eu_sales  jp_sales  other_sales  critic_score  user_score rating  \\\n",
       "0     28.96      3.77         8.45          76.0        80.0      E   \n",
       "1      3.58      6.81         0.77           0.0         0.0    NaN   \n",
       "2     12.76      3.79         3.29          82.0        83.0      E   \n",
       "3     10.93      3.28         2.95          80.0        80.0      E   \n",
       "4      8.89     10.22         1.00           0.0         0.0    NaN   \n",
       "\n",
       "  user_score_tbd user_score_nan  total_sales  \n",
       "0              8              8        82.54  \n",
       "1            NaN            NaN        40.24  \n",
       "2            8.3            8.3        35.52  \n",
       "3              8              8        32.77  \n",
       "4            NaN            NaN        31.38  "
      ]
     },
     "execution_count": 8,
     "metadata": {},
     "output_type": "execute_result"
    }
   ],
   "source": [
    "df['total_sales'] = df[['na_sales', 'eu_sales', 'jp_sales', 'other_sales']].sum(axis=1)\n",
    "df.head()"
   ]
  },
  {
   "cell_type": "markdown",
   "metadata": {},
   "source": [
    "### Missing values"
   ]
  },
  {
   "cell_type": "code",
   "execution_count": 9,
   "metadata": {},
   "outputs": [],
   "source": [
    "num_of_games=len(df)"
   ]
  },
  {
   "cell_type": "markdown",
   "metadata": {},
   "source": [
    "#### Name"
   ]
  },
  {
   "cell_type": "code",
   "execution_count": 10,
   "metadata": {},
   "outputs": [
    {
     "data": {
      "text/plain": [
       "'Percent of games without names is: 0.01%'"
      ]
     },
     "execution_count": 10,
     "metadata": {},
     "output_type": "execute_result"
    }
   ],
   "source": [
    "num_of_missing_name=len(df.loc[df['name'].isnull()])\n",
    "'Percent of games without names is: {:.2%}'.format(num_of_missing_name/num_of_games)"
   ]
  },
  {
   "cell_type": "markdown",
   "metadata": {},
   "source": [
    "Only 0.01% of the games has no name. This is a very small percentage, and I'll drop those rows.  \n",
    "The games without names might be due to a mistake in the process of entering data to the system."
   ]
  },
  {
   "cell_type": "code",
   "execution_count": 11,
   "metadata": {},
   "outputs": [],
   "source": [
    "df=df.dropna(subset=['name'])"
   ]
  },
  {
   "cell_type": "markdown",
   "metadata": {},
   "source": [
    "#### Year_of_Release"
   ]
  },
  {
   "cell_type": "code",
   "execution_count": 12,
   "metadata": {},
   "outputs": [
    {
     "data": {
      "text/plain": [
       "'Percent of games without year_of_release is: 1.61%'"
      ]
     },
     "execution_count": 12,
     "metadata": {},
     "output_type": "execute_result"
    }
   ],
   "source": [
    "df_no_year_of_release=df.loc[df['year_of_release'].isnull()]\n",
    "num_of_missing_year_of_release=len(df_no_year_of_release)\n",
    "'Percent of games without year_of_release is: {:.2%}'.format(num_of_missing_year_of_release/num_of_games)"
   ]
  },
  {
   "cell_type": "code",
   "execution_count": 13,
   "metadata": {},
   "outputs": [
    {
     "data": {
      "text/plain": [
       "platform\n",
       "2600    17\n",
       "3DS      8\n",
       "DS      30\n",
       "GB       1\n",
       "GBA     11\n",
       "GC      14\n",
       "N64      3\n",
       "PC      17\n",
       "PS       7\n",
       "PS2     34\n",
       "PS3     25\n",
       "PSP     16\n",
       "PSV      1\n",
       "Wii     34\n",
       "X360    30\n",
       "XB      21\n",
       "Name: name, dtype: int64"
      ]
     },
     "execution_count": 13,
     "metadata": {},
     "output_type": "execute_result"
    }
   ],
   "source": [
    "df_no_year_of_release.groupby('platform')['name'].count()"
   ]
  },
  {
   "cell_type": "markdown",
   "metadata": {},
   "source": [
    "I checked several of the platforms which don't have year_of_release data, and those are old platforms.  \n",
    "Old platforms are not relevant for that research that aims at advertising in the year 2017.  \n",
    "Therefore it is safe to remove those lines, beside that there are only 1.61% lines like that"
   ]
  },
  {
   "cell_type": "markdown",
   "metadata": {},
   "source": [
    "Sample of those old platforms, and the year of release:\n",
    "PSV=PlayStation Vita, 2012  \n",
    "NES=Nintendo Entertainment System, 1985  \n",
    "3DS=Nintendo 3DS, 2012  \n",
    "DS=Nintendo DS, 2004  \n",
    "GB=Game Boy, 1990  \n",
    "WII=WII, 2006"
   ]
  },
  {
   "cell_type": "markdown",
   "metadata": {},
   "source": [
    "I want to see what is the maximum revenue for the games of old platforms which have no data at the year_of_release column, and compare it to other games that have that data."
   ]
  },
  {
   "cell_type": "code",
   "execution_count": 14,
   "metadata": {},
   "outputs": [
    {
     "data": {
      "text/html": [
       "<div>\n",
       "<style scoped>\n",
       "    .dataframe tbody tr th:only-of-type {\n",
       "        vertical-align: middle;\n",
       "    }\n",
       "\n",
       "    .dataframe tbody tr th {\n",
       "        vertical-align: top;\n",
       "    }\n",
       "\n",
       "    .dataframe thead th {\n",
       "        text-align: right;\n",
       "    }\n",
       "</style>\n",
       "<table border=\"1\" class=\"dataframe\">\n",
       "  <thead>\n",
       "    <tr style=\"text-align: right;\">\n",
       "      <th></th>\n",
       "      <th>na_sales</th>\n",
       "      <th>eu_sales</th>\n",
       "      <th>jp_sales</th>\n",
       "      <th>other_sales</th>\n",
       "      <th>index</th>\n",
       "    </tr>\n",
       "  </thead>\n",
       "  <tbody>\n",
       "    <tr>\n",
       "      <td>count</td>\n",
       "      <td>269.000000</td>\n",
       "      <td>269.000000</td>\n",
       "      <td>269.000000</td>\n",
       "      <td>269.000000</td>\n",
       "      <td>count</td>\n",
       "    </tr>\n",
       "    <tr>\n",
       "      <td>mean</td>\n",
       "      <td>0.219888</td>\n",
       "      <td>0.090929</td>\n",
       "      <td>0.024907</td>\n",
       "      <td>0.032007</td>\n",
       "      <td>mean</td>\n",
       "    </tr>\n",
       "    <tr>\n",
       "      <td>std</td>\n",
       "      <td>0.424907</td>\n",
       "      <td>0.207933</td>\n",
       "      <td>0.090160</td>\n",
       "      <td>0.075546</td>\n",
       "      <td>std</td>\n",
       "    </tr>\n",
       "    <tr>\n",
       "      <td>min</td>\n",
       "      <td>0.000000</td>\n",
       "      <td>0.000000</td>\n",
       "      <td>0.000000</td>\n",
       "      <td>0.000000</td>\n",
       "      <td>min</td>\n",
       "    </tr>\n",
       "    <tr>\n",
       "      <td>25%</td>\n",
       "      <td>0.010000</td>\n",
       "      <td>0.000000</td>\n",
       "      <td>0.000000</td>\n",
       "      <td>0.000000</td>\n",
       "      <td>25%</td>\n",
       "    </tr>\n",
       "    <tr>\n",
       "      <td>50%</td>\n",
       "      <td>0.090000</td>\n",
       "      <td>0.020000</td>\n",
       "      <td>0.000000</td>\n",
       "      <td>0.010000</td>\n",
       "      <td>50%</td>\n",
       "    </tr>\n",
       "    <tr>\n",
       "      <td>75%</td>\n",
       "      <td>0.240000</td>\n",
       "      <td>0.100000</td>\n",
       "      <td>0.000000</td>\n",
       "      <td>0.030000</td>\n",
       "      <td>75%</td>\n",
       "    </tr>\n",
       "    <tr>\n",
       "      <td>max</td>\n",
       "      <td>4.260000</td>\n",
       "      <td>2.360000</td>\n",
       "      <td>0.770000</td>\n",
       "      <td>0.710000</td>\n",
       "      <td>max</td>\n",
       "    </tr>\n",
       "  </tbody>\n",
       "</table>\n",
       "</div>"
      ],
      "text/plain": [
       "         na_sales    eu_sales    jp_sales  other_sales  index\n",
       "count  269.000000  269.000000  269.000000   269.000000  count\n",
       "mean     0.219888    0.090929    0.024907     0.032007   mean\n",
       "std      0.424907    0.207933    0.090160     0.075546    std\n",
       "min      0.000000    0.000000    0.000000     0.000000    min\n",
       "25%      0.010000    0.000000    0.000000     0.000000    25%\n",
       "50%      0.090000    0.020000    0.000000     0.010000    50%\n",
       "75%      0.240000    0.100000    0.000000     0.030000    75%\n",
       "max      4.260000    2.360000    0.770000     0.710000    max"
      ]
     },
     "execution_count": 14,
     "metadata": {},
     "output_type": "execute_result"
    }
   ],
   "source": [
    "desc_no_year=df_no_year_of_release.describe()[['na_sales', 'eu_sales', 'jp_sales','other_sales']]\n",
    "desc_no_year['index']=desc_no_year.index\n",
    "desc_no_year"
   ]
  },
  {
   "cell_type": "code",
   "execution_count": 15,
   "metadata": {},
   "outputs": [
    {
     "data": {
      "text/html": [
       "<div>\n",
       "<style scoped>\n",
       "    .dataframe tbody tr th:only-of-type {\n",
       "        vertical-align: middle;\n",
       "    }\n",
       "\n",
       "    .dataframe tbody tr th {\n",
       "        vertical-align: top;\n",
       "    }\n",
       "\n",
       "    .dataframe thead th {\n",
       "        text-align: right;\n",
       "    }\n",
       "</style>\n",
       "<table border=\"1\" class=\"dataframe\">\n",
       "  <thead>\n",
       "    <tr style=\"text-align: right;\">\n",
       "      <th></th>\n",
       "      <th>na_sales</th>\n",
       "      <th>eu_sales</th>\n",
       "      <th>jp_sales</th>\n",
       "      <th>other_sales</th>\n",
       "      <th>index</th>\n",
       "    </tr>\n",
       "  </thead>\n",
       "  <tbody>\n",
       "    <tr>\n",
       "      <td>count</td>\n",
       "      <td>16713.000000</td>\n",
       "      <td>16713.000000</td>\n",
       "      <td>16713.000000</td>\n",
       "      <td>16713.000000</td>\n",
       "      <td>count</td>\n",
       "    </tr>\n",
       "    <tr>\n",
       "      <td>mean</td>\n",
       "      <td>0.263302</td>\n",
       "      <td>0.145045</td>\n",
       "      <td>0.077625</td>\n",
       "      <td>0.047343</td>\n",
       "      <td>mean</td>\n",
       "    </tr>\n",
       "    <tr>\n",
       "      <td>std</td>\n",
       "      <td>0.813565</td>\n",
       "      <td>0.503359</td>\n",
       "      <td>0.308871</td>\n",
       "      <td>0.186742</td>\n",
       "      <td>std</td>\n",
       "    </tr>\n",
       "    <tr>\n",
       "      <td>min</td>\n",
       "      <td>0.000000</td>\n",
       "      <td>0.000000</td>\n",
       "      <td>0.000000</td>\n",
       "      <td>0.000000</td>\n",
       "      <td>min</td>\n",
       "    </tr>\n",
       "    <tr>\n",
       "      <td>25%</td>\n",
       "      <td>0.000000</td>\n",
       "      <td>0.000000</td>\n",
       "      <td>0.000000</td>\n",
       "      <td>0.000000</td>\n",
       "      <td>25%</td>\n",
       "    </tr>\n",
       "    <tr>\n",
       "      <td>50%</td>\n",
       "      <td>0.080000</td>\n",
       "      <td>0.020000</td>\n",
       "      <td>0.000000</td>\n",
       "      <td>0.010000</td>\n",
       "      <td>50%</td>\n",
       "    </tr>\n",
       "    <tr>\n",
       "      <td>75%</td>\n",
       "      <td>0.240000</td>\n",
       "      <td>0.110000</td>\n",
       "      <td>0.040000</td>\n",
       "      <td>0.030000</td>\n",
       "      <td>75%</td>\n",
       "    </tr>\n",
       "    <tr>\n",
       "      <td>max</td>\n",
       "      <td>41.360000</td>\n",
       "      <td>28.960000</td>\n",
       "      <td>10.220000</td>\n",
       "      <td>10.570000</td>\n",
       "      <td>max</td>\n",
       "    </tr>\n",
       "  </tbody>\n",
       "</table>\n",
       "</div>"
      ],
      "text/plain": [
       "           na_sales      eu_sales      jp_sales   other_sales  index\n",
       "count  16713.000000  16713.000000  16713.000000  16713.000000  count\n",
       "mean       0.263302      0.145045      0.077625      0.047343   mean\n",
       "std        0.813565      0.503359      0.308871      0.186742    std\n",
       "min        0.000000      0.000000      0.000000      0.000000    min\n",
       "25%        0.000000      0.000000      0.000000      0.000000    25%\n",
       "50%        0.080000      0.020000      0.000000      0.010000    50%\n",
       "75%        0.240000      0.110000      0.040000      0.030000    75%\n",
       "max       41.360000     28.960000     10.220000     10.570000    max"
      ]
     },
     "execution_count": 15,
     "metadata": {},
     "output_type": "execute_result"
    }
   ],
   "source": [
    "desc=df.describe()[['na_sales', 'eu_sales', 'jp_sales','other_sales']]\n",
    "desc['index']=desc.index\n",
    "desc"
   ]
  },
  {
   "cell_type": "code",
   "execution_count": 16,
   "metadata": {},
   "outputs": [
    {
     "data": {
      "text/html": [
       "<div>\n",
       "<style scoped>\n",
       "    .dataframe tbody tr th:only-of-type {\n",
       "        vertical-align: middle;\n",
       "    }\n",
       "\n",
       "    .dataframe tbody tr th {\n",
       "        vertical-align: top;\n",
       "    }\n",
       "\n",
       "    .dataframe thead tr th {\n",
       "        text-align: left;\n",
       "    }\n",
       "\n",
       "    .dataframe thead tr:last-of-type th {\n",
       "        text-align: right;\n",
       "    }\n",
       "</style>\n",
       "<table border=\"1\" class=\"dataframe\">\n",
       "  <thead>\n",
       "    <tr>\n",
       "      <th></th>\n",
       "      <th colspan=\"4\" halign=\"left\">Has year_of_release data</th>\n",
       "      <th colspan=\"4\" halign=\"left\">No year_of_release data</th>\n",
       "    </tr>\n",
       "    <tr>\n",
       "      <th></th>\n",
       "      <th>na_sales</th>\n",
       "      <th>eu_sales</th>\n",
       "      <th>jp_sales</th>\n",
       "      <th>other_sales</th>\n",
       "      <th>na_sales</th>\n",
       "      <th>eu_sales</th>\n",
       "      <th>jp_sales</th>\n",
       "      <th>other_sales</th>\n",
       "    </tr>\n",
       "    <tr>\n",
       "      <th>index</th>\n",
       "      <th></th>\n",
       "      <th></th>\n",
       "      <th></th>\n",
       "      <th></th>\n",
       "      <th></th>\n",
       "      <th></th>\n",
       "      <th></th>\n",
       "      <th></th>\n",
       "    </tr>\n",
       "  </thead>\n",
       "  <tbody>\n",
       "    <tr>\n",
       "      <td>count</td>\n",
       "      <td>16713.000000</td>\n",
       "      <td>16713.000000</td>\n",
       "      <td>16713.000000</td>\n",
       "      <td>16713.000000</td>\n",
       "      <td>269.000000</td>\n",
       "      <td>269.000000</td>\n",
       "      <td>269.000000</td>\n",
       "      <td>269.000000</td>\n",
       "    </tr>\n",
       "    <tr>\n",
       "      <td>mean</td>\n",
       "      <td>0.263302</td>\n",
       "      <td>0.145045</td>\n",
       "      <td>0.077625</td>\n",
       "      <td>0.047343</td>\n",
       "      <td>0.219888</td>\n",
       "      <td>0.090929</td>\n",
       "      <td>0.024907</td>\n",
       "      <td>0.032007</td>\n",
       "    </tr>\n",
       "    <tr>\n",
       "      <td>std</td>\n",
       "      <td>0.813565</td>\n",
       "      <td>0.503359</td>\n",
       "      <td>0.308871</td>\n",
       "      <td>0.186742</td>\n",
       "      <td>0.424907</td>\n",
       "      <td>0.207933</td>\n",
       "      <td>0.090160</td>\n",
       "      <td>0.075546</td>\n",
       "    </tr>\n",
       "    <tr>\n",
       "      <td>min</td>\n",
       "      <td>0.000000</td>\n",
       "      <td>0.000000</td>\n",
       "      <td>0.000000</td>\n",
       "      <td>0.000000</td>\n",
       "      <td>0.000000</td>\n",
       "      <td>0.000000</td>\n",
       "      <td>0.000000</td>\n",
       "      <td>0.000000</td>\n",
       "    </tr>\n",
       "    <tr>\n",
       "      <td>25%</td>\n",
       "      <td>0.000000</td>\n",
       "      <td>0.000000</td>\n",
       "      <td>0.000000</td>\n",
       "      <td>0.000000</td>\n",
       "      <td>0.010000</td>\n",
       "      <td>0.000000</td>\n",
       "      <td>0.000000</td>\n",
       "      <td>0.000000</td>\n",
       "    </tr>\n",
       "    <tr>\n",
       "      <td>50%</td>\n",
       "      <td>0.080000</td>\n",
       "      <td>0.020000</td>\n",
       "      <td>0.000000</td>\n",
       "      <td>0.010000</td>\n",
       "      <td>0.090000</td>\n",
       "      <td>0.020000</td>\n",
       "      <td>0.000000</td>\n",
       "      <td>0.010000</td>\n",
       "    </tr>\n",
       "    <tr>\n",
       "      <td>75%</td>\n",
       "      <td>0.240000</td>\n",
       "      <td>0.110000</td>\n",
       "      <td>0.040000</td>\n",
       "      <td>0.030000</td>\n",
       "      <td>0.240000</td>\n",
       "      <td>0.100000</td>\n",
       "      <td>0.000000</td>\n",
       "      <td>0.030000</td>\n",
       "    </tr>\n",
       "    <tr>\n",
       "      <td>max</td>\n",
       "      <td>41.360000</td>\n",
       "      <td>28.960000</td>\n",
       "      <td>10.220000</td>\n",
       "      <td>10.570000</td>\n",
       "      <td>4.260000</td>\n",
       "      <td>2.360000</td>\n",
       "      <td>0.770000</td>\n",
       "      <td>0.710000</td>\n",
       "    </tr>\n",
       "  </tbody>\n",
       "</table>\n",
       "</div>"
      ],
      "text/plain": [
       "      Has year_of_release data                                            \\\n",
       "                      na_sales      eu_sales      jp_sales   other_sales   \n",
       "index                                                                      \n",
       "count             16713.000000  16713.000000  16713.000000  16713.000000   \n",
       "mean                  0.263302      0.145045      0.077625      0.047343   \n",
       "std                   0.813565      0.503359      0.308871      0.186742   \n",
       "min                   0.000000      0.000000      0.000000      0.000000   \n",
       "25%                   0.000000      0.000000      0.000000      0.000000   \n",
       "50%                   0.080000      0.020000      0.000000      0.010000   \n",
       "75%                   0.240000      0.110000      0.040000      0.030000   \n",
       "max                  41.360000     28.960000     10.220000     10.570000   \n",
       "\n",
       "      No year_of_release data                                      \n",
       "                     na_sales    eu_sales    jp_sales other_sales  \n",
       "index                                                              \n",
       "count              269.000000  269.000000  269.000000  269.000000  \n",
       "mean                 0.219888    0.090929    0.024907    0.032007  \n",
       "std                  0.424907    0.207933    0.090160    0.075546  \n",
       "min                  0.000000    0.000000    0.000000    0.000000  \n",
       "25%                  0.010000    0.000000    0.000000    0.000000  \n",
       "50%                  0.090000    0.020000    0.000000    0.010000  \n",
       "75%                  0.240000    0.100000    0.000000    0.030000  \n",
       "max                  4.260000    2.360000    0.770000    0.710000  "
      ]
     },
     "execution_count": 16,
     "metadata": {},
     "output_type": "execute_result"
    }
   ],
   "source": [
    "desc_all = pd.concat([desc.set_index('index'), desc_no_year.set_index('index')], keys=['Has year_of_release data', 'No year_of_release data'], axis='columns')\n",
    "desc_all"
   ]
  },
  {
   "cell_type": "markdown",
   "metadata": {},
   "source": [
    "Looking at the maximum values for game sales at those 2 datasets shows that data of games without the year_of_release data, which is related to old platforms have much weaker sales compare to games of newer platforms.  \n",
    "For example, in North America, the best seller game has sales of 41.36 compared to 4.26 on the old platforms (the numbers are in millions of dollars)  \n",
    "  \n",
    "Old games of old platforms with weak sales probably won't be a best-seller next year and can be safely dropped."
   ]
  },
  {
   "cell_type": "code",
   "execution_count": 17,
   "metadata": {},
   "outputs": [],
   "source": [
    "df=df.dropna(subset=['year_of_release'])"
   ]
  },
  {
   "cell_type": "markdown",
   "metadata": {},
   "source": [
    "#### Critic_Score, User_Score, Rating"
   ]
  },
  {
   "cell_type": "code",
   "execution_count": 18,
   "metadata": {},
   "outputs": [
    {
     "data": {
      "text/plain": [
       "'Percent of games without critic_score is: 0.00%'"
      ]
     },
     "execution_count": 18,
     "metadata": {},
     "output_type": "execute_result"
    }
   ],
   "source": [
    "num_of_missing_critic_score=len(df.loc[df['critic_score'].isnull()])\n",
    "'Percent of games without critic_score is: {:.2%}'.format(num_of_missing_critic_score/num_of_games)"
   ]
  },
  {
   "cell_type": "code",
   "execution_count": 19,
   "metadata": {},
   "outputs": [
    {
     "data": {
      "text/plain": [
       "'Percent of games without user_score is: 0.00%'"
      ]
     },
     "execution_count": 19,
     "metadata": {},
     "output_type": "execute_result"
    }
   ],
   "source": [
    "num_of_missing_user_score=len(df.loc[df['user_score'].isnull()])\n",
    "'Percent of games without user_score is: {:.2%}'.format(num_of_missing_user_score/num_of_games)"
   ]
  },
  {
   "cell_type": "code",
   "execution_count": 20,
   "metadata": {},
   "outputs": [
    {
     "data": {
      "text/plain": [
       "'Percent of games without rating is: 39.94%'"
      ]
     },
     "execution_count": 20,
     "metadata": {},
     "output_type": "execute_result"
    }
   ],
   "source": [
    "num_of_missing_rating=len(df.loc[df['rating'].isnull()])\n",
    "'Percent of games without rating is: {:.2%}'.format(num_of_missing_rating/num_of_games)"
   ]
  },
  {
   "cell_type": "markdown",
   "metadata": {},
   "source": [
    "A very large number of games don't have those score/rating data. This data can't be filled.  \n",
    "There might be several reasons some games don't have data.  \n",
    "1. Old games, that came out before the internet era has began or before Ice company was established.\n",
    "2. Esoteric games that weren't checked by critics\n",
    "3. Esoteric games that weren't scored by players  \n",
    "4. Esoteric platforms that failed in sales\n",
    "  \n",
    "For example, in the next table, there are 2 games.  \n",
    "The __Super Mario Bros.__ game was released in 1985 and still has very nice sales.  \n",
    "The other game, __Winning Post 8 2016__, was released in 2016 and has almost no sales."
   ]
  },
  {
   "cell_type": "code",
   "execution_count": 21,
   "metadata": {},
   "outputs": [
    {
     "data": {
      "text/html": [
       "<div>\n",
       "<style scoped>\n",
       "    .dataframe tbody tr th:only-of-type {\n",
       "        vertical-align: middle;\n",
       "    }\n",
       "\n",
       "    .dataframe tbody tr th {\n",
       "        vertical-align: top;\n",
       "    }\n",
       "\n",
       "    .dataframe thead th {\n",
       "        text-align: right;\n",
       "    }\n",
       "</style>\n",
       "<table border=\"1\" class=\"dataframe\">\n",
       "  <thead>\n",
       "    <tr style=\"text-align: right;\">\n",
       "      <th></th>\n",
       "      <th>name</th>\n",
       "      <th>platform</th>\n",
       "      <th>year_of_release</th>\n",
       "      <th>genre</th>\n",
       "      <th>na_sales</th>\n",
       "      <th>eu_sales</th>\n",
       "      <th>jp_sales</th>\n",
       "      <th>other_sales</th>\n",
       "      <th>critic_score</th>\n",
       "      <th>user_score</th>\n",
       "      <th>rating</th>\n",
       "      <th>user_score_tbd</th>\n",
       "      <th>user_score_nan</th>\n",
       "      <th>total_sales</th>\n",
       "    </tr>\n",
       "  </thead>\n",
       "  <tbody>\n",
       "  </tbody>\n",
       "</table>\n",
       "</div>"
      ],
      "text/plain": [
       "Empty DataFrame\n",
       "Columns: [name, platform, year_of_release, genre, na_sales, eu_sales, jp_sales, other_sales, critic_score, user_score, rating, user_score_tbd, user_score_nan, total_sales]\n",
       "Index: []"
      ]
     },
     "execution_count": 21,
     "metadata": {},
     "output_type": "execute_result"
    }
   ],
   "source": [
    "df.loc[(df['critic_score'].isnull()) & ((df['name']=='Winning Post 8 2016') | ((df['name']=='Super Mario Bros.')))]"
   ]
  },
  {
   "cell_type": "markdown",
   "metadata": {},
   "source": [
    "In the next table there are certain platfomrs that weren't given any  score not by users nor by critics and even didn't get any rating"
   ]
  },
  {
   "cell_type": "code",
   "execution_count": 22,
   "metadata": {},
   "outputs": [
    {
     "data": {
      "text/html": [
       "<div>\n",
       "<style scoped>\n",
       "    .dataframe tbody tr th:only-of-type {\n",
       "        vertical-align: middle;\n",
       "    }\n",
       "\n",
       "    .dataframe tbody tr th {\n",
       "        vertical-align: top;\n",
       "    }\n",
       "\n",
       "    .dataframe thead th {\n",
       "        text-align: right;\n",
       "    }\n",
       "</style>\n",
       "<table border=\"1\" class=\"dataframe\">\n",
       "  <thead>\n",
       "    <tr style=\"text-align: right;\">\n",
       "      <th></th>\n",
       "      <th>critic_score</th>\n",
       "      <th>rating</th>\n",
       "      <th>user_score</th>\n",
       "      <th>index</th>\n",
       "    </tr>\n",
       "    <tr>\n",
       "      <th>platform</th>\n",
       "      <th></th>\n",
       "      <th></th>\n",
       "      <th></th>\n",
       "      <th></th>\n",
       "    </tr>\n",
       "  </thead>\n",
       "  <tbody>\n",
       "    <tr>\n",
       "      <td>2600</td>\n",
       "      <td>116</td>\n",
       "      <td>0</td>\n",
       "      <td>116</td>\n",
       "      <td>2600</td>\n",
       "    </tr>\n",
       "    <tr>\n",
       "      <td>PCFX</td>\n",
       "      <td>1</td>\n",
       "      <td>0</td>\n",
       "      <td>1</td>\n",
       "      <td>PCFX</td>\n",
       "    </tr>\n",
       "    <tr>\n",
       "      <td>SCD</td>\n",
       "      <td>6</td>\n",
       "      <td>0</td>\n",
       "      <td>6</td>\n",
       "      <td>SCD</td>\n",
       "    </tr>\n",
       "    <tr>\n",
       "      <td>NG</td>\n",
       "      <td>12</td>\n",
       "      <td>0</td>\n",
       "      <td>12</td>\n",
       "      <td>NG</td>\n",
       "    </tr>\n",
       "    <tr>\n",
       "      <td>NES</td>\n",
       "      <td>98</td>\n",
       "      <td>0</td>\n",
       "      <td>98</td>\n",
       "      <td>NES</td>\n",
       "    </tr>\n",
       "    <tr>\n",
       "      <td>N64</td>\n",
       "      <td>316</td>\n",
       "      <td>0</td>\n",
       "      <td>316</td>\n",
       "      <td>N64</td>\n",
       "    </tr>\n",
       "    <tr>\n",
       "      <td>GG</td>\n",
       "      <td>1</td>\n",
       "      <td>0</td>\n",
       "      <td>1</td>\n",
       "      <td>GG</td>\n",
       "    </tr>\n",
       "    <tr>\n",
       "      <td>SAT</td>\n",
       "      <td>173</td>\n",
       "      <td>0</td>\n",
       "      <td>173</td>\n",
       "      <td>SAT</td>\n",
       "    </tr>\n",
       "    <tr>\n",
       "      <td>GEN</td>\n",
       "      <td>27</td>\n",
       "      <td>0</td>\n",
       "      <td>27</td>\n",
       "      <td>GEN</td>\n",
       "    </tr>\n",
       "    <tr>\n",
       "      <td>TG16</td>\n",
       "      <td>2</td>\n",
       "      <td>0</td>\n",
       "      <td>2</td>\n",
       "      <td>TG16</td>\n",
       "    </tr>\n",
       "    <tr>\n",
       "      <td>GB</td>\n",
       "      <td>97</td>\n",
       "      <td>0</td>\n",
       "      <td>97</td>\n",
       "      <td>GB</td>\n",
       "    </tr>\n",
       "    <tr>\n",
       "      <td>WS</td>\n",
       "      <td>6</td>\n",
       "      <td>0</td>\n",
       "      <td>6</td>\n",
       "      <td>WS</td>\n",
       "    </tr>\n",
       "    <tr>\n",
       "      <td>3DO</td>\n",
       "      <td>3</td>\n",
       "      <td>0</td>\n",
       "      <td>3</td>\n",
       "      <td>3DO</td>\n",
       "    </tr>\n",
       "    <tr>\n",
       "      <td>SNES</td>\n",
       "      <td>239</td>\n",
       "      <td>0</td>\n",
       "      <td>239</td>\n",
       "      <td>SNES</td>\n",
       "    </tr>\n",
       "    <tr>\n",
       "      <td>DC</td>\n",
       "      <td>52</td>\n",
       "      <td>14</td>\n",
       "      <td>52</td>\n",
       "      <td>DC</td>\n",
       "    </tr>\n",
       "    <tr>\n",
       "      <td>WiiU</td>\n",
       "      <td>147</td>\n",
       "      <td>105</td>\n",
       "      <td>147</td>\n",
       "      <td>WiiU</td>\n",
       "    </tr>\n",
       "    <tr>\n",
       "      <td>PSV</td>\n",
       "      <td>429</td>\n",
       "      <td>150</td>\n",
       "      <td>429</td>\n",
       "      <td>PSV</td>\n",
       "    </tr>\n",
       "    <tr>\n",
       "      <td>XOne</td>\n",
       "      <td>247</td>\n",
       "      <td>186</td>\n",
       "      <td>247</td>\n",
       "      <td>XOne</td>\n",
       "    </tr>\n",
       "    <tr>\n",
       "      <td>PS</td>\n",
       "      <td>1190</td>\n",
       "      <td>204</td>\n",
       "      <td>1190</td>\n",
       "      <td>PS</td>\n",
       "    </tr>\n",
       "    <tr>\n",
       "      <td>3DS</td>\n",
       "      <td>512</td>\n",
       "      <td>223</td>\n",
       "      <td>512</td>\n",
       "      <td>3DS</td>\n",
       "    </tr>\n",
       "    <tr>\n",
       "      <td>PS4</td>\n",
       "      <td>392</td>\n",
       "      <td>255</td>\n",
       "      <td>392</td>\n",
       "      <td>PS4</td>\n",
       "    </tr>\n",
       "    <tr>\n",
       "      <td>GC</td>\n",
       "      <td>542</td>\n",
       "      <td>457</td>\n",
       "      <td>542</td>\n",
       "      <td>GC</td>\n",
       "    </tr>\n",
       "    <tr>\n",
       "      <td>GBA</td>\n",
       "      <td>811</td>\n",
       "      <td>514</td>\n",
       "      <td>811</td>\n",
       "      <td>GBA</td>\n",
       "    </tr>\n",
       "    <tr>\n",
       "      <td>PSP</td>\n",
       "      <td>1193</td>\n",
       "      <td>536</td>\n",
       "      <td>1193</td>\n",
       "      <td>PSP</td>\n",
       "    </tr>\n",
       "    <tr>\n",
       "      <td>XB</td>\n",
       "      <td>803</td>\n",
       "      <td>714</td>\n",
       "      <td>803</td>\n",
       "      <td>XB</td>\n",
       "    </tr>\n",
       "    <tr>\n",
       "      <td>PC</td>\n",
       "      <td>957</td>\n",
       "      <td>757</td>\n",
       "      <td>957</td>\n",
       "      <td>PC</td>\n",
       "    </tr>\n",
       "    <tr>\n",
       "      <td>PS3</td>\n",
       "      <td>1306</td>\n",
       "      <td>935</td>\n",
       "      <td>1306</td>\n",
       "      <td>PS3</td>\n",
       "    </tr>\n",
       "    <tr>\n",
       "      <td>Wii</td>\n",
       "      <td>1286</td>\n",
       "      <td>977</td>\n",
       "      <td>1286</td>\n",
       "      <td>Wii</td>\n",
       "    </tr>\n",
       "    <tr>\n",
       "      <td>X360</td>\n",
       "      <td>1232</td>\n",
       "      <td>1030</td>\n",
       "      <td>1232</td>\n",
       "      <td>X360</td>\n",
       "    </tr>\n",
       "    <tr>\n",
       "      <td>DS</td>\n",
       "      <td>2121</td>\n",
       "      <td>1255</td>\n",
       "      <td>2121</td>\n",
       "      <td>DS</td>\n",
       "    </tr>\n",
       "    <tr>\n",
       "      <td>PS2</td>\n",
       "      <td>2127</td>\n",
       "      <td>1456</td>\n",
       "      <td>2127</td>\n",
       "      <td>PS2</td>\n",
       "    </tr>\n",
       "  </tbody>\n",
       "</table>\n",
       "</div>"
      ],
      "text/plain": [
       "          critic_score  rating  user_score index\n",
       "platform                                        \n",
       "2600               116       0         116  2600\n",
       "PCFX                 1       0           1  PCFX\n",
       "SCD                  6       0           6   SCD\n",
       "NG                  12       0          12    NG\n",
       "NES                 98       0          98   NES\n",
       "N64                316       0         316   N64\n",
       "GG                   1       0           1    GG\n",
       "SAT                173       0         173   SAT\n",
       "GEN                 27       0          27   GEN\n",
       "TG16                 2       0           2  TG16\n",
       "GB                  97       0          97    GB\n",
       "WS                   6       0           6    WS\n",
       "3DO                  3       0           3   3DO\n",
       "SNES               239       0         239  SNES\n",
       "DC                  52      14          52    DC\n",
       "WiiU               147     105         147  WiiU\n",
       "PSV                429     150         429   PSV\n",
       "XOne               247     186         247  XOne\n",
       "PS                1190     204        1190    PS\n",
       "3DS                512     223         512   3DS\n",
       "PS4                392     255         392   PS4\n",
       "GC                 542     457         542    GC\n",
       "GBA                811     514         811   GBA\n",
       "PSP               1193     536        1193   PSP\n",
       "XB                 803     714         803    XB\n",
       "PC                 957     757         957    PC\n",
       "PS3               1306     935        1306   PS3\n",
       "Wii               1286     977        1286   Wii\n",
       "X360              1232    1030        1232  X360\n",
       "DS                2121    1255        2121    DS\n",
       "PS2               2127    1456        2127   PS2"
      ]
     },
     "execution_count": 22,
     "metadata": {},
     "output_type": "execute_result"
    }
   ],
   "source": [
    "vals=['critic_score', 'user_score', 'rating']\n",
    "df_score_platform=df.pivot_table(index='platform', values=vals, aggfunc='count').sort_values('rating')\n",
    "df_score_platform['index']=df_score_platform.index\n",
    "df_score_platform"
   ]
  },
  {
   "cell_type": "markdown",
   "metadata": {},
   "source": [
    "#### The user_score column has a strange value - TBD (to be determined)."
   ]
  },
  {
   "cell_type": "code",
   "execution_count": 23,
   "metadata": {},
   "outputs": [
    {
     "data": {
      "text/plain": [
       "2376"
      ]
     },
     "execution_count": 23,
     "metadata": {},
     "output_type": "execute_result"
    }
   ],
   "source": [
    "num_of_tbd=len(df.loc[(df['user_score_tbd']=='tbd')])\n",
    "num_of_tbd"
   ]
  },
  {
   "cell_type": "code",
   "execution_count": 24,
   "metadata": {},
   "outputs": [
    {
     "data": {
      "text/plain": [
       "46"
      ]
     },
     "execution_count": 24,
     "metadata": {},
     "output_type": "execute_result"
    }
   ],
   "source": [
    "num_of_tbd_no_other_data=len(df.loc[(df['user_score_tbd']=='tbd') & (df['rating'].isnull()) & (df['critic_score']==0)])\n",
    "num_of_tbd_no_other_data"
   ]
  },
  {
   "cell_type": "code",
   "execution_count": 25,
   "metadata": {},
   "outputs": [
    {
     "data": {
      "text/plain": [
       "'Percent of games with no data in the rating nor critic_score columns: 1.94%'"
      ]
     },
     "execution_count": 25,
     "metadata": {},
     "output_type": "execute_result"
    }
   ],
   "source": [
    "'Percent of games with no data in the rating nor critic_score columns: {:.2%}'.format(num_of_tbd_no_other_data/num_of_tbd)"
   ]
  },
  {
   "cell_type": "markdown",
   "metadata": {},
   "source": [
    "There are total of 2376 games with __tbd__ marking in the user_score column. Most of those games has data in the rating or critic_score columns. Only 46 games has nither data in rating nor critic_score which are 1.94%.  \n",
    "I think that Ice wants to fill the user_score column for games that have data in the rating or critic_score. "
   ]
  },
  {
   "cell_type": "markdown",
   "metadata": {},
   "source": [
    "TBD by platform"
   ]
  },
  {
   "cell_type": "code",
   "execution_count": 26,
   "metadata": {},
   "outputs": [
    {
     "data": {
      "text/html": [
       "<div>\n",
       "<style scoped>\n",
       "    .dataframe tbody tr th:only-of-type {\n",
       "        vertical-align: middle;\n",
       "    }\n",
       "\n",
       "    .dataframe tbody tr th {\n",
       "        vertical-align: top;\n",
       "    }\n",
       "\n",
       "    .dataframe thead th {\n",
       "        text-align: right;\n",
       "    }\n",
       "</style>\n",
       "<table border=\"1\" class=\"dataframe\">\n",
       "  <thead>\n",
       "    <tr style=\"text-align: right;\">\n",
       "      <th></th>\n",
       "      <th>user_score</th>\n",
       "      <th>index</th>\n",
       "    </tr>\n",
       "    <tr>\n",
       "      <th>platform</th>\n",
       "      <th></th>\n",
       "      <th></th>\n",
       "    </tr>\n",
       "  </thead>\n",
       "  <tbody>\n",
       "    <tr>\n",
       "      <td>3DS</td>\n",
       "      <td>54</td>\n",
       "      <td>3DS</td>\n",
       "    </tr>\n",
       "    <tr>\n",
       "      <td>DS</td>\n",
       "      <td>744</td>\n",
       "      <td>DS</td>\n",
       "    </tr>\n",
       "    <tr>\n",
       "      <td>GBA</td>\n",
       "      <td>258</td>\n",
       "      <td>GBA</td>\n",
       "    </tr>\n",
       "    <tr>\n",
       "      <td>GC</td>\n",
       "      <td>100</td>\n",
       "      <td>GC</td>\n",
       "    </tr>\n",
       "    <tr>\n",
       "      <td>PC</td>\n",
       "      <td>49</td>\n",
       "      <td>PC</td>\n",
       "    </tr>\n",
       "    <tr>\n",
       "      <td>PS</td>\n",
       "      <td>44</td>\n",
       "      <td>PS</td>\n",
       "    </tr>\n",
       "    <tr>\n",
       "      <td>PS2</td>\n",
       "      <td>236</td>\n",
       "      <td>PS2</td>\n",
       "    </tr>\n",
       "    <tr>\n",
       "      <td>PS3</td>\n",
       "      <td>87</td>\n",
       "      <td>PS3</td>\n",
       "    </tr>\n",
       "    <tr>\n",
       "      <td>PS4</td>\n",
       "      <td>6</td>\n",
       "      <td>PS4</td>\n",
       "    </tr>\n",
       "    <tr>\n",
       "      <td>PSP</td>\n",
       "      <td>118</td>\n",
       "      <td>PSP</td>\n",
       "    </tr>\n",
       "    <tr>\n",
       "      <td>PSV</td>\n",
       "      <td>7</td>\n",
       "      <td>PSV</td>\n",
       "    </tr>\n",
       "    <tr>\n",
       "      <td>Wii</td>\n",
       "      <td>428</td>\n",
       "      <td>Wii</td>\n",
       "    </tr>\n",
       "    <tr>\n",
       "      <td>WiiU</td>\n",
       "      <td>5</td>\n",
       "      <td>WiiU</td>\n",
       "    </tr>\n",
       "    <tr>\n",
       "      <td>X360</td>\n",
       "      <td>83</td>\n",
       "      <td>X360</td>\n",
       "    </tr>\n",
       "    <tr>\n",
       "      <td>XB</td>\n",
       "      <td>146</td>\n",
       "      <td>XB</td>\n",
       "    </tr>\n",
       "    <tr>\n",
       "      <td>XOne</td>\n",
       "      <td>11</td>\n",
       "      <td>XOne</td>\n",
       "    </tr>\n",
       "  </tbody>\n",
       "</table>\n",
       "</div>"
      ],
      "text/plain": [
       "          user_score index\n",
       "platform                  \n",
       "3DS               54   3DS\n",
       "DS               744    DS\n",
       "GBA              258   GBA\n",
       "GC               100    GC\n",
       "PC                49    PC\n",
       "PS                44    PS\n",
       "PS2              236   PS2\n",
       "PS3               87   PS3\n",
       "PS4                6   PS4\n",
       "PSP              118   PSP\n",
       "PSV                7   PSV\n",
       "Wii              428   Wii\n",
       "WiiU               5  WiiU\n",
       "X360              83  X360\n",
       "XB               146    XB\n",
       "XOne              11  XOne"
      ]
     },
     "execution_count": 26,
     "metadata": {},
     "output_type": "execute_result"
    }
   ],
   "source": [
    "df_tbd=df.loc[(df['user_score_tbd']=='tbd')].pivot_table(index='platform', values='user_score', aggfunc='count')\n",
    "df_tbd['index']=df_tbd.index\n",
    "df_tbd"
   ]
  },
  {
   "cell_type": "code",
   "execution_count": 27,
   "metadata": {},
   "outputs": [
    {
     "data": {
      "text/html": [
       "<div>\n",
       "<style scoped>\n",
       "    .dataframe tbody tr th:only-of-type {\n",
       "        vertical-align: middle;\n",
       "    }\n",
       "\n",
       "    .dataframe tbody tr th {\n",
       "        vertical-align: top;\n",
       "    }\n",
       "\n",
       "    .dataframe thead tr th {\n",
       "        text-align: left;\n",
       "    }\n",
       "</style>\n",
       "<table border=\"1\" class=\"dataframe\">\n",
       "  <thead>\n",
       "    <tr>\n",
       "      <th></th>\n",
       "      <th colspan=\"3\" halign=\"left\">Score by platform</th>\n",
       "      <th>TBD by platform</th>\n",
       "    </tr>\n",
       "    <tr>\n",
       "      <th></th>\n",
       "      <th>critic_score</th>\n",
       "      <th>rating</th>\n",
       "      <th>user_score</th>\n",
       "      <th>user_score</th>\n",
       "    </tr>\n",
       "  </thead>\n",
       "  <tbody>\n",
       "    <tr>\n",
       "      <td>2600</td>\n",
       "      <td>116</td>\n",
       "      <td>0</td>\n",
       "      <td>116</td>\n",
       "      <td>NaN</td>\n",
       "    </tr>\n",
       "    <tr>\n",
       "      <td>PCFX</td>\n",
       "      <td>1</td>\n",
       "      <td>0</td>\n",
       "      <td>1</td>\n",
       "      <td>NaN</td>\n",
       "    </tr>\n",
       "    <tr>\n",
       "      <td>SCD</td>\n",
       "      <td>6</td>\n",
       "      <td>0</td>\n",
       "      <td>6</td>\n",
       "      <td>NaN</td>\n",
       "    </tr>\n",
       "    <tr>\n",
       "      <td>NG</td>\n",
       "      <td>12</td>\n",
       "      <td>0</td>\n",
       "      <td>12</td>\n",
       "      <td>NaN</td>\n",
       "    </tr>\n",
       "    <tr>\n",
       "      <td>NES</td>\n",
       "      <td>98</td>\n",
       "      <td>0</td>\n",
       "      <td>98</td>\n",
       "      <td>NaN</td>\n",
       "    </tr>\n",
       "    <tr>\n",
       "      <td>N64</td>\n",
       "      <td>316</td>\n",
       "      <td>0</td>\n",
       "      <td>316</td>\n",
       "      <td>NaN</td>\n",
       "    </tr>\n",
       "    <tr>\n",
       "      <td>GG</td>\n",
       "      <td>1</td>\n",
       "      <td>0</td>\n",
       "      <td>1</td>\n",
       "      <td>NaN</td>\n",
       "    </tr>\n",
       "    <tr>\n",
       "      <td>SAT</td>\n",
       "      <td>173</td>\n",
       "      <td>0</td>\n",
       "      <td>173</td>\n",
       "      <td>NaN</td>\n",
       "    </tr>\n",
       "    <tr>\n",
       "      <td>GEN</td>\n",
       "      <td>27</td>\n",
       "      <td>0</td>\n",
       "      <td>27</td>\n",
       "      <td>NaN</td>\n",
       "    </tr>\n",
       "    <tr>\n",
       "      <td>TG16</td>\n",
       "      <td>2</td>\n",
       "      <td>0</td>\n",
       "      <td>2</td>\n",
       "      <td>NaN</td>\n",
       "    </tr>\n",
       "    <tr>\n",
       "      <td>GB</td>\n",
       "      <td>97</td>\n",
       "      <td>0</td>\n",
       "      <td>97</td>\n",
       "      <td>NaN</td>\n",
       "    </tr>\n",
       "    <tr>\n",
       "      <td>WS</td>\n",
       "      <td>6</td>\n",
       "      <td>0</td>\n",
       "      <td>6</td>\n",
       "      <td>NaN</td>\n",
       "    </tr>\n",
       "    <tr>\n",
       "      <td>3DO</td>\n",
       "      <td>3</td>\n",
       "      <td>0</td>\n",
       "      <td>3</td>\n",
       "      <td>NaN</td>\n",
       "    </tr>\n",
       "    <tr>\n",
       "      <td>SNES</td>\n",
       "      <td>239</td>\n",
       "      <td>0</td>\n",
       "      <td>239</td>\n",
       "      <td>NaN</td>\n",
       "    </tr>\n",
       "    <tr>\n",
       "      <td>DC</td>\n",
       "      <td>52</td>\n",
       "      <td>14</td>\n",
       "      <td>52</td>\n",
       "      <td>NaN</td>\n",
       "    </tr>\n",
       "    <tr>\n",
       "      <td>WiiU</td>\n",
       "      <td>147</td>\n",
       "      <td>105</td>\n",
       "      <td>147</td>\n",
       "      <td>5.0</td>\n",
       "    </tr>\n",
       "    <tr>\n",
       "      <td>PSV</td>\n",
       "      <td>429</td>\n",
       "      <td>150</td>\n",
       "      <td>429</td>\n",
       "      <td>7.0</td>\n",
       "    </tr>\n",
       "    <tr>\n",
       "      <td>XOne</td>\n",
       "      <td>247</td>\n",
       "      <td>186</td>\n",
       "      <td>247</td>\n",
       "      <td>11.0</td>\n",
       "    </tr>\n",
       "    <tr>\n",
       "      <td>PS</td>\n",
       "      <td>1190</td>\n",
       "      <td>204</td>\n",
       "      <td>1190</td>\n",
       "      <td>44.0</td>\n",
       "    </tr>\n",
       "    <tr>\n",
       "      <td>3DS</td>\n",
       "      <td>512</td>\n",
       "      <td>223</td>\n",
       "      <td>512</td>\n",
       "      <td>54.0</td>\n",
       "    </tr>\n",
       "    <tr>\n",
       "      <td>PS4</td>\n",
       "      <td>392</td>\n",
       "      <td>255</td>\n",
       "      <td>392</td>\n",
       "      <td>6.0</td>\n",
       "    </tr>\n",
       "    <tr>\n",
       "      <td>GC</td>\n",
       "      <td>542</td>\n",
       "      <td>457</td>\n",
       "      <td>542</td>\n",
       "      <td>100.0</td>\n",
       "    </tr>\n",
       "    <tr>\n",
       "      <td>GBA</td>\n",
       "      <td>811</td>\n",
       "      <td>514</td>\n",
       "      <td>811</td>\n",
       "      <td>258.0</td>\n",
       "    </tr>\n",
       "    <tr>\n",
       "      <td>PSP</td>\n",
       "      <td>1193</td>\n",
       "      <td>536</td>\n",
       "      <td>1193</td>\n",
       "      <td>118.0</td>\n",
       "    </tr>\n",
       "    <tr>\n",
       "      <td>XB</td>\n",
       "      <td>803</td>\n",
       "      <td>714</td>\n",
       "      <td>803</td>\n",
       "      <td>146.0</td>\n",
       "    </tr>\n",
       "    <tr>\n",
       "      <td>PC</td>\n",
       "      <td>957</td>\n",
       "      <td>757</td>\n",
       "      <td>957</td>\n",
       "      <td>49.0</td>\n",
       "    </tr>\n",
       "    <tr>\n",
       "      <td>PS3</td>\n",
       "      <td>1306</td>\n",
       "      <td>935</td>\n",
       "      <td>1306</td>\n",
       "      <td>87.0</td>\n",
       "    </tr>\n",
       "    <tr>\n",
       "      <td>Wii</td>\n",
       "      <td>1286</td>\n",
       "      <td>977</td>\n",
       "      <td>1286</td>\n",
       "      <td>428.0</td>\n",
       "    </tr>\n",
       "    <tr>\n",
       "      <td>X360</td>\n",
       "      <td>1232</td>\n",
       "      <td>1030</td>\n",
       "      <td>1232</td>\n",
       "      <td>83.0</td>\n",
       "    </tr>\n",
       "    <tr>\n",
       "      <td>DS</td>\n",
       "      <td>2121</td>\n",
       "      <td>1255</td>\n",
       "      <td>2121</td>\n",
       "      <td>744.0</td>\n",
       "    </tr>\n",
       "    <tr>\n",
       "      <td>PS2</td>\n",
       "      <td>2127</td>\n",
       "      <td>1456</td>\n",
       "      <td>2127</td>\n",
       "      <td>236.0</td>\n",
       "    </tr>\n",
       "  </tbody>\n",
       "</table>\n",
       "</div>"
      ],
      "text/plain": [
       "     Score by platform                   TBD by platform\n",
       "          critic_score rating user_score      user_score\n",
       "2600               116      0        116             NaN\n",
       "PCFX                 1      0          1             NaN\n",
       "SCD                  6      0          6             NaN\n",
       "NG                  12      0         12             NaN\n",
       "NES                 98      0         98             NaN\n",
       "N64                316      0        316             NaN\n",
       "GG                   1      0          1             NaN\n",
       "SAT                173      0        173             NaN\n",
       "GEN                 27      0         27             NaN\n",
       "TG16                 2      0          2             NaN\n",
       "GB                  97      0         97             NaN\n",
       "WS                   6      0          6             NaN\n",
       "3DO                  3      0          3             NaN\n",
       "SNES               239      0        239             NaN\n",
       "DC                  52     14         52             NaN\n",
       "WiiU               147    105        147             5.0\n",
       "PSV                429    150        429             7.0\n",
       "XOne               247    186        247            11.0\n",
       "PS                1190    204       1190            44.0\n",
       "3DS                512    223        512            54.0\n",
       "PS4                392    255        392             6.0\n",
       "GC                 542    457        542           100.0\n",
       "GBA                811    514        811           258.0\n",
       "PSP               1193    536       1193           118.0\n",
       "XB                 803    714        803           146.0\n",
       "PC                 957    757        957            49.0\n",
       "PS3               1306    935       1306            87.0\n",
       "Wii               1286    977       1286           428.0\n",
       "X360              1232   1030       1232            83.0\n",
       "DS                2121   1255       2121           744.0\n",
       "PS2               2127   1456       2127           236.0"
      ]
     },
     "execution_count": 27,
     "metadata": {},
     "output_type": "execute_result"
    }
   ],
   "source": [
    "df_score_platform_tbd=pd.concat([df_score_platform.set_index('index'), df_tbd.set_index('index')], axis='columns', keys=['Score by platform','TBD by platform'],sort=False)\n",
    "df_score_platform_tbd"
   ]
  },
  {
   "cell_type": "markdown",
   "metadata": {},
   "source": [
    "With the exception of the DC  platform (the Dreamcast video game console), all platforms that have user scores, critics score and rating, only those have also the TBD marking in them. Ice has no interest in esoteric platforms."
   ]
  },
  {
   "cell_type": "markdown",
   "metadata": {},
   "source": [
    "## Analyze the data"
   ]
  },
  {
   "cell_type": "markdown",
   "metadata": {},
   "source": [
    "### Game releases per year"
   ]
  },
  {
   "cell_type": "markdown",
   "metadata": {},
   "source": [
    "The next table shows the number of games that were released every year."
   ]
  },
  {
   "cell_type": "code",
   "execution_count": 28,
   "metadata": {},
   "outputs": [
    {
     "data": {
      "text/html": [
       "<div>\n",
       "<style scoped>\n",
       "    .dataframe tbody tr th:only-of-type {\n",
       "        vertical-align: middle;\n",
       "    }\n",
       "\n",
       "    .dataframe tbody tr th {\n",
       "        vertical-align: top;\n",
       "    }\n",
       "\n",
       "    .dataframe thead th {\n",
       "        text-align: right;\n",
       "    }\n",
       "</style>\n",
       "<table border=\"1\" class=\"dataframe\">\n",
       "  <thead>\n",
       "    <tr style=\"text-align: right;\">\n",
       "      <th></th>\n",
       "      <th>count</th>\n",
       "    </tr>\n",
       "    <tr>\n",
       "      <th>year_of_release</th>\n",
       "      <th></th>\n",
       "    </tr>\n",
       "  </thead>\n",
       "  <tbody>\n",
       "    <tr>\n",
       "      <td>1980.0</td>\n",
       "      <td>9</td>\n",
       "    </tr>\n",
       "    <tr>\n",
       "      <td>1981.0</td>\n",
       "      <td>46</td>\n",
       "    </tr>\n",
       "    <tr>\n",
       "      <td>1982.0</td>\n",
       "      <td>36</td>\n",
       "    </tr>\n",
       "    <tr>\n",
       "      <td>1983.0</td>\n",
       "      <td>17</td>\n",
       "    </tr>\n",
       "    <tr>\n",
       "      <td>1984.0</td>\n",
       "      <td>14</td>\n",
       "    </tr>\n",
       "    <tr>\n",
       "      <td>1985.0</td>\n",
       "      <td>14</td>\n",
       "    </tr>\n",
       "    <tr>\n",
       "      <td>1986.0</td>\n",
       "      <td>21</td>\n",
       "    </tr>\n",
       "    <tr>\n",
       "      <td>1987.0</td>\n",
       "      <td>16</td>\n",
       "    </tr>\n",
       "    <tr>\n",
       "      <td>1988.0</td>\n",
       "      <td>15</td>\n",
       "    </tr>\n",
       "    <tr>\n",
       "      <td>1989.0</td>\n",
       "      <td>17</td>\n",
       "    </tr>\n",
       "    <tr>\n",
       "      <td>1990.0</td>\n",
       "      <td>16</td>\n",
       "    </tr>\n",
       "    <tr>\n",
       "      <td>1991.0</td>\n",
       "      <td>41</td>\n",
       "    </tr>\n",
       "    <tr>\n",
       "      <td>1992.0</td>\n",
       "      <td>43</td>\n",
       "    </tr>\n",
       "    <tr>\n",
       "      <td>1993.0</td>\n",
       "      <td>60</td>\n",
       "    </tr>\n",
       "    <tr>\n",
       "      <td>1994.0</td>\n",
       "      <td>121</td>\n",
       "    </tr>\n",
       "    <tr>\n",
       "      <td>1995.0</td>\n",
       "      <td>219</td>\n",
       "    </tr>\n",
       "    <tr>\n",
       "      <td>1996.0</td>\n",
       "      <td>263</td>\n",
       "    </tr>\n",
       "    <tr>\n",
       "      <td>1997.0</td>\n",
       "      <td>289</td>\n",
       "    </tr>\n",
       "    <tr>\n",
       "      <td>1998.0</td>\n",
       "      <td>379</td>\n",
       "    </tr>\n",
       "    <tr>\n",
       "      <td>1999.0</td>\n",
       "      <td>338</td>\n",
       "    </tr>\n",
       "    <tr>\n",
       "      <td>2000.0</td>\n",
       "      <td>350</td>\n",
       "    </tr>\n",
       "    <tr>\n",
       "      <td>2001.0</td>\n",
       "      <td>482</td>\n",
       "    </tr>\n",
       "    <tr>\n",
       "      <td>2002.0</td>\n",
       "      <td>829</td>\n",
       "    </tr>\n",
       "    <tr>\n",
       "      <td>2003.0</td>\n",
       "      <td>775</td>\n",
       "    </tr>\n",
       "    <tr>\n",
       "      <td>2004.0</td>\n",
       "      <td>762</td>\n",
       "    </tr>\n",
       "    <tr>\n",
       "      <td>2005.0</td>\n",
       "      <td>939</td>\n",
       "    </tr>\n",
       "    <tr>\n",
       "      <td>2006.0</td>\n",
       "      <td>1006</td>\n",
       "    </tr>\n",
       "    <tr>\n",
       "      <td>2007.0</td>\n",
       "      <td>1197</td>\n",
       "    </tr>\n",
       "    <tr>\n",
       "      <td>2008.0</td>\n",
       "      <td>1427</td>\n",
       "    </tr>\n",
       "    <tr>\n",
       "      <td>2009.0</td>\n",
       "      <td>1426</td>\n",
       "    </tr>\n",
       "    <tr>\n",
       "      <td>2010.0</td>\n",
       "      <td>1255</td>\n",
       "    </tr>\n",
       "    <tr>\n",
       "      <td>2011.0</td>\n",
       "      <td>1136</td>\n",
       "    </tr>\n",
       "    <tr>\n",
       "      <td>2012.0</td>\n",
       "      <td>653</td>\n",
       "    </tr>\n",
       "    <tr>\n",
       "      <td>2013.0</td>\n",
       "      <td>544</td>\n",
       "    </tr>\n",
       "    <tr>\n",
       "      <td>2014.0</td>\n",
       "      <td>581</td>\n",
       "    </tr>\n",
       "    <tr>\n",
       "      <td>2015.0</td>\n",
       "      <td>606</td>\n",
       "    </tr>\n",
       "    <tr>\n",
       "      <td>2016.0</td>\n",
       "      <td>502</td>\n",
       "    </tr>\n",
       "  </tbody>\n",
       "</table>\n",
       "</div>"
      ],
      "text/plain": [
       "                 count\n",
       "year_of_release       \n",
       "1980.0               9\n",
       "1981.0              46\n",
       "1982.0              36\n",
       "1983.0              17\n",
       "1984.0              14\n",
       "1985.0              14\n",
       "1986.0              21\n",
       "1987.0              16\n",
       "1988.0              15\n",
       "1989.0              17\n",
       "1990.0              16\n",
       "1991.0              41\n",
       "1992.0              43\n",
       "1993.0              60\n",
       "1994.0             121\n",
       "1995.0             219\n",
       "1996.0             263\n",
       "1997.0             289\n",
       "1998.0             379\n",
       "1999.0             338\n",
       "2000.0             350\n",
       "2001.0             482\n",
       "2002.0             829\n",
       "2003.0             775\n",
       "2004.0             762\n",
       "2005.0             939\n",
       "2006.0            1006\n",
       "2007.0            1197\n",
       "2008.0            1427\n",
       "2009.0            1426\n",
       "2010.0            1255\n",
       "2011.0            1136\n",
       "2012.0             653\n",
       "2013.0             544\n",
       "2014.0             581\n",
       "2015.0             606\n",
       "2016.0             502"
      ]
     },
     "execution_count": 28,
     "metadata": {},
     "output_type": "execute_result"
    }
   ],
   "source": [
    "df_games_per_year=df.pivot_table(index='year_of_release', values='name', aggfunc='count')\n",
    "df_games_per_year.columns=['count']\n",
    "df_games_per_year"
   ]
  },
  {
   "cell_type": "code",
   "execution_count": 29,
   "metadata": {},
   "outputs": [
    {
     "data": {
      "image/png": "[encoded data removed]",
      "text/plain": [
       "<Figure size 864x360 with 1 Axes>"
      ]
     },
     "metadata": {
      "needs_background": "light"
     },
     "output_type": "display_data"
    }
   ],
   "source": [
    "df_games_per_year.plot(figsize=(12,5))\n",
    "plt.xlabel('Year of release', size=12)\n",
    "plt.ylabel('Number of game releases', size=12)\n",
    "plt.title('Game sales over the years', size=15)\n",
    "plt.show();"
   ]
  },
  {
   "cell_type": "markdown",
   "metadata": {},
   "source": [
    "Looking at the data and the graph I'm getting to some conclusions.  \n",
    "The game industry is beginning to blossom around 1994 until 2008, from that year on, the sales begin to go down, but in 2012, sales dropped significantly. The sales in 2012 are almost half from 2011.  \n",
    "There might be several reasons for that. Around 2012 the average internet speed connection in the USA started raising up very rapidly, as it can be seen in the picture below, causing the online store to be a better alternative."
   ]
  },
  {
   "attachments": {
    "image.png": {
     "image/png": "[encoded data removed]"
    }
   },
   "cell_type": "markdown",
   "metadata": {},
   "source": [
    "<div>\n",
    "<img src=\"attachment:image.png\" width=\"750\" align=\"left\"/>\n",
    "</div>"
   ]
  },
  {
   "cell_type": "markdown",
   "metadata": {},
   "source": [
    "  "
   ]
  },
  {
   "cell_type": "markdown",
   "metadata": {},
   "source": [
    "  "
   ]
  },
  {
   "cell_type": "markdown",
   "metadata": {},
   "source": [
    "Since the user's behavior changed from the year 2012, I think that the data from that year on is more relevant to that research.  \n",
    "So, from now on I'll be using data between the years 2012-2016."
   ]
  },
  {
   "cell_type": "code",
   "execution_count": 31,
   "metadata": {},
   "outputs": [],
   "source": [
    "df_new=df.query('year_of_release>=2012')"
   ]
  },
  {
   "cell_type": "markdown",
   "metadata": {},
   "source": [
    "__Is the data for every period significant?__  \n",
    "It can be seen on the graph that until the 1990's the sales were pretty low, so there's not enough data.  \n",
    "I think that from 1994, the data begins to be sufficient."
   ]
  },
  {
   "cell_type": "markdown",
   "metadata": {},
   "source": [
    "### Sales acourding to platform"
   ]
  },
  {
   "cell_type": "markdown",
   "metadata": {},
   "source": [
    "In the next table, I grouped the total sales for each platform."
   ]
  },
  {
   "cell_type": "code",
   "execution_count": 32,
   "metadata": {},
   "outputs": [
    {
     "data": {
      "text/html": [
       "<div>\n",
       "<style scoped>\n",
       "    .dataframe tbody tr th:only-of-type {\n",
       "        vertical-align: middle;\n",
       "    }\n",
       "\n",
       "    .dataframe tbody tr th {\n",
       "        vertical-align: top;\n",
       "    }\n",
       "\n",
       "    .dataframe thead th {\n",
       "        text-align: right;\n",
       "    }\n",
       "</style>\n",
       "<table border=\"1\" class=\"dataframe\">\n",
       "  <thead>\n",
       "    <tr style=\"text-align: right;\">\n",
       "      <th></th>\n",
       "      <th>total_sales</th>\n",
       "    </tr>\n",
       "    <tr>\n",
       "      <th>platform</th>\n",
       "      <th></th>\n",
       "    </tr>\n",
       "  </thead>\n",
       "  <tbody>\n",
       "    <tr>\n",
       "      <td>PS4</td>\n",
       "      <td>314.14</td>\n",
       "    </tr>\n",
       "    <tr>\n",
       "      <td>PS3</td>\n",
       "      <td>288.79</td>\n",
       "    </tr>\n",
       "    <tr>\n",
       "      <td>X360</td>\n",
       "      <td>236.54</td>\n",
       "    </tr>\n",
       "    <tr>\n",
       "      <td>3DS</td>\n",
       "      <td>194.61</td>\n",
       "    </tr>\n",
       "    <tr>\n",
       "      <td>XOne</td>\n",
       "      <td>159.32</td>\n",
       "    </tr>\n",
       "    <tr>\n",
       "      <td>WiiU</td>\n",
       "      <td>82.19</td>\n",
       "    </tr>\n",
       "    <tr>\n",
       "      <td>PC</td>\n",
       "      <td>62.65</td>\n",
       "    </tr>\n",
       "    <tr>\n",
       "      <td>PSV</td>\n",
       "      <td>49.18</td>\n",
       "    </tr>\n",
       "    <tr>\n",
       "      <td>Wii</td>\n",
       "      <td>35.37</td>\n",
       "    </tr>\n",
       "    <tr>\n",
       "      <td>DS</td>\n",
       "      <td>12.55</td>\n",
       "    </tr>\n",
       "    <tr>\n",
       "      <td>PSP</td>\n",
       "      <td>11.19</td>\n",
       "    </tr>\n",
       "  </tbody>\n",
       "</table>\n",
       "</div>"
      ],
      "text/plain": [
       "          total_sales\n",
       "platform             \n",
       "PS4            314.14\n",
       "PS3            288.79\n",
       "X360           236.54\n",
       "3DS            194.61\n",
       "XOne           159.32\n",
       "WiiU            82.19\n",
       "PC              62.65\n",
       "PSV             49.18\n",
       "Wii             35.37\n",
       "DS              12.55\n",
       "PSP             11.19"
      ]
     },
     "execution_count": 32,
     "metadata": {},
     "output_type": "execute_result"
    }
   ],
   "source": [
    "df_new_sales_by_platform=df_new.pivot_table(index='platform', values='total_sales', aggfunc='sum').sort_values('total_sales', ascending=False)\n",
    "df_new_sales_by_platform"
   ]
  },
  {
   "cell_type": "code",
   "execution_count": 33,
   "metadata": {},
   "outputs": [
    {
     "data": {
      "image/png": "[encoded data removed]",
      "text/plain": [
       "<Figure size 432x288 with 1 Axes>"
      ]
     },
     "metadata": {
      "needs_background": "light"
     },
     "output_type": "display_data"
    }
   ],
   "source": [
    "df_new_sales_by_platform.plot(kind='bar');\n",
    "\n",
    "# plt.xlabel('Year of release', size=12)\n",
    "plt.ylabel('Sales (millions)', size=12)\n",
    "plt.title('Total sale per platform', size=15)\n",
    "\n",
    "plt.show();"
   ]
  },
  {
   "cell_type": "markdown",
   "metadata": {},
   "source": [
    "#### Distribution sales of PS2 games"
   ]
  },
  {
   "cell_type": "markdown",
   "metadata": {},
   "source": [
    "I sum all the sales of games sold to the PS2 platforms according to the year of release."
   ]
  },
  {
   "cell_type": "code",
   "execution_count": 34,
   "metadata": {},
   "outputs": [
    {
     "data": {
      "text/html": [
       "<div>\n",
       "<style scoped>\n",
       "    .dataframe tbody tr th:only-of-type {\n",
       "        vertical-align: middle;\n",
       "    }\n",
       "\n",
       "    .dataframe tbody tr th {\n",
       "        vertical-align: top;\n",
       "    }\n",
       "\n",
       "    .dataframe thead th {\n",
       "        text-align: right;\n",
       "    }\n",
       "</style>\n",
       "<table border=\"1\" class=\"dataframe\">\n",
       "  <thead>\n",
       "    <tr style=\"text-align: right;\">\n",
       "      <th></th>\n",
       "      <th>total_sales</th>\n",
       "      <th>count</th>\n",
       "    </tr>\n",
       "    <tr>\n",
       "      <th>year_of_release</th>\n",
       "      <th></th>\n",
       "      <th></th>\n",
       "    </tr>\n",
       "  </thead>\n",
       "  <tbody>\n",
       "    <tr>\n",
       "      <td>2000.0</td>\n",
       "      <td>39.17</td>\n",
       "      <td>82</td>\n",
       "    </tr>\n",
       "    <tr>\n",
       "      <td>2001.0</td>\n",
       "      <td>166.43</td>\n",
       "      <td>185</td>\n",
       "    </tr>\n",
       "    <tr>\n",
       "      <td>2002.0</td>\n",
       "      <td>205.38</td>\n",
       "      <td>280</td>\n",
       "    </tr>\n",
       "    <tr>\n",
       "      <td>2003.0</td>\n",
       "      <td>184.31</td>\n",
       "      <td>256</td>\n",
       "    </tr>\n",
       "    <tr>\n",
       "      <td>2004.0</td>\n",
       "      <td>211.81</td>\n",
       "      <td>259</td>\n",
       "    </tr>\n",
       "    <tr>\n",
       "      <td>2005.0</td>\n",
       "      <td>160.66</td>\n",
       "      <td>260</td>\n",
       "    </tr>\n",
       "    <tr>\n",
       "      <td>2006.0</td>\n",
       "      <td>103.42</td>\n",
       "      <td>259</td>\n",
       "    </tr>\n",
       "    <tr>\n",
       "      <td>2007.0</td>\n",
       "      <td>75.99</td>\n",
       "      <td>214</td>\n",
       "    </tr>\n",
       "    <tr>\n",
       "      <td>2008.0</td>\n",
       "      <td>53.90</td>\n",
       "      <td>191</td>\n",
       "    </tr>\n",
       "    <tr>\n",
       "      <td>2009.0</td>\n",
       "      <td>26.40</td>\n",
       "      <td>96</td>\n",
       "    </tr>\n",
       "    <tr>\n",
       "      <td>2010.0</td>\n",
       "      <td>5.64</td>\n",
       "      <td>38</td>\n",
       "    </tr>\n",
       "    <tr>\n",
       "      <td>2011.0</td>\n",
       "      <td>0.45</td>\n",
       "      <td>7</td>\n",
       "    </tr>\n",
       "  </tbody>\n",
       "</table>\n",
       "</div>"
      ],
      "text/plain": [
       "                 total_sales  count\n",
       "year_of_release                    \n",
       "2000.0                 39.17     82\n",
       "2001.0                166.43    185\n",
       "2002.0                205.38    280\n",
       "2003.0                184.31    256\n",
       "2004.0                211.81    259\n",
       "2005.0                160.66    260\n",
       "2006.0                103.42    259\n",
       "2007.0                 75.99    214\n",
       "2008.0                 53.90    191\n",
       "2009.0                 26.40     96\n",
       "2010.0                  5.64     38\n",
       "2011.0                  0.45      7"
      ]
     },
     "execution_count": 34,
     "metadata": {},
     "output_type": "execute_result"
    }
   ],
   "source": [
    "df_ps2=df.query('platform==\"PS2\"').pivot_table(index='year_of_release', values='total_sales', aggfunc=['sum','count'])\n",
    "df_ps2.columns=['total_sales','count']\n",
    "df_ps2"
   ]
  },
  {
   "cell_type": "code",
   "execution_count": 35,
   "metadata": {},
   "outputs": [
    {
     "data": {
      "image/png": "[encoded data removed]",
      "text/plain": [
       "<Figure size 864x360 with 1 Axes>"
      ]
     },
     "metadata": {
      "needs_background": "light"
     },
     "output_type": "display_data"
    }
   ],
   "source": [
    "df_ps2.plot(figsize=(12,5))\n",
    "plt.xlabel('Year of release', size=12)\n",
    "plt.title('PlayStation 2 (PS2) games releases over the years', size=15)\n",
    "plt.show();"
   ]
  },
  {
   "cell_type": "markdown",
   "metadata": {},
   "source": [
    "#### Platform which it's glory days passed"
   ]
  },
  {
   "cell_type": "markdown",
   "metadata": {},
   "source": [
    "I'll take the PS2 platform as a platform in which its glory days passed (the table of related data and graph are in the previous section - Distribution sales of PS2 games).  \n",
    "It was released in 2000 and it was a big success. Every year until 2005 the number of games released that year grew. 2005 was the year that had the highest number of games released. From that year, the number of new games grew smaller and smaller, until 2011, the last year that a new game was released for that platform."
   ]
  },
  {
   "cell_type": "markdown",
   "metadata": {},
   "source": [
    "#### Life time of a platform"
   ]
  },
  {
   "cell_type": "markdown",
   "metadata": {},
   "source": [
    "How long does it generally take for new platforms to appear and old ones to fade?  \n",
    "To answer that I'll show grapths for 2 platform families:  \n",
    "1. XBox\n",
    "2. PlayStation"
   ]
  },
  {
   "cell_type": "code",
   "execution_count": 36,
   "metadata": {},
   "outputs": [
    {
     "data": {
      "image/png": "[encoded data removed]",
      "text/plain": [
       "<Figure size 864x432 with 1 Axes>"
      ]
     },
     "metadata": {
      "needs_background": "light"
     },
     "output_type": "display_data"
    }
   ],
   "source": [
    "df_XBox=df.query('platform==\"XB\"').pivot_table(index='year_of_release', values='total_sales', aggfunc='sum')\n",
    "df_X360=df.query('platform==\"X360\"').pivot_table(index='year_of_release', values='total_sales', aggfunc='sum')\n",
    "df_XOne=df.query('platform==\"XOne\"').pivot_table(index='year_of_release', values='total_sales', aggfunc='sum')\n",
    "\n",
    "df_XBox['index']=df_XBox.index\n",
    "df_XOne['index']=df_XOne.index\n",
    "df_X360['index']=df_X360.index\n",
    "\n",
    "# displaying 3 dataframes\n",
    "df_list=[df_XBox.set_index('index'),df_X360.set_index('index'),df_XOne.set_index('index')]\n",
    "df_xbox_gens=pd.concat(df_list, axis='columns', keys=['XBox','X360','XOne'])\n",
    "\n",
    "df_xbox_gens.plot(figsize=(12,6))\n",
    "\n",
    "plt.title('XBox Generations', size=15)\n",
    "plt.xlabel('Year of Release', size=12)\n",
    "plt.ylabel('Total Sales', size=12)\n",
    "plt.legend()\n",
    "\n",
    "plt.show();"
   ]
  },
  {
   "cell_type": "code",
   "execution_count": 37,
   "metadata": {},
   "outputs": [
    {
     "data": {
      "image/png": "[encoded data removed]",
      "text/plain": [
       "<Figure size 864x432 with 1 Axes>"
      ]
     },
     "metadata": {
      "needs_background": "light"
     },
     "output_type": "display_data"
    }
   ],
   "source": [
    "df_ps2=df.query('platform==\"PS2\"').pivot_table(index='year_of_release', values='total_sales', aggfunc='sum')\n",
    "df_ps3=df.query('platform==\"PS3\"').pivot_table(index='year_of_release', values='total_sales', aggfunc='sum')\n",
    "df_ps4=df.query('platform==\"PS4\"').pivot_table(index='year_of_release', values='total_sales', aggfunc='sum')\n",
    "\n",
    "df_ps2['index']=df_ps2.index\n",
    "df_ps3['index']=df_ps3.index\n",
    "df_ps4['index']=df_ps4.index\n",
    "\n",
    "# displaying 3 dataframes\n",
    "df_list=[df_ps2.set_index('index'),df_ps3.set_index('index'),df_ps4.set_index('index')]\n",
    "df_ps_gens=pd.concat(df_list, axis='columns', keys=['PS2','PS3','PS4'])\n",
    "\n",
    "df_ps_gens.plot(figsize=(12,6))\n",
    "\n",
    "plt.title('PlayStation Generations', size=15)\n",
    "plt.xlabel('Year of Release', size=12)\n",
    "plt.ylabel('Total Sales', size=12)\n",
    "plt.legend()\n",
    "\n",
    "plt.show();"
   ]
  },
  {
   "cell_type": "markdown",
   "metadata": {},
   "source": [
    "Looking at the graphs, the platforms that have full data on them (PS2, PS3, X360) have a lifetime of around 10 years. Between 5-7 years is the time that takes those companies to release a new version"
   ]
  },
  {
   "cell_type": "markdown",
   "metadata": {},
   "source": [
    "#### Which platforms are leading in sales? Which ones are growing or shrinking? Select several potentially profitable platforms"
   ]
  },
  {
   "cell_type": "markdown",
   "metadata": {},
   "source": [
    "In the next table all the sales are grouped according to platforms, this is the answer to which platforms are leading in sales.  \n",
    "To select a platform to analyze I'm using the same table I made before."
   ]
  },
  {
   "cell_type": "code",
   "execution_count": 38,
   "metadata": {},
   "outputs": [
    {
     "data": {
      "text/html": [
       "<div>\n",
       "<style scoped>\n",
       "    .dataframe tbody tr th:only-of-type {\n",
       "        vertical-align: middle;\n",
       "    }\n",
       "\n",
       "    .dataframe tbody tr th {\n",
       "        vertical-align: top;\n",
       "    }\n",
       "\n",
       "    .dataframe thead th {\n",
       "        text-align: right;\n",
       "    }\n",
       "</style>\n",
       "<table border=\"1\" class=\"dataframe\">\n",
       "  <thead>\n",
       "    <tr style=\"text-align: right;\">\n",
       "      <th></th>\n",
       "      <th>total_sales</th>\n",
       "    </tr>\n",
       "    <tr>\n",
       "      <th>platform</th>\n",
       "      <th></th>\n",
       "    </tr>\n",
       "  </thead>\n",
       "  <tbody>\n",
       "    <tr>\n",
       "      <td>PS4</td>\n",
       "      <td>314.14</td>\n",
       "    </tr>\n",
       "    <tr>\n",
       "      <td>PS3</td>\n",
       "      <td>288.79</td>\n",
       "    </tr>\n",
       "    <tr>\n",
       "      <td>X360</td>\n",
       "      <td>236.54</td>\n",
       "    </tr>\n",
       "    <tr>\n",
       "      <td>3DS</td>\n",
       "      <td>194.61</td>\n",
       "    </tr>\n",
       "    <tr>\n",
       "      <td>XOne</td>\n",
       "      <td>159.32</td>\n",
       "    </tr>\n",
       "    <tr>\n",
       "      <td>WiiU</td>\n",
       "      <td>82.19</td>\n",
       "    </tr>\n",
       "    <tr>\n",
       "      <td>PC</td>\n",
       "      <td>62.65</td>\n",
       "    </tr>\n",
       "    <tr>\n",
       "      <td>PSV</td>\n",
       "      <td>49.18</td>\n",
       "    </tr>\n",
       "    <tr>\n",
       "      <td>Wii</td>\n",
       "      <td>35.37</td>\n",
       "    </tr>\n",
       "    <tr>\n",
       "      <td>DS</td>\n",
       "      <td>12.55</td>\n",
       "    </tr>\n",
       "    <tr>\n",
       "      <td>PSP</td>\n",
       "      <td>11.19</td>\n",
       "    </tr>\n",
       "  </tbody>\n",
       "</table>\n",
       "</div>"
      ],
      "text/plain": [
       "          total_sales\n",
       "platform             \n",
       "PS4            314.14\n",
       "PS3            288.79\n",
       "X360           236.54\n",
       "3DS            194.61\n",
       "XOne           159.32\n",
       "WiiU            82.19\n",
       "PC              62.65\n",
       "PSV             49.18\n",
       "Wii             35.37\n",
       "DS              12.55\n",
       "PSP             11.19"
      ]
     },
     "execution_count": 38,
     "metadata": {},
     "output_type": "execute_result"
    }
   ],
   "source": [
    "df_new_sales_by_platform"
   ]
  },
  {
   "cell_type": "markdown",
   "metadata": {},
   "source": [
    "I'll take 4 platforms PS3, PS4, X360, XOne. Those 4 platforms have data in the selected years (2012-2016) and they all have pretty impressive total sales over the years."
   ]
  },
  {
   "cell_type": "markdown",
   "metadata": {},
   "source": [
    "The next graph shows the sales of PS3 and PS4. The PS3 released in 2006, and its peak was in 2011. From 2012, sales started falling, but although the PS4 came out in 2013, it still has sales even in 2016.  \n",
    "The PS4 was released at 2013 and in 2015 sales were on a raise. Looking at the graph it looks as if there is a drop in the sales in 2016, but the data is incomplete, so I can't determine if the PS4 platform's sales started to fall."
   ]
  },
  {
   "cell_type": "code",
   "execution_count": 39,
   "metadata": {},
   "outputs": [
    {
     "data": {
      "image/png": "[encoded data removed]",
      "text/plain": [
       "<Figure size 792x360 with 1 Axes>"
      ]
     },
     "metadata": {
      "needs_background": "light"
     },
     "output_type": "display_data"
    }
   ],
   "source": [
    "# displaying 3 dataframes\n",
    "df_list=[df_ps3.set_index('index'),df_ps4.set_index('index')]\n",
    "df_ps_gens=pd.concat(df_list, axis='columns', keys=['PS3','PS4'])\n",
    "\n",
    "df_ps_gens.plot(figsize=(11,5))\n",
    "\n",
    "plt.title('PS3 and PS4 Sales', size=15)\n",
    "plt.xlabel('Year of Release', size=12)\n",
    "plt.ylabel('Total Sales', size=12)\n",
    "plt.legend()\n",
    "plt.vlines(x=2012, ymin=0, ymax=160, color='red') \n",
    "\n",
    "plt.show();"
   ]
  },
  {
   "cell_type": "markdown",
   "metadata": {},
   "source": [
    "The next graph shows the sales of XBox 360 and XBox One. The XBox 360 released in 2005, and its peak was in 2010. From 2011, sales started to go down, and although the XBox One came out in 2013, it still has sales even in 2016.  \n",
    "The XBox One was released at 2013 and in 2015 sales were on a raise. Looking at the graph it looks as if there is a drop in the sales in 2016, but the data is incomplete, so I can't determine if the XBox One platform's sales started to fall."
   ]
  },
  {
   "cell_type": "code",
   "execution_count": 40,
   "metadata": {
    "scrolled": true
   },
   "outputs": [
    {
     "data": {
      "image/png": "[encoded data removed]",
      "text/plain": [
       "<Figure size 792x360 with 1 Axes>"
      ]
     },
     "metadata": {
      "needs_background": "light"
     },
     "output_type": "display_data"
    }
   ],
   "source": [
    "# displaying 3 dataframe\n",
    "df_list=[df_X360.set_index('index'),df_XOne.set_index('index')]\n",
    "df_xbox_gens=pd.concat(df_list, axis='columns', keys=['X360','XOne'])\n",
    "\n",
    "df_xbox_gens.plot(figsize=(11,5))\n",
    "\n",
    "plt.title('XBox 360 and XBox One Sales', size=15)\n",
    "plt.xlabel('Year of Release', size=12)\n",
    "plt.ylabel('Total Sales', size=12)\n",
    "plt.legend()\n",
    "plt.vlines(x=2012, ymin=0, ymax=180, color='red') \n",
    "\n",
    "plt.show();"
   ]
  },
  {
   "cell_type": "markdown",
   "metadata": {},
   "source": [
    "#### Build a box plot for the global sales of all games, broken down by platform"
   ]
  },
  {
   "cell_type": "markdown",
   "metadata": {},
   "source": [
    "In the next table all the sales are grouped by platforms, in the relevant years (2012-2016)."
   ]
  },
  {
   "cell_type": "code",
   "execution_count": 41,
   "metadata": {},
   "outputs": [
    {
     "data": {
      "text/html": [
       "<div>\n",
       "<style scoped>\n",
       "    .dataframe tbody tr th:only-of-type {\n",
       "        vertical-align: middle;\n",
       "    }\n",
       "\n",
       "    .dataframe tbody tr th {\n",
       "        vertical-align: top;\n",
       "    }\n",
       "\n",
       "    .dataframe thead th {\n",
       "        text-align: right;\n",
       "    }\n",
       "</style>\n",
       "<table border=\"1\" class=\"dataframe\">\n",
       "  <thead>\n",
       "    <tr style=\"text-align: right;\">\n",
       "      <th>platform</th>\n",
       "      <th>3DS</th>\n",
       "      <th>DS</th>\n",
       "      <th>PC</th>\n",
       "      <th>PS3</th>\n",
       "      <th>PS4</th>\n",
       "      <th>PSP</th>\n",
       "      <th>PSV</th>\n",
       "      <th>Wii</th>\n",
       "      <th>WiiU</th>\n",
       "      <th>X360</th>\n",
       "      <th>XOne</th>\n",
       "    </tr>\n",
       "  </thead>\n",
       "  <tbody>\n",
       "    <tr>\n",
       "      <td>total_sales</td>\n",
       "      <td>194.61</td>\n",
       "      <td>12.55</td>\n",
       "      <td>62.65</td>\n",
       "      <td>288.79</td>\n",
       "      <td>314.14</td>\n",
       "      <td>11.19</td>\n",
       "      <td>49.18</td>\n",
       "      <td>35.37</td>\n",
       "      <td>82.19</td>\n",
       "      <td>236.54</td>\n",
       "      <td>159.32</td>\n",
       "    </tr>\n",
       "  </tbody>\n",
       "</table>\n",
       "</div>"
      ],
      "text/plain": [
       "platform        3DS     DS     PC     PS3     PS4    PSP    PSV    Wii   WiiU  \\\n",
       "total_sales  194.61  12.55  62.65  288.79  314.14  11.19  49.18  35.37  82.19   \n",
       "\n",
       "platform       X360    XOne  \n",
       "total_sales  236.54  159.32  "
      ]
     },
     "execution_count": 41,
     "metadata": {},
     "output_type": "execute_result"
    },
    {
     "data": {
      "text/html": [
       "<div>\n",
       "<style scoped>\n",
       "    .dataframe tbody tr th:only-of-type {\n",
       "        vertical-align: middle;\n",
       "    }\n",
       "\n",
       "    .dataframe tbody tr th {\n",
       "        vertical-align: top;\n",
       "    }\n",
       "\n",
       "    .dataframe thead th {\n",
       "        text-align: right;\n",
       "    }\n",
       "</style>\n",
       "<table border=\"1\" class=\"dataframe\">\n",
       "  <thead>\n",
       "    <tr style=\"text-align: right;\">\n",
       "      <th>platform</th>\n",
       "      <th>3DS</th>\n",
       "      <th>DS</th>\n",
       "      <th>PC</th>\n",
       "      <th>PS3</th>\n",
       "      <th>PS4</th>\n",
       "      <th>PSP</th>\n",
       "      <th>PSV</th>\n",
       "      <th>Wii</th>\n",
       "      <th>WiiU</th>\n",
       "      <th>X360</th>\n",
       "      <th>XOne</th>\n",
       "    </tr>\n",
       "    <tr>\n",
       "      <th>year_of_release</th>\n",
       "      <th></th>\n",
       "      <th></th>\n",
       "      <th></th>\n",
       "      <th></th>\n",
       "      <th></th>\n",
       "      <th></th>\n",
       "      <th></th>\n",
       "      <th></th>\n",
       "      <th></th>\n",
       "      <th></th>\n",
       "      <th></th>\n",
       "    </tr>\n",
       "  </thead>\n",
       "  <tbody>\n",
       "    <tr>\n",
       "      <td>2012.0</td>\n",
       "      <td>51.36</td>\n",
       "      <td>11.01</td>\n",
       "      <td>23.22</td>\n",
       "      <td>107.36</td>\n",
       "      <td>0.00</td>\n",
       "      <td>7.69</td>\n",
       "      <td>16.19</td>\n",
       "      <td>21.71</td>\n",
       "      <td>17.56</td>\n",
       "      <td>99.74</td>\n",
       "      <td>0.00</td>\n",
       "    </tr>\n",
       "    <tr>\n",
       "      <td>2013.0</td>\n",
       "      <td>56.57</td>\n",
       "      <td>1.54</td>\n",
       "      <td>12.38</td>\n",
       "      <td>113.25</td>\n",
       "      <td>25.99</td>\n",
       "      <td>3.14</td>\n",
       "      <td>10.59</td>\n",
       "      <td>8.59</td>\n",
       "      <td>21.65</td>\n",
       "      <td>88.58</td>\n",
       "      <td>18.96</td>\n",
       "    </tr>\n",
       "    <tr>\n",
       "      <td>2014.0</td>\n",
       "      <td>43.76</td>\n",
       "      <td>0.00</td>\n",
       "      <td>13.28</td>\n",
       "      <td>47.76</td>\n",
       "      <td>100.00</td>\n",
       "      <td>0.24</td>\n",
       "      <td>11.90</td>\n",
       "      <td>3.75</td>\n",
       "      <td>22.03</td>\n",
       "      <td>34.74</td>\n",
       "      <td>54.07</td>\n",
       "    </tr>\n",
       "    <tr>\n",
       "      <td>2015.0</td>\n",
       "      <td>27.78</td>\n",
       "      <td>0.00</td>\n",
       "      <td>8.52</td>\n",
       "      <td>16.82</td>\n",
       "      <td>118.90</td>\n",
       "      <td>0.12</td>\n",
       "      <td>6.25</td>\n",
       "      <td>1.14</td>\n",
       "      <td>16.35</td>\n",
       "      <td>11.96</td>\n",
       "      <td>60.14</td>\n",
       "    </tr>\n",
       "    <tr>\n",
       "      <td>2016.0</td>\n",
       "      <td>15.14</td>\n",
       "      <td>0.00</td>\n",
       "      <td>5.25</td>\n",
       "      <td>3.60</td>\n",
       "      <td>69.25</td>\n",
       "      <td>0.00</td>\n",
       "      <td>4.25</td>\n",
       "      <td>0.18</td>\n",
       "      <td>4.60</td>\n",
       "      <td>1.52</td>\n",
       "      <td>26.15</td>\n",
       "    </tr>\n",
       "  </tbody>\n",
       "</table>\n",
       "</div>"
      ],
      "text/plain": [
       "platform           3DS     DS     PC     PS3     PS4   PSP    PSV    Wii  \\\n",
       "year_of_release                                                            \n",
       "2012.0           51.36  11.01  23.22  107.36    0.00  7.69  16.19  21.71   \n",
       "2013.0           56.57   1.54  12.38  113.25   25.99  3.14  10.59   8.59   \n",
       "2014.0           43.76   0.00  13.28   47.76  100.00  0.24  11.90   3.75   \n",
       "2015.0           27.78   0.00   8.52   16.82  118.90  0.12   6.25   1.14   \n",
       "2016.0           15.14   0.00   5.25    3.60   69.25  0.00   4.25   0.18   \n",
       "\n",
       "platform          WiiU   X360   XOne  \n",
       "year_of_release                       \n",
       "2012.0           17.56  99.74   0.00  \n",
       "2013.0           21.65  88.58  18.96  \n",
       "2014.0           22.03  34.74  54.07  \n",
       "2015.0           16.35  11.96  60.14  \n",
       "2016.0            4.60   1.52  26.15  "
      ]
     },
     "execution_count": 41,
     "metadata": {},
     "output_type": "execute_result"
    }
   ],
   "source": [
    "df_new_sales_by_platform_per_year=df_new.pivot_table(columns='platform', index='year_of_release', values='total_sales', aggfunc='sum')\n",
    "df_new.pivot_table(columns='platform', values='total_sales', aggfunc='sum')\n",
    "df_new_sales_by_platform_per_year=df_new_sales_by_platform_per_year.fillna(0)\n",
    "df_new_sales_by_platform_per_year"
   ]
  },
  {
   "cell_type": "code",
   "execution_count": 42,
   "metadata": {},
   "outputs": [
    {
     "data": {
      "image/png": "[encoded data removed]",
      "text/plain": [
       "<Figure size 792x432 with 1 Axes>"
      ]
     },
     "metadata": {
      "needs_background": "light"
     },
     "output_type": "display_data"
    }
   ],
   "source": [
    "fig, ax = plt.subplots()\n",
    "fig.set_size_inches(11, 6)\n",
    "\n",
    "ax = sns.boxplot( data=df_new_sales_by_platform_per_year, palette=\"colorblind\", linewidth=2.5)\n",
    "ax.set_xlabel(\"Platform\", fontsize=14)\n",
    "ax.set_ylabel(\"Total sales (Millions)\", fontsize=14)\n",
    "ax.axes.set_title(\"Total Sales by Platform\", fontsize=16);\n"
   ]
  },
  {
   "cell_type": "markdown",
   "metadata": {},
   "source": [
    "In the graph, it's clear to see that some platforms have significantly more than others. There are 5 platforms that stand out from the others in total sales for that period of time. Those platforms are PS4, PS3, X360, XOne, and 3DS.  \n",
    "The graph doesn't show the average (mean), so I made the nessesary calculations"
   ]
  },
  {
   "cell_type": "markdown",
   "metadata": {},
   "source": [
    "The next graph displays the average sales per platform.  \n",
    "There are no surprises here, like in the graph above, the platforms that sold more games, have higher average sales as well."
   ]
  },
  {
   "cell_type": "code",
   "execution_count": 43,
   "metadata": {},
   "outputs": [
    {
     "data": {
      "image/png": "[encoded data removed]",
      "text/plain": [
       "<Figure size 1008x432 with 1 Axes>"
      ]
     },
     "metadata": {
      "needs_background": "light"
     },
     "output_type": "display_data"
    }
   ],
   "source": [
    "df_new_sales_by_platform_per_year_mean=df_new.pivot_table(columns='platform', index='year_of_release', values='total_sales', aggfunc=['mean'])\n",
    "\n",
    "fig, ax = plt.subplots()\n",
    "fig.set_size_inches(14, 6)\n",
    "\n",
    "df_mean=df_new_sales_by_platform_per_year_mean.reset_index()['mean']\n",
    "\n",
    "ax = sns.boxplot( data=df_mean, palette=\"colorblind\", linewidth=2.5)\n",
    "ax.set_xlabel(\"Platform\", fontsize=14)\n",
    "ax.set_ylabel(\"Total sales (Millions)\", fontsize=14)\n",
    "ax.axes.set_title(\"Average Sales by Platform\", fontsize=16);\n"
   ]
  },
  {
   "cell_type": "markdown",
   "metadata": {},
   "source": [
    "#### Correlation between sales and reviews"
   ]
  },
  {
   "cell_type": "markdown",
   "metadata": {},
   "source": [
    "The task here is to take a look at how user and professional reviews affect sales for one popular platform.  \n",
    "I'm taking only games with reviews and ratings. There is no point in comparing esoteric games to mainstream games.  \n",
    "The platform that I'm choosing is the PS4 which has the highest sales in that period of time (2012-2016)."
   ]
  },
  {
   "cell_type": "code",
   "execution_count": 44,
   "metadata": {},
   "outputs": [
    {
     "data": {
      "text/html": [
       "<div>\n",
       "<style scoped>\n",
       "    .dataframe tbody tr th:only-of-type {\n",
       "        vertical-align: middle;\n",
       "    }\n",
       "\n",
       "    .dataframe tbody tr th {\n",
       "        vertical-align: top;\n",
       "    }\n",
       "\n",
       "    .dataframe thead th {\n",
       "        text-align: right;\n",
       "    }\n",
       "</style>\n",
       "<table border=\"1\" class=\"dataframe\">\n",
       "  <thead>\n",
       "    <tr style=\"text-align: right;\">\n",
       "      <th></th>\n",
       "      <th>name</th>\n",
       "      <th>platform</th>\n",
       "      <th>year_of_release</th>\n",
       "      <th>genre</th>\n",
       "      <th>na_sales</th>\n",
       "      <th>eu_sales</th>\n",
       "      <th>jp_sales</th>\n",
       "      <th>other_sales</th>\n",
       "      <th>critic_score</th>\n",
       "      <th>user_score</th>\n",
       "      <th>rating</th>\n",
       "      <th>user_score_tbd</th>\n",
       "      <th>user_score_nan</th>\n",
       "      <th>total_sales</th>\n",
       "    </tr>\n",
       "  </thead>\n",
       "  <tbody>\n",
       "    <tr>\n",
       "      <td>42</td>\n",
       "      <td>Grand Theft Auto V</td>\n",
       "      <td>PS4</td>\n",
       "      <td>2014.0</td>\n",
       "      <td>Action</td>\n",
       "      <td>3.96</td>\n",
       "      <td>6.31</td>\n",
       "      <td>0.38</td>\n",
       "      <td>1.97</td>\n",
       "      <td>97.0</td>\n",
       "      <td>83.0</td>\n",
       "      <td>M</td>\n",
       "      <td>8.3</td>\n",
       "      <td>8.3</td>\n",
       "      <td>12.62</td>\n",
       "    </tr>\n",
       "    <tr>\n",
       "      <td>77</td>\n",
       "      <td>FIFA 16</td>\n",
       "      <td>PS4</td>\n",
       "      <td>2015.0</td>\n",
       "      <td>Sports</td>\n",
       "      <td>1.12</td>\n",
       "      <td>6.12</td>\n",
       "      <td>0.06</td>\n",
       "      <td>1.28</td>\n",
       "      <td>82.0</td>\n",
       "      <td>43.0</td>\n",
       "      <td>E</td>\n",
       "      <td>4.3</td>\n",
       "      <td>4.3</td>\n",
       "      <td>8.58</td>\n",
       "    </tr>\n",
       "    <tr>\n",
       "      <td>92</td>\n",
       "      <td>Call of Duty: Advanced Warfare</td>\n",
       "      <td>PS4</td>\n",
       "      <td>2014.0</td>\n",
       "      <td>Shooter</td>\n",
       "      <td>2.81</td>\n",
       "      <td>3.48</td>\n",
       "      <td>0.14</td>\n",
       "      <td>1.23</td>\n",
       "      <td>83.0</td>\n",
       "      <td>57.0</td>\n",
       "      <td>M</td>\n",
       "      <td>5.7</td>\n",
       "      <td>5.7</td>\n",
       "      <td>7.66</td>\n",
       "    </tr>\n",
       "    <tr>\n",
       "      <td>94</td>\n",
       "      <td>FIFA 17</td>\n",
       "      <td>PS4</td>\n",
       "      <td>2016.0</td>\n",
       "      <td>Sports</td>\n",
       "      <td>0.66</td>\n",
       "      <td>5.75</td>\n",
       "      <td>0.08</td>\n",
       "      <td>1.11</td>\n",
       "      <td>85.0</td>\n",
       "      <td>50.0</td>\n",
       "      <td>E</td>\n",
       "      <td>5</td>\n",
       "      <td>5</td>\n",
       "      <td>7.60</td>\n",
       "    </tr>\n",
       "    <tr>\n",
       "      <td>105</td>\n",
       "      <td>Fallout 4</td>\n",
       "      <td>PS4</td>\n",
       "      <td>2015.0</td>\n",
       "      <td>Role-Playing</td>\n",
       "      <td>2.53</td>\n",
       "      <td>3.27</td>\n",
       "      <td>0.24</td>\n",
       "      <td>1.13</td>\n",
       "      <td>87.0</td>\n",
       "      <td>65.0</td>\n",
       "      <td>M</td>\n",
       "      <td>6.5</td>\n",
       "      <td>6.5</td>\n",
       "      <td>7.17</td>\n",
       "    </tr>\n",
       "  </tbody>\n",
       "</table>\n",
       "</div>"
      ],
      "text/plain": [
       "                               name platform  year_of_release         genre  \\\n",
       "42               Grand Theft Auto V      PS4           2014.0        Action   \n",
       "77                          FIFA 16      PS4           2015.0        Sports   \n",
       "92   Call of Duty: Advanced Warfare      PS4           2014.0       Shooter   \n",
       "94                          FIFA 17      PS4           2016.0        Sports   \n",
       "105                       Fallout 4      PS4           2015.0  Role-Playing   \n",
       "\n",
       "     na_sales  eu_sales  jp_sales  other_sales  critic_score  user_score  \\\n",
       "42       3.96      6.31      0.38         1.97          97.0        83.0   \n",
       "77       1.12      6.12      0.06         1.28          82.0        43.0   \n",
       "92       2.81      3.48      0.14         1.23          83.0        57.0   \n",
       "94       0.66      5.75      0.08         1.11          85.0        50.0   \n",
       "105      2.53      3.27      0.24         1.13          87.0        65.0   \n",
       "\n",
       "    rating user_score_tbd user_score_nan  total_sales  \n",
       "42       M            8.3            8.3        12.62  \n",
       "77       E            4.3            4.3         8.58  \n",
       "92       M            5.7            5.7         7.66  \n",
       "94       E              5              5         7.60  \n",
       "105      M            6.5            6.5         7.17  "
      ]
     },
     "execution_count": 44,
     "metadata": {},
     "output_type": "execute_result"
    }
   ],
   "source": [
    "df_new_reviews=df_new.dropna().query('user_score>0 & platform==\"PS4\"')\n",
    "df_new_reviews.head()"
   ]
  },
  {
   "cell_type": "code",
   "execution_count": 45,
   "metadata": {},
   "outputs": [
    {
     "data": {
      "text/plain": [
       "'Correlation score between critics score and sales: 0.35'"
      ]
     },
     "execution_count": 45,
     "metadata": {},
     "output_type": "execute_result"
    },
    {
     "data": {
      "text/plain": [
       "'Correlation score between users score and sales: -0.03'"
      ]
     },
     "execution_count": 45,
     "metadata": {},
     "output_type": "execute_result"
    }
   ],
   "source": [
    "corr_sales_critic_score=df_new_reviews['total_sales'].corr(df_new_reviews['critic_score'])\n",
    "corr_sales_user_score=df_new_reviews['total_sales'].corr(df_new_reviews['user_score'])\n",
    "'Correlation score between critics score and sales: {:.2f}'.format(corr_sales_critic_score)\n",
    "'Correlation score between users score and sales: {:.2f}'.format(corr_sales_user_score)"
   ]
  },
  {
   "cell_type": "code",
   "execution_count": 46,
   "metadata": {},
   "outputs": [
    {
     "data": {
      "image/png": "[encoded data removed]",
      "text/plain": [
       "<Figure size 540x540 with 12 Axes>"
      ]
     },
     "metadata": {
      "needs_background": "light"
     },
     "output_type": "display_data"
    }
   ],
   "source": [
    "df_new_reviews_mini=df_new_reviews[['total_sales','critic_score','user_score']]\n",
    "ax = sns.pairplot(data=df_new_reviews_mini);"
   ]
  },
  {
   "cell_type": "markdown",
   "metadata": {},
   "source": [
    "I want to see if there are correlations between 2 pairs:  \n",
    "1. Sales and critic score.\n",
    "2. Sales and user score.\n",
    "Looking at the graphs it's hard to see a significant difference between the 2 correlations, but the correlation score is much higher between critics reviews and game sales rather than on the second pair. I think the reason is that gamers have more credit to critics opinions rather than some John Doe in the net.  \n",
    "  \n",
    "Only major games are being reviewed by critics, but the correlations between sales and the score of those games are not that strong."
   ]
  },
  {
   "cell_type": "markdown",
   "metadata": {},
   "source": [
    "#### Comparison between sales of the same games across deferent platforms"
   ]
  },
  {
   "cell_type": "code",
   "execution_count": 47,
   "metadata": {},
   "outputs": [
    {
     "data": {
      "text/html": [
       "<div>\n",
       "<style scoped>\n",
       "    .dataframe tbody tr th:only-of-type {\n",
       "        vertical-align: middle;\n",
       "    }\n",
       "\n",
       "    .dataframe tbody tr th {\n",
       "        vertical-align: top;\n",
       "    }\n",
       "\n",
       "    .dataframe thead th {\n",
       "        text-align: right;\n",
       "    }\n",
       "</style>\n",
       "<table border=\"1\" class=\"dataframe\">\n",
       "  <thead>\n",
       "    <tr style=\"text-align: right;\">\n",
       "      <th>platform</th>\n",
       "      <th>3DS</th>\n",
       "      <th>DS</th>\n",
       "      <th>PC</th>\n",
       "      <th>PS3</th>\n",
       "      <th>PS4</th>\n",
       "      <th>PSP</th>\n",
       "      <th>PSV</th>\n",
       "      <th>Wii</th>\n",
       "      <th>WiiU</th>\n",
       "      <th>X360</th>\n",
       "      <th>XOne</th>\n",
       "    </tr>\n",
       "    <tr>\n",
       "      <th>name</th>\n",
       "      <th></th>\n",
       "      <th></th>\n",
       "      <th></th>\n",
       "      <th></th>\n",
       "      <th></th>\n",
       "      <th></th>\n",
       "      <th></th>\n",
       "      <th></th>\n",
       "      <th></th>\n",
       "      <th></th>\n",
       "      <th></th>\n",
       "    </tr>\n",
       "  </thead>\n",
       "  <tbody>\n",
       "    <tr>\n",
       "      <td>Call of Duty: Black Ops 3</td>\n",
       "      <td>NaN</td>\n",
       "      <td>NaN</td>\n",
       "      <td>0.26</td>\n",
       "      <td>1.69</td>\n",
       "      <td>14.63</td>\n",
       "      <td>NaN</td>\n",
       "      <td>NaN</td>\n",
       "      <td>NaN</td>\n",
       "      <td>NaN</td>\n",
       "      <td>1.70</td>\n",
       "      <td>7.39</td>\n",
       "    </tr>\n",
       "    <tr>\n",
       "      <td>Grand Theft Auto V</td>\n",
       "      <td>NaN</td>\n",
       "      <td>NaN</td>\n",
       "      <td>1.17</td>\n",
       "      <td>21.05</td>\n",
       "      <td>12.62</td>\n",
       "      <td>NaN</td>\n",
       "      <td>NaN</td>\n",
       "      <td>NaN</td>\n",
       "      <td>NaN</td>\n",
       "      <td>16.27</td>\n",
       "      <td>5.47</td>\n",
       "    </tr>\n",
       "    <tr>\n",
       "      <td>FIFA 16</td>\n",
       "      <td>NaN</td>\n",
       "      <td>NaN</td>\n",
       "      <td>0.20</td>\n",
       "      <td>2.70</td>\n",
       "      <td>8.58</td>\n",
       "      <td>NaN</td>\n",
       "      <td>NaN</td>\n",
       "      <td>NaN</td>\n",
       "      <td>NaN</td>\n",
       "      <td>1.57</td>\n",
       "      <td>3.25</td>\n",
       "    </tr>\n",
       "    <tr>\n",
       "      <td>Star Wars Battlefront (2015)</td>\n",
       "      <td>NaN</td>\n",
       "      <td>NaN</td>\n",
       "      <td>0.55</td>\n",
       "      <td>NaN</td>\n",
       "      <td>7.98</td>\n",
       "      <td>NaN</td>\n",
       "      <td>NaN</td>\n",
       "      <td>NaN</td>\n",
       "      <td>NaN</td>\n",
       "      <td>NaN</td>\n",
       "      <td>3.66</td>\n",
       "    </tr>\n",
       "    <tr>\n",
       "      <td>Call of Duty: Advanced Warfare</td>\n",
       "      <td>NaN</td>\n",
       "      <td>NaN</td>\n",
       "      <td>0.41</td>\n",
       "      <td>4.36</td>\n",
       "      <td>7.66</td>\n",
       "      <td>NaN</td>\n",
       "      <td>NaN</td>\n",
       "      <td>NaN</td>\n",
       "      <td>NaN</td>\n",
       "      <td>4.28</td>\n",
       "      <td>5.26</td>\n",
       "    </tr>\n",
       "    <tr>\n",
       "      <td>...</td>\n",
       "      <td>...</td>\n",
       "      <td>...</td>\n",
       "      <td>...</td>\n",
       "      <td>...</td>\n",
       "      <td>...</td>\n",
       "      <td>...</td>\n",
       "      <td>...</td>\n",
       "      <td>...</td>\n",
       "      <td>...</td>\n",
       "      <td>...</td>\n",
       "      <td>...</td>\n",
       "    </tr>\n",
       "    <tr>\n",
       "      <td>Zumba Fitness Rush</td>\n",
       "      <td>NaN</td>\n",
       "      <td>NaN</td>\n",
       "      <td>NaN</td>\n",
       "      <td>NaN</td>\n",
       "      <td>NaN</td>\n",
       "      <td>NaN</td>\n",
       "      <td>NaN</td>\n",
       "      <td>NaN</td>\n",
       "      <td>NaN</td>\n",
       "      <td>0.18</td>\n",
       "      <td>NaN</td>\n",
       "    </tr>\n",
       "    <tr>\n",
       "      <td>Zumba Fitness: World Party</td>\n",
       "      <td>NaN</td>\n",
       "      <td>NaN</td>\n",
       "      <td>NaN</td>\n",
       "      <td>NaN</td>\n",
       "      <td>NaN</td>\n",
       "      <td>NaN</td>\n",
       "      <td>NaN</td>\n",
       "      <td>0.23</td>\n",
       "      <td>NaN</td>\n",
       "      <td>NaN</td>\n",
       "      <td>0.24</td>\n",
       "    </tr>\n",
       "    <tr>\n",
       "      <td>Zyuden Sentai Kyoryuger: Game de Gaburincho!!</td>\n",
       "      <td>0.05</td>\n",
       "      <td>NaN</td>\n",
       "      <td>NaN</td>\n",
       "      <td>NaN</td>\n",
       "      <td>NaN</td>\n",
       "      <td>NaN</td>\n",
       "      <td>NaN</td>\n",
       "      <td>NaN</td>\n",
       "      <td>NaN</td>\n",
       "      <td>NaN</td>\n",
       "      <td>NaN</td>\n",
       "    </tr>\n",
       "    <tr>\n",
       "      <td>[Prototype 2]</td>\n",
       "      <td>NaN</td>\n",
       "      <td>NaN</td>\n",
       "      <td>0.11</td>\n",
       "      <td>0.74</td>\n",
       "      <td>NaN</td>\n",
       "      <td>NaN</td>\n",
       "      <td>NaN</td>\n",
       "      <td>NaN</td>\n",
       "      <td>NaN</td>\n",
       "      <td>0.79</td>\n",
       "      <td>NaN</td>\n",
       "    </tr>\n",
       "    <tr>\n",
       "      <td>htoL#NiQ: The Firefly Diary</td>\n",
       "      <td>NaN</td>\n",
       "      <td>NaN</td>\n",
       "      <td>NaN</td>\n",
       "      <td>NaN</td>\n",
       "      <td>NaN</td>\n",
       "      <td>NaN</td>\n",
       "      <td>0.01</td>\n",
       "      <td>NaN</td>\n",
       "      <td>NaN</td>\n",
       "      <td>NaN</td>\n",
       "      <td>NaN</td>\n",
       "    </tr>\n",
       "  </tbody>\n",
       "</table>\n",
       "<p>1671 rows × 11 columns</p>\n",
       "</div>"
      ],
      "text/plain": [
       "platform                                        3DS  DS    PC    PS3    PS4  \\\n",
       "name                                                                          \n",
       "Call of Duty: Black Ops 3                       NaN NaN  0.26   1.69  14.63   \n",
       "Grand Theft Auto V                              NaN NaN  1.17  21.05  12.62   \n",
       "FIFA 16                                         NaN NaN  0.20   2.70   8.58   \n",
       "Star Wars Battlefront (2015)                    NaN NaN  0.55    NaN   7.98   \n",
       "Call of Duty: Advanced Warfare                  NaN NaN  0.41   4.36   7.66   \n",
       "...                                             ...  ..   ...    ...    ...   \n",
       "Zumba Fitness Rush                              NaN NaN   NaN    NaN    NaN   \n",
       "Zumba Fitness: World Party                      NaN NaN   NaN    NaN    NaN   \n",
       "Zyuden Sentai Kyoryuger: Game de Gaburincho!!  0.05 NaN   NaN    NaN    NaN   \n",
       "[Prototype 2]                                   NaN NaN  0.11   0.74    NaN   \n",
       "htoL#NiQ: The Firefly Diary                     NaN NaN   NaN    NaN    NaN   \n",
       "\n",
       "platform                                       PSP   PSV   Wii  WiiU   X360  \\\n",
       "name                                                                          \n",
       "Call of Duty: Black Ops 3                      NaN   NaN   NaN   NaN   1.70   \n",
       "Grand Theft Auto V                             NaN   NaN   NaN   NaN  16.27   \n",
       "FIFA 16                                        NaN   NaN   NaN   NaN   1.57   \n",
       "Star Wars Battlefront (2015)                   NaN   NaN   NaN   NaN    NaN   \n",
       "Call of Duty: Advanced Warfare                 NaN   NaN   NaN   NaN   4.28   \n",
       "...                                            ...   ...   ...   ...    ...   \n",
       "Zumba Fitness Rush                             NaN   NaN   NaN   NaN   0.18   \n",
       "Zumba Fitness: World Party                     NaN   NaN  0.23   NaN    NaN   \n",
       "Zyuden Sentai Kyoryuger: Game de Gaburincho!!  NaN   NaN   NaN   NaN    NaN   \n",
       "[Prototype 2]                                  NaN   NaN   NaN   NaN   0.79   \n",
       "htoL#NiQ: The Firefly Diary                    NaN  0.01   NaN   NaN    NaN   \n",
       "\n",
       "platform                                       XOne  \n",
       "name                                                 \n",
       "Call of Duty: Black Ops 3                      7.39  \n",
       "Grand Theft Auto V                             5.47  \n",
       "FIFA 16                                        3.25  \n",
       "Star Wars Battlefront (2015)                   3.66  \n",
       "Call of Duty: Advanced Warfare                 5.26  \n",
       "...                                             ...  \n",
       "Zumba Fitness Rush                              NaN  \n",
       "Zumba Fitness: World Party                     0.24  \n",
       "Zyuden Sentai Kyoryuger: Game de Gaburincho!!   NaN  \n",
       "[Prototype 2]                                   NaN  \n",
       "htoL#NiQ: The Firefly Diary                     NaN  \n",
       "\n",
       "[1671 rows x 11 columns]"
      ]
     },
     "execution_count": 47,
     "metadata": {},
     "output_type": "execute_result"
    }
   ],
   "source": [
    "df_game_platform=df_new.pivot_table(index='name', columns='platform', values='total_sales', aggfunc='sum')\n",
    "df_game_platform.sort_values('PS4', ascending=False)"
   ]
  },
  {
   "cell_type": "markdown",
   "metadata": {},
   "source": [
    "The games sale is divided into 2 main groups - major platforms - XBox, PlayStation, and PC in the first group. The rest of the games are on the rest of the platforms"
   ]
  },
  {
   "cell_type": "markdown",
   "metadata": {},
   "source": [
    "#### Game distribution by genre"
   ]
  },
  {
   "cell_type": "markdown",
   "metadata": {},
   "source": [
    "I need to check the distribution of games by genre to understand which genres are more profitable than others.  \n",
    "In the next table, I sorted the most profitable genres to the top."
   ]
  },
  {
   "cell_type": "code",
   "execution_count": 48,
   "metadata": {},
   "outputs": [
    {
     "data": {
      "text/html": [
       "<div>\n",
       "<style scoped>\n",
       "    .dataframe tbody tr th:only-of-type {\n",
       "        vertical-align: middle;\n",
       "    }\n",
       "\n",
       "    .dataframe tbody tr th {\n",
       "        vertical-align: top;\n",
       "    }\n",
       "\n",
       "    .dataframe thead th {\n",
       "        text-align: right;\n",
       "    }\n",
       "</style>\n",
       "<table border=\"1\" class=\"dataframe\">\n",
       "  <thead>\n",
       "    <tr style=\"text-align: right;\">\n",
       "      <th></th>\n",
       "      <th>count</th>\n",
       "      <th>total_genre_sales</th>\n",
       "    </tr>\n",
       "    <tr>\n",
       "      <th>genre</th>\n",
       "      <th></th>\n",
       "      <th></th>\n",
       "    </tr>\n",
       "  </thead>\n",
       "  <tbody>\n",
       "    <tr>\n",
       "      <td>Action</td>\n",
       "      <td>1031</td>\n",
       "      <td>441.12</td>\n",
       "    </tr>\n",
       "    <tr>\n",
       "      <td>Shooter</td>\n",
       "      <td>235</td>\n",
       "      <td>304.73</td>\n",
       "    </tr>\n",
       "    <tr>\n",
       "      <td>Role-Playing</td>\n",
       "      <td>370</td>\n",
       "      <td>192.80</td>\n",
       "    </tr>\n",
       "    <tr>\n",
       "      <td>Sports</td>\n",
       "      <td>268</td>\n",
       "      <td>181.07</td>\n",
       "    </tr>\n",
       "    <tr>\n",
       "      <td>Misc</td>\n",
       "      <td>192</td>\n",
       "      <td>85.04</td>\n",
       "    </tr>\n",
       "    <tr>\n",
       "      <td>Platform</td>\n",
       "      <td>85</td>\n",
       "      <td>61.00</td>\n",
       "    </tr>\n",
       "    <tr>\n",
       "      <td>Racing</td>\n",
       "      <td>115</td>\n",
       "      <td>53.50</td>\n",
       "    </tr>\n",
       "    <tr>\n",
       "      <td>Fighting</td>\n",
       "      <td>109</td>\n",
       "      <td>44.49</td>\n",
       "    </tr>\n",
       "    <tr>\n",
       "      <td>Simulation</td>\n",
       "      <td>80</td>\n",
       "      <td>35.12</td>\n",
       "    </tr>\n",
       "    <tr>\n",
       "      <td>Adventure</td>\n",
       "      <td>302</td>\n",
       "      <td>29.43</td>\n",
       "    </tr>\n",
       "    <tr>\n",
       "      <td>Strategy</td>\n",
       "      <td>71</td>\n",
       "      <td>13.34</td>\n",
       "    </tr>\n",
       "    <tr>\n",
       "      <td>Puzzle</td>\n",
       "      <td>28</td>\n",
       "      <td>4.89</td>\n",
       "    </tr>\n",
       "  </tbody>\n",
       "</table>\n",
       "</div>"
      ],
      "text/plain": [
       "              count  total_genre_sales\n",
       "genre                                 \n",
       "Action         1031             441.12\n",
       "Shooter         235             304.73\n",
       "Role-Playing    370             192.80\n",
       "Sports          268             181.07\n",
       "Misc            192              85.04\n",
       "Platform         85              61.00\n",
       "Racing          115              53.50\n",
       "Fighting        109              44.49\n",
       "Simulation       80              35.12\n",
       "Adventure       302              29.43\n",
       "Strategy         71              13.34\n",
       "Puzzle           28               4.89"
      ]
     },
     "execution_count": 48,
     "metadata": {},
     "output_type": "execute_result"
    }
   ],
   "source": [
    "df_new_genre=df_new.pivot_table(index='genre', values='total_sales', aggfunc=['count','sum'])\n",
    "df_new_genre=df_new_genre.swaplevel(0,1,axis=1)\n",
    "df_new_genre=df_new_genre.total_sales.rename_axis(None, axis=1)\n",
    "df_new_genre.columns=['count','total_genre_sales']\n",
    "df_new_genre=df_new_genre.sort_values('total_genre_sales', ascending=False)\n",
    "\n",
    "df_new_genre"
   ]
  },
  {
   "cell_type": "code",
   "execution_count": 49,
   "metadata": {},
   "outputs": [
    {
     "data": {
      "image/png": "[encoded data removed]",
      "text/plain": [
       "<Figure size 1008x432 with 1 Axes>"
      ]
     },
     "metadata": {
      "needs_background": "light"
     },
     "output_type": "display_data"
    }
   ],
   "source": [
    "fig, ax = plt.subplots()\n",
    "fig.set_size_inches(14, 6)\n",
    "\n",
    "sns.barplot(x=df_new_genre.index, y=\"total_genre_sales\", data=df_new_genre)\n",
    "\n",
    "ax.set_xlabel(\"Genre\", fontsize=14)\n",
    "ax.set_ylabel(\"Total sales (Millions)\", fontsize=14)\n",
    "ax.axes.set_title(\"Total Sales per Genre\", fontsize=16);\n",
    "\n",
    "plt.show();"
   ]
  },
  {
   "cell_type": "markdown",
   "metadata": {},
   "source": [
    "### Create a user profile for each region"
   ]
  },
  {
   "cell_type": "markdown",
   "metadata": {},
   "source": [
    "I need to find all kinds of statistics regarding the deferent region Ice store is selling in."
   ]
  },
  {
   "cell_type": "markdown",
   "metadata": {},
   "source": [
    "#### Top 5 selling platforms in each region"
   ]
  },
  {
   "cell_type": "code",
   "execution_count": 50,
   "metadata": {},
   "outputs": [
    {
     "data": {
      "text/html": [
       "<div>\n",
       "<style scoped>\n",
       "    .dataframe tbody tr th:only-of-type {\n",
       "        vertical-align: middle;\n",
       "    }\n",
       "\n",
       "    .dataframe tbody tr th {\n",
       "        vertical-align: top;\n",
       "    }\n",
       "\n",
       "    .dataframe thead tr th {\n",
       "        text-align: left;\n",
       "    }\n",
       "\n",
       "    .dataframe thead tr:last-of-type th {\n",
       "        text-align: right;\n",
       "    }\n",
       "</style>\n",
       "<table border=\"1\" class=\"dataframe\">\n",
       "  <thead>\n",
       "    <tr>\n",
       "      <th></th>\n",
       "      <th colspan=\"2\" halign=\"left\">North America</th>\n",
       "      <th colspan=\"2\" halign=\"left\">Europe</th>\n",
       "      <th colspan=\"2\" halign=\"left\">Japan</th>\n",
       "    </tr>\n",
       "    <tr>\n",
       "      <th></th>\n",
       "      <th>platform</th>\n",
       "      <th>na_sales</th>\n",
       "      <th>platform</th>\n",
       "      <th>eu_sales</th>\n",
       "      <th>platform</th>\n",
       "      <th>jp_sales</th>\n",
       "    </tr>\n",
       "    <tr>\n",
       "      <th>no</th>\n",
       "      <th></th>\n",
       "      <th></th>\n",
       "      <th></th>\n",
       "      <th></th>\n",
       "      <th></th>\n",
       "      <th></th>\n",
       "    </tr>\n",
       "  </thead>\n",
       "  <tbody>\n",
       "    <tr>\n",
       "      <td>1</td>\n",
       "      <td>X360</td>\n",
       "      <td>140.05</td>\n",
       "      <td>PS4</td>\n",
       "      <td>141.09</td>\n",
       "      <td>3DS</td>\n",
       "      <td>87.79</td>\n",
       "    </tr>\n",
       "    <tr>\n",
       "      <td>2</td>\n",
       "      <td>PS4</td>\n",
       "      <td>108.74</td>\n",
       "      <td>PS3</td>\n",
       "      <td>106.86</td>\n",
       "      <td>PS3</td>\n",
       "      <td>35.29</td>\n",
       "    </tr>\n",
       "    <tr>\n",
       "      <td>3</td>\n",
       "      <td>PS3</td>\n",
       "      <td>103.38</td>\n",
       "      <td>X360</td>\n",
       "      <td>74.52</td>\n",
       "      <td>PSV</td>\n",
       "      <td>21.04</td>\n",
       "    </tr>\n",
       "    <tr>\n",
       "      <td>4</td>\n",
       "      <td>XOne</td>\n",
       "      <td>93.12</td>\n",
       "      <td>XOne</td>\n",
       "      <td>51.59</td>\n",
       "      <td>PS4</td>\n",
       "      <td>15.96</td>\n",
       "    </tr>\n",
       "    <tr>\n",
       "      <td>5</td>\n",
       "      <td>3DS</td>\n",
       "      <td>55.31</td>\n",
       "      <td>3DS</td>\n",
       "      <td>42.64</td>\n",
       "      <td>WiiU</td>\n",
       "      <td>13.01</td>\n",
       "    </tr>\n",
       "  </tbody>\n",
       "</table>\n",
       "</div>"
      ],
      "text/plain": [
       "   North America            Europe             Japan         \n",
       "        platform na_sales platform eu_sales platform jp_sales\n",
       "no                                                           \n",
       "1           X360   140.05      PS4   141.09      3DS    87.79\n",
       "2            PS4   108.74      PS3   106.86      PS3    35.29\n",
       "3            PS3   103.38     X360    74.52      PSV    21.04\n",
       "4           XOne    93.12     XOne    51.59      PS4    15.96\n",
       "5            3DS    55.31      3DS    42.64     WiiU    13.01"
      ]
     },
     "execution_count": 50,
     "metadata": {},
     "output_type": "execute_result"
    }
   ],
   "source": [
    "df_na=df_new.pivot_table(index='platform', values='na_sales', aggfunc='sum').sort_values('na_sales',ascending=False).head()\n",
    "df_na=df_na.reset_index().set_index([pd.Index([1, 2, 3, 4, 5])])\n",
    "df_na.index.names=['no']\n",
    "\n",
    "df_eu=df_new.pivot_table(index='platform', values='eu_sales', aggfunc='sum').sort_values('eu_sales',ascending=False).head()\n",
    "df_eu=df_eu.reset_index().set_index([pd.Index([1, 2, 3, 4, 5])])\n",
    "df_eu.index.names=['no']\n",
    "\n",
    "df_jp=df_new.pivot_table(index='platform', values='jp_sales', aggfunc='sum').sort_values('jp_sales',ascending=False).head()\n",
    "df_jp=df_jp.reset_index().set_index([pd.Index([1, 2, 3, 4, 5])])\n",
    "df_jp.index.names=['no']\n",
    "\n",
    "df_platform_region=pd.concat([df_na, df_eu, df_jp], axis='columns', keys=['North America','Europe', 'Japan'],sort=False)\n",
    "df_platform_region"
   ]
  },
  {
   "cell_type": "markdown",
   "metadata": {},
   "source": [
    "Looking at the table above (platform sales per region) it can be seen that Europe and North America are liking the same platforms (only the X360 place is changed), while the Japanese market is totally different."
   ]
  },
  {
   "cell_type": "markdown",
   "metadata": {},
   "source": [
    "#### Top 5 selling genres in each region"
   ]
  },
  {
   "cell_type": "code",
   "execution_count": 51,
   "metadata": {},
   "outputs": [
    {
     "data": {
      "text/html": [
       "<div>\n",
       "<style scoped>\n",
       "    .dataframe tbody tr th:only-of-type {\n",
       "        vertical-align: middle;\n",
       "    }\n",
       "\n",
       "    .dataframe tbody tr th {\n",
       "        vertical-align: top;\n",
       "    }\n",
       "\n",
       "    .dataframe thead tr th {\n",
       "        text-align: left;\n",
       "    }\n",
       "\n",
       "    .dataframe thead tr:last-of-type th {\n",
       "        text-align: right;\n",
       "    }\n",
       "</style>\n",
       "<table border=\"1\" class=\"dataframe\">\n",
       "  <thead>\n",
       "    <tr>\n",
       "      <th></th>\n",
       "      <th colspan=\"2\" halign=\"left\">North America</th>\n",
       "      <th colspan=\"2\" halign=\"left\">Europe</th>\n",
       "      <th colspan=\"2\" halign=\"left\">Japan</th>\n",
       "    </tr>\n",
       "    <tr>\n",
       "      <th></th>\n",
       "      <th>genre</th>\n",
       "      <th>na_sales</th>\n",
       "      <th>genre</th>\n",
       "      <th>eu_sales</th>\n",
       "      <th>genre</th>\n",
       "      <th>jp_sales</th>\n",
       "    </tr>\n",
       "    <tr>\n",
       "      <th>no</th>\n",
       "      <th></th>\n",
       "      <th></th>\n",
       "      <th></th>\n",
       "      <th></th>\n",
       "      <th></th>\n",
       "      <th></th>\n",
       "    </tr>\n",
       "  </thead>\n",
       "  <tbody>\n",
       "    <tr>\n",
       "      <td>1</td>\n",
       "      <td>Action</td>\n",
       "      <td>177.84</td>\n",
       "      <td>Action</td>\n",
       "      <td>159.34</td>\n",
       "      <td>Role-Playing</td>\n",
       "      <td>65.44</td>\n",
       "    </tr>\n",
       "    <tr>\n",
       "      <td>2</td>\n",
       "      <td>Shooter</td>\n",
       "      <td>144.77</td>\n",
       "      <td>Shooter</td>\n",
       "      <td>113.47</td>\n",
       "      <td>Action</td>\n",
       "      <td>52.80</td>\n",
       "    </tr>\n",
       "    <tr>\n",
       "      <td>3</td>\n",
       "      <td>Sports</td>\n",
       "      <td>81.53</td>\n",
       "      <td>Sports</td>\n",
       "      <td>69.09</td>\n",
       "      <td>Misc</td>\n",
       "      <td>12.86</td>\n",
       "    </tr>\n",
       "    <tr>\n",
       "      <td>4</td>\n",
       "      <td>Role-Playing</td>\n",
       "      <td>64.00</td>\n",
       "      <td>Role-Playing</td>\n",
       "      <td>48.53</td>\n",
       "      <td>Simulation</td>\n",
       "      <td>10.41</td>\n",
       "    </tr>\n",
       "    <tr>\n",
       "      <td>5</td>\n",
       "      <td>Misc</td>\n",
       "      <td>38.19</td>\n",
       "      <td>Racing</td>\n",
       "      <td>27.29</td>\n",
       "      <td>Fighting</td>\n",
       "      <td>9.44</td>\n",
       "    </tr>\n",
       "  </tbody>\n",
       "</table>\n",
       "</div>"
      ],
      "text/plain": [
       "   North America                 Europe                  Japan         \n",
       "           genre na_sales         genre eu_sales         genre jp_sales\n",
       "no                                                                     \n",
       "1         Action   177.84        Action   159.34  Role-Playing    65.44\n",
       "2        Shooter   144.77       Shooter   113.47        Action    52.80\n",
       "3         Sports    81.53        Sports    69.09          Misc    12.86\n",
       "4   Role-Playing    64.00  Role-Playing    48.53    Simulation    10.41\n",
       "5           Misc    38.19        Racing    27.29      Fighting     9.44"
      ]
     },
     "execution_count": 51,
     "metadata": {},
     "output_type": "execute_result"
    }
   ],
   "source": [
    "df_na=df_new.pivot_table(index='genre', values='na_sales', aggfunc='sum').sort_values('na_sales',ascending=False).head()\n",
    "df_na=df_na.reset_index().set_index([pd.Index([1, 2, 3, 4, 5])])\n",
    "df_na.index.names=['no']\n",
    "\n",
    "df_eu=df_new.pivot_table(index='genre', values='eu_sales', aggfunc='sum').sort_values('eu_sales',ascending=False).head()\n",
    "df_eu=df_eu.reset_index().set_index([pd.Index([1, 2, 3, 4, 5])])\n",
    "df_eu.index.names=['no']\n",
    "\n",
    "df_jp=df_new.pivot_table(index='genre', values='jp_sales', aggfunc='sum').sort_values('jp_sales',ascending=False).head()\n",
    "df_jp=df_jp.reset_index().set_index([pd.Index([1, 2, 3, 4, 5])])\n",
    "df_jp.index.names=['no']\n",
    "\n",
    "df_platform_region=pd.concat([df_na, df_eu, df_jp], axis='columns', keys=['North America','Europe', 'Japan'],sort=False)\n",
    "df_platform_region"
   ]
  },
  {
   "cell_type": "markdown",
   "metadata": {},
   "source": [
    "Looking at the table above (genre sales per region) it can be seen that Europe and North America have almost the same passion for the same games, while the Japanese market is totally different."
   ]
  },
  {
   "cell_type": "markdown",
   "metadata": {},
   "source": [
    "#### How ESRB ratings affect sales in each regions"
   ]
  },
  {
   "cell_type": "code",
   "execution_count": 52,
   "metadata": {},
   "outputs": [
    {
     "data": {
      "text/html": [
       "<div>\n",
       "<style scoped>\n",
       "    .dataframe tbody tr th:only-of-type {\n",
       "        vertical-align: middle;\n",
       "    }\n",
       "\n",
       "    .dataframe tbody tr th {\n",
       "        vertical-align: top;\n",
       "    }\n",
       "\n",
       "    .dataframe thead th {\n",
       "        text-align: right;\n",
       "    }\n",
       "</style>\n",
       "<table border=\"1\" class=\"dataframe\">\n",
       "  <thead>\n",
       "    <tr style=\"text-align: right;\">\n",
       "      <th></th>\n",
       "      <th>name</th>\n",
       "      <th>platform</th>\n",
       "      <th>year_of_release</th>\n",
       "      <th>genre</th>\n",
       "      <th>na_sales</th>\n",
       "      <th>eu_sales</th>\n",
       "      <th>jp_sales</th>\n",
       "      <th>other_sales</th>\n",
       "      <th>critic_score</th>\n",
       "      <th>user_score</th>\n",
       "      <th>rating</th>\n",
       "      <th>user_score_tbd</th>\n",
       "      <th>user_score_nan</th>\n",
       "      <th>total_sales</th>\n",
       "    </tr>\n",
       "  </thead>\n",
       "  <tbody>\n",
       "    <tr>\n",
       "      <td>16</td>\n",
       "      <td>Grand Theft Auto V</td>\n",
       "      <td>PS3</td>\n",
       "      <td>2013.0</td>\n",
       "      <td>Action</td>\n",
       "      <td>7.02</td>\n",
       "      <td>9.09</td>\n",
       "      <td>0.98</td>\n",
       "      <td>3.96</td>\n",
       "      <td>97.0</td>\n",
       "      <td>82.0</td>\n",
       "      <td>M</td>\n",
       "      <td>8.2</td>\n",
       "      <td>8.2</td>\n",
       "      <td>21.05</td>\n",
       "    </tr>\n",
       "    <tr>\n",
       "      <td>23</td>\n",
       "      <td>Grand Theft Auto V</td>\n",
       "      <td>X360</td>\n",
       "      <td>2013.0</td>\n",
       "      <td>Action</td>\n",
       "      <td>9.66</td>\n",
       "      <td>5.14</td>\n",
       "      <td>0.06</td>\n",
       "      <td>1.41</td>\n",
       "      <td>97.0</td>\n",
       "      <td>81.0</td>\n",
       "      <td>M</td>\n",
       "      <td>8.1</td>\n",
       "      <td>8.1</td>\n",
       "      <td>16.27</td>\n",
       "    </tr>\n",
       "    <tr>\n",
       "      <td>31</td>\n",
       "      <td>Call of Duty: Black Ops 3</td>\n",
       "      <td>PS4</td>\n",
       "      <td>2015.0</td>\n",
       "      <td>Shooter</td>\n",
       "      <td>6.03</td>\n",
       "      <td>5.86</td>\n",
       "      <td>0.36</td>\n",
       "      <td>2.38</td>\n",
       "      <td>0.0</td>\n",
       "      <td>0.0</td>\n",
       "      <td>NaN</td>\n",
       "      <td>NaN</td>\n",
       "      <td>NaN</td>\n",
       "      <td>14.63</td>\n",
       "    </tr>\n",
       "    <tr>\n",
       "      <td>33</td>\n",
       "      <td>Pokemon X/Pokemon Y</td>\n",
       "      <td>3DS</td>\n",
       "      <td>2013.0</td>\n",
       "      <td>Role-Playing</td>\n",
       "      <td>5.28</td>\n",
       "      <td>4.19</td>\n",
       "      <td>4.35</td>\n",
       "      <td>0.78</td>\n",
       "      <td>0.0</td>\n",
       "      <td>0.0</td>\n",
       "      <td>NaN</td>\n",
       "      <td>NaN</td>\n",
       "      <td>NaN</td>\n",
       "      <td>14.60</td>\n",
       "    </tr>\n",
       "    <tr>\n",
       "      <td>34</td>\n",
       "      <td>Call of Duty: Black Ops II</td>\n",
       "      <td>PS3</td>\n",
       "      <td>2012.0</td>\n",
       "      <td>Shooter</td>\n",
       "      <td>4.99</td>\n",
       "      <td>5.73</td>\n",
       "      <td>0.65</td>\n",
       "      <td>2.42</td>\n",
       "      <td>83.0</td>\n",
       "      <td>53.0</td>\n",
       "      <td>M</td>\n",
       "      <td>5.3</td>\n",
       "      <td>5.3</td>\n",
       "      <td>13.79</td>\n",
       "    </tr>\n",
       "  </tbody>\n",
       "</table>\n",
       "</div>"
      ],
      "text/plain": [
       "                          name platform  year_of_release         genre  \\\n",
       "16          Grand Theft Auto V      PS3           2013.0        Action   \n",
       "23          Grand Theft Auto V     X360           2013.0        Action   \n",
       "31   Call of Duty: Black Ops 3      PS4           2015.0       Shooter   \n",
       "33         Pokemon X/Pokemon Y      3DS           2013.0  Role-Playing   \n",
       "34  Call of Duty: Black Ops II      PS3           2012.0       Shooter   \n",
       "\n",
       "    na_sales  eu_sales  jp_sales  other_sales  critic_score  user_score  \\\n",
       "16      7.02      9.09      0.98         3.96          97.0        82.0   \n",
       "23      9.66      5.14      0.06         1.41          97.0        81.0   \n",
       "31      6.03      5.86      0.36         2.38           0.0         0.0   \n",
       "33      5.28      4.19      4.35         0.78           0.0         0.0   \n",
       "34      4.99      5.73      0.65         2.42          83.0        53.0   \n",
       "\n",
       "   rating user_score_tbd user_score_nan  total_sales  \n",
       "16      M            8.2            8.2        21.05  \n",
       "23      M            8.1            8.1        16.27  \n",
       "31    NaN            NaN            NaN        14.63  \n",
       "33    NaN            NaN            NaN        14.60  \n",
       "34      M            5.3            5.3        13.79  "
      ]
     },
     "execution_count": 52,
     "metadata": {},
     "output_type": "execute_result"
    }
   ],
   "source": [
    "df_new.head()"
   ]
  },
  {
   "cell_type": "code",
   "execution_count": 53,
   "metadata": {},
   "outputs": [
    {
     "data": {
      "text/html": [
       "<div>\n",
       "<style scoped>\n",
       "    .dataframe tbody tr th:only-of-type {\n",
       "        vertical-align: middle;\n",
       "    }\n",
       "\n",
       "    .dataframe tbody tr th {\n",
       "        vertical-align: top;\n",
       "    }\n",
       "\n",
       "    .dataframe thead th {\n",
       "        text-align: right;\n",
       "    }\n",
       "</style>\n",
       "<table border=\"1\" class=\"dataframe\">\n",
       "  <thead>\n",
       "    <tr style=\"text-align: right;\">\n",
       "      <th></th>\n",
       "      <th>eu_sales</th>\n",
       "      <th>jp_sales</th>\n",
       "      <th>na_sales</th>\n",
       "    </tr>\n",
       "    <tr>\n",
       "      <th>rating</th>\n",
       "      <th></th>\n",
       "      <th></th>\n",
       "      <th></th>\n",
       "    </tr>\n",
       "  </thead>\n",
       "  <tbody>\n",
       "    <tr>\n",
       "      <td>E</td>\n",
       "      <td>113.03</td>\n",
       "      <td>28.33</td>\n",
       "      <td>114.37</td>\n",
       "    </tr>\n",
       "    <tr>\n",
       "      <td>E10+</td>\n",
       "      <td>55.37</td>\n",
       "      <td>8.19</td>\n",
       "      <td>75.70</td>\n",
       "    </tr>\n",
       "    <tr>\n",
       "      <td>M</td>\n",
       "      <td>193.96</td>\n",
       "      <td>21.20</td>\n",
       "      <td>231.57</td>\n",
       "    </tr>\n",
       "    <tr>\n",
       "      <td>T</td>\n",
       "      <td>52.96</td>\n",
       "      <td>26.02</td>\n",
       "      <td>66.02</td>\n",
       "    </tr>\n",
       "  </tbody>\n",
       "</table>\n",
       "</div>"
      ],
      "text/plain": [
       "        eu_sales  jp_sales  na_sales\n",
       "rating                              \n",
       "E         113.03     28.33    114.37\n",
       "E10+       55.37      8.19     75.70\n",
       "M         193.96     21.20    231.57\n",
       "T          52.96     26.02     66.02"
      ]
     },
     "execution_count": 53,
     "metadata": {},
     "output_type": "execute_result"
    }
   ],
   "source": [
    "df_rating_sales=df_new.pivot_table(index='rating', values=['na_sales', 'eu_sales', 'jp_sales'], aggfunc='sum')\n",
    "df_rating_sales"
   ]
  },
  {
   "cell_type": "code",
   "execution_count": 54,
   "metadata": {},
   "outputs": [
    {
     "data": {
      "image/png": "[encoded data removed]",
      "text/plain": [
       "<Figure size 648x360 with 1 Axes>"
      ]
     },
     "metadata": {
      "needs_background": "light"
     },
     "output_type": "display_data"
    }
   ],
   "source": [
    "df_rating_sales.plot(kind='bar', figsize=(9,5))\n",
    "\n",
    "plt.xlabel('Rating', size=12)\n",
    "plt.ylabel('Sales (milloins)', size=12)\n",
    "plt.title('PlayStation 2 (PS2) games releases over the years', size=15)\n",
    "plt.show();"
   ]
  },
  {
   "cell_type": "markdown",
   "metadata": {},
   "source": [
    "I don't think that any conclusion can be drawn from that. To know if the rating has some kind of influence, I need more data, like having 2 similar games, of which the only one of them has a rating. An action game might be rated badly and still sell better than a puzzle.  \n",
    "I'll take an example from PS4, one of the most popular platforms (as I showed before).  \n",
    "__Grand Theft Auto V__, rated __M__ (Mature - above 17) has better sales than a puzzle game named __The Talos Principle__, which is rated __E10+__."
   ]
  },
  {
   "cell_type": "code",
   "execution_count": 55,
   "metadata": {},
   "outputs": [
    {
     "data": {
      "text/html": [
       "<div>\n",
       "<style scoped>\n",
       "    .dataframe tbody tr th:only-of-type {\n",
       "        vertical-align: middle;\n",
       "    }\n",
       "\n",
       "    .dataframe tbody tr th {\n",
       "        vertical-align: top;\n",
       "    }\n",
       "\n",
       "    .dataframe thead th {\n",
       "        text-align: right;\n",
       "    }\n",
       "</style>\n",
       "<table border=\"1\" class=\"dataframe\">\n",
       "  <thead>\n",
       "    <tr style=\"text-align: right;\">\n",
       "      <th></th>\n",
       "      <th>name</th>\n",
       "      <th>platform</th>\n",
       "      <th>year_of_release</th>\n",
       "      <th>genre</th>\n",
       "      <th>na_sales</th>\n",
       "      <th>eu_sales</th>\n",
       "      <th>jp_sales</th>\n",
       "      <th>other_sales</th>\n",
       "      <th>critic_score</th>\n",
       "      <th>user_score</th>\n",
       "      <th>rating</th>\n",
       "      <th>user_score_tbd</th>\n",
       "      <th>user_score_nan</th>\n",
       "      <th>total_sales</th>\n",
       "    </tr>\n",
       "  </thead>\n",
       "  <tbody>\n",
       "    <tr>\n",
       "      <td>42</td>\n",
       "      <td>Grand Theft Auto V</td>\n",
       "      <td>PS4</td>\n",
       "      <td>2014.0</td>\n",
       "      <td>Action</td>\n",
       "      <td>3.96</td>\n",
       "      <td>6.31</td>\n",
       "      <td>0.38</td>\n",
       "      <td>1.97</td>\n",
       "      <td>97.0</td>\n",
       "      <td>83.0</td>\n",
       "      <td>M</td>\n",
       "      <td>8.3</td>\n",
       "      <td>8.3</td>\n",
       "      <td>12.62</td>\n",
       "    </tr>\n",
       "  </tbody>\n",
       "</table>\n",
       "</div>"
      ],
      "text/plain": [
       "                  name platform  year_of_release   genre  na_sales  eu_sales  \\\n",
       "42  Grand Theft Auto V      PS4           2014.0  Action      3.96      6.31   \n",
       "\n",
       "    jp_sales  other_sales  critic_score  user_score rating user_score_tbd  \\\n",
       "42      0.38         1.97          97.0        83.0      M            8.3   \n",
       "\n",
       "   user_score_nan  total_sales  \n",
       "42            8.3        12.62  "
      ]
     },
     "execution_count": 55,
     "metadata": {},
     "output_type": "execute_result"
    },
    {
     "data": {
      "text/html": [
       "<div>\n",
       "<style scoped>\n",
       "    .dataframe tbody tr th:only-of-type {\n",
       "        vertical-align: middle;\n",
       "    }\n",
       "\n",
       "    .dataframe tbody tr th {\n",
       "        vertical-align: top;\n",
       "    }\n",
       "\n",
       "    .dataframe thead th {\n",
       "        text-align: right;\n",
       "    }\n",
       "</style>\n",
       "<table border=\"1\" class=\"dataframe\">\n",
       "  <thead>\n",
       "    <tr style=\"text-align: right;\">\n",
       "      <th></th>\n",
       "      <th>name</th>\n",
       "      <th>platform</th>\n",
       "      <th>year_of_release</th>\n",
       "      <th>genre</th>\n",
       "      <th>na_sales</th>\n",
       "      <th>eu_sales</th>\n",
       "      <th>jp_sales</th>\n",
       "      <th>other_sales</th>\n",
       "      <th>critic_score</th>\n",
       "      <th>user_score</th>\n",
       "      <th>rating</th>\n",
       "      <th>user_score_tbd</th>\n",
       "      <th>user_score_nan</th>\n",
       "      <th>total_sales</th>\n",
       "    </tr>\n",
       "  </thead>\n",
       "  <tbody>\n",
       "    <tr>\n",
       "      <td>14708</td>\n",
       "      <td>The Talos Principle</td>\n",
       "      <td>PS4</td>\n",
       "      <td>2015.0</td>\n",
       "      <td>Puzzle</td>\n",
       "      <td>0.0</td>\n",
       "      <td>0.02</td>\n",
       "      <td>0.0</td>\n",
       "      <td>0.0</td>\n",
       "      <td>88.0</td>\n",
       "      <td>84.0</td>\n",
       "      <td>E10+</td>\n",
       "      <td>8.4</td>\n",
       "      <td>8.4</td>\n",
       "      <td>0.02</td>\n",
       "    </tr>\n",
       "  </tbody>\n",
       "</table>\n",
       "</div>"
      ],
      "text/plain": [
       "                      name platform  year_of_release   genre  na_sales  \\\n",
       "14708  The Talos Principle      PS4           2015.0  Puzzle       0.0   \n",
       "\n",
       "       eu_sales  jp_sales  other_sales  critic_score  user_score rating  \\\n",
       "14708      0.02       0.0          0.0          88.0        84.0   E10+   \n",
       "\n",
       "      user_score_tbd user_score_nan  total_sales  \n",
       "14708            8.4            8.4         0.02  "
      ]
     },
     "execution_count": 55,
     "metadata": {},
     "output_type": "execute_result"
    }
   ],
   "source": [
    "df_new.query('platform==\"PS4\" & name==\"Grand Theft Auto V\"')\n",
    "df.query('platform==\"PS4\" & genre==\"Puzzle\"')"
   ]
  },
  {
   "cell_type": "markdown",
   "metadata": {},
   "source": [
    "## Test hypotheses"
   ]
  },
  {
   "cell_type": "markdown",
   "metadata": {},
   "source": [
    "Here I need to check several hypotheses"
   ]
  },
  {
   "cell_type": "markdown",
   "metadata": {},
   "source": [
    "### Average user ratings of the Xbox One and PC platforms are the same"
   ]
  },
  {
   "cell_type": "markdown",
   "metadata": {},
   "source": [
    "The null hypothesis is that average user ratings for Xbox One and PC platforms are the same, so the alternative hypothesis is that there is a significant difference between them.\n",
    "\n",
    "As a threshold (alpha) I'll choose 5% as it is the commonly used value for the rejected values."
   ]
  },
  {
   "cell_type": "code",
   "execution_count": 56,
   "metadata": {},
   "outputs": [
    {
     "data": {
      "text/plain": [
       "'The p-value 1.3037979620149106e-05 is much smaller than the alpha that I selected - 0.05'"
      ]
     },
     "execution_count": 56,
     "metadata": {},
     "output_type": "execute_result"
    },
    {
     "name": "stdout",
     "output_type": "stream",
     "text": [
      "I reject the null hypothesis\n"
     ]
    }
   ],
   "source": [
    "df_xone=df.query('platform==\"XOne\"')\n",
    "df_pc=df.query('platform==\"PC\"')\n",
    "\n",
    "ser_xone= df_xone['user_score_nan'].dropna().astype('float')\n",
    "ser_pc= df_pc['user_score_nan'].dropna().astype('float')\n",
    "\n",
    "results = st.ttest_ind(ser_xone, ser_pc)\n",
    "alpha = 0.05  # critical statistical significance level\n",
    "\n",
    "'The p-value {} is much smaller than the alpha that I selected - 0.05'.format(results.pvalue)\n",
    "\n",
    "if results.pvalue < alpha:\n",
    "    print(\"I reject the null hypothesis\")\n",
    "else:\n",
    "    print(\"I can't reject the null hypothesis\") "
   ]
  },
  {
   "cell_type": "markdown",
   "metadata": {},
   "source": [
    "### Average user ratings for the Action and Sports genres are different."
   ]
  },
  {
   "cell_type": "markdown",
   "metadata": {},
   "source": [
    "The null hypothesis is that average user ratings for action and sports genres are different, so the alternative hypothesis is that there is a significant difference between them.\n",
    "\n",
    "As a threshold (alpha) I'll choose 5% as it is the commonly used value for the rejected values."
   ]
  },
  {
   "cell_type": "code",
   "execution_count": 57,
   "metadata": {
    "scrolled": true
   },
   "outputs": [
    {
     "data": {
      "text/plain": [
       "'The p-value 0.06480928064420527 is much smaller than the alpha that I selected - 0.05'"
      ]
     },
     "execution_count": 57,
     "metadata": {},
     "output_type": "execute_result"
    },
    {
     "name": "stdout",
     "output_type": "stream",
     "text": [
      "I reject the null hypothesis\n"
     ]
    }
   ],
   "source": [
    "df_action=df.query('genre==\"Action\"')\n",
    "df_sports=df.query('genre==\"Sports\"')\n",
    "\n",
    "ser_action= df_action['user_score_nan'].dropna().astype('float')\n",
    "ser_sport= df_sports['user_score_nan'].dropna().astype('float')\n",
    "\n",
    "results = st.ttest_ind(ser_action, ser_sport)\n",
    "alpha = 0.05  # critical statistical significance level\n",
    "\n",
    "'The p-value {} is much smaller than the alpha that I selected - 0.05'.format(results.pvalue)\n",
    "\n",
    "if results.pvalue > alpha:\n",
    "    print(\"I reject the null hypothesis\")\n",
    "else:\n",
    "    print(\"I can't reject the null hypothesis\") "
   ]
  },
  {
   "cell_type": "markdown",
   "metadata": {},
   "source": [
    "## Conclusion"
   ]
  },
  {
   "cell_type": "markdown",
   "metadata": {},
   "source": [
    "I think that years from 2012 were influenced by the fast internet, which prices went down, and it became widely available. It caused the game sales to drop, even when new gaming platforms came out.  \n",
    "Each region has its own unique taste whether if it is the preferred platform or the genre of games.  \n",
    "  \n",
    "Sales were badly influenced by the spreading availability of fast internet. I think that those issues should be addressed, either by promotions to attract existing customers like sending a coupon, or maybe focusing on the advantages of a hard copy of a game. "
   ]
  },
  {
   "cell_type": "code",
   "execution_count": null,
   "metadata": {},
   "outputs": [],
   "source": []
  }
 ],
 "metadata": {
  "ExecuteTimeLog": [
   {
    "duration": 698,
    "start_time": "2021-08-15T22:39:22.606Z"
   },
   {
    "duration": 969,
    "start_time": "2021-08-15T22:39:27.999Z"
   },
   {
    "duration": 198,
    "start_time": "2021-08-15T22:39:31.454Z"
   },
   {
    "duration": 17,
    "start_time": "2021-08-15T22:39:34.865Z"
   },
   {
    "duration": 285,
    "start_time": "2021-08-20T13:56:02.244Z"
   },
   {
    "duration": 992,
    "start_time": "2021-08-20T13:56:17.361Z"
   },
   {
    "duration": 178,
    "start_time": "2021-08-20T13:56:18.355Z"
   },
   {
    "duration": 13,
    "start_time": "2021-08-20T13:56:18.536Z"
   },
   {
    "duration": 12,
    "start_time": "2021-08-20T13:56:18.551Z"
   },
   {
    "duration": 20,
    "start_time": "2021-08-20T13:56:18.565Z"
   },
   {
    "duration": 3,
    "start_time": "2021-08-20T13:56:18.587Z"
   },
   {
    "duration": 13,
    "start_time": "2021-08-20T13:56:18.591Z"
   },
   {
    "duration": 15,
    "start_time": "2021-08-20T13:56:18.606Z"
   },
   {
    "duration": 1,
    "start_time": "2021-08-20T13:56:18.624Z"
   },
   {
    "duration": 9,
    "start_time": "2021-08-20T13:56:18.627Z"
   },
   {
    "duration": 8,
    "start_time": "2021-08-20T13:56:18.638Z"
   },
   {
    "duration": 7,
    "start_time": "2021-08-20T13:56:18.648Z"
   },
   {
    "duration": 10,
    "start_time": "2021-08-20T13:56:18.657Z"
   },
   {
    "duration": 43,
    "start_time": "2021-08-20T13:56:18.669Z"
   },
   {
    "duration": 28,
    "start_time": "2021-08-20T13:56:18.713Z"
   },
   {
    "duration": 12,
    "start_time": "2021-08-20T13:56:18.743Z"
   },
   {
    "duration": 9,
    "start_time": "2021-08-20T13:56:18.756Z"
   },
   {
    "duration": 7,
    "start_time": "2021-08-20T13:56:18.766Z"
   },
   {
    "duration": 5,
    "start_time": "2021-08-20T13:56:18.791Z"
   },
   {
    "duration": 13,
    "start_time": "2021-08-20T13:56:18.797Z"
   },
   {
    "duration": 14,
    "start_time": "2021-08-20T13:56:18.811Z"
   },
   {
    "duration": 16,
    "start_time": "2021-08-20T13:56:18.827Z"
   },
   {
    "duration": 6,
    "start_time": "2021-08-20T13:56:18.845Z"
   },
   {
    "duration": 8,
    "start_time": "2021-08-20T13:56:18.853Z"
   },
   {
    "duration": 29,
    "start_time": "2021-08-20T13:56:18.863Z"
   },
   {
    "duration": 14,
    "start_time": "2021-08-20T13:56:18.894Z"
   },
   {
    "duration": 13,
    "start_time": "2021-08-20T13:56:18.912Z"
   },
   {
    "duration": 13,
    "start_time": "2021-08-20T13:56:18.927Z"
   },
   {
    "duration": 240,
    "start_time": "2021-08-20T13:56:18.941Z"
   },
   {
    "duration": 2,
    "start_time": "2021-08-20T13:56:19.191Z"
   },
   {
    "duration": 9,
    "start_time": "2021-08-20T13:56:19.195Z"
   },
   {
    "duration": 15,
    "start_time": "2021-08-20T13:56:19.205Z"
   },
   {
    "duration": 22,
    "start_time": "2021-08-20T13:56:19.222Z"
   },
   {
    "duration": 199,
    "start_time": "2021-08-20T13:56:19.245Z"
   },
   {
    "duration": 288,
    "start_time": "2021-08-20T13:56:19.446Z"
   },
   {
    "duration": 264,
    "start_time": "2021-08-20T13:56:19.735Z"
   },
   {
    "duration": 12,
    "start_time": "2021-08-20T13:56:20.000Z"
   },
   {
    "duration": 248,
    "start_time": "2021-08-20T13:56:20.013Z"
   },
   {
    "duration": 225,
    "start_time": "2021-08-20T13:56:43.739Z"
   },
   {
    "duration": 227,
    "start_time": "2021-08-20T13:57:16.834Z"
   },
   {
    "duration": 13,
    "start_time": "2021-08-20T14:01:41.501Z"
   },
   {
    "duration": 227,
    "start_time": "2021-08-20T14:32:54.187Z"
   },
   {
    "duration": 234,
    "start_time": "2021-08-20T15:03:22.800Z"
   },
   {
    "duration": 392,
    "start_time": "2021-08-20T15:03:57.321Z"
   },
   {
    "duration": 221,
    "start_time": "2021-08-20T15:04:29.948Z"
   },
   {
    "duration": 967,
    "start_time": "2021-08-20T15:04:39.393Z"
   },
   {
    "duration": 447,
    "start_time": "2021-08-20T15:04:40.362Z"
   },
   {
    "duration": 14,
    "start_time": "2021-08-20T15:04:40.811Z"
   },
   {
    "duration": 28,
    "start_time": "2021-08-20T15:04:40.827Z"
   },
   {
    "duration": 26,
    "start_time": "2021-08-20T15:04:40.857Z"
   },
   {
    "duration": 3,
    "start_time": "2021-08-20T15:04:40.885Z"
   },
   {
    "duration": 26,
    "start_time": "2021-08-20T15:04:40.889Z"
   },
   {
    "duration": 31,
    "start_time": "2021-08-20T15:04:40.917Z"
   },
   {
    "duration": 13,
    "start_time": "2021-08-20T15:04:40.950Z"
   },
   {
    "duration": 25,
    "start_time": "2021-08-20T15:04:40.965Z"
   },
   {
    "duration": 20,
    "start_time": "2021-08-20T15:04:40.992Z"
   },
   {
    "duration": 29,
    "start_time": "2021-08-20T15:04:41.013Z"
   },
   {
    "duration": 29,
    "start_time": "2021-08-20T15:04:41.043Z"
   },
   {
    "duration": 41,
    "start_time": "2021-08-20T15:04:41.073Z"
   },
   {
    "duration": 29,
    "start_time": "2021-08-20T15:04:41.115Z"
   },
   {
    "duration": 14,
    "start_time": "2021-08-20T15:04:41.146Z"
   },
   {
    "duration": 36,
    "start_time": "2021-08-20T15:04:41.161Z"
   },
   {
    "duration": 22,
    "start_time": "2021-08-20T15:04:41.198Z"
   },
   {
    "duration": 14,
    "start_time": "2021-08-20T15:04:41.222Z"
   },
   {
    "duration": 29,
    "start_time": "2021-08-20T15:04:41.237Z"
   },
   {
    "duration": 26,
    "start_time": "2021-08-20T15:04:41.268Z"
   },
   {
    "duration": 18,
    "start_time": "2021-08-20T15:04:41.296Z"
   },
   {
    "duration": 19,
    "start_time": "2021-08-20T15:04:41.318Z"
   },
   {
    "duration": 9,
    "start_time": "2021-08-20T15:04:41.339Z"
   },
   {
    "duration": 18,
    "start_time": "2021-08-20T15:04:41.349Z"
   },
   {
    "duration": 29,
    "start_time": "2021-08-20T15:04:41.368Z"
   },
   {
    "duration": 19,
    "start_time": "2021-08-20T15:04:41.398Z"
   },
   {
    "duration": 33,
    "start_time": "2021-08-20T15:04:41.418Z"
   },
   {
    "duration": 215,
    "start_time": "2021-08-20T15:04:41.453Z"
   },
   {
    "duration": 2,
    "start_time": "2021-08-20T15:04:41.669Z"
   },
   {
    "duration": 36,
    "start_time": "2021-08-20T15:04:41.673Z"
   },
   {
    "duration": 30,
    "start_time": "2021-08-20T15:04:41.711Z"
   },
   {
    "duration": 18,
    "start_time": "2021-08-20T15:04:41.743Z"
   },
   {
    "duration": 194,
    "start_time": "2021-08-20T15:04:41.763Z"
   },
   {
    "duration": 270,
    "start_time": "2021-08-20T15:04:41.959Z"
   },
   {
    "duration": 265,
    "start_time": "2021-08-20T15:04:42.231Z"
   },
   {
    "duration": 14,
    "start_time": "2021-08-20T15:04:42.498Z"
   },
   {
    "duration": 241,
    "start_time": "2021-08-20T15:04:42.514Z"
   },
   {
    "duration": 235,
    "start_time": "2021-08-20T15:04:42.756Z"
   },
   {
    "duration": 216,
    "start_time": "2021-08-20T15:05:02.707Z"
   },
   {
    "duration": 210,
    "start_time": "2021-08-20T15:05:22.007Z"
   },
   {
    "duration": 13,
    "start_time": "2021-08-20T15:05:59.854Z"
   },
   {
    "duration": 13,
    "start_time": "2021-08-20T15:06:51.271Z"
   },
   {
    "duration": 6,
    "start_time": "2021-08-20T15:07:31.816Z"
   },
   {
    "duration": 13,
    "start_time": "2021-08-20T15:07:56.387Z"
   },
   {
    "duration": 13,
    "start_time": "2021-08-20T15:58:29.592Z"
   },
   {
    "duration": 160,
    "start_time": "2021-08-20T15:59:50.717Z"
   },
   {
    "duration": 232,
    "start_time": "2021-08-20T16:00:15.891Z"
   },
   {
    "duration": 21795,
    "start_time": "2021-08-27T18:33:16.329Z"
   },
   {
    "duration": 25137,
    "start_time": "2021-08-27T18:33:12.994Z"
   },
   {
    "duration": 25134,
    "start_time": "2021-08-27T18:33:12.999Z"
   },
   {
    "duration": 25129,
    "start_time": "2021-08-27T18:33:13.005Z"
   },
   {
    "duration": 25125,
    "start_time": "2021-08-27T18:33:13.011Z"
   },
   {
    "duration": 25124,
    "start_time": "2021-08-27T18:33:13.014Z"
   },
   {
    "duration": 25121,
    "start_time": "2021-08-27T18:33:13.019Z"
   },
   {
    "duration": 25118,
    "start_time": "2021-08-27T18:33:13.023Z"
   },
   {
    "duration": 25116,
    "start_time": "2021-08-27T18:33:13.027Z"
   },
   {
    "duration": 25115,
    "start_time": "2021-08-27T18:33:13.030Z"
   },
   {
    "duration": 25113,
    "start_time": "2021-08-27T18:33:13.034Z"
   },
   {
    "duration": 25112,
    "start_time": "2021-08-27T18:33:13.037Z"
   },
   {
    "duration": 25109,
    "start_time": "2021-08-27T18:33:13.042Z"
   },
   {
    "duration": 25091,
    "start_time": "2021-08-27T18:33:13.062Z"
   },
   {
    "duration": 25089,
    "start_time": "2021-08-27T18:33:13.066Z"
   },
   {
    "duration": 25088,
    "start_time": "2021-08-27T18:33:13.069Z"
   },
   {
    "duration": 25085,
    "start_time": "2021-08-27T18:33:13.074Z"
   },
   {
    "duration": 25082,
    "start_time": "2021-08-27T18:33:13.079Z"
   },
   {
    "duration": 25079,
    "start_time": "2021-08-27T18:33:13.083Z"
   },
   {
    "duration": 25076,
    "start_time": "2021-08-27T18:33:13.088Z"
   },
   {
    "duration": 25071,
    "start_time": "2021-08-27T18:33:13.094Z"
   },
   {
    "duration": 25069,
    "start_time": "2021-08-27T18:33:13.097Z"
   },
   {
    "duration": 25066,
    "start_time": "2021-08-27T18:33:13.101Z"
   },
   {
    "duration": 25064,
    "start_time": "2021-08-27T18:33:13.105Z"
   },
   {
    "duration": 25061,
    "start_time": "2021-08-27T18:33:13.109Z"
   },
   {
    "duration": 25058,
    "start_time": "2021-08-27T18:33:13.113Z"
   },
   {
    "duration": 25056,
    "start_time": "2021-08-27T18:33:13.117Z"
   },
   {
    "duration": 25053,
    "start_time": "2021-08-27T18:33:13.121Z"
   },
   {
    "duration": 25051,
    "start_time": "2021-08-27T18:33:13.125Z"
   },
   {
    "duration": 25050,
    "start_time": "2021-08-27T18:33:13.128Z"
   },
   {
    "duration": 25047,
    "start_time": "2021-08-27T18:33:13.133Z"
   },
   {
    "duration": 25046,
    "start_time": "2021-08-27T18:33:13.136Z"
   },
   {
    "duration": 25022,
    "start_time": "2021-08-27T18:33:13.162Z"
   },
   {
    "duration": 25020,
    "start_time": "2021-08-27T18:33:13.166Z"
   },
   {
    "duration": 25021,
    "start_time": "2021-08-27T18:33:13.170Z"
   },
   {
    "duration": 25019,
    "start_time": "2021-08-27T18:33:13.174Z"
   },
   {
    "duration": 25018,
    "start_time": "2021-08-27T18:33:13.178Z"
   },
   {
    "duration": 25017,
    "start_time": "2021-08-27T18:33:13.181Z"
   },
   {
    "duration": 25016,
    "start_time": "2021-08-27T18:33:13.185Z"
   },
   {
    "duration": 25015,
    "start_time": "2021-08-27T18:33:13.188Z"
   },
   {
    "duration": 25013,
    "start_time": "2021-08-27T18:33:13.192Z"
   },
   {
    "duration": 25012,
    "start_time": "2021-08-27T18:33:13.196Z"
   },
   {
    "duration": 25008,
    "start_time": "2021-08-27T18:33:13.202Z"
   },
   {
    "duration": 25005,
    "start_time": "2021-08-27T18:33:13.206Z"
   },
   {
    "duration": 25003,
    "start_time": "2021-08-27T18:33:13.210Z"
   },
   {
    "duration": 25001,
    "start_time": "2021-08-27T18:33:13.214Z"
   },
   {
    "duration": 25000,
    "start_time": "2021-08-27T18:33:13.218Z"
   },
   {
    "duration": 24999,
    "start_time": "2021-08-27T18:33:13.221Z"
   },
   {
    "duration": 24960,
    "start_time": "2021-08-27T18:33:13.262Z"
   },
   {
    "duration": 24959,
    "start_time": "2021-08-27T18:33:13.265Z"
   },
   {
    "duration": 24957,
    "start_time": "2021-08-27T18:33:13.269Z"
   },
   {
    "duration": 24954,
    "start_time": "2021-08-27T18:33:13.273Z"
   },
   {
    "duration": 24950,
    "start_time": "2021-08-27T18:33:13.278Z"
   },
   {
    "duration": 24947,
    "start_time": "2021-08-27T18:33:13.282Z"
   },
   {
    "duration": 24944,
    "start_time": "2021-08-27T18:33:13.286Z"
   },
   {
    "duration": 24941,
    "start_time": "2021-08-27T18:33:13.290Z"
   },
   {
    "duration": 24938,
    "start_time": "2021-08-27T18:33:13.294Z"
   },
   {
    "duration": 179,
    "start_time": "2021-08-27T18:35:16.759Z"
   },
   {
    "duration": 31,
    "start_time": "2021-08-27T18:35:16.941Z"
   },
   {
    "duration": 20,
    "start_time": "2021-08-27T18:35:16.976Z"
   },
   {
    "duration": 15,
    "start_time": "2021-08-27T18:35:16.998Z"
   },
   {
    "duration": 7,
    "start_time": "2021-08-27T18:35:17.016Z"
   },
   {
    "duration": 62,
    "start_time": "2021-08-27T18:35:17.026Z"
   },
   {
    "duration": 29,
    "start_time": "2021-08-27T18:35:17.091Z"
   },
   {
    "duration": 4,
    "start_time": "2021-08-27T18:35:17.124Z"
   },
   {
    "duration": 46,
    "start_time": "2021-08-27T18:35:17.131Z"
   },
   {
    "duration": 13,
    "start_time": "2021-08-27T18:35:17.180Z"
   },
   {
    "duration": 19,
    "start_time": "2021-08-27T18:35:17.196Z"
   },
   {
    "duration": 48,
    "start_time": "2021-08-27T18:35:17.218Z"
   },
   {
    "duration": 1947,
    "start_time": "2021-08-27T18:48:10.078Z"
   },
   {
    "duration": 46830,
    "start_time": "2021-08-27T18:47:25.201Z"
   },
   {
    "duration": 46823,
    "start_time": "2021-08-27T18:47:25.209Z"
   },
   {
    "duration": 46820,
    "start_time": "2021-08-27T18:47:25.213Z"
   },
   {
    "duration": 46815,
    "start_time": "2021-08-27T18:47:25.220Z"
   },
   {
    "duration": 46811,
    "start_time": "2021-08-27T18:47:25.225Z"
   },
   {
    "duration": 46806,
    "start_time": "2021-08-27T18:47:25.231Z"
   },
   {
    "duration": 46803,
    "start_time": "2021-08-27T18:47:25.235Z"
   },
   {
    "duration": 46800,
    "start_time": "2021-08-27T18:47:25.240Z"
   },
   {
    "duration": 46796,
    "start_time": "2021-08-27T18:47:25.245Z"
   },
   {
    "duration": 46791,
    "start_time": "2021-08-27T18:47:25.251Z"
   },
   {
    "duration": 46788,
    "start_time": "2021-08-27T18:47:25.255Z"
   },
   {
    "duration": 46784,
    "start_time": "2021-08-27T18:47:25.260Z"
   },
   {
    "duration": 46781,
    "start_time": "2021-08-27T18:47:25.264Z"
   },
   {
    "duration": 46778,
    "start_time": "2021-08-27T18:47:25.269Z"
   },
   {
    "duration": 46775,
    "start_time": "2021-08-27T18:47:25.273Z"
   },
   {
    "duration": 46770,
    "start_time": "2021-08-27T18:47:25.279Z"
   },
   {
    "duration": 46768,
    "start_time": "2021-08-27T18:47:25.283Z"
   },
   {
    "duration": 46765,
    "start_time": "2021-08-27T18:47:25.287Z"
   },
   {
    "duration": 46762,
    "start_time": "2021-08-27T18:47:25.291Z"
   },
   {
    "duration": 46758,
    "start_time": "2021-08-27T18:47:25.296Z"
   },
   {
    "duration": 46757,
    "start_time": "2021-08-27T18:47:25.299Z"
   },
   {
    "duration": 46753,
    "start_time": "2021-08-27T18:47:25.304Z"
   },
   {
    "duration": 46750,
    "start_time": "2021-08-27T18:47:25.308Z"
   },
   {
    "duration": 46746,
    "start_time": "2021-08-27T18:47:25.313Z"
   },
   {
    "duration": 46736,
    "start_time": "2021-08-27T18:47:25.325Z"
   },
   {
    "duration": 46732,
    "start_time": "2021-08-27T18:47:25.330Z"
   },
   {
    "duration": 46730,
    "start_time": "2021-08-27T18:47:25.333Z"
   },
   {
    "duration": 46727,
    "start_time": "2021-08-27T18:47:25.338Z"
   },
   {
    "duration": 46724,
    "start_time": "2021-08-27T18:47:25.342Z"
   },
   {
    "duration": 46721,
    "start_time": "2021-08-27T18:47:25.346Z"
   },
   {
    "duration": 46718,
    "start_time": "2021-08-27T18:47:25.350Z"
   },
   {
    "duration": 46714,
    "start_time": "2021-08-27T18:47:25.355Z"
   },
   {
    "duration": 46711,
    "start_time": "2021-08-27T18:47:25.359Z"
   },
   {
    "duration": 46707,
    "start_time": "2021-08-27T18:47:25.364Z"
   },
   {
    "duration": 46704,
    "start_time": "2021-08-27T18:47:25.368Z"
   },
   {
    "duration": 46701,
    "start_time": "2021-08-27T18:47:25.372Z"
   },
   {
    "duration": 46697,
    "start_time": "2021-08-27T18:47:25.376Z"
   },
   {
    "duration": 46694,
    "start_time": "2021-08-27T18:47:25.380Z"
   },
   {
    "duration": 46691,
    "start_time": "2021-08-27T18:47:25.384Z"
   },
   {
    "duration": 46688,
    "start_time": "2021-08-27T18:47:25.388Z"
   },
   {
    "duration": 46685,
    "start_time": "2021-08-27T18:47:25.392Z"
   },
   {
    "duration": 46681,
    "start_time": "2021-08-27T18:47:25.397Z"
   },
   {
    "duration": 46679,
    "start_time": "2021-08-27T18:47:25.400Z"
   },
   {
    "duration": 46675,
    "start_time": "2021-08-27T18:47:25.405Z"
   },
   {
    "duration": 46677,
    "start_time": "2021-08-27T18:47:25.409Z"
   },
   {
    "duration": 46672,
    "start_time": "2021-08-27T18:47:25.415Z"
   },
   {
    "duration": 46669,
    "start_time": "2021-08-27T18:47:25.419Z"
   },
   {
    "duration": 46665,
    "start_time": "2021-08-27T18:47:25.424Z"
   },
   {
    "duration": 46663,
    "start_time": "2021-08-27T18:47:25.428Z"
   },
   {
    "duration": 46659,
    "start_time": "2021-08-27T18:47:25.433Z"
   },
   {
    "duration": 46656,
    "start_time": "2021-08-27T18:47:25.437Z"
   },
   {
    "duration": 46653,
    "start_time": "2021-08-27T18:47:25.441Z"
   },
   {
    "duration": 46649,
    "start_time": "2021-08-27T18:47:25.446Z"
   },
   {
    "duration": 46647,
    "start_time": "2021-08-27T18:47:25.450Z"
   },
   {
    "duration": 46644,
    "start_time": "2021-08-27T18:47:25.454Z"
   },
   {
    "duration": 46640,
    "start_time": "2021-08-27T18:47:25.459Z"
   },
   {
    "duration": 306,
    "start_time": "2021-08-27T18:52:58.064Z"
   },
   {
    "duration": 24,
    "start_time": "2021-08-27T18:52:58.727Z"
   },
   {
    "duration": 20,
    "start_time": "2021-08-27T18:52:59.536Z"
   },
   {
    "duration": 25,
    "start_time": "2021-08-27T18:53:00.184Z"
   },
   {
    "duration": 5,
    "start_time": "2021-08-27T18:53:00.352Z"
   },
   {
    "duration": 22,
    "start_time": "2021-08-27T18:53:00.519Z"
   },
   {
    "duration": 25,
    "start_time": "2021-08-27T18:53:01.072Z"
   },
   {
    "duration": 3,
    "start_time": "2021-08-27T18:53:01.424Z"
   },
   {
    "duration": 10,
    "start_time": "2021-08-27T18:53:01.808Z"
   },
   {
    "duration": 12,
    "start_time": "2021-08-27T18:53:02.188Z"
   },
   {
    "duration": 8,
    "start_time": "2021-08-27T18:53:02.593Z"
   },
   {
    "duration": 10,
    "start_time": "2021-08-27T18:53:02.776Z"
   },
   {
    "duration": 51,
    "start_time": "2021-08-27T18:53:03.719Z"
   },
   {
    "duration": 60,
    "start_time": "2021-08-27T18:53:03.921Z"
   },
   {
    "duration": 25,
    "start_time": "2021-08-27T18:53:04.103Z"
   },
   {
    "duration": 13,
    "start_time": "2021-08-27T18:53:04.472Z"
   },
   {
    "duration": 8,
    "start_time": "2021-08-27T18:53:04.847Z"
   },
   {
    "duration": 7,
    "start_time": "2021-08-27T18:53:05.039Z"
   },
   {
    "duration": 9,
    "start_time": "2021-08-27T18:53:05.224Z"
   },
   {
    "duration": 19,
    "start_time": "2021-08-27T18:53:05.607Z"
   },
   {
    "duration": 30,
    "start_time": "2021-08-27T18:53:05.976Z"
   },
   {
    "duration": 9,
    "start_time": "2021-08-27T18:53:06.351Z"
   },
   {
    "duration": 12,
    "start_time": "2021-08-27T18:53:06.552Z"
   },
   {
    "duration": 6,
    "start_time": "2021-08-27T18:53:06.743Z"
   },
   {
    "duration": 25,
    "start_time": "2021-08-27T18:53:07.304Z"
   },
   {
    "duration": 21,
    "start_time": "2021-08-27T18:53:07.482Z"
   },
   {
    "duration": 22,
    "start_time": "2021-08-27T18:53:08.391Z"
   },
   {
    "duration": 441,
    "start_time": "2021-08-27T18:53:08.567Z"
   },
   {
    "duration": 3,
    "start_time": "2021-08-27T18:53:10.727Z"
   },
   {
    "duration": 29,
    "start_time": "2021-08-27T18:53:10.733Z"
   },
   {
    "duration": 40,
    "start_time": "2021-08-27T18:53:10.765Z"
   },
   {
    "duration": 359,
    "start_time": "2021-08-27T18:53:10.807Z"
   },
   {
    "duration": 35,
    "start_time": "2021-08-27T18:53:11.247Z"
   },
   {
    "duration": 392,
    "start_time": "2021-08-27T18:53:11.423Z"
   },
   {
    "duration": 532,
    "start_time": "2021-08-27T18:53:12.344Z"
   },
   {
    "duration": 500,
    "start_time": "2021-08-27T18:53:12.879Z"
   },
   {
    "duration": 13,
    "start_time": "2021-08-27T18:53:13.474Z"
   },
   {
    "duration": 408,
    "start_time": "2021-08-27T18:53:14.273Z"
   },
   {
    "duration": 400,
    "start_time": "2021-08-27T18:53:14.684Z"
   },
   {
    "duration": 43,
    "start_time": "2021-08-27T18:53:15.200Z"
   },
   {
    "duration": 634,
    "start_time": "2021-08-27T18:53:15.400Z"
   },
   {
    "duration": 626,
    "start_time": "2021-08-27T18:53:16.036Z"
   },
   {
    "duration": 35,
    "start_time": "2021-08-27T18:53:16.666Z"
   },
   {
    "duration": 8,
    "start_time": "2021-08-27T18:53:16.792Z"
   },
   {
    "duration": 3895,
    "start_time": "2021-08-27T18:53:17.007Z"
   },
   {
    "duration": 58,
    "start_time": "2021-08-27T18:53:20.905Z"
   },
   {
    "duration": 39,
    "start_time": "2021-08-27T18:53:20.966Z"
   },
   {
    "duration": 571,
    "start_time": "2021-08-27T18:53:21.008Z"
   },
   {
    "duration": 56,
    "start_time": "2021-08-27T18:53:21.581Z"
   },
   {
    "duration": 75,
    "start_time": "2021-08-27T18:53:21.640Z"
   },
   {
    "duration": 45,
    "start_time": "2021-08-27T18:53:21.717Z"
   },
   {
    "duration": 21,
    "start_time": "2021-08-27T18:53:21.766Z"
   },
   {
    "duration": 334,
    "start_time": "2021-08-27T18:53:21.789Z"
   },
   {
    "duration": 40,
    "start_time": "2021-08-27T18:53:22.126Z"
   },
   {
    "duration": 15,
    "start_time": "2021-08-27T18:53:22.631Z"
   },
   {
    "duration": 15,
    "start_time": "2021-08-27T18:53:23.424Z"
   },
   {
    "duration": 76,
    "start_time": "2021-08-31T17:57:37.936Z"
   },
   {
    "duration": 1131,
    "start_time": "2021-08-31T18:03:29.306Z"
   },
   {
    "duration": 205,
    "start_time": "2021-08-31T18:03:30.439Z"
   },
   {
    "duration": 16,
    "start_time": "2021-08-31T18:03:30.646Z"
   },
   {
    "duration": 25,
    "start_time": "2021-08-31T18:03:30.663Z"
   },
   {
    "duration": 19,
    "start_time": "2021-08-31T18:03:30.690Z"
   },
   {
    "duration": 4,
    "start_time": "2021-08-31T18:03:30.711Z"
   },
   {
    "duration": 21,
    "start_time": "2021-08-31T18:03:30.716Z"
   },
   {
    "duration": 20,
    "start_time": "2021-08-31T18:03:30.741Z"
   },
   {
    "duration": 7,
    "start_time": "2021-08-31T18:03:30.764Z"
   },
   {
    "duration": 24,
    "start_time": "2021-08-31T18:03:30.772Z"
   },
   {
    "duration": 21,
    "start_time": "2021-08-31T18:03:30.798Z"
   },
   {
    "duration": 25,
    "start_time": "2021-08-31T18:03:30.821Z"
   },
   {
    "duration": 22,
    "start_time": "2021-08-31T18:03:30.848Z"
   },
   {
    "duration": 56,
    "start_time": "2021-08-31T18:03:30.872Z"
   },
   {
    "duration": 44,
    "start_time": "2021-08-31T18:03:30.929Z"
   },
   {
    "duration": 15,
    "start_time": "2021-08-31T18:03:30.975Z"
   },
   {
    "duration": 23,
    "start_time": "2021-08-31T18:03:30.992Z"
   },
   {
    "duration": 35,
    "start_time": "2021-08-31T18:03:31.017Z"
   },
   {
    "duration": 33,
    "start_time": "2021-08-31T18:03:31.054Z"
   },
   {
    "duration": 18,
    "start_time": "2021-08-31T18:03:31.089Z"
   },
   {
    "duration": 25,
    "start_time": "2021-08-31T18:03:31.109Z"
   },
   {
    "duration": 36,
    "start_time": "2021-08-31T18:03:31.135Z"
   },
   {
    "duration": 8,
    "start_time": "2021-08-31T18:03:31.175Z"
   },
   {
    "duration": 27,
    "start_time": "2021-08-31T18:03:31.185Z"
   },
   {
    "duration": 19,
    "start_time": "2021-08-31T18:03:31.213Z"
   },
   {
    "duration": 37,
    "start_time": "2021-08-31T18:03:31.234Z"
   },
   {
    "duration": 24,
    "start_time": "2021-08-31T18:03:31.273Z"
   },
   {
    "duration": 28,
    "start_time": "2021-08-31T18:03:31.298Z"
   },
   {
    "duration": 234,
    "start_time": "2021-08-31T18:03:31.328Z"
   },
   {
    "duration": 3,
    "start_time": "2021-08-31T18:03:31.563Z"
   },
   {
    "duration": 30,
    "start_time": "2021-08-31T18:03:31.567Z"
   },
   {
    "duration": 38,
    "start_time": "2021-08-31T18:03:31.598Z"
   },
   {
    "duration": 192,
    "start_time": "2021-08-31T18:03:31.637Z"
   },
   {
    "duration": 24,
    "start_time": "2021-08-31T18:03:31.831Z"
   },
   {
    "duration": 237,
    "start_time": "2021-08-31T18:03:31.857Z"
   },
   {
    "duration": 292,
    "start_time": "2021-08-31T18:03:32.096Z"
   },
   {
    "duration": 284,
    "start_time": "2021-08-31T18:03:32.392Z"
   },
   {
    "duration": 18,
    "start_time": "2021-08-31T18:03:32.678Z"
   },
   {
    "duration": 241,
    "start_time": "2021-08-31T18:03:32.699Z"
   },
   {
    "duration": 241,
    "start_time": "2021-08-31T18:03:32.942Z"
   },
   {
    "duration": 39,
    "start_time": "2021-08-31T18:03:33.184Z"
   },
   {
    "duration": 421,
    "start_time": "2021-08-31T18:03:33.225Z"
   },
   {
    "duration": 369,
    "start_time": "2021-08-31T18:03:33.648Z"
   },
   {
    "duration": 19,
    "start_time": "2021-08-31T18:03:34.019Z"
   },
   {
    "duration": 9,
    "start_time": "2021-08-31T18:03:34.040Z"
   },
   {
    "duration": 2232,
    "start_time": "2021-08-31T18:03:34.050Z"
   },
   {
    "duration": 33,
    "start_time": "2021-08-31T18:03:36.283Z"
   },
   {
    "duration": 19,
    "start_time": "2021-08-31T18:03:36.318Z"
   },
   {
    "duration": 355,
    "start_time": "2021-08-31T18:03:36.339Z"
   },
   {
    "duration": 36,
    "start_time": "2021-08-31T18:03:36.695Z"
   },
   {
    "duration": 34,
    "start_time": "2021-08-31T18:03:36.732Z"
   },
   {
    "duration": 33,
    "start_time": "2021-08-31T18:03:36.768Z"
   },
   {
    "duration": 16,
    "start_time": "2021-08-31T18:03:36.803Z"
   },
   {
    "duration": 323,
    "start_time": "2021-08-31T18:03:36.821Z"
   },
   {
    "duration": 48,
    "start_time": "2021-08-31T18:03:37.146Z"
   },
   {
    "duration": 9,
    "start_time": "2021-08-31T18:03:37.196Z"
   },
   {
    "duration": 11,
    "start_time": "2021-08-31T18:03:37.207Z"
   },
   {
    "duration": 357,
    "start_time": "2021-08-31T18:05:27.382Z"
   },
   {
    "duration": 24,
    "start_time": "2021-08-31T18:05:45.137Z"
   },
   {
    "duration": 17,
    "start_time": "2021-08-31T18:05:56.447Z"
   },
   {
    "duration": 2,
    "start_time": "2021-08-31T18:09:52.887Z"
   },
   {
    "duration": 2,
    "start_time": "2021-08-31T18:09:54.013Z"
   },
   {
    "duration": 2,
    "start_time": "2021-08-31T18:10:03.814Z"
   },
   {
    "duration": 2,
    "start_time": "2021-08-31T18:10:04.561Z"
   },
   {
    "duration": 3,
    "start_time": "2021-08-31T18:16:18.993Z"
   },
   {
    "duration": 2,
    "start_time": "2021-08-31T18:16:19.891Z"
   },
   {
    "duration": 2,
    "start_time": "2021-08-31T18:16:20.442Z"
   },
   {
    "duration": 3,
    "start_time": "2021-08-31T18:16:20.888Z"
   },
   {
    "duration": 3,
    "start_time": "2021-08-31T18:16:21.226Z"
   },
   {
    "duration": 1142,
    "start_time": "2021-08-31T18:16:26.199Z"
   },
   {
    "duration": 200,
    "start_time": "2021-08-31T18:16:27.343Z"
   },
   {
    "duration": 15,
    "start_time": "2021-08-31T18:16:27.545Z"
   },
   {
    "duration": 15,
    "start_time": "2021-08-31T18:16:27.562Z"
   },
   {
    "duration": 13,
    "start_time": "2021-08-31T18:16:27.579Z"
   },
   {
    "duration": 3,
    "start_time": "2021-08-31T18:16:27.594Z"
   },
   {
    "duration": 16,
    "start_time": "2021-08-31T18:16:27.599Z"
   },
   {
    "duration": 18,
    "start_time": "2021-08-31T18:16:27.617Z"
   },
   {
    "duration": 3,
    "start_time": "2021-08-31T18:16:27.637Z"
   },
   {
    "duration": 11,
    "start_time": "2021-08-31T18:16:27.641Z"
   },
   {
    "duration": 7,
    "start_time": "2021-08-31T18:16:27.654Z"
   },
   {
    "duration": 29,
    "start_time": "2021-08-31T18:16:27.662Z"
   },
   {
    "duration": 6,
    "start_time": "2021-08-31T18:16:27.694Z"
   },
   {
    "duration": 34,
    "start_time": "2021-08-31T18:16:27.702Z"
   },
   {
    "duration": 30,
    "start_time": "2021-08-31T18:16:27.737Z"
   },
   {
    "duration": 31,
    "start_time": "2021-08-31T18:16:27.769Z"
   },
   {
    "duration": 8,
    "start_time": "2021-08-31T18:16:27.802Z"
   },
   {
    "duration": 6,
    "start_time": "2021-08-31T18:16:27.811Z"
   },
   {
    "duration": 10,
    "start_time": "2021-08-31T18:16:27.818Z"
   },
   {
    "duration": 11,
    "start_time": "2021-08-31T18:16:27.829Z"
   },
   {
    "duration": 14,
    "start_time": "2021-08-31T18:16:27.841Z"
   },
   {
    "duration": 16,
    "start_time": "2021-08-31T18:16:27.857Z"
   },
   {
    "duration": 18,
    "start_time": "2021-08-31T18:16:27.876Z"
   },
   {
    "duration": 7,
    "start_time": "2021-08-31T18:16:27.897Z"
   },
   {
    "duration": 8,
    "start_time": "2021-08-31T18:16:27.905Z"
   },
   {
    "duration": 18,
    "start_time": "2021-08-31T18:16:27.914Z"
   },
   {
    "duration": 12,
    "start_time": "2021-08-31T18:16:27.934Z"
   },
   {
    "duration": 20,
    "start_time": "2021-08-31T18:16:27.948Z"
   },
   {
    "duration": 248,
    "start_time": "2021-08-31T18:16:27.970Z"
   },
   {
    "duration": 2,
    "start_time": "2021-08-31T18:16:28.219Z"
   },
   {
    "duration": 8,
    "start_time": "2021-08-31T18:16:28.223Z"
   },
   {
    "duration": 14,
    "start_time": "2021-08-31T18:16:28.232Z"
   },
   {
    "duration": 189,
    "start_time": "2021-08-31T18:16:28.247Z"
   },
   {
    "duration": 21,
    "start_time": "2021-08-31T18:16:28.438Z"
   },
   {
    "duration": 225,
    "start_time": "2021-08-31T18:16:28.461Z"
   },
   {
    "duration": 282,
    "start_time": "2021-08-31T18:16:28.691Z"
   },
   {
    "duration": 271,
    "start_time": "2021-08-31T18:16:28.975Z"
   },
   {
    "duration": 6,
    "start_time": "2021-08-31T18:16:29.248Z"
   },
   {
    "duration": 229,
    "start_time": "2021-08-31T18:16:29.256Z"
   },
   {
    "duration": 253,
    "start_time": "2021-08-31T18:16:29.490Z"
   },
   {
    "duration": 50,
    "start_time": "2021-08-31T18:16:29.745Z"
   },
   {
    "duration": 409,
    "start_time": "2021-08-31T18:16:29.797Z"
   },
   {
    "duration": 365,
    "start_time": "2021-08-31T18:16:30.208Z"
   },
   {
    "duration": 29,
    "start_time": "2021-08-31T18:16:30.575Z"
   },
   {
    "duration": 8,
    "start_time": "2021-08-31T18:16:30.606Z"
   },
   {
    "duration": 2045,
    "start_time": "2021-08-31T18:16:30.615Z"
   },
   {
    "duration": 38,
    "start_time": "2021-08-31T18:16:32.662Z"
   },
   {
    "duration": 22,
    "start_time": "2021-08-31T18:16:32.702Z"
   },
   {
    "duration": 334,
    "start_time": "2021-08-31T18:16:32.725Z"
   },
   {
    "duration": 43,
    "start_time": "2021-08-31T18:16:33.061Z"
   },
   {
    "duration": 33,
    "start_time": "2021-08-31T18:16:33.105Z"
   },
   {
    "duration": 11,
    "start_time": "2021-08-31T18:16:33.140Z"
   },
   {
    "duration": 24,
    "start_time": "2021-08-31T18:16:33.153Z"
   },
   {
    "duration": 191,
    "start_time": "2021-08-31T18:16:33.178Z"
   },
   {
    "duration": 34,
    "start_time": "2021-08-31T18:16:33.371Z"
   },
   {
    "duration": 9,
    "start_time": "2021-08-31T18:16:33.407Z"
   },
   {
    "duration": 12,
    "start_time": "2021-08-31T18:16:33.417Z"
   },
   {
    "duration": 2,
    "start_time": "2021-08-31T18:16:42.583Z"
   },
   {
    "duration": 2,
    "start_time": "2021-08-31T18:16:43.194Z"
   },
   {
    "duration": 3,
    "start_time": "2021-08-31T18:16:43.706Z"
   },
   {
    "duration": 2,
    "start_time": "2021-08-31T18:16:43.947Z"
   },
   {
    "duration": 2,
    "start_time": "2021-08-31T18:16:44.158Z"
   },
   {
    "duration": 604,
    "start_time": "2021-08-31T18:17:59.220Z"
   },
   {
    "duration": 617,
    "start_time": "2021-08-31T18:18:02.083Z"
   },
   {
    "duration": 634,
    "start_time": "2021-08-31T18:18:39.213Z"
   },
   {
    "duration": 634,
    "start_time": "2021-08-31T18:19:12.474Z"
   },
   {
    "duration": 3,
    "start_time": "2021-08-31T18:19:26.151Z"
   },
   {
    "duration": 16,
    "start_time": "2021-08-31T19:54:14.921Z"
   },
   {
    "duration": 13,
    "start_time": "2021-08-31T19:54:37.995Z"
   },
   {
    "duration": 14,
    "start_time": "2021-08-31T19:55:14.344Z"
   },
   {
    "duration": 12,
    "start_time": "2021-08-31T19:56:15.418Z"
   },
   {
    "duration": 18,
    "start_time": "2021-08-31T20:01:06.319Z"
   },
   {
    "duration": 15,
    "start_time": "2021-08-31T20:01:07.491Z"
   },
   {
    "duration": 1177,
    "start_time": "2021-08-31T20:05:02.758Z"
   },
   {
    "duration": 190,
    "start_time": "2021-08-31T20:05:03.937Z"
   },
   {
    "duration": 15,
    "start_time": "2021-08-31T20:05:04.129Z"
   },
   {
    "duration": 15,
    "start_time": "2021-08-31T20:05:04.146Z"
   },
   {
    "duration": 14,
    "start_time": "2021-08-31T20:05:04.163Z"
   },
   {
    "duration": 3,
    "start_time": "2021-08-31T20:05:04.179Z"
   },
   {
    "duration": 14,
    "start_time": "2021-08-31T20:05:04.183Z"
   },
   {
    "duration": 20,
    "start_time": "2021-08-31T20:05:04.200Z"
   },
   {
    "duration": 2,
    "start_time": "2021-08-31T20:05:04.222Z"
   },
   {
    "duration": 13,
    "start_time": "2021-08-31T20:05:04.225Z"
   },
   {
    "duration": 11,
    "start_time": "2021-08-31T20:05:04.239Z"
   },
   {
    "duration": 7,
    "start_time": "2021-08-31T20:05:04.252Z"
   },
   {
    "duration": 9,
    "start_time": "2021-08-31T20:05:04.261Z"
   },
   {
    "duration": 30,
    "start_time": "2021-08-31T20:05:04.292Z"
   },
   {
    "duration": 31,
    "start_time": "2021-08-31T20:05:04.323Z"
   },
   {
    "duration": 35,
    "start_time": "2021-08-31T20:05:04.356Z"
   },
   {
    "duration": 6,
    "start_time": "2021-08-31T20:05:04.393Z"
   },
   {
    "duration": 9,
    "start_time": "2021-08-31T20:05:04.401Z"
   },
   {
    "duration": 15,
    "start_time": "2021-08-31T20:05:04.412Z"
   },
   {
    "duration": 11,
    "start_time": "2021-08-31T20:05:04.428Z"
   },
   {
    "duration": 19,
    "start_time": "2021-08-31T20:05:04.440Z"
   },
   {
    "duration": 19,
    "start_time": "2021-08-31T20:05:04.461Z"
   },
   {
    "duration": 7,
    "start_time": "2021-08-31T20:05:04.492Z"
   },
   {
    "duration": 10,
    "start_time": "2021-08-31T20:05:04.501Z"
   },
   {
    "duration": 5,
    "start_time": "2021-08-31T20:05:04.513Z"
   },
   {
    "duration": 19,
    "start_time": "2021-08-31T20:05:04.520Z"
   },
   {
    "duration": 12,
    "start_time": "2021-08-31T20:05:04.541Z"
   },
   {
    "duration": 45,
    "start_time": "2021-08-31T20:05:04.555Z"
   },
   {
    "duration": 227,
    "start_time": "2021-08-31T20:05:04.602Z"
   },
   {
    "duration": 2,
    "start_time": "2021-08-31T20:05:04.831Z"
   },
   {
    "duration": 10,
    "start_time": "2021-08-31T20:05:04.835Z"
   },
   {
    "duration": 13,
    "start_time": "2021-08-31T20:05:04.847Z"
   },
   {
    "duration": 202,
    "start_time": "2021-08-31T20:05:04.861Z"
   },
   {
    "duration": 29,
    "start_time": "2021-08-31T20:05:05.064Z"
   },
   {
    "duration": 216,
    "start_time": "2021-08-31T20:05:05.095Z"
   },
   {
    "duration": 283,
    "start_time": "2021-08-31T20:05:05.312Z"
   },
   {
    "duration": 272,
    "start_time": "2021-08-31T20:05:05.597Z"
   },
   {
    "duration": 6,
    "start_time": "2021-08-31T20:05:05.871Z"
   },
   {
    "duration": 230,
    "start_time": "2021-08-31T20:05:05.878Z"
   },
   {
    "duration": 242,
    "start_time": "2021-08-31T20:05:06.110Z"
   },
   {
    "duration": 42,
    "start_time": "2021-08-31T20:05:06.354Z"
   },
   {
    "duration": 410,
    "start_time": "2021-08-31T20:05:06.397Z"
   },
   {
    "duration": 355,
    "start_time": "2021-08-31T20:05:06.808Z"
   },
   {
    "duration": 19,
    "start_time": "2021-08-31T20:05:07.164Z"
   },
   {
    "duration": 6,
    "start_time": "2021-08-31T20:05:07.191Z"
   },
   {
    "duration": 2234,
    "start_time": "2021-08-31T20:05:07.199Z"
   },
   {
    "duration": 26,
    "start_time": "2021-08-31T20:05:09.435Z"
   },
   {
    "duration": 36,
    "start_time": "2021-08-31T20:05:09.463Z"
   },
   {
    "duration": 340,
    "start_time": "2021-08-31T20:05:09.500Z"
   },
   {
    "duration": 33,
    "start_time": "2021-08-31T20:05:09.841Z"
   },
   {
    "duration": 47,
    "start_time": "2021-08-31T20:05:09.876Z"
   },
   {
    "duration": 12,
    "start_time": "2021-08-31T20:05:09.924Z"
   },
   {
    "duration": 17,
    "start_time": "2021-08-31T20:05:09.938Z"
   },
   {
    "duration": 206,
    "start_time": "2021-08-31T20:05:09.957Z"
   },
   {
    "duration": 34,
    "start_time": "2021-08-31T20:05:10.165Z"
   },
   {
    "duration": 10,
    "start_time": "2021-08-31T20:05:10.200Z"
   },
   {
    "duration": 12,
    "start_time": "2021-08-31T20:05:10.212Z"
   },
   {
    "duration": 1136,
    "start_time": "2021-08-31T21:44:37.808Z"
   },
   {
    "duration": 193,
    "start_time": "2021-08-31T21:44:38.946Z"
   },
   {
    "duration": 15,
    "start_time": "2021-08-31T21:44:39.141Z"
   },
   {
    "duration": 14,
    "start_time": "2021-08-31T21:44:39.157Z"
   },
   {
    "duration": 21,
    "start_time": "2021-08-31T21:44:39.172Z"
   },
   {
    "duration": 2,
    "start_time": "2021-08-31T21:44:39.194Z"
   },
   {
    "duration": 20,
    "start_time": "2021-08-31T21:44:39.198Z"
   },
   {
    "duration": 16,
    "start_time": "2021-08-31T21:44:39.220Z"
   },
   {
    "duration": 5,
    "start_time": "2021-08-31T21:44:39.238Z"
   },
   {
    "duration": 9,
    "start_time": "2021-08-31T21:44:39.245Z"
   },
   {
    "duration": 34,
    "start_time": "2021-08-31T21:44:39.255Z"
   },
   {
    "duration": 30,
    "start_time": "2021-08-31T21:44:39.291Z"
   },
   {
    "duration": 14,
    "start_time": "2021-08-31T21:44:39.323Z"
   },
   {
    "duration": 9,
    "start_time": "2021-08-31T21:44:39.339Z"
   },
   {
    "duration": 7,
    "start_time": "2021-08-31T21:44:39.350Z"
   },
   {
    "duration": 8,
    "start_time": "2021-08-31T21:44:39.358Z"
   },
   {
    "duration": 28,
    "start_time": "2021-08-31T21:44:39.368Z"
   },
   {
    "duration": 16,
    "start_time": "2021-08-31T21:44:39.397Z"
   },
   {
    "duration": 17,
    "start_time": "2021-08-31T21:44:39.414Z"
   },
   {
    "duration": 6156,
    "start_time": "2021-08-31T21:44:39.433Z"
   },
   {
    "duration": -1261,
    "start_time": "2021-08-31T21:44:46.853Z"
   },
   {
    "duration": -1280,
    "start_time": "2021-08-31T21:44:46.873Z"
   },
   {
    "duration": -1289,
    "start_time": "2021-08-31T21:44:46.883Z"
   },
   {
    "duration": -1299,
    "start_time": "2021-08-31T21:44:46.894Z"
   },
   {
    "duration": -1309,
    "start_time": "2021-08-31T21:44:46.904Z"
   },
   {
    "duration": -1314,
    "start_time": "2021-08-31T21:44:46.910Z"
   },
   {
    "duration": -1325,
    "start_time": "2021-08-31T21:44:46.922Z"
   },
   {
    "duration": -1331,
    "start_time": "2021-08-31T21:44:46.928Z"
   },
   {
    "duration": -1341,
    "start_time": "2021-08-31T21:44:46.939Z"
   },
   {
    "duration": -1347,
    "start_time": "2021-08-31T21:44:46.946Z"
   },
   {
    "duration": -1359,
    "start_time": "2021-08-31T21:44:46.958Z"
   },
   {
    "duration": -1365,
    "start_time": "2021-08-31T21:44:46.965Z"
   },
   {
    "duration": -1373,
    "start_time": "2021-08-31T21:44:46.974Z"
   },
   {
    "duration": -1382,
    "start_time": "2021-08-31T21:44:46.983Z"
   },
   {
    "duration": -1390,
    "start_time": "2021-08-31T21:44:46.992Z"
   },
   {
    "duration": -1395,
    "start_time": "2021-08-31T21:44:46.998Z"
   },
   {
    "duration": -1405,
    "start_time": "2021-08-31T21:44:47.008Z"
   },
   {
    "duration": -1411,
    "start_time": "2021-08-31T21:44:47.015Z"
   },
   {
    "duration": -1419,
    "start_time": "2021-08-31T21:44:47.024Z"
   },
   {
    "duration": -1424,
    "start_time": "2021-08-31T21:44:47.029Z"
   },
   {
    "duration": -1452,
    "start_time": "2021-08-31T21:44:47.058Z"
   },
   {
    "duration": -1456,
    "start_time": "2021-08-31T21:44:47.063Z"
   },
   {
    "duration": -1465,
    "start_time": "2021-08-31T21:44:47.072Z"
   },
   {
    "duration": -1468,
    "start_time": "2021-08-31T21:44:47.076Z"
   },
   {
    "duration": -1477,
    "start_time": "2021-08-31T21:44:47.086Z"
   },
   {
    "duration": -1482,
    "start_time": "2021-08-31T21:44:47.091Z"
   },
   {
    "duration": -1487,
    "start_time": "2021-08-31T21:44:47.097Z"
   },
   {
    "duration": -1497,
    "start_time": "2021-08-31T21:44:47.107Z"
   },
   {
    "duration": -1503,
    "start_time": "2021-08-31T21:44:47.114Z"
   },
   {
    "duration": -1511,
    "start_time": "2021-08-31T21:44:47.123Z"
   },
   {
    "duration": -1517,
    "start_time": "2021-08-31T21:44:47.130Z"
   },
   {
    "duration": -1526,
    "start_time": "2021-08-31T21:44:47.139Z"
   },
   {
    "duration": -1532,
    "start_time": "2021-08-31T21:44:47.146Z"
   },
   {
    "duration": -1540,
    "start_time": "2021-08-31T21:44:47.155Z"
   },
   {
    "duration": -1545,
    "start_time": "2021-08-31T21:44:47.161Z"
   },
   {
    "duration": -1553,
    "start_time": "2021-08-31T21:44:47.170Z"
   },
   {
    "duration": -1558,
    "start_time": "2021-08-31T21:44:47.176Z"
   },
   {
    "duration": 4,
    "start_time": "2021-08-31T21:45:56.219Z"
   },
   {
    "duration": 1195,
    "start_time": "2021-08-31T21:46:52.355Z"
   },
   {
    "duration": 362,
    "start_time": "2021-08-31T21:46:53.551Z"
   },
   {
    "duration": 14,
    "start_time": "2021-08-31T21:46:53.916Z"
   },
   {
    "duration": 13,
    "start_time": "2021-08-31T21:46:53.932Z"
   },
   {
    "duration": 17,
    "start_time": "2021-08-31T21:46:53.947Z"
   },
   {
    "duration": 4,
    "start_time": "2021-08-31T21:46:53.966Z"
   },
   {
    "duration": 29,
    "start_time": "2021-08-31T21:46:53.972Z"
   },
   {
    "duration": 18,
    "start_time": "2021-08-31T21:46:54.004Z"
   },
   {
    "duration": 3,
    "start_time": "2021-08-31T21:46:54.025Z"
   },
   {
    "duration": 9,
    "start_time": "2021-08-31T21:46:54.029Z"
   },
   {
    "duration": 9,
    "start_time": "2021-08-31T21:46:54.040Z"
   },
   {
    "duration": 6,
    "start_time": "2021-08-31T21:46:54.051Z"
   },
   {
    "duration": 37,
    "start_time": "2021-08-31T21:46:54.059Z"
   },
   {
    "duration": 30,
    "start_time": "2021-08-31T21:46:54.098Z"
   },
   {
    "duration": 30,
    "start_time": "2021-08-31T21:46:54.129Z"
   },
   {
    "duration": 34,
    "start_time": "2021-08-31T21:46:54.161Z"
   },
   {
    "duration": 7,
    "start_time": "2021-08-31T21:46:54.197Z"
   },
   {
    "duration": 6,
    "start_time": "2021-08-31T21:46:54.205Z"
   },
   {
    "duration": 7,
    "start_time": "2021-08-31T21:46:54.213Z"
   },
   {
    "duration": 10,
    "start_time": "2021-08-31T21:46:54.222Z"
   },
   {
    "duration": 13,
    "start_time": "2021-08-31T21:46:54.233Z"
   },
   {
    "duration": 16,
    "start_time": "2021-08-31T21:46:54.248Z"
   },
   {
    "duration": 6,
    "start_time": "2021-08-31T21:46:54.292Z"
   },
   {
    "duration": 10,
    "start_time": "2021-08-31T21:46:54.300Z"
   },
   {
    "duration": 3,
    "start_time": "2021-08-31T21:46:54.312Z"
   },
   {
    "duration": 19,
    "start_time": "2021-08-31T21:46:54.317Z"
   },
   {
    "duration": 13,
    "start_time": "2021-08-31T21:46:54.338Z"
   },
   {
    "duration": 50,
    "start_time": "2021-08-31T21:46:54.352Z"
   },
   {
    "duration": 266,
    "start_time": "2021-08-31T21:46:54.404Z"
   },
   {
    "duration": 2,
    "start_time": "2021-08-31T21:46:54.672Z"
   },
   {
    "duration": 19,
    "start_time": "2021-08-31T21:46:54.675Z"
   },
   {
    "duration": 15,
    "start_time": "2021-08-31T21:46:54.696Z"
   },
   {
    "duration": 187,
    "start_time": "2021-08-31T21:46:54.713Z"
   },
   {
    "duration": 21,
    "start_time": "2021-08-31T21:46:54.901Z"
   },
   {
    "duration": 226,
    "start_time": "2021-08-31T21:46:54.924Z"
   },
   {
    "duration": 294,
    "start_time": "2021-08-31T21:46:55.152Z"
   },
   {
    "duration": 275,
    "start_time": "2021-08-31T21:46:55.448Z"
   },
   {
    "duration": 6,
    "start_time": "2021-08-31T21:46:55.725Z"
   },
   {
    "duration": 242,
    "start_time": "2021-08-31T21:46:55.733Z"
   },
   {
    "duration": 232,
    "start_time": "2021-08-31T21:46:55.978Z"
   },
   {
    "duration": 36,
    "start_time": "2021-08-31T21:46:56.212Z"
   },
   {
    "duration": 420,
    "start_time": "2021-08-31T21:46:56.249Z"
   },
   {
    "duration": 361,
    "start_time": "2021-08-31T21:46:56.671Z"
   },
   {
    "duration": 19,
    "start_time": "2021-08-31T21:46:57.034Z"
   },
   {
    "duration": 8,
    "start_time": "2021-08-31T21:46:57.055Z"
   },
   {
    "duration": 2080,
    "start_time": "2021-08-31T21:46:57.065Z"
   },
   {
    "duration": 26,
    "start_time": "2021-08-31T21:46:59.147Z"
   },
   {
    "duration": 20,
    "start_time": "2021-08-31T21:46:59.191Z"
   },
   {
    "duration": 336,
    "start_time": "2021-08-31T21:46:59.213Z"
   },
   {
    "duration": 44,
    "start_time": "2021-08-31T21:46:59.550Z"
   },
   {
    "duration": 33,
    "start_time": "2021-08-31T21:46:59.596Z"
   },
   {
    "duration": 12,
    "start_time": "2021-08-31T21:46:59.630Z"
   },
   {
    "duration": 24,
    "start_time": "2021-08-31T21:46:59.644Z"
   },
   {
    "duration": 205,
    "start_time": "2021-08-31T21:46:59.669Z"
   },
   {
    "duration": 29,
    "start_time": "2021-08-31T21:46:59.875Z"
   },
   {
    "duration": 11,
    "start_time": "2021-08-31T21:46:59.906Z"
   },
   {
    "duration": 20,
    "start_time": "2021-08-31T21:46:59.918Z"
   },
   {
    "duration": 1073,
    "start_time": "2021-08-31T21:48:57.538Z"
   },
   {
    "duration": 189,
    "start_time": "2021-08-31T21:48:58.613Z"
   },
   {
    "duration": 15,
    "start_time": "2021-08-31T21:48:58.804Z"
   },
   {
    "duration": 12,
    "start_time": "2021-08-31T21:48:58.821Z"
   },
   {
    "duration": 337,
    "start_time": "2021-08-31T21:48:58.835Z"
   },
   {
    "duration": -1164,
    "start_time": "2021-08-31T21:49:00.340Z"
   },
   {
    "duration": -1181,
    "start_time": "2021-08-31T21:49:00.359Z"
   },
   {
    "duration": -1199,
    "start_time": "2021-08-31T21:49:00.378Z"
   },
   {
    "duration": -1228,
    "start_time": "2021-08-31T21:49:00.407Z"
   },
   {
    "duration": -1253,
    "start_time": "2021-08-31T21:49:00.433Z"
   },
   {
    "duration": -1339,
    "start_time": "2021-08-31T21:49:00.520Z"
   },
   {
    "duration": -1349,
    "start_time": "2021-08-31T21:49:00.531Z"
   },
   {
    "duration": -1358,
    "start_time": "2021-08-31T21:49:00.541Z"
   },
   {
    "duration": -1371,
    "start_time": "2021-08-31T21:49:00.555Z"
   },
   {
    "duration": -1385,
    "start_time": "2021-08-31T21:49:00.570Z"
   },
   {
    "duration": -1392,
    "start_time": "2021-08-31T21:49:00.578Z"
   },
   {
    "duration": -1396,
    "start_time": "2021-08-31T21:49:00.583Z"
   },
   {
    "duration": -1403,
    "start_time": "2021-08-31T21:49:00.591Z"
   },
   {
    "duration": -1410,
    "start_time": "2021-08-31T21:49:00.599Z"
   },
   {
    "duration": -1415,
    "start_time": "2021-08-31T21:49:00.605Z"
   },
   {
    "duration": -1522,
    "start_time": "2021-08-31T21:49:00.713Z"
   },
   {
    "duration": -1525,
    "start_time": "2021-08-31T21:49:00.717Z"
   },
   {
    "duration": -1531,
    "start_time": "2021-08-31T21:49:00.724Z"
   },
   {
    "duration": -1538,
    "start_time": "2021-08-31T21:49:00.732Z"
   },
   {
    "duration": -1542,
    "start_time": "2021-08-31T21:49:00.737Z"
   },
   {
    "duration": -1549,
    "start_time": "2021-08-31T21:49:00.744Z"
   },
   {
    "duration": -1553,
    "start_time": "2021-08-31T21:49:00.749Z"
   },
   {
    "duration": -1559,
    "start_time": "2021-08-31T21:49:00.756Z"
   },
   {
    "duration": -1566,
    "start_time": "2021-08-31T21:49:00.764Z"
   },
   {
    "duration": -1572,
    "start_time": "2021-08-31T21:49:00.771Z"
   },
   {
    "duration": -1579,
    "start_time": "2021-08-31T21:49:00.779Z"
   },
   {
    "duration": -1585,
    "start_time": "2021-08-31T21:49:00.786Z"
   },
   {
    "duration": -1593,
    "start_time": "2021-08-31T21:49:00.795Z"
   },
   {
    "duration": -1597,
    "start_time": "2021-08-31T21:49:00.800Z"
   },
   {
    "duration": -1602,
    "start_time": "2021-08-31T21:49:00.806Z"
   },
   {
    "duration": -1612,
    "start_time": "2021-08-31T21:49:00.819Z"
   },
   {
    "duration": -1622,
    "start_time": "2021-08-31T21:49:00.830Z"
   },
   {
    "duration": -1630,
    "start_time": "2021-08-31T21:49:00.838Z"
   },
   {
    "duration": -1642,
    "start_time": "2021-08-31T21:49:00.851Z"
   },
   {
    "duration": -1649,
    "start_time": "2021-08-31T21:49:00.859Z"
   },
   {
    "duration": -1658,
    "start_time": "2021-08-31T21:49:00.870Z"
   },
   {
    "duration": -1673,
    "start_time": "2021-08-31T21:49:00.885Z"
   },
   {
    "duration": -1684,
    "start_time": "2021-08-31T21:49:00.897Z"
   },
   {
    "duration": -1714,
    "start_time": "2021-08-31T21:49:00.928Z"
   },
   {
    "duration": -1720,
    "start_time": "2021-08-31T21:49:00.935Z"
   },
   {
    "duration": -1732,
    "start_time": "2021-08-31T21:49:00.948Z"
   },
   {
    "duration": -1738,
    "start_time": "2021-08-31T21:49:00.955Z"
   },
   {
    "duration": -1749,
    "start_time": "2021-08-31T21:49:00.967Z"
   },
   {
    "duration": -1757,
    "start_time": "2021-08-31T21:49:00.976Z"
   },
   {
    "duration": -1763,
    "start_time": "2021-08-31T21:49:00.983Z"
   },
   {
    "duration": -1768,
    "start_time": "2021-08-31T21:49:00.989Z"
   },
   {
    "duration": -1776,
    "start_time": "2021-08-31T21:49:00.998Z"
   },
   {
    "duration": -1780,
    "start_time": "2021-08-31T21:49:01.003Z"
   },
   {
    "duration": -1787,
    "start_time": "2021-08-31T21:49:01.011Z"
   },
   {
    "duration": -1792,
    "start_time": "2021-08-31T21:49:01.017Z"
   },
   {
    "duration": -1797,
    "start_time": "2021-08-31T21:49:01.023Z"
   },
   {
    "duration": -1806,
    "start_time": "2021-08-31T21:49:01.032Z"
   },
   {
    "duration": 94,
    "start_time": "2021-08-31T21:55:50.184Z"
   },
   {
    "duration": 257,
    "start_time": "2021-08-31T21:56:04.324Z"
   },
   {
    "duration": 254,
    "start_time": "2021-08-31T21:59:02.518Z"
   },
   {
    "duration": 443,
    "start_time": "2021-08-31T21:59:21.317Z"
   },
   {
    "duration": 1101,
    "start_time": "2021-08-31T21:59:55.839Z"
   },
   {
    "duration": 181,
    "start_time": "2021-08-31T21:59:56.942Z"
   },
   {
    "duration": 15,
    "start_time": "2021-08-31T21:59:57.125Z"
   },
   {
    "duration": 15,
    "start_time": "2021-08-31T21:59:57.142Z"
   },
   {
    "duration": 339,
    "start_time": "2021-08-31T21:59:57.158Z"
   },
   {
    "duration": -1260,
    "start_time": "2021-08-31T21:59:58.761Z"
   },
   {
    "duration": -1276,
    "start_time": "2021-08-31T21:59:58.778Z"
   },
   {
    "duration": -1444,
    "start_time": "2021-08-31T21:59:58.946Z"
   },
   {
    "duration": -1468,
    "start_time": "2021-08-31T21:59:58.971Z"
   },
   {
    "duration": -1495,
    "start_time": "2021-08-31T21:59:58.999Z"
   },
   {
    "duration": -1519,
    "start_time": "2021-08-31T21:59:59.024Z"
   },
   {
    "duration": -1546,
    "start_time": "2021-08-31T21:59:59.052Z"
   },
   {
    "duration": -1572,
    "start_time": "2021-08-31T21:59:59.078Z"
   },
   {
    "duration": -1587,
    "start_time": "2021-08-31T21:59:59.094Z"
   },
   {
    "duration": -1599,
    "start_time": "2021-08-31T21:59:59.107Z"
   },
   {
    "duration": -1614,
    "start_time": "2021-08-31T21:59:59.123Z"
   },
   {
    "duration": -1691,
    "start_time": "2021-08-31T21:59:59.201Z"
   },
   {
    "duration": -1698,
    "start_time": "2021-08-31T21:59:59.208Z"
   },
   {
    "duration": -1708,
    "start_time": "2021-08-31T21:59:59.219Z"
   },
   {
    "duration": -1716,
    "start_time": "2021-08-31T21:59:59.228Z"
   },
   {
    "duration": -1720,
    "start_time": "2021-08-31T21:59:59.234Z"
   },
   {
    "duration": -1726,
    "start_time": "2021-08-31T21:59:59.240Z"
   },
   {
    "duration": -1734,
    "start_time": "2021-08-31T21:59:59.249Z"
   },
   {
    "duration": -1739,
    "start_time": "2021-08-31T21:59:59.255Z"
   },
   {
    "duration": -1748,
    "start_time": "2021-08-31T21:59:59.265Z"
   },
   {
    "duration": -1755,
    "start_time": "2021-08-31T21:59:59.273Z"
   },
   {
    "duration": -1813,
    "start_time": "2021-08-31T21:59:59.332Z"
   },
   {
    "duration": -1822,
    "start_time": "2021-08-31T21:59:59.342Z"
   },
   {
    "duration": -1835,
    "start_time": "2021-08-31T21:59:59.355Z"
   },
   {
    "duration": -1846,
    "start_time": "2021-08-31T21:59:59.367Z"
   },
   {
    "duration": -1854,
    "start_time": "2021-08-31T21:59:59.376Z"
   },
   {
    "duration": -1864,
    "start_time": "2021-08-31T21:59:59.387Z"
   },
   {
    "duration": -1875,
    "start_time": "2021-08-31T21:59:59.399Z"
   },
   {
    "duration": -1884,
    "start_time": "2021-08-31T21:59:59.408Z"
   },
   {
    "duration": -1895,
    "start_time": "2021-08-31T21:59:59.420Z"
   },
   {
    "duration": -1905,
    "start_time": "2021-08-31T21:59:59.433Z"
   },
   {
    "duration": -1911,
    "start_time": "2021-08-31T21:59:59.440Z"
   },
   {
    "duration": -1919,
    "start_time": "2021-08-31T21:59:59.449Z"
   },
   {
    "duration": -1927,
    "start_time": "2021-08-31T21:59:59.458Z"
   },
   {
    "duration": -1935,
    "start_time": "2021-08-31T21:59:59.467Z"
   },
   {
    "duration": -1941,
    "start_time": "2021-08-31T21:59:59.473Z"
   },
   {
    "duration": -1949,
    "start_time": "2021-08-31T21:59:59.482Z"
   },
   {
    "duration": -1955,
    "start_time": "2021-08-31T21:59:59.489Z"
   },
   {
    "duration": -1962,
    "start_time": "2021-08-31T21:59:59.497Z"
   },
   {
    "duration": -1967,
    "start_time": "2021-08-31T21:59:59.503Z"
   },
   {
    "duration": -1974,
    "start_time": "2021-08-31T21:59:59.511Z"
   },
   {
    "duration": -1979,
    "start_time": "2021-08-31T21:59:59.517Z"
   },
   {
    "duration": -1986,
    "start_time": "2021-08-31T21:59:59.525Z"
   },
   {
    "duration": -1942,
    "start_time": "2021-08-31T21:59:59.533Z"
   },
   {
    "duration": -1959,
    "start_time": "2021-08-31T21:59:59.551Z"
   },
   {
    "duration": -1965,
    "start_time": "2021-08-31T21:59:59.558Z"
   },
   {
    "duration": -1974,
    "start_time": "2021-08-31T21:59:59.567Z"
   },
   {
    "duration": -1978,
    "start_time": "2021-08-31T21:59:59.572Z"
   },
   {
    "duration": -1986,
    "start_time": "2021-08-31T21:59:59.581Z"
   },
   {
    "duration": -1990,
    "start_time": "2021-08-31T21:59:59.586Z"
   },
   {
    "duration": -2001,
    "start_time": "2021-08-31T21:59:59.598Z"
   },
   {
    "duration": -2008,
    "start_time": "2021-08-31T21:59:59.606Z"
   },
   {
    "duration": 444,
    "start_time": "2021-08-31T22:00:21.896Z"
   },
   {
    "duration": 409,
    "start_time": "2021-08-31T22:00:26.057Z"
   },
   {
    "duration": 467,
    "start_time": "2021-08-31T22:01:12.156Z"
   },
   {
    "duration": 414,
    "start_time": "2021-08-31T22:01:24.299Z"
   },
   {
    "duration": 405,
    "start_time": "2021-08-31T22:01:37.975Z"
   },
   {
    "duration": 9,
    "start_time": "2021-08-31T22:03:51.797Z"
   },
   {
    "duration": 23,
    "start_time": "2021-08-31T22:04:03.580Z"
   },
   {
    "duration": 15,
    "start_time": "2021-08-31T22:04:24.651Z"
   },
   {
    "duration": 13,
    "start_time": "2021-08-31T22:04:32.618Z"
   },
   {
    "duration": 13,
    "start_time": "2021-08-31T22:05:03.999Z"
   },
   {
    "duration": 11,
    "start_time": "2021-08-31T22:05:37.933Z"
   },
   {
    "duration": 7,
    "start_time": "2021-08-31T22:05:40.118Z"
   },
   {
    "duration": 7,
    "start_time": "2021-08-31T22:05:41.143Z"
   },
   {
    "duration": 7,
    "start_time": "2021-08-31T22:05:41.752Z"
   },
   {
    "duration": 4,
    "start_time": "2021-08-31T22:06:18.265Z"
   },
   {
    "duration": 7,
    "start_time": "2021-08-31T22:06:28.628Z"
   },
   {
    "duration": 7,
    "start_time": "2021-08-31T22:07:03.339Z"
   },
   {
    "duration": 6021,
    "start_time": "2021-08-31T22:07:14.394Z"
   },
   {
    "duration": 6,
    "start_time": "2021-08-31T22:07:37.360Z"
   },
   {
    "duration": 10,
    "start_time": "2021-08-31T22:07:43.462Z"
   },
   {
    "duration": 1152,
    "start_time": "2021-08-31T22:07:54.488Z"
   },
   {
    "duration": 188,
    "start_time": "2021-08-31T22:07:55.642Z"
   },
   {
    "duration": 15,
    "start_time": "2021-08-31T22:07:55.832Z"
   },
   {
    "duration": 14,
    "start_time": "2021-08-31T22:07:55.848Z"
   },
   {
    "duration": 22,
    "start_time": "2021-08-31T22:07:55.863Z"
   },
   {
    "duration": 3,
    "start_time": "2021-08-31T22:07:55.887Z"
   },
   {
    "duration": 13,
    "start_time": "2021-08-31T22:07:55.891Z"
   },
   {
    "duration": 16,
    "start_time": "2021-08-31T22:07:55.906Z"
   },
   {
    "duration": 2,
    "start_time": "2021-08-31T22:07:55.924Z"
   },
   {
    "duration": 14,
    "start_time": "2021-08-31T22:07:55.927Z"
   },
   {
    "duration": 9,
    "start_time": "2021-08-31T22:07:55.943Z"
   },
   {
    "duration": 10,
    "start_time": "2021-08-31T22:07:55.953Z"
   },
   {
    "duration": 8,
    "start_time": "2021-08-31T22:07:55.964Z"
   },
   {
    "duration": 45,
    "start_time": "2021-08-31T22:07:55.973Z"
   },
   {
    "duration": 29,
    "start_time": "2021-08-31T22:07:56.020Z"
   },
   {
    "duration": 13,
    "start_time": "2021-08-31T22:07:56.050Z"
   },
   {
    "duration": 31,
    "start_time": "2021-08-31T22:07:56.064Z"
   },
   {
    "duration": 4,
    "start_time": "2021-08-31T22:07:56.097Z"
   },
   {
    "duration": 10,
    "start_time": "2021-08-31T22:07:56.103Z"
   },
   {
    "duration": 8,
    "start_time": "2021-08-31T22:07:56.114Z"
   },
   {
    "duration": 13,
    "start_time": "2021-08-31T22:07:56.124Z"
   },
   {
    "duration": 17,
    "start_time": "2021-08-31T22:07:56.139Z"
   },
   {
    "duration": 6,
    "start_time": "2021-08-31T22:07:56.159Z"
   },
   {
    "duration": 8,
    "start_time": "2021-08-31T22:07:56.192Z"
   },
   {
    "duration": 5,
    "start_time": "2021-08-31T22:07:56.202Z"
   },
   {
    "duration": 17,
    "start_time": "2021-08-31T22:07:56.208Z"
   },
   {
    "duration": 12,
    "start_time": "2021-08-31T22:07:56.226Z"
   },
   {
    "duration": 16,
    "start_time": "2021-08-31T22:07:56.240Z"
   },
   {
    "duration": 274,
    "start_time": "2021-08-31T22:07:56.258Z"
   },
   {
    "duration": 2,
    "start_time": "2021-08-31T22:07:56.534Z"
   },
   {
    "duration": 9,
    "start_time": "2021-08-31T22:07:56.538Z"
   },
   {
    "duration": 12,
    "start_time": "2021-08-31T22:07:56.549Z"
   },
   {
    "duration": 187,
    "start_time": "2021-08-31T22:07:56.562Z"
   },
   {
    "duration": 21,
    "start_time": "2021-08-31T22:07:56.751Z"
   },
   {
    "duration": 224,
    "start_time": "2021-08-31T22:07:56.774Z"
   },
   {
    "duration": 288,
    "start_time": "2021-08-31T22:07:57.000Z"
   },
   {
    "duration": 270,
    "start_time": "2021-08-31T22:07:57.291Z"
   },
   {
    "duration": 6,
    "start_time": "2021-08-31T22:07:57.563Z"
   },
   {
    "duration": 336,
    "start_time": "2021-08-31T22:07:57.570Z"
   },
   {
    "duration": 228,
    "start_time": "2021-08-31T22:07:57.907Z"
   },
   {
    "duration": 35,
    "start_time": "2021-08-31T22:07:58.137Z"
   },
   {
    "duration": 406,
    "start_time": "2021-08-31T22:07:58.174Z"
   },
   {
    "duration": 352,
    "start_time": "2021-08-31T22:07:58.581Z"
   },
   {
    "duration": 1005,
    "start_time": "2021-08-31T22:07:58.935Z"
   },
   {
    "duration": -2835,
    "start_time": "2021-08-31T22:08:02.777Z"
   },
   {
    "duration": -2844,
    "start_time": "2021-08-31T22:08:02.787Z"
   },
   {
    "duration": -2849,
    "start_time": "2021-08-31T22:08:02.793Z"
   },
   {
    "duration": -2857,
    "start_time": "2021-08-31T22:08:02.801Z"
   },
   {
    "duration": -2862,
    "start_time": "2021-08-31T22:08:02.807Z"
   },
   {
    "duration": -2870,
    "start_time": "2021-08-31T22:08:02.816Z"
   },
   {
    "duration": -2874,
    "start_time": "2021-08-31T22:08:02.821Z"
   },
   {
    "duration": -2882,
    "start_time": "2021-08-31T22:08:02.830Z"
   },
   {
    "duration": -2887,
    "start_time": "2021-08-31T22:08:02.835Z"
   },
   {
    "duration": -2892,
    "start_time": "2021-08-31T22:08:02.841Z"
   },
   {
    "duration": -2898,
    "start_time": "2021-08-31T22:08:02.848Z"
   },
   {
    "duration": -2902,
    "start_time": "2021-08-31T22:08:02.853Z"
   },
   {
    "duration": -2907,
    "start_time": "2021-08-31T22:08:02.859Z"
   },
   {
    "duration": 6,
    "start_time": "2021-08-31T22:08:33.204Z"
   },
   {
    "duration": 22,
    "start_time": "2021-08-31T22:08:45.722Z"
   },
   {
    "duration": 23,
    "start_time": "2021-08-31T22:08:53.774Z"
   },
   {
    "duration": 249,
    "start_time": "2021-08-31T22:09:17.566Z"
   },
   {
    "duration": 247,
    "start_time": "2021-08-31T22:12:08.753Z"
   },
   {
    "duration": 11,
    "start_time": "2021-08-31T22:13:23.264Z"
   },
   {
    "duration": 19,
    "start_time": "2021-08-31T22:16:33.128Z"
   },
   {
    "duration": 13,
    "start_time": "2021-08-31T22:16:49.166Z"
   },
   {
    "duration": 9,
    "start_time": "2021-08-31T22:16:50.541Z"
   },
   {
    "duration": 945,
    "start_time": "2021-08-31T22:17:47.663Z"
   },
   {
    "duration": 1129,
    "start_time": "2021-08-31T22:18:13.955Z"
   },
   {
    "duration": 492,
    "start_time": "2021-08-31T22:18:15.085Z"
   },
   {
    "duration": 14,
    "start_time": "2021-08-31T22:18:15.579Z"
   },
   {
    "duration": 13,
    "start_time": "2021-08-31T22:18:15.595Z"
   },
   {
    "duration": 17,
    "start_time": "2021-08-31T22:18:15.610Z"
   },
   {
    "duration": 4,
    "start_time": "2021-08-31T22:18:15.629Z"
   },
   {
    "duration": 16,
    "start_time": "2021-08-31T22:18:15.634Z"
   },
   {
    "duration": 41,
    "start_time": "2021-08-31T22:18:15.652Z"
   },
   {
    "duration": 2,
    "start_time": "2021-08-31T22:18:15.695Z"
   },
   {
    "duration": 17,
    "start_time": "2021-08-31T22:18:15.699Z"
   },
   {
    "duration": 8,
    "start_time": "2021-08-31T22:18:15.719Z"
   },
   {
    "duration": 6,
    "start_time": "2021-08-31T22:18:15.729Z"
   },
   {
    "duration": 15,
    "start_time": "2021-08-31T22:18:15.736Z"
   },
   {
    "duration": 47,
    "start_time": "2021-08-31T22:18:15.753Z"
   },
   {
    "duration": 32,
    "start_time": "2021-08-31T22:18:15.802Z"
   },
   {
    "duration": 14,
    "start_time": "2021-08-31T22:18:15.836Z"
   },
   {
    "duration": 8,
    "start_time": "2021-08-31T22:18:15.852Z"
   },
   {
    "duration": 31,
    "start_time": "2021-08-31T22:18:15.862Z"
   },
   {
    "duration": 7,
    "start_time": "2021-08-31T22:18:15.895Z"
   },
   {
    "duration": 8,
    "start_time": "2021-08-31T22:18:15.904Z"
   },
   {
    "duration": 17,
    "start_time": "2021-08-31T22:18:15.914Z"
   },
   {
    "duration": 21,
    "start_time": "2021-08-31T22:18:15.933Z"
   },
   {
    "duration": 6,
    "start_time": "2021-08-31T22:18:15.959Z"
   },
   {
    "duration": 10,
    "start_time": "2021-08-31T22:18:15.993Z"
   },
   {
    "duration": 4,
    "start_time": "2021-08-31T22:18:16.005Z"
   },
   {
    "duration": 20,
    "start_time": "2021-08-31T22:18:16.011Z"
   },
   {
    "duration": 14,
    "start_time": "2021-08-31T22:18:16.033Z"
   },
   {
    "duration": 43,
    "start_time": "2021-08-31T22:18:16.049Z"
   },
   {
    "duration": 225,
    "start_time": "2021-08-31T22:18:16.094Z"
   },
   {
    "duration": 3,
    "start_time": "2021-08-31T22:18:16.321Z"
   },
   {
    "duration": 12,
    "start_time": "2021-08-31T22:18:16.326Z"
   },
   {
    "duration": 24,
    "start_time": "2021-08-31T22:18:16.340Z"
   },
   {
    "duration": 179,
    "start_time": "2021-08-31T22:18:16.365Z"
   },
   {
    "duration": 22,
    "start_time": "2021-08-31T22:18:16.546Z"
   },
   {
    "duration": 233,
    "start_time": "2021-08-31T22:18:16.571Z"
   },
   {
    "duration": 290,
    "start_time": "2021-08-31T22:18:16.806Z"
   },
   {
    "duration": 277,
    "start_time": "2021-08-31T22:18:17.098Z"
   },
   {
    "duration": 16,
    "start_time": "2021-08-31T22:18:17.377Z"
   },
   {
    "duration": 230,
    "start_time": "2021-08-31T22:18:17.395Z"
   },
   {
    "duration": 242,
    "start_time": "2021-08-31T22:18:17.627Z"
   },
   {
    "duration": 46,
    "start_time": "2021-08-31T22:18:17.871Z"
   },
   {
    "duration": 406,
    "start_time": "2021-08-31T22:18:17.919Z"
   },
   {
    "duration": 467,
    "start_time": "2021-08-31T22:18:18.327Z"
   },
   {
    "duration": 19,
    "start_time": "2021-08-31T22:18:18.795Z"
   },
   {
    "duration": 6,
    "start_time": "2021-08-31T22:18:18.816Z"
   },
   {
    "duration": 2239,
    "start_time": "2021-08-31T22:18:18.824Z"
   },
   {
    "duration": 36,
    "start_time": "2021-08-31T22:18:21.065Z"
   },
   {
    "duration": 20,
    "start_time": "2021-08-31T22:18:21.103Z"
   },
   {
    "duration": 338,
    "start_time": "2021-08-31T22:18:21.125Z"
   },
   {
    "duration": 44,
    "start_time": "2021-08-31T22:18:21.465Z"
   },
   {
    "duration": 34,
    "start_time": "2021-08-31T22:18:21.510Z"
   },
   {
    "duration": 12,
    "start_time": "2021-08-31T22:18:21.546Z"
   },
   {
    "duration": 32,
    "start_time": "2021-08-31T22:18:21.560Z"
   },
   {
    "duration": 200,
    "start_time": "2021-08-31T22:18:21.594Z"
   },
   {
    "duration": 26,
    "start_time": "2021-08-31T22:18:21.795Z"
   },
   {
    "duration": 10,
    "start_time": "2021-08-31T22:18:21.823Z"
   },
   {
    "duration": 10,
    "start_time": "2021-08-31T22:18:21.835Z"
   },
   {
    "duration": 12,
    "start_time": "2021-08-31T22:19:02.273Z"
   },
   {
    "duration": 10,
    "start_time": "2021-08-31T22:19:14.151Z"
   },
   {
    "duration": 11,
    "start_time": "2021-08-31T22:19:27.596Z"
   },
   {
    "duration": 14,
    "start_time": "2021-08-31T22:19:34.952Z"
   },
   {
    "duration": 14,
    "start_time": "2021-08-31T22:19:54.908Z"
   },
   {
    "duration": 336,
    "start_time": "2021-08-31T22:20:11.608Z"
   },
   {
    "duration": 14,
    "start_time": "2021-08-31T22:20:42.979Z"
   },
   {
    "duration": 278,
    "start_time": "2021-08-31T22:21:21.908Z"
   },
   {
    "duration": 237,
    "start_time": "2021-08-31T22:21:28.788Z"
   },
   {
    "duration": 412,
    "start_time": "2021-08-31T22:24:15.391Z"
   },
   {
    "duration": 13,
    "start_time": "2021-08-31T22:25:07.986Z"
   },
   {
    "duration": 13,
    "start_time": "2021-08-31T22:25:26.071Z"
   },
   {
    "duration": 442,
    "start_time": "2021-08-31T22:25:52.662Z"
   },
   {
    "duration": 441,
    "start_time": "2021-08-31T22:27:10.647Z"
   },
   {
    "duration": 13,
    "start_time": "2021-08-31T22:27:21.637Z"
   },
   {
    "duration": 431,
    "start_time": "2021-08-31T22:27:49.801Z"
   },
   {
    "duration": 13,
    "start_time": "2021-08-31T22:29:42.877Z"
   },
   {
    "duration": 17,
    "start_time": "2021-08-31T22:29:57.099Z"
   },
   {
    "duration": 23,
    "start_time": "2021-08-31T22:30:39.573Z"
   },
   {
    "duration": 17,
    "start_time": "2021-08-31T22:30:44.807Z"
   },
   {
    "duration": 19,
    "start_time": "2021-08-31T22:31:15.421Z"
   },
   {
    "duration": 391,
    "start_time": "2021-08-31T22:33:51.745Z"
   },
   {
    "duration": 14,
    "start_time": "2021-08-31T22:34:01.644Z"
   },
   {
    "duration": 14,
    "start_time": "2021-08-31T22:34:10.610Z"
   },
   {
    "duration": 15,
    "start_time": "2021-08-31T22:35:46.281Z"
   },
   {
    "duration": 16,
    "start_time": "2021-08-31T22:39:51.924Z"
   },
   {
    "duration": 1129,
    "start_time": "2021-09-01T09:27:17.688Z"
   },
   {
    "duration": 186,
    "start_time": "2021-09-01T09:27:18.819Z"
   },
   {
    "duration": 15,
    "start_time": "2021-09-01T09:27:19.006Z"
   },
   {
    "duration": 18,
    "start_time": "2021-09-01T09:27:19.022Z"
   },
   {
    "duration": 21,
    "start_time": "2021-09-01T09:27:19.042Z"
   },
   {
    "duration": 4,
    "start_time": "2021-09-01T09:27:19.064Z"
   },
   {
    "duration": 27,
    "start_time": "2021-09-01T09:27:19.069Z"
   },
   {
    "duration": 19,
    "start_time": "2021-09-01T09:27:19.098Z"
   },
   {
    "duration": 4,
    "start_time": "2021-09-01T09:27:19.119Z"
   },
   {
    "duration": 23,
    "start_time": "2021-09-01T09:27:19.124Z"
   },
   {
    "duration": 22,
    "start_time": "2021-09-01T09:27:19.148Z"
   },
   {
    "duration": 31,
    "start_time": "2021-09-01T09:27:19.172Z"
   },
   {
    "duration": 29,
    "start_time": "2021-09-01T09:27:19.204Z"
   },
   {
    "duration": 36,
    "start_time": "2021-09-01T09:27:19.235Z"
   },
   {
    "duration": 31,
    "start_time": "2021-09-01T09:27:19.273Z"
   },
   {
    "duration": 14,
    "start_time": "2021-09-01T09:27:19.306Z"
   },
   {
    "duration": 15,
    "start_time": "2021-09-01T09:27:19.321Z"
   },
   {
    "duration": 11,
    "start_time": "2021-09-01T09:27:19.337Z"
   },
   {
    "duration": 10,
    "start_time": "2021-09-01T09:27:19.350Z"
   },
   {
    "duration": 15,
    "start_time": "2021-09-01T09:27:19.361Z"
   },
   {
    "duration": 20,
    "start_time": "2021-09-01T09:27:19.378Z"
   },
   {
    "duration": 22,
    "start_time": "2021-09-01T09:27:19.400Z"
   },
   {
    "duration": 6,
    "start_time": "2021-09-01T09:27:19.427Z"
   },
   {
    "duration": 17,
    "start_time": "2021-09-01T09:27:19.435Z"
   },
   {
    "duration": 16,
    "start_time": "2021-09-01T09:27:19.453Z"
   },
   {
    "duration": 32,
    "start_time": "2021-09-01T09:27:19.471Z"
   },
   {
    "duration": 21,
    "start_time": "2021-09-01T09:27:19.504Z"
   },
   {
    "duration": 21,
    "start_time": "2021-09-01T09:27:19.527Z"
   },
   {
    "duration": 227,
    "start_time": "2021-09-01T09:27:19.550Z"
   },
   {
    "duration": 3,
    "start_time": "2021-09-01T09:27:19.779Z"
   },
   {
    "duration": 10,
    "start_time": "2021-09-01T09:27:19.791Z"
   },
   {
    "duration": 25,
    "start_time": "2021-09-01T09:27:19.802Z"
   },
   {
    "duration": 284,
    "start_time": "2021-09-01T09:27:19.829Z"
   },
   {
    "duration": 22,
    "start_time": "2021-09-01T09:27:20.114Z"
   },
   {
    "duration": 224,
    "start_time": "2021-09-01T09:27:20.137Z"
   },
   {
    "duration": 298,
    "start_time": "2021-09-01T09:27:20.363Z"
   },
   {
    "duration": 303,
    "start_time": "2021-09-01T09:27:20.662Z"
   },
   {
    "duration": 6,
    "start_time": "2021-09-01T09:27:20.966Z"
   },
   {
    "duration": 249,
    "start_time": "2021-09-01T09:27:20.973Z"
   },
   {
    "duration": 240,
    "start_time": "2021-09-01T09:27:21.224Z"
   },
   {
    "duration": 53,
    "start_time": "2021-09-01T09:27:21.466Z"
   },
   {
    "duration": 403,
    "start_time": "2021-09-01T09:27:21.521Z"
   },
   {
    "duration": 365,
    "start_time": "2021-09-01T09:27:21.926Z"
   },
   {
    "duration": 20,
    "start_time": "2021-09-01T09:27:22.293Z"
   },
   {
    "duration": 8,
    "start_time": "2021-09-01T09:27:22.315Z"
   },
   {
    "duration": 2103,
    "start_time": "2021-09-01T09:27:22.325Z"
   },
   {
    "duration": 24,
    "start_time": "2021-09-01T09:27:24.430Z"
   },
   {
    "duration": 36,
    "start_time": "2021-09-01T09:27:24.456Z"
   },
   {
    "duration": 338,
    "start_time": "2021-09-01T09:27:24.494Z"
   },
   {
    "duration": 36,
    "start_time": "2021-09-01T09:27:24.833Z"
   },
   {
    "duration": 47,
    "start_time": "2021-09-01T09:27:24.870Z"
   },
   {
    "duration": 12,
    "start_time": "2021-09-01T09:27:24.919Z"
   },
   {
    "duration": 25,
    "start_time": "2021-09-01T09:27:24.932Z"
   },
   {
    "duration": 194,
    "start_time": "2021-09-01T09:27:24.959Z"
   },
   {
    "duration": 25,
    "start_time": "2021-09-01T09:27:25.155Z"
   },
   {
    "duration": 14,
    "start_time": "2021-09-01T09:27:25.191Z"
   },
   {
    "duration": 17,
    "start_time": "2021-09-01T09:27:25.206Z"
   }
  ],
  "kernelspec": {
   "display_name": "Python 3",
   "language": "python",
   "name": "python3"
  },
  "language_info": {
   "codemirror_mode": {
    "name": "ipython",
    "version": 3
   },
   "file_extension": ".py",
   "mimetype": "text/x-python",
   "name": "python",
   "nbconvert_exporter": "python",
   "pygments_lexer": "ipython3",
   "version": "3.8.5"
  },
  "toc": {
   "base_numbering": 1,
   "nav_menu": {},
   "number_sections": true,
   "sideBar": true,
   "skip_h1_title": true,
   "title_cell": "Table of Contents",
   "title_sidebar": "Contents",
   "toc_cell": true,
   "toc_position": {},
   "toc_section_display": true,
   "toc_window_display": false
  }
 },
 "nbformat": 4,
 "nbformat_minor": 2
}
