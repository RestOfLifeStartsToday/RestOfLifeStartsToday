{
 "cells": [
  {
   "cell_type": "markdown",
   "metadata": {},
   "source": [
    "# Research on subscription plans"
   ]
  },
  {
   "cell_type": "markdown",
   "metadata": {},
   "source": [
    "Research on which subscription plan gives a higher value to Megaline."
   ]
  },
  {
   "cell_type": "markdown",
   "metadata": {},
   "source": [
    "## Project description"
   ]
  },
  {
   "cell_type": "markdown",
   "metadata": {},
   "source": [
    "As an analyst for the telecom operator Megaline, for the commercial department, I need to make a report on which of the plans, Surf or Ultimate, brings in more revenues in order to adjust the advertising budget.\n",
    "There are some missing data, I don't know what is the cost for Megaline to let its users use each one of the activities (for example, how much the company pays for each GB it let her uses consume, or how much Megaline pays for connectivity - calling users from other companies require paying the other company some fees).\n",
    "Therefore, the more the customer is paying, the more money the company is making. It's almost impossible that Megaline will earn more from the Surf plan customer which costs 20 dollars + extra fees rather than the Ultimate plan - 70 dollars."
   ]
  },
  {
   "cell_type": "markdown",
   "metadata": {},
   "source": [
    "The plans details are like that:<br>\n",
    "<b>Surf</b>\n",
    "<ul>\n",
    "    <li>Monthly charge: $20</li>\n",
    "    <li>500 monthly minutes, 50 texts, and 15 GB of data</li>\n",
    "    <li>After exceeding the package limits:\n",
    "        <ul>\n",
    "        <li>1 minute: 3 cents</li>\n",
    "        <li>1 text message: 3 cents</li>\n",
    "        <li>1 GB of data: 10 dollars</li>\n",
    "        </ul>\n",
    "    </li>\n",
    "</ul>\n",
    "\n",
    "<br>\n",
    "\n",
    "<b>Ultimate</b>\n",
    "<ul>\n",
    "    <li>Monthly charge: $70</li>\n",
    "    <li>3000 monthly minutes, 1000 texts, and 30 GB of data</li>\n",
    "    <li>After exceeding the package limits:\n",
    "        <ul>\n",
    "        <li>1 minute: 1 cents</li>\n",
    "        <li>1 text message: 1 cents</li>\n",
    "        <li>1 GB of data: 7 dollars</li>\n",
    "        </ul>\n",
    "    </li>\n",
    "</ul>\n"
   ]
  },
  {
   "cell_type": "markdown",
   "metadata": {},
   "source": [
    "## Data preperation"
   ]
  },
  {
   "cell_type": "code",
   "execution_count": 1,
   "metadata": {},
   "outputs": [],
   "source": [
    "import pandas as pd\n",
    "import datetime\n",
    "import matplotlib.pyplot as plt\n",
    "import seaborn as sb\n",
    "import numpy as np\n",
    "from scipy import stats as st\n",
    "\n",
    "from IPython.core.interactiveshell import InteractiveShell\n",
    "InteractiveShell.ast_node_interactivity = \"all\""
   ]
  },
  {
   "cell_type": "code",
   "execution_count": 2,
   "metadata": {},
   "outputs": [],
   "source": [
    "def load_data(file_name):\n",
    "    df=''\n",
    "    try:\n",
    "        df=pd.read_csv(file_name)\n",
    "    except:\n",
    "        df=pd.read_csv('/datasets/{}'.format(file_name))\n",
    "    return df\n",
    "\n",
    "df_calls=load_data('megaline_calls.csv')\n",
    "df_internet=load_data('megaline_internet.csv')\n",
    "df_messages=load_data('megaline_messages.csv')\n",
    "df_plans=load_data('megaline_plans.csv')\n",
    "df_users=load_data('megaline_users.csv')"
   ]
  },
  {
   "cell_type": "code",
   "execution_count": 3,
   "metadata": {},
   "outputs": [
    {
     "data": {
      "text/html": [
       "<div>\n",
       "<style scoped>\n",
       "    .dataframe tbody tr th:only-of-type {\n",
       "        vertical-align: middle;\n",
       "    }\n",
       "\n",
       "    .dataframe tbody tr th {\n",
       "        vertical-align: top;\n",
       "    }\n",
       "\n",
       "    .dataframe thead th {\n",
       "        text-align: right;\n",
       "    }\n",
       "</style>\n",
       "<table border=\"1\" class=\"dataframe\">\n",
       "  <thead>\n",
       "    <tr style=\"text-align: right;\">\n",
       "      <th></th>\n",
       "      <th>id</th>\n",
       "      <th>user_id</th>\n",
       "      <th>call_date</th>\n",
       "      <th>duration</th>\n",
       "    </tr>\n",
       "  </thead>\n",
       "  <tbody>\n",
       "    <tr>\n",
       "      <td>0</td>\n",
       "      <td>1000_93</td>\n",
       "      <td>1000</td>\n",
       "      <td>2018-12-27</td>\n",
       "      <td>8.52</td>\n",
       "    </tr>\n",
       "    <tr>\n",
       "      <td>1</td>\n",
       "      <td>1000_145</td>\n",
       "      <td>1000</td>\n",
       "      <td>2018-12-27</td>\n",
       "      <td>13.66</td>\n",
       "    </tr>\n",
       "    <tr>\n",
       "      <td>2</td>\n",
       "      <td>1000_247</td>\n",
       "      <td>1000</td>\n",
       "      <td>2018-12-27</td>\n",
       "      <td>14.48</td>\n",
       "    </tr>\n",
       "    <tr>\n",
       "      <td>3</td>\n",
       "      <td>1000_309</td>\n",
       "      <td>1000</td>\n",
       "      <td>2018-12-28</td>\n",
       "      <td>5.76</td>\n",
       "    </tr>\n",
       "    <tr>\n",
       "      <td>4</td>\n",
       "      <td>1000_380</td>\n",
       "      <td>1000</td>\n",
       "      <td>2018-12-30</td>\n",
       "      <td>4.22</td>\n",
       "    </tr>\n",
       "  </tbody>\n",
       "</table>\n",
       "</div>"
      ],
      "text/plain": [
       "         id  user_id   call_date  duration\n",
       "0   1000_93     1000  2018-12-27      8.52\n",
       "1  1000_145     1000  2018-12-27     13.66\n",
       "2  1000_247     1000  2018-12-27     14.48\n",
       "3  1000_309     1000  2018-12-28      5.76\n",
       "4  1000_380     1000  2018-12-30      4.22"
      ]
     },
     "execution_count": 3,
     "metadata": {},
     "output_type": "execute_result"
    }
   ],
   "source": [
    "df_calls.head()"
   ]
  },
  {
   "cell_type": "code",
   "execution_count": 4,
   "metadata": {},
   "outputs": [
    {
     "data": {
      "text/html": [
       "<div>\n",
       "<style scoped>\n",
       "    .dataframe tbody tr th:only-of-type {\n",
       "        vertical-align: middle;\n",
       "    }\n",
       "\n",
       "    .dataframe tbody tr th {\n",
       "        vertical-align: top;\n",
       "    }\n",
       "\n",
       "    .dataframe thead th {\n",
       "        text-align: right;\n",
       "    }\n",
       "</style>\n",
       "<table border=\"1\" class=\"dataframe\">\n",
       "  <thead>\n",
       "    <tr style=\"text-align: right;\">\n",
       "      <th></th>\n",
       "      <th>id</th>\n",
       "      <th>user_id</th>\n",
       "      <th>session_date</th>\n",
       "      <th>mb_used</th>\n",
       "    </tr>\n",
       "  </thead>\n",
       "  <tbody>\n",
       "    <tr>\n",
       "      <td>0</td>\n",
       "      <td>1000_13</td>\n",
       "      <td>1000</td>\n",
       "      <td>2018-12-29</td>\n",
       "      <td>89.86</td>\n",
       "    </tr>\n",
       "    <tr>\n",
       "      <td>1</td>\n",
       "      <td>1000_204</td>\n",
       "      <td>1000</td>\n",
       "      <td>2018-12-31</td>\n",
       "      <td>0.00</td>\n",
       "    </tr>\n",
       "    <tr>\n",
       "      <td>2</td>\n",
       "      <td>1000_379</td>\n",
       "      <td>1000</td>\n",
       "      <td>2018-12-28</td>\n",
       "      <td>660.40</td>\n",
       "    </tr>\n",
       "    <tr>\n",
       "      <td>3</td>\n",
       "      <td>1000_413</td>\n",
       "      <td>1000</td>\n",
       "      <td>2018-12-26</td>\n",
       "      <td>270.99</td>\n",
       "    </tr>\n",
       "    <tr>\n",
       "      <td>4</td>\n",
       "      <td>1000_442</td>\n",
       "      <td>1000</td>\n",
       "      <td>2018-12-27</td>\n",
       "      <td>880.22</td>\n",
       "    </tr>\n",
       "  </tbody>\n",
       "</table>\n",
       "</div>"
      ],
      "text/plain": [
       "         id  user_id session_date  mb_used\n",
       "0   1000_13     1000   2018-12-29    89.86\n",
       "1  1000_204     1000   2018-12-31     0.00\n",
       "2  1000_379     1000   2018-12-28   660.40\n",
       "3  1000_413     1000   2018-12-26   270.99\n",
       "4  1000_442     1000   2018-12-27   880.22"
      ]
     },
     "execution_count": 4,
     "metadata": {},
     "output_type": "execute_result"
    }
   ],
   "source": [
    "df_internet.head()"
   ]
  },
  {
   "cell_type": "code",
   "execution_count": 5,
   "metadata": {},
   "outputs": [
    {
     "data": {
      "text/html": [
       "<div>\n",
       "<style scoped>\n",
       "    .dataframe tbody tr th:only-of-type {\n",
       "        vertical-align: middle;\n",
       "    }\n",
       "\n",
       "    .dataframe tbody tr th {\n",
       "        vertical-align: top;\n",
       "    }\n",
       "\n",
       "    .dataframe thead th {\n",
       "        text-align: right;\n",
       "    }\n",
       "</style>\n",
       "<table border=\"1\" class=\"dataframe\">\n",
       "  <thead>\n",
       "    <tr style=\"text-align: right;\">\n",
       "      <th></th>\n",
       "      <th>id</th>\n",
       "      <th>user_id</th>\n",
       "      <th>message_date</th>\n",
       "    </tr>\n",
       "  </thead>\n",
       "  <tbody>\n",
       "    <tr>\n",
       "      <td>0</td>\n",
       "      <td>1000_125</td>\n",
       "      <td>1000</td>\n",
       "      <td>2018-12-27</td>\n",
       "    </tr>\n",
       "    <tr>\n",
       "      <td>1</td>\n",
       "      <td>1000_160</td>\n",
       "      <td>1000</td>\n",
       "      <td>2018-12-31</td>\n",
       "    </tr>\n",
       "    <tr>\n",
       "      <td>2</td>\n",
       "      <td>1000_223</td>\n",
       "      <td>1000</td>\n",
       "      <td>2018-12-31</td>\n",
       "    </tr>\n",
       "    <tr>\n",
       "      <td>3</td>\n",
       "      <td>1000_251</td>\n",
       "      <td>1000</td>\n",
       "      <td>2018-12-27</td>\n",
       "    </tr>\n",
       "    <tr>\n",
       "      <td>4</td>\n",
       "      <td>1000_255</td>\n",
       "      <td>1000</td>\n",
       "      <td>2018-12-26</td>\n",
       "    </tr>\n",
       "  </tbody>\n",
       "</table>\n",
       "</div>"
      ],
      "text/plain": [
       "         id  user_id message_date\n",
       "0  1000_125     1000   2018-12-27\n",
       "1  1000_160     1000   2018-12-31\n",
       "2  1000_223     1000   2018-12-31\n",
       "3  1000_251     1000   2018-12-27\n",
       "4  1000_255     1000   2018-12-26"
      ]
     },
     "execution_count": 5,
     "metadata": {},
     "output_type": "execute_result"
    }
   ],
   "source": [
    "df_messages.head()"
   ]
  },
  {
   "cell_type": "code",
   "execution_count": 6,
   "metadata": {},
   "outputs": [
    {
     "data": {
      "text/html": [
       "<div>\n",
       "<style scoped>\n",
       "    .dataframe tbody tr th:only-of-type {\n",
       "        vertical-align: middle;\n",
       "    }\n",
       "\n",
       "    .dataframe tbody tr th {\n",
       "        vertical-align: top;\n",
       "    }\n",
       "\n",
       "    .dataframe thead th {\n",
       "        text-align: right;\n",
       "    }\n",
       "</style>\n",
       "<table border=\"1\" class=\"dataframe\">\n",
       "  <thead>\n",
       "    <tr style=\"text-align: right;\">\n",
       "      <th></th>\n",
       "      <th>messages_included</th>\n",
       "      <th>mb_per_month_included</th>\n",
       "      <th>minutes_included</th>\n",
       "      <th>usd_monthly_pay</th>\n",
       "      <th>usd_per_gb</th>\n",
       "      <th>usd_per_message</th>\n",
       "      <th>usd_per_minute</th>\n",
       "      <th>plan_name</th>\n",
       "    </tr>\n",
       "  </thead>\n",
       "  <tbody>\n",
       "    <tr>\n",
       "      <td>0</td>\n",
       "      <td>50</td>\n",
       "      <td>15360</td>\n",
       "      <td>500</td>\n",
       "      <td>20</td>\n",
       "      <td>10</td>\n",
       "      <td>0.03</td>\n",
       "      <td>0.03</td>\n",
       "      <td>surf</td>\n",
       "    </tr>\n",
       "    <tr>\n",
       "      <td>1</td>\n",
       "      <td>1000</td>\n",
       "      <td>30720</td>\n",
       "      <td>3000</td>\n",
       "      <td>70</td>\n",
       "      <td>7</td>\n",
       "      <td>0.01</td>\n",
       "      <td>0.01</td>\n",
       "      <td>ultimate</td>\n",
       "    </tr>\n",
       "  </tbody>\n",
       "</table>\n",
       "</div>"
      ],
      "text/plain": [
       "   messages_included  mb_per_month_included  minutes_included  \\\n",
       "0                 50                  15360               500   \n",
       "1               1000                  30720              3000   \n",
       "\n",
       "   usd_monthly_pay  usd_per_gb  usd_per_message  usd_per_minute plan_name  \n",
       "0               20          10             0.03            0.03      surf  \n",
       "1               70           7             0.01            0.01  ultimate  "
      ]
     },
     "execution_count": 6,
     "metadata": {},
     "output_type": "execute_result"
    }
   ],
   "source": [
    "df_plans.head()"
   ]
  },
  {
   "cell_type": "code",
   "execution_count": 7,
   "metadata": {},
   "outputs": [
    {
     "data": {
      "text/html": [
       "<div>\n",
       "<style scoped>\n",
       "    .dataframe tbody tr th:only-of-type {\n",
       "        vertical-align: middle;\n",
       "    }\n",
       "\n",
       "    .dataframe tbody tr th {\n",
       "        vertical-align: top;\n",
       "    }\n",
       "\n",
       "    .dataframe thead th {\n",
       "        text-align: right;\n",
       "    }\n",
       "</style>\n",
       "<table border=\"1\" class=\"dataframe\">\n",
       "  <thead>\n",
       "    <tr style=\"text-align: right;\">\n",
       "      <th></th>\n",
       "      <th>user_id</th>\n",
       "      <th>first_name</th>\n",
       "      <th>last_name</th>\n",
       "      <th>age</th>\n",
       "      <th>city</th>\n",
       "      <th>reg_date</th>\n",
       "      <th>plan</th>\n",
       "      <th>churn_date</th>\n",
       "    </tr>\n",
       "  </thead>\n",
       "  <tbody>\n",
       "    <tr>\n",
       "      <td>0</td>\n",
       "      <td>1000</td>\n",
       "      <td>Anamaria</td>\n",
       "      <td>Bauer</td>\n",
       "      <td>45</td>\n",
       "      <td>Atlanta-Sandy Springs-Roswell, GA MSA</td>\n",
       "      <td>2018-12-24</td>\n",
       "      <td>ultimate</td>\n",
       "      <td>NaN</td>\n",
       "    </tr>\n",
       "    <tr>\n",
       "      <td>1</td>\n",
       "      <td>1001</td>\n",
       "      <td>Mickey</td>\n",
       "      <td>Wilkerson</td>\n",
       "      <td>28</td>\n",
       "      <td>Seattle-Tacoma-Bellevue, WA MSA</td>\n",
       "      <td>2018-08-13</td>\n",
       "      <td>surf</td>\n",
       "      <td>NaN</td>\n",
       "    </tr>\n",
       "    <tr>\n",
       "      <td>2</td>\n",
       "      <td>1002</td>\n",
       "      <td>Carlee</td>\n",
       "      <td>Hoffman</td>\n",
       "      <td>36</td>\n",
       "      <td>Las Vegas-Henderson-Paradise, NV MSA</td>\n",
       "      <td>2018-10-21</td>\n",
       "      <td>surf</td>\n",
       "      <td>NaN</td>\n",
       "    </tr>\n",
       "    <tr>\n",
       "      <td>3</td>\n",
       "      <td>1003</td>\n",
       "      <td>Reynaldo</td>\n",
       "      <td>Jenkins</td>\n",
       "      <td>52</td>\n",
       "      <td>Tulsa, OK MSA</td>\n",
       "      <td>2018-01-28</td>\n",
       "      <td>surf</td>\n",
       "      <td>NaN</td>\n",
       "    </tr>\n",
       "    <tr>\n",
       "      <td>4</td>\n",
       "      <td>1004</td>\n",
       "      <td>Leonila</td>\n",
       "      <td>Thompson</td>\n",
       "      <td>40</td>\n",
       "      <td>Seattle-Tacoma-Bellevue, WA MSA</td>\n",
       "      <td>2018-05-23</td>\n",
       "      <td>surf</td>\n",
       "      <td>NaN</td>\n",
       "    </tr>\n",
       "  </tbody>\n",
       "</table>\n",
       "</div>"
      ],
      "text/plain": [
       "   user_id first_name  last_name  age                                   city  \\\n",
       "0     1000   Anamaria      Bauer   45  Atlanta-Sandy Springs-Roswell, GA MSA   \n",
       "1     1001     Mickey  Wilkerson   28        Seattle-Tacoma-Bellevue, WA MSA   \n",
       "2     1002     Carlee    Hoffman   36   Las Vegas-Henderson-Paradise, NV MSA   \n",
       "3     1003   Reynaldo    Jenkins   52                          Tulsa, OK MSA   \n",
       "4     1004    Leonila   Thompson   40        Seattle-Tacoma-Bellevue, WA MSA   \n",
       "\n",
       "     reg_date      plan churn_date  \n",
       "0  2018-12-24  ultimate        NaN  \n",
       "1  2018-08-13      surf        NaN  \n",
       "2  2018-10-21      surf        NaN  \n",
       "3  2018-01-28      surf        NaN  \n",
       "4  2018-05-23      surf        NaN  "
      ]
     },
     "execution_count": 7,
     "metadata": {},
     "output_type": "execute_result"
    }
   ],
   "source": [
    "df_users.head()"
   ]
  },
  {
   "cell_type": "markdown",
   "metadata": {},
   "source": [
    "### df_calls"
   ]
  },
  {
   "cell_type": "code",
   "execution_count": 8,
   "metadata": {},
   "outputs": [
    {
     "data": {
      "text/html": [
       "<div>\n",
       "<style scoped>\n",
       "    .dataframe tbody tr th:only-of-type {\n",
       "        vertical-align: middle;\n",
       "    }\n",
       "\n",
       "    .dataframe tbody tr th {\n",
       "        vertical-align: top;\n",
       "    }\n",
       "\n",
       "    .dataframe thead th {\n",
       "        text-align: right;\n",
       "    }\n",
       "</style>\n",
       "<table border=\"1\" class=\"dataframe\">\n",
       "  <thead>\n",
       "    <tr style=\"text-align: right;\">\n",
       "      <th></th>\n",
       "      <th>id</th>\n",
       "      <th>user_id</th>\n",
       "      <th>call_date</th>\n",
       "      <th>duration</th>\n",
       "    </tr>\n",
       "  </thead>\n",
       "  <tbody>\n",
       "    <tr>\n",
       "      <td>0</td>\n",
       "      <td>1000_93</td>\n",
       "      <td>1000</td>\n",
       "      <td>2018-12-27</td>\n",
       "      <td>8.52</td>\n",
       "    </tr>\n",
       "    <tr>\n",
       "      <td>1</td>\n",
       "      <td>1000_145</td>\n",
       "      <td>1000</td>\n",
       "      <td>2018-12-27</td>\n",
       "      <td>13.66</td>\n",
       "    </tr>\n",
       "    <tr>\n",
       "      <td>2</td>\n",
       "      <td>1000_247</td>\n",
       "      <td>1000</td>\n",
       "      <td>2018-12-27</td>\n",
       "      <td>14.48</td>\n",
       "    </tr>\n",
       "    <tr>\n",
       "      <td>3</td>\n",
       "      <td>1000_309</td>\n",
       "      <td>1000</td>\n",
       "      <td>2018-12-28</td>\n",
       "      <td>5.76</td>\n",
       "    </tr>\n",
       "    <tr>\n",
       "      <td>4</td>\n",
       "      <td>1000_380</td>\n",
       "      <td>1000</td>\n",
       "      <td>2018-12-30</td>\n",
       "      <td>4.22</td>\n",
       "    </tr>\n",
       "  </tbody>\n",
       "</table>\n",
       "</div>"
      ],
      "text/plain": [
       "         id  user_id   call_date  duration\n",
       "0   1000_93     1000  2018-12-27      8.52\n",
       "1  1000_145     1000  2018-12-27     13.66\n",
       "2  1000_247     1000  2018-12-27     14.48\n",
       "3  1000_309     1000  2018-12-28      5.76\n",
       "4  1000_380     1000  2018-12-30      4.22"
      ]
     },
     "execution_count": 8,
     "metadata": {},
     "output_type": "execute_result"
    }
   ],
   "source": [
    "df_calls.head()"
   ]
  },
  {
   "cell_type": "markdown",
   "metadata": {},
   "source": [
    "We have calls with a duration of 0, which means that this is a call which the other user didn't receive. I won't do anything with it since it has no effect on the total duration of calls."
   ]
  },
  {
   "cell_type": "code",
   "execution_count": 9,
   "metadata": {},
   "outputs": [
    {
     "name": "stdout",
     "output_type": "stream",
     "text": [
      "The number of empty calls (duration of call is 0):  26834\n"
     ]
    }
   ],
   "source": [
    "empty_calls_num=df_calls.query('duration==0')['duration'].count()\n",
    "print('The number of empty calls (duration of call is 0): ',empty_calls_num)"
   ]
  },
  {
   "cell_type": "markdown",
   "metadata": {},
   "source": [
    "Megaline rounds up the call's duration, so I'm adding a column for the rounded duration"
   ]
  },
  {
   "cell_type": "code",
   "execution_count": 10,
   "metadata": {},
   "outputs": [],
   "source": [
    "df_calls['rounded_duration']=np.ceil(df_calls['duration'])"
   ]
  },
  {
   "cell_type": "markdown",
   "metadata": {},
   "source": [
    "I'm creating a month column for grouping by month later, for that I'm changing the format of the column of the date from object to date."
   ]
  },
  {
   "cell_type": "code",
   "execution_count": 11,
   "metadata": {},
   "outputs": [
    {
     "data": {
      "text/html": [
       "<div>\n",
       "<style scoped>\n",
       "    .dataframe tbody tr th:only-of-type {\n",
       "        vertical-align: middle;\n",
       "    }\n",
       "\n",
       "    .dataframe tbody tr th {\n",
       "        vertical-align: top;\n",
       "    }\n",
       "\n",
       "    .dataframe thead th {\n",
       "        text-align: right;\n",
       "    }\n",
       "</style>\n",
       "<table border=\"1\" class=\"dataframe\">\n",
       "  <thead>\n",
       "    <tr style=\"text-align: right;\">\n",
       "      <th></th>\n",
       "      <th>id</th>\n",
       "      <th>user_id</th>\n",
       "      <th>call_date</th>\n",
       "      <th>duration</th>\n",
       "      <th>rounded_duration</th>\n",
       "      <th>month</th>\n",
       "    </tr>\n",
       "  </thead>\n",
       "  <tbody>\n",
       "    <tr>\n",
       "      <td>0</td>\n",
       "      <td>1000_93</td>\n",
       "      <td>1000</td>\n",
       "      <td>2018-12-27</td>\n",
       "      <td>8.52</td>\n",
       "      <td>9.0</td>\n",
       "      <td>12</td>\n",
       "    </tr>\n",
       "    <tr>\n",
       "      <td>1</td>\n",
       "      <td>1000_145</td>\n",
       "      <td>1000</td>\n",
       "      <td>2018-12-27</td>\n",
       "      <td>13.66</td>\n",
       "      <td>14.0</td>\n",
       "      <td>12</td>\n",
       "    </tr>\n",
       "    <tr>\n",
       "      <td>2</td>\n",
       "      <td>1000_247</td>\n",
       "      <td>1000</td>\n",
       "      <td>2018-12-27</td>\n",
       "      <td>14.48</td>\n",
       "      <td>15.0</td>\n",
       "      <td>12</td>\n",
       "    </tr>\n",
       "    <tr>\n",
       "      <td>3</td>\n",
       "      <td>1000_309</td>\n",
       "      <td>1000</td>\n",
       "      <td>2018-12-28</td>\n",
       "      <td>5.76</td>\n",
       "      <td>6.0</td>\n",
       "      <td>12</td>\n",
       "    </tr>\n",
       "    <tr>\n",
       "      <td>4</td>\n",
       "      <td>1000_380</td>\n",
       "      <td>1000</td>\n",
       "      <td>2018-12-30</td>\n",
       "      <td>4.22</td>\n",
       "      <td>5.0</td>\n",
       "      <td>12</td>\n",
       "    </tr>\n",
       "  </tbody>\n",
       "</table>\n",
       "</div>"
      ],
      "text/plain": [
       "         id  user_id  call_date  duration  rounded_duration  month\n",
       "0   1000_93     1000 2018-12-27      8.52               9.0     12\n",
       "1  1000_145     1000 2018-12-27     13.66              14.0     12\n",
       "2  1000_247     1000 2018-12-27     14.48              15.0     12\n",
       "3  1000_309     1000 2018-12-28      5.76               6.0     12\n",
       "4  1000_380     1000 2018-12-30      4.22               5.0     12"
      ]
     },
     "execution_count": 11,
     "metadata": {},
     "output_type": "execute_result"
    }
   ],
   "source": [
    "df_calls['call_date']=pd.to_datetime(df_calls['call_date'], format='%Y-%m-%d')\n",
    "df_calls['month']=df_calls['call_date'].dt.month\n",
    "df_calls.head()"
   ]
  },
  {
   "cell_type": "markdown",
   "metadata": {},
   "source": [
    "### df_users"
   ]
  },
  {
   "cell_type": "code",
   "execution_count": 12,
   "metadata": {},
   "outputs": [
    {
     "data": {
      "text/html": [
       "<div>\n",
       "<style scoped>\n",
       "    .dataframe tbody tr th:only-of-type {\n",
       "        vertical-align: middle;\n",
       "    }\n",
       "\n",
       "    .dataframe tbody tr th {\n",
       "        vertical-align: top;\n",
       "    }\n",
       "\n",
       "    .dataframe thead th {\n",
       "        text-align: right;\n",
       "    }\n",
       "</style>\n",
       "<table border=\"1\" class=\"dataframe\">\n",
       "  <thead>\n",
       "    <tr style=\"text-align: right;\">\n",
       "      <th></th>\n",
       "      <th>user_id</th>\n",
       "      <th>first_name</th>\n",
       "      <th>last_name</th>\n",
       "      <th>age</th>\n",
       "      <th>city</th>\n",
       "      <th>reg_date</th>\n",
       "      <th>plan</th>\n",
       "      <th>churn_date</th>\n",
       "    </tr>\n",
       "  </thead>\n",
       "  <tbody>\n",
       "    <tr>\n",
       "      <td>0</td>\n",
       "      <td>1000</td>\n",
       "      <td>Anamaria</td>\n",
       "      <td>Bauer</td>\n",
       "      <td>45</td>\n",
       "      <td>Atlanta-Sandy Springs-Roswell, GA MSA</td>\n",
       "      <td>2018-12-24</td>\n",
       "      <td>ultimate</td>\n",
       "      <td>NaN</td>\n",
       "    </tr>\n",
       "    <tr>\n",
       "      <td>1</td>\n",
       "      <td>1001</td>\n",
       "      <td>Mickey</td>\n",
       "      <td>Wilkerson</td>\n",
       "      <td>28</td>\n",
       "      <td>Seattle-Tacoma-Bellevue, WA MSA</td>\n",
       "      <td>2018-08-13</td>\n",
       "      <td>surf</td>\n",
       "      <td>NaN</td>\n",
       "    </tr>\n",
       "    <tr>\n",
       "      <td>2</td>\n",
       "      <td>1002</td>\n",
       "      <td>Carlee</td>\n",
       "      <td>Hoffman</td>\n",
       "      <td>36</td>\n",
       "      <td>Las Vegas-Henderson-Paradise, NV MSA</td>\n",
       "      <td>2018-10-21</td>\n",
       "      <td>surf</td>\n",
       "      <td>NaN</td>\n",
       "    </tr>\n",
       "    <tr>\n",
       "      <td>3</td>\n",
       "      <td>1003</td>\n",
       "      <td>Reynaldo</td>\n",
       "      <td>Jenkins</td>\n",
       "      <td>52</td>\n",
       "      <td>Tulsa, OK MSA</td>\n",
       "      <td>2018-01-28</td>\n",
       "      <td>surf</td>\n",
       "      <td>NaN</td>\n",
       "    </tr>\n",
       "    <tr>\n",
       "      <td>4</td>\n",
       "      <td>1004</td>\n",
       "      <td>Leonila</td>\n",
       "      <td>Thompson</td>\n",
       "      <td>40</td>\n",
       "      <td>Seattle-Tacoma-Bellevue, WA MSA</td>\n",
       "      <td>2018-05-23</td>\n",
       "      <td>surf</td>\n",
       "      <td>NaN</td>\n",
       "    </tr>\n",
       "  </tbody>\n",
       "</table>\n",
       "</div>"
      ],
      "text/plain": [
       "   user_id first_name  last_name  age                                   city  \\\n",
       "0     1000   Anamaria      Bauer   45  Atlanta-Sandy Springs-Roswell, GA MSA   \n",
       "1     1001     Mickey  Wilkerson   28        Seattle-Tacoma-Bellevue, WA MSA   \n",
       "2     1002     Carlee    Hoffman   36   Las Vegas-Henderson-Paradise, NV MSA   \n",
       "3     1003   Reynaldo    Jenkins   52                          Tulsa, OK MSA   \n",
       "4     1004    Leonila   Thompson   40        Seattle-Tacoma-Bellevue, WA MSA   \n",
       "\n",
       "     reg_date      plan churn_date  \n",
       "0  2018-12-24  ultimate        NaN  \n",
       "1  2018-08-13      surf        NaN  \n",
       "2  2018-10-21      surf        NaN  \n",
       "3  2018-01-28      surf        NaN  \n",
       "4  2018-05-23      surf        NaN  "
      ]
     },
     "execution_count": 12,
     "metadata": {},
     "output_type": "execute_result"
    }
   ],
   "source": [
    "df_users.head()"
   ]
  },
  {
   "cell_type": "code",
   "execution_count": 13,
   "metadata": {},
   "outputs": [
    {
     "name": "stdout",
     "output_type": "stream",
     "text": [
      "The percent of users that left the company: 6.80%\n"
     ]
    }
   ],
   "source": [
    "active_user=df_users.query('churn_date.isnull()')['churn_date'].count()\n",
    "lost_user=df_users.query('churn_date.notnull()')['churn_date'].count()\n",
    "num_of_users=len(df_users)\n",
    "pct_lost_users=lost_user/num_of_users\n",
    "print('The percent of users that left the company: {:.2%}'.format(pct_lost_users))"
   ]
  },
  {
   "cell_type": "markdown",
   "metadata": {},
   "source": [
    "Because the data for users that left the company is not full and my effect the rest of the data, and the percent of it is very small, I'll drop those users."
   ]
  },
  {
   "cell_type": "code",
   "execution_count": 14,
   "metadata": {},
   "outputs": [],
   "source": [
    "df_users=df_users.query('churn_date.isnull()')"
   ]
  },
  {
   "cell_type": "markdown",
   "metadata": {},
   "source": [
    "### df_internet"
   ]
  },
  {
   "cell_type": "markdown",
   "metadata": {},
   "source": [
    "We have internet sessions for which usage is 0. It's probably a session that the user connected to the system, but didn't make any use of it. those lines do not affect the total outcome."
   ]
  },
  {
   "cell_type": "code",
   "execution_count": 15,
   "metadata": {
    "scrolled": false
   },
   "outputs": [
    {
     "name": "stdout",
     "output_type": "stream",
     "text": [
      "The number of empty internet sessions (data usage is 0):  13747\n"
     ]
    }
   ],
   "source": [
    "empty_net_sessions_num=df_internet.query('mb_used==0')['mb_used'].count()\n",
    "print('The number of empty internet sessions (data usage is 0): ',empty_net_sessions_num)"
   ]
  },
  {
   "cell_type": "markdown",
   "metadata": {},
   "source": [
    "I'm creating a month column for grouping by month later, for that I'm changing the format of the column of the date from object to date."
   ]
  },
  {
   "cell_type": "code",
   "execution_count": 16,
   "metadata": {},
   "outputs": [
    {
     "data": {
      "text/html": [
       "<div>\n",
       "<style scoped>\n",
       "    .dataframe tbody tr th:only-of-type {\n",
       "        vertical-align: middle;\n",
       "    }\n",
       "\n",
       "    .dataframe tbody tr th {\n",
       "        vertical-align: top;\n",
       "    }\n",
       "\n",
       "    .dataframe thead th {\n",
       "        text-align: right;\n",
       "    }\n",
       "</style>\n",
       "<table border=\"1\" class=\"dataframe\">\n",
       "  <thead>\n",
       "    <tr style=\"text-align: right;\">\n",
       "      <th></th>\n",
       "      <th>id</th>\n",
       "      <th>user_id</th>\n",
       "      <th>session_date</th>\n",
       "      <th>mb_used</th>\n",
       "      <th>month</th>\n",
       "    </tr>\n",
       "  </thead>\n",
       "  <tbody>\n",
       "    <tr>\n",
       "      <td>0</td>\n",
       "      <td>1000_13</td>\n",
       "      <td>1000</td>\n",
       "      <td>2018-12-29</td>\n",
       "      <td>89.86</td>\n",
       "      <td>12</td>\n",
       "    </tr>\n",
       "    <tr>\n",
       "      <td>1</td>\n",
       "      <td>1000_204</td>\n",
       "      <td>1000</td>\n",
       "      <td>2018-12-31</td>\n",
       "      <td>0.00</td>\n",
       "      <td>12</td>\n",
       "    </tr>\n",
       "    <tr>\n",
       "      <td>2</td>\n",
       "      <td>1000_379</td>\n",
       "      <td>1000</td>\n",
       "      <td>2018-12-28</td>\n",
       "      <td>660.40</td>\n",
       "      <td>12</td>\n",
       "    </tr>\n",
       "    <tr>\n",
       "      <td>3</td>\n",
       "      <td>1000_413</td>\n",
       "      <td>1000</td>\n",
       "      <td>2018-12-26</td>\n",
       "      <td>270.99</td>\n",
       "      <td>12</td>\n",
       "    </tr>\n",
       "    <tr>\n",
       "      <td>4</td>\n",
       "      <td>1000_442</td>\n",
       "      <td>1000</td>\n",
       "      <td>2018-12-27</td>\n",
       "      <td>880.22</td>\n",
       "      <td>12</td>\n",
       "    </tr>\n",
       "  </tbody>\n",
       "</table>\n",
       "</div>"
      ],
      "text/plain": [
       "         id  user_id session_date  mb_used  month\n",
       "0   1000_13     1000   2018-12-29    89.86     12\n",
       "1  1000_204     1000   2018-12-31     0.00     12\n",
       "2  1000_379     1000   2018-12-28   660.40     12\n",
       "3  1000_413     1000   2018-12-26   270.99     12\n",
       "4  1000_442     1000   2018-12-27   880.22     12"
      ]
     },
     "execution_count": 16,
     "metadata": {},
     "output_type": "execute_result"
    }
   ],
   "source": [
    "df_internet['session_date']=pd.to_datetime(df_internet['session_date'], format='%Y-%m-%d')\n",
    "df_internet['month']=df_internet['session_date'].dt.month\n",
    "df_internet.head()"
   ]
  },
  {
   "cell_type": "markdown",
   "metadata": {},
   "source": [
    "### df_messages"
   ]
  },
  {
   "cell_type": "markdown",
   "metadata": {},
   "source": [
    "I'm creating a month column for grouping by month later, for that I'm changing the format of the column of the date from object to date."
   ]
  },
  {
   "cell_type": "code",
   "execution_count": 17,
   "metadata": {},
   "outputs": [
    {
     "data": {
      "text/html": [
       "<div>\n",
       "<style scoped>\n",
       "    .dataframe tbody tr th:only-of-type {\n",
       "        vertical-align: middle;\n",
       "    }\n",
       "\n",
       "    .dataframe tbody tr th {\n",
       "        vertical-align: top;\n",
       "    }\n",
       "\n",
       "    .dataframe thead th {\n",
       "        text-align: right;\n",
       "    }\n",
       "</style>\n",
       "<table border=\"1\" class=\"dataframe\">\n",
       "  <thead>\n",
       "    <tr style=\"text-align: right;\">\n",
       "      <th></th>\n",
       "      <th>id</th>\n",
       "      <th>user_id</th>\n",
       "      <th>message_date</th>\n",
       "      <th>month</th>\n",
       "    </tr>\n",
       "  </thead>\n",
       "  <tbody>\n",
       "    <tr>\n",
       "      <td>0</td>\n",
       "      <td>1000_125</td>\n",
       "      <td>1000</td>\n",
       "      <td>2018-12-27</td>\n",
       "      <td>12</td>\n",
       "    </tr>\n",
       "    <tr>\n",
       "      <td>1</td>\n",
       "      <td>1000_160</td>\n",
       "      <td>1000</td>\n",
       "      <td>2018-12-31</td>\n",
       "      <td>12</td>\n",
       "    </tr>\n",
       "    <tr>\n",
       "      <td>2</td>\n",
       "      <td>1000_223</td>\n",
       "      <td>1000</td>\n",
       "      <td>2018-12-31</td>\n",
       "      <td>12</td>\n",
       "    </tr>\n",
       "    <tr>\n",
       "      <td>3</td>\n",
       "      <td>1000_251</td>\n",
       "      <td>1000</td>\n",
       "      <td>2018-12-27</td>\n",
       "      <td>12</td>\n",
       "    </tr>\n",
       "    <tr>\n",
       "      <td>4</td>\n",
       "      <td>1000_255</td>\n",
       "      <td>1000</td>\n",
       "      <td>2018-12-26</td>\n",
       "      <td>12</td>\n",
       "    </tr>\n",
       "  </tbody>\n",
       "</table>\n",
       "</div>"
      ],
      "text/plain": [
       "         id  user_id message_date  month\n",
       "0  1000_125     1000   2018-12-27     12\n",
       "1  1000_160     1000   2018-12-31     12\n",
       "2  1000_223     1000   2018-12-31     12\n",
       "3  1000_251     1000   2018-12-27     12\n",
       "4  1000_255     1000   2018-12-26     12"
      ]
     },
     "execution_count": 17,
     "metadata": {},
     "output_type": "execute_result"
    }
   ],
   "source": [
    "df_messages['message_date']=pd.to_datetime(df_messages['message_date'], format='%Y-%m-%d')\n",
    "df_messages['month']=df_messages['message_date'].dt.month\n",
    "df_messages.head()"
   ]
  },
  {
   "cell_type": "markdown",
   "metadata": {},
   "source": [
    "### Monthly Sum-ups"
   ]
  },
  {
   "cell_type": "markdown",
   "metadata": {},
   "source": [
    "Calculate the next monthly sum-ups\n",
    "<ul>\n",
    "    <li>The number of calls made and minutes used per month</li>\n",
    "    <li>The number of text messages sent per month</li>\n",
    "    <li>The volume of data per month</li>\n",
    "    <li>The monthly revenue from each user (subtract the free package limit from the total number of calls, text messages, and data; multiply the result by the calling plan value; add the monthly charge depending on the calling plan)</li>\n",
    "</ul>\n",
    "<br>\n",
    "For my calculations, I'm adding the plan column from the users dataset."
   ]
  },
  {
   "cell_type": "code",
   "execution_count": 18,
   "metadata": {},
   "outputs": [
    {
     "data": {
      "text/html": [
       "<div>\n",
       "<style scoped>\n",
       "    .dataframe tbody tr th:only-of-type {\n",
       "        vertical-align: middle;\n",
       "    }\n",
       "\n",
       "    .dataframe tbody tr th {\n",
       "        vertical-align: top;\n",
       "    }\n",
       "\n",
       "    .dataframe thead th {\n",
       "        text-align: right;\n",
       "    }\n",
       "</style>\n",
       "<table border=\"1\" class=\"dataframe\">\n",
       "  <thead>\n",
       "    <tr style=\"text-align: right;\">\n",
       "      <th></th>\n",
       "      <th>id</th>\n",
       "      <th>user_id</th>\n",
       "      <th>call_date</th>\n",
       "      <th>duration</th>\n",
       "      <th>rounded_duration</th>\n",
       "      <th>month</th>\n",
       "      <th>first_name</th>\n",
       "      <th>last_name</th>\n",
       "      <th>age</th>\n",
       "      <th>city</th>\n",
       "      <th>reg_date</th>\n",
       "      <th>plan</th>\n",
       "      <th>churn_date</th>\n",
       "    </tr>\n",
       "  </thead>\n",
       "  <tbody>\n",
       "    <tr>\n",
       "      <td>0</td>\n",
       "      <td>1000_93</td>\n",
       "      <td>1000</td>\n",
       "      <td>2018-12-27</td>\n",
       "      <td>8.52</td>\n",
       "      <td>9.0</td>\n",
       "      <td>12</td>\n",
       "      <td>Anamaria</td>\n",
       "      <td>Bauer</td>\n",
       "      <td>45.0</td>\n",
       "      <td>Atlanta-Sandy Springs-Roswell, GA MSA</td>\n",
       "      <td>2018-12-24</td>\n",
       "      <td>ultimate</td>\n",
       "      <td>NaN</td>\n",
       "    </tr>\n",
       "    <tr>\n",
       "      <td>1</td>\n",
       "      <td>1000_145</td>\n",
       "      <td>1000</td>\n",
       "      <td>2018-12-27</td>\n",
       "      <td>13.66</td>\n",
       "      <td>14.0</td>\n",
       "      <td>12</td>\n",
       "      <td>Anamaria</td>\n",
       "      <td>Bauer</td>\n",
       "      <td>45.0</td>\n",
       "      <td>Atlanta-Sandy Springs-Roswell, GA MSA</td>\n",
       "      <td>2018-12-24</td>\n",
       "      <td>ultimate</td>\n",
       "      <td>NaN</td>\n",
       "    </tr>\n",
       "  </tbody>\n",
       "</table>\n",
       "</div>"
      ],
      "text/plain": [
       "         id  user_id  call_date  duration  rounded_duration  month first_name  \\\n",
       "0   1000_93     1000 2018-12-27      8.52               9.0     12   Anamaria   \n",
       "1  1000_145     1000 2018-12-27     13.66              14.0     12   Anamaria   \n",
       "\n",
       "  last_name   age                                   city    reg_date  \\\n",
       "0     Bauer  45.0  Atlanta-Sandy Springs-Roswell, GA MSA  2018-12-24   \n",
       "1     Bauer  45.0  Atlanta-Sandy Springs-Roswell, GA MSA  2018-12-24   \n",
       "\n",
       "       plan churn_date  \n",
       "0  ultimate        NaN  \n",
       "1  ultimate        NaN  "
      ]
     },
     "execution_count": 18,
     "metadata": {},
     "output_type": "execute_result"
    }
   ],
   "source": [
    "df_calls_users=df_calls.merge(df_users, on='user_id', how='left')\n",
    "df_calls_users.head(2)"
   ]
  },
  {
   "cell_type": "markdown",
   "metadata": {},
   "source": [
    "#### The number of calls made and minutes used per month"
   ]
  },
  {
   "cell_type": "code",
   "execution_count": 19,
   "metadata": {},
   "outputs": [],
   "source": [
    "df_calls_pvt=df_calls_users.pivot_table(index=['user_id','month', 'plan'], values='rounded_duration', aggfunc=['count', 'sum'])\n",
    "df_calls_pvt.columns=['calls_count', 'total_duration']"
   ]
  },
  {
   "cell_type": "code",
   "execution_count": 20,
   "metadata": {},
   "outputs": [
    {
     "data": {
      "text/html": [
       "<div>\n",
       "<style scoped>\n",
       "    .dataframe tbody tr th:only-of-type {\n",
       "        vertical-align: middle;\n",
       "    }\n",
       "\n",
       "    .dataframe tbody tr th {\n",
       "        vertical-align: top;\n",
       "    }\n",
       "\n",
       "    .dataframe thead th {\n",
       "        text-align: right;\n",
       "    }\n",
       "</style>\n",
       "<table border=\"1\" class=\"dataframe\">\n",
       "  <thead>\n",
       "    <tr style=\"text-align: right;\">\n",
       "      <th></th>\n",
       "      <th></th>\n",
       "      <th></th>\n",
       "      <th>calls_count</th>\n",
       "      <th>total_duration</th>\n",
       "    </tr>\n",
       "    <tr>\n",
       "      <th>user_id</th>\n",
       "      <th>month</th>\n",
       "      <th>plan</th>\n",
       "      <th></th>\n",
       "      <th></th>\n",
       "    </tr>\n",
       "  </thead>\n",
       "  <tbody>\n",
       "    <tr>\n",
       "      <td>1000</td>\n",
       "      <td>12</td>\n",
       "      <td>ultimate</td>\n",
       "      <td>16</td>\n",
       "      <td>124.0</td>\n",
       "    </tr>\n",
       "    <tr>\n",
       "      <td rowspan=\"4\" valign=\"top\">1001</td>\n",
       "      <td>8</td>\n",
       "      <td>surf</td>\n",
       "      <td>27</td>\n",
       "      <td>182.0</td>\n",
       "    </tr>\n",
       "    <tr>\n",
       "      <td>9</td>\n",
       "      <td>surf</td>\n",
       "      <td>49</td>\n",
       "      <td>315.0</td>\n",
       "    </tr>\n",
       "    <tr>\n",
       "      <td>10</td>\n",
       "      <td>surf</td>\n",
       "      <td>65</td>\n",
       "      <td>393.0</td>\n",
       "    </tr>\n",
       "    <tr>\n",
       "      <td>11</td>\n",
       "      <td>surf</td>\n",
       "      <td>64</td>\n",
       "      <td>426.0</td>\n",
       "    </tr>\n",
       "  </tbody>\n",
       "</table>\n",
       "</div>"
      ],
      "text/plain": [
       "                        calls_count  total_duration\n",
       "user_id month plan                                 \n",
       "1000    12    ultimate           16           124.0\n",
       "1001    8     surf               27           182.0\n",
       "        9     surf               49           315.0\n",
       "        10    surf               65           393.0\n",
       "        11    surf               64           426.0"
      ]
     },
     "execution_count": 20,
     "metadata": {},
     "output_type": "execute_result"
    }
   ],
   "source": [
    "df_calls_pvt.head()"
   ]
  },
  {
   "cell_type": "markdown",
   "metadata": {},
   "source": [
    "#### The number of text messages sent per month"
   ]
  },
  {
   "cell_type": "code",
   "execution_count": 21,
   "metadata": {},
   "outputs": [
    {
     "data": {
      "text/html": [
       "<div>\n",
       "<style scoped>\n",
       "    .dataframe tbody tr th:only-of-type {\n",
       "        vertical-align: middle;\n",
       "    }\n",
       "\n",
       "    .dataframe tbody tr th {\n",
       "        vertical-align: top;\n",
       "    }\n",
       "\n",
       "    .dataframe thead th {\n",
       "        text-align: right;\n",
       "    }\n",
       "</style>\n",
       "<table border=\"1\" class=\"dataframe\">\n",
       "  <thead>\n",
       "    <tr style=\"text-align: right;\">\n",
       "      <th></th>\n",
       "      <th>id</th>\n",
       "      <th>user_id</th>\n",
       "      <th>message_date</th>\n",
       "      <th>month</th>\n",
       "    </tr>\n",
       "  </thead>\n",
       "  <tbody>\n",
       "    <tr>\n",
       "      <td>0</td>\n",
       "      <td>1000_125</td>\n",
       "      <td>1000</td>\n",
       "      <td>2018-12-27</td>\n",
       "      <td>12</td>\n",
       "    </tr>\n",
       "    <tr>\n",
       "      <td>1</td>\n",
       "      <td>1000_160</td>\n",
       "      <td>1000</td>\n",
       "      <td>2018-12-31</td>\n",
       "      <td>12</td>\n",
       "    </tr>\n",
       "    <tr>\n",
       "      <td>2</td>\n",
       "      <td>1000_223</td>\n",
       "      <td>1000</td>\n",
       "      <td>2018-12-31</td>\n",
       "      <td>12</td>\n",
       "    </tr>\n",
       "    <tr>\n",
       "      <td>3</td>\n",
       "      <td>1000_251</td>\n",
       "      <td>1000</td>\n",
       "      <td>2018-12-27</td>\n",
       "      <td>12</td>\n",
       "    </tr>\n",
       "    <tr>\n",
       "      <td>4</td>\n",
       "      <td>1000_255</td>\n",
       "      <td>1000</td>\n",
       "      <td>2018-12-26</td>\n",
       "      <td>12</td>\n",
       "    </tr>\n",
       "  </tbody>\n",
       "</table>\n",
       "</div>"
      ],
      "text/plain": [
       "         id  user_id message_date  month\n",
       "0  1000_125     1000   2018-12-27     12\n",
       "1  1000_160     1000   2018-12-31     12\n",
       "2  1000_223     1000   2018-12-31     12\n",
       "3  1000_251     1000   2018-12-27     12\n",
       "4  1000_255     1000   2018-12-26     12"
      ]
     },
     "execution_count": 21,
     "metadata": {},
     "output_type": "execute_result"
    }
   ],
   "source": [
    "df_messages.head()"
   ]
  },
  {
   "cell_type": "code",
   "execution_count": 22,
   "metadata": {},
   "outputs": [
    {
     "data": {
      "text/html": [
       "<div>\n",
       "<style scoped>\n",
       "    .dataframe tbody tr th:only-of-type {\n",
       "        vertical-align: middle;\n",
       "    }\n",
       "\n",
       "    .dataframe tbody tr th {\n",
       "        vertical-align: top;\n",
       "    }\n",
       "\n",
       "    .dataframe thead th {\n",
       "        text-align: right;\n",
       "    }\n",
       "</style>\n",
       "<table border=\"1\" class=\"dataframe\">\n",
       "  <thead>\n",
       "    <tr style=\"text-align: right;\">\n",
       "      <th></th>\n",
       "      <th>id</th>\n",
       "      <th>user_id</th>\n",
       "      <th>message_date</th>\n",
       "      <th>month</th>\n",
       "      <th>first_name</th>\n",
       "      <th>last_name</th>\n",
       "      <th>age</th>\n",
       "      <th>city</th>\n",
       "      <th>reg_date</th>\n",
       "      <th>plan</th>\n",
       "      <th>churn_date</th>\n",
       "    </tr>\n",
       "  </thead>\n",
       "  <tbody>\n",
       "    <tr>\n",
       "      <td>0</td>\n",
       "      <td>1000_125</td>\n",
       "      <td>1000</td>\n",
       "      <td>2018-12-27</td>\n",
       "      <td>12</td>\n",
       "      <td>Anamaria</td>\n",
       "      <td>Bauer</td>\n",
       "      <td>45.0</td>\n",
       "      <td>Atlanta-Sandy Springs-Roswell, GA MSA</td>\n",
       "      <td>2018-12-24</td>\n",
       "      <td>ultimate</td>\n",
       "      <td>NaN</td>\n",
       "    </tr>\n",
       "    <tr>\n",
       "      <td>1</td>\n",
       "      <td>1000_160</td>\n",
       "      <td>1000</td>\n",
       "      <td>2018-12-31</td>\n",
       "      <td>12</td>\n",
       "      <td>Anamaria</td>\n",
       "      <td>Bauer</td>\n",
       "      <td>45.0</td>\n",
       "      <td>Atlanta-Sandy Springs-Roswell, GA MSA</td>\n",
       "      <td>2018-12-24</td>\n",
       "      <td>ultimate</td>\n",
       "      <td>NaN</td>\n",
       "    </tr>\n",
       "  </tbody>\n",
       "</table>\n",
       "</div>"
      ],
      "text/plain": [
       "         id  user_id message_date  month first_name last_name   age  \\\n",
       "0  1000_125     1000   2018-12-27     12   Anamaria     Bauer  45.0   \n",
       "1  1000_160     1000   2018-12-31     12   Anamaria     Bauer  45.0   \n",
       "\n",
       "                                    city    reg_date      plan churn_date  \n",
       "0  Atlanta-Sandy Springs-Roswell, GA MSA  2018-12-24  ultimate        NaN  \n",
       "1  Atlanta-Sandy Springs-Roswell, GA MSA  2018-12-24  ultimate        NaN  "
      ]
     },
     "execution_count": 22,
     "metadata": {},
     "output_type": "execute_result"
    }
   ],
   "source": [
    "df_messages_users=df_messages.merge(df_users, on='user_id', how='left')\n",
    "df_messages_users.head(2)"
   ]
  },
  {
   "cell_type": "code",
   "execution_count": 23,
   "metadata": {},
   "outputs": [
    {
     "data": {
      "text/html": [
       "<div>\n",
       "<style scoped>\n",
       "    .dataframe tbody tr th:only-of-type {\n",
       "        vertical-align: middle;\n",
       "    }\n",
       "\n",
       "    .dataframe tbody tr th {\n",
       "        vertical-align: top;\n",
       "    }\n",
       "\n",
       "    .dataframe thead th {\n",
       "        text-align: right;\n",
       "    }\n",
       "</style>\n",
       "<table border=\"1\" class=\"dataframe\">\n",
       "  <thead>\n",
       "    <tr style=\"text-align: right;\">\n",
       "      <th></th>\n",
       "      <th></th>\n",
       "      <th></th>\n",
       "      <th>msg_count</th>\n",
       "    </tr>\n",
       "    <tr>\n",
       "      <th>user_id</th>\n",
       "      <th>month</th>\n",
       "      <th>plan</th>\n",
       "      <th></th>\n",
       "    </tr>\n",
       "  </thead>\n",
       "  <tbody>\n",
       "    <tr>\n",
       "      <td>1000</td>\n",
       "      <td>12</td>\n",
       "      <td>ultimate</td>\n",
       "      <td>11</td>\n",
       "    </tr>\n",
       "    <tr>\n",
       "      <td rowspan=\"4\" valign=\"top\">1001</td>\n",
       "      <td>8</td>\n",
       "      <td>surf</td>\n",
       "      <td>30</td>\n",
       "    </tr>\n",
       "    <tr>\n",
       "      <td>9</td>\n",
       "      <td>surf</td>\n",
       "      <td>44</td>\n",
       "    </tr>\n",
       "    <tr>\n",
       "      <td>10</td>\n",
       "      <td>surf</td>\n",
       "      <td>53</td>\n",
       "    </tr>\n",
       "    <tr>\n",
       "      <td>11</td>\n",
       "      <td>surf</td>\n",
       "      <td>36</td>\n",
       "    </tr>\n",
       "  </tbody>\n",
       "</table>\n",
       "</div>"
      ],
      "text/plain": [
       "                        msg_count\n",
       "user_id month plan               \n",
       "1000    12    ultimate         11\n",
       "1001    8     surf             30\n",
       "        9     surf             44\n",
       "        10    surf             53\n",
       "        11    surf             36"
      ]
     },
     "execution_count": 23,
     "metadata": {},
     "output_type": "execute_result"
    }
   ],
   "source": [
    "df_messages_pvt=df_messages_users.pivot_table(index=['user_id','month','plan'], values='id', aggfunc='count')\n",
    "df_messages_pvt.columns=['msg_count']\n",
    "df_messages_pvt.head()"
   ]
  },
  {
   "cell_type": "markdown",
   "metadata": {},
   "source": [
    "#### The volume of data per month"
   ]
  },
  {
   "cell_type": "code",
   "execution_count": 24,
   "metadata": {},
   "outputs": [
    {
     "data": {
      "text/html": [
       "<div>\n",
       "<style scoped>\n",
       "    .dataframe tbody tr th:only-of-type {\n",
       "        vertical-align: middle;\n",
       "    }\n",
       "\n",
       "    .dataframe tbody tr th {\n",
       "        vertical-align: top;\n",
       "    }\n",
       "\n",
       "    .dataframe thead th {\n",
       "        text-align: right;\n",
       "    }\n",
       "</style>\n",
       "<table border=\"1\" class=\"dataframe\">\n",
       "  <thead>\n",
       "    <tr style=\"text-align: right;\">\n",
       "      <th></th>\n",
       "      <th>id</th>\n",
       "      <th>user_id</th>\n",
       "      <th>session_date</th>\n",
       "      <th>mb_used</th>\n",
       "      <th>month</th>\n",
       "    </tr>\n",
       "  </thead>\n",
       "  <tbody>\n",
       "    <tr>\n",
       "      <td>0</td>\n",
       "      <td>1000_13</td>\n",
       "      <td>1000</td>\n",
       "      <td>2018-12-29</td>\n",
       "      <td>89.86</td>\n",
       "      <td>12</td>\n",
       "    </tr>\n",
       "    <tr>\n",
       "      <td>1</td>\n",
       "      <td>1000_204</td>\n",
       "      <td>1000</td>\n",
       "      <td>2018-12-31</td>\n",
       "      <td>0.00</td>\n",
       "      <td>12</td>\n",
       "    </tr>\n",
       "    <tr>\n",
       "      <td>2</td>\n",
       "      <td>1000_379</td>\n",
       "      <td>1000</td>\n",
       "      <td>2018-12-28</td>\n",
       "      <td>660.40</td>\n",
       "      <td>12</td>\n",
       "    </tr>\n",
       "    <tr>\n",
       "      <td>3</td>\n",
       "      <td>1000_413</td>\n",
       "      <td>1000</td>\n",
       "      <td>2018-12-26</td>\n",
       "      <td>270.99</td>\n",
       "      <td>12</td>\n",
       "    </tr>\n",
       "    <tr>\n",
       "      <td>4</td>\n",
       "      <td>1000_442</td>\n",
       "      <td>1000</td>\n",
       "      <td>2018-12-27</td>\n",
       "      <td>880.22</td>\n",
       "      <td>12</td>\n",
       "    </tr>\n",
       "  </tbody>\n",
       "</table>\n",
       "</div>"
      ],
      "text/plain": [
       "         id  user_id session_date  mb_used  month\n",
       "0   1000_13     1000   2018-12-29    89.86     12\n",
       "1  1000_204     1000   2018-12-31     0.00     12\n",
       "2  1000_379     1000   2018-12-28   660.40     12\n",
       "3  1000_413     1000   2018-12-26   270.99     12\n",
       "4  1000_442     1000   2018-12-27   880.22     12"
      ]
     },
     "execution_count": 24,
     "metadata": {},
     "output_type": "execute_result"
    }
   ],
   "source": [
    "df_internet.head()"
   ]
  },
  {
   "cell_type": "code",
   "execution_count": 25,
   "metadata": {},
   "outputs": [
    {
     "data": {
      "text/html": [
       "<div>\n",
       "<style scoped>\n",
       "    .dataframe tbody tr th:only-of-type {\n",
       "        vertical-align: middle;\n",
       "    }\n",
       "\n",
       "    .dataframe tbody tr th {\n",
       "        vertical-align: top;\n",
       "    }\n",
       "\n",
       "    .dataframe thead th {\n",
       "        text-align: right;\n",
       "    }\n",
       "</style>\n",
       "<table border=\"1\" class=\"dataframe\">\n",
       "  <thead>\n",
       "    <tr style=\"text-align: right;\">\n",
       "      <th></th>\n",
       "      <th>id</th>\n",
       "      <th>user_id</th>\n",
       "      <th>session_date</th>\n",
       "      <th>mb_used</th>\n",
       "      <th>month</th>\n",
       "      <th>first_name</th>\n",
       "      <th>last_name</th>\n",
       "      <th>age</th>\n",
       "      <th>city</th>\n",
       "      <th>reg_date</th>\n",
       "      <th>plan</th>\n",
       "      <th>churn_date</th>\n",
       "    </tr>\n",
       "  </thead>\n",
       "  <tbody>\n",
       "    <tr>\n",
       "      <td>0</td>\n",
       "      <td>1000_13</td>\n",
       "      <td>1000</td>\n",
       "      <td>2018-12-29</td>\n",
       "      <td>89.86</td>\n",
       "      <td>12</td>\n",
       "      <td>Anamaria</td>\n",
       "      <td>Bauer</td>\n",
       "      <td>45.0</td>\n",
       "      <td>Atlanta-Sandy Springs-Roswell, GA MSA</td>\n",
       "      <td>2018-12-24</td>\n",
       "      <td>ultimate</td>\n",
       "      <td>NaN</td>\n",
       "    </tr>\n",
       "    <tr>\n",
       "      <td>1</td>\n",
       "      <td>1000_204</td>\n",
       "      <td>1000</td>\n",
       "      <td>2018-12-31</td>\n",
       "      <td>0.00</td>\n",
       "      <td>12</td>\n",
       "      <td>Anamaria</td>\n",
       "      <td>Bauer</td>\n",
       "      <td>45.0</td>\n",
       "      <td>Atlanta-Sandy Springs-Roswell, GA MSA</td>\n",
       "      <td>2018-12-24</td>\n",
       "      <td>ultimate</td>\n",
       "      <td>NaN</td>\n",
       "    </tr>\n",
       "  </tbody>\n",
       "</table>\n",
       "</div>"
      ],
      "text/plain": [
       "         id  user_id session_date  mb_used  month first_name last_name   age  \\\n",
       "0   1000_13     1000   2018-12-29    89.86     12   Anamaria     Bauer  45.0   \n",
       "1  1000_204     1000   2018-12-31     0.00     12   Anamaria     Bauer  45.0   \n",
       "\n",
       "                                    city    reg_date      plan churn_date  \n",
       "0  Atlanta-Sandy Springs-Roswell, GA MSA  2018-12-24  ultimate        NaN  \n",
       "1  Atlanta-Sandy Springs-Roswell, GA MSA  2018-12-24  ultimate        NaN  "
      ]
     },
     "execution_count": 25,
     "metadata": {},
     "output_type": "execute_result"
    }
   ],
   "source": [
    "df_internet_users=df_internet.merge(df_users, on='user_id', how='left')\n",
    "df_internet_users.head(2)"
   ]
  },
  {
   "cell_type": "code",
   "execution_count": 26,
   "metadata": {},
   "outputs": [
    {
     "data": {
      "text/html": [
       "<div>\n",
       "<style scoped>\n",
       "    .dataframe tbody tr th:only-of-type {\n",
       "        vertical-align: middle;\n",
       "    }\n",
       "\n",
       "    .dataframe tbody tr th {\n",
       "        vertical-align: top;\n",
       "    }\n",
       "\n",
       "    .dataframe thead th {\n",
       "        text-align: right;\n",
       "    }\n",
       "</style>\n",
       "<table border=\"1\" class=\"dataframe\">\n",
       "  <thead>\n",
       "    <tr style=\"text-align: right;\">\n",
       "      <th></th>\n",
       "      <th></th>\n",
       "      <th></th>\n",
       "      <th>mb_used</th>\n",
       "    </tr>\n",
       "    <tr>\n",
       "      <th>user_id</th>\n",
       "      <th>month</th>\n",
       "      <th>plan</th>\n",
       "      <th></th>\n",
       "    </tr>\n",
       "  </thead>\n",
       "  <tbody>\n",
       "    <tr>\n",
       "      <td>1000</td>\n",
       "      <td>12</td>\n",
       "      <td>ultimate</td>\n",
       "      <td>1901.47</td>\n",
       "    </tr>\n",
       "    <tr>\n",
       "      <td rowspan=\"4\" valign=\"top\">1001</td>\n",
       "      <td>8</td>\n",
       "      <td>surf</td>\n",
       "      <td>6919.15</td>\n",
       "    </tr>\n",
       "    <tr>\n",
       "      <td>9</td>\n",
       "      <td>surf</td>\n",
       "      <td>13314.82</td>\n",
       "    </tr>\n",
       "    <tr>\n",
       "      <td>10</td>\n",
       "      <td>surf</td>\n",
       "      <td>22330.49</td>\n",
       "    </tr>\n",
       "    <tr>\n",
       "      <td>11</td>\n",
       "      <td>surf</td>\n",
       "      <td>18504.30</td>\n",
       "    </tr>\n",
       "  </tbody>\n",
       "</table>\n",
       "</div>"
      ],
      "text/plain": [
       "                         mb_used\n",
       "user_id month plan              \n",
       "1000    12    ultimate   1901.47\n",
       "1001    8     surf       6919.15\n",
       "        9     surf      13314.82\n",
       "        10    surf      22330.49\n",
       "        11    surf      18504.30"
      ]
     },
     "execution_count": 26,
     "metadata": {},
     "output_type": "execute_result"
    }
   ],
   "source": [
    "df_internet_pvt=df_internet_users.pivot_table(index=['user_id','month','plan'], values='mb_used', aggfunc='sum')\n",
    "df_internet_pvt.head()"
   ]
  },
  {
   "cell_type": "markdown",
   "metadata": {},
   "source": [
    "Megaline rounds the monthly data usage up per gigabyte (1024 megabyte)"
   ]
  },
  {
   "cell_type": "code",
   "execution_count": 27,
   "metadata": {},
   "outputs": [
    {
     "data": {
      "text/html": [
       "<div>\n",
       "<style scoped>\n",
       "    .dataframe tbody tr th:only-of-type {\n",
       "        vertical-align: middle;\n",
       "    }\n",
       "\n",
       "    .dataframe tbody tr th {\n",
       "        vertical-align: top;\n",
       "    }\n",
       "\n",
       "    .dataframe thead th {\n",
       "        text-align: right;\n",
       "    }\n",
       "</style>\n",
       "<table border=\"1\" class=\"dataframe\">\n",
       "  <thead>\n",
       "    <tr style=\"text-align: right;\">\n",
       "      <th></th>\n",
       "      <th></th>\n",
       "      <th></th>\n",
       "      <th>mb_used</th>\n",
       "      <th>mb_used_GB</th>\n",
       "    </tr>\n",
       "    <tr>\n",
       "      <th>user_id</th>\n",
       "      <th>month</th>\n",
       "      <th>plan</th>\n",
       "      <th></th>\n",
       "      <th></th>\n",
       "    </tr>\n",
       "  </thead>\n",
       "  <tbody>\n",
       "    <tr>\n",
       "      <td>1000</td>\n",
       "      <td>12</td>\n",
       "      <td>ultimate</td>\n",
       "      <td>1901.47</td>\n",
       "      <td>2.0</td>\n",
       "    </tr>\n",
       "    <tr>\n",
       "      <td rowspan=\"4\" valign=\"top\">1001</td>\n",
       "      <td>8</td>\n",
       "      <td>surf</td>\n",
       "      <td>6919.15</td>\n",
       "      <td>7.0</td>\n",
       "    </tr>\n",
       "    <tr>\n",
       "      <td>9</td>\n",
       "      <td>surf</td>\n",
       "      <td>13314.82</td>\n",
       "      <td>14.0</td>\n",
       "    </tr>\n",
       "    <tr>\n",
       "      <td>10</td>\n",
       "      <td>surf</td>\n",
       "      <td>22330.49</td>\n",
       "      <td>22.0</td>\n",
       "    </tr>\n",
       "    <tr>\n",
       "      <td>11</td>\n",
       "      <td>surf</td>\n",
       "      <td>18504.30</td>\n",
       "      <td>19.0</td>\n",
       "    </tr>\n",
       "  </tbody>\n",
       "</table>\n",
       "</div>"
      ],
      "text/plain": [
       "                         mb_used  mb_used_GB\n",
       "user_id month plan                          \n",
       "1000    12    ultimate   1901.47         2.0\n",
       "1001    8     surf       6919.15         7.0\n",
       "        9     surf      13314.82        14.0\n",
       "        10    surf      22330.49        22.0\n",
       "        11    surf      18504.30        19.0"
      ]
     },
     "execution_count": 27,
     "metadata": {},
     "output_type": "execute_result"
    }
   ],
   "source": [
    "df_internet_pvt['mb_used_GB']=np.ceil(df_internet_pvt['mb_used']/1024)\n",
    "df_internet_pvt.head()"
   ]
  },
  {
   "cell_type": "markdown",
   "metadata": {},
   "source": [
    "#### The monthly revenue from each user"
   ]
  },
  {
   "cell_type": "markdown",
   "metadata": {},
   "source": [
    "subtract the free package limit from the total number of calls, text messages, and data; multiply the result by the calling plan value; add the monthly charge depending on the calling plan.<br>To do it, I'll calculate any extra payments the user made for any line of business (calls, internet, messages)."
   ]
  },
  {
   "cell_type": "markdown",
   "metadata": {},
   "source": [
    "##### Extra payments - calls"
   ]
  },
  {
   "cell_type": "code",
   "execution_count": 28,
   "metadata": {},
   "outputs": [
    {
     "data": {
      "text/html": [
       "<div>\n",
       "<style scoped>\n",
       "    .dataframe tbody tr th:only-of-type {\n",
       "        vertical-align: middle;\n",
       "    }\n",
       "\n",
       "    .dataframe tbody tr th {\n",
       "        vertical-align: top;\n",
       "    }\n",
       "\n",
       "    .dataframe thead th {\n",
       "        text-align: right;\n",
       "    }\n",
       "</style>\n",
       "<table border=\"1\" class=\"dataframe\">\n",
       "  <thead>\n",
       "    <tr style=\"text-align: right;\">\n",
       "      <th></th>\n",
       "      <th></th>\n",
       "      <th></th>\n",
       "      <th>calls_count</th>\n",
       "      <th>total_duration</th>\n",
       "      <th>extra_payment_calls</th>\n",
       "    </tr>\n",
       "    <tr>\n",
       "      <th>user_id</th>\n",
       "      <th>month</th>\n",
       "      <th>plan</th>\n",
       "      <th></th>\n",
       "      <th></th>\n",
       "      <th></th>\n",
       "    </tr>\n",
       "  </thead>\n",
       "  <tbody>\n",
       "    <tr>\n",
       "      <td>1003</td>\n",
       "      <td>12</td>\n",
       "      <td>surf</td>\n",
       "      <td>149</td>\n",
       "      <td>1104.0</td>\n",
       "      <td>18.12</td>\n",
       "    </tr>\n",
       "    <tr>\n",
       "      <td rowspan=\"3\" valign=\"top\">1007</td>\n",
       "      <td>10</td>\n",
       "      <td>surf</td>\n",
       "      <td>80</td>\n",
       "      <td>645.0</td>\n",
       "      <td>4.35</td>\n",
       "    </tr>\n",
       "    <tr>\n",
       "      <td>11</td>\n",
       "      <td>surf</td>\n",
       "      <td>80</td>\n",
       "      <td>524.0</td>\n",
       "      <td>0.72</td>\n",
       "    </tr>\n",
       "    <tr>\n",
       "      <td>12</td>\n",
       "      <td>surf</td>\n",
       "      <td>87</td>\n",
       "      <td>617.0</td>\n",
       "      <td>3.51</td>\n",
       "    </tr>\n",
       "    <tr>\n",
       "      <td>1009</td>\n",
       "      <td>5</td>\n",
       "      <td>surf</td>\n",
       "      <td>71</td>\n",
       "      <td>534.0</td>\n",
       "      <td>1.02</td>\n",
       "    </tr>\n",
       "  </tbody>\n",
       "</table>\n",
       "</div>"
      ],
      "text/plain": [
       "                    calls_count  total_duration  extra_payment_calls\n",
       "user_id month plan                                                  \n",
       "1003    12    surf          149          1104.0                18.12\n",
       "1007    10    surf           80           645.0                 4.35\n",
       "        11    surf           80           524.0                 0.72\n",
       "        12    surf           87           617.0                 3.51\n",
       "1009    5     surf           71           534.0                 1.02"
      ]
     },
     "execution_count": 28,
     "metadata": {},
     "output_type": "execute_result"
    }
   ],
   "source": [
    "def calc_extra_payment_calls(row):\n",
    "    plan=row.name[2]\n",
    "    duration=row['total_duration']\n",
    "    free_duration=0\n",
    "    dollar_per_minute=0\n",
    "    \n",
    "    if(plan=='surf'):\n",
    "        free_duration=500\n",
    "        dollar_per_minute=0.03\n",
    "    else:\n",
    "        free_duration=3000\n",
    "        dollar_per_minute=0.01\n",
    "        \n",
    "    if duration<=free_duration:\n",
    "        return 0\n",
    "    else:\n",
    "        return dollar_per_minute*(duration-free_duration)\n",
    "    \n",
    "\n",
    "df_calls_pvt['extra_payment_calls']=df_calls_pvt.apply(calc_extra_payment_calls, axis=1)\n",
    "df_calls_pvt.query('extra_payment_calls>0').head()"
   ]
  },
  {
   "cell_type": "markdown",
   "metadata": {},
   "source": [
    "##### Extra payments - Messages"
   ]
  },
  {
   "cell_type": "code",
   "execution_count": 29,
   "metadata": {},
   "outputs": [
    {
     "data": {
      "text/html": [
       "<div>\n",
       "<style scoped>\n",
       "    .dataframe tbody tr th:only-of-type {\n",
       "        vertical-align: middle;\n",
       "    }\n",
       "\n",
       "    .dataframe tbody tr th {\n",
       "        vertical-align: top;\n",
       "    }\n",
       "\n",
       "    .dataframe thead th {\n",
       "        text-align: right;\n",
       "    }\n",
       "</style>\n",
       "<table border=\"1\" class=\"dataframe\">\n",
       "  <thead>\n",
       "    <tr style=\"text-align: right;\">\n",
       "      <th></th>\n",
       "      <th></th>\n",
       "      <th></th>\n",
       "      <th>msg_count</th>\n",
       "    </tr>\n",
       "    <tr>\n",
       "      <th>user_id</th>\n",
       "      <th>month</th>\n",
       "      <th>plan</th>\n",
       "      <th></th>\n",
       "    </tr>\n",
       "  </thead>\n",
       "  <tbody>\n",
       "    <tr>\n",
       "      <td>1000</td>\n",
       "      <td>12</td>\n",
       "      <td>ultimate</td>\n",
       "      <td>11</td>\n",
       "    </tr>\n",
       "    <tr>\n",
       "      <td rowspan=\"4\" valign=\"top\">1001</td>\n",
       "      <td>8</td>\n",
       "      <td>surf</td>\n",
       "      <td>30</td>\n",
       "    </tr>\n",
       "    <tr>\n",
       "      <td>9</td>\n",
       "      <td>surf</td>\n",
       "      <td>44</td>\n",
       "    </tr>\n",
       "    <tr>\n",
       "      <td>10</td>\n",
       "      <td>surf</td>\n",
       "      <td>53</td>\n",
       "    </tr>\n",
       "    <tr>\n",
       "      <td>11</td>\n",
       "      <td>surf</td>\n",
       "      <td>36</td>\n",
       "    </tr>\n",
       "  </tbody>\n",
       "</table>\n",
       "</div>"
      ],
      "text/plain": [
       "                        msg_count\n",
       "user_id month plan               \n",
       "1000    12    ultimate         11\n",
       "1001    8     surf             30\n",
       "        9     surf             44\n",
       "        10    surf             53\n",
       "        11    surf             36"
      ]
     },
     "execution_count": 29,
     "metadata": {},
     "output_type": "execute_result"
    }
   ],
   "source": [
    "df_messages_pvt.head()"
   ]
  },
  {
   "cell_type": "code",
   "execution_count": 30,
   "metadata": {},
   "outputs": [
    {
     "data": {
      "text/html": [
       "<div>\n",
       "<style scoped>\n",
       "    .dataframe tbody tr th:only-of-type {\n",
       "        vertical-align: middle;\n",
       "    }\n",
       "\n",
       "    .dataframe tbody tr th {\n",
       "        vertical-align: top;\n",
       "    }\n",
       "\n",
       "    .dataframe thead th {\n",
       "        text-align: right;\n",
       "    }\n",
       "</style>\n",
       "<table border=\"1\" class=\"dataframe\">\n",
       "  <thead>\n",
       "    <tr style=\"text-align: right;\">\n",
       "      <th></th>\n",
       "      <th></th>\n",
       "      <th></th>\n",
       "      <th>msg_count</th>\n",
       "      <th>extra_payment_messages</th>\n",
       "    </tr>\n",
       "    <tr>\n",
       "      <th>user_id</th>\n",
       "      <th>month</th>\n",
       "      <th>plan</th>\n",
       "      <th></th>\n",
       "      <th></th>\n",
       "    </tr>\n",
       "  </thead>\n",
       "  <tbody>\n",
       "    <tr>\n",
       "      <td>1001</td>\n",
       "      <td>10</td>\n",
       "      <td>surf</td>\n",
       "      <td>53</td>\n",
       "      <td>0.09</td>\n",
       "    </tr>\n",
       "    <tr>\n",
       "      <td rowspan=\"2\" valign=\"top\">1007</td>\n",
       "      <td>8</td>\n",
       "      <td>surf</td>\n",
       "      <td>51</td>\n",
       "      <td>0.03</td>\n",
       "    </tr>\n",
       "    <tr>\n",
       "      <td>10</td>\n",
       "      <td>surf</td>\n",
       "      <td>59</td>\n",
       "      <td>0.27</td>\n",
       "    </tr>\n",
       "    <tr>\n",
       "      <td>1014</td>\n",
       "      <td>12</td>\n",
       "      <td>surf</td>\n",
       "      <td>64</td>\n",
       "      <td>0.42</td>\n",
       "    </tr>\n",
       "    <tr>\n",
       "      <td>1015</td>\n",
       "      <td>12</td>\n",
       "      <td>surf</td>\n",
       "      <td>68</td>\n",
       "      <td>0.54</td>\n",
       "    </tr>\n",
       "  </tbody>\n",
       "</table>\n",
       "</div>"
      ],
      "text/plain": [
       "                    msg_count  extra_payment_messages\n",
       "user_id month plan                                   \n",
       "1001    10    surf         53                    0.09\n",
       "1007    8     surf         51                    0.03\n",
       "        10    surf         59                    0.27\n",
       "1014    12    surf         64                    0.42\n",
       "1015    12    surf         68                    0.54"
      ]
     },
     "execution_count": 30,
     "metadata": {},
     "output_type": "execute_result"
    }
   ],
   "source": [
    "def calc_extra_payment_messages(row):\n",
    "    plan=row.name[2]\n",
    "    msg_count=row['msg_count']\n",
    "    free_messages=0\n",
    "    dollar_per_message=0\n",
    "    \n",
    "    if(plan=='surf'):\n",
    "        free_messages=50\n",
    "        dollar_per_message=0.03\n",
    "    else:\n",
    "        free_messages=1000\n",
    "        dollar_per_message=0.01\n",
    "        \n",
    "    if msg_count<=free_messages:\n",
    "        return 0\n",
    "    else:\n",
    "        return dollar_per_message*(msg_count-free_messages)\n",
    "    \n",
    "\n",
    "df_messages_pvt['extra_payment_messages']=df_messages_pvt.apply(calc_extra_payment_messages, axis=1)\n",
    "df_messages_pvt.query('extra_payment_messages>0').head()"
   ]
  },
  {
   "cell_type": "markdown",
   "metadata": {},
   "source": [
    "##### Extra payments - Internet"
   ]
  },
  {
   "cell_type": "code",
   "execution_count": 31,
   "metadata": {
    "scrolled": true
   },
   "outputs": [
    {
     "data": {
      "text/html": [
       "<div>\n",
       "<style scoped>\n",
       "    .dataframe tbody tr th:only-of-type {\n",
       "        vertical-align: middle;\n",
       "    }\n",
       "\n",
       "    .dataframe tbody tr th {\n",
       "        vertical-align: top;\n",
       "    }\n",
       "\n",
       "    .dataframe thead th {\n",
       "        text-align: right;\n",
       "    }\n",
       "</style>\n",
       "<table border=\"1\" class=\"dataframe\">\n",
       "  <thead>\n",
       "    <tr style=\"text-align: right;\">\n",
       "      <th></th>\n",
       "      <th></th>\n",
       "      <th></th>\n",
       "      <th>mb_used</th>\n",
       "      <th>mb_used_GB</th>\n",
       "      <th>extra_payment_internet</th>\n",
       "    </tr>\n",
       "    <tr>\n",
       "      <th>user_id</th>\n",
       "      <th>month</th>\n",
       "      <th>plan</th>\n",
       "      <th></th>\n",
       "      <th></th>\n",
       "      <th></th>\n",
       "    </tr>\n",
       "  </thead>\n",
       "  <tbody>\n",
       "    <tr>\n",
       "      <td rowspan=\"3\" valign=\"top\">1001</td>\n",
       "      <td>10</td>\n",
       "      <td>surf</td>\n",
       "      <td>22330.49</td>\n",
       "      <td>22.0</td>\n",
       "      <td>0.21</td>\n",
       "    </tr>\n",
       "    <tr>\n",
       "      <td>11</td>\n",
       "      <td>surf</td>\n",
       "      <td>18504.30</td>\n",
       "      <td>19.0</td>\n",
       "      <td>0.12</td>\n",
       "    </tr>\n",
       "    <tr>\n",
       "      <td>12</td>\n",
       "      <td>surf</td>\n",
       "      <td>19369.18</td>\n",
       "      <td>19.0</td>\n",
       "      <td>0.12</td>\n",
       "    </tr>\n",
       "    <tr>\n",
       "      <td>1002</td>\n",
       "      <td>11</td>\n",
       "      <td>surf</td>\n",
       "      <td>19345.08</td>\n",
       "      <td>19.0</td>\n",
       "      <td>0.12</td>\n",
       "    </tr>\n",
       "    <tr>\n",
       "      <td>1003</td>\n",
       "      <td>12</td>\n",
       "      <td>surf</td>\n",
       "      <td>27044.14</td>\n",
       "      <td>27.0</td>\n",
       "      <td>0.36</td>\n",
       "    </tr>\n",
       "  </tbody>\n",
       "</table>\n",
       "</div>"
      ],
      "text/plain": [
       "                     mb_used  mb_used_GB  extra_payment_internet\n",
       "user_id month plan                                              \n",
       "1001    10    surf  22330.49        22.0                    0.21\n",
       "        11    surf  18504.30        19.0                    0.12\n",
       "        12    surf  19369.18        19.0                    0.12\n",
       "1002    11    surf  19345.08        19.0                    0.12\n",
       "1003    12    surf  27044.14        27.0                    0.36"
      ]
     },
     "execution_count": 31,
     "metadata": {},
     "output_type": "execute_result"
    }
   ],
   "source": [
    "def calc_extra_payment_internet(row):\n",
    "    plan=row.name[2]\n",
    "    data=row['mb_used_GB']\n",
    "    free_data=0\n",
    "    dollar_per_gb=0\n",
    "    \n",
    "    if(plan=='surf'):\n",
    "        free_data=15\n",
    "        dollar_per_gb=0.03\n",
    "    else:\n",
    "        free_data=30\n",
    "        dollar_per_gb=0.01\n",
    "        \n",
    "    if data<=free_data:\n",
    "        return 0\n",
    "    else:\n",
    "        return dollar_per_gb*(data-free_data)\n",
    "    \n",
    "\n",
    "df_internet_pvt['extra_payment_internet']=df_internet_pvt.apply(calc_extra_payment_internet, axis=1)\n",
    "df_internet_pvt.query('extra_payment_internet>0').head()"
   ]
  },
  {
   "cell_type": "markdown",
   "metadata": {},
   "source": [
    "##### Extra payments - Merging all the data together"
   ]
  },
  {
   "cell_type": "markdown",
   "metadata": {},
   "source": [
    "To calculate the revenue, I'm merging the datasets of each line of activity into one dataset"
   ]
  },
  {
   "cell_type": "code",
   "execution_count": 32,
   "metadata": {},
   "outputs": [
    {
     "data": {
      "text/html": [
       "<div>\n",
       "<style scoped>\n",
       "    .dataframe tbody tr th:only-of-type {\n",
       "        vertical-align: middle;\n",
       "    }\n",
       "\n",
       "    .dataframe tbody tr th {\n",
       "        vertical-align: top;\n",
       "    }\n",
       "\n",
       "    .dataframe thead th {\n",
       "        text-align: right;\n",
       "    }\n",
       "</style>\n",
       "<table border=\"1\" class=\"dataframe\">\n",
       "  <thead>\n",
       "    <tr style=\"text-align: right;\">\n",
       "      <th></th>\n",
       "      <th></th>\n",
       "      <th></th>\n",
       "      <th>mb_used</th>\n",
       "      <th>mb_used_GB</th>\n",
       "      <th>extra_payment_internet</th>\n",
       "      <th>calls_count</th>\n",
       "      <th>total_duration</th>\n",
       "      <th>extra_payment_calls</th>\n",
       "    </tr>\n",
       "    <tr>\n",
       "      <th>user_id</th>\n",
       "      <th>month</th>\n",
       "      <th>plan</th>\n",
       "      <th></th>\n",
       "      <th></th>\n",
       "      <th></th>\n",
       "      <th></th>\n",
       "      <th></th>\n",
       "      <th></th>\n",
       "    </tr>\n",
       "  </thead>\n",
       "  <tbody>\n",
       "    <tr>\n",
       "      <td>1000</td>\n",
       "      <td>12</td>\n",
       "      <td>ultimate</td>\n",
       "      <td>1901.47</td>\n",
       "      <td>2.0</td>\n",
       "      <td>0.00</td>\n",
       "      <td>16</td>\n",
       "      <td>124.0</td>\n",
       "      <td>0.0</td>\n",
       "    </tr>\n",
       "    <tr>\n",
       "      <td rowspan=\"4\" valign=\"top\">1001</td>\n",
       "      <td>8</td>\n",
       "      <td>surf</td>\n",
       "      <td>6919.15</td>\n",
       "      <td>7.0</td>\n",
       "      <td>0.00</td>\n",
       "      <td>27</td>\n",
       "      <td>182.0</td>\n",
       "      <td>0.0</td>\n",
       "    </tr>\n",
       "    <tr>\n",
       "      <td>9</td>\n",
       "      <td>surf</td>\n",
       "      <td>13314.82</td>\n",
       "      <td>14.0</td>\n",
       "      <td>0.00</td>\n",
       "      <td>49</td>\n",
       "      <td>315.0</td>\n",
       "      <td>0.0</td>\n",
       "    </tr>\n",
       "    <tr>\n",
       "      <td>10</td>\n",
       "      <td>surf</td>\n",
       "      <td>22330.49</td>\n",
       "      <td>22.0</td>\n",
       "      <td>0.21</td>\n",
       "      <td>65</td>\n",
       "      <td>393.0</td>\n",
       "      <td>0.0</td>\n",
       "    </tr>\n",
       "    <tr>\n",
       "      <td>11</td>\n",
       "      <td>surf</td>\n",
       "      <td>18504.30</td>\n",
       "      <td>19.0</td>\n",
       "      <td>0.12</td>\n",
       "      <td>64</td>\n",
       "      <td>426.0</td>\n",
       "      <td>0.0</td>\n",
       "    </tr>\n",
       "  </tbody>\n",
       "</table>\n",
       "</div>"
      ],
      "text/plain": [
       "                         mb_used  mb_used_GB  extra_payment_internet  \\\n",
       "user_id month plan                                                     \n",
       "1000    12    ultimate   1901.47         2.0                    0.00   \n",
       "1001    8     surf       6919.15         7.0                    0.00   \n",
       "        9     surf      13314.82        14.0                    0.00   \n",
       "        10    surf      22330.49        22.0                    0.21   \n",
       "        11    surf      18504.30        19.0                    0.12   \n",
       "\n",
       "                        calls_count  total_duration  extra_payment_calls  \n",
       "user_id month plan                                                        \n",
       "1000    12    ultimate           16           124.0                  0.0  \n",
       "1001    8     surf               27           182.0                  0.0  \n",
       "        9     surf               49           315.0                  0.0  \n",
       "        10    surf               65           393.0                  0.0  \n",
       "        11    surf               64           426.0                  0.0  "
      ]
     },
     "execution_count": 32,
     "metadata": {},
     "output_type": "execute_result"
    }
   ],
   "source": [
    "net_calls=pd.merge(df_internet_pvt, df_calls_pvt, on=['user_id','month','plan'])\n",
    "net_calls.head()"
   ]
  },
  {
   "cell_type": "code",
   "execution_count": 33,
   "metadata": {
    "scrolled": true
   },
   "outputs": [
    {
     "data": {
      "text/html": [
       "<div>\n",
       "<style scoped>\n",
       "    .dataframe tbody tr th:only-of-type {\n",
       "        vertical-align: middle;\n",
       "    }\n",
       "\n",
       "    .dataframe tbody tr th {\n",
       "        vertical-align: top;\n",
       "    }\n",
       "\n",
       "    .dataframe thead th {\n",
       "        text-align: right;\n",
       "    }\n",
       "</style>\n",
       "<table border=\"1\" class=\"dataframe\">\n",
       "  <thead>\n",
       "    <tr style=\"text-align: right;\">\n",
       "      <th></th>\n",
       "      <th></th>\n",
       "      <th></th>\n",
       "      <th>mb_used</th>\n",
       "      <th>mb_used_GB</th>\n",
       "      <th>extra_payment_internet</th>\n",
       "      <th>calls_count</th>\n",
       "      <th>total_duration</th>\n",
       "      <th>extra_payment_calls</th>\n",
       "      <th>msg_count</th>\n",
       "      <th>extra_payment_messages</th>\n",
       "    </tr>\n",
       "    <tr>\n",
       "      <th>user_id</th>\n",
       "      <th>month</th>\n",
       "      <th>plan</th>\n",
       "      <th></th>\n",
       "      <th></th>\n",
       "      <th></th>\n",
       "      <th></th>\n",
       "      <th></th>\n",
       "      <th></th>\n",
       "      <th></th>\n",
       "      <th></th>\n",
       "    </tr>\n",
       "  </thead>\n",
       "  <tbody>\n",
       "    <tr>\n",
       "      <td>1000</td>\n",
       "      <td>12</td>\n",
       "      <td>ultimate</td>\n",
       "      <td>1901.47</td>\n",
       "      <td>2.0</td>\n",
       "      <td>0.00</td>\n",
       "      <td>16</td>\n",
       "      <td>124.0</td>\n",
       "      <td>0.0</td>\n",
       "      <td>11</td>\n",
       "      <td>0.00</td>\n",
       "    </tr>\n",
       "    <tr>\n",
       "      <td rowspan=\"4\" valign=\"top\">1001</td>\n",
       "      <td>8</td>\n",
       "      <td>surf</td>\n",
       "      <td>6919.15</td>\n",
       "      <td>7.0</td>\n",
       "      <td>0.00</td>\n",
       "      <td>27</td>\n",
       "      <td>182.0</td>\n",
       "      <td>0.0</td>\n",
       "      <td>30</td>\n",
       "      <td>0.00</td>\n",
       "    </tr>\n",
       "    <tr>\n",
       "      <td>9</td>\n",
       "      <td>surf</td>\n",
       "      <td>13314.82</td>\n",
       "      <td>14.0</td>\n",
       "      <td>0.00</td>\n",
       "      <td>49</td>\n",
       "      <td>315.0</td>\n",
       "      <td>0.0</td>\n",
       "      <td>44</td>\n",
       "      <td>0.00</td>\n",
       "    </tr>\n",
       "    <tr>\n",
       "      <td>10</td>\n",
       "      <td>surf</td>\n",
       "      <td>22330.49</td>\n",
       "      <td>22.0</td>\n",
       "      <td>0.21</td>\n",
       "      <td>65</td>\n",
       "      <td>393.0</td>\n",
       "      <td>0.0</td>\n",
       "      <td>53</td>\n",
       "      <td>0.09</td>\n",
       "    </tr>\n",
       "    <tr>\n",
       "      <td>11</td>\n",
       "      <td>surf</td>\n",
       "      <td>18504.30</td>\n",
       "      <td>19.0</td>\n",
       "      <td>0.12</td>\n",
       "      <td>64</td>\n",
       "      <td>426.0</td>\n",
       "      <td>0.0</td>\n",
       "      <td>36</td>\n",
       "      <td>0.00</td>\n",
       "    </tr>\n",
       "  </tbody>\n",
       "</table>\n",
       "</div>"
      ],
      "text/plain": [
       "                         mb_used  mb_used_GB  extra_payment_internet  \\\n",
       "user_id month plan                                                     \n",
       "1000    12    ultimate   1901.47         2.0                    0.00   \n",
       "1001    8     surf       6919.15         7.0                    0.00   \n",
       "        9     surf      13314.82        14.0                    0.00   \n",
       "        10    surf      22330.49        22.0                    0.21   \n",
       "        11    surf      18504.30        19.0                    0.12   \n",
       "\n",
       "                        calls_count  total_duration  extra_payment_calls  \\\n",
       "user_id month plan                                                         \n",
       "1000    12    ultimate           16           124.0                  0.0   \n",
       "1001    8     surf               27           182.0                  0.0   \n",
       "        9     surf               49           315.0                  0.0   \n",
       "        10    surf               65           393.0                  0.0   \n",
       "        11    surf               64           426.0                  0.0   \n",
       "\n",
       "                        msg_count  extra_payment_messages  \n",
       "user_id month plan                                         \n",
       "1000    12    ultimate         11                    0.00  \n",
       "1001    8     surf             30                    0.00  \n",
       "        9     surf             44                    0.00  \n",
       "        10    surf             53                    0.09  \n",
       "        11    surf             36                    0.00  "
      ]
     },
     "execution_count": 33,
     "metadata": {},
     "output_type": "execute_result"
    }
   ],
   "source": [
    "net_calls_msgs=pd.merge(net_calls, df_messages_pvt, on=['user_id','month','plan'])\n",
    "net_calls_msgs.head()"
   ]
  },
  {
   "cell_type": "markdown",
   "metadata": {},
   "source": [
    "After merging the data, I'm calculating the revenue per month for each user"
   ]
  },
  {
   "cell_type": "code",
   "execution_count": 34,
   "metadata": {},
   "outputs": [],
   "source": [
    "def calc_revenue(row):\n",
    "    plan=row.name[2]\n",
    "    extra=row['extra_payment_internet']+row['extra_payment_calls']+row['extra_payment_messages']\n",
    "    payment=70\n",
    "    if plan=='surf':\n",
    "        payment=20\n",
    "    total=payment+extra\n",
    "    return total\n",
    "    \n",
    "net_calls_msgs['revenue']=net_calls_msgs.apply(calc_revenue, axis=1)"
   ]
  },
  {
   "cell_type": "markdown",
   "metadata": {},
   "source": [
    "At the next table, the revenue per user per month is calculated. It is displayed in the revenue column"
   ]
  },
  {
   "cell_type": "code",
   "execution_count": 35,
   "metadata": {
    "scrolled": true
   },
   "outputs": [
    {
     "data": {
      "text/html": [
       "<div>\n",
       "<style scoped>\n",
       "    .dataframe tbody tr th:only-of-type {\n",
       "        vertical-align: middle;\n",
       "    }\n",
       "\n",
       "    .dataframe tbody tr th {\n",
       "        vertical-align: top;\n",
       "    }\n",
       "\n",
       "    .dataframe thead th {\n",
       "        text-align: right;\n",
       "    }\n",
       "</style>\n",
       "<table border=\"1\" class=\"dataframe\">\n",
       "  <thead>\n",
       "    <tr style=\"text-align: right;\">\n",
       "      <th></th>\n",
       "      <th></th>\n",
       "      <th></th>\n",
       "      <th>mb_used</th>\n",
       "      <th>mb_used_GB</th>\n",
       "      <th>extra_payment_internet</th>\n",
       "      <th>calls_count</th>\n",
       "      <th>total_duration</th>\n",
       "      <th>extra_payment_calls</th>\n",
       "      <th>msg_count</th>\n",
       "      <th>extra_payment_messages</th>\n",
       "      <th>revenue</th>\n",
       "    </tr>\n",
       "    <tr>\n",
       "      <th>user_id</th>\n",
       "      <th>month</th>\n",
       "      <th>plan</th>\n",
       "      <th></th>\n",
       "      <th></th>\n",
       "      <th></th>\n",
       "      <th></th>\n",
       "      <th></th>\n",
       "      <th></th>\n",
       "      <th></th>\n",
       "      <th></th>\n",
       "      <th></th>\n",
       "    </tr>\n",
       "  </thead>\n",
       "  <tbody>\n",
       "    <tr>\n",
       "      <td>1000</td>\n",
       "      <td>12</td>\n",
       "      <td>ultimate</td>\n",
       "      <td>1901.47</td>\n",
       "      <td>2.0</td>\n",
       "      <td>0.00</td>\n",
       "      <td>16</td>\n",
       "      <td>124.0</td>\n",
       "      <td>0.0</td>\n",
       "      <td>11</td>\n",
       "      <td>0.00</td>\n",
       "      <td>70.00</td>\n",
       "    </tr>\n",
       "    <tr>\n",
       "      <td rowspan=\"4\" valign=\"top\">1001</td>\n",
       "      <td>8</td>\n",
       "      <td>surf</td>\n",
       "      <td>6919.15</td>\n",
       "      <td>7.0</td>\n",
       "      <td>0.00</td>\n",
       "      <td>27</td>\n",
       "      <td>182.0</td>\n",
       "      <td>0.0</td>\n",
       "      <td>30</td>\n",
       "      <td>0.00</td>\n",
       "      <td>20.00</td>\n",
       "    </tr>\n",
       "    <tr>\n",
       "      <td>9</td>\n",
       "      <td>surf</td>\n",
       "      <td>13314.82</td>\n",
       "      <td>14.0</td>\n",
       "      <td>0.00</td>\n",
       "      <td>49</td>\n",
       "      <td>315.0</td>\n",
       "      <td>0.0</td>\n",
       "      <td>44</td>\n",
       "      <td>0.00</td>\n",
       "      <td>20.00</td>\n",
       "    </tr>\n",
       "    <tr>\n",
       "      <td>10</td>\n",
       "      <td>surf</td>\n",
       "      <td>22330.49</td>\n",
       "      <td>22.0</td>\n",
       "      <td>0.21</td>\n",
       "      <td>65</td>\n",
       "      <td>393.0</td>\n",
       "      <td>0.0</td>\n",
       "      <td>53</td>\n",
       "      <td>0.09</td>\n",
       "      <td>20.30</td>\n",
       "    </tr>\n",
       "    <tr>\n",
       "      <td>11</td>\n",
       "      <td>surf</td>\n",
       "      <td>18504.30</td>\n",
       "      <td>19.0</td>\n",
       "      <td>0.12</td>\n",
       "      <td>64</td>\n",
       "      <td>426.0</td>\n",
       "      <td>0.0</td>\n",
       "      <td>36</td>\n",
       "      <td>0.00</td>\n",
       "      <td>20.12</td>\n",
       "    </tr>\n",
       "  </tbody>\n",
       "</table>\n",
       "</div>"
      ],
      "text/plain": [
       "                         mb_used  mb_used_GB  extra_payment_internet  \\\n",
       "user_id month plan                                                     \n",
       "1000    12    ultimate   1901.47         2.0                    0.00   \n",
       "1001    8     surf       6919.15         7.0                    0.00   \n",
       "        9     surf      13314.82        14.0                    0.00   \n",
       "        10    surf      22330.49        22.0                    0.21   \n",
       "        11    surf      18504.30        19.0                    0.12   \n",
       "\n",
       "                        calls_count  total_duration  extra_payment_calls  \\\n",
       "user_id month plan                                                         \n",
       "1000    12    ultimate           16           124.0                  0.0   \n",
       "1001    8     surf               27           182.0                  0.0   \n",
       "        9     surf               49           315.0                  0.0   \n",
       "        10    surf               65           393.0                  0.0   \n",
       "        11    surf               64           426.0                  0.0   \n",
       "\n",
       "                        msg_count  extra_payment_messages  revenue  \n",
       "user_id month plan                                                  \n",
       "1000    12    ultimate         11                    0.00    70.00  \n",
       "1001    8     surf             30                    0.00    20.00  \n",
       "        9     surf             44                    0.00    20.00  \n",
       "        10    surf             53                    0.09    20.30  \n",
       "        11    surf             36                    0.00    20.12  "
      ]
     },
     "execution_count": 35,
     "metadata": {},
     "output_type": "execute_result"
    }
   ],
   "source": [
    "net_calls_msgs.head()"
   ]
  },
  {
   "cell_type": "code",
   "execution_count": 36,
   "metadata": {},
   "outputs": [
    {
     "data": {
      "text/html": [
       "<div>\n",
       "<style scoped>\n",
       "    .dataframe tbody tr th:only-of-type {\n",
       "        vertical-align: middle;\n",
       "    }\n",
       "\n",
       "    .dataframe tbody tr th {\n",
       "        vertical-align: top;\n",
       "    }\n",
       "\n",
       "    .dataframe thead th {\n",
       "        text-align: right;\n",
       "    }\n",
       "</style>\n",
       "<table border=\"1\" class=\"dataframe\">\n",
       "  <thead>\n",
       "    <tr style=\"text-align: right;\">\n",
       "      <th></th>\n",
       "      <th></th>\n",
       "      <th></th>\n",
       "      <th>revenue</th>\n",
       "    </tr>\n",
       "    <tr>\n",
       "      <th>user_id</th>\n",
       "      <th>month</th>\n",
       "      <th>plan</th>\n",
       "      <th></th>\n",
       "    </tr>\n",
       "  </thead>\n",
       "  <tbody>\n",
       "    <tr>\n",
       "      <td>1000</td>\n",
       "      <td>12</td>\n",
       "      <td>ultimate</td>\n",
       "      <td>70.00</td>\n",
       "    </tr>\n",
       "    <tr>\n",
       "      <td rowspan=\"5\" valign=\"top\">1001</td>\n",
       "      <td>8</td>\n",
       "      <td>surf</td>\n",
       "      <td>20.00</td>\n",
       "    </tr>\n",
       "    <tr>\n",
       "      <td>9</td>\n",
       "      <td>surf</td>\n",
       "      <td>20.00</td>\n",
       "    </tr>\n",
       "    <tr>\n",
       "      <td>10</td>\n",
       "      <td>surf</td>\n",
       "      <td>20.30</td>\n",
       "    </tr>\n",
       "    <tr>\n",
       "      <td>11</td>\n",
       "      <td>surf</td>\n",
       "      <td>20.12</td>\n",
       "    </tr>\n",
       "    <tr>\n",
       "      <td>12</td>\n",
       "      <td>surf</td>\n",
       "      <td>20.12</td>\n",
       "    </tr>\n",
       "    <tr>\n",
       "      <td rowspan=\"3\" valign=\"top\">1002</td>\n",
       "      <td>10</td>\n",
       "      <td>surf</td>\n",
       "      <td>20.00</td>\n",
       "    </tr>\n",
       "    <tr>\n",
       "      <td>11</td>\n",
       "      <td>surf</td>\n",
       "      <td>20.12</td>\n",
       "    </tr>\n",
       "    <tr>\n",
       "      <td>12</td>\n",
       "      <td>surf</td>\n",
       "      <td>20.00</td>\n",
       "    </tr>\n",
       "    <tr>\n",
       "      <td>1003</td>\n",
       "      <td>12</td>\n",
       "      <td>surf</td>\n",
       "      <td>38.48</td>\n",
       "    </tr>\n",
       "  </tbody>\n",
       "</table>\n",
       "</div>"
      ],
      "text/plain": [
       "                        revenue\n",
       "user_id month plan             \n",
       "1000    12    ultimate    70.00\n",
       "1001    8     surf        20.00\n",
       "        9     surf        20.00\n",
       "        10    surf        20.30\n",
       "        11    surf        20.12\n",
       "        12    surf        20.12\n",
       "1002    10    surf        20.00\n",
       "        11    surf        20.12\n",
       "        12    surf        20.00\n",
       "1003    12    surf        38.48"
      ]
     },
     "execution_count": 36,
     "metadata": {},
     "output_type": "execute_result"
    }
   ],
   "source": [
    "revenue_user_month=net_calls_msgs[['revenue']]\n",
    "revenue_user_month.head(10)"
   ]
  },
  {
   "cell_type": "markdown",
   "metadata": {},
   "source": [
    "## Analyze the data"
   ]
  },
  {
   "cell_type": "markdown",
   "metadata": {},
   "source": [
    "Here I need to analyze the user's usage of each line of activity of Megaline per plan per month."
   ]
  },
  {
   "cell_type": "code",
   "execution_count": 37,
   "metadata": {
    "scrolled": true
   },
   "outputs": [
    {
     "data": {
      "text/html": [
       "<div>\n",
       "<style scoped>\n",
       "    .dataframe tbody tr th:only-of-type {\n",
       "        vertical-align: middle;\n",
       "    }\n",
       "\n",
       "    .dataframe tbody tr th {\n",
       "        vertical-align: top;\n",
       "    }\n",
       "\n",
       "    .dataframe thead th {\n",
       "        text-align: right;\n",
       "    }\n",
       "</style>\n",
       "<table border=\"1\" class=\"dataframe\">\n",
       "  <thead>\n",
       "    <tr style=\"text-align: right;\">\n",
       "      <th></th>\n",
       "      <th></th>\n",
       "      <th></th>\n",
       "      <th>mb_used</th>\n",
       "      <th>mb_used_GB</th>\n",
       "      <th>extra_payment_internet</th>\n",
       "      <th>calls_count</th>\n",
       "      <th>total_duration</th>\n",
       "      <th>extra_payment_calls</th>\n",
       "      <th>msg_count</th>\n",
       "      <th>extra_payment_messages</th>\n",
       "      <th>revenue</th>\n",
       "    </tr>\n",
       "    <tr>\n",
       "      <th>user_id</th>\n",
       "      <th>month</th>\n",
       "      <th>plan</th>\n",
       "      <th></th>\n",
       "      <th></th>\n",
       "      <th></th>\n",
       "      <th></th>\n",
       "      <th></th>\n",
       "      <th></th>\n",
       "      <th></th>\n",
       "      <th></th>\n",
       "      <th></th>\n",
       "    </tr>\n",
       "  </thead>\n",
       "  <tbody>\n",
       "    <tr>\n",
       "      <td>1000</td>\n",
       "      <td>12</td>\n",
       "      <td>ultimate</td>\n",
       "      <td>1901.47</td>\n",
       "      <td>2.0</td>\n",
       "      <td>0.00</td>\n",
       "      <td>16</td>\n",
       "      <td>124.0</td>\n",
       "      <td>0.0</td>\n",
       "      <td>11</td>\n",
       "      <td>0.00</td>\n",
       "      <td>70.00</td>\n",
       "    </tr>\n",
       "    <tr>\n",
       "      <td rowspan=\"4\" valign=\"top\">1001</td>\n",
       "      <td>8</td>\n",
       "      <td>surf</td>\n",
       "      <td>6919.15</td>\n",
       "      <td>7.0</td>\n",
       "      <td>0.00</td>\n",
       "      <td>27</td>\n",
       "      <td>182.0</td>\n",
       "      <td>0.0</td>\n",
       "      <td>30</td>\n",
       "      <td>0.00</td>\n",
       "      <td>20.00</td>\n",
       "    </tr>\n",
       "    <tr>\n",
       "      <td>9</td>\n",
       "      <td>surf</td>\n",
       "      <td>13314.82</td>\n",
       "      <td>14.0</td>\n",
       "      <td>0.00</td>\n",
       "      <td>49</td>\n",
       "      <td>315.0</td>\n",
       "      <td>0.0</td>\n",
       "      <td>44</td>\n",
       "      <td>0.00</td>\n",
       "      <td>20.00</td>\n",
       "    </tr>\n",
       "    <tr>\n",
       "      <td>10</td>\n",
       "      <td>surf</td>\n",
       "      <td>22330.49</td>\n",
       "      <td>22.0</td>\n",
       "      <td>0.21</td>\n",
       "      <td>65</td>\n",
       "      <td>393.0</td>\n",
       "      <td>0.0</td>\n",
       "      <td>53</td>\n",
       "      <td>0.09</td>\n",
       "      <td>20.30</td>\n",
       "    </tr>\n",
       "    <tr>\n",
       "      <td>11</td>\n",
       "      <td>surf</td>\n",
       "      <td>18504.30</td>\n",
       "      <td>19.0</td>\n",
       "      <td>0.12</td>\n",
       "      <td>64</td>\n",
       "      <td>426.0</td>\n",
       "      <td>0.0</td>\n",
       "      <td>36</td>\n",
       "      <td>0.00</td>\n",
       "      <td>20.12</td>\n",
       "    </tr>\n",
       "  </tbody>\n",
       "</table>\n",
       "</div>"
      ],
      "text/plain": [
       "                         mb_used  mb_used_GB  extra_payment_internet  \\\n",
       "user_id month plan                                                     \n",
       "1000    12    ultimate   1901.47         2.0                    0.00   \n",
       "1001    8     surf       6919.15         7.0                    0.00   \n",
       "        9     surf      13314.82        14.0                    0.00   \n",
       "        10    surf      22330.49        22.0                    0.21   \n",
       "        11    surf      18504.30        19.0                    0.12   \n",
       "\n",
       "                        calls_count  total_duration  extra_payment_calls  \\\n",
       "user_id month plan                                                         \n",
       "1000    12    ultimate           16           124.0                  0.0   \n",
       "1001    8     surf               27           182.0                  0.0   \n",
       "        9     surf               49           315.0                  0.0   \n",
       "        10    surf               65           393.0                  0.0   \n",
       "        11    surf               64           426.0                  0.0   \n",
       "\n",
       "                        msg_count  extra_payment_messages  revenue  \n",
       "user_id month plan                                                  \n",
       "1000    12    ultimate         11                    0.00    70.00  \n",
       "1001    8     surf             30                    0.00    20.00  \n",
       "        9     surf             44                    0.00    20.00  \n",
       "        10    surf             53                    0.09    20.30  \n",
       "        11    surf             36                    0.00    20.12  "
      ]
     },
     "execution_count": 37,
     "metadata": {},
     "output_type": "execute_result"
    }
   ],
   "source": [
    "net_calls_msgs.head()"
   ]
  },
  {
   "cell_type": "markdown",
   "metadata": {},
   "source": [
    "First of all, creating 2 datasets one for each plan."
   ]
  },
  {
   "cell_type": "code",
   "execution_count": 38,
   "metadata": {
    "scrolled": true
   },
   "outputs": [
    {
     "data": {
      "text/html": [
       "<div>\n",
       "<style scoped>\n",
       "    .dataframe tbody tr th:only-of-type {\n",
       "        vertical-align: middle;\n",
       "    }\n",
       "\n",
       "    .dataframe tbody tr th {\n",
       "        vertical-align: top;\n",
       "    }\n",
       "\n",
       "    .dataframe thead th {\n",
       "        text-align: right;\n",
       "    }\n",
       "</style>\n",
       "<table border=\"1\" class=\"dataframe\">\n",
       "  <thead>\n",
       "    <tr style=\"text-align: right;\">\n",
       "      <th></th>\n",
       "      <th></th>\n",
       "      <th></th>\n",
       "      <th>mb_used</th>\n",
       "      <th>mb_used_GB</th>\n",
       "      <th>extra_payment_internet</th>\n",
       "      <th>calls_count</th>\n",
       "      <th>total_duration</th>\n",
       "      <th>extra_payment_calls</th>\n",
       "      <th>msg_count</th>\n",
       "      <th>extra_payment_messages</th>\n",
       "      <th>revenue</th>\n",
       "    </tr>\n",
       "    <tr>\n",
       "      <th>user_id</th>\n",
       "      <th>month</th>\n",
       "      <th>plan</th>\n",
       "      <th></th>\n",
       "      <th></th>\n",
       "      <th></th>\n",
       "      <th></th>\n",
       "      <th></th>\n",
       "      <th></th>\n",
       "      <th></th>\n",
       "      <th></th>\n",
       "      <th></th>\n",
       "    </tr>\n",
       "  </thead>\n",
       "  <tbody>\n",
       "    <tr>\n",
       "      <td rowspan=\"5\" valign=\"top\">1001</td>\n",
       "      <td>8</td>\n",
       "      <td>surf</td>\n",
       "      <td>6919.15</td>\n",
       "      <td>7.0</td>\n",
       "      <td>0.00</td>\n",
       "      <td>27</td>\n",
       "      <td>182.0</td>\n",
       "      <td>0.0</td>\n",
       "      <td>30</td>\n",
       "      <td>0.00</td>\n",
       "      <td>20.00</td>\n",
       "    </tr>\n",
       "    <tr>\n",
       "      <td>9</td>\n",
       "      <td>surf</td>\n",
       "      <td>13314.82</td>\n",
       "      <td>14.0</td>\n",
       "      <td>0.00</td>\n",
       "      <td>49</td>\n",
       "      <td>315.0</td>\n",
       "      <td>0.0</td>\n",
       "      <td>44</td>\n",
       "      <td>0.00</td>\n",
       "      <td>20.00</td>\n",
       "    </tr>\n",
       "    <tr>\n",
       "      <td>10</td>\n",
       "      <td>surf</td>\n",
       "      <td>22330.49</td>\n",
       "      <td>22.0</td>\n",
       "      <td>0.21</td>\n",
       "      <td>65</td>\n",
       "      <td>393.0</td>\n",
       "      <td>0.0</td>\n",
       "      <td>53</td>\n",
       "      <td>0.09</td>\n",
       "      <td>20.30</td>\n",
       "    </tr>\n",
       "    <tr>\n",
       "      <td>11</td>\n",
       "      <td>surf</td>\n",
       "      <td>18504.30</td>\n",
       "      <td>19.0</td>\n",
       "      <td>0.12</td>\n",
       "      <td>64</td>\n",
       "      <td>426.0</td>\n",
       "      <td>0.0</td>\n",
       "      <td>36</td>\n",
       "      <td>0.00</td>\n",
       "      <td>20.12</td>\n",
       "    </tr>\n",
       "    <tr>\n",
       "      <td>12</td>\n",
       "      <td>surf</td>\n",
       "      <td>19369.18</td>\n",
       "      <td>19.0</td>\n",
       "      <td>0.12</td>\n",
       "      <td>56</td>\n",
       "      <td>412.0</td>\n",
       "      <td>0.0</td>\n",
       "      <td>44</td>\n",
       "      <td>0.00</td>\n",
       "      <td>20.12</td>\n",
       "    </tr>\n",
       "  </tbody>\n",
       "</table>\n",
       "</div>"
      ],
      "text/plain": [
       "                     mb_used  mb_used_GB  extra_payment_internet  calls_count  \\\n",
       "user_id month plan                                                              \n",
       "1001    8     surf   6919.15         7.0                    0.00           27   \n",
       "        9     surf  13314.82        14.0                    0.00           49   \n",
       "        10    surf  22330.49        22.0                    0.21           65   \n",
       "        11    surf  18504.30        19.0                    0.12           64   \n",
       "        12    surf  19369.18        19.0                    0.12           56   \n",
       "\n",
       "                    total_duration  extra_payment_calls  msg_count  \\\n",
       "user_id month plan                                                   \n",
       "1001    8     surf           182.0                  0.0         30   \n",
       "        9     surf           315.0                  0.0         44   \n",
       "        10    surf           393.0                  0.0         53   \n",
       "        11    surf           426.0                  0.0         36   \n",
       "        12    surf           412.0                  0.0         44   \n",
       "\n",
       "                    extra_payment_messages  revenue  \n",
       "user_id month plan                                   \n",
       "1001    8     surf                    0.00    20.00  \n",
       "        9     surf                    0.00    20.00  \n",
       "        10    surf                    0.09    20.30  \n",
       "        11    surf                    0.00    20.12  \n",
       "        12    surf                    0.00    20.12  "
      ]
     },
     "execution_count": 38,
     "metadata": {},
     "output_type": "execute_result"
    },
    {
     "data": {
      "text/html": [
       "<div>\n",
       "<style scoped>\n",
       "    .dataframe tbody tr th:only-of-type {\n",
       "        vertical-align: middle;\n",
       "    }\n",
       "\n",
       "    .dataframe tbody tr th {\n",
       "        vertical-align: top;\n",
       "    }\n",
       "\n",
       "    .dataframe thead th {\n",
       "        text-align: right;\n",
       "    }\n",
       "</style>\n",
       "<table border=\"1\" class=\"dataframe\">\n",
       "  <thead>\n",
       "    <tr style=\"text-align: right;\">\n",
       "      <th></th>\n",
       "      <th></th>\n",
       "      <th></th>\n",
       "      <th>mb_used</th>\n",
       "      <th>mb_used_GB</th>\n",
       "      <th>extra_payment_internet</th>\n",
       "      <th>calls_count</th>\n",
       "      <th>total_duration</th>\n",
       "      <th>extra_payment_calls</th>\n",
       "      <th>msg_count</th>\n",
       "      <th>extra_payment_messages</th>\n",
       "      <th>revenue</th>\n",
       "    </tr>\n",
       "    <tr>\n",
       "      <th>user_id</th>\n",
       "      <th>month</th>\n",
       "      <th>plan</th>\n",
       "      <th></th>\n",
       "      <th></th>\n",
       "      <th></th>\n",
       "      <th></th>\n",
       "      <th></th>\n",
       "      <th></th>\n",
       "      <th></th>\n",
       "      <th></th>\n",
       "      <th></th>\n",
       "    </tr>\n",
       "  </thead>\n",
       "  <tbody>\n",
       "    <tr>\n",
       "      <td>1000</td>\n",
       "      <td>12</td>\n",
       "      <td>ultimate</td>\n",
       "      <td>1901.47</td>\n",
       "      <td>2.0</td>\n",
       "      <td>0.0</td>\n",
       "      <td>16</td>\n",
       "      <td>124.0</td>\n",
       "      <td>0.0</td>\n",
       "      <td>11</td>\n",
       "      <td>0.0</td>\n",
       "      <td>70.0</td>\n",
       "    </tr>\n",
       "    <tr>\n",
       "      <td rowspan=\"3\" valign=\"top\">1008</td>\n",
       "      <td>10</td>\n",
       "      <td>ultimate</td>\n",
       "      <td>17106.99</td>\n",
       "      <td>17.0</td>\n",
       "      <td>0.0</td>\n",
       "      <td>71</td>\n",
       "      <td>476.0</td>\n",
       "      <td>0.0</td>\n",
       "      <td>21</td>\n",
       "      <td>0.0</td>\n",
       "      <td>70.0</td>\n",
       "    </tr>\n",
       "    <tr>\n",
       "      <td>11</td>\n",
       "      <td>ultimate</td>\n",
       "      <td>23676.72</td>\n",
       "      <td>24.0</td>\n",
       "      <td>0.0</td>\n",
       "      <td>63</td>\n",
       "      <td>446.0</td>\n",
       "      <td>0.0</td>\n",
       "      <td>37</td>\n",
       "      <td>0.0</td>\n",
       "      <td>70.0</td>\n",
       "    </tr>\n",
       "    <tr>\n",
       "      <td>12</td>\n",
       "      <td>ultimate</td>\n",
       "      <td>14689.33</td>\n",
       "      <td>15.0</td>\n",
       "      <td>0.0</td>\n",
       "      <td>85</td>\n",
       "      <td>634.0</td>\n",
       "      <td>0.0</td>\n",
       "      <td>26</td>\n",
       "      <td>0.0</td>\n",
       "      <td>70.0</td>\n",
       "    </tr>\n",
       "    <tr>\n",
       "      <td>1011</td>\n",
       "      <td>6</td>\n",
       "      <td>ultimate</td>\n",
       "      <td>6685.11</td>\n",
       "      <td>7.0</td>\n",
       "      <td>0.0</td>\n",
       "      <td>19</td>\n",
       "      <td>118.0</td>\n",
       "      <td>0.0</td>\n",
       "      <td>21</td>\n",
       "      <td>0.0</td>\n",
       "      <td>70.0</td>\n",
       "    </tr>\n",
       "  </tbody>\n",
       "</table>\n",
       "</div>"
      ],
      "text/plain": [
       "                         mb_used  mb_used_GB  extra_payment_internet  \\\n",
       "user_id month plan                                                     \n",
       "1000    12    ultimate   1901.47         2.0                     0.0   \n",
       "1008    10    ultimate  17106.99        17.0                     0.0   \n",
       "        11    ultimate  23676.72        24.0                     0.0   \n",
       "        12    ultimate  14689.33        15.0                     0.0   \n",
       "1011    6     ultimate   6685.11         7.0                     0.0   \n",
       "\n",
       "                        calls_count  total_duration  extra_payment_calls  \\\n",
       "user_id month plan                                                         \n",
       "1000    12    ultimate           16           124.0                  0.0   \n",
       "1008    10    ultimate           71           476.0                  0.0   \n",
       "        11    ultimate           63           446.0                  0.0   \n",
       "        12    ultimate           85           634.0                  0.0   \n",
       "1011    6     ultimate           19           118.0                  0.0   \n",
       "\n",
       "                        msg_count  extra_payment_messages  revenue  \n",
       "user_id month plan                                                  \n",
       "1000    12    ultimate         11                     0.0     70.0  \n",
       "1008    10    ultimate         21                     0.0     70.0  \n",
       "        11    ultimate         37                     0.0     70.0  \n",
       "        12    ultimate         26                     0.0     70.0  \n",
       "1011    6     ultimate         21                     0.0     70.0  "
      ]
     },
     "execution_count": 38,
     "metadata": {},
     "output_type": "execute_result"
    }
   ],
   "source": [
    "surf_net_calls_msgs=net_calls_msgs.query('plan==\"surf\"')\n",
    "ultimate_net_calls_msgs=net_calls_msgs.query('plan!=\"surf\"')\n",
    "surf_net_calls_msgs.head()\n",
    "ultimate_net_calls_msgs.head()"
   ]
  },
  {
   "cell_type": "code",
   "execution_count": 39,
   "metadata": {},
   "outputs": [
    {
     "name": "stdout",
     "output_type": "stream",
     "text": [
      "Percent of Surf plan's users: 67.28%\n",
      "Percent of Ultimate plan's users: 32.72%\n"
     ]
    }
   ],
   "source": [
    "num_all_users=len(net_calls_msgs)\n",
    "num_ultimate=len(ultimate_net_calls_msgs)\n",
    "num_surf=len(surf_net_calls_msgs)\n",
    "print(\"Percent of Surf plan's users: {:.2%}\".format(num_surf/num_all_users))\n",
    "print(\"Percent of Ultimate plan's users: {:.2%}\".format(num_ultimate/num_all_users))"
   ]
  },
  {
   "cell_type": "markdown",
   "metadata": {},
   "source": [
    "### Surf plan analysis"
   ]
  },
  {
   "cell_type": "markdown",
   "metadata": {},
   "source": [
    "<b>Surf</b>\n",
    "<ul>\n",
    "    <li>Monthly charge: $20</li>\n",
    "    <li>500 monthly minutes, 50 texts, and 15 GB of data</li>\n",
    "    <li>After exceeding the package limits:\n",
    "        <ul>\n",
    "        <li>1 minute: 3 cents</li>\n",
    "        <li>1 text message: 3 cents</li>\n",
    "        <li>1 GB of data: 10 dollars</li>\n",
    "        </ul>\n",
    "    </li>\n",
    "</ul>"
   ]
  },
  {
   "cell_type": "markdown",
   "metadata": {},
   "source": [
    "The statistics of the surf plan is:"
   ]
  },
  {
   "cell_type": "code",
   "execution_count": 40,
   "metadata": {},
   "outputs": [
    {
     "data": {
      "text/html": [
       "<div>\n",
       "<style scoped>\n",
       "    .dataframe tbody tr th:only-of-type {\n",
       "        vertical-align: middle;\n",
       "    }\n",
       "\n",
       "    .dataframe tbody tr th {\n",
       "        vertical-align: top;\n",
       "    }\n",
       "\n",
       "    .dataframe thead th {\n",
       "        text-align: right;\n",
       "    }\n",
       "</style>\n",
       "<table border=\"1\" class=\"dataframe\">\n",
       "  <thead>\n",
       "    <tr style=\"text-align: right;\">\n",
       "      <th></th>\n",
       "      <th>mb_used</th>\n",
       "      <th>mb_used_GB</th>\n",
       "      <th>extra_payment_internet</th>\n",
       "      <th>calls_count</th>\n",
       "      <th>total_duration</th>\n",
       "      <th>extra_payment_calls</th>\n",
       "      <th>msg_count</th>\n",
       "      <th>extra_payment_messages</th>\n",
       "      <th>revenue</th>\n",
       "    </tr>\n",
       "  </thead>\n",
       "  <tbody>\n",
       "    <tr>\n",
       "      <td>count</td>\n",
       "      <td>1104.000000</td>\n",
       "      <td>1104.000000</td>\n",
       "      <td>1104.000000</td>\n",
       "      <td>1104.000000</td>\n",
       "      <td>1104.000000</td>\n",
       "      <td>1104.000000</td>\n",
       "      <td>1104.000000</td>\n",
       "      <td>1104.000000</td>\n",
       "      <td>1104.000000</td>\n",
       "    </tr>\n",
       "    <tr>\n",
       "      <td>mean</td>\n",
       "      <td>16662.263732</td>\n",
       "      <td>16.785326</td>\n",
       "      <td>0.114266</td>\n",
       "      <td>62.518116</td>\n",
       "      <td>447.778986</td>\n",
       "      <td>2.073967</td>\n",
       "      <td>39.497283</td>\n",
       "      <td>0.262663</td>\n",
       "      <td>22.450897</td>\n",
       "    </tr>\n",
       "    <tr>\n",
       "      <td>std</td>\n",
       "      <td>7710.175935</td>\n",
       "      <td>7.544736</td>\n",
       "      <td>0.157881</td>\n",
       "      <td>32.275441</td>\n",
       "      <td>237.082999</td>\n",
       "      <td>4.104218</td>\n",
       "      <td>32.673000</td>\n",
       "      <td>0.637449</td>\n",
       "      <td>4.364107</td>\n",
       "    </tr>\n",
       "    <tr>\n",
       "      <td>min</td>\n",
       "      <td>92.310000</td>\n",
       "      <td>1.000000</td>\n",
       "      <td>0.000000</td>\n",
       "      <td>1.000000</td>\n",
       "      <td>2.000000</td>\n",
       "      <td>0.000000</td>\n",
       "      <td>1.000000</td>\n",
       "      <td>0.000000</td>\n",
       "      <td>20.000000</td>\n",
       "    </tr>\n",
       "    <tr>\n",
       "      <td>25%</td>\n",
       "      <td>12510.760000</td>\n",
       "      <td>13.000000</td>\n",
       "      <td>0.000000</td>\n",
       "      <td>41.000000</td>\n",
       "      <td>290.750000</td>\n",
       "      <td>0.000000</td>\n",
       "      <td>16.000000</td>\n",
       "      <td>0.000000</td>\n",
       "      <td>20.030000</td>\n",
       "    </tr>\n",
       "    <tr>\n",
       "      <td>50%</td>\n",
       "      <td>16847.265000</td>\n",
       "      <td>17.000000</td>\n",
       "      <td>0.060000</td>\n",
       "      <td>62.000000</td>\n",
       "      <td>440.000000</td>\n",
       "      <td>0.000000</td>\n",
       "      <td>31.500000</td>\n",
       "      <td>0.000000</td>\n",
       "      <td>20.390000</td>\n",
       "    </tr>\n",
       "    <tr>\n",
       "      <td>75%</td>\n",
       "      <td>20995.597500</td>\n",
       "      <td>21.000000</td>\n",
       "      <td>0.180000</td>\n",
       "      <td>81.000000</td>\n",
       "      <td>590.000000</td>\n",
       "      <td>2.700000</td>\n",
       "      <td>53.000000</td>\n",
       "      <td>0.090000</td>\n",
       "      <td>23.247500</td>\n",
       "    </tr>\n",
       "    <tr>\n",
       "      <td>max</td>\n",
       "      <td>70931.590000</td>\n",
       "      <td>70.000000</td>\n",
       "      <td>1.650000</td>\n",
       "      <td>205.000000</td>\n",
       "      <td>1510.000000</td>\n",
       "      <td>30.300000</td>\n",
       "      <td>266.000000</td>\n",
       "      <td>6.480000</td>\n",
       "      <td>53.210000</td>\n",
       "    </tr>\n",
       "  </tbody>\n",
       "</table>\n",
       "</div>"
      ],
      "text/plain": [
       "            mb_used   mb_used_GB  extra_payment_internet  calls_count  \\\n",
       "count   1104.000000  1104.000000             1104.000000  1104.000000   \n",
       "mean   16662.263732    16.785326                0.114266    62.518116   \n",
       "std     7710.175935     7.544736                0.157881    32.275441   \n",
       "min       92.310000     1.000000                0.000000     1.000000   \n",
       "25%    12510.760000    13.000000                0.000000    41.000000   \n",
       "50%    16847.265000    17.000000                0.060000    62.000000   \n",
       "75%    20995.597500    21.000000                0.180000    81.000000   \n",
       "max    70931.590000    70.000000                1.650000   205.000000   \n",
       "\n",
       "       total_duration  extra_payment_calls    msg_count  \\\n",
       "count     1104.000000          1104.000000  1104.000000   \n",
       "mean       447.778986             2.073967    39.497283   \n",
       "std        237.082999             4.104218    32.673000   \n",
       "min          2.000000             0.000000     1.000000   \n",
       "25%        290.750000             0.000000    16.000000   \n",
       "50%        440.000000             0.000000    31.500000   \n",
       "75%        590.000000             2.700000    53.000000   \n",
       "max       1510.000000            30.300000   266.000000   \n",
       "\n",
       "       extra_payment_messages      revenue  \n",
       "count             1104.000000  1104.000000  \n",
       "mean                 0.262663    22.450897  \n",
       "std                  0.637449     4.364107  \n",
       "min                  0.000000    20.000000  \n",
       "25%                  0.000000    20.030000  \n",
       "50%                  0.000000    20.390000  \n",
       "75%                  0.090000    23.247500  \n",
       "max                  6.480000    53.210000  "
      ]
     },
     "execution_count": 40,
     "metadata": {},
     "output_type": "execute_result"
    }
   ],
   "source": [
    "surf_net_calls_msgs.describe()"
   ]
  },
  {
   "cell_type": "markdown",
   "metadata": {},
   "source": [
    "Looking at the describe function's output we can see that most of the users are staying within the limits of the Surf plan. The mean revenue is 22.45, not far from the plan's cost which is 20$. We can also see that up to 20.39 are 50% of the users, which is few cents over the plan's cost. <br>\n",
    "Even the highest paying customer, is paying 53 dollars, which is much lower than 70 dollars of the Ultimate plan"
   ]
  },
  {
   "cell_type": "markdown",
   "metadata": {},
   "source": [
    "Histagram showing the users behavior for the main parameters of that plan."
   ]
  },
  {
   "cell_type": "code",
   "execution_count": 72,
   "metadata": {
    "scrolled": true
   },
   "outputs": [
    {
     "data": {
      "image/png": "[encoded data removed]",
      "text/plain": [
       "<Figure size 432x288 with 1 Axes>"
      ]
     },
     "metadata": {
      "needs_background": "light"
     },
     "output_type": "display_data"
    }
   ],
   "source": [
    "surf_net_calls_msgs['calls_count'].plot(kind='hist',title='calls_count histogram');\n",
    "plt.show();"
   ]
  },
  {
   "cell_type": "code",
   "execution_count": 78,
   "metadata": {},
   "outputs": [
    {
     "data": {
      "image/png": "[encoded data removed]",
      "text/plain": [
       "<Figure size 432x288 with 1 Axes>"
      ]
     },
     "metadata": {
      "needs_background": "light"
     },
     "output_type": "display_data"
    }
   ],
   "source": [
    "surf_net_calls_msgs['total_duration'].plot(kind='hist',title='total_duration (calls) histogram');\n",
    "plt.show();"
   ]
  },
  {
   "cell_type": "code",
   "execution_count": 79,
   "metadata": {},
   "outputs": [
    {
     "data": {
      "image/png": "[encoded data removed]",
      "text/plain": [
       "<Figure size 432x288 with 1 Axes>"
      ]
     },
     "metadata": {
      "needs_background": "light"
     },
     "output_type": "display_data"
    }
   ],
   "source": [
    "surf_net_calls_msgs['msg_count'].plot(kind='hist',title='msg_count histogram');\n",
    "plt.show();"
   ]
  },
  {
   "cell_type": "code",
   "execution_count": 80,
   "metadata": {},
   "outputs": [
    {
     "data": {
      "image/png": "[encoded data removed]",
      "text/plain": [
       "<Figure size 432x288 with 1 Axes>"
      ]
     },
     "metadata": {
      "needs_background": "light"
     },
     "output_type": "display_data"
    }
   ],
   "source": [
    "surf_net_calls_msgs['mb_used_GB'].plot(kind='hist',title='mb_used_GB histogram');\n",
    "plt.show();"
   ]
  },
  {
   "cell_type": "code",
   "execution_count": 77,
   "metadata": {},
   "outputs": [
    {
     "data": {
      "image/png": "[encoded data removed]",
      "text/plain": [
       "<Figure size 432x288 with 1 Axes>"
      ]
     },
     "metadata": {
      "needs_background": "light"
     },
     "output_type": "display_data"
    }
   ],
   "source": [
    "surf_net_calls_msgs['extra_payment_calls'].plot(kind='hist',title='extra_payment_calls histogram');\n",
    "plt.show();"
   ]
  },
  {
   "cell_type": "code",
   "execution_count": 76,
   "metadata": {},
   "outputs": [
    {
     "data": {
      "image/png": "[encoded data removed]",
      "text/plain": [
       "<Figure size 432x288 with 1 Axes>"
      ]
     },
     "metadata": {
      "needs_background": "light"
     },
     "output_type": "display_data"
    }
   ],
   "source": [
    "surf_net_calls_msgs['extra_payment_internet'].plot(kind='hist',title='extra_payment_internet histogram');\n",
    "plt.show();"
   ]
  },
  {
   "cell_type": "code",
   "execution_count": 75,
   "metadata": {},
   "outputs": [
    {
     "data": {
      "image/png": "[encoded data removed]",
      "text/plain": [
       "<Figure size 432x288 with 1 Axes>"
      ]
     },
     "metadata": {
      "needs_background": "light"
     },
     "output_type": "display_data"
    }
   ],
   "source": [
    "surf_net_calls_msgs['extra_payment_messages'].plot(kind='hist',title='extra_payment_messages histogram');\n",
    "plt.show();"
   ]
  },
  {
   "cell_type": "code",
   "execution_count": 73,
   "metadata": {},
   "outputs": [
    {
     "data": {
      "image/png": "[encoded data removed]",
      "text/plain": [
       "<Figure size 432x288 with 1 Axes>"
      ]
     },
     "metadata": {
      "needs_background": "light"
     },
     "output_type": "display_data"
    }
   ],
   "source": [
    "surf_net_calls_msgs['revenue'].plot(kind='hist',title='revenue histogram');\n",
    "plt.show();"
   ]
  },
  {
   "cell_type": "markdown",
   "metadata": {},
   "source": [
    "Looking at the histogram we can see that most of the users are staying within the limits of the plan, maybe deviate in few cents. From the describe function, 75% of the users are up to 23.25."
   ]
  },
  {
   "cell_type": "code",
   "execution_count": 81,
   "metadata": {},
   "outputs": [
    {
     "data": {
      "image/png": "[encoded data removed]",
      "text/plain": [
       "<Figure size 432x288 with 1 Axes>"
      ]
     },
     "metadata": {
      "needs_background": "light"
     },
     "output_type": "display_data"
    }
   ],
   "source": [
    "rev=surf_net_calls_msgs.query('revenue>23.25')['revenue']\n",
    "rev.plot(kind='hist', bins=80,title='4th quartile revenue histogram');\n",
    "plt.show();"
   ]
  },
  {
   "cell_type": "markdown",
   "metadata": {},
   "source": [
    "### Ultimate plan analysis"
   ]
  },
  {
   "cell_type": "markdown",
   "metadata": {},
   "source": [
    "<b>Ultimate</b>\n",
    "<ul>\n",
    "    <li>Monthly charge: $70</li>\n",
    "    <li>3000 monthly minutes, 1000 texts, and 30 GB of data</li>\n",
    "    <li>After exceeding the package limits:\n",
    "        <ul>\n",
    "        <li>1 minute: 1 cents</li>\n",
    "        <li>1 text message: 1 cents</li>\n",
    "        <li>1 GB of data: 7 dollars</li>\n",
    "        </ul>\n",
    "    </li>\n",
    "</ul>\n"
   ]
  },
  {
   "cell_type": "code",
   "execution_count": 43,
   "metadata": {},
   "outputs": [
    {
     "data": {
      "text/html": [
       "<div>\n",
       "<style scoped>\n",
       "    .dataframe tbody tr th:only-of-type {\n",
       "        vertical-align: middle;\n",
       "    }\n",
       "\n",
       "    .dataframe tbody tr th {\n",
       "        vertical-align: top;\n",
       "    }\n",
       "\n",
       "    .dataframe thead th {\n",
       "        text-align: right;\n",
       "    }\n",
       "</style>\n",
       "<table border=\"1\" class=\"dataframe\">\n",
       "  <thead>\n",
       "    <tr style=\"text-align: right;\">\n",
       "      <th></th>\n",
       "      <th>mb_used</th>\n",
       "      <th>mb_used_GB</th>\n",
       "      <th>extra_payment_internet</th>\n",
       "      <th>calls_count</th>\n",
       "      <th>total_duration</th>\n",
       "      <th>extra_payment_calls</th>\n",
       "      <th>msg_count</th>\n",
       "      <th>extra_payment_messages</th>\n",
       "      <th>revenue</th>\n",
       "    </tr>\n",
       "  </thead>\n",
       "  <tbody>\n",
       "    <tr>\n",
       "      <td>count</td>\n",
       "      <td>537.000000</td>\n",
       "      <td>537.000000</td>\n",
       "      <td>537.000000</td>\n",
       "      <td>537.000000</td>\n",
       "      <td>537.000000</td>\n",
       "      <td>537.0</td>\n",
       "      <td>537.000000</td>\n",
       "      <td>537.0</td>\n",
       "      <td>537.000000</td>\n",
       "    </tr>\n",
       "    <tr>\n",
       "      <td>mean</td>\n",
       "      <td>17354.912067</td>\n",
       "      <td>17.443203</td>\n",
       "      <td>0.003408</td>\n",
       "      <td>62.348231</td>\n",
       "      <td>443.132216</td>\n",
       "      <td>0.0</td>\n",
       "      <td>47.486034</td>\n",
       "      <td>0.0</td>\n",
       "      <td>70.003408</td>\n",
       "    </tr>\n",
       "    <tr>\n",
       "      <td>std</td>\n",
       "      <td>7760.756491</td>\n",
       "      <td>7.566190</td>\n",
       "      <td>0.016326</td>\n",
       "      <td>34.991680</td>\n",
       "      <td>253.332997</td>\n",
       "      <td>0.0</td>\n",
       "      <td>33.171427</td>\n",
       "      <td>0.0</td>\n",
       "      <td>0.016326</td>\n",
       "    </tr>\n",
       "    <tr>\n",
       "      <td>min</td>\n",
       "      <td>290.060000</td>\n",
       "      <td>1.000000</td>\n",
       "      <td>0.000000</td>\n",
       "      <td>2.000000</td>\n",
       "      <td>0.000000</td>\n",
       "      <td>0.0</td>\n",
       "      <td>1.000000</td>\n",
       "      <td>0.0</td>\n",
       "      <td>70.000000</td>\n",
       "    </tr>\n",
       "    <tr>\n",
       "      <td>25%</td>\n",
       "      <td>12728.120000</td>\n",
       "      <td>13.000000</td>\n",
       "      <td>0.000000</td>\n",
       "      <td>36.000000</td>\n",
       "      <td>259.000000</td>\n",
       "      <td>0.0</td>\n",
       "      <td>22.000000</td>\n",
       "      <td>0.0</td>\n",
       "      <td>70.000000</td>\n",
       "    </tr>\n",
       "    <tr>\n",
       "      <td>50%</td>\n",
       "      <td>16908.690000</td>\n",
       "      <td>17.000000</td>\n",
       "      <td>0.000000</td>\n",
       "      <td>61.000000</td>\n",
       "      <td>424.000000</td>\n",
       "      <td>0.0</td>\n",
       "      <td>42.000000</td>\n",
       "      <td>0.0</td>\n",
       "      <td>70.000000</td>\n",
       "    </tr>\n",
       "    <tr>\n",
       "      <td>75%</td>\n",
       "      <td>21003.900000</td>\n",
       "      <td>21.000000</td>\n",
       "      <td>0.000000</td>\n",
       "      <td>82.000000</td>\n",
       "      <td>583.000000</td>\n",
       "      <td>0.0</td>\n",
       "      <td>68.000000</td>\n",
       "      <td>0.0</td>\n",
       "      <td>70.000000</td>\n",
       "    </tr>\n",
       "    <tr>\n",
       "      <td>max</td>\n",
       "      <td>46595.330000</td>\n",
       "      <td>46.000000</td>\n",
       "      <td>0.160000</td>\n",
       "      <td>191.000000</td>\n",
       "      <td>1369.000000</td>\n",
       "      <td>0.0</td>\n",
       "      <td>166.000000</td>\n",
       "      <td>0.0</td>\n",
       "      <td>70.160000</td>\n",
       "    </tr>\n",
       "  </tbody>\n",
       "</table>\n",
       "</div>"
      ],
      "text/plain": [
       "            mb_used  mb_used_GB  extra_payment_internet  calls_count  \\\n",
       "count    537.000000  537.000000              537.000000   537.000000   \n",
       "mean   17354.912067   17.443203                0.003408    62.348231   \n",
       "std     7760.756491    7.566190                0.016326    34.991680   \n",
       "min      290.060000    1.000000                0.000000     2.000000   \n",
       "25%    12728.120000   13.000000                0.000000    36.000000   \n",
       "50%    16908.690000   17.000000                0.000000    61.000000   \n",
       "75%    21003.900000   21.000000                0.000000    82.000000   \n",
       "max    46595.330000   46.000000                0.160000   191.000000   \n",
       "\n",
       "       total_duration  extra_payment_calls   msg_count  \\\n",
       "count      537.000000                537.0  537.000000   \n",
       "mean       443.132216                  0.0   47.486034   \n",
       "std        253.332997                  0.0   33.171427   \n",
       "min          0.000000                  0.0    1.000000   \n",
       "25%        259.000000                  0.0   22.000000   \n",
       "50%        424.000000                  0.0   42.000000   \n",
       "75%        583.000000                  0.0   68.000000   \n",
       "max       1369.000000                  0.0  166.000000   \n",
       "\n",
       "       extra_payment_messages     revenue  \n",
       "count                   537.0  537.000000  \n",
       "mean                      0.0   70.003408  \n",
       "std                       0.0    0.016326  \n",
       "min                       0.0   70.000000  \n",
       "25%                       0.0   70.000000  \n",
       "50%                       0.0   70.000000  \n",
       "75%                       0.0   70.000000  \n",
       "max                       0.0   70.160000  "
      ]
     },
     "execution_count": 43,
     "metadata": {},
     "output_type": "execute_result"
    }
   ],
   "source": [
    "ultimate_net_calls_msgs.describe()"
   ]
  },
  {
   "cell_type": "markdown",
   "metadata": {},
   "source": [
    "From the describe function I see that there are almost no deviations from the Ultimate's plan limitations."
   ]
  },
  {
   "cell_type": "code",
   "execution_count": 44,
   "metadata": {},
   "outputs": [
    {
     "name": "stdout",
     "output_type": "stream",
     "text": [
      "The percent of users who deviated from the Ultimate plan's limitations are 5.77%\n"
     ]
    }
   ],
   "source": [
    "deviated_users=ultimate_net_calls_msgs.query('revenue>70')\n",
    "deviated_num=len(deviated_users)\n",
    "ultimate_user_num=len(ultimate_net_calls_msgs)\n",
    "pct_deviate_users=deviated_num/ultimate_user_num\n",
    "print(\"The percent of users who deviated from the Ultimate plan's limitations are {:.2%}\".format(pct_deviate_users))"
   ]
  },
  {
   "cell_type": "code",
   "execution_count": 89,
   "metadata": {},
   "outputs": [
    {
     "data": {
      "image/png": "[encoded data removed]",
      "text/plain": [
       "<Figure size 432x288 with 1 Axes>"
      ]
     },
     "metadata": {
      "needs_background": "light"
     },
     "output_type": "display_data"
    }
   ],
   "source": [
    "ultimate_net_calls_msgs['calls_count'].plot(kind='hist',title='calls_count histogram');\n",
    "plt.show();"
   ]
  },
  {
   "cell_type": "code",
   "execution_count": 88,
   "metadata": {},
   "outputs": [
    {
     "data": {
      "image/png": "[encoded data removed]",
      "text/plain": [
       "<Figure size 432x288 with 1 Axes>"
      ]
     },
     "metadata": {
      "needs_background": "light"
     },
     "output_type": "display_data"
    }
   ],
   "source": [
    "ultimate_net_calls_msgs['total_duration'].plot(kind='hist',title='total_duration (calls) histogram');\n",
    "plt.show();"
   ]
  },
  {
   "cell_type": "code",
   "execution_count": 87,
   "metadata": {},
   "outputs": [
    {
     "data": {
      "image/png": "[encoded data removed]",
      "text/plain": [
       "<Figure size 432x288 with 1 Axes>"
      ]
     },
     "metadata": {
      "needs_background": "light"
     },
     "output_type": "display_data"
    }
   ],
   "source": [
    "ultimate_net_calls_msgs['msg_count'].plot(kind='hist',title='msg_count histogram');\n",
    "plt.show();"
   ]
  },
  {
   "cell_type": "code",
   "execution_count": 86,
   "metadata": {},
   "outputs": [
    {
     "data": {
      "image/png": "[encoded data removed]",
      "text/plain": [
       "<Figure size 432x288 with 1 Axes>"
      ]
     },
     "metadata": {
      "needs_background": "light"
     },
     "output_type": "display_data"
    }
   ],
   "source": [
    "ultimate_net_calls_msgs['mb_used_GB'].plot(kind='hist',title='mb_used_GB histogram');\n",
    "plt.show();"
   ]
  },
  {
   "cell_type": "code",
   "execution_count": 85,
   "metadata": {},
   "outputs": [
    {
     "data": {
      "image/png": "[encoded data removed]",
      "text/plain": [
       "<Figure size 432x288 with 1 Axes>"
      ]
     },
     "metadata": {
      "needs_background": "light"
     },
     "output_type": "display_data"
    }
   ],
   "source": [
    "ultimate_net_calls_msgs['extra_payment_calls'].plot(kind='hist',title='extra_payment_calls histogram');\n",
    "plt.show();"
   ]
  },
  {
   "cell_type": "code",
   "execution_count": 84,
   "metadata": {},
   "outputs": [
    {
     "data": {
      "image/png": "[encoded data removed]",
      "text/plain": [
       "<Figure size 432x288 with 1 Axes>"
      ]
     },
     "metadata": {
      "needs_background": "light"
     },
     "output_type": "display_data"
    }
   ],
   "source": [
    "ultimate_net_calls_msgs['extra_payment_messages'].plot(kind='hist',title='extra_payment_messages histogram');\n",
    "plt.show();"
   ]
  },
  {
   "cell_type": "code",
   "execution_count": 90,
   "metadata": {},
   "outputs": [
    {
     "data": {
      "image/png": "[encoded data removed]",
      "text/plain": [
       "<Figure size 432x288 with 1 Axes>"
      ]
     },
     "metadata": {
      "needs_background": "light"
     },
     "output_type": "display_data"
    }
   ],
   "source": [
    "ultimate_net_calls_msgs['extra_payment_internet'].plot(kind='hist',title='extra_payment_internet histogram');\n",
    "plt.show();"
   ]
  },
  {
   "cell_type": "code",
   "execution_count": 82,
   "metadata": {},
   "outputs": [
    {
     "data": {
      "image/png": "[encoded data removed]",
      "text/plain": [
       "<Figure size 432x288 with 1 Axes>"
      ]
     },
     "metadata": {
      "needs_background": "light"
     },
     "output_type": "display_data"
    }
   ],
   "source": [
    "ultimate_net_calls_msgs['revenue'].plot(kind='hist',title='revenue histogram');\n",
    "plt.show();"
   ]
  },
  {
   "cell_type": "markdown",
   "metadata": {},
   "source": [
    "The only deviation is at the data consumption. Every GB consumed over 30 is a deviation."
   ]
  },
  {
   "cell_type": "code",
   "execution_count": 61,
   "metadata": {},
   "outputs": [
    {
     "data": {
      "image/png": "[encoded data removed]",
      "text/plain": [
       "<Figure size 432x288 with 1 Axes>"
      ]
     },
     "metadata": {
      "needs_background": "light"
     },
     "output_type": "display_data"
    }
   ],
   "source": [
    "deviated_users['mb_used_GB'].plot(kind='hist',title='Ultimate plan diviations in data consumption histogram (data in GB)')\n",
    "plt.show();"
   ]
  },
  {
   "cell_type": "markdown",
   "metadata": {},
   "source": [
    "Although there are almost no deviations from the plan's limitation, and therefore there are no extra payments, each user is paying 70 dollars, which is much more than the cost of the Surf plan."
   ]
  },
  {
   "cell_type": "markdown",
   "metadata": {},
   "source": [
    "## Test the hypothesis"
   ]
  },
  {
   "cell_type": "markdown",
   "metadata": {},
   "source": [
    "###\tThe average revenue from users of Ultimate and Surf calling plans differs."
   ]
  },
  {
   "cell_type": "markdown",
   "metadata": {},
   "source": [
    "The Surf plan is much smaller in all aspects than the Ultimate plan (number of messages, minutes, and data package size). A small plan leads to exceeding the free quota and paying extra fees. I saw earlier that the Ultimate plan users almost don't pay extra fees.<br>\n",
    "The null hypothesis is that users from both plans pays the same avaregly.\n",
    "The alternative hypothesis that I want to check is whether the average revenue from users of Ultimate and Surf calling plans differs.\n",
    "<br><br>\n",
    "To check it, I'll calculate the avarege revenue for both groups."
   ]
  },
  {
   "cell_type": "code",
   "execution_count": 47,
   "metadata": {},
   "outputs": [
    {
     "data": {
      "text/plain": [
       "70.00340782122905"
      ]
     },
     "execution_count": 47,
     "metadata": {},
     "output_type": "execute_result"
    },
    {
     "data": {
      "text/plain": [
       "22.450896739130435"
      ]
     },
     "execution_count": 47,
     "metadata": {},
     "output_type": "execute_result"
    },
    {
     "data": {
      "text/plain": [
       "3.118067337560629"
      ]
     },
     "execution_count": 47,
     "metadata": {},
     "output_type": "execute_result"
    }
   ],
   "source": [
    "ultimate_net_calls_msgs['revenue'].mean()\n",
    "surf_net_calls_msgs['revenue'].mean()\n",
    "ultimate_net_calls_msgs['revenue'].mean()/surf_net_calls_msgs['revenue'].mean()"
   ]
  },
  {
   "cell_type": "markdown",
   "metadata": {},
   "source": [
    "I got that there is a significant difference between the 2 groups revenue. The Ultimate plan's average revenue is more than 3 times bigger than the surf's plan average revenue. No metter how much extra fees are paid, the average revenue from the Ultimate plan is significantly bigger."
   ]
  },
  {
   "cell_type": "markdown",
   "metadata": {},
   "source": [
    "###\tThe average revenue from users in NY-NJ area is different from that of the users from other regions."
   ]
  },
  {
   "cell_type": "markdown",
   "metadata": {},
   "source": [
    "The null hypothesis is that although the users come from different areas, the average revenue for each group will be the same.<br>\n",
    "The alternative hypothesis that I need to check is wether the average revenue from users in the NY-NJ area is different from that of the users from other regions."
   ]
  },
  {
   "cell_type": "markdown",
   "metadata": {},
   "source": [
    "First of all, I'm creating 2 datasets, 1 for users from NY-NJ, the other dataset is from all other areas."
   ]
  },
  {
   "cell_type": "code",
   "execution_count": 48,
   "metadata": {},
   "outputs": [
    {
     "data": {
      "text/html": [
       "<div>\n",
       "<style scoped>\n",
       "    .dataframe tbody tr th:only-of-type {\n",
       "        vertical-align: middle;\n",
       "    }\n",
       "\n",
       "    .dataframe tbody tr th {\n",
       "        vertical-align: top;\n",
       "    }\n",
       "\n",
       "    .dataframe thead th {\n",
       "        text-align: right;\n",
       "    }\n",
       "</style>\n",
       "<table border=\"1\" class=\"dataframe\">\n",
       "  <thead>\n",
       "    <tr style=\"text-align: right;\">\n",
       "      <th></th>\n",
       "      <th>user_id</th>\n",
       "      <th>city</th>\n",
       "    </tr>\n",
       "  </thead>\n",
       "  <tbody>\n",
       "    <tr>\n",
       "      <td>0</td>\n",
       "      <td>1000</td>\n",
       "      <td>Atlanta-Sandy Springs-Roswell, GA MSA</td>\n",
       "    </tr>\n",
       "    <tr>\n",
       "      <td>1</td>\n",
       "      <td>1001</td>\n",
       "      <td>Seattle-Tacoma-Bellevue, WA MSA</td>\n",
       "    </tr>\n",
       "    <tr>\n",
       "      <td>2</td>\n",
       "      <td>1002</td>\n",
       "      <td>Las Vegas-Henderson-Paradise, NV MSA</td>\n",
       "    </tr>\n",
       "  </tbody>\n",
       "</table>\n",
       "</div>"
      ],
      "text/plain": [
       "   user_id                                   city\n",
       "0     1000  Atlanta-Sandy Springs-Roswell, GA MSA\n",
       "1     1001        Seattle-Tacoma-Bellevue, WA MSA\n",
       "2     1002   Las Vegas-Henderson-Paradise, NV MSA"
      ]
     },
     "execution_count": 48,
     "metadata": {},
     "output_type": "execute_result"
    }
   ],
   "source": [
    "df_user_city=df_users[['user_id','city']]\n",
    "df_user_city.head(3)"
   ]
  },
  {
   "cell_type": "code",
   "execution_count": 49,
   "metadata": {},
   "outputs": [
    {
     "data": {
      "text/html": [
       "<div>\n",
       "<style scoped>\n",
       "    .dataframe tbody tr th:only-of-type {\n",
       "        vertical-align: middle;\n",
       "    }\n",
       "\n",
       "    .dataframe tbody tr th {\n",
       "        vertical-align: top;\n",
       "    }\n",
       "\n",
       "    .dataframe thead th {\n",
       "        text-align: right;\n",
       "    }\n",
       "</style>\n",
       "<table border=\"1\" class=\"dataframe\">\n",
       "  <thead>\n",
       "    <tr style=\"text-align: right;\">\n",
       "      <th></th>\n",
       "      <th>user_id</th>\n",
       "      <th>mb_used</th>\n",
       "      <th>mb_used_GB</th>\n",
       "      <th>extra_payment_internet</th>\n",
       "      <th>calls_count</th>\n",
       "      <th>total_duration</th>\n",
       "      <th>extra_payment_calls</th>\n",
       "      <th>msg_count</th>\n",
       "      <th>extra_payment_messages</th>\n",
       "      <th>revenue</th>\n",
       "      <th>city</th>\n",
       "    </tr>\n",
       "  </thead>\n",
       "  <tbody>\n",
       "    <tr>\n",
       "      <td>0</td>\n",
       "      <td>1014</td>\n",
       "      <td>1175.59</td>\n",
       "      <td>2.0</td>\n",
       "      <td>0.0</td>\n",
       "      <td>28</td>\n",
       "      <td>163.0</td>\n",
       "      <td>0.00</td>\n",
       "      <td>9</td>\n",
       "      <td>0.00</td>\n",
       "      <td>20.00</td>\n",
       "      <td>New York-Newark-Jersey City, NY-NJ-PA MSA</td>\n",
       "    </tr>\n",
       "    <tr>\n",
       "      <td>1</td>\n",
       "      <td>1014</td>\n",
       "      <td>7792.41</td>\n",
       "      <td>8.0</td>\n",
       "      <td>0.0</td>\n",
       "      <td>150</td>\n",
       "      <td>1114.0</td>\n",
       "      <td>18.42</td>\n",
       "      <td>64</td>\n",
       "      <td>0.42</td>\n",
       "      <td>38.84</td>\n",
       "      <td>New York-Newark-Jersey City, NY-NJ-PA MSA</td>\n",
       "    </tr>\n",
       "  </tbody>\n",
       "</table>\n",
       "</div>"
      ],
      "text/plain": [
       "   user_id  mb_used  mb_used_GB  extra_payment_internet  calls_count  \\\n",
       "0     1014  1175.59         2.0                     0.0           28   \n",
       "1     1014  7792.41         8.0                     0.0          150   \n",
       "\n",
       "   total_duration  extra_payment_calls  msg_count  extra_payment_messages  \\\n",
       "0           163.0                 0.00          9                    0.00   \n",
       "1          1114.0                18.42         64                    0.42   \n",
       "\n",
       "   revenue                                       city  \n",
       "0    20.00  New York-Newark-Jersey City, NY-NJ-PA MSA  \n",
       "1    38.84  New York-Newark-Jersey City, NY-NJ-PA MSA  "
      ]
     },
     "execution_count": 49,
     "metadata": {},
     "output_type": "execute_result"
    },
    {
     "data": {
      "text/html": [
       "<div>\n",
       "<style scoped>\n",
       "    .dataframe tbody tr th:only-of-type {\n",
       "        vertical-align: middle;\n",
       "    }\n",
       "\n",
       "    .dataframe tbody tr th {\n",
       "        vertical-align: top;\n",
       "    }\n",
       "\n",
       "    .dataframe thead th {\n",
       "        text-align: right;\n",
       "    }\n",
       "</style>\n",
       "<table border=\"1\" class=\"dataframe\">\n",
       "  <thead>\n",
       "    <tr style=\"text-align: right;\">\n",
       "      <th></th>\n",
       "      <th>user_id</th>\n",
       "      <th>mb_used</th>\n",
       "      <th>mb_used_GB</th>\n",
       "      <th>extra_payment_internet</th>\n",
       "      <th>calls_count</th>\n",
       "      <th>total_duration</th>\n",
       "      <th>extra_payment_calls</th>\n",
       "      <th>msg_count</th>\n",
       "      <th>extra_payment_messages</th>\n",
       "      <th>revenue</th>\n",
       "      <th>city</th>\n",
       "    </tr>\n",
       "  </thead>\n",
       "  <tbody>\n",
       "    <tr>\n",
       "      <td>0</td>\n",
       "      <td>1000</td>\n",
       "      <td>1901.47</td>\n",
       "      <td>2.0</td>\n",
       "      <td>0.0</td>\n",
       "      <td>16</td>\n",
       "      <td>124.0</td>\n",
       "      <td>0.0</td>\n",
       "      <td>11</td>\n",
       "      <td>0.0</td>\n",
       "      <td>70.0</td>\n",
       "      <td>Atlanta-Sandy Springs-Roswell, GA MSA</td>\n",
       "    </tr>\n",
       "    <tr>\n",
       "      <td>1</td>\n",
       "      <td>1001</td>\n",
       "      <td>6919.15</td>\n",
       "      <td>7.0</td>\n",
       "      <td>0.0</td>\n",
       "      <td>27</td>\n",
       "      <td>182.0</td>\n",
       "      <td>0.0</td>\n",
       "      <td>30</td>\n",
       "      <td>0.0</td>\n",
       "      <td>20.0</td>\n",
       "      <td>Seattle-Tacoma-Bellevue, WA MSA</td>\n",
       "    </tr>\n",
       "  </tbody>\n",
       "</table>\n",
       "</div>"
      ],
      "text/plain": [
       "   user_id  mb_used  mb_used_GB  extra_payment_internet  calls_count  \\\n",
       "0     1000  1901.47         2.0                     0.0           16   \n",
       "1     1001  6919.15         7.0                     0.0           27   \n",
       "\n",
       "   total_duration  extra_payment_calls  msg_count  extra_payment_messages  \\\n",
       "0           124.0                  0.0         11                     0.0   \n",
       "1           182.0                  0.0         30                     0.0   \n",
       "\n",
       "   revenue                                   city  \n",
       "0     70.0  Atlanta-Sandy Springs-Roswell, GA MSA  \n",
       "1     20.0        Seattle-Tacoma-Bellevue, WA MSA  "
      ]
     },
     "execution_count": 49,
     "metadata": {},
     "output_type": "execute_result"
    }
   ],
   "source": [
    "df_ny_users=df_user_city.query('city.str.contains(\"NY-NJ\")')\n",
    "df_not_ny_users=df_user_city.query('~city.str.contains(\"NY-NJ\")')\n",
    "\n",
    "net_calls_msgs_ny=net_calls_msgs.merge(df_ny_users, on='user_id', how='inner')\n",
    "net_calls_msgs_not_ny=net_calls_msgs.merge(df_not_ny_users, on='user_id', how='inner')\n",
    "\n",
    "net_calls_msgs_ny.head(2)\n",
    "net_calls_msgs_not_ny.head(2)"
   ]
  },
  {
   "cell_type": "markdown",
   "metadata": {},
   "source": [
    "To check the hypothesis, I'll compare the hypothesis on the equality of two population means"
   ]
  },
  {
   "cell_type": "code",
   "execution_count": 50,
   "metadata": {},
   "outputs": [
    {
     "name": "stdout",
     "output_type": "stream",
     "text": [
      "We reject the null hypothesis\n"
     ]
    }
   ],
   "source": [
    "results = st.ttest_ind(net_calls_msgs_not_ny['revenue'],net_calls_msgs_ny['revenue'])\n",
    "alpha = 0.05  # critical statistical significance level\n",
    "if results.pvalue < alpha:\n",
    "    print(\"We reject the null hypothesis\")\n",
    "else:\n",
    "    print(\"We can't reject the null hypothesis\") "
   ]
  },
  {
   "cell_type": "markdown",
   "metadata": {},
   "source": [
    "The alpha that I used is the margins on both sides of the normal distributions Gaus curve. I used a value of 5% (2.5% from each side of the graph) as it is the commonly used value for the rejected values."
   ]
  },
  {
   "cell_type": "markdown",
   "metadata": {},
   "source": [
    "## overall conclusion"
   ]
  },
  {
   "cell_type": "markdown",
   "metadata": {},
   "source": [
    "The average revenue from users from the Ultimate plan is significantly higher than the revenue from the Surf plan.<br>\n",
    "Since there are some missing data regarding the operational cost of each service Megaline lets its users consume, I can't calculate the cost of each user to Megaline, so I can't tell whether this user is profitable. Therefore, the more the customer pays, the higher the revenue is.\n",
    "<br><br>\n",
    "My suggestion to the advertising team is to try to get more users to the Ultimate plan"
   ]
  }
 ],
 "metadata": {
  "ExecuteTimeLog": [
   {
    "duration": 2188,
    "start_time": "2021-07-29T17:51:43.259Z"
   },
   {
    "duration": 403,
    "start_time": "2021-07-29T17:51:46.156Z"
   },
   {
    "duration": 8,
    "start_time": "2021-07-29T17:52:03.562Z"
   },
   {
    "duration": 406,
    "start_time": "2021-07-29T17:55:56.537Z"
   },
   {
    "duration": 428,
    "start_time": "2021-07-29T17:56:55.032Z"
   },
   {
    "duration": 405,
    "start_time": "2021-07-29T17:58:48.008Z"
   },
   {
    "duration": 498,
    "start_time": "2021-07-29T17:59:06.720Z"
   },
   {
    "duration": 4523,
    "start_time": "2021-07-29T17:59:35.851Z"
   },
   {
    "duration": 1678,
    "start_time": "2021-07-29T18:00:22.216Z"
   },
   {
    "duration": 1743,
    "start_time": "2021-07-29T18:01:46.945Z"
   },
   {
    "duration": 1765,
    "start_time": "2021-07-29T18:02:34.007Z"
   },
   {
    "duration": -791,
    "start_time": "2021-07-30T07:13:36.950Z"
   },
   {
    "duration": 386,
    "start_time": "2021-07-30T07:13:38.385Z"
   },
   {
    "duration": 417,
    "start_time": "2021-07-30T07:13:56.845Z"
   },
   {
    "duration": 406,
    "start_time": "2021-07-30T07:14:00.497Z"
   },
   {
    "duration": 3179,
    "start_time": "2021-07-30T07:14:08.753Z"
   },
   {
    "duration": 23,
    "start_time": "2021-07-30T07:14:11.935Z"
   },
   {
    "duration": 23,
    "start_time": "2021-07-30T07:16:22.559Z"
   },
   {
    "duration": 674,
    "start_time": "2021-07-30T07:16:53.380Z"
   },
   {
    "duration": 13,
    "start_time": "2021-07-30T07:17:08.373Z"
   },
   {
    "duration": 436,
    "start_time": "2021-07-30T07:17:17.530Z"
   },
   {
    "duration": 451,
    "start_time": "2021-07-30T07:17:26.717Z"
   },
   {
    "duration": 457,
    "start_time": "2021-07-30T07:21:26.497Z"
   },
   {
    "duration": 14,
    "start_time": "2021-07-30T07:23:18.030Z"
   },
   {
    "duration": 26,
    "start_time": "2021-07-30T07:23:28.171Z"
   },
   {
    "duration": 12,
    "start_time": "2021-07-30T07:23:39.043Z"
   },
   {
    "duration": 23,
    "start_time": "2021-07-30T07:24:03.607Z"
   },
   {
    "duration": 14,
    "start_time": "2021-07-30T07:25:36.893Z"
   },
   {
    "duration": 12,
    "start_time": "2021-07-30T07:25:59.842Z"
   },
   {
    "duration": 16,
    "start_time": "2021-07-30T07:27:15.229Z"
   },
   {
    "duration": 14,
    "start_time": "2021-07-30T07:35:32.574Z"
   },
   {
    "duration": 7,
    "start_time": "2021-07-30T07:39:46.332Z"
   },
   {
    "duration": 27,
    "start_time": "2021-07-30T07:40:19.524Z"
   },
   {
    "duration": 14,
    "start_time": "2021-07-30T07:40:31.562Z"
   },
   {
    "duration": 3262,
    "start_time": "2021-07-30T07:40:49.409Z"
   },
   {
    "duration": 14,
    "start_time": "2021-07-30T07:40:52.674Z"
   },
   {
    "duration": 24,
    "start_time": "2021-07-30T07:40:52.691Z"
   },
   {
    "duration": 24,
    "start_time": "2021-07-30T07:40:52.717Z"
   },
   {
    "duration": 8,
    "start_time": "2021-07-30T07:44:12.791Z"
   },
   {
    "duration": 1778,
    "start_time": "2021-07-30T07:44:37.928Z"
   },
   {
    "duration": 14,
    "start_time": "2021-07-30T07:46:06.805Z"
   },
   {
    "duration": 18,
    "start_time": "2021-07-30T07:46:55.547Z"
   },
   {
    "duration": 17,
    "start_time": "2021-07-30T07:51:32.619Z"
   },
   {
    "duration": 29,
    "start_time": "2021-07-30T07:52:41.897Z"
   },
   {
    "duration": 17,
    "start_time": "2021-07-30T07:53:10.582Z"
   },
   {
    "duration": 191,
    "start_time": "2021-07-30T07:59:42.578Z"
   },
   {
    "duration": 524,
    "start_time": "2021-07-30T10:13:24.568Z"
   },
   {
    "duration": 3559,
    "start_time": "2021-07-30T10:13:38.707Z"
   },
   {
    "duration": 12,
    "start_time": "2021-07-30T10:13:42.269Z"
   },
   {
    "duration": 28,
    "start_time": "2021-07-30T10:13:42.285Z"
   },
   {
    "duration": 622,
    "start_time": "2021-07-30T10:13:42.316Z"
   },
   {
    "duration": -713,
    "start_time": "2021-07-30T10:13:43.654Z"
   },
   {
    "duration": -715,
    "start_time": "2021-07-30T10:13:43.657Z"
   },
   {
    "duration": -808,
    "start_time": "2021-07-30T10:13:43.751Z"
   },
   {
    "duration": 23,
    "start_time": "2021-07-30T10:24:54.644Z"
   },
   {
    "duration": 2433,
    "start_time": "2021-07-30T10:27:14.648Z"
   },
   {
    "duration": 6,
    "start_time": "2021-07-30T10:27:25.932Z"
   },
   {
    "duration": 36,
    "start_time": "2021-07-30T10:27:35.965Z"
   },
   {
    "duration": 30,
    "start_time": "2021-07-30T10:28:40.115Z"
   },
   {
    "duration": 14,
    "start_time": "2021-07-30T10:28:51.671Z"
   },
   {
    "duration": 4,
    "start_time": "2021-07-30T10:53:35.010Z"
   },
   {
    "duration": 1739,
    "start_time": "2021-07-30T10:59:11.605Z"
   },
   {
    "duration": 13,
    "start_time": "2021-07-30T10:59:22.980Z"
   },
   {
    "duration": 9,
    "start_time": "2021-07-30T10:59:31.815Z"
   },
   {
    "duration": 16,
    "start_time": "2021-07-30T10:59:40.786Z"
   },
   {
    "duration": 14,
    "start_time": "2021-07-30T10:59:45.412Z"
   },
   {
    "duration": 1757,
    "start_time": "2021-07-30T11:00:08.271Z"
   },
   {
    "duration": 12,
    "start_time": "2021-07-30T11:00:13.575Z"
   },
   {
    "duration": 12,
    "start_time": "2021-07-30T11:01:31.178Z"
   },
   {
    "duration": 24,
    "start_time": "2021-07-30T11:37:46.985Z"
   },
   {
    "duration": 46,
    "start_time": "2021-07-30T11:43:23.182Z"
   },
   {
    "duration": 4082,
    "start_time": "2021-07-30T11:43:43.945Z"
   },
   {
    "duration": 16,
    "start_time": "2021-07-30T11:43:48.030Z"
   },
   {
    "duration": 11,
    "start_time": "2021-07-30T11:43:48.049Z"
   },
   {
    "duration": 13,
    "start_time": "2021-07-30T11:43:48.064Z"
   },
   {
    "duration": 14,
    "start_time": "2021-07-30T11:43:48.080Z"
   },
   {
    "duration": 20,
    "start_time": "2021-07-30T11:43:48.098Z"
   },
   {
    "duration": 11,
    "start_time": "2021-07-30T11:43:48.120Z"
   },
   {
    "duration": 57,
    "start_time": "2021-07-30T11:43:48.135Z"
   },
   {
    "duration": 16,
    "start_time": "2021-07-30T11:43:48.203Z"
   },
   {
    "duration": 24,
    "start_time": "2021-07-30T11:43:48.221Z"
   },
   {
    "duration": 40,
    "start_time": "2021-07-30T11:43:48.248Z"
   },
   {
    "duration": 18,
    "start_time": "2021-07-30T11:43:48.291Z"
   },
   {
    "duration": 19,
    "start_time": "2021-07-30T11:43:48.311Z"
   },
   {
    "duration": 70,
    "start_time": "2021-07-30T11:43:48.332Z"
   },
   {
    "duration": 46,
    "start_time": "2021-07-30T11:44:02.912Z"
   },
   {
    "duration": 40,
    "start_time": "2021-07-30T11:44:20.120Z"
   },
   {
    "duration": 19,
    "start_time": "2021-07-30T11:55:26.079Z"
   },
   {
    "duration": 41,
    "start_time": "2021-07-30T12:13:46.964Z"
   },
   {
    "duration": 28,
    "start_time": "2021-07-30T12:14:04.943Z"
   },
   {
    "duration": 12,
    "start_time": "2021-07-30T12:53:16.563Z"
   },
   {
    "duration": 11,
    "start_time": "2021-07-30T12:53:22.362Z"
   },
   {
    "duration": 144,
    "start_time": "2021-07-30T12:53:54.474Z"
   },
   {
    "duration": 27,
    "start_time": "2021-07-30T12:54:09.821Z"
   },
   {
    "duration": 36,
    "start_time": "2021-07-30T12:54:38.766Z"
   },
   {
    "duration": 28,
    "start_time": "2021-07-30T12:54:46.449Z"
   },
   {
    "duration": 41,
    "start_time": "2021-07-30T12:55:50.810Z"
   },
   {
    "duration": 17,
    "start_time": "2021-07-30T12:56:44.841Z"
   },
   {
    "duration": 11,
    "start_time": "2021-07-30T12:56:58.225Z"
   },
   {
    "duration": 18,
    "start_time": "2021-07-30T12:59:29.543Z"
   },
   {
    "duration": 15,
    "start_time": "2021-07-30T13:01:14.012Z"
   },
   {
    "duration": 15,
    "start_time": "2021-07-30T13:01:21.967Z"
   },
   {
    "duration": 40,
    "start_time": "2021-07-30T13:42:10.830Z"
   },
   {
    "duration": 28,
    "start_time": "2021-07-30T13:42:35.158Z"
   },
   {
    "duration": 544,
    "start_time": "2021-07-30T13:43:59.860Z"
   },
   {
    "duration": 54,
    "start_time": "2021-07-30T13:45:43.351Z"
   },
   {
    "duration": 93,
    "start_time": "2021-07-30T13:45:56.809Z"
   },
   {
    "duration": 3,
    "start_time": "2021-07-30T13:54:30.490Z"
   },
   {
    "duration": 3,
    "start_time": "2021-07-30T13:54:35.941Z"
   },
   {
    "duration": 3,
    "start_time": "2021-07-30T13:54:39.518Z"
   },
   {
    "duration": 11,
    "start_time": "2021-07-30T13:56:12.773Z"
   },
   {
    "duration": 10,
    "start_time": "2021-07-30T13:56:17.317Z"
   },
   {
    "duration": 39,
    "start_time": "2021-07-30T13:56:54.428Z"
   },
   {
    "duration": 18,
    "start_time": "2021-07-30T13:57:15.996Z"
   },
   {
    "duration": 50,
    "start_time": "2021-07-30T13:57:58.895Z"
   },
   {
    "duration": 61,
    "start_time": "2021-07-30T13:59:08.067Z"
   },
   {
    "duration": 148,
    "start_time": "2021-07-30T13:59:55.550Z"
   },
   {
    "duration": 25,
    "start_time": "2021-07-30T14:01:45.466Z"
   },
   {
    "duration": 117,
    "start_time": "2021-07-30T14:02:00.887Z"
   },
   {
    "duration": 108,
    "start_time": "2021-07-30T14:02:15.371Z"
   },
   {
    "duration": 67,
    "start_time": "2021-07-30T14:02:31.308Z"
   },
   {
    "duration": 12,
    "start_time": "2021-07-30T14:02:43.256Z"
   },
   {
    "duration": 56,
    "start_time": "2021-07-30T14:06:59.996Z"
   },
   {
    "duration": 75,
    "start_time": "2021-07-30T14:07:39.448Z"
   },
   {
    "duration": 49,
    "start_time": "2021-07-30T14:07:46.036Z"
   },
   {
    "duration": 32,
    "start_time": "2021-07-30T14:08:47.364Z"
   },
   {
    "duration": 12,
    "start_time": "2021-07-30T14:14:10.414Z"
   },
   {
    "duration": 663,
    "start_time": "2021-07-30T14:19:36.929Z"
   },
   {
    "duration": 9,
    "start_time": "2021-07-30T14:19:51.916Z"
   },
   {
    "duration": 1207,
    "start_time": "2021-07-30T14:20:15.609Z"
   },
   {
    "duration": 7,
    "start_time": "2021-07-30T14:20:30.693Z"
   },
   {
    "duration": 6,
    "start_time": "2021-07-30T14:21:32.332Z"
   },
   {
    "duration": 6,
    "start_time": "2021-07-30T14:23:05.612Z"
   },
   {
    "duration": 5,
    "start_time": "2021-07-30T14:23:29.279Z"
   },
   {
    "duration": 4,
    "start_time": "2021-07-30T14:23:39.017Z"
   },
   {
    "duration": 5,
    "start_time": "2021-07-30T14:23:50.350Z"
   },
   {
    "duration": 5,
    "start_time": "2021-07-30T14:25:25.280Z"
   },
   {
    "duration": 7,
    "start_time": "2021-07-30T14:28:22.689Z"
   },
   {
    "duration": 14,
    "start_time": "2021-07-30T14:29:36.095Z"
   },
   {
    "duration": 19,
    "start_time": "2021-07-30T14:30:11.800Z"
   },
   {
    "duration": 401,
    "start_time": "2021-07-30T14:31:09.540Z"
   },
   {
    "duration": 17,
    "start_time": "2021-07-30T14:31:17.321Z"
   },
   {
    "duration": 23,
    "start_time": "2021-07-30T14:33:19.017Z"
   },
   {
    "duration": 24,
    "start_time": "2021-07-30T14:33:34.091Z"
   },
   {
    "duration": 32,
    "start_time": "2021-07-30T15:46:12.339Z"
   },
   {
    "duration": 297,
    "start_time": "2021-07-31T19:50:25.270Z"
   },
   {
    "duration": 2014,
    "start_time": "2021-07-31T19:50:42.152Z"
   },
   {
    "duration": 11,
    "start_time": "2021-07-31T19:50:44.168Z"
   },
   {
    "duration": 9,
    "start_time": "2021-07-31T19:50:44.180Z"
   },
   {
    "duration": 7,
    "start_time": "2021-07-31T19:50:44.191Z"
   },
   {
    "duration": 8,
    "start_time": "2021-07-31T19:50:44.199Z"
   },
   {
    "duration": 8,
    "start_time": "2021-07-31T19:50:44.209Z"
   },
   {
    "duration": 7,
    "start_time": "2021-07-31T19:50:44.219Z"
   },
   {
    "duration": 13,
    "start_time": "2021-07-31T19:50:44.228Z"
   },
   {
    "duration": 3,
    "start_time": "2021-07-31T19:50:44.243Z"
   },
   {
    "duration": 64,
    "start_time": "2021-07-31T19:50:44.247Z"
   },
   {
    "duration": 8,
    "start_time": "2021-07-31T19:50:44.313Z"
   },
   {
    "duration": 11,
    "start_time": "2021-07-31T19:50:44.323Z"
   },
   {
    "duration": 7,
    "start_time": "2021-07-31T19:50:44.335Z"
   },
   {
    "duration": 10,
    "start_time": "2021-07-31T19:50:44.343Z"
   },
   {
    "duration": 48,
    "start_time": "2021-07-31T19:50:44.354Z"
   },
   {
    "duration": 23,
    "start_time": "2021-07-31T19:50:44.404Z"
   },
   {
    "duration": 43,
    "start_time": "2021-07-31T19:50:44.428Z"
   },
   {
    "duration": 23,
    "start_time": "2021-07-31T19:50:44.473Z"
   },
   {
    "duration": 24,
    "start_time": "2021-07-31T19:50:44.498Z"
   },
   {
    "duration": 21,
    "start_time": "2021-07-31T19:50:44.524Z"
   },
   {
    "duration": 9,
    "start_time": "2021-07-31T19:50:44.546Z"
   },
   {
    "duration": 44,
    "start_time": "2021-07-31T19:50:44.557Z"
   },
   {
    "duration": 9,
    "start_time": "2021-07-31T19:50:44.603Z"
   },
   {
    "duration": 12,
    "start_time": "2021-07-31T19:51:18.592Z"
   },
   {
    "duration": 3,
    "start_time": "2021-07-31T19:56:51.157Z"
   },
   {
    "duration": 335,
    "start_time": "2021-07-31T20:30:12.646Z"
   },
   {
    "duration": 15,
    "start_time": "2021-07-31T20:30:56.228Z"
   },
   {
    "duration": 19,
    "start_time": "2021-07-31T20:37:05.522Z"
   },
   {
    "duration": 30,
    "start_time": "2021-07-31T20:39:48.621Z"
   },
   {
    "duration": 11,
    "start_time": "2021-07-31T20:40:06.483Z"
   },
   {
    "duration": 2,
    "start_time": "2021-07-31T21:04:05.562Z"
   },
   {
    "duration": 3,
    "start_time": "2021-07-31T21:24:35.900Z"
   },
   {
    "duration": 402,
    "start_time": "2021-07-31T21:26:43.190Z"
   },
   {
    "duration": 7,
    "start_time": "2021-07-31T21:26:49.128Z"
   },
   {
    "duration": 2,
    "start_time": "2021-07-31T21:32:14.749Z"
   },
   {
    "duration": 9,
    "start_time": "2021-07-31T21:33:13.255Z"
   },
   {
    "duration": 6,
    "start_time": "2021-07-31T21:33:29.852Z"
   },
   {
    "duration": 332,
    "start_time": "2021-08-01T21:12:51.809Z"
   },
   {
    "duration": 2237,
    "start_time": "2021-08-01T21:13:02.660Z"
   },
   {
    "duration": 11,
    "start_time": "2021-08-01T21:13:04.898Z"
   },
   {
    "duration": 10,
    "start_time": "2021-08-01T21:13:04.911Z"
   },
   {
    "duration": 11,
    "start_time": "2021-08-01T21:13:04.923Z"
   },
   {
    "duration": 12,
    "start_time": "2021-08-01T21:13:04.936Z"
   },
   {
    "duration": 12,
    "start_time": "2021-08-01T21:13:04.949Z"
   },
   {
    "duration": 8,
    "start_time": "2021-08-01T21:13:04.962Z"
   },
   {
    "duration": 19,
    "start_time": "2021-08-01T21:13:04.972Z"
   },
   {
    "duration": 4,
    "start_time": "2021-08-01T21:13:04.993Z"
   },
   {
    "duration": 65,
    "start_time": "2021-08-01T21:13:04.999Z"
   },
   {
    "duration": 9,
    "start_time": "2021-08-01T21:13:05.065Z"
   },
   {
    "duration": 12,
    "start_time": "2021-08-01T21:13:05.075Z"
   },
   {
    "duration": 7,
    "start_time": "2021-08-01T21:13:05.089Z"
   },
   {
    "duration": 11,
    "start_time": "2021-08-01T21:13:05.097Z"
   },
   {
    "duration": 63,
    "start_time": "2021-08-01T21:13:05.109Z"
   },
   {
    "duration": 24,
    "start_time": "2021-08-01T21:13:05.174Z"
   },
   {
    "duration": 74,
    "start_time": "2021-08-01T21:13:05.200Z"
   },
   {
    "duration": 7,
    "start_time": "2021-08-01T21:13:05.276Z"
   },
   {
    "duration": 25,
    "start_time": "2021-08-01T21:13:05.285Z"
   },
   {
    "duration": 47,
    "start_time": "2021-08-01T21:13:05.312Z"
   },
   {
    "duration": 9,
    "start_time": "2021-08-01T21:13:05.360Z"
   },
   {
    "duration": 9,
    "start_time": "2021-08-01T21:13:05.370Z"
   },
   {
    "duration": 16,
    "start_time": "2021-08-01T21:13:05.380Z"
   },
   {
    "duration": 2,
    "start_time": "2021-08-01T21:13:05.398Z"
   },
   {
    "duration": 4,
    "start_time": "2021-08-01T21:13:05.402Z"
   },
   {
    "duration": 25,
    "start_time": "2021-08-01T21:23:08.018Z"
   },
   {
    "duration": 340,
    "start_time": "2021-08-01T21:52:38.063Z"
   },
   {
    "duration": 6,
    "start_time": "2021-08-01T21:53:41.974Z"
   },
   {
    "duration": 262,
    "start_time": "2021-08-01T21:57:12.571Z"
   },
   {
    "duration": 280,
    "start_time": "2021-08-01T21:57:55.245Z"
   },
   {
    "duration": 83,
    "start_time": "2021-08-01T22:08:57.031Z"
   },
   {
    "duration": 271,
    "start_time": "2021-08-01T22:09:52.007Z"
   },
   {
    "duration": 1161,
    "start_time": "2021-08-01T22:10:23.970Z"
   },
   {
    "duration": 85,
    "start_time": "2021-08-01T22:11:02.672Z"
   },
   {
    "duration": 50,
    "start_time": "2021-08-01T22:11:30.185Z"
   },
   {
    "duration": 343,
    "start_time": "2021-08-01T22:12:04.846Z"
   },
   {
    "duration": 68,
    "start_time": "2021-08-01T22:12:23.258Z"
   },
   {
    "duration": 260,
    "start_time": "2021-08-01T22:12:27.923Z"
   },
   {
    "duration": 12,
    "start_time": "2021-08-01T22:12:31.781Z"
   },
   {
    "duration": 11,
    "start_time": "2021-08-01T22:12:43.681Z"
   },
   {
    "duration": 11,
    "start_time": "2021-08-01T22:12:49.881Z"
   },
   {
    "duration": 17,
    "start_time": "2021-08-01T22:12:57.978Z"
   },
   {
    "duration": 44,
    "start_time": "2021-08-01T22:13:43.130Z"
   },
   {
    "duration": 15,
    "start_time": "2021-08-01T22:13:45.842Z"
   },
   {
    "duration": 9,
    "start_time": "2021-08-01T22:13:52.738Z"
   },
   {
    "duration": 45,
    "start_time": "2021-08-01T22:16:21.525Z"
   },
   {
    "duration": 31,
    "start_time": "2021-08-01T22:17:13.721Z"
   },
   {
    "duration": 33,
    "start_time": "2021-08-01T22:17:24.096Z"
   },
   {
    "duration": 53,
    "start_time": "2021-08-01T22:17:32.690Z"
   },
   {
    "duration": 37,
    "start_time": "2021-08-01T22:17:58.459Z"
   },
   {
    "duration": 9,
    "start_time": "2021-08-01T22:18:31.052Z"
   },
   {
    "duration": 265,
    "start_time": "2021-08-01T22:19:18.858Z"
   },
   {
    "duration": 40,
    "start_time": "2021-08-01T22:19:21.684Z"
   },
   {
    "duration": 46,
    "start_time": "2021-08-01T22:19:25.709Z"
   },
   {
    "duration": 10,
    "start_time": "2021-08-01T22:19:46.586Z"
   },
   {
    "duration": 12,
    "start_time": "2021-08-01T22:21:03.479Z"
   },
   {
    "duration": 15,
    "start_time": "2021-08-01T22:26:49.486Z"
   },
   {
    "duration": 4,
    "start_time": "2021-08-01T22:30:09.629Z"
   },
   {
    "duration": 6580,
    "start_time": "2021-08-01T22:30:38.481Z"
   },
   {
    "duration": 5,
    "start_time": "2021-08-01T23:27:19.467Z"
   },
   {
    "duration": 6,
    "start_time": "2021-08-01T23:27:30.805Z"
   },
   {
    "duration": 7,
    "start_time": "2021-08-01T23:27:48.494Z"
   },
   {
    "duration": 13,
    "start_time": "2021-08-01T23:28:08.059Z"
   },
   {
    "duration": 287,
    "start_time": "2021-08-01T23:51:38.482Z"
   },
   {
    "duration": 248,
    "start_time": "2021-08-01T23:51:52.718Z"
   },
   {
    "duration": 11,
    "start_time": "2021-08-01T23:52:11.658Z"
   },
   {
    "duration": 13,
    "start_time": "2021-08-01T23:52:49.617Z"
   },
   {
    "duration": 13,
    "start_time": "2021-08-01T23:53:17.516Z"
   },
   {
    "duration": 277,
    "start_time": "2021-08-01T23:53:48.795Z"
   },
   {
    "duration": 432,
    "start_time": "2021-08-02T00:13:24.533Z"
   },
   {
    "duration": 102,
    "start_time": "2021-08-02T00:14:37.520Z"
   },
   {
    "duration": 110,
    "start_time": "2021-08-02T00:14:47.874Z"
   },
   {
    "duration": 214,
    "start_time": "2021-08-02T00:19:17.556Z"
   },
   {
    "duration": 113,
    "start_time": "2021-08-02T00:19:41.313Z"
   },
   {
    "duration": 142,
    "start_time": "2021-08-02T00:21:00.235Z"
   },
   {
    "duration": 104,
    "start_time": "2021-08-02T00:21:22.923Z"
   },
   {
    "duration": 2340,
    "start_time": "2021-08-02T00:23:12.699Z"
   },
   {
    "duration": 10,
    "start_time": "2021-08-02T00:23:15.041Z"
   },
   {
    "duration": 12,
    "start_time": "2021-08-02T00:23:15.053Z"
   },
   {
    "duration": 8,
    "start_time": "2021-08-02T00:23:15.067Z"
   },
   {
    "duration": 18,
    "start_time": "2021-08-02T00:23:15.077Z"
   },
   {
    "duration": 15,
    "start_time": "2021-08-02T00:23:15.097Z"
   },
   {
    "duration": 27,
    "start_time": "2021-08-02T00:23:15.114Z"
   },
   {
    "duration": 16,
    "start_time": "2021-08-02T00:23:15.144Z"
   },
   {
    "duration": 4,
    "start_time": "2021-08-02T00:23:15.162Z"
   },
   {
    "duration": 47,
    "start_time": "2021-08-02T00:23:15.167Z"
   },
   {
    "duration": 8,
    "start_time": "2021-08-02T00:23:15.216Z"
   },
   {
    "duration": 10,
    "start_time": "2021-08-02T00:23:15.241Z"
   },
   {
    "duration": 10,
    "start_time": "2021-08-02T00:23:15.252Z"
   },
   {
    "duration": 12,
    "start_time": "2021-08-02T00:23:15.264Z"
   },
   {
    "duration": 30,
    "start_time": "2021-08-02T00:23:15.278Z"
   },
   {
    "duration": 52,
    "start_time": "2021-08-02T00:23:15.310Z"
   },
   {
    "duration": 84,
    "start_time": "2021-08-02T00:23:15.364Z"
   },
   {
    "duration": 73,
    "start_time": "2021-08-02T00:23:15.449Z"
   },
   {
    "duration": 20,
    "start_time": "2021-08-02T00:23:15.524Z"
   },
   {
    "duration": 10,
    "start_time": "2021-08-02T00:23:15.545Z"
   },
   {
    "duration": 30,
    "start_time": "2021-08-02T00:23:15.557Z"
   },
   {
    "duration": 60,
    "start_time": "2021-08-02T00:23:15.589Z"
   },
   {
    "duration": 8,
    "start_time": "2021-08-02T00:23:15.652Z"
   },
   {
    "duration": 41,
    "start_time": "2021-08-02T00:23:15.662Z"
   },
   {
    "duration": 66,
    "start_time": "2021-08-02T00:23:15.704Z"
   },
   {
    "duration": 8,
    "start_time": "2021-08-02T00:23:15.772Z"
   },
   {
    "duration": 121,
    "start_time": "2021-08-02T00:23:15.782Z"
   },
   {
    "duration": 9,
    "start_time": "2021-08-02T00:25:37.109Z"
   },
   {
    "duration": 107,
    "start_time": "2021-08-02T00:29:31.472Z"
   },
   {
    "duration": 108,
    "start_time": "2021-08-02T00:30:17.509Z"
   },
   {
    "duration": 9,
    "start_time": "2021-08-02T00:32:44.347Z"
   },
   {
    "duration": 115,
    "start_time": "2021-08-02T00:35:38.317Z"
   },
   {
    "duration": 2152,
    "start_time": "2021-08-02T18:34:56.708Z"
   },
   {
    "duration": 13,
    "start_time": "2021-08-02T18:34:58.862Z"
   },
   {
    "duration": 10,
    "start_time": "2021-08-02T18:34:58.877Z"
   },
   {
    "duration": 8,
    "start_time": "2021-08-02T18:34:58.889Z"
   },
   {
    "duration": 11,
    "start_time": "2021-08-02T18:34:58.899Z"
   },
   {
    "duration": 30,
    "start_time": "2021-08-02T18:34:58.912Z"
   },
   {
    "duration": 10,
    "start_time": "2021-08-02T18:34:58.944Z"
   },
   {
    "duration": 18,
    "start_time": "2021-08-02T18:34:58.957Z"
   },
   {
    "duration": 4,
    "start_time": "2021-08-02T18:34:58.977Z"
   },
   {
    "duration": 73,
    "start_time": "2021-08-02T18:34:58.983Z"
   },
   {
    "duration": 8,
    "start_time": "2021-08-02T18:34:59.058Z"
   },
   {
    "duration": 12,
    "start_time": "2021-08-02T18:34:59.068Z"
   },
   {
    "duration": 6,
    "start_time": "2021-08-02T18:34:59.082Z"
   },
   {
    "duration": 13,
    "start_time": "2021-08-02T18:34:59.090Z"
   },
   {
    "duration": 60,
    "start_time": "2021-08-02T18:34:59.105Z"
   },
   {
    "duration": 24,
    "start_time": "2021-08-02T18:34:59.167Z"
   },
   {
    "duration": 77,
    "start_time": "2021-08-02T18:34:59.192Z"
   },
   {
    "duration": 82,
    "start_time": "2021-08-02T18:34:59.270Z"
   },
   {
    "duration": 7,
    "start_time": "2021-08-02T18:34:59.354Z"
   },
   {
    "duration": 11,
    "start_time": "2021-08-02T18:34:59.362Z"
   },
   {
    "duration": 30,
    "start_time": "2021-08-02T18:34:59.374Z"
   },
   {
    "duration": 401,
    "start_time": "2021-08-02T18:34:59.405Z"
   },
   {
    "duration": -1190,
    "start_time": "2021-08-02T18:35:00.998Z"
   },
   {
    "duration": -1193,
    "start_time": "2021-08-02T18:35:01.002Z"
   },
   {
    "duration": -1195,
    "start_time": "2021-08-02T18:35:01.005Z"
   },
   {
    "duration": -1204,
    "start_time": "2021-08-02T18:35:01.015Z"
   },
   {
    "duration": -1206,
    "start_time": "2021-08-02T18:35:01.018Z"
   },
   {
    "duration": -1209,
    "start_time": "2021-08-02T18:35:01.022Z"
   },
   {
    "duration": -1217,
    "start_time": "2021-08-02T18:35:01.031Z"
   },
   {
    "duration": -1263,
    "start_time": "2021-08-02T18:35:01.078Z"
   },
   {
    "duration": -1267,
    "start_time": "2021-08-02T18:35:01.083Z"
   },
   {
    "duration": 26,
    "start_time": "2021-08-02T18:36:47.333Z"
   },
   {
    "duration": 2196,
    "start_time": "2021-08-02T18:37:06.614Z"
   },
   {
    "duration": 10,
    "start_time": "2021-08-02T18:37:08.812Z"
   },
   {
    "duration": 12,
    "start_time": "2021-08-02T18:37:08.825Z"
   },
   {
    "duration": 14,
    "start_time": "2021-08-02T18:37:08.839Z"
   },
   {
    "duration": 15,
    "start_time": "2021-08-02T18:37:08.855Z"
   },
   {
    "duration": 18,
    "start_time": "2021-08-02T18:37:08.871Z"
   },
   {
    "duration": 11,
    "start_time": "2021-08-02T18:37:08.891Z"
   },
   {
    "duration": 25,
    "start_time": "2021-08-02T18:37:08.904Z"
   },
   {
    "duration": 12,
    "start_time": "2021-08-02T18:37:08.930Z"
   },
   {
    "duration": 40,
    "start_time": "2021-08-02T18:37:08.944Z"
   },
   {
    "duration": 9,
    "start_time": "2021-08-02T18:37:08.986Z"
   },
   {
    "duration": 26,
    "start_time": "2021-08-02T18:37:08.996Z"
   },
   {
    "duration": 5,
    "start_time": "2021-08-02T18:37:09.041Z"
   },
   {
    "duration": 21,
    "start_time": "2021-08-02T18:37:09.048Z"
   },
   {
    "duration": 43,
    "start_time": "2021-08-02T18:37:09.071Z"
   },
   {
    "duration": 25,
    "start_time": "2021-08-02T18:37:09.116Z"
   },
   {
    "duration": 59,
    "start_time": "2021-08-02T18:37:09.143Z"
   },
   {
    "duration": 92,
    "start_time": "2021-08-02T18:37:09.204Z"
   },
   {
    "duration": 7,
    "start_time": "2021-08-02T18:37:09.298Z"
   },
   {
    "duration": 8,
    "start_time": "2021-08-02T18:37:09.307Z"
   },
   {
    "duration": 49,
    "start_time": "2021-08-02T18:37:09.317Z"
   },
   {
    "duration": 37,
    "start_time": "2021-08-02T18:37:09.368Z"
   },
   {
    "duration": 8,
    "start_time": "2021-08-02T18:37:09.407Z"
   },
   {
    "duration": 43,
    "start_time": "2021-08-02T18:37:09.441Z"
   },
   {
    "duration": 67,
    "start_time": "2021-08-02T18:37:09.486Z"
   },
   {
    "duration": 9,
    "start_time": "2021-08-02T18:37:09.555Z"
   },
   {
    "duration": 121,
    "start_time": "2021-08-02T18:37:09.566Z"
   },
   {
    "duration": 7,
    "start_time": "2021-08-02T18:37:09.689Z"
   },
   {
    "duration": 124,
    "start_time": "2021-08-02T18:37:09.697Z"
   },
   {
    "duration": 119,
    "start_time": "2021-08-02T18:37:09.822Z"
   },
   {
    "duration": 2,
    "start_time": "2021-08-02T18:37:09.943Z"
   },
   {
    "duration": 25,
    "start_time": "2021-08-02T18:38:43.114Z"
   },
   {
    "duration": 19,
    "start_time": "2021-08-02T18:39:09.550Z"
   },
   {
    "duration": 20,
    "start_time": "2021-08-02T18:40:05.796Z"
   },
   {
    "duration": 336,
    "start_time": "2021-08-02T18:44:30.312Z"
   },
   {
    "duration": 18,
    "start_time": "2021-08-02T18:44:49.155Z"
   },
   {
    "duration": 21,
    "start_time": "2021-08-02T18:44:56.854Z"
   },
   {
    "duration": 20,
    "start_time": "2021-08-02T18:46:18.896Z"
   },
   {
    "duration": 255,
    "start_time": "2021-08-02T18:48:14.556Z"
   },
   {
    "duration": 265,
    "start_time": "2021-08-02T18:49:01.784Z"
   },
   {
    "duration": 243,
    "start_time": "2021-08-02T18:49:07.457Z"
   },
   {
    "duration": 254,
    "start_time": "2021-08-02T18:49:11.702Z"
   },
   {
    "duration": 246,
    "start_time": "2021-08-02T18:49:32.460Z"
   },
   {
    "duration": 12,
    "start_time": "2021-08-02T18:49:36.280Z"
   },
   {
    "duration": 23,
    "start_time": "2021-08-02T19:10:39.748Z"
   },
   {
    "duration": 23,
    "start_time": "2021-08-02T19:11:29.264Z"
   },
   {
    "duration": 256,
    "start_time": "2021-08-02T19:11:48.605Z"
   },
   {
    "duration": 25,
    "start_time": "2021-08-02T19:12:02.620Z"
   },
   {
    "duration": 17,
    "start_time": "2021-08-02T19:12:48.041Z"
   },
   {
    "duration": 17,
    "start_time": "2021-08-02T19:14:26.854Z"
   },
   {
    "duration": 18,
    "start_time": "2021-08-02T19:15:41.252Z"
   },
   {
    "duration": 18,
    "start_time": "2021-08-02T21:05:39.163Z"
   },
   {
    "duration": 22,
    "start_time": "2021-08-02T21:05:50.648Z"
   },
   {
    "duration": 23,
    "start_time": "2021-08-02T21:06:10.560Z"
   },
   {
    "duration": 2486,
    "start_time": "2021-08-02T21:06:51.739Z"
   },
   {
    "duration": 10,
    "start_time": "2021-08-02T21:06:54.226Z"
   },
   {
    "duration": 11,
    "start_time": "2021-08-02T21:06:54.239Z"
   },
   {
    "duration": 8,
    "start_time": "2021-08-02T21:06:54.252Z"
   },
   {
    "duration": 10,
    "start_time": "2021-08-02T21:06:54.262Z"
   },
   {
    "duration": 16,
    "start_time": "2021-08-02T21:06:54.274Z"
   },
   {
    "duration": 10,
    "start_time": "2021-08-02T21:06:54.291Z"
   },
   {
    "duration": 53,
    "start_time": "2021-08-02T21:06:54.303Z"
   },
   {
    "duration": 5,
    "start_time": "2021-08-02T21:06:54.360Z"
   },
   {
    "duration": 42,
    "start_time": "2021-08-02T21:06:54.367Z"
   },
   {
    "duration": 32,
    "start_time": "2021-08-02T21:06:54.411Z"
   },
   {
    "duration": 13,
    "start_time": "2021-08-02T21:06:54.445Z"
   },
   {
    "duration": 9,
    "start_time": "2021-08-02T21:06:54.460Z"
   },
   {
    "duration": 10,
    "start_time": "2021-08-02T21:06:54.472Z"
   },
   {
    "duration": 83,
    "start_time": "2021-08-02T21:06:54.484Z"
   },
   {
    "duration": 25,
    "start_time": "2021-08-02T21:06:54.569Z"
   },
   {
    "duration": 80,
    "start_time": "2021-08-02T21:06:54.595Z"
   },
   {
    "duration": 98,
    "start_time": "2021-08-02T21:06:54.678Z"
   },
   {
    "duration": 10,
    "start_time": "2021-08-02T21:06:54.778Z"
   },
   {
    "duration": 11,
    "start_time": "2021-08-02T21:06:54.789Z"
   },
   {
    "duration": 65,
    "start_time": "2021-08-02T21:06:54.802Z"
   },
   {
    "duration": 37,
    "start_time": "2021-08-02T21:06:54.869Z"
   },
   {
    "duration": 9,
    "start_time": "2021-08-02T21:06:54.909Z"
   },
   {
    "duration": 75,
    "start_time": "2021-08-02T21:06:54.920Z"
   },
   {
    "duration": 80,
    "start_time": "2021-08-02T21:06:54.997Z"
   },
   {
    "duration": 13,
    "start_time": "2021-08-02T21:06:55.079Z"
   },
   {
    "duration": 211,
    "start_time": "2021-08-02T21:06:55.094Z"
   },
   {
    "duration": 9,
    "start_time": "2021-08-02T21:06:55.307Z"
   },
   {
    "duration": 224,
    "start_time": "2021-08-02T21:06:55.318Z"
   },
   {
    "duration": 213,
    "start_time": "2021-08-02T21:06:55.545Z"
   },
   {
    "duration": 22,
    "start_time": "2021-08-02T21:06:55.760Z"
   },
   {
    "duration": 357,
    "start_time": "2021-08-02T21:06:55.783Z"
   },
   {
    "duration": 22,
    "start_time": "2021-08-02T21:08:15.888Z"
   },
   {
    "duration": 24,
    "start_time": "2021-08-02T21:09:30.729Z"
   },
   {
    "duration": 34,
    "start_time": "2021-08-02T21:10:35.535Z"
   },
   {
    "duration": 28,
    "start_time": "2021-08-02T21:11:40.359Z"
   },
   {
    "duration": 20,
    "start_time": "2021-08-02T21:11:46.211Z"
   },
   {
    "duration": 18,
    "start_time": "2021-08-02T21:11:52.983Z"
   },
   {
    "duration": 20,
    "start_time": "2021-08-02T21:12:14.289Z"
   },
   {
    "duration": 292,
    "start_time": "2021-08-02T21:47:08.091Z"
   },
   {
    "duration": 35,
    "start_time": "2021-08-02T21:47:23.432Z"
   },
   {
    "duration": 130,
    "start_time": "2021-08-02T21:57:29.381Z"
   },
   {
    "duration": 141,
    "start_time": "2021-08-02T21:59:02.434Z"
   },
   {
    "duration": 106,
    "start_time": "2021-08-02T22:00:22.579Z"
   },
   {
    "duration": 12,
    "start_time": "2021-08-02T22:01:25.498Z"
   },
   {
    "duration": 255,
    "start_time": "2021-08-02T22:03:47.355Z"
   },
   {
    "duration": 12,
    "start_time": "2021-08-02T22:03:54.079Z"
   },
   {
    "duration": 10,
    "start_time": "2021-08-02T22:04:02.310Z"
   },
   {
    "duration": 2143,
    "start_time": "2021-08-04T21:47:51.515Z"
   },
   {
    "duration": 10,
    "start_time": "2021-08-04T21:47:53.660Z"
   },
   {
    "duration": 14,
    "start_time": "2021-08-04T21:47:53.672Z"
   },
   {
    "duration": 8,
    "start_time": "2021-08-04T21:47:53.688Z"
   },
   {
    "duration": 10,
    "start_time": "2021-08-04T21:47:53.697Z"
   },
   {
    "duration": 10,
    "start_time": "2021-08-04T21:47:53.708Z"
   },
   {
    "duration": 21,
    "start_time": "2021-08-04T21:47:53.720Z"
   },
   {
    "duration": 15,
    "start_time": "2021-08-04T21:47:53.744Z"
   },
   {
    "duration": 4,
    "start_time": "2021-08-04T21:47:53.761Z"
   },
   {
    "duration": 40,
    "start_time": "2021-08-04T21:47:53.766Z"
   },
   {
    "duration": 8,
    "start_time": "2021-08-04T21:47:53.807Z"
   },
   {
    "duration": 10,
    "start_time": "2021-08-04T21:47:53.841Z"
   },
   {
    "duration": 10,
    "start_time": "2021-08-04T21:47:53.853Z"
   },
   {
    "duration": 10,
    "start_time": "2021-08-04T21:47:53.865Z"
   },
   {
    "duration": 30,
    "start_time": "2021-08-04T21:47:53.876Z"
   },
   {
    "duration": 54,
    "start_time": "2021-08-04T21:47:53.907Z"
   },
   {
    "duration": 60,
    "start_time": "2021-08-04T21:47:53.962Z"
   },
   {
    "duration": 73,
    "start_time": "2021-08-04T21:47:54.041Z"
   },
   {
    "duration": 25,
    "start_time": "2021-08-04T21:47:54.116Z"
   },
   {
    "duration": 9,
    "start_time": "2021-08-04T21:47:54.143Z"
   },
   {
    "duration": 33,
    "start_time": "2021-08-04T21:47:54.154Z"
   },
   {
    "duration": 71,
    "start_time": "2021-08-04T21:47:54.189Z"
   },
   {
    "duration": 9,
    "start_time": "2021-08-04T21:47:54.265Z"
   },
   {
    "duration": 41,
    "start_time": "2021-08-04T21:47:54.276Z"
   },
   {
    "duration": 47,
    "start_time": "2021-08-04T21:47:54.341Z"
   },
   {
    "duration": 10,
    "start_time": "2021-08-04T21:47:54.390Z"
   },
   {
    "duration": 132,
    "start_time": "2021-08-04T21:47:54.402Z"
   },
   {
    "duration": 9,
    "start_time": "2021-08-04T21:47:54.536Z"
   },
   {
    "duration": 123,
    "start_time": "2021-08-04T21:47:54.547Z"
   },
   {
    "duration": 118,
    "start_time": "2021-08-04T21:47:54.672Z"
   },
   {
    "duration": 22,
    "start_time": "2021-08-04T21:47:54.792Z"
   },
   {
    "duration": 37,
    "start_time": "2021-08-04T21:47:54.816Z"
   },
   {
    "duration": 113,
    "start_time": "2021-08-04T21:47:54.854Z"
   },
   {
    "duration": 11,
    "start_time": "2021-08-04T21:47:54.968Z"
   },
   {
    "duration": 17,
    "start_time": "2021-08-04T21:47:54.981Z"
   },
   {
    "duration": 8,
    "start_time": "2021-08-04T23:02:30.007Z"
   },
   {
    "duration": 21,
    "start_time": "2021-08-04T23:03:08.076Z"
   },
   {
    "duration": 12,
    "start_time": "2021-08-05T20:15:04.867Z"
   },
   {
    "duration": 3,
    "start_time": "2021-08-05T20:15:30.445Z"
   },
   {
    "duration": 6,
    "start_time": "2021-08-05T20:16:29.347Z"
   },
   {
    "duration": 15,
    "start_time": "2021-08-05T20:16:44.425Z"
   },
   {
    "duration": 26,
    "start_time": "2021-08-05T20:17:51.157Z"
   },
   {
    "duration": 908,
    "start_time": "2021-08-06T06:51:32.764Z"
   },
   {
    "duration": 982,
    "start_time": "2021-08-06T06:52:40.038Z"
   },
   {
    "duration": 1173,
    "start_time": "2021-08-06T07:13:58.562Z"
   },
   {
    "duration": 1637,
    "start_time": "2021-08-06T07:14:10.471Z"
   },
   {
    "duration": 1762,
    "start_time": "2021-08-06T07:14:32.686Z"
   },
   {
    "duration": 1855,
    "start_time": "2021-08-06T07:14:40.275Z"
   },
   {
    "duration": 1695,
    "start_time": "2021-08-06T07:14:54.651Z"
   },
   {
    "duration": 1892,
    "start_time": "2021-08-06T07:16:42.394Z"
   },
   {
    "duration": 31,
    "start_time": "2021-08-06T07:26:55.465Z"
   },
   {
    "duration": 2252,
    "start_time": "2021-08-06T12:27:36.183Z"
   },
   {
    "duration": 2215,
    "start_time": "2021-08-06T12:27:49.954Z"
   },
   {
    "duration": 2478,
    "start_time": "2021-08-06T12:34:01.882Z"
   },
   {
    "duration": 2511,
    "start_time": "2021-08-06T12:52:23.248Z"
   },
   {
    "duration": 8,
    "start_time": "2021-08-06T12:53:16.224Z"
   },
   {
    "duration": 8,
    "start_time": "2021-08-06T12:53:25.304Z"
   },
   {
    "duration": 8,
    "start_time": "2021-08-06T12:53:39.681Z"
   },
   {
    "duration": 362,
    "start_time": "2021-08-06T12:54:19.322Z"
   },
   {
    "duration": 2228,
    "start_time": "2021-08-06T12:54:30.719Z"
   },
   {
    "duration": 382,
    "start_time": "2021-08-06T12:55:58.923Z"
   },
   {
    "duration": 619,
    "start_time": "2021-08-06T12:56:11.387Z"
   },
   {
    "duration": 400,
    "start_time": "2021-08-06T12:57:35.648Z"
   },
   {
    "duration": 286,
    "start_time": "2021-08-06T12:57:48.029Z"
   },
   {
    "duration": 283,
    "start_time": "2021-08-06T12:58:30.146Z"
   },
   {
    "duration": 286,
    "start_time": "2021-08-06T13:00:32.181Z"
   },
   {
    "duration": 278,
    "start_time": "2021-08-06T13:03:17.080Z"
   },
   {
    "duration": 5,
    "start_time": "2021-08-06T13:05:09.948Z"
   },
   {
    "duration": 269,
    "start_time": "2021-08-06T13:09:01.606Z"
   },
   {
    "duration": 261,
    "start_time": "2021-08-06T13:10:39.381Z"
   },
   {
    "duration": 4,
    "start_time": "2021-08-06T13:11:03.988Z"
   },
   {
    "duration": 30,
    "start_time": "2021-08-06T13:11:53.249Z"
   },
   {
    "duration": 7,
    "start_time": "2021-08-06T13:18:10.089Z"
   },
   {
    "duration": 8,
    "start_time": "2021-08-06T13:21:22.004Z"
   },
   {
    "duration": 6,
    "start_time": "2021-08-06T13:21:57.791Z"
   },
   {
    "duration": 7,
    "start_time": "2021-08-06T13:23:11.268Z"
   },
   {
    "duration": 2206,
    "start_time": "2021-08-06T13:23:41.535Z"
   },
   {
    "duration": 2791,
    "start_time": "2021-08-06T13:25:26.810Z"
   },
   {
    "duration": 6,
    "start_time": "2021-08-06T13:35:24.186Z"
   },
   {
    "duration": 87,
    "start_time": "2021-08-06T13:35:41.715Z"
   },
   {
    "duration": 275,
    "start_time": "2021-08-06T13:36:29.237Z"
   },
   {
    "duration": 172,
    "start_time": "2021-08-06T13:36:38.066Z"
   },
   {
    "duration": 154,
    "start_time": "2021-08-06T13:36:53.147Z"
   },
   {
    "duration": 6,
    "start_time": "2021-08-06T13:57:24.385Z"
   },
   {
    "duration": 4,
    "start_time": "2021-08-06T14:00:07.471Z"
   },
   {
    "duration": 2862,
    "start_time": "2021-08-07T19:34:29.172Z"
   },
   {
    "duration": 23,
    "start_time": "2021-08-07T19:36:00.723Z"
   },
   {
    "duration": 3102,
    "start_time": "2021-08-07T19:36:51.797Z"
   },
   {
    "duration": 315,
    "start_time": "2021-08-07T19:37:20.473Z"
   },
   {
    "duration": 168,
    "start_time": "2021-08-07T19:37:30.945Z"
   },
   {
    "duration": 445,
    "start_time": "2021-08-10T19:33:42.900Z"
   },
   {
    "duration": 2189,
    "start_time": "2021-08-10T19:34:18.282Z"
   },
   {
    "duration": 11,
    "start_time": "2021-08-10T19:34:20.473Z"
   },
   {
    "duration": 11,
    "start_time": "2021-08-10T19:34:20.488Z"
   },
   {
    "duration": 22,
    "start_time": "2021-08-10T19:34:20.500Z"
   },
   {
    "duration": 20,
    "start_time": "2021-08-10T19:34:20.523Z"
   },
   {
    "duration": 18,
    "start_time": "2021-08-10T19:34:20.545Z"
   },
   {
    "duration": 11,
    "start_time": "2021-08-10T19:34:20.565Z"
   },
   {
    "duration": 21,
    "start_time": "2021-08-10T19:34:20.579Z"
   },
   {
    "duration": 3,
    "start_time": "2021-08-10T19:34:20.602Z"
   },
   {
    "duration": 61,
    "start_time": "2021-08-10T19:34:20.607Z"
   },
   {
    "duration": 8,
    "start_time": "2021-08-10T19:34:20.670Z"
   },
   {
    "duration": 12,
    "start_time": "2021-08-10T19:34:20.679Z"
   },
   {
    "duration": 10,
    "start_time": "2021-08-10T19:34:20.693Z"
   },
   {
    "duration": 43,
    "start_time": "2021-08-10T19:34:20.704Z"
   },
   {
    "duration": 32,
    "start_time": "2021-08-10T19:34:20.748Z"
   },
   {
    "duration": 25,
    "start_time": "2021-08-10T19:34:20.782Z"
   },
   {
    "duration": 92,
    "start_time": "2021-08-10T19:34:20.809Z"
   },
   {
    "duration": 98,
    "start_time": "2021-08-10T19:34:20.902Z"
   },
   {
    "duration": 8,
    "start_time": "2021-08-10T19:34:21.002Z"
   },
   {
    "duration": 30,
    "start_time": "2021-08-10T19:34:21.012Z"
   },
   {
    "duration": 33,
    "start_time": "2021-08-10T19:34:21.044Z"
   },
   {
    "duration": 66,
    "start_time": "2021-08-10T19:34:21.079Z"
   },
   {
    "duration": 11,
    "start_time": "2021-08-10T19:34:21.146Z"
   },
   {
    "duration": 59,
    "start_time": "2021-08-10T19:34:21.159Z"
   },
   {
    "duration": 83,
    "start_time": "2021-08-10T19:34:21.220Z"
   },
   {
    "duration": 13,
    "start_time": "2021-08-10T19:34:21.307Z"
   },
   {
    "duration": 208,
    "start_time": "2021-08-10T19:34:21.322Z"
   },
   {
    "duration": 16,
    "start_time": "2021-08-10T19:34:21.532Z"
   },
   {
    "duration": 130,
    "start_time": "2021-08-10T19:34:21.549Z"
   },
   {
    "duration": 118,
    "start_time": "2021-08-10T19:34:21.681Z"
   },
   {
    "duration": 18,
    "start_time": "2021-08-10T19:34:21.800Z"
   },
   {
    "duration": 38,
    "start_time": "2021-08-10T19:34:21.820Z"
   },
   {
    "duration": 117,
    "start_time": "2021-08-10T19:34:21.860Z"
   },
   {
    "duration": 12,
    "start_time": "2021-08-10T19:34:21.979Z"
   },
   {
    "duration": 23,
    "start_time": "2021-08-10T19:34:21.992Z"
   },
   {
    "duration": 29,
    "start_time": "2021-08-10T19:34:22.017Z"
   },
   {
    "duration": 37,
    "start_time": "2021-08-10T19:34:22.048Z"
   },
   {
    "duration": 4,
    "start_time": "2021-08-10T19:34:22.086Z"
   },
   {
    "duration": 59,
    "start_time": "2021-08-10T19:34:22.091Z"
   },
   {
    "duration": 2651,
    "start_time": "2021-08-10T19:34:22.151Z"
   },
   {
    "duration": 439,
    "start_time": "2021-08-10T19:34:24.804Z"
   },
   {
    "duration": 51,
    "start_time": "2021-08-10T19:34:25.245Z"
   },
   {
    "duration": 8,
    "start_time": "2021-08-10T19:34:25.298Z"
   },
   {
    "duration": 2520,
    "start_time": "2021-08-10T19:34:25.308Z"
   },
   {
    "duration": 181,
    "start_time": "2021-08-10T19:34:27.830Z"
   },
   {
    "duration": 333,
    "start_time": "2021-08-10T19:34:28.013Z"
   },
   {
    "duration": 1148,
    "start_time": "2021-08-10T19:36:07.040Z"
   },
   {
    "duration": 1091,
    "start_time": "2021-08-10T19:36:10.288Z"
   },
   {
    "duration": 8,
    "start_time": "2021-08-10T19:36:16.162Z"
   },
   {
    "duration": 1111,
    "start_time": "2021-08-10T19:36:18.742Z"
   },
   {
    "duration": 2443,
    "start_time": "2021-08-10T19:36:27.813Z"
   },
   {
    "duration": 13,
    "start_time": "2021-08-10T19:36:30.258Z"
   },
   {
    "duration": 14,
    "start_time": "2021-08-10T19:36:30.276Z"
   },
   {
    "duration": 22,
    "start_time": "2021-08-10T19:36:30.293Z"
   },
   {
    "duration": 15,
    "start_time": "2021-08-10T19:36:30.317Z"
   },
   {
    "duration": 28,
    "start_time": "2021-08-10T19:36:30.334Z"
   },
   {
    "duration": 19,
    "start_time": "2021-08-10T19:36:30.366Z"
   },
   {
    "duration": 25,
    "start_time": "2021-08-10T19:36:30.386Z"
   },
   {
    "duration": 4,
    "start_time": "2021-08-10T19:36:30.413Z"
   },
   {
    "duration": 78,
    "start_time": "2021-08-10T19:36:30.418Z"
   },
   {
    "duration": 9,
    "start_time": "2021-08-10T19:36:30.497Z"
   },
   {
    "duration": 32,
    "start_time": "2021-08-10T19:36:30.507Z"
   },
   {
    "duration": 27,
    "start_time": "2021-08-10T19:36:30.540Z"
   },
   {
    "duration": 23,
    "start_time": "2021-08-10T19:36:30.569Z"
   },
   {
    "duration": 57,
    "start_time": "2021-08-10T19:36:30.593Z"
   },
   {
    "duration": 27,
    "start_time": "2021-08-10T19:36:30.652Z"
   },
   {
    "duration": 84,
    "start_time": "2021-08-10T19:36:30.681Z"
   },
   {
    "duration": 92,
    "start_time": "2021-08-10T19:36:30.767Z"
   },
   {
    "duration": 9,
    "start_time": "2021-08-10T19:36:30.860Z"
   },
   {
    "duration": 12,
    "start_time": "2021-08-10T19:36:30.871Z"
   },
   {
    "duration": 39,
    "start_time": "2021-08-10T19:36:30.885Z"
   },
   {
    "duration": 59,
    "start_time": "2021-08-10T19:36:30.927Z"
   },
   {
    "duration": 9,
    "start_time": "2021-08-10T19:36:30.988Z"
   },
   {
    "duration": 73,
    "start_time": "2021-08-10T19:36:30.999Z"
   },
   {
    "duration": 51,
    "start_time": "2021-08-10T19:36:31.074Z"
   },
   {
    "duration": 28,
    "start_time": "2021-08-10T19:36:31.126Z"
   },
   {
    "duration": 141,
    "start_time": "2021-08-10T19:36:31.156Z"
   },
   {
    "duration": 6,
    "start_time": "2021-08-10T19:36:31.299Z"
   },
   {
    "duration": 127,
    "start_time": "2021-08-10T19:36:31.306Z"
   },
   {
    "duration": 125,
    "start_time": "2021-08-10T19:36:31.435Z"
   },
   {
    "duration": 20,
    "start_time": "2021-08-10T19:36:31.563Z"
   },
   {
    "duration": 19,
    "start_time": "2021-08-10T19:36:31.585Z"
   },
   {
    "duration": 142,
    "start_time": "2021-08-10T19:36:31.606Z"
   },
   {
    "duration": 18,
    "start_time": "2021-08-10T19:36:31.750Z"
   },
   {
    "duration": 9,
    "start_time": "2021-08-10T19:36:31.770Z"
   },
   {
    "duration": 13,
    "start_time": "2021-08-10T19:36:31.780Z"
   },
   {
    "duration": 63,
    "start_time": "2021-08-10T19:36:31.795Z"
   },
   {
    "duration": 3,
    "start_time": "2021-08-10T19:36:31.860Z"
   },
   {
    "duration": 31,
    "start_time": "2021-08-10T19:36:31.864Z"
   },
   {
    "duration": 2458,
    "start_time": "2021-08-10T19:36:31.897Z"
   },
   {
    "duration": 298,
    "start_time": "2021-08-10T19:36:34.357Z"
   },
   {
    "duration": 34,
    "start_time": "2021-08-10T19:36:34.657Z"
   },
   {
    "duration": 14,
    "start_time": "2021-08-10T19:36:34.692Z"
   },
   {
    "duration": 2552,
    "start_time": "2021-08-10T19:36:34.707Z"
   },
   {
    "duration": 189,
    "start_time": "2021-08-10T19:36:37.261Z"
   },
   {
    "duration": 475,
    "start_time": "2021-08-10T19:36:37.452Z"
   },
   {
    "duration": 240,
    "start_time": "2021-08-10T19:39:49.226Z"
   },
   {
    "duration": 254,
    "start_time": "2021-08-10T19:40:00.922Z"
   },
   {
    "duration": 263,
    "start_time": "2021-08-10T19:40:25.121Z"
   },
   {
    "duration": 4,
    "start_time": "2021-08-10T19:40:39.476Z"
   },
   {
    "duration": 7,
    "start_time": "2021-08-10T20:18:03.286Z"
   },
   {
    "duration": 6,
    "start_time": "2021-08-10T20:19:44.080Z"
   },
   {
    "duration": 8,
    "start_time": "2021-08-10T20:23:54.884Z"
   },
   {
    "duration": 15,
    "start_time": "2021-08-10T20:37:56.574Z"
   },
   {
    "duration": 8,
    "start_time": "2021-08-10T20:39:33.698Z"
   },
   {
    "duration": 19,
    "start_time": "2021-08-10T20:39:46.153Z"
   },
   {
    "duration": 18,
    "start_time": "2021-08-10T20:43:32.053Z"
   },
   {
    "duration": 11,
    "start_time": "2021-08-10T20:47:41.792Z"
   },
   {
    "duration": 24,
    "start_time": "2021-08-10T20:47:56.180Z"
   },
   {
    "duration": 12,
    "start_time": "2021-08-10T20:48:06.308Z"
   },
   {
    "duration": 28,
    "start_time": "2021-08-10T20:48:22.423Z"
   },
   {
    "duration": 9,
    "start_time": "2021-08-10T20:54:08.293Z"
   },
   {
    "duration": 4,
    "start_time": "2021-08-10T20:54:36.881Z"
   },
   {
    "duration": 7,
    "start_time": "2021-08-10T20:54:51.116Z"
   },
   {
    "duration": 8,
    "start_time": "2021-08-10T20:56:06.471Z"
   },
   {
    "duration": 8,
    "start_time": "2021-08-10T20:56:44.696Z"
   },
   {
    "duration": 8,
    "start_time": "2021-08-10T20:56:50.060Z"
   },
   {
    "duration": 18,
    "start_time": "2021-08-10T21:02:00.271Z"
   },
   {
    "duration": 39,
    "start_time": "2021-08-10T21:02:20.445Z"
   },
   {
    "duration": 40,
    "start_time": "2021-08-10T21:02:57.726Z"
   },
   {
    "duration": 20,
    "start_time": "2021-08-10T21:03:08.270Z"
   },
   {
    "duration": 36,
    "start_time": "2021-08-10T21:06:24.277Z"
   },
   {
    "duration": 36,
    "start_time": "2021-08-10T21:14:42.630Z"
   },
   {
    "duration": 5,
    "start_time": "2021-08-10T21:19:05.732Z"
   },
   {
    "duration": 5,
    "start_time": "2021-08-10T21:20:00.181Z"
   },
   {
    "duration": 5,
    "start_time": "2021-08-10T21:21:29.748Z"
   },
   {
    "duration": 5,
    "start_time": "2021-08-10T21:23:03.463Z"
   },
   {
    "duration": 313,
    "start_time": "2021-08-11T16:33:05.193Z"
   },
   {
    "duration": 253,
    "start_time": "2021-08-11T16:33:20.130Z"
   },
   {
    "duration": 2966,
    "start_time": "2021-08-11T16:33:28.608Z"
   },
   {
    "duration": 16,
    "start_time": "2021-08-11T16:33:31.577Z"
   },
   {
    "duration": 22,
    "start_time": "2021-08-11T16:33:31.596Z"
   },
   {
    "duration": 11,
    "start_time": "2021-08-11T16:33:31.620Z"
   },
   {
    "duration": 24,
    "start_time": "2021-08-11T16:33:31.633Z"
   },
   {
    "duration": 21,
    "start_time": "2021-08-11T16:33:31.660Z"
   },
   {
    "duration": 23,
    "start_time": "2021-08-11T16:33:31.684Z"
   },
   {
    "duration": 44,
    "start_time": "2021-08-11T16:33:31.711Z"
   },
   {
    "duration": 7,
    "start_time": "2021-08-11T16:33:31.765Z"
   },
   {
    "duration": 63,
    "start_time": "2021-08-11T16:33:31.775Z"
   },
   {
    "duration": 27,
    "start_time": "2021-08-11T16:33:31.854Z"
   },
   {
    "duration": 24,
    "start_time": "2021-08-11T16:33:31.884Z"
   },
   {
    "duration": 14,
    "start_time": "2021-08-11T16:33:31.910Z"
   },
   {
    "duration": 38,
    "start_time": "2021-08-11T16:33:31.926Z"
   },
   {
    "duration": 47,
    "start_time": "2021-08-11T16:33:31.967Z"
   },
   {
    "duration": 66,
    "start_time": "2021-08-11T16:33:32.017Z"
   },
   {
    "duration": 115,
    "start_time": "2021-08-11T16:33:32.087Z"
   },
   {
    "duration": 126,
    "start_time": "2021-08-11T16:33:32.204Z"
   },
   {
    "duration": 13,
    "start_time": "2021-08-11T16:33:32.332Z"
   },
   {
    "duration": 18,
    "start_time": "2021-08-11T16:33:32.354Z"
   },
   {
    "duration": 84,
    "start_time": "2021-08-11T16:33:32.375Z"
   },
   {
    "duration": 57,
    "start_time": "2021-08-11T16:33:32.461Z"
   },
   {
    "duration": 33,
    "start_time": "2021-08-11T16:33:32.524Z"
   },
   {
    "duration": 73,
    "start_time": "2021-08-11T16:33:32.563Z"
   },
   {
    "duration": 86,
    "start_time": "2021-08-11T16:33:32.639Z"
   },
   {
    "duration": 38,
    "start_time": "2021-08-11T16:33:32.727Z"
   },
   {
    "duration": 249,
    "start_time": "2021-08-11T16:33:32.769Z"
   },
   {
    "duration": 12,
    "start_time": "2021-08-11T16:33:33.021Z"
   },
   {
    "duration": 252,
    "start_time": "2021-08-11T16:33:33.060Z"
   },
   {
    "duration": 247,
    "start_time": "2021-08-11T16:33:33.314Z"
   },
   {
    "duration": 35,
    "start_time": "2021-08-11T16:33:33.566Z"
   },
   {
    "duration": 73,
    "start_time": "2021-08-11T16:33:33.603Z"
   },
   {
    "duration": 217,
    "start_time": "2021-08-11T16:33:33.679Z"
   },
   {
    "duration": 22,
    "start_time": "2021-08-11T16:33:33.908Z"
   },
   {
    "duration": 35,
    "start_time": "2021-08-11T16:33:33.933Z"
   },
   {
    "duration": 25,
    "start_time": "2021-08-11T16:33:33.972Z"
   },
   {
    "duration": 77,
    "start_time": "2021-08-11T16:33:34.000Z"
   },
   {
    "duration": 7,
    "start_time": "2021-08-11T16:33:34.080Z"
   },
   {
    "duration": 83,
    "start_time": "2021-08-11T16:33:34.089Z"
   },
   {
    "duration": 6527,
    "start_time": "2021-08-11T16:33:34.175Z"
   },
   {
    "duration": 529,
    "start_time": "2021-08-11T16:33:40.705Z"
   },
   {
    "duration": 65,
    "start_time": "2021-08-11T16:33:41.236Z"
   },
   {
    "duration": 10,
    "start_time": "2021-08-11T16:33:41.303Z"
   },
   {
    "duration": 4639,
    "start_time": "2021-08-11T16:33:41.315Z"
   },
   {
    "duration": 328,
    "start_time": "2021-08-11T16:33:45.959Z"
   },
   {
    "duration": 12,
    "start_time": "2021-08-11T16:33:46.290Z"
   },
   {
    "duration": 49,
    "start_time": "2021-08-11T16:33:46.305Z"
   },
   {
    "duration": 67,
    "start_time": "2021-08-11T16:33:46.357Z"
   },
   {
    "duration": 542,
    "start_time": "2021-08-11T16:33:46.426Z"
   },
   {
    "duration": 8,
    "start_time": "2021-08-11T16:33:46.971Z"
   },
   {
    "duration": 785,
    "start_time": "2021-08-11T16:34:44.801Z"
   },
   {
    "duration": 732,
    "start_time": "2021-08-11T16:35:01.869Z"
   },
   {
    "duration": 6875,
    "start_time": "2021-08-11T16:35:59.151Z"
   },
   {
    "duration": 372,
    "start_time": "2021-08-11T16:36:34.587Z"
   },
   {
    "duration": 3016,
    "start_time": "2021-08-13T21:33:17.058Z"
   },
   {
    "duration": 15,
    "start_time": "2021-08-13T21:33:20.077Z"
   },
   {
    "duration": 24,
    "start_time": "2021-08-13T21:33:20.095Z"
   },
   {
    "duration": 14,
    "start_time": "2021-08-13T21:33:20.122Z"
   },
   {
    "duration": 33,
    "start_time": "2021-08-13T21:33:20.138Z"
   },
   {
    "duration": 25,
    "start_time": "2021-08-13T21:33:20.173Z"
   },
   {
    "duration": 15,
    "start_time": "2021-08-13T21:33:20.200Z"
   },
   {
    "duration": 45,
    "start_time": "2021-08-13T21:33:20.219Z"
   },
   {
    "duration": 6,
    "start_time": "2021-08-13T21:33:20.267Z"
   },
   {
    "duration": 88,
    "start_time": "2021-08-13T21:33:20.275Z"
   },
   {
    "duration": 21,
    "start_time": "2021-08-13T21:33:20.366Z"
   },
   {
    "duration": 26,
    "start_time": "2021-08-13T21:33:20.390Z"
   },
   {
    "duration": 17,
    "start_time": "2021-08-13T21:33:20.419Z"
   },
   {
    "duration": 38,
    "start_time": "2021-08-13T21:33:20.439Z"
   },
   {
    "duration": 58,
    "start_time": "2021-08-13T21:33:20.479Z"
   },
   {
    "duration": 46,
    "start_time": "2021-08-13T21:33:20.539Z"
   },
   {
    "duration": 107,
    "start_time": "2021-08-13T21:33:20.587Z"
   },
   {
    "duration": 115,
    "start_time": "2021-08-13T21:33:20.696Z"
   },
   {
    "duration": 12,
    "start_time": "2021-08-13T21:33:20.813Z"
   },
   {
    "duration": 35,
    "start_time": "2021-08-13T21:33:20.827Z"
   },
   {
    "duration": 51,
    "start_time": "2021-08-13T21:33:20.864Z"
   },
   {
    "duration": 78,
    "start_time": "2021-08-13T21:33:20.918Z"
   },
   {
    "duration": 15,
    "start_time": "2021-08-13T21:33:21.001Z"
   },
   {
    "duration": 88,
    "start_time": "2021-08-13T21:33:21.020Z"
   },
   {
    "duration": 74,
    "start_time": "2021-08-13T21:33:21.111Z"
   },
   {
    "duration": 16,
    "start_time": "2021-08-13T21:33:21.188Z"
   },
   {
    "duration": 241,
    "start_time": "2021-08-13T21:33:21.206Z"
   },
   {
    "duration": 21,
    "start_time": "2021-08-13T21:33:21.449Z"
   },
   {
    "duration": 240,
    "start_time": "2021-08-13T21:33:21.473Z"
   },
   {
    "duration": 233,
    "start_time": "2021-08-13T21:33:21.716Z"
   },
   {
    "duration": 34,
    "start_time": "2021-08-13T21:33:21.951Z"
   },
   {
    "duration": 31,
    "start_time": "2021-08-13T21:33:21.987Z"
   },
   {
    "duration": 219,
    "start_time": "2021-08-13T21:33:22.020Z"
   },
   {
    "duration": 28,
    "start_time": "2021-08-13T21:33:22.241Z"
   },
   {
    "duration": 17,
    "start_time": "2021-08-13T21:33:22.272Z"
   },
   {
    "duration": 20,
    "start_time": "2021-08-13T21:33:22.292Z"
   },
   {
    "duration": 74,
    "start_time": "2021-08-13T21:33:22.315Z"
   },
   {
    "duration": 6,
    "start_time": "2021-08-13T21:33:22.391Z"
   },
   {
    "duration": 76,
    "start_time": "2021-08-13T21:33:22.399Z"
   },
   {
    "duration": 6632,
    "start_time": "2021-08-13T21:33:22.478Z"
   },
   {
    "duration": 754,
    "start_time": "2021-08-13T21:33:29.113Z"
   },
   {
    "duration": 92,
    "start_time": "2021-08-13T21:33:29.870Z"
   },
   {
    "duration": 13,
    "start_time": "2021-08-13T21:33:29.965Z"
   },
   {
    "duration": 6690,
    "start_time": "2021-08-13T21:33:29.981Z"
   },
   {
    "duration": 311,
    "start_time": "2021-08-13T21:33:36.674Z"
   },
   {
    "duration": 15,
    "start_time": "2021-08-13T21:33:36.989Z"
   },
   {
    "duration": 13,
    "start_time": "2021-08-13T21:33:37.007Z"
   },
   {
    "duration": 62,
    "start_time": "2021-08-13T21:33:37.061Z"
   },
   {
    "duration": 7,
    "start_time": "2021-08-13T21:33:37.126Z"
   },
   {
    "duration": 320,
    "start_time": "2021-08-14T20:11:43.656Z"
   },
   {
    "duration": 1016,
    "start_time": "2021-08-14T20:11:52.310Z"
   },
   {
    "duration": 994,
    "start_time": "2021-08-14T20:11:53.328Z"
   },
   {
    "duration": 10,
    "start_time": "2021-08-14T20:11:54.324Z"
   },
   {
    "duration": 7,
    "start_time": "2021-08-14T20:11:54.335Z"
   },
   {
    "duration": 9,
    "start_time": "2021-08-14T20:11:54.344Z"
   },
   {
    "duration": 8,
    "start_time": "2021-08-14T20:11:54.354Z"
   },
   {
    "duration": 10,
    "start_time": "2021-08-14T20:11:54.364Z"
   },
   {
    "duration": 8,
    "start_time": "2021-08-14T20:11:54.376Z"
   },
   {
    "duration": 13,
    "start_time": "2021-08-14T20:11:54.392Z"
   },
   {
    "duration": 3,
    "start_time": "2021-08-14T20:11:54.407Z"
   },
   {
    "duration": 39,
    "start_time": "2021-08-14T20:11:54.411Z"
   },
   {
    "duration": 9,
    "start_time": "2021-08-14T20:11:54.451Z"
   },
   {
    "duration": 31,
    "start_time": "2021-08-14T20:11:54.461Z"
   },
   {
    "duration": 4,
    "start_time": "2021-08-14T20:11:54.493Z"
   },
   {
    "duration": 9,
    "start_time": "2021-08-14T20:11:54.499Z"
   },
   {
    "duration": 31,
    "start_time": "2021-08-14T20:11:54.510Z"
   },
   {
    "duration": 55,
    "start_time": "2021-08-14T20:11:54.542Z"
   },
   {
    "duration": 56,
    "start_time": "2021-08-14T20:11:54.599Z"
   },
   {
    "duration": 89,
    "start_time": "2021-08-14T20:11:54.656Z"
   },
   {
    "duration": 8,
    "start_time": "2021-08-14T20:11:54.746Z"
   },
   {
    "duration": 8,
    "start_time": "2021-08-14T20:11:54.755Z"
   },
   {
    "duration": 49,
    "start_time": "2021-08-14T20:11:54.764Z"
   },
   {
    "duration": 33,
    "start_time": "2021-08-14T20:11:54.817Z"
   },
   {
    "duration": 7,
    "start_time": "2021-08-14T20:11:54.852Z"
   },
   {
    "duration": 63,
    "start_time": "2021-08-14T20:11:54.861Z"
   },
   {
    "duration": 45,
    "start_time": "2021-08-14T20:11:54.926Z"
   },
   {
    "duration": 24,
    "start_time": "2021-08-14T20:11:54.972Z"
   },
   {
    "duration": 109,
    "start_time": "2021-08-14T20:11:54.998Z"
   },
   {
    "duration": 7,
    "start_time": "2021-08-14T20:11:55.108Z"
   },
   {
    "duration": 125,
    "start_time": "2021-08-14T20:11:55.116Z"
   },
   {
    "duration": 111,
    "start_time": "2021-08-14T20:11:55.242Z"
   },
   {
    "duration": 18,
    "start_time": "2021-08-14T20:11:55.355Z"
   },
   {
    "duration": 32,
    "start_time": "2021-08-14T20:11:55.374Z"
   },
   {
    "duration": 107,
    "start_time": "2021-08-14T20:11:55.408Z"
   },
   {
    "duration": 11,
    "start_time": "2021-08-14T20:11:55.517Z"
   },
   {
    "duration": 11,
    "start_time": "2021-08-14T20:11:55.530Z"
   },
   {
    "duration": 12,
    "start_time": "2021-08-14T20:11:55.543Z"
   },
   {
    "duration": 53,
    "start_time": "2021-08-14T20:11:55.557Z"
   },
   {
    "duration": 4,
    "start_time": "2021-08-14T20:11:55.612Z"
   },
   {
    "duration": 32,
    "start_time": "2021-08-14T20:11:55.618Z"
   },
   {
    "duration": 2151,
    "start_time": "2021-08-14T20:11:55.652Z"
   },
   {
    "duration": 260,
    "start_time": "2021-08-14T20:11:57.805Z"
   },
   {
    "duration": 42,
    "start_time": "2021-08-14T20:11:58.067Z"
   },
   {
    "duration": 6,
    "start_time": "2021-08-14T20:11:58.111Z"
   },
   {
    "duration": 2156,
    "start_time": "2021-08-14T20:11:58.119Z"
   },
   {
    "duration": 165,
    "start_time": "2021-08-14T20:12:00.277Z"
   },
   {
    "duration": 7,
    "start_time": "2021-08-14T20:12:00.444Z"
   },
   {
    "duration": 10,
    "start_time": "2021-08-14T20:12:00.452Z"
   },
   {
    "duration": 55,
    "start_time": "2021-08-14T20:12:00.464Z"
   },
   {
    "duration": 5,
    "start_time": "2021-08-14T20:12:00.521Z"
   },
   {
    "duration": 456,
    "start_time": "2021-08-14T20:15:02.079Z"
   },
   {
    "duration": 158,
    "start_time": "2021-08-14T20:16:06.302Z"
   },
   {
    "duration": 268,
    "start_time": "2021-08-14T20:16:42.003Z"
   },
   {
    "duration": 166,
    "start_time": "2021-08-14T20:17:11.233Z"
   },
   {
    "duration": 157,
    "start_time": "2021-08-14T20:17:19.033Z"
   },
   {
    "duration": 346,
    "start_time": "2021-08-14T20:22:24.263Z"
   },
   {
    "duration": 1526,
    "start_time": "2021-08-14T20:24:10.338Z"
   },
   {
    "duration": 2,
    "start_time": "2021-08-14T20:44:08.969Z"
   },
   {
    "duration": 2195,
    "start_time": "2021-08-14T20:44:15.913Z"
   },
   {
    "duration": 2310,
    "start_time": "2021-08-14T21:50:11.227Z"
   },
   {
    "duration": 170,
    "start_time": "2021-08-14T21:52:55.091Z"
   },
   {
    "duration": 1245,
    "start_time": "2021-08-14T22:00:41.164Z"
   },
   {
    "duration": 2353,
    "start_time": "2021-08-14T22:01:55.165Z"
   },
   {
    "duration": 173,
    "start_time": "2021-08-14T22:15:45.995Z"
   },
   {
    "duration": 160,
    "start_time": "2021-08-14T22:20:22.153Z"
   },
   {
    "duration": 286,
    "start_time": "2021-08-14T22:20:41.352Z"
   },
   {
    "duration": 155,
    "start_time": "2021-08-14T22:21:27.859Z"
   },
   {
    "duration": 380,
    "start_time": "2021-08-14T22:21:46.138Z"
   },
   {
    "duration": 165,
    "start_time": "2021-08-14T22:22:23.128Z"
   },
   {
    "duration": 162,
    "start_time": "2021-08-14T22:22:45.829Z"
   },
   {
    "duration": 160,
    "start_time": "2021-08-14T22:23:09.866Z"
   },
   {
    "duration": 161,
    "start_time": "2021-08-14T22:24:06.250Z"
   },
   {
    "duration": 160,
    "start_time": "2021-08-14T22:28:09.372Z"
   },
   {
    "duration": 157,
    "start_time": "2021-08-14T22:28:12.230Z"
   },
   {
    "duration": 150,
    "start_time": "2021-08-14T22:28:14.597Z"
   },
   {
    "duration": 163,
    "start_time": "2021-08-14T22:28:16.477Z"
   },
   {
    "duration": 158,
    "start_time": "2021-08-14T22:28:18.520Z"
   },
   {
    "duration": 256,
    "start_time": "2021-08-14T22:28:20.438Z"
   },
   {
    "duration": 149,
    "start_time": "2021-08-14T22:28:22.355Z"
   },
   {
    "duration": 166,
    "start_time": "2021-08-14T22:29:48.449Z"
   },
   {
    "duration": 255,
    "start_time": "2021-08-14T22:34:41.499Z"
   },
   {
    "duration": 161,
    "start_time": "2021-08-14T22:45:41.045Z"
   },
   {
    "duration": 160,
    "start_time": "2021-08-14T22:45:42.421Z"
   },
   {
    "duration": 147,
    "start_time": "2021-08-14T22:45:44.020Z"
   },
   {
    "duration": 148,
    "start_time": "2021-08-14T22:45:45.313Z"
   },
   {
    "duration": 151,
    "start_time": "2021-08-14T22:45:46.171Z"
   },
   {
    "duration": 164,
    "start_time": "2021-08-14T22:45:46.984Z"
   },
   {
    "duration": 160,
    "start_time": "2021-08-14T22:45:48.383Z"
   },
   {
    "duration": 264,
    "start_time": "2021-08-14T22:45:56.842Z"
   },
   {
    "duration": 159,
    "start_time": "2021-08-15T17:56:22.949Z"
   },
   {
    "duration": 419,
    "start_time": "2021-08-15T18:13:10.388Z"
   },
   {
    "duration": 413,
    "start_time": "2021-08-15T18:13:58.859Z"
   },
   {
    "duration": 227,
    "start_time": "2021-08-15T18:14:40.105Z"
   }
  ],
  "kernelspec": {
   "display_name": "Python 3",
   "language": "python",
   "name": "python3"
  },
  "language_info": {
   "codemirror_mode": {
    "name": "ipython",
    "version": 3
   },
   "file_extension": ".py",
   "mimetype": "text/x-python",
   "name": "python",
   "nbconvert_exporter": "python",
   "pygments_lexer": "ipython3",
   "version": "3.8.5"
  },
  "toc": {
   "base_numbering": 1,
   "nav_menu": {},
   "number_sections": true,
   "sideBar": true,
   "skip_h1_title": true,
   "title_cell": "Table of Contents",
   "title_sidebar": "Contents",
   "toc_cell": false,
   "toc_position": {},
   "toc_section_display": true,
   "toc_window_display": false
  }
 },
 "nbformat": 4,
 "nbformat_minor": 2
}
