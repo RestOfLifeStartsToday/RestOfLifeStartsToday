{
 "cells": [
  {
   "cell_type": "markdown",
   "metadata": {},
   "source": [
    "# Research on car sales ads\n",
    "\n",
    "As an Analyst, my task is to examine a few years data, and figure out which factors influence the price of a vehicle. "
   ]
  },
  {
   "cell_type": "markdown",
   "metadata": {},
   "source": [
    "## Open the data file and study the general information. "
   ]
  },
  {
   "cell_type": "code",
   "execution_count": 1,
   "metadata": {},
   "outputs": [
    {
     "data": {
      "text/html": [
       "<div>\n",
       "<style scoped>\n",
       "    .dataframe tbody tr th:only-of-type {\n",
       "        vertical-align: middle;\n",
       "    }\n",
       "\n",
       "    .dataframe tbody tr th {\n",
       "        vertical-align: top;\n",
       "    }\n",
       "\n",
       "    .dataframe thead th {\n",
       "        text-align: right;\n",
       "    }\n",
       "</style>\n",
       "<table border=\"1\" class=\"dataframe\">\n",
       "  <thead>\n",
       "    <tr style=\"text-align: right;\">\n",
       "      <th></th>\n",
       "      <th>price</th>\n",
       "      <th>model_year</th>\n",
       "      <th>model</th>\n",
       "      <th>condition</th>\n",
       "      <th>cylinders</th>\n",
       "      <th>fuel</th>\n",
       "      <th>odometer</th>\n",
       "      <th>transmission</th>\n",
       "      <th>type</th>\n",
       "      <th>paint_color</th>\n",
       "      <th>is_4wd</th>\n",
       "      <th>date_posted</th>\n",
       "      <th>days_listed</th>\n",
       "    </tr>\n",
       "  </thead>\n",
       "  <tbody>\n",
       "    <tr>\n",
       "      <td>0</td>\n",
       "      <td>9400</td>\n",
       "      <td>2011.0</td>\n",
       "      <td>bmw x5</td>\n",
       "      <td>good</td>\n",
       "      <td>6.0</td>\n",
       "      <td>gas</td>\n",
       "      <td>145000.0</td>\n",
       "      <td>automatic</td>\n",
       "      <td>SUV</td>\n",
       "      <td>NaN</td>\n",
       "      <td>1.0</td>\n",
       "      <td>2018-06-23</td>\n",
       "      <td>19</td>\n",
       "    </tr>\n",
       "    <tr>\n",
       "      <td>1</td>\n",
       "      <td>25500</td>\n",
       "      <td>NaN</td>\n",
       "      <td>ford f-150</td>\n",
       "      <td>good</td>\n",
       "      <td>6.0</td>\n",
       "      <td>gas</td>\n",
       "      <td>88705.0</td>\n",
       "      <td>automatic</td>\n",
       "      <td>pickup</td>\n",
       "      <td>white</td>\n",
       "      <td>1.0</td>\n",
       "      <td>2018-10-19</td>\n",
       "      <td>50</td>\n",
       "    </tr>\n",
       "    <tr>\n",
       "      <td>2</td>\n",
       "      <td>5500</td>\n",
       "      <td>2013.0</td>\n",
       "      <td>hyundai sonata</td>\n",
       "      <td>like new</td>\n",
       "      <td>4.0</td>\n",
       "      <td>gas</td>\n",
       "      <td>110000.0</td>\n",
       "      <td>automatic</td>\n",
       "      <td>sedan</td>\n",
       "      <td>red</td>\n",
       "      <td>NaN</td>\n",
       "      <td>2019-02-07</td>\n",
       "      <td>79</td>\n",
       "    </tr>\n",
       "    <tr>\n",
       "      <td>3</td>\n",
       "      <td>1500</td>\n",
       "      <td>2003.0</td>\n",
       "      <td>ford f-150</td>\n",
       "      <td>fair</td>\n",
       "      <td>8.0</td>\n",
       "      <td>gas</td>\n",
       "      <td>NaN</td>\n",
       "      <td>automatic</td>\n",
       "      <td>pickup</td>\n",
       "      <td>NaN</td>\n",
       "      <td>NaN</td>\n",
       "      <td>2019-03-22</td>\n",
       "      <td>9</td>\n",
       "    </tr>\n",
       "    <tr>\n",
       "      <td>4</td>\n",
       "      <td>14900</td>\n",
       "      <td>2017.0</td>\n",
       "      <td>chrysler 200</td>\n",
       "      <td>excellent</td>\n",
       "      <td>4.0</td>\n",
       "      <td>gas</td>\n",
       "      <td>80903.0</td>\n",
       "      <td>automatic</td>\n",
       "      <td>sedan</td>\n",
       "      <td>black</td>\n",
       "      <td>NaN</td>\n",
       "      <td>2019-04-02</td>\n",
       "      <td>28</td>\n",
       "    </tr>\n",
       "  </tbody>\n",
       "</table>\n",
       "</div>"
      ],
      "text/plain": [
       "   price  model_year           model  condition  cylinders fuel  odometer  \\\n",
       "0   9400      2011.0          bmw x5       good        6.0  gas  145000.0   \n",
       "1  25500         NaN      ford f-150       good        6.0  gas   88705.0   \n",
       "2   5500      2013.0  hyundai sonata   like new        4.0  gas  110000.0   \n",
       "3   1500      2003.0      ford f-150       fair        8.0  gas       NaN   \n",
       "4  14900      2017.0    chrysler 200  excellent        4.0  gas   80903.0   \n",
       "\n",
       "  transmission    type paint_color  is_4wd date_posted  days_listed  \n",
       "0    automatic     SUV         NaN     1.0  2018-06-23           19  \n",
       "1    automatic  pickup       white     1.0  2018-10-19           50  \n",
       "2    automatic   sedan         red     NaN  2019-02-07           79  \n",
       "3    automatic  pickup         NaN     NaN  2019-03-22            9  \n",
       "4    automatic   sedan       black     NaN  2019-04-02           28  "
      ]
     },
     "execution_count": 1,
     "metadata": {},
     "output_type": "execute_result"
    }
   ],
   "source": [
    "import pandas as pd\n",
    "import datetime\n",
    "import matplotlib.pyplot as plt\n",
    "import seaborn as sb\n",
    "\n",
    "from IPython.core.interactiveshell import InteractiveShell\n",
    "InteractiveShell.ast_node_interactivity = \"all\"\n",
    "\n",
    "\n",
    "\n",
    "try:\n",
    "    df=pd.read_csv('vehicles_us.csv')\n",
    "except:\n",
    "    df=pd.read_csv('/datasets/vehicles_us.csv')\n",
    "\n",
    "df.head()"
   ]
  },
  {
   "cell_type": "code",
   "execution_count": 2,
   "metadata": {},
   "outputs": [
    {
     "name": "stdout",
     "output_type": "stream",
     "text": [
      "<class 'pandas.core.frame.DataFrame'>\n",
      "RangeIndex: 51525 entries, 0 to 51524\n",
      "Data columns (total 13 columns):\n",
      "price           51525 non-null int64\n",
      "model_year      47906 non-null float64\n",
      "model           51525 non-null object\n",
      "condition       51525 non-null object\n",
      "cylinders       46265 non-null float64\n",
      "fuel            51525 non-null object\n",
      "odometer        43633 non-null float64\n",
      "transmission    51525 non-null object\n",
      "type            51525 non-null object\n",
      "paint_color     42258 non-null object\n",
      "is_4wd          25572 non-null float64\n",
      "date_posted     51525 non-null object\n",
      "days_listed     51525 non-null int64\n",
      "dtypes: float64(4), int64(2), object(7)\n",
      "memory usage: 5.1+ MB\n"
     ]
    }
   ],
   "source": [
    "df.info()"
   ]
  },
  {
   "cell_type": "code",
   "execution_count": 3,
   "metadata": {},
   "outputs": [
    {
     "data": {
      "text/html": [
       "<div>\n",
       "<style scoped>\n",
       "    .dataframe tbody tr th:only-of-type {\n",
       "        vertical-align: middle;\n",
       "    }\n",
       "\n",
       "    .dataframe tbody tr th {\n",
       "        vertical-align: top;\n",
       "    }\n",
       "\n",
       "    .dataframe thead th {\n",
       "        text-align: right;\n",
       "    }\n",
       "</style>\n",
       "<table border=\"1\" class=\"dataframe\">\n",
       "  <thead>\n",
       "    <tr style=\"text-align: right;\">\n",
       "      <th></th>\n",
       "      <th>price</th>\n",
       "      <th>model_year</th>\n",
       "      <th>cylinders</th>\n",
       "      <th>odometer</th>\n",
       "      <th>is_4wd</th>\n",
       "      <th>days_listed</th>\n",
       "    </tr>\n",
       "  </thead>\n",
       "  <tbody>\n",
       "    <tr>\n",
       "      <td>count</td>\n",
       "      <td>51525.000000</td>\n",
       "      <td>47906.000000</td>\n",
       "      <td>46265.000000</td>\n",
       "      <td>43633.000000</td>\n",
       "      <td>25572.0</td>\n",
       "      <td>51525.00000</td>\n",
       "    </tr>\n",
       "    <tr>\n",
       "      <td>mean</td>\n",
       "      <td>12132.464920</td>\n",
       "      <td>2009.750470</td>\n",
       "      <td>6.125235</td>\n",
       "      <td>115553.461738</td>\n",
       "      <td>1.0</td>\n",
       "      <td>39.55476</td>\n",
       "    </tr>\n",
       "    <tr>\n",
       "      <td>std</td>\n",
       "      <td>10040.803015</td>\n",
       "      <td>6.282065</td>\n",
       "      <td>1.660360</td>\n",
       "      <td>65094.611341</td>\n",
       "      <td>0.0</td>\n",
       "      <td>28.20427</td>\n",
       "    </tr>\n",
       "    <tr>\n",
       "      <td>min</td>\n",
       "      <td>1.000000</td>\n",
       "      <td>1908.000000</td>\n",
       "      <td>3.000000</td>\n",
       "      <td>0.000000</td>\n",
       "      <td>1.0</td>\n",
       "      <td>0.00000</td>\n",
       "    </tr>\n",
       "    <tr>\n",
       "      <td>25%</td>\n",
       "      <td>5000.000000</td>\n",
       "      <td>2006.000000</td>\n",
       "      <td>4.000000</td>\n",
       "      <td>70000.000000</td>\n",
       "      <td>1.0</td>\n",
       "      <td>19.00000</td>\n",
       "    </tr>\n",
       "    <tr>\n",
       "      <td>50%</td>\n",
       "      <td>9000.000000</td>\n",
       "      <td>2011.000000</td>\n",
       "      <td>6.000000</td>\n",
       "      <td>113000.000000</td>\n",
       "      <td>1.0</td>\n",
       "      <td>33.00000</td>\n",
       "    </tr>\n",
       "    <tr>\n",
       "      <td>75%</td>\n",
       "      <td>16839.000000</td>\n",
       "      <td>2014.000000</td>\n",
       "      <td>8.000000</td>\n",
       "      <td>155000.000000</td>\n",
       "      <td>1.0</td>\n",
       "      <td>53.00000</td>\n",
       "    </tr>\n",
       "    <tr>\n",
       "      <td>max</td>\n",
       "      <td>375000.000000</td>\n",
       "      <td>2019.000000</td>\n",
       "      <td>12.000000</td>\n",
       "      <td>990000.000000</td>\n",
       "      <td>1.0</td>\n",
       "      <td>271.00000</td>\n",
       "    </tr>\n",
       "  </tbody>\n",
       "</table>\n",
       "</div>"
      ],
      "text/plain": [
       "               price    model_year     cylinders       odometer   is_4wd  \\\n",
       "count   51525.000000  47906.000000  46265.000000   43633.000000  25572.0   \n",
       "mean    12132.464920   2009.750470      6.125235  115553.461738      1.0   \n",
       "std     10040.803015      6.282065      1.660360   65094.611341      0.0   \n",
       "min         1.000000   1908.000000      3.000000       0.000000      1.0   \n",
       "25%      5000.000000   2006.000000      4.000000   70000.000000      1.0   \n",
       "50%      9000.000000   2011.000000      6.000000  113000.000000      1.0   \n",
       "75%     16839.000000   2014.000000      8.000000  155000.000000      1.0   \n",
       "max    375000.000000   2019.000000     12.000000  990000.000000      1.0   \n",
       "\n",
       "       days_listed  \n",
       "count  51525.00000  \n",
       "mean      39.55476  \n",
       "std       28.20427  \n",
       "min        0.00000  \n",
       "25%       19.00000  \n",
       "50%       33.00000  \n",
       "75%       53.00000  \n",
       "max      271.00000  "
      ]
     },
     "execution_count": 3,
     "metadata": {},
     "output_type": "execute_result"
    }
   ],
   "source": [
    "df.describe()"
   ]
  },
  {
   "cell_type": "markdown",
   "metadata": {},
   "source": [
    "### Conclusion"
   ]
  },
  {
   "cell_type": "markdown",
   "metadata": {},
   "source": [
    "I can see that there are quite a lot of missing values, which I'll have to see how I handle."
   ]
  },
  {
   "cell_type": "markdown",
   "metadata": {},
   "source": [
    "## Data preprocessing"
   ]
  },
  {
   "cell_type": "markdown",
   "metadata": {},
   "source": [
    "### Data Check-ups"
   ]
  },
  {
   "cell_type": "markdown",
   "metadata": {},
   "source": [
    "#### Duplicates"
   ]
  },
  {
   "cell_type": "code",
   "execution_count": 4,
   "metadata": {},
   "outputs": [
    {
     "name": "stdout",
     "output_type": "stream",
     "text": [
      "Number of duplicates in the dataset: 0\n"
     ]
    }
   ],
   "source": [
    "num_of_duplicate=df.duplicated().sum()\n",
    "print('Number of duplicates in the dataset: {}'.format(num_of_duplicate))"
   ]
  },
  {
   "cell_type": "markdown",
   "metadata": {},
   "source": [
    "#### Bad values treatment"
   ]
  },
  {
   "cell_type": "markdown",
   "metadata": {},
   "source": [
    "Found some issues with the cars year model, and I treated it as part of missing values treatment"
   ]
  },
  {
   "cell_type": "markdown",
   "metadata": {},
   "source": [
    "###### fuel"
   ]
  },
  {
   "cell_type": "markdown",
   "metadata": {},
   "source": [
    "I checked and saw that all cars (6 in total) that the publishers defined as electric were cars that cunsume petrol, so I changed it to gas."
   ]
  },
  {
   "cell_type": "code",
   "execution_count": 5,
   "metadata": {},
   "outputs": [],
   "source": [
    "df.loc[df['fuel']=='electric','fuel']='gas'"
   ]
  },
  {
   "cell_type": "markdown",
   "metadata": {},
   "source": [
    "#### Missing Values"
   ]
  },
  {
   "cell_type": "markdown",
   "metadata": {},
   "source": [
    "##### Missing Values that can be filled"
   ]
  },
  {
   "cell_type": "markdown",
   "metadata": {},
   "source": [
    "###### is_4wd"
   ]
  },
  {
   "cell_type": "markdown",
   "metadata": {},
   "source": [
    "The is_4wd column have 2 values: 1 and empty cells. The empty cells mean that this is not a 4WD car. I'll fill it with 0."
   ]
  },
  {
   "cell_type": "code",
   "execution_count": 6,
   "metadata": {},
   "outputs": [
    {
     "data": {
      "text/html": [
       "<div>\n",
       "<style scoped>\n",
       "    .dataframe tbody tr th:only-of-type {\n",
       "        vertical-align: middle;\n",
       "    }\n",
       "\n",
       "    .dataframe tbody tr th {\n",
       "        vertical-align: top;\n",
       "    }\n",
       "\n",
       "    .dataframe thead th {\n",
       "        text-align: right;\n",
       "    }\n",
       "</style>\n",
       "<table border=\"1\" class=\"dataframe\">\n",
       "  <thead>\n",
       "    <tr style=\"text-align: right;\">\n",
       "      <th></th>\n",
       "      <th>price</th>\n",
       "      <th>model_year</th>\n",
       "      <th>model</th>\n",
       "      <th>condition</th>\n",
       "      <th>cylinders</th>\n",
       "      <th>fuel</th>\n",
       "      <th>odometer</th>\n",
       "      <th>transmission</th>\n",
       "      <th>type</th>\n",
       "      <th>paint_color</th>\n",
       "      <th>is_4wd</th>\n",
       "      <th>date_posted</th>\n",
       "      <th>days_listed</th>\n",
       "    </tr>\n",
       "  </thead>\n",
       "  <tbody>\n",
       "    <tr>\n",
       "      <td>0</td>\n",
       "      <td>9400</td>\n",
       "      <td>2011.0</td>\n",
       "      <td>bmw x5</td>\n",
       "      <td>good</td>\n",
       "      <td>6.0</td>\n",
       "      <td>gas</td>\n",
       "      <td>145000.0</td>\n",
       "      <td>automatic</td>\n",
       "      <td>SUV</td>\n",
       "      <td>NaN</td>\n",
       "      <td>1</td>\n",
       "      <td>2018-06-23</td>\n",
       "      <td>19</td>\n",
       "    </tr>\n",
       "    <tr>\n",
       "      <td>1</td>\n",
       "      <td>25500</td>\n",
       "      <td>NaN</td>\n",
       "      <td>ford f-150</td>\n",
       "      <td>good</td>\n",
       "      <td>6.0</td>\n",
       "      <td>gas</td>\n",
       "      <td>88705.0</td>\n",
       "      <td>automatic</td>\n",
       "      <td>pickup</td>\n",
       "      <td>white</td>\n",
       "      <td>1</td>\n",
       "      <td>2018-10-19</td>\n",
       "      <td>50</td>\n",
       "    </tr>\n",
       "    <tr>\n",
       "      <td>2</td>\n",
       "      <td>5500</td>\n",
       "      <td>2013.0</td>\n",
       "      <td>hyundai sonata</td>\n",
       "      <td>like new</td>\n",
       "      <td>4.0</td>\n",
       "      <td>gas</td>\n",
       "      <td>110000.0</td>\n",
       "      <td>automatic</td>\n",
       "      <td>sedan</td>\n",
       "      <td>red</td>\n",
       "      <td>0</td>\n",
       "      <td>2019-02-07</td>\n",
       "      <td>79</td>\n",
       "    </tr>\n",
       "    <tr>\n",
       "      <td>3</td>\n",
       "      <td>1500</td>\n",
       "      <td>2003.0</td>\n",
       "      <td>ford f-150</td>\n",
       "      <td>fair</td>\n",
       "      <td>8.0</td>\n",
       "      <td>gas</td>\n",
       "      <td>NaN</td>\n",
       "      <td>automatic</td>\n",
       "      <td>pickup</td>\n",
       "      <td>NaN</td>\n",
       "      <td>0</td>\n",
       "      <td>2019-03-22</td>\n",
       "      <td>9</td>\n",
       "    </tr>\n",
       "    <tr>\n",
       "      <td>4</td>\n",
       "      <td>14900</td>\n",
       "      <td>2017.0</td>\n",
       "      <td>chrysler 200</td>\n",
       "      <td>excellent</td>\n",
       "      <td>4.0</td>\n",
       "      <td>gas</td>\n",
       "      <td>80903.0</td>\n",
       "      <td>automatic</td>\n",
       "      <td>sedan</td>\n",
       "      <td>black</td>\n",
       "      <td>0</td>\n",
       "      <td>2019-04-02</td>\n",
       "      <td>28</td>\n",
       "    </tr>\n",
       "  </tbody>\n",
       "</table>\n",
       "</div>"
      ],
      "text/plain": [
       "   price  model_year           model  condition  cylinders fuel  odometer  \\\n",
       "0   9400      2011.0          bmw x5       good        6.0  gas  145000.0   \n",
       "1  25500         NaN      ford f-150       good        6.0  gas   88705.0   \n",
       "2   5500      2013.0  hyundai sonata   like new        4.0  gas  110000.0   \n",
       "3   1500      2003.0      ford f-150       fair        8.0  gas       NaN   \n",
       "4  14900      2017.0    chrysler 200  excellent        4.0  gas   80903.0   \n",
       "\n",
       "  transmission    type paint_color is_4wd date_posted  days_listed  \n",
       "0    automatic     SUV         NaN      1  2018-06-23           19  \n",
       "1    automatic  pickup       white      1  2018-10-19           50  \n",
       "2    automatic   sedan         red      0  2019-02-07           79  \n",
       "3    automatic  pickup         NaN      0  2019-03-22            9  \n",
       "4    automatic   sedan       black      0  2019-04-02           28  "
      ]
     },
     "execution_count": 6,
     "metadata": {},
     "output_type": "execute_result"
    }
   ],
   "source": [
    "df['is_4wd']=df['is_4wd'].fillna('0')\n",
    "df.head()"
   ]
  },
  {
   "cell_type": "markdown",
   "metadata": {},
   "source": [
    "###### cylinders"
   ]
  },
  {
   "cell_type": "markdown",
   "metadata": {},
   "source": [
    "The number of cylinders can be filled by the approach that number of cylinders are probably the same for the same model and year of production. So i found the median for each group of model and year of production"
   ]
  },
  {
   "cell_type": "code",
   "execution_count": 7,
   "metadata": {},
   "outputs": [
    {
     "name": "stdout",
     "output_type": "stream",
     "text": [
      "The Percent of missing values in cylinders column is 10.21%\n",
      "The Percent of missing values in cylinders column after filling na is 0.75%\n"
     ]
    }
   ],
   "source": [
    "pct_missing_values_cylinders=len(df[df['cylinders'].isnull()==True])/len(df)\n",
    "print('The Percent of missing values in cylinders column is {:.2%}'.format(pct_missing_values_cylinders))\n",
    "\n",
    "df['cylinders'] = df['cylinders'].fillna(df.groupby(['model','model_year'])['cylinders'].transform('median'))\n",
    "\n",
    "pct_missing_values_cylinders=len(df[df['cylinders'].isnull()==True])/len(df)\n",
    "print('The Percent of missing values in cylinders column after filling na is {:.2%}'.format(pct_missing_values_cylinders))"
   ]
  },
  {
   "cell_type": "markdown",
   "metadata": {},
   "source": [
    "The transform handled most of the NAs, but there are still some, which I'll fill with 0.<br>There are still some missing values after the transform operation, since the model_year has missing values. That group is not treated by the transform function."
   ]
  },
  {
   "cell_type": "code",
   "execution_count": 8,
   "metadata": {},
   "outputs": [],
   "source": [
    "df['cylinders']=df['cylinders'].fillna(0)"
   ]
  },
  {
   "cell_type": "markdown",
   "metadata": {},
   "source": [
    "```python\n",
    "\n",
    "columns = [col1, col2, col3]\n",
    "\n",
    "for i in columns:\n",
    "    df[i] = df[i].fillna(0)\n",
    "\n",
    "```"
   ]
  },
  {
   "cell_type": "markdown",
   "metadata": {},
   "source": [
    "##### Missing Values that can't be filled"
   ]
  },
  {
   "cell_type": "markdown",
   "metadata": {},
   "source": [
    "###### paint_color"
   ]
  },
  {
   "cell_type": "code",
   "execution_count": 9,
   "metadata": {},
   "outputs": [
    {
     "name": "stdout",
     "output_type": "stream",
     "text": [
      "The Percent of missing values in paint_color column is 17.99%\n"
     ]
    }
   ],
   "source": [
    "pct_missing_values_paint_color=len(df[df['paint_color'].isnull()==True])/len(df)\n",
    "print('The Percent of missing values in paint_color column is {:.2%}'.format(pct_missing_values_paint_color))\n",
    "df['paint_color']=df['paint_color'].fillna('other')"
   ]
  },
  {
   "cell_type": "code",
   "execution_count": 10,
   "metadata": {},
   "outputs": [
    {
     "name": "stdout",
     "output_type": "stream",
     "text": [
      "The Percent of missing values in model_year column is 7.02%\n"
     ]
    }
   ],
   "source": [
    "pct_missing_values_model_year=len(df[df['model_year'].isnull()==True])/len(df)\n",
    "print('The Percent of missing values in model_year column is {:.2%}'.format(pct_missing_values_model_year))"
   ]
  },
  {
   "cell_type": "code",
   "execution_count": 11,
   "metadata": {
    "scrolled": true
   },
   "outputs": [
    {
     "data": {
      "text/html": [
       "<div>\n",
       "<style scoped>\n",
       "    .dataframe tbody tr th:only-of-type {\n",
       "        vertical-align: middle;\n",
       "    }\n",
       "\n",
       "    .dataframe tbody tr th {\n",
       "        vertical-align: top;\n",
       "    }\n",
       "\n",
       "    .dataframe thead th {\n",
       "        text-align: right;\n",
       "    }\n",
       "</style>\n",
       "<table border=\"1\" class=\"dataframe\">\n",
       "  <thead>\n",
       "    <tr style=\"text-align: right;\">\n",
       "      <th></th>\n",
       "      <th>index</th>\n",
       "      <th>0</th>\n",
       "    </tr>\n",
       "  </thead>\n",
       "  <tbody>\n",
       "    <tr>\n",
       "      <td>0</td>\n",
       "      <td>price</td>\n",
       "      <td>0.000000</td>\n",
       "    </tr>\n",
       "    <tr>\n",
       "      <td>1</td>\n",
       "      <td>model_year</td>\n",
       "      <td>0.070238</td>\n",
       "    </tr>\n",
       "    <tr>\n",
       "      <td>2</td>\n",
       "      <td>model</td>\n",
       "      <td>0.000000</td>\n",
       "    </tr>\n",
       "    <tr>\n",
       "      <td>3</td>\n",
       "      <td>condition</td>\n",
       "      <td>0.000000</td>\n",
       "    </tr>\n",
       "    <tr>\n",
       "      <td>4</td>\n",
       "      <td>cylinders</td>\n",
       "      <td>0.000000</td>\n",
       "    </tr>\n",
       "    <tr>\n",
       "      <td>5</td>\n",
       "      <td>fuel</td>\n",
       "      <td>0.000000</td>\n",
       "    </tr>\n",
       "    <tr>\n",
       "      <td>6</td>\n",
       "      <td>odometer</td>\n",
       "      <td>0.153168</td>\n",
       "    </tr>\n",
       "    <tr>\n",
       "      <td>7</td>\n",
       "      <td>transmission</td>\n",
       "      <td>0.000000</td>\n",
       "    </tr>\n",
       "    <tr>\n",
       "      <td>8</td>\n",
       "      <td>type</td>\n",
       "      <td>0.000000</td>\n",
       "    </tr>\n",
       "    <tr>\n",
       "      <td>9</td>\n",
       "      <td>paint_color</td>\n",
       "      <td>0.000000</td>\n",
       "    </tr>\n",
       "    <tr>\n",
       "      <td>10</td>\n",
       "      <td>is_4wd</td>\n",
       "      <td>0.000000</td>\n",
       "    </tr>\n",
       "    <tr>\n",
       "      <td>11</td>\n",
       "      <td>date_posted</td>\n",
       "      <td>0.000000</td>\n",
       "    </tr>\n",
       "    <tr>\n",
       "      <td>12</td>\n",
       "      <td>days_listed</td>\n",
       "      <td>0.000000</td>\n",
       "    </tr>\n",
       "  </tbody>\n",
       "</table>\n",
       "</div>"
      ],
      "text/plain": [
       "           index         0\n",
       "0          price  0.000000\n",
       "1     model_year  0.070238\n",
       "2          model  0.000000\n",
       "3      condition  0.000000\n",
       "4      cylinders  0.000000\n",
       "5           fuel  0.000000\n",
       "6       odometer  0.153168\n",
       "7   transmission  0.000000\n",
       "8           type  0.000000\n",
       "9    paint_color  0.000000\n",
       "10        is_4wd  0.000000\n",
       "11   date_posted  0.000000\n",
       "12   days_listed  0.000000"
      ]
     },
     "execution_count": 11,
     "metadata": {},
     "output_type": "execute_result"
    }
   ],
   "source": [
    "df.isna().mean().reset_index()"
   ]
  },
  {
   "cell_type": "markdown",
   "metadata": {},
   "source": [
    "###### model_year"
   ]
  },
  {
   "cell_type": "markdown",
   "metadata": {},
   "source": [
    "Looking at the model_year column, I see that there are cars that are too old. I'll see how many cars are older than 1970."
   ]
  },
  {
   "cell_type": "code",
   "execution_count": 12,
   "metadata": {},
   "outputs": [
    {
     "data": {
      "text/html": [
       "<div>\n",
       "<style scoped>\n",
       "    .dataframe tbody tr th:only-of-type {\n",
       "        vertical-align: middle;\n",
       "    }\n",
       "\n",
       "    .dataframe tbody tr th {\n",
       "        vertical-align: top;\n",
       "    }\n",
       "\n",
       "    .dataframe thead th {\n",
       "        text-align: right;\n",
       "    }\n",
       "</style>\n",
       "<table border=\"1\" class=\"dataframe\">\n",
       "  <thead>\n",
       "    <tr style=\"text-align: right;\">\n",
       "      <th></th>\n",
       "      <th>price</th>\n",
       "      <th>model_year</th>\n",
       "      <th>model</th>\n",
       "      <th>condition</th>\n",
       "      <th>cylinders</th>\n",
       "      <th>fuel</th>\n",
       "      <th>odometer</th>\n",
       "      <th>transmission</th>\n",
       "      <th>type</th>\n",
       "      <th>paint_color</th>\n",
       "      <th>is_4wd</th>\n",
       "      <th>date_posted</th>\n",
       "      <th>days_listed</th>\n",
       "    </tr>\n",
       "  </thead>\n",
       "  <tbody>\n",
       "    <tr>\n",
       "      <td>33907</td>\n",
       "      <td>12995</td>\n",
       "      <td>1908.0</td>\n",
       "      <td>cadillac escalade</td>\n",
       "      <td>excellent</td>\n",
       "      <td>8.0</td>\n",
       "      <td>gas</td>\n",
       "      <td>NaN</td>\n",
       "      <td>automatic</td>\n",
       "      <td>SUV</td>\n",
       "      <td>white</td>\n",
       "      <td>0</td>\n",
       "      <td>2018-06-24</td>\n",
       "      <td>25</td>\n",
       "    </tr>\n",
       "    <tr>\n",
       "      <td>33906</td>\n",
       "      <td>12995</td>\n",
       "      <td>1908.0</td>\n",
       "      <td>gmc yukon</td>\n",
       "      <td>good</td>\n",
       "      <td>8.0</td>\n",
       "      <td>gas</td>\n",
       "      <td>169328.0</td>\n",
       "      <td>automatic</td>\n",
       "      <td>SUV</td>\n",
       "      <td>black</td>\n",
       "      <td>0</td>\n",
       "      <td>2018-07-06</td>\n",
       "      <td>34</td>\n",
       "    </tr>\n",
       "    <tr>\n",
       "      <td>45694</td>\n",
       "      <td>18000</td>\n",
       "      <td>1929.0</td>\n",
       "      <td>ford f-150</td>\n",
       "      <td>good</td>\n",
       "      <td>8.0</td>\n",
       "      <td>gas</td>\n",
       "      <td>NaN</td>\n",
       "      <td>manual</td>\n",
       "      <td>other</td>\n",
       "      <td>silver</td>\n",
       "      <td>0</td>\n",
       "      <td>2018-11-18</td>\n",
       "      <td>59</td>\n",
       "    </tr>\n",
       "    <tr>\n",
       "      <td>34713</td>\n",
       "      <td>5000</td>\n",
       "      <td>1936.0</td>\n",
       "      <td>ford f-150</td>\n",
       "      <td>excellent</td>\n",
       "      <td>6.0</td>\n",
       "      <td>gas</td>\n",
       "      <td>30000.0</td>\n",
       "      <td>manual</td>\n",
       "      <td>pickup</td>\n",
       "      <td>purple</td>\n",
       "      <td>0</td>\n",
       "      <td>2018-11-22</td>\n",
       "      <td>10</td>\n",
       "    </tr>\n",
       "    <tr>\n",
       "      <td>22595</td>\n",
       "      <td>21000</td>\n",
       "      <td>1948.0</td>\n",
       "      <td>chevrolet impala</td>\n",
       "      <td>like new</td>\n",
       "      <td>8.0</td>\n",
       "      <td>gas</td>\n",
       "      <td>4000.0</td>\n",
       "      <td>automatic</td>\n",
       "      <td>sedan</td>\n",
       "      <td>red</td>\n",
       "      <td>0</td>\n",
       "      <td>2019-01-18</td>\n",
       "      <td>24</td>\n",
       "    </tr>\n",
       "  </tbody>\n",
       "</table>\n",
       "</div>"
      ],
      "text/plain": [
       "       price  model_year              model  condition  cylinders fuel  \\\n",
       "33907  12995      1908.0  cadillac escalade  excellent        8.0  gas   \n",
       "33906  12995      1908.0          gmc yukon       good        8.0  gas   \n",
       "45694  18000      1929.0         ford f-150       good        8.0  gas   \n",
       "34713   5000      1936.0         ford f-150  excellent        6.0  gas   \n",
       "22595  21000      1948.0   chevrolet impala   like new        8.0  gas   \n",
       "\n",
       "       odometer transmission    type paint_color is_4wd date_posted  \\\n",
       "33907       NaN    automatic     SUV       white      0  2018-06-24   \n",
       "33906  169328.0    automatic     SUV       black      0  2018-07-06   \n",
       "45694       NaN       manual   other      silver      0  2018-11-18   \n",
       "34713   30000.0       manual  pickup      purple      0  2018-11-22   \n",
       "22595    4000.0    automatic   sedan         red      0  2019-01-18   \n",
       "\n",
       "       days_listed  \n",
       "33907           25  \n",
       "33906           34  \n",
       "45694           59  \n",
       "34713           10  \n",
       "22595           24  "
      ]
     },
     "execution_count": 12,
     "metadata": {},
     "output_type": "execute_result"
    }
   ],
   "source": [
    "df.sort_values('model_year').head()"
   ]
  },
  {
   "cell_type": "code",
   "execution_count": 13,
   "metadata": {},
   "outputs": [
    {
     "name": "stdout",
     "output_type": "stream",
     "text": [
      "The number of cars which are older than 1970: 93\n",
      "The percentage of old cars from the whole dataset: 0.18%\n"
     ]
    }
   ],
   "source": [
    "cars_older_1970=len(df.query('1970>model_year'))\n",
    "pct_old_cars=cars_older_1970/len(df)\n",
    "print('The number of cars which are older than 1970: {}'.format(cars_older_1970))\n",
    "print('The percentage of old cars from the whole dataset: {:.2%}'.format(pct_old_cars))"
   ]
  },
  {
   "cell_type": "markdown",
   "metadata": {},
   "source": [
    "I checked some old records manualy, and those car were probably new cars, so I'll treat them as missing values.\n",
    "<br>The oldest year in the dataset is 1908, so I'll fill all the empty values with that year."
   ]
  },
  {
   "cell_type": "code",
   "execution_count": 14,
   "metadata": {},
   "outputs": [
    {
     "name": "stdout",
     "output_type": "stream",
     "text": [
      "The Percent of missing values in model_year column is 7.02%\n"
     ]
    }
   ],
   "source": [
    "pct_missing_values_model_year=len(df[df['model_year'].isnull()==True])/len(df)\n",
    "print('The Percent of missing values in model_year column is {:.2%}'.format(pct_missing_values_model_year))\n",
    "df['model_year']=df['model_year'].fillna(1908)"
   ]
  },
  {
   "cell_type": "markdown",
   "metadata": {},
   "source": [
    "###### odometer"
   ]
  },
  {
   "cell_type": "code",
   "execution_count": 15,
   "metadata": {},
   "outputs": [
    {
     "name": "stdout",
     "output_type": "stream",
     "text": [
      "The Percent of missing values in odometer column is 15.32%\n"
     ]
    }
   ],
   "source": [
    "pct_missing_values_odometer=len(df[df['odometer'].isnull()==True])/len(df)\n",
    "print('The Percent of missing values in odometer column is {:.2%}'.format(pct_missing_values_odometer))\n",
    "df['odometer']=df['odometer'].fillna(0)"
   ]
  },
  {
   "cell_type": "markdown",
   "metadata": {},
   "source": [
    "#### Type conversion"
   ]
  },
  {
   "cell_type": "markdown",
   "metadata": {},
   "source": [
    "##### Convert date_posted datatype to date"
   ]
  },
  {
   "cell_type": "markdown",
   "metadata": {},
   "source": [
    "Later I have to use all kind of date manipulation. Since the date_posted column is defined as object, I'll convert it to date."
   ]
  },
  {
   "cell_type": "code",
   "execution_count": 16,
   "metadata": {},
   "outputs": [],
   "source": [
    "df['date_posted']=pd.to_datetime(df['date_posted'], format='%Y-%m-%d')"
   ]
  },
  {
   "cell_type": "code",
   "execution_count": 17,
   "metadata": {},
   "outputs": [
    {
     "data": {
      "text/html": [
       "<div>\n",
       "<style scoped>\n",
       "    .dataframe tbody tr th:only-of-type {\n",
       "        vertical-align: middle;\n",
       "    }\n",
       "\n",
       "    .dataframe tbody tr th {\n",
       "        vertical-align: top;\n",
       "    }\n",
       "\n",
       "    .dataframe thead th {\n",
       "        text-align: right;\n",
       "    }\n",
       "</style>\n",
       "<table border=\"1\" class=\"dataframe\">\n",
       "  <thead>\n",
       "    <tr style=\"text-align: right;\">\n",
       "      <th></th>\n",
       "      <th>price</th>\n",
       "      <th>model_year</th>\n",
       "      <th>model</th>\n",
       "      <th>condition</th>\n",
       "      <th>cylinders</th>\n",
       "      <th>fuel</th>\n",
       "      <th>odometer</th>\n",
       "      <th>transmission</th>\n",
       "      <th>type</th>\n",
       "      <th>paint_color</th>\n",
       "      <th>is_4wd</th>\n",
       "      <th>date_posted</th>\n",
       "      <th>days_listed</th>\n",
       "    </tr>\n",
       "  </thead>\n",
       "  <tbody>\n",
       "    <tr>\n",
       "      <td>0</td>\n",
       "      <td>9400</td>\n",
       "      <td>2011.0</td>\n",
       "      <td>bmw x5</td>\n",
       "      <td>good</td>\n",
       "      <td>6.0</td>\n",
       "      <td>gas</td>\n",
       "      <td>145000.0</td>\n",
       "      <td>automatic</td>\n",
       "      <td>SUV</td>\n",
       "      <td>other</td>\n",
       "      <td>1</td>\n",
       "      <td>2018-06-23</td>\n",
       "      <td>19</td>\n",
       "    </tr>\n",
       "    <tr>\n",
       "      <td>1</td>\n",
       "      <td>25500</td>\n",
       "      <td>1908.0</td>\n",
       "      <td>ford f-150</td>\n",
       "      <td>good</td>\n",
       "      <td>6.0</td>\n",
       "      <td>gas</td>\n",
       "      <td>88705.0</td>\n",
       "      <td>automatic</td>\n",
       "      <td>pickup</td>\n",
       "      <td>white</td>\n",
       "      <td>1</td>\n",
       "      <td>2018-10-19</td>\n",
       "      <td>50</td>\n",
       "    </tr>\n",
       "    <tr>\n",
       "      <td>2</td>\n",
       "      <td>5500</td>\n",
       "      <td>2013.0</td>\n",
       "      <td>hyundai sonata</td>\n",
       "      <td>like new</td>\n",
       "      <td>4.0</td>\n",
       "      <td>gas</td>\n",
       "      <td>110000.0</td>\n",
       "      <td>automatic</td>\n",
       "      <td>sedan</td>\n",
       "      <td>red</td>\n",
       "      <td>0</td>\n",
       "      <td>2019-02-07</td>\n",
       "      <td>79</td>\n",
       "    </tr>\n",
       "    <tr>\n",
       "      <td>3</td>\n",
       "      <td>1500</td>\n",
       "      <td>2003.0</td>\n",
       "      <td>ford f-150</td>\n",
       "      <td>fair</td>\n",
       "      <td>8.0</td>\n",
       "      <td>gas</td>\n",
       "      <td>0.0</td>\n",
       "      <td>automatic</td>\n",
       "      <td>pickup</td>\n",
       "      <td>other</td>\n",
       "      <td>0</td>\n",
       "      <td>2019-03-22</td>\n",
       "      <td>9</td>\n",
       "    </tr>\n",
       "    <tr>\n",
       "      <td>4</td>\n",
       "      <td>14900</td>\n",
       "      <td>2017.0</td>\n",
       "      <td>chrysler 200</td>\n",
       "      <td>excellent</td>\n",
       "      <td>4.0</td>\n",
       "      <td>gas</td>\n",
       "      <td>80903.0</td>\n",
       "      <td>automatic</td>\n",
       "      <td>sedan</td>\n",
       "      <td>black</td>\n",
       "      <td>0</td>\n",
       "      <td>2019-04-02</td>\n",
       "      <td>28</td>\n",
       "    </tr>\n",
       "  </tbody>\n",
       "</table>\n",
       "</div>"
      ],
      "text/plain": [
       "   price  model_year           model  condition  cylinders fuel  odometer  \\\n",
       "0   9400      2011.0          bmw x5       good        6.0  gas  145000.0   \n",
       "1  25500      1908.0      ford f-150       good        6.0  gas   88705.0   \n",
       "2   5500      2013.0  hyundai sonata   like new        4.0  gas  110000.0   \n",
       "3   1500      2003.0      ford f-150       fair        8.0  gas       0.0   \n",
       "4  14900      2017.0    chrysler 200  excellent        4.0  gas   80903.0   \n",
       "\n",
       "  transmission    type paint_color is_4wd date_posted  days_listed  \n",
       "0    automatic     SUV       other      1  2018-06-23           19  \n",
       "1    automatic  pickup       white      1  2018-10-19           50  \n",
       "2    automatic   sedan         red      0  2019-02-07           79  \n",
       "3    automatic  pickup       other      0  2019-03-22            9  \n",
       "4    automatic   sedan       black      0  2019-04-02           28  "
      ]
     },
     "execution_count": 17,
     "metadata": {},
     "output_type": "execute_result"
    }
   ],
   "source": [
    "df.head()"
   ]
  },
  {
   "cell_type": "markdown",
   "metadata": {},
   "source": [
    "##### Convert cylinders and model_year datatype to int"
   ]
  },
  {
   "cell_type": "markdown",
   "metadata": {},
   "source": [
    "Converting to int so that it will look better"
   ]
  },
  {
   "cell_type": "code",
   "execution_count": 18,
   "metadata": {},
   "outputs": [],
   "source": [
    "df['cylinders']=df['cylinders'].astype('int')\n",
    "df['model_year']=df['model_year'].astype('int')"
   ]
  },
  {
   "cell_type": "markdown",
   "metadata": {},
   "source": [
    "### Conclusion"
   ]
  },
  {
   "cell_type": "markdown",
   "metadata": {},
   "source": [
    "People sometimes like to leave some of the details out of the ad, so that they'll have the chance of persuading the buyer over the phone that it is a good deal although..."
   ]
  },
  {
   "cell_type": "markdown",
   "metadata": {},
   "source": [
    "## Make calculations and add them to the table"
   ]
  },
  {
   "cell_type": "markdown",
   "metadata": {},
   "source": [
    "### Add columns"
   ]
  },
  {
   "cell_type": "markdown",
   "metadata": {},
   "source": [
    "#### Day of Week"
   ]
  },
  {
   "cell_type": "code",
   "execution_count": 19,
   "metadata": {},
   "outputs": [
    {
     "data": {
      "text/html": [
       "<div>\n",
       "<style scoped>\n",
       "    .dataframe tbody tr th:only-of-type {\n",
       "        vertical-align: middle;\n",
       "    }\n",
       "\n",
       "    .dataframe tbody tr th {\n",
       "        vertical-align: top;\n",
       "    }\n",
       "\n",
       "    .dataframe thead th {\n",
       "        text-align: right;\n",
       "    }\n",
       "</style>\n",
       "<table border=\"1\" class=\"dataframe\">\n",
       "  <thead>\n",
       "    <tr style=\"text-align: right;\">\n",
       "      <th></th>\n",
       "      <th>price</th>\n",
       "      <th>model_year</th>\n",
       "      <th>model</th>\n",
       "      <th>condition</th>\n",
       "      <th>cylinders</th>\n",
       "      <th>fuel</th>\n",
       "      <th>odometer</th>\n",
       "      <th>transmission</th>\n",
       "      <th>type</th>\n",
       "      <th>paint_color</th>\n",
       "      <th>is_4wd</th>\n",
       "      <th>date_posted</th>\n",
       "      <th>days_listed</th>\n",
       "    </tr>\n",
       "  </thead>\n",
       "  <tbody>\n",
       "    <tr>\n",
       "      <td>0</td>\n",
       "      <td>9400</td>\n",
       "      <td>2011</td>\n",
       "      <td>bmw x5</td>\n",
       "      <td>good</td>\n",
       "      <td>6</td>\n",
       "      <td>gas</td>\n",
       "      <td>145000.0</td>\n",
       "      <td>automatic</td>\n",
       "      <td>SUV</td>\n",
       "      <td>other</td>\n",
       "      <td>1</td>\n",
       "      <td>2018-06-23</td>\n",
       "      <td>19</td>\n",
       "    </tr>\n",
       "    <tr>\n",
       "      <td>1</td>\n",
       "      <td>25500</td>\n",
       "      <td>1908</td>\n",
       "      <td>ford f-150</td>\n",
       "      <td>good</td>\n",
       "      <td>6</td>\n",
       "      <td>gas</td>\n",
       "      <td>88705.0</td>\n",
       "      <td>automatic</td>\n",
       "      <td>pickup</td>\n",
       "      <td>white</td>\n",
       "      <td>1</td>\n",
       "      <td>2018-10-19</td>\n",
       "      <td>50</td>\n",
       "    </tr>\n",
       "    <tr>\n",
       "      <td>2</td>\n",
       "      <td>5500</td>\n",
       "      <td>2013</td>\n",
       "      <td>hyundai sonata</td>\n",
       "      <td>like new</td>\n",
       "      <td>4</td>\n",
       "      <td>gas</td>\n",
       "      <td>110000.0</td>\n",
       "      <td>automatic</td>\n",
       "      <td>sedan</td>\n",
       "      <td>red</td>\n",
       "      <td>0</td>\n",
       "      <td>2019-02-07</td>\n",
       "      <td>79</td>\n",
       "    </tr>\n",
       "    <tr>\n",
       "      <td>3</td>\n",
       "      <td>1500</td>\n",
       "      <td>2003</td>\n",
       "      <td>ford f-150</td>\n",
       "      <td>fair</td>\n",
       "      <td>8</td>\n",
       "      <td>gas</td>\n",
       "      <td>0.0</td>\n",
       "      <td>automatic</td>\n",
       "      <td>pickup</td>\n",
       "      <td>other</td>\n",
       "      <td>0</td>\n",
       "      <td>2019-03-22</td>\n",
       "      <td>9</td>\n",
       "    </tr>\n",
       "    <tr>\n",
       "      <td>4</td>\n",
       "      <td>14900</td>\n",
       "      <td>2017</td>\n",
       "      <td>chrysler 200</td>\n",
       "      <td>excellent</td>\n",
       "      <td>4</td>\n",
       "      <td>gas</td>\n",
       "      <td>80903.0</td>\n",
       "      <td>automatic</td>\n",
       "      <td>sedan</td>\n",
       "      <td>black</td>\n",
       "      <td>0</td>\n",
       "      <td>2019-04-02</td>\n",
       "      <td>28</td>\n",
       "    </tr>\n",
       "  </tbody>\n",
       "</table>\n",
       "</div>"
      ],
      "text/plain": [
       "   price  model_year           model  condition  cylinders fuel  odometer  \\\n",
       "0   9400        2011          bmw x5       good          6  gas  145000.0   \n",
       "1  25500        1908      ford f-150       good          6  gas   88705.0   \n",
       "2   5500        2013  hyundai sonata   like new          4  gas  110000.0   \n",
       "3   1500        2003      ford f-150       fair          8  gas       0.0   \n",
       "4  14900        2017    chrysler 200  excellent          4  gas   80903.0   \n",
       "\n",
       "  transmission    type paint_color is_4wd date_posted  days_listed  \n",
       "0    automatic     SUV       other      1  2018-06-23           19  \n",
       "1    automatic  pickup       white      1  2018-10-19           50  \n",
       "2    automatic   sedan         red      0  2019-02-07           79  \n",
       "3    automatic  pickup       other      0  2019-03-22            9  \n",
       "4    automatic   sedan       black      0  2019-04-02           28  "
      ]
     },
     "execution_count": 19,
     "metadata": {},
     "output_type": "execute_result"
    }
   ],
   "source": [
    "all_days={0: 'monday', 1: 'tuesday', 2: 'wednsday', 3: 'thursday', 4: 'friday', 5: 'saturday', 6: 'sunday'}\n",
    "def set_week_day_name(day_num):\n",
    "    day_name=all_days.get(day_num)\n",
    "    return day_name\n",
    "\n",
    "df.head()"
   ]
  },
  {
   "cell_type": "code",
   "execution_count": 20,
   "metadata": {},
   "outputs": [],
   "source": [
    "df['day_of_week']=df['date_posted'].dt.weekday\n",
    "df['day_of_week']=df['day_of_week'].apply(set_week_day_name)"
   ]
  },
  {
   "cell_type": "markdown",
   "metadata": {},
   "source": [
    "#### Vehicle age"
   ]
  },
  {
   "cell_type": "code",
   "execution_count": 21,
   "metadata": {},
   "outputs": [],
   "source": [
    "now = datetime.datetime.now()\n",
    "cur_year=now.year\n",
    "\n",
    "def get_vehicle_age(vcl_year):\n",
    "    try:\n",
    "        return cur_year-vcl_year\n",
    "    except:\n",
    "        return ''"
   ]
  },
  {
   "cell_type": "code",
   "execution_count": 22,
   "metadata": {},
   "outputs": [],
   "source": [
    "df['vehicle_age']=df['model_year'].apply(get_vehicle_age)"
   ]
  },
  {
   "cell_type": "markdown",
   "metadata": {},
   "source": [
    "#### Average mileage per year"
   ]
  },
  {
   "cell_type": "code",
   "execution_count": 23,
   "metadata": {},
   "outputs": [
    {
     "data": {
      "text/html": [
       "<div>\n",
       "<style scoped>\n",
       "    .dataframe tbody tr th:only-of-type {\n",
       "        vertical-align: middle;\n",
       "    }\n",
       "\n",
       "    .dataframe tbody tr th {\n",
       "        vertical-align: top;\n",
       "    }\n",
       "\n",
       "    .dataframe thead th {\n",
       "        text-align: right;\n",
       "    }\n",
       "</style>\n",
       "<table border=\"1\" class=\"dataframe\">\n",
       "  <thead>\n",
       "    <tr style=\"text-align: right;\">\n",
       "      <th></th>\n",
       "      <th>price</th>\n",
       "      <th>model_year</th>\n",
       "      <th>model</th>\n",
       "      <th>condition</th>\n",
       "      <th>cylinders</th>\n",
       "      <th>fuel</th>\n",
       "      <th>odometer</th>\n",
       "      <th>transmission</th>\n",
       "      <th>type</th>\n",
       "      <th>paint_color</th>\n",
       "      <th>is_4wd</th>\n",
       "      <th>date_posted</th>\n",
       "      <th>days_listed</th>\n",
       "      <th>day_of_week</th>\n",
       "      <th>vehicle_age</th>\n",
       "      <th>avg_miles_year</th>\n",
       "    </tr>\n",
       "  </thead>\n",
       "  <tbody>\n",
       "    <tr>\n",
       "      <td>0</td>\n",
       "      <td>9400</td>\n",
       "      <td>2011</td>\n",
       "      <td>bmw x5</td>\n",
       "      <td>good</td>\n",
       "      <td>6</td>\n",
       "      <td>gas</td>\n",
       "      <td>145000.0</td>\n",
       "      <td>automatic</td>\n",
       "      <td>SUV</td>\n",
       "      <td>other</td>\n",
       "      <td>1</td>\n",
       "      <td>2018-06-23</td>\n",
       "      <td>19</td>\n",
       "      <td>saturday</td>\n",
       "      <td>10</td>\n",
       "      <td>14500</td>\n",
       "    </tr>\n",
       "    <tr>\n",
       "      <td>1</td>\n",
       "      <td>25500</td>\n",
       "      <td>1908</td>\n",
       "      <td>ford f-150</td>\n",
       "      <td>good</td>\n",
       "      <td>6</td>\n",
       "      <td>gas</td>\n",
       "      <td>88705.0</td>\n",
       "      <td>automatic</td>\n",
       "      <td>pickup</td>\n",
       "      <td>white</td>\n",
       "      <td>1</td>\n",
       "      <td>2018-10-19</td>\n",
       "      <td>50</td>\n",
       "      <td>friday</td>\n",
       "      <td>113</td>\n",
       "      <td>785</td>\n",
       "    </tr>\n",
       "    <tr>\n",
       "      <td>2</td>\n",
       "      <td>5500</td>\n",
       "      <td>2013</td>\n",
       "      <td>hyundai sonata</td>\n",
       "      <td>like new</td>\n",
       "      <td>4</td>\n",
       "      <td>gas</td>\n",
       "      <td>110000.0</td>\n",
       "      <td>automatic</td>\n",
       "      <td>sedan</td>\n",
       "      <td>red</td>\n",
       "      <td>0</td>\n",
       "      <td>2019-02-07</td>\n",
       "      <td>79</td>\n",
       "      <td>thursday</td>\n",
       "      <td>8</td>\n",
       "      <td>13750</td>\n",
       "    </tr>\n",
       "    <tr>\n",
       "      <td>3</td>\n",
       "      <td>1500</td>\n",
       "      <td>2003</td>\n",
       "      <td>ford f-150</td>\n",
       "      <td>fair</td>\n",
       "      <td>8</td>\n",
       "      <td>gas</td>\n",
       "      <td>0.0</td>\n",
       "      <td>automatic</td>\n",
       "      <td>pickup</td>\n",
       "      <td>other</td>\n",
       "      <td>0</td>\n",
       "      <td>2019-03-22</td>\n",
       "      <td>9</td>\n",
       "      <td>friday</td>\n",
       "      <td>18</td>\n",
       "      <td>0</td>\n",
       "    </tr>\n",
       "    <tr>\n",
       "      <td>4</td>\n",
       "      <td>14900</td>\n",
       "      <td>2017</td>\n",
       "      <td>chrysler 200</td>\n",
       "      <td>excellent</td>\n",
       "      <td>4</td>\n",
       "      <td>gas</td>\n",
       "      <td>80903.0</td>\n",
       "      <td>automatic</td>\n",
       "      <td>sedan</td>\n",
       "      <td>black</td>\n",
       "      <td>0</td>\n",
       "      <td>2019-04-02</td>\n",
       "      <td>28</td>\n",
       "      <td>tuesday</td>\n",
       "      <td>4</td>\n",
       "      <td>20225</td>\n",
       "    </tr>\n",
       "  </tbody>\n",
       "</table>\n",
       "</div>"
      ],
      "text/plain": [
       "   price  model_year           model  condition  cylinders fuel  odometer  \\\n",
       "0   9400        2011          bmw x5       good          6  gas  145000.0   \n",
       "1  25500        1908      ford f-150       good          6  gas   88705.0   \n",
       "2   5500        2013  hyundai sonata   like new          4  gas  110000.0   \n",
       "3   1500        2003      ford f-150       fair          8  gas       0.0   \n",
       "4  14900        2017    chrysler 200  excellent          4  gas   80903.0   \n",
       "\n",
       "  transmission    type paint_color is_4wd date_posted  days_listed  \\\n",
       "0    automatic     SUV       other      1  2018-06-23           19   \n",
       "1    automatic  pickup       white      1  2018-10-19           50   \n",
       "2    automatic   sedan         red      0  2019-02-07           79   \n",
       "3    automatic  pickup       other      0  2019-03-22            9   \n",
       "4    automatic   sedan       black      0  2019-04-02           28   \n",
       "\n",
       "  day_of_week  vehicle_age  avg_miles_year  \n",
       "0    saturday           10           14500  \n",
       "1      friday          113             785  \n",
       "2    thursday            8           13750  \n",
       "3      friday           18               0  \n",
       "4     tuesday            4           20225  "
      ]
     },
     "execution_count": 23,
     "metadata": {},
     "output_type": "execute_result"
    }
   ],
   "source": [
    "df['avg_miles_year']=(df['odometer']/df['vehicle_age']).astype('int')\n",
    "df.head()"
   ]
  },
  {
   "cell_type": "markdown",
   "metadata": {},
   "source": [
    "### Change condition columninto a numeric scale"
   ]
  },
  {
   "cell_type": "markdown",
   "metadata": {},
   "source": [
    "One of the requirements is to change the condition column into a numeric scale."
   ]
  },
  {
   "cell_type": "code",
   "execution_count": 24,
   "metadata": {},
   "outputs": [
    {
     "data": {
      "text/html": [
       "<div>\n",
       "<style scoped>\n",
       "    .dataframe tbody tr th:only-of-type {\n",
       "        vertical-align: middle;\n",
       "    }\n",
       "\n",
       "    .dataframe tbody tr th {\n",
       "        vertical-align: top;\n",
       "    }\n",
       "\n",
       "    .dataframe thead th {\n",
       "        text-align: right;\n",
       "    }\n",
       "</style>\n",
       "<table border=\"1\" class=\"dataframe\">\n",
       "  <thead>\n",
       "    <tr style=\"text-align: right;\">\n",
       "      <th></th>\n",
       "      <th>price</th>\n",
       "      <th>model_year</th>\n",
       "      <th>model</th>\n",
       "      <th>condition</th>\n",
       "      <th>cylinders</th>\n",
       "      <th>fuel</th>\n",
       "      <th>odometer</th>\n",
       "      <th>transmission</th>\n",
       "      <th>type</th>\n",
       "      <th>paint_color</th>\n",
       "      <th>is_4wd</th>\n",
       "      <th>date_posted</th>\n",
       "      <th>days_listed</th>\n",
       "      <th>day_of_week</th>\n",
       "      <th>vehicle_age</th>\n",
       "      <th>avg_miles_year</th>\n",
       "    </tr>\n",
       "  </thead>\n",
       "  <tbody>\n",
       "    <tr>\n",
       "      <td>0</td>\n",
       "      <td>9400</td>\n",
       "      <td>2011</td>\n",
       "      <td>bmw x5</td>\n",
       "      <td>2</td>\n",
       "      <td>6</td>\n",
       "      <td>gas</td>\n",
       "      <td>145000.0</td>\n",
       "      <td>automatic</td>\n",
       "      <td>SUV</td>\n",
       "      <td>other</td>\n",
       "      <td>1</td>\n",
       "      <td>2018-06-23</td>\n",
       "      <td>19</td>\n",
       "      <td>saturday</td>\n",
       "      <td>10</td>\n",
       "      <td>14500</td>\n",
       "    </tr>\n",
       "    <tr>\n",
       "      <td>1</td>\n",
       "      <td>25500</td>\n",
       "      <td>1908</td>\n",
       "      <td>ford f-150</td>\n",
       "      <td>2</td>\n",
       "      <td>6</td>\n",
       "      <td>gas</td>\n",
       "      <td>88705.0</td>\n",
       "      <td>automatic</td>\n",
       "      <td>pickup</td>\n",
       "      <td>white</td>\n",
       "      <td>1</td>\n",
       "      <td>2018-10-19</td>\n",
       "      <td>50</td>\n",
       "      <td>friday</td>\n",
       "      <td>113</td>\n",
       "      <td>785</td>\n",
       "    </tr>\n",
       "    <tr>\n",
       "      <td>2</td>\n",
       "      <td>5500</td>\n",
       "      <td>2013</td>\n",
       "      <td>hyundai sonata</td>\n",
       "      <td>4</td>\n",
       "      <td>4</td>\n",
       "      <td>gas</td>\n",
       "      <td>110000.0</td>\n",
       "      <td>automatic</td>\n",
       "      <td>sedan</td>\n",
       "      <td>red</td>\n",
       "      <td>0</td>\n",
       "      <td>2019-02-07</td>\n",
       "      <td>79</td>\n",
       "      <td>thursday</td>\n",
       "      <td>8</td>\n",
       "      <td>13750</td>\n",
       "    </tr>\n",
       "    <tr>\n",
       "      <td>3</td>\n",
       "      <td>1500</td>\n",
       "      <td>2003</td>\n",
       "      <td>ford f-150</td>\n",
       "      <td>1</td>\n",
       "      <td>8</td>\n",
       "      <td>gas</td>\n",
       "      <td>0.0</td>\n",
       "      <td>automatic</td>\n",
       "      <td>pickup</td>\n",
       "      <td>other</td>\n",
       "      <td>0</td>\n",
       "      <td>2019-03-22</td>\n",
       "      <td>9</td>\n",
       "      <td>friday</td>\n",
       "      <td>18</td>\n",
       "      <td>0</td>\n",
       "    </tr>\n",
       "    <tr>\n",
       "      <td>4</td>\n",
       "      <td>14900</td>\n",
       "      <td>2017</td>\n",
       "      <td>chrysler 200</td>\n",
       "      <td>3</td>\n",
       "      <td>4</td>\n",
       "      <td>gas</td>\n",
       "      <td>80903.0</td>\n",
       "      <td>automatic</td>\n",
       "      <td>sedan</td>\n",
       "      <td>black</td>\n",
       "      <td>0</td>\n",
       "      <td>2019-04-02</td>\n",
       "      <td>28</td>\n",
       "      <td>tuesday</td>\n",
       "      <td>4</td>\n",
       "      <td>20225</td>\n",
       "    </tr>\n",
       "  </tbody>\n",
       "</table>\n",
       "</div>"
      ],
      "text/plain": [
       "   price  model_year           model  condition  cylinders fuel  odometer  \\\n",
       "0   9400        2011          bmw x5          2          6  gas  145000.0   \n",
       "1  25500        1908      ford f-150          2          6  gas   88705.0   \n",
       "2   5500        2013  hyundai sonata          4          4  gas  110000.0   \n",
       "3   1500        2003      ford f-150          1          8  gas       0.0   \n",
       "4  14900        2017    chrysler 200          3          4  gas   80903.0   \n",
       "\n",
       "  transmission    type paint_color is_4wd date_posted  days_listed  \\\n",
       "0    automatic     SUV       other      1  2018-06-23           19   \n",
       "1    automatic  pickup       white      1  2018-10-19           50   \n",
       "2    automatic   sedan         red      0  2019-02-07           79   \n",
       "3    automatic  pickup       other      0  2019-03-22            9   \n",
       "4    automatic   sedan       black      0  2019-04-02           28   \n",
       "\n",
       "  day_of_week  vehicle_age  avg_miles_year  \n",
       "0    saturday           10           14500  \n",
       "1      friday          113             785  \n",
       "2    thursday            8           13750  \n",
       "3      friday           18               0  \n",
       "4     tuesday            4           20225  "
      ]
     },
     "execution_count": 24,
     "metadata": {},
     "output_type": "execute_result"
    }
   ],
   "source": [
    "condition_scale={'salvage ': 0, 'fair': 1, 'good': 2, 'excellent': 3, 'like new': 4, 'new': 5}\n",
    "def condition_into_num_scale(cond):\n",
    "    return condition_scale.get(cond, -1)\n",
    "    \n",
    "df['condition'] = df['condition'].apply(condition_into_num_scale)\n",
    "\n",
    "df.head()"
   ]
  },
  {
   "cell_type": "markdown",
   "metadata": {},
   "source": [
    "## Carry out exploratory data analysis"
   ]
  },
  {
   "cell_type": "code",
   "execution_count": 60,
   "metadata": {},
   "outputs": [],
   "source": [
    "def histographByColumn(dataset, col_name):\n",
    "    dataset.hist(col_name, bins=40);\n",
    "    plt.plot();    "
   ]
  },
  {
   "cell_type": "markdown",
   "metadata": {},
   "source": [
    "### Price"
   ]
  },
  {
   "cell_type": "code",
   "execution_count": 61,
   "metadata": {},
   "outputs": [
    {
     "name": "stdout",
     "output_type": "stream",
     "text": [
      "Number of ads with price tag above 50,000 is 227, which is 0.44% of all the ads\n"
     ]
    },
    {
     "data": {
      "image/png": "[encoded data removed]",
      "text/plain": [
       "<Figure size 432x288 with 1 Axes>"
      ]
     },
     "metadata": {
      "needs_background": "light"
     },
     "output_type": "display_data"
    }
   ],
   "source": [
    "histographByColumn(df, 'price')\n",
    "\n",
    "num_above_50k=df.query('price>50000')['price'].count()\n",
    "\n",
    "print('Number of ads with price tag above 50,000 is {}, which is {:.2%} of all the ads'\n",
    "     .format(num_above_50k,num_above_50k/len(df)))"
   ]
  },
  {
   "cell_type": "code",
   "execution_count": 62,
   "metadata": {
    "scrolled": true
   },
   "outputs": [
    {
     "name": "stdout",
     "output_type": "stream",
     "text": [
      "Number of ads with price tag above 50,000 is 227, which is 0.44% of all the ads\n"
     ]
    },
    {
     "data": {
      "image/png": "[encoded data removed]",
      "text/plain": [
       "<Figure size 432x288 with 1 Axes>"
      ]
     },
     "metadata": {
      "needs_background": "light"
     },
     "output_type": "display_data"
    }
   ],
   "source": [
    "histographByColumn(df, 'price')\n",
    "\n",
    "num_above_50k=df.query('price>50000')['price'].count()\n",
    "\n",
    "print('Number of ads with price tag above 50,000 is {}, which is {:.2%} of all the ads'\n",
    "     .format(num_above_50k,num_above_50k/len(df)));"
   ]
  },
  {
   "cell_type": "markdown",
   "metadata": {},
   "source": [
    "Since ads above 50,000$ are outliers, I'll take those ads out."
   ]
  },
  {
   "cell_type": "code",
   "execution_count": 64,
   "metadata": {},
   "outputs": [
    {
     "data": {
      "image/png": "[encoded data removed]",
      "text/plain": [
       "<Figure size 432x288 with 1 Axes>"
      ]
     },
     "metadata": {
      "needs_background": "light"
     },
     "output_type": "display_data"
    }
   ],
   "source": [
    "df_good_data=df.query('price<50000')\n",
    "histographByColumn(df_good_data, 'price')"
   ]
  },
  {
   "cell_type": "markdown",
   "metadata": {},
   "source": [
    "### vehicle_age"
   ]
  },
  {
   "cell_type": "code",
   "execution_count": 65,
   "metadata": {},
   "outputs": [
    {
     "data": {
      "image/png": "[encoded data removed]",
      "text/plain": [
       "<Figure size 432x288 with 1 Axes>"
      ]
     },
     "metadata": {
      "needs_background": "light"
     },
     "output_type": "display_data"
    }
   ],
   "source": [
    "histographByColumn(df_good_data, 'vehicle_age')"
   ]
  },
  {
   "cell_type": "markdown",
   "metadata": {},
   "source": [
    "After looking at the histogram, I can see that cars that are older than 50 years are outliers, so I'm taking them out as well."
   ]
  },
  {
   "cell_type": "code",
   "execution_count": 29,
   "metadata": {},
   "outputs": [
    {
     "name": "stdout",
     "output_type": "stream",
     "text": [
      "Number of ads with cars which age is above 40 years is 3802, which is 7.38% of all the ads\n"
     ]
    }
   ],
   "source": [
    "num_above_age_40=df_good_data.query('vehicle_age>40')['vehicle_age'].count()\n",
    "\n",
    "print('Number of ads with cars which age is above 40 years is {}, which is {:.2%} of all the ads'.format(num_above_age_40, num_above_age_40/len(df)))"
   ]
  },
  {
   "cell_type": "markdown",
   "metadata": {},
   "source": [
    "The percentage looks high, but part of it is the missing values, which I filled with the year 1908, like the oldest car in the dataset. The percentage of missing cars was 7.02%, and if I'll take it off:<br>\n",
    "7.38%-7.02%=0.36%<br>\n",
    "This means that there are 0.36% of outliers, which is a small portion of the dataset."
   ]
  },
  {
   "cell_type": "code",
   "execution_count": 66,
   "metadata": {},
   "outputs": [
    {
     "data": {
      "image/png": "[encoded data removed]",
      "text/plain": [
       "<Figure size 432x288 with 1 Axes>"
      ]
     },
     "metadata": {
      "needs_background": "light"
     },
     "output_type": "display_data"
    }
   ],
   "source": [
    "df_good_data=df_good_data.query('vehicle_age<40')\n",
    "histographByColumn(df_good_data, 'vehicle_age')"
   ]
  },
  {
   "cell_type": "markdown",
   "metadata": {},
   "source": [
    "### odometer"
   ]
  },
  {
   "cell_type": "code",
   "execution_count": 31,
   "metadata": {},
   "outputs": [
    {
     "data": {
      "image/png": "[encoded data removed]",
      "text/plain": [
       "<Figure size 432x288 with 1 Axes>"
      ]
     },
     "metadata": {
      "needs_background": "light"
     },
     "output_type": "display_data"
    }
   ],
   "source": [
    "histographByColumn(df_good_data, 'odometer')"
   ]
  },
  {
   "cell_type": "markdown",
   "metadata": {},
   "source": [
    "Seeing this histogram, I understood that mileage above 400,000 miles, is an outlier."
   ]
  },
  {
   "cell_type": "code",
   "execution_count": 32,
   "metadata": {},
   "outputs": [
    {
     "name": "stdout",
     "output_type": "stream",
     "text": [
      "Number of ads with cars which mileage is above 400,000 is 44, which is 0.09% of all the ads\n"
     ]
    }
   ],
   "source": [
    "num_above_400k_miles=df_good_data.query('odometer>400000')['odometer'].count()\n",
    "\n",
    "print('Number of ads with cars which mileage is above 400,000 is {}, which is {:.2%} of all the ads'.format(num_above_400k_miles, num_above_400k_miles/len(df)))"
   ]
  },
  {
   "cell_type": "code",
   "execution_count": 67,
   "metadata": {},
   "outputs": [
    {
     "data": {
      "image/png": "[encoded data removed]",
      "text/plain": [
       "<Figure size 432x288 with 1 Axes>"
      ]
     },
     "metadata": {
      "needs_background": "light"
     },
     "output_type": "display_data"
    }
   ],
   "source": [
    "df_good_data=df_good_data.query('odometer<400000')\n",
    "histographByColumn(df_good_data, 'odometer')"
   ]
  },
  {
   "cell_type": "markdown",
   "metadata": {},
   "source": [
    "The new histogram shows me that I still have outliers. The mileage should be up to 350,000.<br>\n",
    "I can see a large group of ads for cars with 0 mileage, which can be OK since they might be new cars, but since it might be that it was a filler for missing values, I'll remove cars with 0 miles on the odometer."
   ]
  },
  {
   "cell_type": "code",
   "execution_count": 68,
   "metadata": {},
   "outputs": [
    {
     "data": {
      "image/png": "[encoded data removed]",
      "text/plain": [
       "<Figure size 432x288 with 1 Axes>"
      ]
     },
     "metadata": {
      "needs_background": "light"
     },
     "output_type": "display_data"
    }
   ],
   "source": [
    "df_good_data=df_good_data.query('0<odometer<350000')\n",
    "histographByColumn(df_good_data, 'odometer')"
   ]
  },
  {
   "cell_type": "markdown",
   "metadata": {},
   "source": [
    "### cylinders"
   ]
  },
  {
   "cell_type": "code",
   "execution_count": 35,
   "metadata": {},
   "outputs": [
    {
     "data": {
      "text/plain": [
       "6     13632\n",
       "8     13532\n",
       "4     12021\n",
       "10      448\n",
       "5       247\n",
       "3        29\n",
       "0        13\n",
       "7        11\n",
       "12        1\n",
       "9         1\n",
       "Name: cylinders, dtype: int64"
      ]
     },
     "execution_count": 35,
     "metadata": {},
     "output_type": "execute_result"
    }
   ],
   "source": [
    "df_good_data['cylinders'].value_counts()"
   ]
  },
  {
   "cell_type": "markdown",
   "metadata": {},
   "source": [
    "Taking the outliers out, I'll keep only ads with more than 100 ads per group"
   ]
  },
  {
   "cell_type": "code",
   "execution_count": 36,
   "metadata": {},
   "outputs": [
    {
     "data": {
      "text/plain": [
       "6     13632\n",
       "8     13532\n",
       "4     12021\n",
       "10      448\n",
       "5       247\n",
       "Name: cylinders, dtype: int64"
      ]
     },
     "execution_count": 36,
     "metadata": {},
     "output_type": "execute_result"
    }
   ],
   "source": [
    "df_good_data=df_good_data.query('cylinders in (4,6,8,5,10)')\n",
    "df_good_data['cylinders'].value_counts()"
   ]
  },
  {
   "cell_type": "markdown",
   "metadata": {},
   "source": [
    "### condition"
   ]
  },
  {
   "cell_type": "code",
   "execution_count": 37,
   "metadata": {},
   "outputs": [
    {
     "data": {
      "image/png": "[encoded data removed]",
      "text/plain": [
       "<Figure size 432x288 with 1 Axes>"
      ]
     },
     "metadata": {
      "needs_background": "light"
     },
     "output_type": "display_data"
    }
   ],
   "source": [
    "df_good_data.hist('condition')\n",
    "plt.plot();"
   ]
  },
  {
   "cell_type": "markdown",
   "metadata": {},
   "source": [
    "The -1 is a filler for a missing value. The 0, 5 have very low numbers of ads, and I'll treat them as outliers."
   ]
  },
  {
   "cell_type": "code",
   "execution_count": 38,
   "metadata": {},
   "outputs": [
    {
     "data": {
      "image/png": "[encoded data removed]",
      "text/plain": [
       "<Figure size 432x288 with 1 Axes>"
      ]
     },
     "metadata": {
      "needs_background": "light"
     },
     "output_type": "display_data"
    }
   ],
   "source": [
    "df_good_data=df_good_data.query('0<condition<5')\n",
    "df_good_data.hist('condition', bins=4)\n",
    "plt.plot();"
   ]
  },
  {
   "cell_type": "markdown",
   "metadata": {},
   "source": [
    "### days_listed"
   ]
  },
  {
   "cell_type": "code",
   "execution_count": 69,
   "metadata": {},
   "outputs": [
    {
     "data": {
      "image/png": "[encoded data removed]",
      "text/plain": [
       "<Figure size 432x288 with 1 Axes>"
      ]
     },
     "metadata": {
      "needs_background": "light"
     },
     "output_type": "display_data"
    }
   ],
   "source": [
    "histographByColumn(df_good_data, 'days_listed')"
   ]
  },
  {
   "cell_type": "markdown",
   "metadata": {},
   "source": [
    "From the histogram I see that most cars are sold within 50 days from the moment that they were published."
   ]
  },
  {
   "cell_type": "code",
   "execution_count": 73,
   "metadata": {},
   "outputs": [
    {
     "data": {
      "image/png": "[encoded data removed]",
      "text/plain": [
       "<Figure size 432x288 with 1 Axes>"
      ]
     },
     "metadata": {
      "needs_background": "light"
     },
     "output_type": "display_data"
    }
   ],
   "source": [
    "df_good_data['days_listed'].plot(kind='box', title='days_listed dispertion')\n",
    "plt.plot();"
   ]
  },
  {
   "cell_type": "markdown",
   "metadata": {},
   "source": [
    "From the box plot, it's even easier to see that "
   ]
  },
  {
   "cell_type": "code",
   "execution_count": 41,
   "metadata": {},
   "outputs": [
    {
     "data": {
      "text/plain": [
       "count    39705.000000\n",
       "mean        39.652613\n",
       "std         28.140057\n",
       "min          0.000000\n",
       "25%         19.000000\n",
       "50%         33.000000\n",
       "75%         53.000000\n",
       "max        271.000000\n",
       "Name: days_listed, dtype: float64"
      ]
     },
     "execution_count": 41,
     "metadata": {},
     "output_type": "execute_result"
    }
   ],
   "source": [
    "df_good_data['days_listed'].describe()"
   ]
  },
  {
   "cell_type": "code",
   "execution_count": 42,
   "metadata": {},
   "outputs": [
    {
     "name": "stdout",
     "output_type": "stream",
     "text": [
      "The listed_mean mean is: 39.65, and median is: 33\n"
     ]
    }
   ],
   "source": [
    "listed_mean=df_good_data['days_listed'].mean()\n",
    "listed_median=df_good_data['days_listed'].median()\n",
    "print('The listed_mean mean is: {:.2f}, and median is: {:0.0f}'.format(listed_mean,listed_median))"
   ]
  },
  {
   "cell_type": "code",
   "execution_count": 43,
   "metadata": {},
   "outputs": [
    {
     "name": "stdout",
     "output_type": "stream",
     "text": [
      "Percent of cars in the dataset up to 50 days of publish: 72.09%\n",
      "Percent of cars in the dataset in the next 50 days of publish(days between 51-100): 24.18%\n",
      "Percent of cars in the dataset for more than 100 days of publish(days > 100): 3.73%\n"
     ]
    }
   ],
   "source": [
    "pct_cars_sold_50_days=df_good_data.query('days_listed<=50')['days_listed'].count()\n",
    "print('Percent of cars in the dataset up to 50 days of publish: {:.2%}'.format(pct_cars_sold_50_days/len(df_good_data)))\n",
    "\n",
    "num_cars_sold_100_days=df_good_data.query('50<days_listed<=100')['days_listed'].count()\n",
    "print('Percent of cars in the dataset in the next 50 days of publish(days between 51-100): {:.2%}'.format(num_cars_sold_100_days/len(df_good_data)))\n",
    "\n",
    "num_cars_sold_after_100_days=df_good_data.query('days_listed>100')['days_listed'].count()\n",
    "print('Percent of cars in the dataset for more than 100 days of publish(days > 100): {:.2%}'.format(num_cars_sold_after_100_days/len(df_good_data)))"
   ]
  },
  {
   "cell_type": "markdown",
   "metadata": {},
   "source": [
    "Most cars are sold within 50 days from the moment that they were published. But there are cars that are not attractive, or that the seller wouldn't settle."
   ]
  },
  {
   "cell_type": "markdown",
   "metadata": {},
   "source": [
    "### All histograms"
   ]
  },
  {
   "cell_type": "code",
   "execution_count": 71,
   "metadata": {},
   "outputs": [
    {
     "data": {
      "image/png": "[encoded data removed]",
      "text/plain": [
       "<Figure size 432x288 with 1 Axes>"
      ]
     },
     "metadata": {
      "needs_background": "light"
     },
     "output_type": "display_data"
    },
    {
     "data": {
      "image/png": "[encoded data removed]",
      "text/plain": [
       "<Figure size 432x288 with 1 Axes>"
      ]
     },
     "metadata": {
      "needs_background": "light"
     },
     "output_type": "display_data"
    },
    {
     "data": {
      "image/png": "[encoded data removed]",
      "text/plain": [
       "<Figure size 432x288 with 1 Axes>"
      ]
     },
     "metadata": {
      "needs_background": "light"
     },
     "output_type": "display_data"
    },
    {
     "data": {
      "image/png": "[encoded data removed]",
      "text/plain": [
       "<Figure size 432x288 with 1 Axes>"
      ]
     },
     "metadata": {
      "needs_background": "light"
     },
     "output_type": "display_data"
    }
   ],
   "source": [
    "cols=['price', 'vehicle_age', 'odometer', 'days_listed']\n",
    "for col in cols:\n",
    "    histographByColumn(df_good_data, col)"
   ]
  },
  {
   "cell_type": "markdown",
   "metadata": {},
   "source": [
    "### type"
   ]
  },
  {
   "cell_type": "code",
   "execution_count": 44,
   "metadata": {},
   "outputs": [
    {
     "data": {
      "text/plain": [
       "SUV            9624\n",
       "truck          9543\n",
       "sedan          9371\n",
       "pickup         5347\n",
       "coupe          1700\n",
       "wagon          1192\n",
       "mini-van        918\n",
       "hatchback       831\n",
       "van             461\n",
       "convertible     323\n",
       "other           196\n",
       "offroad         176\n",
       "bus              23\n",
       "Name: type, dtype: int64"
      ]
     },
     "execution_count": 44,
     "metadata": {},
     "output_type": "execute_result"
    }
   ],
   "source": [
    "df_good_data['type'].value_counts()"
   ]
  },
  {
   "cell_type": "code",
   "execution_count": 45,
   "metadata": {},
   "outputs": [
    {
     "data": {
      "image/png": "[encoded data removed]",
      "text/plain": [
       "<Figure size 432x288 with 1 Axes>"
      ]
     },
     "metadata": {
      "needs_background": "light"
     },
     "output_type": "display_data"
    }
   ],
   "source": [
    "pvt=df_good_data.pivot_table(index='type', values='price', aggfunc=['count', 'mean'])\n",
    "pvt.plot();"
   ]
  },
  {
   "cell_type": "markdown",
   "metadata": {},
   "source": [
    "The 2 types with most of the ads per type are SUV and truck."
   ]
  },
  {
   "cell_type": "code",
   "execution_count": 46,
   "metadata": {},
   "outputs": [],
   "source": [
    "df_suv=df_good_data.query('type==\"SUV\"')\n",
    "df_truck=df_good_data.query('type==\"truck\"')"
   ]
  },
  {
   "cell_type": "markdown",
   "metadata": {},
   "source": [
    "#### truck"
   ]
  },
  {
   "cell_type": "code",
   "execution_count": 47,
   "metadata": {},
   "outputs": [
    {
     "data": {
      "image/png": "[encoded data removed]",
      "text/plain": [
       "<Figure size 648x648 with 9 Axes>"
      ]
     },
     "metadata": {
      "needs_background": "light"
     },
     "output_type": "display_data"
    }
   ],
   "source": [
    "df_truck_correlation_params=df_truck[['price','vehicle_age','odometer','transmission','paint_color']]\n",
    "pd.plotting.scatter_matrix(df_truck_correlation_params, figsize=(9, 9));"
   ]
  },
  {
   "cell_type": "markdown",
   "metadata": {},
   "source": [
    "From the graph it's easy to see that there is a strong corellation between age and price. The older the car, the lower the price. There is another corellation between the price and the mileage of the car (odometer column)."
   ]
  },
  {
   "cell_type": "code",
   "execution_count": 48,
   "metadata": {},
   "outputs": [
    {
     "data": {
      "image/png": "[encoded data removed]",
      "text/plain": [
       "<Figure size 432x288 with 1 Axes>"
      ]
     },
     "metadata": {
      "needs_background": "light"
     },
     "output_type": "display_data"
    }
   ],
   "source": [
    "pvt=df_truck.pivot_table(index='paint_color', values='price')\n",
    "pvt.plot();"
   ]
  },
  {
   "cell_type": "markdown",
   "metadata": {},
   "source": [
    "There is an influence of the color on the price, for example, a pink color causes the car's price to drop relatively to black for example."
   ]
  },
  {
   "cell_type": "code",
   "execution_count": 49,
   "metadata": {},
   "outputs": [
    {
     "data": {
      "image/png": "[encoded data removed]",
      "text/plain": [
       "<Figure size 432x288 with 1 Axes>"
      ]
     },
     "metadata": {
      "needs_background": "light"
     },
     "output_type": "display_data"
    }
   ],
   "source": [
    "pvt=df_truck.pivot_table(index='condition', values='price')\n",
    "pvt.plot();"
   ]
  },
  {
   "cell_type": "markdown",
   "metadata": {},
   "source": [
    "Nice correlation between condition and price."
   ]
  },
  {
   "cell_type": "code",
   "execution_count": 50,
   "metadata": {},
   "outputs": [
    {
     "data": {
      "image/png": "[encoded data removed]",
      "text/plain": [
       "<Figure size 432x288 with 1 Axes>"
      ]
     },
     "metadata": {
      "needs_background": "light"
     },
     "output_type": "display_data"
    }
   ],
   "source": [
    "pvt=df_truck.query('transmission!=\"other\"').pivot_table(index='transmission', values='price')\n",
    "pvt.plot();"
   ]
  },
  {
   "cell_type": "markdown",
   "metadata": {},
   "source": [
    "After removing the missing data filler (other), there is a strong correlation between transmition type to price."
   ]
  },
  {
   "cell_type": "markdown",
   "metadata": {},
   "source": [
    "#### SUV"
   ]
  },
  {
   "cell_type": "code",
   "execution_count": 51,
   "metadata": {},
   "outputs": [
    {
     "data": {
      "image/png": "[encoded data removed]",
      "text/plain": [
       "<Figure size 648x648 with 9 Axes>"
      ]
     },
     "metadata": {
      "needs_background": "light"
     },
     "output_type": "display_data"
    }
   ],
   "source": [
    "df_suv_correlation_params=df_truck[['price','vehicle_age','odometer','transmission','paint_color']]\n",
    "pd.plotting.scatter_matrix(df_suv_correlation_params, figsize=(9, 9));"
   ]
  },
  {
   "cell_type": "markdown",
   "metadata": {},
   "source": [
    "From the graph it's easy to see that there is a strong corellation between age and price. The older the car, the lower the price. There is another corellation between the price and the mileage of the car (odometer column)."
   ]
  },
  {
   "cell_type": "code",
   "execution_count": 52,
   "metadata": {},
   "outputs": [
    {
     "data": {
      "image/png": "[encoded data removed]",
      "text/plain": [
       "<Figure size 432x288 with 1 Axes>"
      ]
     },
     "metadata": {
      "needs_background": "light"
     },
     "output_type": "display_data"
    }
   ],
   "source": [
    "pvt=df_suv.pivot_table(index='paint_color', values='price')\n",
    "pvt.plot();"
   ]
  },
  {
   "cell_type": "code",
   "execution_count": 53,
   "metadata": {},
   "outputs": [],
   "source": [
    "# pvt=df_suv.pivot_table(index='condition', values='price')\n",
    "# sb.jointplot(x=df_suv_correlation_params['condition'],y=df_suv_correlation_params['price'],kind='kde')"
   ]
  },
  {
   "cell_type": "markdown",
   "metadata": {},
   "source": [
    "There is an influence of the color on the price, for example, a pink color causes the car's price to drop relatively to orange for example."
   ]
  },
  {
   "cell_type": "code",
   "execution_count": 54,
   "metadata": {},
   "outputs": [
    {
     "data": {
      "image/png": "[encoded data removed]",
      "text/plain": [
       "<Figure size 432x288 with 1 Axes>"
      ]
     },
     "metadata": {
      "needs_background": "light"
     },
     "output_type": "display_data"
    }
   ],
   "source": [
    "pvt=df_suv.pivot_table(index='condition', values='price')\n",
    "pvt.plot();"
   ]
  },
  {
   "cell_type": "markdown",
   "metadata": {},
   "source": [
    "Nice correlation between condition and price."
   ]
  },
  {
   "cell_type": "code",
   "execution_count": 55,
   "metadata": {},
   "outputs": [
    {
     "data": {
      "image/png": "[encoded data removed]",
      "text/plain": [
       "<Figure size 432x288 with 1 Axes>"
      ]
     },
     "metadata": {
      "needs_background": "light"
     },
     "output_type": "display_data"
    }
   ],
   "source": [
    "pvt=df_truck.query('transmission!=\"other\"').pivot_table(index='transmission', values='price')\n",
    "pvt.plot();"
   ]
  },
  {
   "cell_type": "markdown",
   "metadata": {},
   "source": [
    "After removing the missing data filler (other), there is a strong correlation between transmition type to price."
   ]
  },
  {
   "cell_type": "markdown",
   "metadata": {},
   "source": [
    "## Overall conclusion"
   ]
  },
  {
   "cell_type": "markdown",
   "metadata": {},
   "source": [
    "There are many parameters that are influencing the price of the car. Since humans are creating the ads, there are many cases of mistakes and missing values."
   ]
  },
  {
   "cell_type": "markdown",
   "metadata": {},
   "source": [
    "# Project completion checklist\n",
    "\n",
    "Mark the completed tasks with 'x'. Then press Shift+Enter."
   ]
  },
  {
   "cell_type": "markdown",
   "metadata": {},
   "source": [
    "- [x]  file opened\n",
    "- [x]  files explored (first rows printed, info() method)\n",
    "- [x]  missing values determined\n",
    "- [x]  missing values filled in\n",
    "- [x]  clarification of the discovered missing values provided\n",
    "- [x]  data types converted\n",
    "- [x]  explanation of which columns had the data types changed and why\n",
    "- [x]  calculated and added to the table: day of the week, month, and year the ad was placed\n",
    "- [x]  calculated and added to the table: the vehicle's age (in years) when the ad was placed\n",
    "- [x]  calculated and added to the table: the vehicle's average mileage per year\n",
    "- [x]  the following parameters investigated: price, vehicle's age when the ad was placed, mileage, number of cylinders, and condition\n",
    "- [x]  histograms for each parameter created\n",
    "- [x]  task completed: \"Determine the upper limits of outliers, remove the outliers and store them in a separate DataFrame, and continue your work with the filtered data.\"\n",
    "- [x]  task completed: \"Use the filtered data to plot new histograms. Compare them with the earlier histograms (the ones that included outliers). Draw conclusions for each histogram.\"\n",
    "- [x]  task completed: \"Study how many days advertisements were displayed (days_listed). Plot a histogram. Calculate the mean and median. Describe the typical lifetime of an ad. Determine when ads were removed quickly, and when they were listed for an abnormally long time.  \"\n",
    "- [x]  task completed: \"Analyze the number of ads and the average price for each type of vehicle. Plot a graph showing the dependence of the number of ads on the vehicle type. Select the two types with the greatest number of ads. \"\n",
    "- [x]  task completed: \"What factors impact the price most? Take each of the popular types you detected at the previous stage and study whether the price depends on age, mileage, condition, transmission type, and color. For categorical variables (transmission type and color), plot box-and-whisker charts, and create scatterplots for the rest. When analyzing categorical variables, note that the categories must have at least 50 ads; otherwise, their parameters won't be valid for analysis.  \"\n",
    "- [x]  each stage has a conclusion\n",
    "- [x]  overall conclusion drawn"
   ]
  }
 ],
 "metadata": {
  "ExecuteTimeLog": [
   {
    "duration": 617,
    "start_time": "2021-07-04T19:45:02.706Z"
   },
   {
    "duration": 1010,
    "start_time": "2021-07-04T20:22:01.413Z"
   },
   {
    "duration": 277,
    "start_time": "2021-07-04T20:31:45.467Z"
   },
   {
    "duration": 50,
    "start_time": "2021-07-04T20:32:09.677Z"
   },
   {
    "duration": 47,
    "start_time": "2021-07-04T20:32:28.258Z"
   },
   {
    "duration": 4,
    "start_time": "2021-07-04T20:34:27.734Z"
   },
   {
    "duration": 4,
    "start_time": "2021-07-04T20:34:29.770Z"
   },
   {
    "duration": 52,
    "start_time": "2021-07-04T20:35:30.626Z"
   },
   {
    "duration": 3,
    "start_time": "2021-07-04T20:40:33.940Z"
   },
   {
    "duration": 27,
    "start_time": "2021-07-04T21:14:40.201Z"
   },
   {
    "duration": 26,
    "start_time": "2021-07-04T21:15:21.199Z"
   },
   {
    "duration": 43,
    "start_time": "2021-07-04T21:28:14.781Z"
   },
   {
    "duration": 48,
    "start_time": "2021-07-04T21:28:32.963Z"
   },
   {
    "duration": 51,
    "start_time": "2021-07-04T21:29:02.214Z"
   },
   {
    "duration": 43,
    "start_time": "2021-07-04T21:29:23.073Z"
   },
   {
    "duration": 42,
    "start_time": "2021-07-04T21:29:32.432Z"
   },
   {
    "duration": 24,
    "start_time": "2021-07-04T21:34:54.097Z"
   },
   {
    "duration": 16,
    "start_time": "2021-07-04T21:35:16.901Z"
   },
   {
    "duration": 18,
    "start_time": "2021-07-04T21:35:25.319Z"
   },
   {
    "duration": 17,
    "start_time": "2021-07-04T21:35:30.757Z"
   },
   {
    "duration": 17,
    "start_time": "2021-07-04T21:35:38.687Z"
   },
   {
    "duration": 16,
    "start_time": "2021-07-04T21:35:44.384Z"
   },
   {
    "duration": 16,
    "start_time": "2021-07-04T21:35:49.209Z"
   },
   {
    "duration": 10,
    "start_time": "2021-07-04T21:36:08.220Z"
   },
   {
    "duration": 8,
    "start_time": "2021-07-04T21:36:27.873Z"
   },
   {
    "duration": 9,
    "start_time": "2021-07-04T21:37:16.261Z"
   },
   {
    "duration": 9,
    "start_time": "2021-07-04T21:37:23.260Z"
   },
   {
    "duration": 10,
    "start_time": "2021-07-04T21:38:25.483Z"
   },
   {
    "duration": 8,
    "start_time": "2021-07-04T21:39:27.583Z"
   },
   {
    "duration": 9,
    "start_time": "2021-07-04T21:41:33.896Z"
   },
   {
    "duration": 13,
    "start_time": "2021-07-04T21:44:26.284Z"
   },
   {
    "duration": 12,
    "start_time": "2021-07-04T21:44:58.387Z"
   },
   {
    "duration": 14,
    "start_time": "2021-07-04T21:45:31.484Z"
   },
   {
    "duration": 984,
    "start_time": "2021-07-04T21:45:50.690Z"
   },
   {
    "duration": 47,
    "start_time": "2021-07-04T21:45:51.676Z"
   },
   {
    "duration": 52,
    "start_time": "2021-07-04T21:45:51.726Z"
   },
   {
    "duration": 12,
    "start_time": "2021-07-04T21:45:51.780Z"
   },
   {
    "duration": 17,
    "start_time": "2021-07-04T21:45:51.795Z"
   },
   {
    "duration": 47,
    "start_time": "2021-07-04T21:45:51.814Z"
   },
   {
    "duration": 367,
    "start_time": "2021-07-07T14:06:29.758Z"
   },
   {
    "duration": 1210,
    "start_time": "2021-07-07T14:06:52.720Z"
   },
   {
    "duration": 60,
    "start_time": "2021-07-07T14:06:53.933Z"
   },
   {
    "duration": 40,
    "start_time": "2021-07-07T14:06:53.996Z"
   },
   {
    "duration": 12,
    "start_time": "2021-07-07T14:06:54.057Z"
   },
   {
    "duration": 18,
    "start_time": "2021-07-07T14:06:54.073Z"
   },
   {
    "duration": 26,
    "start_time": "2021-07-07T14:06:54.094Z"
   },
   {
    "duration": 71,
    "start_time": "2021-07-07T14:06:54.122Z"
   },
   {
    "duration": 8,
    "start_time": "2021-07-07T14:07:45.110Z"
   },
   {
    "duration": 10,
    "start_time": "2021-07-07T14:08:11.641Z"
   },
   {
    "duration": 18,
    "start_time": "2021-07-07T14:08:35.717Z"
   },
   {
    "duration": 37,
    "start_time": "2021-07-07T14:09:30.637Z"
   },
   {
    "duration": 17,
    "start_time": "2021-07-07T14:09:38.551Z"
   },
   {
    "duration": 12,
    "start_time": "2021-07-07T14:10:14.756Z"
   },
   {
    "duration": 12,
    "start_time": "2021-07-07T14:10:16.691Z"
   },
   {
    "duration": 23,
    "start_time": "2021-07-07T14:10:37.515Z"
   },
   {
    "duration": 12,
    "start_time": "2021-07-07T14:11:01.628Z"
   },
   {
    "duration": 11,
    "start_time": "2021-07-07T14:11:35.292Z"
   },
   {
    "duration": 15,
    "start_time": "2021-07-07T14:15:23.728Z"
   },
   {
    "duration": 34,
    "start_time": "2021-07-07T14:15:43.715Z"
   },
   {
    "duration": 7,
    "start_time": "2021-07-07T14:18:53.248Z"
   },
   {
    "duration": 7,
    "start_time": "2021-07-07T14:18:55.654Z"
   },
   {
    "duration": 10,
    "start_time": "2021-07-07T14:19:09.436Z"
   },
   {
    "duration": 1166,
    "start_time": "2021-07-07T14:20:08.154Z"
   },
   {
    "duration": 66,
    "start_time": "2021-07-07T14:20:09.324Z"
   },
   {
    "duration": 39,
    "start_time": "2021-07-07T14:20:09.394Z"
   },
   {
    "duration": 13,
    "start_time": "2021-07-07T14:20:09.456Z"
   },
   {
    "duration": 18,
    "start_time": "2021-07-07T14:20:09.472Z"
   },
   {
    "duration": 27,
    "start_time": "2021-07-07T14:20:09.493Z"
   },
   {
    "duration": 58,
    "start_time": "2021-07-07T14:20:09.522Z"
   },
   {
    "duration": 9,
    "start_time": "2021-07-07T14:20:09.583Z"
   },
   {
    "duration": 1060,
    "start_time": "2021-07-07T14:40:27.611Z"
   },
   {
    "duration": 52,
    "start_time": "2021-07-07T14:40:28.675Z"
   },
   {
    "duration": 61,
    "start_time": "2021-07-07T14:40:28.731Z"
   },
   {
    "duration": 11,
    "start_time": "2021-07-07T14:40:28.796Z"
   },
   {
    "duration": 46,
    "start_time": "2021-07-07T14:40:28.809Z"
   },
   {
    "duration": 15,
    "start_time": "2021-07-07T14:40:28.858Z"
   },
   {
    "duration": 27,
    "start_time": "2021-07-07T14:40:28.876Z"
   },
   {
    "duration": 59,
    "start_time": "2021-07-07T14:40:28.906Z"
   },
   {
    "duration": 8,
    "start_time": "2021-07-07T14:40:28.968Z"
   },
   {
    "duration": 9,
    "start_time": "2021-07-07T14:42:27.107Z"
   },
   {
    "duration": 1063,
    "start_time": "2021-07-07T14:46:45.021Z"
   },
   {
    "duration": 67,
    "start_time": "2021-07-07T14:46:46.087Z"
   },
   {
    "duration": 39,
    "start_time": "2021-07-07T14:46:46.157Z"
   },
   {
    "duration": 8,
    "start_time": "2021-07-07T14:46:46.199Z"
   },
   {
    "duration": 19,
    "start_time": "2021-07-07T14:46:46.210Z"
   },
   {
    "duration": 3,
    "start_time": "2021-07-07T14:46:46.255Z"
   },
   {
    "duration": 39,
    "start_time": "2021-07-07T14:46:46.260Z"
   },
   {
    "duration": 31,
    "start_time": "2021-07-07T14:46:46.302Z"
   },
   {
    "duration": 11,
    "start_time": "2021-07-07T14:46:46.355Z"
   },
   {
    "duration": 14,
    "start_time": "2021-07-07T14:48:39.142Z"
   },
   {
    "duration": 29,
    "start_time": "2021-07-07T14:49:38.460Z"
   },
   {
    "duration": 29,
    "start_time": "2021-07-07T14:50:45.312Z"
   },
   {
    "duration": 385,
    "start_time": "2021-07-07T14:50:58.455Z"
   },
   {
    "duration": 15,
    "start_time": "2021-07-07T14:55:00.677Z"
   },
   {
    "duration": 36,
    "start_time": "2021-07-07T14:58:50.673Z"
   },
   {
    "duration": 3,
    "start_time": "2021-07-07T15:09:15.784Z"
   },
   {
    "duration": 3,
    "start_time": "2021-07-07T15:18:07.155Z"
   },
   {
    "duration": 32,
    "start_time": "2021-07-07T15:19:17.105Z"
   },
   {
    "duration": 246,
    "start_time": "2021-07-07T15:21:53.471Z"
   },
   {
    "duration": 16,
    "start_time": "2021-07-07T15:21:56.836Z"
   },
   {
    "duration": 37,
    "start_time": "2021-07-07T15:22:12.264Z"
   },
   {
    "duration": -243,
    "start_time": "2021-07-07T15:43:11.951Z"
   },
   {
    "duration": -244,
    "start_time": "2021-07-07T15:43:20.800Z"
   },
   {
    "duration": 83,
    "start_time": "2021-07-07T15:43:27.136Z"
   },
   {
    "duration": 6241,
    "start_time": "2021-07-07T15:43:44.562Z"
   },
   {
    "duration": 7925,
    "start_time": "2021-07-07T15:44:05.434Z"
   },
   {
    "duration": 34,
    "start_time": "2021-07-07T15:44:55.433Z"
   },
   {
    "duration": 22,
    "start_time": "2021-07-07T15:45:10.271Z"
   },
   {
    "duration": 23,
    "start_time": "2021-07-07T15:45:13.178Z"
   },
   {
    "duration": 12,
    "start_time": "2021-07-07T15:46:28.040Z"
   },
   {
    "duration": 1084,
    "start_time": "2021-07-09T06:16:00.554Z"
   },
   {
    "duration": 58,
    "start_time": "2021-07-09T06:16:01.642Z"
   },
   {
    "duration": 49,
    "start_time": "2021-07-09T06:16:01.709Z"
   },
   {
    "duration": 31,
    "start_time": "2021-07-09T06:16:01.761Z"
   },
   {
    "duration": 62,
    "start_time": "2021-07-09T06:16:01.794Z"
   },
   {
    "duration": 11,
    "start_time": "2021-07-09T06:16:01.858Z"
   },
   {
    "duration": 67,
    "start_time": "2021-07-09T06:16:01.872Z"
   },
   {
    "duration": 14,
    "start_time": "2021-07-09T06:16:01.953Z"
   },
   {
    "duration": 32,
    "start_time": "2021-07-09T06:16:01.969Z"
   },
   {
    "duration": 51,
    "start_time": "2021-07-09T06:16:02.004Z"
   },
   {
    "duration": 42,
    "start_time": "2021-07-09T06:16:02.058Z"
   },
   {
    "duration": 29,
    "start_time": "2021-07-09T08:01:28.246Z"
   },
   {
    "duration": 1635,
    "start_time": "2021-07-09T08:02:20.501Z"
   },
   {
    "duration": 6,
    "start_time": "2021-07-09T08:15:38.838Z"
   },
   {
    "duration": 5,
    "start_time": "2021-07-09T08:15:46.771Z"
   },
   {
    "duration": 50260,
    "start_time": "2021-07-09T08:16:47.406Z"
   },
   {
    "duration": 29,
    "start_time": "2021-07-09T08:18:21.264Z"
   },
   {
    "duration": 28,
    "start_time": "2021-07-09T08:18:43.974Z"
   },
   {
    "duration": 388,
    "start_time": "2021-07-09T09:01:36.062Z"
   },
   {
    "duration": 265,
    "start_time": "2021-07-09T09:01:56.362Z"
   },
   {
    "duration": 1007,
    "start_time": "2021-07-09T09:02:10.262Z"
   },
   {
    "duration": 52,
    "start_time": "2021-07-09T09:02:11.272Z"
   },
   {
    "duration": 30,
    "start_time": "2021-07-09T09:02:11.327Z"
   },
   {
    "duration": 38,
    "start_time": "2021-07-09T09:02:11.360Z"
   },
   {
    "duration": 31,
    "start_time": "2021-07-09T09:02:11.400Z"
   },
   {
    "duration": 31,
    "start_time": "2021-07-09T09:02:11.434Z"
   },
   {
    "duration": 43,
    "start_time": "2021-07-09T09:02:11.468Z"
   },
   {
    "duration": 16,
    "start_time": "2021-07-09T09:02:11.558Z"
   },
   {
    "duration": 19,
    "start_time": "2021-07-09T09:02:11.577Z"
   },
   {
    "duration": 407,
    "start_time": "2021-07-09T09:02:11.600Z"
   },
   {
    "duration": -1594,
    "start_time": "2021-07-09T09:02:13.605Z"
   },
   {
    "duration": -1597,
    "start_time": "2021-07-09T09:02:13.610Z"
   },
   {
    "duration": 2054,
    "start_time": "2021-07-09T09:03:19.083Z"
   },
   {
    "duration": 2098,
    "start_time": "2021-07-09T09:15:24.677Z"
   },
   {
    "duration": 2045,
    "start_time": "2021-07-09T09:15:30.394Z"
   },
   {
    "duration": 1051,
    "start_time": "2021-07-09T09:15:41.434Z"
   },
   {
    "duration": 70,
    "start_time": "2021-07-09T09:15:42.489Z"
   },
   {
    "duration": 14,
    "start_time": "2021-07-09T09:15:42.564Z"
   },
   {
    "duration": 47,
    "start_time": "2021-07-09T09:15:42.582Z"
   },
   {
    "duration": 52,
    "start_time": "2021-07-09T09:15:42.632Z"
   },
   {
    "duration": 16,
    "start_time": "2021-07-09T09:15:42.688Z"
   },
   {
    "duration": 81,
    "start_time": "2021-07-09T09:15:42.707Z"
   },
   {
    "duration": 13,
    "start_time": "2021-07-09T09:15:42.792Z"
   },
   {
    "duration": 26,
    "start_time": "2021-07-09T09:15:42.807Z"
   },
   {
    "duration": 2084,
    "start_time": "2021-07-09T09:15:42.855Z"
   },
   {
    "duration": 23,
    "start_time": "2021-07-09T09:15:44.942Z"
   },
   {
    "duration": 1108,
    "start_time": "2021-07-09T09:15:44.967Z"
   },
   {
    "duration": 53,
    "start_time": "2021-07-09T09:25:30.921Z"
   },
   {
    "duration": 47,
    "start_time": "2021-07-09T09:25:46.791Z"
   },
   {
    "duration": 32,
    "start_time": "2021-07-09T09:28:03.516Z"
   },
   {
    "duration": 57,
    "start_time": "2021-07-09T09:35:58.416Z"
   },
   {
    "duration": 38,
    "start_time": "2021-07-09T09:36:26.725Z"
   },
   {
    "duration": 33,
    "start_time": "2021-07-09T09:37:03.300Z"
   },
   {
    "duration": 1037,
    "start_time": "2021-07-09T09:37:18.008Z"
   },
   {
    "duration": 71,
    "start_time": "2021-07-09T09:37:19.051Z"
   },
   {
    "duration": 41,
    "start_time": "2021-07-09T09:37:19.125Z"
   },
   {
    "duration": 39,
    "start_time": "2021-07-09T09:37:19.169Z"
   },
   {
    "duration": 68,
    "start_time": "2021-07-09T09:37:19.211Z"
   },
   {
    "duration": 10,
    "start_time": "2021-07-09T09:37:19.281Z"
   },
   {
    "duration": 80,
    "start_time": "2021-07-09T09:37:19.294Z"
   },
   {
    "duration": 12,
    "start_time": "2021-07-09T09:37:19.378Z"
   },
   {
    "duration": 20,
    "start_time": "2021-07-09T09:37:19.394Z"
   },
   {
    "duration": 98,
    "start_time": "2021-07-09T09:37:19.417Z"
   },
   {
    "duration": 45,
    "start_time": "2021-07-09T09:37:19.518Z"
   },
   {
    "duration": 1072,
    "start_time": "2021-07-09T09:37:19.565Z"
   },
   {
    "duration": 1213,
    "start_time": "2021-07-09T10:12:12.757Z"
   },
   {
    "duration": 1113,
    "start_time": "2021-07-09T12:02:38.294Z"
   },
   {
    "duration": 1135,
    "start_time": "2021-07-09T12:03:04.098Z"
   },
   {
    "duration": 60,
    "start_time": "2021-07-09T12:03:12.077Z"
   },
   {
    "duration": 13,
    "start_time": "2021-07-09T12:03:19.112Z"
   },
   {
    "duration": 12,
    "start_time": "2021-07-09T12:03:22.559Z"
   },
   {
    "duration": 26,
    "start_time": "2021-07-09T12:03:28.705Z"
   },
   {
    "duration": 39,
    "start_time": "2021-07-09T12:03:42.065Z"
   },
   {
    "duration": 10,
    "start_time": "2021-07-09T12:03:55.556Z"
   },
   {
    "duration": 17,
    "start_time": "2021-07-09T12:04:19.154Z"
   },
   {
    "duration": 12,
    "start_time": "2021-07-09T12:04:20.888Z"
   },
   {
    "duration": 12,
    "start_time": "2021-07-09T12:05:07.513Z"
   },
   {
    "duration": 11,
    "start_time": "2021-07-09T12:05:10.255Z"
   },
   {
    "duration": 12,
    "start_time": "2021-07-09T12:05:11.759Z"
   },
   {
    "duration": 1328,
    "start_time": "2021-07-09T12:05:16.077Z"
   },
   {
    "duration": 304,
    "start_time": "2021-07-09T12:05:51.279Z"
   },
   {
    "duration": 18,
    "start_time": "2021-07-09T12:06:01.354Z"
   },
   {
    "duration": 15,
    "start_time": "2021-07-09T12:06:02.363Z"
   },
   {
    "duration": 16,
    "start_time": "2021-07-09T12:06:03.078Z"
   },
   {
    "duration": 1054,
    "start_time": "2021-07-09T12:06:16.219Z"
   },
   {
    "duration": 51,
    "start_time": "2021-07-09T12:06:17.276Z"
   },
   {
    "duration": 30,
    "start_time": "2021-07-09T12:06:17.330Z"
   },
   {
    "duration": 36,
    "start_time": "2021-07-09T12:06:17.362Z"
   },
   {
    "duration": 29,
    "start_time": "2021-07-09T12:06:17.400Z"
   },
   {
    "duration": 8,
    "start_time": "2021-07-09T12:06:17.454Z"
   },
   {
    "duration": 42,
    "start_time": "2021-07-09T12:06:17.464Z"
   },
   {
    "duration": 47,
    "start_time": "2021-07-09T12:06:17.509Z"
   },
   {
    "duration": 10,
    "start_time": "2021-07-09T12:06:17.559Z"
   },
   {
    "duration": 29,
    "start_time": "2021-07-09T12:06:17.571Z"
   },
   {
    "duration": 53,
    "start_time": "2021-07-09T12:06:17.602Z"
   },
   {
    "duration": 4,
    "start_time": "2021-07-09T12:06:17.658Z"
   },
   {
    "duration": 55,
    "start_time": "2021-07-09T12:06:58.588Z"
   },
   {
    "duration": 47,
    "start_time": "2021-07-09T12:07:17.738Z"
   },
   {
    "duration": 49,
    "start_time": "2021-07-09T12:07:42.112Z"
   },
   {
    "duration": 68,
    "start_time": "2021-07-09T12:08:07.751Z"
   },
   {
    "duration": 3,
    "start_time": "2021-07-09T12:26:05.336Z"
   },
   {
    "duration": 3,
    "start_time": "2021-07-09T12:26:31.696Z"
   },
   {
    "duration": 30,
    "start_time": "2021-07-09T12:27:20.201Z"
   },
   {
    "duration": 317,
    "start_time": "2021-07-09T12:31:30.715Z"
   },
   {
    "duration": 28,
    "start_time": "2021-07-09T12:31:49.239Z"
   },
   {
    "duration": 303,
    "start_time": "2021-07-09T12:31:52.569Z"
   },
   {
    "duration": 19,
    "start_time": "2021-07-09T12:37:52.968Z"
   },
   {
    "duration": 32,
    "start_time": "2021-07-09T12:39:01.026Z"
   },
   {
    "duration": 24,
    "start_time": "2021-07-09T12:39:07.173Z"
   },
   {
    "duration": 24,
    "start_time": "2021-07-09T12:39:08.465Z"
   },
   {
    "duration": 28,
    "start_time": "2021-07-09T12:39:17.347Z"
   },
   {
    "duration": 7,
    "start_time": "2021-07-09T12:39:33.003Z"
   },
   {
    "duration": 345,
    "start_time": "2021-07-09T12:39:58.833Z"
   },
   {
    "duration": 9,
    "start_time": "2021-07-09T12:41:07.802Z"
   },
   {
    "duration": 9,
    "start_time": "2021-07-09T12:41:22.290Z"
   },
   {
    "duration": 262,
    "start_time": "2021-07-09T12:50:16.143Z"
   },
   {
    "duration": 261,
    "start_time": "2021-07-09T12:51:41.704Z"
   },
   {
    "duration": 248,
    "start_time": "2021-07-09T12:51:45.912Z"
   },
   {
    "duration": 7,
    "start_time": "2021-07-09T12:52:07.539Z"
   },
   {
    "duration": 6,
    "start_time": "2021-07-09T12:52:08.654Z"
   },
   {
    "duration": 9,
    "start_time": "2021-07-09T12:52:09.214Z"
   },
   {
    "duration": 249,
    "start_time": "2021-07-09T12:52:16.488Z"
   },
   {
    "duration": 1245,
    "start_time": "2021-07-09T12:53:09.384Z"
   },
   {
    "duration": 254,
    "start_time": "2021-07-09T12:53:10.908Z"
   },
   {
    "duration": 10,
    "start_time": "2021-07-09T12:53:20.076Z"
   },
   {
    "duration": 25,
    "start_time": "2021-07-09T12:53:34.873Z"
   },
   {
    "duration": 244,
    "start_time": "2021-07-09T13:01:31.153Z"
   },
   {
    "duration": 30,
    "start_time": "2021-07-09T13:01:39.742Z"
   },
   {
    "duration": 23,
    "start_time": "2021-07-09T13:09:39.433Z"
   },
   {
    "duration": 244,
    "start_time": "2021-07-09T13:13:40.104Z"
   },
   {
    "duration": 110,
    "start_time": "2021-07-09T13:13:50.361Z"
   },
   {
    "duration": 5,
    "start_time": "2021-07-09T13:22:16.257Z"
   },
   {
    "duration": 5,
    "start_time": "2021-07-09T13:22:19.876Z"
   },
   {
    "duration": 1531,
    "start_time": "2021-07-09T13:22:24.456Z"
   },
   {
    "duration": 1564,
    "start_time": "2021-07-09T13:24:32.580Z"
   },
   {
    "duration": 1656,
    "start_time": "2021-07-09T13:24:37.595Z"
   },
   {
    "duration": 4,
    "start_time": "2021-07-09T13:24:51.821Z"
   },
   {
    "duration": 538,
    "start_time": "2021-07-09T13:24:56.893Z"
   },
   {
    "duration": 5,
    "start_time": "2021-07-09T13:25:01.558Z"
   },
   {
    "duration": 1656,
    "start_time": "2021-07-09T13:25:12.037Z"
   },
   {
    "duration": 5,
    "start_time": "2021-07-09T13:26:35.100Z"
   },
   {
    "duration": 6,
    "start_time": "2021-07-09T13:26:40.772Z"
   },
   {
    "duration": 24,
    "start_time": "2021-07-09T13:26:58.646Z"
   },
   {
    "duration": 33,
    "start_time": "2021-07-09T13:27:24.340Z"
   },
   {
    "duration": 22,
    "start_time": "2021-07-09T13:27:40.760Z"
   },
   {
    "duration": 22,
    "start_time": "2021-07-09T13:27:41.804Z"
   },
   {
    "duration": 56,
    "start_time": "2021-07-09T13:28:10.822Z"
   },
   {
    "duration": 23,
    "start_time": "2021-07-09T13:28:56.601Z"
   },
   {
    "duration": 290,
    "start_time": "2021-07-09T13:43:41.359Z"
   },
   {
    "duration": 5,
    "start_time": "2021-07-09T13:45:04.990Z"
   },
   {
    "duration": 5,
    "start_time": "2021-07-09T13:45:12.146Z"
   },
   {
    "duration": 43,
    "start_time": "2021-07-09T13:45:59.953Z"
   },
   {
    "duration": 973,
    "start_time": "2021-07-09T13:47:06.385Z"
   },
   {
    "duration": 26,
    "start_time": "2021-07-09T13:47:07.361Z"
   },
   {
    "duration": 75,
    "start_time": "2021-07-09T13:47:07.391Z"
   },
   {
    "duration": 13,
    "start_time": "2021-07-09T13:47:07.469Z"
   },
   {
    "duration": 33,
    "start_time": "2021-07-09T13:47:07.485Z"
   },
   {
    "duration": 56,
    "start_time": "2021-07-09T13:47:07.522Z"
   },
   {
    "duration": 20,
    "start_time": "2021-07-09T13:47:07.581Z"
   },
   {
    "duration": 61,
    "start_time": "2021-07-09T13:47:07.605Z"
   },
   {
    "duration": 13,
    "start_time": "2021-07-09T13:47:07.669Z"
   },
   {
    "duration": 9,
    "start_time": "2021-07-09T13:47:07.685Z"
   },
   {
    "duration": 66,
    "start_time": "2021-07-09T13:47:07.697Z"
   },
   {
    "duration": 15,
    "start_time": "2021-07-09T13:47:07.766Z"
   },
   {
    "duration": 19,
    "start_time": "2021-07-09T13:47:07.783Z"
   },
   {
    "duration": 55,
    "start_time": "2021-07-09T13:47:07.804Z"
   },
   {
    "duration": 46,
    "start_time": "2021-07-09T13:47:07.862Z"
   },
   {
    "duration": 3,
    "start_time": "2021-07-09T13:47:07.911Z"
   },
   {
    "duration": 67,
    "start_time": "2021-07-09T13:47:07.917Z"
   },
   {
    "duration": 111,
    "start_time": "2021-07-09T13:47:07.986Z"
   },
   {
    "duration": 22,
    "start_time": "2021-07-09T13:49:16.812Z"
   },
   {
    "duration": 4,
    "start_time": "2021-07-09T13:51:06.224Z"
   },
   {
    "duration": 1010,
    "start_time": "2021-07-10T18:37:51.581Z"
   },
   {
    "duration": 26,
    "start_time": "2021-07-10T18:37:52.594Z"
   },
   {
    "duration": 66,
    "start_time": "2021-07-10T18:37:52.624Z"
   },
   {
    "duration": 12,
    "start_time": "2021-07-10T18:37:52.693Z"
   },
   {
    "duration": 54,
    "start_time": "2021-07-10T18:37:52.707Z"
   },
   {
    "duration": 41,
    "start_time": "2021-07-10T18:37:52.763Z"
   },
   {
    "duration": 14,
    "start_time": "2021-07-10T18:37:52.806Z"
   },
   {
    "duration": 9,
    "start_time": "2021-07-10T18:37:52.857Z"
   },
   {
    "duration": 53,
    "start_time": "2021-07-10T18:37:52.869Z"
   },
   {
    "duration": 34,
    "start_time": "2021-07-10T18:37:52.924Z"
   },
   {
    "duration": 10,
    "start_time": "2021-07-10T18:37:52.960Z"
   },
   {
    "duration": 28,
    "start_time": "2021-07-10T18:37:52.972Z"
   },
   {
    "duration": 51,
    "start_time": "2021-07-10T18:37:53.003Z"
   },
   {
    "duration": 20,
    "start_time": "2021-07-10T18:37:53.056Z"
   },
   {
    "duration": 95,
    "start_time": "2021-07-10T18:37:53.078Z"
   },
   {
    "duration": -85,
    "start_time": "2021-07-10T18:37:53.261Z"
   },
   {
    "duration": -87,
    "start_time": "2021-07-10T18:37:53.264Z"
   },
   {
    "duration": -94,
    "start_time": "2021-07-10T18:37:53.272Z"
   },
   {
    "duration": -95,
    "start_time": "2021-07-10T18:37:53.274Z"
   },
   {
    "duration": -98,
    "start_time": "2021-07-10T18:37:53.278Z"
   },
   {
    "duration": 347,
    "start_time": "2021-07-10T18:56:44.952Z"
   },
   {
    "duration": 8,
    "start_time": "2021-07-10T19:10:43.634Z"
   },
   {
    "duration": 5,
    "start_time": "2021-07-10T19:10:59.469Z"
   },
   {
    "duration": 7,
    "start_time": "2021-07-10T19:11:08.895Z"
   },
   {
    "duration": 21,
    "start_time": "2021-07-10T19:28:59.457Z"
   },
   {
    "duration": 1002,
    "start_time": "2021-07-10T19:29:19.507Z"
   },
   {
    "duration": 26,
    "start_time": "2021-07-10T19:29:20.511Z"
   },
   {
    "duration": 49,
    "start_time": "2021-07-10T19:29:20.556Z"
   },
   {
    "duration": 12,
    "start_time": "2021-07-10T19:29:20.608Z"
   },
   {
    "duration": 57,
    "start_time": "2021-07-10T19:29:20.622Z"
   },
   {
    "duration": 41,
    "start_time": "2021-07-10T19:29:20.681Z"
   },
   {
    "duration": 31,
    "start_time": "2021-07-10T19:29:20.725Z"
   },
   {
    "duration": 19,
    "start_time": "2021-07-10T19:29:20.760Z"
   },
   {
    "duration": 10,
    "start_time": "2021-07-10T19:29:20.783Z"
   },
   {
    "duration": 84,
    "start_time": "2021-07-10T19:29:20.795Z"
   },
   {
    "duration": 15,
    "start_time": "2021-07-10T19:29:20.882Z"
   },
   {
    "duration": 10,
    "start_time": "2021-07-10T19:29:20.899Z"
   },
   {
    "duration": 53,
    "start_time": "2021-07-10T19:29:20.911Z"
   },
   {
    "duration": 22,
    "start_time": "2021-07-10T19:29:20.967Z"
   },
   {
    "duration": 22,
    "start_time": "2021-07-10T19:29:20.991Z"
   },
   {
    "duration": 45,
    "start_time": "2021-07-10T19:29:21.015Z"
   },
   {
    "duration": 25,
    "start_time": "2021-07-10T19:29:21.062Z"
   },
   {
    "duration": 67,
    "start_time": "2021-07-10T19:29:21.089Z"
   },
   {
    "duration": 21,
    "start_time": "2021-07-10T19:29:21.159Z"
   },
   {
    "duration": 16,
    "start_time": "2021-07-10T19:29:21.183Z"
   },
   {
    "duration": 73,
    "start_time": "2021-07-10T19:29:21.201Z"
   },
   {
    "duration": 107,
    "start_time": "2021-07-10T19:29:21.277Z"
   },
   {
    "duration": 31,
    "start_time": "2021-07-10T19:33:36.366Z"
   },
   {
    "duration": 350,
    "start_time": "2021-07-10T20:32:18.399Z"
   },
   {
    "duration": 271,
    "start_time": "2021-07-10T20:33:37.319Z"
   },
   {
    "duration": 35,
    "start_time": "2021-07-10T20:33:58.655Z"
   },
   {
    "duration": 1045,
    "start_time": "2021-07-10T20:34:54.921Z"
   },
   {
    "duration": 26,
    "start_time": "2021-07-10T20:34:55.969Z"
   },
   {
    "duration": 70,
    "start_time": "2021-07-10T20:34:55.998Z"
   },
   {
    "duration": 11,
    "start_time": "2021-07-10T20:34:56.071Z"
   },
   {
    "duration": 37,
    "start_time": "2021-07-10T20:34:56.085Z"
   },
   {
    "duration": 62,
    "start_time": "2021-07-10T20:34:56.125Z"
   },
   {
    "duration": 4,
    "start_time": "2021-07-10T20:34:56.190Z"
   },
   {
    "duration": 22,
    "start_time": "2021-07-10T20:34:56.198Z"
   },
   {
    "duration": 10,
    "start_time": "2021-07-10T20:34:56.254Z"
   },
   {
    "duration": 62,
    "start_time": "2021-07-10T20:34:56.266Z"
   },
   {
    "duration": 28,
    "start_time": "2021-07-10T20:34:56.330Z"
   },
   {
    "duration": 10,
    "start_time": "2021-07-10T20:34:56.360Z"
   },
   {
    "duration": 22,
    "start_time": "2021-07-10T20:34:56.372Z"
   },
   {
    "duration": 28,
    "start_time": "2021-07-10T20:34:56.397Z"
   },
   {
    "duration": 45,
    "start_time": "2021-07-10T20:34:56.428Z"
   },
   {
    "duration": 10,
    "start_time": "2021-07-10T20:34:56.475Z"
   },
   {
    "duration": 22,
    "start_time": "2021-07-10T20:34:56.488Z"
   },
   {
    "duration": 65,
    "start_time": "2021-07-10T20:34:56.512Z"
   },
   {
    "duration": 4,
    "start_time": "2021-07-10T20:34:56.580Z"
   },
   {
    "duration": 34,
    "start_time": "2021-07-10T20:34:56.586Z"
   },
   {
    "duration": 69,
    "start_time": "2021-07-10T20:34:56.622Z"
   },
   {
    "duration": 92,
    "start_time": "2021-07-10T20:34:56.694Z"
   },
   {
    "duration": 24,
    "start_time": "2021-07-10T20:35:19.464Z"
   },
   {
    "duration": 22,
    "start_time": "2021-07-10T20:35:53.404Z"
   },
   {
    "duration": 47,
    "start_time": "2021-07-10T20:45:16.916Z"
   },
   {
    "duration": 1056,
    "start_time": "2021-07-10T20:46:02.447Z"
   },
   {
    "duration": 25,
    "start_time": "2021-07-10T20:46:03.506Z"
   },
   {
    "duration": 51,
    "start_time": "2021-07-10T20:46:03.554Z"
   },
   {
    "duration": 12,
    "start_time": "2021-07-10T20:46:03.607Z"
   },
   {
    "duration": 55,
    "start_time": "2021-07-10T20:46:03.621Z"
   },
   {
    "duration": 42,
    "start_time": "2021-07-10T20:46:03.678Z"
   },
   {
    "duration": 34,
    "start_time": "2021-07-10T20:46:03.723Z"
   },
   {
    "duration": 20,
    "start_time": "2021-07-10T20:46:03.759Z"
   },
   {
    "duration": 8,
    "start_time": "2021-07-10T20:46:03.783Z"
   },
   {
    "duration": 78,
    "start_time": "2021-07-10T20:46:03.794Z"
   },
   {
    "duration": 15,
    "start_time": "2021-07-10T20:46:03.874Z"
   },
   {
    "duration": 10,
    "start_time": "2021-07-10T20:46:03.891Z"
   },
   {
    "duration": 9,
    "start_time": "2021-07-10T20:46:03.904Z"
   },
   {
    "duration": 59,
    "start_time": "2021-07-10T20:46:03.915Z"
   },
   {
    "duration": 20,
    "start_time": "2021-07-10T20:46:03.976Z"
   },
   {
    "duration": 10,
    "start_time": "2021-07-10T20:46:03.998Z"
   },
   {
    "duration": 63,
    "start_time": "2021-07-10T20:46:04.010Z"
   },
   {
    "duration": 33,
    "start_time": "2021-07-10T20:46:04.076Z"
   },
   {
    "duration": 6,
    "start_time": "2021-07-10T20:46:04.112Z"
   },
   {
    "duration": 35,
    "start_time": "2021-07-10T20:46:04.155Z"
   },
   {
    "duration": 65,
    "start_time": "2021-07-10T20:46:04.192Z"
   },
   {
    "duration": 1512,
    "start_time": "2021-07-10T20:46:04.260Z"
   },
   {
    "duration": -138,
    "start_time": "2021-07-10T20:46:05.913Z"
   },
   {
    "duration": 1017,
    "start_time": "2021-07-10T20:46:25.565Z"
   },
   {
    "duration": 29,
    "start_time": "2021-07-10T20:46:26.585Z"
   },
   {
    "duration": 73,
    "start_time": "2021-07-10T20:46:26.617Z"
   },
   {
    "duration": 11,
    "start_time": "2021-07-10T20:46:26.693Z"
   },
   {
    "duration": 61,
    "start_time": "2021-07-10T20:46:26.706Z"
   },
   {
    "duration": 43,
    "start_time": "2021-07-10T20:46:26.770Z"
   },
   {
    "duration": 5,
    "start_time": "2021-07-10T20:46:26.815Z"
   },
   {
    "duration": 44,
    "start_time": "2021-07-10T20:46:26.824Z"
   },
   {
    "duration": 9,
    "start_time": "2021-07-10T20:46:26.872Z"
   },
   {
    "duration": 81,
    "start_time": "2021-07-10T20:46:26.884Z"
   },
   {
    "duration": 15,
    "start_time": "2021-07-10T20:46:26.967Z"
   },
   {
    "duration": 10,
    "start_time": "2021-07-10T20:46:26.985Z"
   },
   {
    "duration": 11,
    "start_time": "2021-07-10T20:46:26.998Z"
   },
   {
    "duration": 65,
    "start_time": "2021-07-10T20:46:27.011Z"
   },
   {
    "duration": 20,
    "start_time": "2021-07-10T20:46:27.079Z"
   },
   {
    "duration": 8,
    "start_time": "2021-07-10T20:46:27.101Z"
   },
   {
    "duration": 61,
    "start_time": "2021-07-10T20:46:27.111Z"
   },
   {
    "duration": 35,
    "start_time": "2021-07-10T20:46:27.174Z"
   },
   {
    "duration": 4,
    "start_time": "2021-07-10T20:46:27.211Z"
   },
   {
    "duration": 62,
    "start_time": "2021-07-10T20:46:27.217Z"
   },
   {
    "duration": 24,
    "start_time": "2021-07-10T20:46:27.281Z"
   },
   {
    "duration": 1226,
    "start_time": "2021-07-10T20:46:27.308Z"
   },
   {
    "duration": -170,
    "start_time": "2021-07-10T20:46:28.707Z"
   },
   {
    "duration": 1019,
    "start_time": "2021-07-10T20:46:46.043Z"
   },
   {
    "duration": 26,
    "start_time": "2021-07-10T20:46:47.065Z"
   },
   {
    "duration": 82,
    "start_time": "2021-07-10T20:46:47.097Z"
   },
   {
    "duration": 12,
    "start_time": "2021-07-10T20:46:47.181Z"
   },
   {
    "duration": 33,
    "start_time": "2021-07-10T20:46:47.195Z"
   },
   {
    "duration": 61,
    "start_time": "2021-07-10T20:46:47.230Z"
   },
   {
    "duration": 4,
    "start_time": "2021-07-10T20:46:47.293Z"
   },
   {
    "duration": 15,
    "start_time": "2021-07-10T20:46:47.302Z"
   },
   {
    "duration": 42,
    "start_time": "2021-07-10T20:46:47.320Z"
   },
   {
    "duration": 40,
    "start_time": "2021-07-10T20:46:47.364Z"
   },
   {
    "duration": 49,
    "start_time": "2021-07-10T20:46:47.407Z"
   },
   {
    "duration": 9,
    "start_time": "2021-07-10T20:46:47.459Z"
   },
   {
    "duration": 11,
    "start_time": "2021-07-10T20:46:47.470Z"
   },
   {
    "duration": 20,
    "start_time": "2021-07-10T20:46:47.483Z"
   },
   {
    "duration": 64,
    "start_time": "2021-07-10T20:46:47.506Z"
   },
   {
    "duration": 9,
    "start_time": "2021-07-10T20:46:47.573Z"
   },
   {
    "duration": 21,
    "start_time": "2021-07-10T20:46:47.584Z"
   },
   {
    "duration": 70,
    "start_time": "2021-07-10T20:46:47.608Z"
   },
   {
    "duration": 4,
    "start_time": "2021-07-10T20:46:47.680Z"
   },
   {
    "duration": 34,
    "start_time": "2021-07-10T20:46:47.686Z"
   },
   {
    "duration": 48,
    "start_time": "2021-07-10T20:46:47.722Z"
   },
   {
    "duration": 1152,
    "start_time": "2021-07-10T20:46:47.773Z"
   },
   {
    "duration": -143,
    "start_time": "2021-07-10T20:46:49.070Z"
   },
   {
    "duration": 49,
    "start_time": "2021-07-10T20:47:10.810Z"
   },
   {
    "duration": 289,
    "start_time": "2021-07-10T20:48:07.618Z"
   },
   {
    "duration": 33,
    "start_time": "2021-07-10T20:49:21.460Z"
   },
   {
    "duration": 289,
    "start_time": "2021-07-10T20:49:50.605Z"
   },
   {
    "duration": 36,
    "start_time": "2021-07-10T20:50:06.347Z"
   },
   {
    "duration": 56,
    "start_time": "2021-07-10T20:51:38.753Z"
   },
   {
    "duration": 39,
    "start_time": "2021-07-10T20:51:51.244Z"
   },
   {
    "duration": 45,
    "start_time": "2021-07-10T20:53:26.138Z"
   },
   {
    "duration": 9261,
    "start_time": "2021-07-10T20:53:50.696Z"
   },
   {
    "duration": 59,
    "start_time": "2021-07-10T21:26:04.938Z"
   },
   {
    "duration": 1112,
    "start_time": "2021-07-10T21:26:24.635Z"
   },
   {
    "duration": 9350,
    "start_time": "2021-07-10T21:26:41.139Z"
   },
   {
    "duration": 53,
    "start_time": "2021-07-10T21:28:47.958Z"
   },
   {
    "duration": 44,
    "start_time": "2021-07-10T21:29:08.019Z"
   },
   {
    "duration": 44,
    "start_time": "2021-07-10T21:29:40.712Z"
   },
   {
    "duration": 85,
    "start_time": "2021-07-11T09:57:19.767Z"
   },
   {
    "duration": 22,
    "start_time": "2021-07-11T11:58:08.031Z"
   },
   {
    "duration": 72,
    "start_time": "2021-07-11T11:58:55.980Z"
   },
   {
    "duration": 63,
    "start_time": "2021-07-11T11:59:30.740Z"
   },
   {
    "duration": 50,
    "start_time": "2021-07-11T12:00:51.604Z"
   },
   {
    "duration": 652,
    "start_time": "2021-07-11T12:03:00.090Z"
   },
   {
    "duration": 1115,
    "start_time": "2021-07-11T12:03:23.769Z"
   },
   {
    "duration": 721,
    "start_time": "2021-07-11T12:09:19.994Z"
   },
   {
    "duration": 817,
    "start_time": "2021-07-11T12:09:47.152Z"
   },
   {
    "duration": 765,
    "start_time": "2021-07-11T12:10:25.595Z"
   },
   {
    "duration": 885,
    "start_time": "2021-07-11T12:10:39.063Z"
   },
   {
    "duration": 878,
    "start_time": "2021-07-11T12:10:53.551Z"
   },
   {
    "duration": 300,
    "start_time": "2021-07-11T12:11:48.543Z"
   },
   {
    "duration": 745,
    "start_time": "2021-07-11T16:02:33.026Z"
   },
   {
    "duration": 593,
    "start_time": "2021-07-11T16:02:40.727Z"
   },
   {
    "duration": 34,
    "start_time": "2021-07-11T16:04:26.554Z"
   },
   {
    "duration": 25,
    "start_time": "2021-07-11T16:04:55.910Z"
   },
   {
    "duration": 33,
    "start_time": "2021-07-11T16:06:06.431Z"
   },
   {
    "duration": 335,
    "start_time": "2021-07-11T16:06:14.195Z"
   },
   {
    "duration": 269,
    "start_time": "2021-07-11T16:06:24.666Z"
   },
   {
    "duration": 13,
    "start_time": "2021-07-11T16:06:47.636Z"
   },
   {
    "duration": 12,
    "start_time": "2021-07-11T16:07:22.449Z"
   },
   {
    "duration": 618,
    "start_time": "2021-07-11T16:08:01.905Z"
   },
   {
    "duration": 1234,
    "start_time": "2021-07-11T16:08:19.237Z"
   },
   {
    "duration": 30,
    "start_time": "2021-07-11T16:08:20.474Z"
   },
   {
    "duration": 89,
    "start_time": "2021-07-11T16:08:20.511Z"
   },
   {
    "duration": 13,
    "start_time": "2021-07-11T16:08:20.602Z"
   },
   {
    "duration": 55,
    "start_time": "2021-07-11T16:08:20.618Z"
   },
   {
    "duration": 78,
    "start_time": "2021-07-11T16:08:20.676Z"
   },
   {
    "duration": 6,
    "start_time": "2021-07-11T16:08:20.760Z"
   },
   {
    "duration": 18,
    "start_time": "2021-07-11T16:08:20.770Z"
   },
   {
    "duration": 13,
    "start_time": "2021-07-11T16:08:20.792Z"
   },
   {
    "duration": 44,
    "start_time": "2021-07-11T16:08:20.856Z"
   },
   {
    "duration": 51,
    "start_time": "2021-07-11T16:08:20.903Z"
   },
   {
    "duration": 15,
    "start_time": "2021-07-11T16:08:20.957Z"
   },
   {
    "duration": 12,
    "start_time": "2021-07-11T16:08:20.975Z"
   },
   {
    "duration": 64,
    "start_time": "2021-07-11T16:08:20.991Z"
   },
   {
    "duration": 21,
    "start_time": "2021-07-11T16:08:21.058Z"
   },
   {
    "duration": 12,
    "start_time": "2021-07-11T16:08:21.081Z"
   },
   {
    "duration": 23,
    "start_time": "2021-07-11T16:08:21.096Z"
   },
   {
    "duration": 33,
    "start_time": "2021-07-11T16:08:21.155Z"
   },
   {
    "duration": 5,
    "start_time": "2021-07-11T16:08:21.190Z"
   },
   {
    "duration": 69,
    "start_time": "2021-07-11T16:08:21.198Z"
   },
   {
    "duration": 31,
    "start_time": "2021-07-11T16:08:21.270Z"
   },
   {
    "duration": 71,
    "start_time": "2021-07-11T16:08:21.306Z"
   },
   {
    "duration": 439,
    "start_time": "2021-07-11T16:08:21.380Z"
   },
   {
    "duration": 401,
    "start_time": "2021-07-11T16:08:43.824Z"
   },
   {
    "duration": 639,
    "start_time": "2021-07-11T16:08:56.031Z"
   },
   {
    "duration": 446,
    "start_time": "2021-07-11T16:10:14.662Z"
   },
   {
    "duration": 391,
    "start_time": "2021-07-11T16:15:14.248Z"
   },
   {
    "duration": 400,
    "start_time": "2021-07-11T16:17:27.736Z"
   },
   {
    "duration": 23,
    "start_time": "2021-07-11T16:20:40.684Z"
   },
   {
    "duration": 467,
    "start_time": "2021-07-11T16:21:45.838Z"
   },
   {
    "duration": 376,
    "start_time": "2021-07-11T16:24:51.916Z"
   },
   {
    "duration": 369,
    "start_time": "2021-07-11T16:25:01.953Z"
   },
   {
    "duration": -1738,
    "start_time": "2021-07-11T16:28:04.162Z"
   },
   {
    "duration": 6037,
    "start_time": "2021-07-11T16:28:06.186Z"
   },
   {
    "duration": 1101,
    "start_time": "2021-07-11T16:28:54.705Z"
   },
   {
    "duration": 27,
    "start_time": "2021-07-11T16:28:55.808Z"
   },
   {
    "duration": 72,
    "start_time": "2021-07-11T16:28:55.838Z"
   },
   {
    "duration": 14,
    "start_time": "2021-07-11T16:28:55.913Z"
   },
   {
    "duration": 48,
    "start_time": "2021-07-11T16:28:55.930Z"
   },
   {
    "duration": 42,
    "start_time": "2021-07-11T16:28:55.981Z"
   },
   {
    "duration": 31,
    "start_time": "2021-07-11T16:28:56.025Z"
   },
   {
    "duration": 34,
    "start_time": "2021-07-11T16:28:56.060Z"
   },
   {
    "duration": 26,
    "start_time": "2021-07-11T16:28:56.097Z"
   },
   {
    "duration": 61,
    "start_time": "2021-07-11T16:28:56.125Z"
   },
   {
    "duration": 13,
    "start_time": "2021-07-11T16:28:56.189Z"
   },
   {
    "duration": 31,
    "start_time": "2021-07-11T16:28:56.205Z"
   },
   {
    "duration": 32,
    "start_time": "2021-07-11T16:28:56.239Z"
   },
   {
    "duration": 45,
    "start_time": "2021-07-11T16:28:56.274Z"
   },
   {
    "duration": 39,
    "start_time": "2021-07-11T16:28:56.322Z"
   },
   {
    "duration": 29,
    "start_time": "2021-07-11T16:28:56.364Z"
   },
   {
    "duration": 50,
    "start_time": "2021-07-11T16:28:56.396Z"
   },
   {
    "duration": 70,
    "start_time": "2021-07-11T16:28:56.449Z"
   },
   {
    "duration": 5,
    "start_time": "2021-07-11T16:28:56.522Z"
   },
   {
    "duration": 67,
    "start_time": "2021-07-11T16:28:56.531Z"
   },
   {
    "duration": 31,
    "start_time": "2021-07-11T16:28:56.601Z"
   },
   {
    "duration": 73,
    "start_time": "2021-07-11T16:28:56.635Z"
   },
   {
    "duration": 590,
    "start_time": "2021-07-11T16:28:56.715Z"
   },
   {
    "duration": 589,
    "start_time": "2021-07-11T16:28:57.307Z"
   },
   {
    "duration": 380,
    "start_time": "2021-07-11T16:28:57.899Z"
   },
   {
    "duration": 6759,
    "start_time": "2021-07-11T16:28:58.281Z"
   },
   {
    "duration": -1776,
    "start_time": "2021-07-11T16:29:06.818Z"
   },
   {
    "duration": 23,
    "start_time": "2021-07-11T17:15:27.433Z"
   },
   {
    "duration": 6052,
    "start_time": "2021-07-11T17:15:39.716Z"
   },
   {
    "duration": 6210,
    "start_time": "2021-07-11T17:27:18.800Z"
   },
   {
    "duration": 443,
    "start_time": "2021-07-11T17:28:01.014Z"
   },
   {
    "duration": 11,
    "start_time": "2021-07-11T20:21:40.607Z"
   },
   {
    "duration": 11,
    "start_time": "2021-07-11T20:21:51.300Z"
   },
   {
    "duration": 445,
    "start_time": "2021-07-11T20:23:44.149Z"
   },
   {
    "duration": 377,
    "start_time": "2021-07-11T20:26:05.028Z"
   },
   {
    "duration": 398,
    "start_time": "2021-07-11T20:26:29.976Z"
   },
   {
    "duration": 1132,
    "start_time": "2021-07-11T20:26:45.580Z"
   },
   {
    "duration": 39,
    "start_time": "2021-07-11T20:26:46.715Z"
   },
   {
    "duration": 50,
    "start_time": "2021-07-11T20:26:46.759Z"
   },
   {
    "duration": 11,
    "start_time": "2021-07-11T20:26:46.812Z"
   },
   {
    "duration": 27,
    "start_time": "2021-07-11T20:26:46.854Z"
   },
   {
    "duration": 70,
    "start_time": "2021-07-11T20:26:46.884Z"
   },
   {
    "duration": 5,
    "start_time": "2021-07-11T20:26:46.957Z"
   },
   {
    "duration": 17,
    "start_time": "2021-07-11T20:26:46.966Z"
   },
   {
    "duration": 8,
    "start_time": "2021-07-11T20:26:46.986Z"
   },
   {
    "duration": 86,
    "start_time": "2021-07-11T20:26:46.997Z"
   },
   {
    "duration": 15,
    "start_time": "2021-07-11T20:26:47.085Z"
   },
   {
    "duration": 10,
    "start_time": "2021-07-11T20:26:47.102Z"
   },
   {
    "duration": 44,
    "start_time": "2021-07-11T20:26:47.114Z"
   },
   {
    "duration": 21,
    "start_time": "2021-07-11T20:26:47.160Z"
   },
   {
    "duration": 20,
    "start_time": "2021-07-11T20:26:47.184Z"
   },
   {
    "duration": 50,
    "start_time": "2021-07-11T20:26:47.206Z"
   },
   {
    "duration": 21,
    "start_time": "2021-07-11T20:26:47.259Z"
   },
   {
    "duration": 33,
    "start_time": "2021-07-11T20:26:47.283Z"
   },
   {
    "duration": 36,
    "start_time": "2021-07-11T20:26:47.318Z"
   },
   {
    "duration": 29,
    "start_time": "2021-07-11T20:26:47.357Z"
   },
   {
    "duration": 26,
    "start_time": "2021-07-11T20:26:47.389Z"
   },
   {
    "duration": 69,
    "start_time": "2021-07-11T20:26:47.417Z"
   },
   {
    "duration": 406,
    "start_time": "2021-07-11T20:26:47.491Z"
   },
   {
    "duration": 391,
    "start_time": "2021-07-11T20:26:47.899Z"
   },
   {
    "duration": 388,
    "start_time": "2021-07-11T20:26:48.293Z"
   },
   {
    "duration": 344,
    "start_time": "2021-07-11T20:26:48.683Z"
   },
   {
    "duration": -1541,
    "start_time": "2021-07-11T20:26:50.570Z"
   },
   {
    "duration": 248,
    "start_time": "2021-07-11T20:27:14.589Z"
   },
   {
    "duration": 11,
    "start_time": "2021-07-11T20:27:51.359Z"
   },
   {
    "duration": 458,
    "start_time": "2021-07-11T20:28:16.191Z"
   },
   {
    "duration": 408,
    "start_time": "2021-07-11T20:36:29.672Z"
   },
   {
    "duration": 368,
    "start_time": "2021-07-11T20:37:08.379Z"
   },
   {
    "duration": 369,
    "start_time": "2021-07-11T20:52:22.330Z"
   },
   {
    "duration": 10,
    "start_time": "2021-07-11T21:02:40.196Z"
   },
   {
    "duration": 11,
    "start_time": "2021-07-11T21:02:56.496Z"
   },
   {
    "duration": 9,
    "start_time": "2021-07-11T21:03:35.031Z"
   },
   {
    "duration": 378,
    "start_time": "2021-07-11T21:06:08.514Z"
   },
   {
    "duration": 399,
    "start_time": "2021-07-11T21:10:52.759Z"
   },
   {
    "duration": 398,
    "start_time": "2021-07-11T21:12:09.465Z"
   },
   {
    "duration": 399,
    "start_time": "2021-07-11T21:22:08.621Z"
   },
   {
    "duration": 17,
    "start_time": "2021-07-11T21:32:51.910Z"
   },
   {
    "duration": 411,
    "start_time": "2021-07-11T21:33:23.818Z"
   },
   {
    "duration": 398,
    "start_time": "2021-07-11T21:33:37.271Z"
   },
   {
    "duration": 387,
    "start_time": "2021-07-11T21:38:56.875Z"
   },
   {
    "duration": 471,
    "start_time": "2021-07-11T21:39:20.208Z"
   },
   {
    "duration": 382,
    "start_time": "2021-07-11T21:40:58.479Z"
   },
   {
    "duration": 403,
    "start_time": "2021-07-11T21:41:56.355Z"
   },
   {
    "duration": 9,
    "start_time": "2021-07-11T22:18:29.071Z"
   },
   {
    "duration": 21,
    "start_time": "2021-07-11T22:22:37.394Z"
   },
   {
    "duration": 255,
    "start_time": "2021-07-11T22:23:48.163Z"
   },
   {
    "duration": 25,
    "start_time": "2021-07-11T22:25:04.875Z"
   },
   {
    "duration": 1369,
    "start_time": "2021-07-11T22:37:29.054Z"
   },
   {
    "duration": 1162,
    "start_time": "2021-07-11T22:37:38.657Z"
   },
   {
    "duration": 35,
    "start_time": "2021-07-11T22:37:39.821Z"
   },
   {
    "duration": 52,
    "start_time": "2021-07-11T22:37:39.859Z"
   },
   {
    "duration": 40,
    "start_time": "2021-07-11T22:37:39.915Z"
   },
   {
    "duration": 36,
    "start_time": "2021-07-11T22:37:39.958Z"
   },
   {
    "duration": 64,
    "start_time": "2021-07-11T22:37:39.997Z"
   },
   {
    "duration": 5,
    "start_time": "2021-07-11T22:37:40.064Z"
   },
   {
    "duration": 26,
    "start_time": "2021-07-11T22:37:40.075Z"
   },
   {
    "duration": 53,
    "start_time": "2021-07-11T22:37:40.106Z"
   },
   {
    "duration": 43,
    "start_time": "2021-07-11T22:37:40.162Z"
   },
   {
    "duration": 50,
    "start_time": "2021-07-11T22:37:40.209Z"
   },
   {
    "duration": 14,
    "start_time": "2021-07-11T22:37:40.262Z"
   },
   {
    "duration": 15,
    "start_time": "2021-07-11T22:37:40.279Z"
   },
   {
    "duration": 71,
    "start_time": "2021-07-11T22:37:40.297Z"
   },
   {
    "duration": 23,
    "start_time": "2021-07-11T22:37:40.371Z"
   },
   {
    "duration": 16,
    "start_time": "2021-07-11T22:37:40.397Z"
   },
   {
    "duration": 51,
    "start_time": "2021-07-11T22:37:40.416Z"
   },
   {
    "duration": 35,
    "start_time": "2021-07-11T22:37:40.470Z"
   },
   {
    "duration": 6,
    "start_time": "2021-07-11T22:37:40.508Z"
   },
   {
    "duration": 63,
    "start_time": "2021-07-11T22:37:40.517Z"
   },
   {
    "duration": 37,
    "start_time": "2021-07-11T22:37:40.582Z"
   },
   {
    "duration": 1079,
    "start_time": "2021-07-11T22:37:40.623Z"
   },
   {
    "duration": -1562,
    "start_time": "2021-07-11T22:37:43.267Z"
   },
   {
    "duration": -1567,
    "start_time": "2021-07-11T22:37:43.274Z"
   },
   {
    "duration": -1573,
    "start_time": "2021-07-11T22:37:43.281Z"
   },
   {
    "duration": -1575,
    "start_time": "2021-07-11T22:37:43.284Z"
   },
   {
    "duration": -1577,
    "start_time": "2021-07-11T22:37:43.288Z"
   },
   {
    "duration": -1583,
    "start_time": "2021-07-11T22:37:43.295Z"
   },
   {
    "duration": -1585,
    "start_time": "2021-07-11T22:37:43.299Z"
   },
   {
    "duration": -1587,
    "start_time": "2021-07-11T22:37:43.302Z"
   },
   {
    "duration": -1590,
    "start_time": "2021-07-11T22:37:43.307Z"
   },
   {
    "duration": -1597,
    "start_time": "2021-07-11T22:37:43.315Z"
   },
   {
    "duration": -1600,
    "start_time": "2021-07-11T22:37:43.320Z"
   },
   {
    "duration": -1603,
    "start_time": "2021-07-11T22:37:43.324Z"
   },
   {
    "duration": 1291,
    "start_time": "2021-07-11T22:39:27.966Z"
   },
   {
    "duration": 26,
    "start_time": "2021-07-11T22:39:29.260Z"
   },
   {
    "duration": 78,
    "start_time": "2021-07-11T22:39:29.289Z"
   },
   {
    "duration": 12,
    "start_time": "2021-07-11T22:39:29.370Z"
   },
   {
    "duration": 32,
    "start_time": "2021-07-11T22:39:29.384Z"
   },
   {
    "duration": 77,
    "start_time": "2021-07-11T22:39:29.418Z"
   },
   {
    "duration": 6,
    "start_time": "2021-07-11T22:39:29.498Z"
   },
   {
    "duration": 57,
    "start_time": "2021-07-11T22:39:29.508Z"
   },
   {
    "duration": 9,
    "start_time": "2021-07-11T22:39:29.569Z"
   },
   {
    "duration": 80,
    "start_time": "2021-07-11T22:39:29.581Z"
   },
   {
    "duration": 14,
    "start_time": "2021-07-11T22:39:29.664Z"
   },
   {
    "duration": 11,
    "start_time": "2021-07-11T22:39:29.681Z"
   },
   {
    "duration": 21,
    "start_time": "2021-07-11T22:39:29.695Z"
   },
   {
    "duration": 23,
    "start_time": "2021-07-11T22:39:29.755Z"
   },
   {
    "duration": 21,
    "start_time": "2021-07-11T22:39:29.781Z"
   },
   {
    "duration": 50,
    "start_time": "2021-07-11T22:39:29.804Z"
   },
   {
    "duration": 21,
    "start_time": "2021-07-11T22:39:29.857Z"
   },
   {
    "duration": 38,
    "start_time": "2021-07-11T22:39:29.881Z"
   },
   {
    "duration": 5,
    "start_time": "2021-07-11T22:39:29.921Z"
   },
   {
    "duration": 54,
    "start_time": "2021-07-11T22:39:29.928Z"
   },
   {
    "duration": 27,
    "start_time": "2021-07-11T22:39:29.984Z"
   },
   {
    "duration": 81,
    "start_time": "2021-07-11T22:39:30.014Z"
   },
   {
    "duration": 403,
    "start_time": "2021-07-11T22:39:30.100Z"
   },
   {
    "duration": 386,
    "start_time": "2021-07-11T22:39:30.506Z"
   },
   {
    "duration": 398,
    "start_time": "2021-07-11T22:39:30.895Z"
   },
   {
    "duration": 12,
    "start_time": "2021-07-11T22:39:31.295Z"
   },
   {
    "duration": 485,
    "start_time": "2021-07-11T22:39:31.310Z"
   },
   {
    "duration": 386,
    "start_time": "2021-07-11T22:39:31.797Z"
   },
   {
    "duration": 9,
    "start_time": "2021-07-11T22:39:32.185Z"
   },
   {
    "duration": 418,
    "start_time": "2021-07-11T22:39:32.197Z"
   },
   {
    "duration": 419,
    "start_time": "2021-07-11T22:39:32.618Z"
   },
   {
    "duration": 16,
    "start_time": "2021-07-11T22:39:33.039Z"
   },
   {
    "duration": 19,
    "start_time": "2021-07-11T22:39:33.057Z"
   },
   {
    "duration": 23,
    "start_time": "2021-07-11T22:39:33.078Z"
   },
   {
    "duration": 1184,
    "start_time": "2021-07-11T22:40:00.153Z"
   },
   {
    "duration": 37,
    "start_time": "2021-07-11T22:40:01.340Z"
   },
   {
    "duration": 80,
    "start_time": "2021-07-11T22:40:01.382Z"
   },
   {
    "duration": 14,
    "start_time": "2021-07-11T22:40:01.466Z"
   },
   {
    "duration": 46,
    "start_time": "2021-07-11T22:40:01.483Z"
   },
   {
    "duration": 63,
    "start_time": "2021-07-11T22:40:01.532Z"
   },
   {
    "duration": 6,
    "start_time": "2021-07-11T22:40:01.598Z"
   },
   {
    "duration": 54,
    "start_time": "2021-07-11T22:40:01.608Z"
   },
   {
    "duration": 13,
    "start_time": "2021-07-11T22:40:01.665Z"
   },
   {
    "duration": 61,
    "start_time": "2021-07-11T22:40:01.680Z"
   },
   {
    "duration": 16,
    "start_time": "2021-07-11T22:40:01.743Z"
   },
   {
    "duration": 26,
    "start_time": "2021-07-11T22:40:01.761Z"
   },
   {
    "duration": 24,
    "start_time": "2021-07-11T22:40:01.789Z"
   },
   {
    "duration": 39,
    "start_time": "2021-07-11T22:40:01.816Z"
   },
   {
    "duration": 23,
    "start_time": "2021-07-11T22:40:01.858Z"
   },
   {
    "duration": 32,
    "start_time": "2021-07-11T22:40:01.885Z"
   },
   {
    "duration": 42,
    "start_time": "2021-07-11T22:40:01.919Z"
   },
   {
    "duration": 50,
    "start_time": "2021-07-11T22:40:01.964Z"
   },
   {
    "duration": 6,
    "start_time": "2021-07-11T22:40:02.016Z"
   },
   {
    "duration": 59,
    "start_time": "2021-07-11T22:40:02.025Z"
   },
   {
    "duration": 57,
    "start_time": "2021-07-11T22:40:02.087Z"
   },
   {
    "duration": 82,
    "start_time": "2021-07-11T22:40:02.147Z"
   },
   {
    "duration": 395,
    "start_time": "2021-07-11T22:40:02.237Z"
   },
   {
    "duration": 387,
    "start_time": "2021-07-11T22:40:02.636Z"
   },
   {
    "duration": 397,
    "start_time": "2021-07-11T22:40:03.026Z"
   },
   {
    "duration": 28,
    "start_time": "2021-07-11T22:40:03.426Z"
   },
   {
    "duration": 467,
    "start_time": "2021-07-11T22:40:03.457Z"
   },
   {
    "duration": 406,
    "start_time": "2021-07-11T22:40:03.927Z"
   },
   {
    "duration": 19,
    "start_time": "2021-07-11T22:40:04.335Z"
   },
   {
    "duration": 411,
    "start_time": "2021-07-11T22:40:04.356Z"
   },
   {
    "duration": 411,
    "start_time": "2021-07-11T22:40:04.770Z"
   },
   {
    "duration": 8,
    "start_time": "2021-07-11T22:40:05.184Z"
   },
   {
    "duration": 24,
    "start_time": "2021-07-11T22:40:05.195Z"
   },
   {
    "duration": 54,
    "start_time": "2021-07-11T22:40:05.222Z"
   },
   {
    "duration": 759,
    "start_time": "2021-07-11T22:40:35.120Z"
   },
   {
    "duration": 406,
    "start_time": "2021-07-11T22:40:59.967Z"
   },
   {
    "duration": 309,
    "start_time": "2021-07-11T22:41:11.030Z"
   },
   {
    "duration": 325,
    "start_time": "2021-07-11T22:44:18.809Z"
   },
   {
    "duration": 297,
    "start_time": "2021-07-11T22:44:35.679Z"
   },
   {
    "duration": 387,
    "start_time": "2021-07-11T22:47:50.519Z"
   },
   {
    "duration": 258,
    "start_time": "2021-07-12T08:29:42.836Z"
   },
   {
    "duration": 305,
    "start_time": "2021-07-12T08:34:02.226Z"
   },
   {
    "duration": 335,
    "start_time": "2021-07-12T08:34:11.482Z"
   },
   {
    "duration": 273,
    "start_time": "2021-07-12T08:34:22.048Z"
   },
   {
    "duration": 289,
    "start_time": "2021-07-12T08:34:44.865Z"
   },
   {
    "duration": 291,
    "start_time": "2021-07-12T08:34:57.089Z"
   },
   {
    "duration": 316,
    "start_time": "2021-07-12T08:42:02.483Z"
   },
   {
    "duration": 1121,
    "start_time": "2021-07-12T08:42:25.808Z"
   },
   {
    "duration": 30,
    "start_time": "2021-07-12T08:42:26.932Z"
   },
   {
    "duration": 50,
    "start_time": "2021-07-12T08:42:26.965Z"
   },
   {
    "duration": 11,
    "start_time": "2021-07-12T08:42:27.018Z"
   },
   {
    "duration": 27,
    "start_time": "2021-07-12T08:42:27.055Z"
   },
   {
    "duration": 43,
    "start_time": "2021-07-12T08:42:27.085Z"
   },
   {
    "duration": 5,
    "start_time": "2021-07-12T08:42:27.156Z"
   },
   {
    "duration": 22,
    "start_time": "2021-07-12T08:42:27.165Z"
   },
   {
    "duration": 10,
    "start_time": "2021-07-12T08:42:27.190Z"
   },
   {
    "duration": 78,
    "start_time": "2021-07-12T08:42:27.202Z"
   },
   {
    "duration": 14,
    "start_time": "2021-07-12T08:42:27.283Z"
   },
   {
    "duration": 17,
    "start_time": "2021-07-12T08:42:27.299Z"
   },
   {
    "duration": 11,
    "start_time": "2021-07-12T08:42:27.319Z"
   },
   {
    "duration": 21,
    "start_time": "2021-07-12T08:42:27.354Z"
   },
   {
    "duration": 21,
    "start_time": "2021-07-12T08:42:27.378Z"
   },
   {
    "duration": 17,
    "start_time": "2021-07-12T08:42:27.402Z"
   },
   {
    "duration": 42,
    "start_time": "2021-07-12T08:42:27.421Z"
   },
   {
    "duration": 29,
    "start_time": "2021-07-12T08:42:27.466Z"
   },
   {
    "duration": 4,
    "start_time": "2021-07-12T08:42:27.498Z"
   },
   {
    "duration": 55,
    "start_time": "2021-07-12T08:42:27.504Z"
   },
   {
    "duration": 24,
    "start_time": "2021-07-12T08:42:27.561Z"
   },
   {
    "duration": 80,
    "start_time": "2021-07-12T08:42:27.587Z"
   },
   {
    "duration": 421,
    "start_time": "2021-07-12T08:42:27.674Z"
   },
   {
    "duration": 384,
    "start_time": "2021-07-12T08:42:28.098Z"
   },
   {
    "duration": 399,
    "start_time": "2021-07-12T08:42:28.485Z"
   },
   {
    "duration": 12,
    "start_time": "2021-07-12T08:42:28.887Z"
   },
   {
    "duration": 498,
    "start_time": "2021-07-12T08:42:28.901Z"
   },
   {
    "duration": 409,
    "start_time": "2021-07-12T08:42:29.402Z"
   },
   {
    "duration": 10,
    "start_time": "2021-07-12T08:42:29.814Z"
   },
   {
    "duration": 443,
    "start_time": "2021-07-12T08:42:29.827Z"
   },
   {
    "duration": 417,
    "start_time": "2021-07-12T08:42:30.272Z"
   },
   {
    "duration": 9,
    "start_time": "2021-07-12T08:42:30.691Z"
   },
   {
    "duration": 32,
    "start_time": "2021-07-12T08:42:30.703Z"
   },
   {
    "duration": 350,
    "start_time": "2021-07-12T08:42:30.738Z"
   },
   {
    "duration": 328,
    "start_time": "2021-07-12T08:42:31.090Z"
   },
   {
    "duration": 388,
    "start_time": "2021-07-12T08:42:31.421Z"
   },
   {
    "duration": 61,
    "start_time": "2021-07-12T09:42:59.719Z"
   },
   {
    "duration": 54,
    "start_time": "2021-07-12T14:33:25.960Z"
   },
   {
    "duration": 390,
    "start_time": "2021-07-12T14:33:46.819Z"
   },
   {
    "duration": 27,
    "start_time": "2021-07-12T14:33:55.307Z"
   },
   {
    "duration": 16,
    "start_time": "2021-07-12T14:34:10.968Z"
   },
   {
    "duration": 82,
    "start_time": "2021-07-12T14:38:15.880Z"
   },
   {
    "duration": 81,
    "start_time": "2021-07-12T14:40:12.951Z"
   },
   {
    "duration": 15,
    "start_time": "2021-07-12T14:40:53.731Z"
   },
   {
    "duration": 21,
    "start_time": "2021-07-12T14:45:21.959Z"
   },
   {
    "duration": 26,
    "start_time": "2021-07-12T14:49:39.747Z"
   },
   {
    "duration": 8,
    "start_time": "2021-07-12T14:56:08.607Z"
   },
   {
    "duration": 7,
    "start_time": "2021-07-12T14:56:28.737Z"
   },
   {
    "duration": 300,
    "start_time": "2021-07-12T14:56:38.295Z"
   },
   {
    "duration": 248,
    "start_time": "2021-07-12T14:56:43.998Z"
   },
   {
    "duration": 278,
    "start_time": "2021-07-12T14:56:53.498Z"
   },
   {
    "duration": 8,
    "start_time": "2021-07-12T14:57:14.287Z"
   },
   {
    "duration": 10,
    "start_time": "2021-07-12T14:57:21.657Z"
   },
   {
    "duration": 8,
    "start_time": "2021-07-12T14:59:38.619Z"
   },
   {
    "duration": 274,
    "start_time": "2021-07-12T15:02:38.609Z"
   },
   {
    "duration": 280,
    "start_time": "2021-07-12T15:02:47.417Z"
   },
   {
    "duration": 289,
    "start_time": "2021-07-12T15:02:54.478Z"
   },
   {
    "duration": 284,
    "start_time": "2021-07-12T15:03:00.468Z"
   },
   {
    "duration": 8,
    "start_time": "2021-07-12T15:05:21.098Z"
   },
   {
    "duration": 28,
    "start_time": "2021-07-12T15:06:49.001Z"
   },
   {
    "duration": 6228,
    "start_time": "2021-07-12T15:14:15.059Z"
   },
   {
    "duration": 6485,
    "start_time": "2021-07-12T15:14:25.559Z"
   },
   {
    "duration": 12,
    "start_time": "2021-07-12T15:15:15.289Z"
   },
   {
    "duration": 37,
    "start_time": "2021-07-12T20:16:38.830Z"
   },
   {
    "duration": 319,
    "start_time": "2021-07-12T20:51:54.913Z"
   },
   {
    "duration": 15,
    "start_time": "2021-07-12T20:56:13.178Z"
   },
   {
    "duration": 286,
    "start_time": "2021-07-12T21:14:33.957Z"
   },
   {
    "duration": 20,
    "start_time": "2021-07-12T21:15:06.999Z"
   },
   {
    "duration": 21,
    "start_time": "2021-07-12T21:15:16.056Z"
   },
   {
    "duration": 16,
    "start_time": "2021-07-12T21:16:14.746Z"
   },
   {
    "duration": 101,
    "start_time": "2021-07-13T17:50:51.107Z"
   },
   {
    "duration": 21,
    "start_time": "2021-07-13T17:58:50.702Z"
   },
   {
    "duration": 15,
    "start_time": "2021-07-13T17:59:17.491Z"
   },
   {
    "duration": 23,
    "start_time": "2021-07-13T17:59:22.531Z"
   },
   {
    "duration": 393,
    "start_time": "2021-07-13T18:00:06.410Z"
   },
   {
    "duration": 343,
    "start_time": "2021-07-13T18:11:33.815Z"
   },
   {
    "duration": 340,
    "start_time": "2021-07-13T18:14:38.088Z"
   },
   {
    "duration": 27,
    "start_time": "2021-07-13T18:15:09.340Z"
   },
   {
    "duration": 347,
    "start_time": "2021-07-13T18:15:50.731Z"
   },
   {
    "duration": 650,
    "start_time": "2021-07-13T18:18:03.847Z"
   },
   {
    "duration": 616,
    "start_time": "2021-07-13T18:18:17.144Z"
   },
   {
    "duration": 500,
    "start_time": "2021-07-13T18:33:13.799Z"
   },
   {
    "duration": 374,
    "start_time": "2021-07-13T18:33:40.804Z"
   },
   {
    "duration": 397,
    "start_time": "2021-07-13T18:33:55.532Z"
   },
   {
    "duration": 349,
    "start_time": "2021-07-13T18:34:12.082Z"
   },
   {
    "duration": 367,
    "start_time": "2021-07-13T18:34:16.746Z"
   },
   {
    "duration": 355,
    "start_time": "2021-07-13T18:34:21.449Z"
   },
   {
    "duration": 464,
    "start_time": "2021-07-13T18:34:28.243Z"
   },
   {
    "duration": 388,
    "start_time": "2021-07-13T18:34:33.171Z"
   },
   {
    "duration": 359,
    "start_time": "2021-07-13T18:34:40.167Z"
   },
   {
    "duration": 373,
    "start_time": "2021-07-13T18:34:45.771Z"
   },
   {
    "duration": 382,
    "start_time": "2021-07-13T18:34:49.983Z"
   },
   {
    "duration": 303,
    "start_time": "2021-07-13T18:34:56.831Z"
   },
   {
    "duration": 297,
    "start_time": "2021-07-13T18:35:03.361Z"
   },
   {
    "duration": 365,
    "start_time": "2021-07-13T18:35:08.418Z"
   },
   {
    "duration": 299,
    "start_time": "2021-07-13T18:35:14.373Z"
   },
   {
    "duration": 298,
    "start_time": "2021-07-13T18:35:25.962Z"
   },
   {
    "duration": 357,
    "start_time": "2021-07-13T18:35:31.524Z"
   },
   {
    "duration": 13,
    "start_time": "2021-07-13T19:18:57.888Z"
   },
   {
    "duration": 196,
    "start_time": "2021-07-13T19:21:04.190Z"
   },
   {
    "duration": 11,
    "start_time": "2021-07-13T19:23:20.214Z"
   },
   {
    "duration": 22395,
    "start_time": "2021-07-13T20:26:12.015Z"
   },
   {
    "duration": 6475,
    "start_time": "2021-07-13T20:29:56.029Z"
   },
   {
    "duration": 6714,
    "start_time": "2021-07-13T20:31:05.732Z"
   },
   {
    "duration": 6380,
    "start_time": "2021-07-13T20:31:28.691Z"
   },
   {
    "duration": 6,
    "start_time": "2021-07-13T21:06:42.545Z"
   },
   {
    "duration": 6690,
    "start_time": "2021-07-13T21:07:10.202Z"
   },
   {
    "duration": 16,
    "start_time": "2021-07-13T21:09:35.188Z"
   },
   {
    "duration": 5031,
    "start_time": "2021-07-13T21:10:52.476Z"
   },
   {
    "duration": 2841,
    "start_time": "2021-07-13T21:12:39.326Z"
   },
   {
    "duration": 267,
    "start_time": "2021-07-13T21:21:07.138Z"
   },
   {
    "duration": 1779,
    "start_time": "2021-07-13T21:21:21.310Z"
   },
   {
    "duration": 31,
    "start_time": "2021-07-13T21:21:23.092Z"
   },
   {
    "duration": 59,
    "start_time": "2021-07-13T21:21:23.154Z"
   },
   {
    "duration": 85,
    "start_time": "2021-07-13T21:21:23.215Z"
   },
   {
    "duration": 12,
    "start_time": "2021-07-13T21:21:23.302Z"
   },
   {
    "duration": 54,
    "start_time": "2021-07-13T21:21:23.317Z"
   },
   {
    "duration": 41,
    "start_time": "2021-07-13T21:21:23.374Z"
   },
   {
    "duration": 5,
    "start_time": "2021-07-13T21:21:23.418Z"
   },
   {
    "duration": 48,
    "start_time": "2021-07-13T21:21:23.425Z"
   },
   {
    "duration": 15,
    "start_time": "2021-07-13T21:21:23.475Z"
   },
   {
    "duration": 74,
    "start_time": "2021-07-13T21:21:23.492Z"
   },
   {
    "duration": 15,
    "start_time": "2021-07-13T21:21:23.569Z"
   },
   {
    "duration": 9,
    "start_time": "2021-07-13T21:21:23.586Z"
   },
   {
    "duration": 20,
    "start_time": "2021-07-13T21:21:23.598Z"
   },
   {
    "duration": 50,
    "start_time": "2021-07-13T21:21:23.620Z"
   },
   {
    "duration": 21,
    "start_time": "2021-07-13T21:21:23.673Z"
   },
   {
    "duration": 19,
    "start_time": "2021-07-13T21:21:23.697Z"
   },
   {
    "duration": 45,
    "start_time": "2021-07-13T21:21:23.718Z"
   },
   {
    "duration": 39,
    "start_time": "2021-07-13T21:21:23.766Z"
   },
   {
    "duration": 3,
    "start_time": "2021-07-13T21:21:23.808Z"
   },
   {
    "duration": 66,
    "start_time": "2021-07-13T21:21:23.814Z"
   },
   {
    "duration": 24,
    "start_time": "2021-07-13T21:21:23.886Z"
   },
   {
    "duration": 87,
    "start_time": "2021-07-13T21:21:23.913Z"
   },
   {
    "duration": 477,
    "start_time": "2021-07-13T21:21:24.003Z"
   },
   {
    "duration": 393,
    "start_time": "2021-07-13T21:21:24.482Z"
   },
   {
    "duration": 521,
    "start_time": "2021-07-13T21:21:24.878Z"
   },
   {
    "duration": 11,
    "start_time": "2021-07-13T21:21:25.401Z"
   },
   {
    "duration": 511,
    "start_time": "2021-07-13T21:21:25.415Z"
   },
   {
    "duration": 429,
    "start_time": "2021-07-13T21:21:25.929Z"
   },
   {
    "duration": 11,
    "start_time": "2021-07-13T21:21:26.361Z"
   },
   {
    "duration": 448,
    "start_time": "2021-07-13T21:21:26.375Z"
   },
   {
    "duration": 510,
    "start_time": "2021-07-13T21:21:26.825Z"
   },
   {
    "duration": 8,
    "start_time": "2021-07-13T21:21:27.337Z"
   },
   {
    "duration": 23,
    "start_time": "2021-07-13T21:21:27.355Z"
   },
   {
    "duration": 381,
    "start_time": "2021-07-13T21:21:27.381Z"
   },
   {
    "duration": 347,
    "start_time": "2021-07-13T21:21:27.765Z"
   },
   {
    "duration": 415,
    "start_time": "2021-07-13T21:21:28.115Z"
   },
   {
    "duration": 236,
    "start_time": "2021-07-13T21:21:28.533Z"
   },
   {
    "duration": 13,
    "start_time": "2021-07-13T21:21:28.772Z"
   },
   {
    "duration": 10,
    "start_time": "2021-07-13T21:21:28.788Z"
   },
   {
    "duration": 74,
    "start_time": "2021-07-13T21:21:28.801Z"
   },
   {
    "duration": 15,
    "start_time": "2021-07-13T21:21:28.878Z"
   },
   {
    "duration": 352,
    "start_time": "2021-07-13T21:21:28.896Z"
   },
   {
    "duration": 22,
    "start_time": "2021-07-13T21:21:29.255Z"
   },
   {
    "duration": 3094,
    "start_time": "2021-07-13T21:21:29.279Z"
   },
   {
    "duration": 448,
    "start_time": "2021-07-13T21:21:32.376Z"
   },
   {
    "duration": 404,
    "start_time": "2021-07-13T21:21:32.827Z"
   },
   {
    "duration": 3165,
    "start_time": "2021-07-13T21:24:17.721Z"
   },
   {
    "duration": 251,
    "start_time": "2021-07-13T21:32:15.993Z"
   },
   {
    "duration": 248,
    "start_time": "2021-07-13T21:32:20.939Z"
   },
   {
    "duration": 256,
    "start_time": "2021-07-13T21:36:33.635Z"
   },
   {
    "duration": 404,
    "start_time": "2021-07-13T22:27:14.895Z"
   },
   {
    "duration": 280,
    "start_time": "2021-07-13T22:27:35.583Z"
   },
   {
    "duration": 6607,
    "start_time": "2021-07-13T22:29:23.278Z"
   },
   {
    "duration": 6606,
    "start_time": "2021-07-13T22:29:59.207Z"
   },
   {
    "duration": 6748,
    "start_time": "2021-07-13T22:30:37.369Z"
   },
   {
    "duration": 6465,
    "start_time": "2021-07-13T22:31:22.957Z"
   },
   {
    "duration": 1438,
    "start_time": "2021-07-13T22:32:07.265Z"
   },
   {
    "duration": 6594,
    "start_time": "2021-07-13T22:32:33.685Z"
   },
   {
    "duration": 4,
    "start_time": "2021-07-13T22:33:22.238Z"
   },
   {
    "duration": 279,
    "start_time": "2021-07-13T22:39:42.084Z"
   },
   {
    "duration": 396,
    "start_time": "2021-07-13T22:41:37.976Z"
   },
   {
    "duration": 250,
    "start_time": "2021-07-13T22:42:41.495Z"
   },
   {
    "duration": 240,
    "start_time": "2021-07-13T22:43:26.733Z"
   },
   {
    "duration": 242,
    "start_time": "2021-07-13T22:44:44.286Z"
   },
   {
    "duration": 1809,
    "start_time": "2021-07-14T07:23:15.091Z"
   },
   {
    "duration": 33,
    "start_time": "2021-07-14T07:23:16.903Z"
   },
   {
    "duration": 60,
    "start_time": "2021-07-14T07:23:16.939Z"
   },
   {
    "duration": 71,
    "start_time": "2021-07-14T07:23:17.002Z"
   },
   {
    "duration": 10,
    "start_time": "2021-07-14T07:23:17.075Z"
   },
   {
    "duration": 41,
    "start_time": "2021-07-14T07:23:17.087Z"
   },
   {
    "duration": 47,
    "start_time": "2021-07-14T07:23:17.131Z"
   },
   {
    "duration": 5,
    "start_time": "2021-07-14T07:23:17.180Z"
   },
   {
    "duration": 22,
    "start_time": "2021-07-14T07:23:17.188Z"
   },
   {
    "duration": 15,
    "start_time": "2021-07-14T07:23:17.213Z"
   },
   {
    "duration": 64,
    "start_time": "2021-07-14T07:23:17.230Z"
   },
   {
    "duration": 10,
    "start_time": "2021-07-14T07:23:17.297Z"
   },
   {
    "duration": 34,
    "start_time": "2021-07-14T07:23:17.310Z"
   },
   {
    "duration": 21,
    "start_time": "2021-07-14T07:23:17.346Z"
   },
   {
    "duration": 29,
    "start_time": "2021-07-14T07:23:17.370Z"
   },
   {
    "duration": 21,
    "start_time": "2021-07-14T07:23:17.401Z"
   },
   {
    "duration": 32,
    "start_time": "2021-07-14T07:23:17.425Z"
   },
   {
    "duration": 43,
    "start_time": "2021-07-14T07:23:17.459Z"
   },
   {
    "duration": 50,
    "start_time": "2021-07-14T07:23:17.505Z"
   },
   {
    "duration": 4,
    "start_time": "2021-07-14T07:23:17.557Z"
   },
   {
    "duration": 46,
    "start_time": "2021-07-14T07:23:17.563Z"
   },
   {
    "duration": 24,
    "start_time": "2021-07-14T07:23:17.612Z"
   },
   {
    "duration": 74,
    "start_time": "2021-07-14T07:23:17.638Z"
   },
   {
    "duration": 1031,
    "start_time": "2021-07-14T07:23:17.715Z"
   },
   {
    "duration": 272,
    "start_time": "2021-07-14T07:23:18.749Z"
   },
   {
    "duration": 361,
    "start_time": "2021-07-14T07:23:19.024Z"
   },
   {
    "duration": 15,
    "start_time": "2021-07-14T07:23:19.391Z"
   },
   {
    "duration": 398,
    "start_time": "2021-07-14T07:23:19.410Z"
   },
   {
    "duration": 293,
    "start_time": "2021-07-14T07:23:19.810Z"
   },
   {
    "duration": 11,
    "start_time": "2021-07-14T07:23:20.106Z"
   },
   {
    "duration": 301,
    "start_time": "2021-07-14T07:23:20.119Z"
   },
   {
    "duration": 296,
    "start_time": "2021-07-14T07:23:20.422Z"
   },
   {
    "duration": 8,
    "start_time": "2021-07-14T07:23:20.721Z"
   },
   {
    "duration": 36,
    "start_time": "2021-07-14T07:23:20.731Z"
   },
   {
    "duration": 234,
    "start_time": "2021-07-14T07:23:20.770Z"
   },
   {
    "duration": 230,
    "start_time": "2021-07-14T07:23:21.007Z"
   },
   {
    "duration": 287,
    "start_time": "2021-07-14T07:23:21.240Z"
   },
   {
    "duration": 174,
    "start_time": "2021-07-14T07:23:21.530Z"
   },
   {
    "duration": 11,
    "start_time": "2021-07-14T07:23:21.707Z"
   },
   {
    "duration": 8,
    "start_time": "2021-07-14T07:23:21.721Z"
   },
   {
    "duration": 27,
    "start_time": "2021-07-14T07:23:21.755Z"
   },
   {
    "duration": 9,
    "start_time": "2021-07-14T07:23:21.785Z"
   },
   {
    "duration": 309,
    "start_time": "2021-07-14T07:23:21.797Z"
   },
   {
    "duration": 16,
    "start_time": "2021-07-14T07:23:22.109Z"
   },
   {
    "duration": 1405,
    "start_time": "2021-07-14T07:23:22.127Z"
   },
   {
    "duration": 205,
    "start_time": "2021-07-14T07:23:23.535Z"
   },
   {
    "duration": 233,
    "start_time": "2021-07-14T07:23:23.742Z"
   },
   {
    "duration": 206,
    "start_time": "2021-07-14T07:23:23.977Z"
   },
   {
    "duration": 1298,
    "start_time": "2021-07-14T07:23:24.187Z"
   },
   {
    "duration": 208,
    "start_time": "2021-07-14T07:23:25.488Z"
   },
   {
    "duration": 3,
    "start_time": "2021-07-14T07:23:25.699Z"
   },
   {
    "duration": 329,
    "start_time": "2021-07-14T07:23:25.704Z"
   },
   {
    "duration": 203,
    "start_time": "2021-07-14T07:23:26.036Z"
   },
   {
    "duration": 32,
    "start_time": "2021-07-14T07:26:41.976Z"
   },
   {
    "duration": 284,
    "start_time": "2021-07-14T07:28:22.440Z"
   },
   {
    "duration": 9,
    "start_time": "2021-07-14T07:28:38.001Z"
   },
   {
    "duration": 273,
    "start_time": "2021-07-14T07:28:45.642Z"
   },
   {
    "duration": 30,
    "start_time": "2021-07-14T14:25:29.118Z"
   },
   {
    "duration": 13,
    "start_time": "2021-07-14T14:25:39.911Z"
   },
   {
    "duration": 9,
    "start_time": "2021-07-14T14:25:52.603Z"
   },
   {
    "duration": 27,
    "start_time": "2021-07-14T14:25:57.659Z"
   },
   {
    "duration": 14,
    "start_time": "2021-07-14T15:01:16.221Z"
   },
   {
    "duration": 9,
    "start_time": "2021-07-14T15:01:41.980Z"
   },
   {
    "duration": 8,
    "start_time": "2021-07-14T15:01:58.106Z"
   },
   {
    "duration": 99,
    "start_time": "2021-07-14T15:03:04.042Z"
   },
   {
    "duration": 1768,
    "start_time": "2021-07-14T15:05:14.643Z"
   },
   {
    "duration": 26,
    "start_time": "2021-07-14T15:05:16.413Z"
   },
   {
    "duration": 61,
    "start_time": "2021-07-14T15:05:16.442Z"
   },
   {
    "duration": 66,
    "start_time": "2021-07-14T15:05:16.506Z"
   },
   {
    "duration": 12,
    "start_time": "2021-07-14T15:05:16.574Z"
   },
   {
    "duration": 36,
    "start_time": "2021-07-14T15:05:16.588Z"
   },
   {
    "duration": 60,
    "start_time": "2021-07-14T15:05:16.626Z"
   },
   {
    "duration": 5,
    "start_time": "2021-07-14T15:05:16.689Z"
   },
   {
    "duration": 31,
    "start_time": "2021-07-14T15:05:16.696Z"
   },
   {
    "duration": 27,
    "start_time": "2021-07-14T15:05:16.729Z"
   },
   {
    "duration": 38,
    "start_time": "2021-07-14T15:05:16.758Z"
   },
   {
    "duration": 39,
    "start_time": "2021-07-14T15:05:16.799Z"
   },
   {
    "duration": 15,
    "start_time": "2021-07-14T15:05:16.854Z"
   },
   {
    "duration": 18,
    "start_time": "2021-07-14T15:05:16.871Z"
   },
   {
    "duration": 21,
    "start_time": "2021-07-14T15:05:16.891Z"
   },
   {
    "duration": 31,
    "start_time": "2021-07-14T15:05:16.915Z"
   },
   {
    "duration": 26,
    "start_time": "2021-07-14T15:05:16.949Z"
   },
   {
    "duration": 23,
    "start_time": "2021-07-14T15:05:16.977Z"
   },
   {
    "duration": 28,
    "start_time": "2021-07-14T15:05:17.003Z"
   },
   {
    "duration": 42,
    "start_time": "2021-07-14T15:05:17.033Z"
   },
   {
    "duration": 4,
    "start_time": "2021-07-14T15:05:17.078Z"
   },
   {
    "duration": 45,
    "start_time": "2021-07-14T15:05:17.084Z"
   },
   {
    "duration": 35,
    "start_time": "2021-07-14T15:05:17.135Z"
   },
   {
    "duration": 55,
    "start_time": "2021-07-14T15:05:17.173Z"
   },
   {
    "duration": 407,
    "start_time": "2021-07-14T15:05:17.230Z"
   },
   {
    "duration": 393,
    "start_time": "2021-07-14T15:05:17.639Z"
   },
   {
    "duration": 359,
    "start_time": "2021-07-14T15:05:18.035Z"
   },
   {
    "duration": 381,
    "start_time": "2021-07-14T15:05:18.397Z"
   },
   {
    "duration": 12,
    "start_time": "2021-07-14T15:05:18.781Z"
   },
   {
    "duration": 420,
    "start_time": "2021-07-14T15:05:18.796Z"
   },
   {
    "duration": 390,
    "start_time": "2021-07-14T15:05:19.219Z"
   },
   {
    "duration": 10,
    "start_time": "2021-07-14T15:05:19.611Z"
   },
   {
    "duration": 499,
    "start_time": "2021-07-14T15:05:19.624Z"
   },
   {
    "duration": 393,
    "start_time": "2021-07-14T15:05:20.126Z"
   },
   {
    "duration": 8,
    "start_time": "2021-07-14T15:05:20.521Z"
   },
   {
    "duration": 39,
    "start_time": "2021-07-14T15:05:20.531Z"
   },
   {
    "duration": 315,
    "start_time": "2021-07-14T15:05:20.573Z"
   },
   {
    "duration": 329,
    "start_time": "2021-07-14T15:05:20.891Z"
   },
   {
    "duration": 384,
    "start_time": "2021-07-14T15:05:21.223Z"
   },
   {
    "duration": 216,
    "start_time": "2021-07-14T15:05:21.610Z"
   },
   {
    "duration": 11,
    "start_time": "2021-07-14T15:05:21.829Z"
   },
   {
    "duration": 7,
    "start_time": "2021-07-14T15:05:21.855Z"
   },
   {
    "duration": 40,
    "start_time": "2021-07-14T15:05:21.864Z"
   },
   {
    "duration": 10,
    "start_time": "2021-07-14T15:05:21.907Z"
   },
   {
    "duration": 325,
    "start_time": "2021-07-14T15:05:21.920Z"
   },
   {
    "duration": 20,
    "start_time": "2021-07-14T15:05:22.255Z"
   },
   {
    "duration": 2947,
    "start_time": "2021-07-14T15:05:22.278Z"
   },
   {
    "duration": 370,
    "start_time": "2021-07-14T15:05:25.228Z"
   },
   {
    "duration": 312,
    "start_time": "2021-07-14T15:05:25.601Z"
   },
   {
    "duration": 256,
    "start_time": "2021-07-14T15:05:25.916Z"
   },
   {
    "duration": 2763,
    "start_time": "2021-07-14T15:05:26.175Z"
   },
   {
    "duration": 258,
    "start_time": "2021-07-14T15:05:28.940Z"
   },
   {
    "duration": 3,
    "start_time": "2021-07-14T15:05:29.201Z"
   },
   {
    "duration": 304,
    "start_time": "2021-07-14T15:05:29.206Z"
   },
   {
    "duration": 257,
    "start_time": "2021-07-14T15:05:29.513Z"
   },
   {
    "duration": 374,
    "start_time": "2021-07-14T15:37:19.810Z"
   },
   {
    "duration": 481,
    "start_time": "2021-07-14T15:37:45.128Z"
   },
   {
    "duration": 395,
    "start_time": "2021-07-14T15:37:49.559Z"
   },
   {
    "duration": 4,
    "start_time": "2021-07-14T15:43:53.980Z"
   },
   {
    "duration": 4,
    "start_time": "2021-07-14T15:44:00.597Z"
   },
   {
    "duration": 401,
    "start_time": "2021-07-14T15:44:27.533Z"
   },
   {
    "duration": 388,
    "start_time": "2021-07-14T15:45:07.487Z"
   },
   {
    "duration": 366,
    "start_time": "2021-07-14T15:45:46.164Z"
   },
   {
    "duration": 362,
    "start_time": "2021-07-14T15:46:15.779Z"
   },
   {
    "duration": 363,
    "start_time": "2021-07-14T15:46:41.052Z"
   },
   {
    "duration": 391,
    "start_time": "2021-07-14T15:47:10.380Z"
   },
   {
    "duration": 382,
    "start_time": "2021-07-14T15:49:09.642Z"
   },
   {
    "duration": 373,
    "start_time": "2021-07-14T15:49:23.331Z"
   },
   {
    "duration": 410,
    "start_time": "2021-07-14T15:50:16.154Z"
   },
   {
    "duration": 3,
    "start_time": "2021-07-14T15:52:12.395Z"
   },
   {
    "duration": 1581,
    "start_time": "2021-07-14T15:58:56.680Z"
   },
   {
    "duration": 206,
    "start_time": "2021-07-14T15:59:51.223Z"
   },
   {
    "duration": 212,
    "start_time": "2021-07-14T16:00:21.895Z"
   }
  ],
  "kernelspec": {
   "display_name": "Python 3",
   "language": "python",
   "name": "python3"
  },
  "language_info": {
   "codemirror_mode": {
    "name": "ipython",
    "version": 3
   },
   "file_extension": ".py",
   "mimetype": "text/x-python",
   "name": "python",
   "nbconvert_exporter": "python",
   "pygments_lexer": "ipython3",
   "version": "3.8.5"
  },
  "toc": {
   "base_numbering": 1,
   "nav_menu": {},
   "number_sections": true,
   "sideBar": true,
   "skip_h1_title": true,
   "title_cell": "Table of Contents",
   "title_sidebar": "Contents",
   "toc_cell": false,
   "toc_position": {},
   "toc_section_display": true,
   "toc_window_display": false
  }
 },
 "nbformat": 4,
 "nbformat_minor": 2
}
