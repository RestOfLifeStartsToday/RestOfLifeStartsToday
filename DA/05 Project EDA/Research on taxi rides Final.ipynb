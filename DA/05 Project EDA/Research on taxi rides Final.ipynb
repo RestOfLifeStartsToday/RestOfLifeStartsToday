{
 "cells": [
  {
   "cell_type": "markdown",
   "metadata": {},
   "source": [
    "# Research on taxi rides"
   ]
  },
  {
   "cell_type": "markdown",
   "metadata": {},
   "source": [
    "As an analyst for __Zuber__, a new ride-sharing company that's launching in Chicago, I made this research to find patterns in the available information."
   ]
  },
  {
   "cell_type": "markdown",
   "metadata": {},
   "source": [
    "## Data preperation"
   ]
  },
  {
   "cell_type": "code",
   "execution_count": 1,
   "metadata": {},
   "outputs": [],
   "source": [
    "import pandas as pd\n",
    "import datetime\n",
    "import matplotlib.pyplot as plt\n",
    "import numpy as np\n",
    "from scipy import stats as st\n",
    "from IPython.display import Image\n",
    "from IPython.core.display import HTML \n",
    "\n",
    "import seaborn as sns\n",
    "\n",
    "from IPython.core.interactiveshell import InteractiveShell\n",
    "InteractiveShell.ast_node_interactivity = \"all\""
   ]
  },
  {
   "cell_type": "code",
   "execution_count": 2,
   "metadata": {},
   "outputs": [],
   "source": [
    "def load_data(file_name):\n",
    "    df=''\n",
    "    try:\n",
    "        df=pd.read_csv(file_name)\n",
    "    except:\n",
    "        df=pd.read_csv('/datasets/{}'.format(file_name))\n",
    "    return df\n",
    "\n",
    "df_sql1=load_data('project_sql_result_01.csv')\n",
    "df_sql4=load_data('project_sql_result_04.csv')\n",
    "df_sql7=load_data('project_sql_result_07.csv')"
   ]
  },
  {
   "cell_type": "code",
   "execution_count": 3,
   "metadata": {},
   "outputs": [
    {
     "data": {
      "text/html": [
       "<div>\n",
       "<style scoped>\n",
       "    .dataframe tbody tr th:only-of-type {\n",
       "        vertical-align: middle;\n",
       "    }\n",
       "\n",
       "    .dataframe tbody tr th {\n",
       "        vertical-align: top;\n",
       "    }\n",
       "\n",
       "    .dataframe thead th {\n",
       "        text-align: right;\n",
       "    }\n",
       "</style>\n",
       "<table border=\"1\" class=\"dataframe\">\n",
       "  <thead>\n",
       "    <tr style=\"text-align: right;\">\n",
       "      <th></th>\n",
       "      <th>company_name</th>\n",
       "      <th>trips_amount</th>\n",
       "    </tr>\n",
       "  </thead>\n",
       "  <tbody>\n",
       "    <tr>\n",
       "      <td>0</td>\n",
       "      <td>Flash Cab</td>\n",
       "      <td>19558</td>\n",
       "    </tr>\n",
       "    <tr>\n",
       "      <td>1</td>\n",
       "      <td>Taxi Affiliation Services</td>\n",
       "      <td>11422</td>\n",
       "    </tr>\n",
       "    <tr>\n",
       "      <td>2</td>\n",
       "      <td>Medallion Leasing</td>\n",
       "      <td>10367</td>\n",
       "    </tr>\n",
       "    <tr>\n",
       "      <td>3</td>\n",
       "      <td>Yellow Cab</td>\n",
       "      <td>9888</td>\n",
       "    </tr>\n",
       "    <tr>\n",
       "      <td>4</td>\n",
       "      <td>Taxi Affiliation Service Yellow</td>\n",
       "      <td>9299</td>\n",
       "    </tr>\n",
       "  </tbody>\n",
       "</table>\n",
       "</div>"
      ],
      "text/plain": [
       "                      company_name  trips_amount\n",
       "0                        Flash Cab         19558\n",
       "1        Taxi Affiliation Services         11422\n",
       "2                Medallion Leasing         10367\n",
       "3                       Yellow Cab          9888\n",
       "4  Taxi Affiliation Service Yellow          9299"
      ]
     },
     "execution_count": 3,
     "metadata": {},
     "output_type": "execute_result"
    }
   ],
   "source": [
    "df_sql1.head()"
   ]
  },
  {
   "cell_type": "code",
   "execution_count": 4,
   "metadata": {},
   "outputs": [
    {
     "data": {
      "text/html": [
       "<div>\n",
       "<style scoped>\n",
       "    .dataframe tbody tr th:only-of-type {\n",
       "        vertical-align: middle;\n",
       "    }\n",
       "\n",
       "    .dataframe tbody tr th {\n",
       "        vertical-align: top;\n",
       "    }\n",
       "\n",
       "    .dataframe thead th {\n",
       "        text-align: right;\n",
       "    }\n",
       "</style>\n",
       "<table border=\"1\" class=\"dataframe\">\n",
       "  <thead>\n",
       "    <tr style=\"text-align: right;\">\n",
       "      <th></th>\n",
       "      <th>dropoff_location_name</th>\n",
       "      <th>average_trips</th>\n",
       "    </tr>\n",
       "  </thead>\n",
       "  <tbody>\n",
       "    <tr>\n",
       "      <td>0</td>\n",
       "      <td>Loop</td>\n",
       "      <td>10727.466667</td>\n",
       "    </tr>\n",
       "    <tr>\n",
       "      <td>1</td>\n",
       "      <td>River North</td>\n",
       "      <td>9523.666667</td>\n",
       "    </tr>\n",
       "    <tr>\n",
       "      <td>2</td>\n",
       "      <td>Streeterville</td>\n",
       "      <td>6664.666667</td>\n",
       "    </tr>\n",
       "    <tr>\n",
       "      <td>3</td>\n",
       "      <td>West Loop</td>\n",
       "      <td>5163.666667</td>\n",
       "    </tr>\n",
       "    <tr>\n",
       "      <td>4</td>\n",
       "      <td>O'Hare</td>\n",
       "      <td>2546.900000</td>\n",
       "    </tr>\n",
       "  </tbody>\n",
       "</table>\n",
       "</div>"
      ],
      "text/plain": [
       "  dropoff_location_name  average_trips\n",
       "0                  Loop   10727.466667\n",
       "1           River North    9523.666667\n",
       "2         Streeterville    6664.666667\n",
       "3             West Loop    5163.666667\n",
       "4                O'Hare    2546.900000"
      ]
     },
     "execution_count": 4,
     "metadata": {},
     "output_type": "execute_result"
    }
   ],
   "source": [
    "df_sql4.head()"
   ]
  },
  {
   "cell_type": "code",
   "execution_count": 5,
   "metadata": {},
   "outputs": [
    {
     "data": {
      "text/html": [
       "<div>\n",
       "<style scoped>\n",
       "    .dataframe tbody tr th:only-of-type {\n",
       "        vertical-align: middle;\n",
       "    }\n",
       "\n",
       "    .dataframe tbody tr th {\n",
       "        vertical-align: top;\n",
       "    }\n",
       "\n",
       "    .dataframe thead th {\n",
       "        text-align: right;\n",
       "    }\n",
       "</style>\n",
       "<table border=\"1\" class=\"dataframe\">\n",
       "  <thead>\n",
       "    <tr style=\"text-align: right;\">\n",
       "      <th></th>\n",
       "      <th>start_ts</th>\n",
       "      <th>weather_conditions</th>\n",
       "      <th>duration_seconds</th>\n",
       "    </tr>\n",
       "  </thead>\n",
       "  <tbody>\n",
       "    <tr>\n",
       "      <td>0</td>\n",
       "      <td>2017-11-25 16:00:00</td>\n",
       "      <td>Good</td>\n",
       "      <td>2410.0</td>\n",
       "    </tr>\n",
       "    <tr>\n",
       "      <td>1</td>\n",
       "      <td>2017-11-25 14:00:00</td>\n",
       "      <td>Good</td>\n",
       "      <td>1920.0</td>\n",
       "    </tr>\n",
       "    <tr>\n",
       "      <td>2</td>\n",
       "      <td>2017-11-25 12:00:00</td>\n",
       "      <td>Good</td>\n",
       "      <td>1543.0</td>\n",
       "    </tr>\n",
       "    <tr>\n",
       "      <td>3</td>\n",
       "      <td>2017-11-04 10:00:00</td>\n",
       "      <td>Good</td>\n",
       "      <td>2512.0</td>\n",
       "    </tr>\n",
       "    <tr>\n",
       "      <td>4</td>\n",
       "      <td>2017-11-11 07:00:00</td>\n",
       "      <td>Good</td>\n",
       "      <td>1440.0</td>\n",
       "    </tr>\n",
       "  </tbody>\n",
       "</table>\n",
       "</div>"
      ],
      "text/plain": [
       "              start_ts weather_conditions  duration_seconds\n",
       "0  2017-11-25 16:00:00               Good            2410.0\n",
       "1  2017-11-25 14:00:00               Good            1920.0\n",
       "2  2017-11-25 12:00:00               Good            1543.0\n",
       "3  2017-11-04 10:00:00               Good            2512.0\n",
       "4  2017-11-11 07:00:00               Good            1440.0"
      ]
     },
     "execution_count": 5,
     "metadata": {},
     "output_type": "execute_result"
    }
   ],
   "source": [
    "df_sql7.head()"
   ]
  },
  {
   "cell_type": "markdown",
   "metadata": {},
   "source": [
    "I'll convert the data type of start_ts to date"
   ]
  },
  {
   "cell_type": "code",
   "execution_count": 6,
   "metadata": {},
   "outputs": [],
   "source": [
    "df_sql7['start_ts']=pd.to_datetime(df_sql7['start_ts'], format='%Y-%m-%d %H:%M:%S')"
   ]
  },
  {
   "cell_type": "markdown",
   "metadata": {},
   "source": [
    "### Data conversion"
   ]
  },
  {
   "cell_type": "markdown",
   "metadata": {},
   "source": [
    "Just prettifying the columns."
   ]
  },
  {
   "cell_type": "code",
   "execution_count": 7,
   "metadata": {},
   "outputs": [
    {
     "data": {
      "text/html": [
       "<div>\n",
       "<style scoped>\n",
       "    .dataframe tbody tr th:only-of-type {\n",
       "        vertical-align: middle;\n",
       "    }\n",
       "\n",
       "    .dataframe tbody tr th {\n",
       "        vertical-align: top;\n",
       "    }\n",
       "\n",
       "    .dataframe thead th {\n",
       "        text-align: right;\n",
       "    }\n",
       "</style>\n",
       "<table border=\"1\" class=\"dataframe\">\n",
       "  <thead>\n",
       "    <tr style=\"text-align: right;\">\n",
       "      <th></th>\n",
       "      <th>dropoff_location_name</th>\n",
       "      <th>average_trips</th>\n",
       "    </tr>\n",
       "  </thead>\n",
       "  <tbody>\n",
       "    <tr>\n",
       "      <td>0</td>\n",
       "      <td>Loop</td>\n",
       "      <td>10727</td>\n",
       "    </tr>\n",
       "    <tr>\n",
       "      <td>1</td>\n",
       "      <td>River North</td>\n",
       "      <td>9523</td>\n",
       "    </tr>\n",
       "  </tbody>\n",
       "</table>\n",
       "</div>"
      ],
      "text/plain": [
       "  dropoff_location_name  average_trips\n",
       "0                  Loop          10727\n",
       "1           River North           9523"
      ]
     },
     "execution_count": 7,
     "metadata": {},
     "output_type": "execute_result"
    }
   ],
   "source": [
    "df_sql4['average_trips']=df_sql4['average_trips'].astype('int')\n",
    "df_sql4.head(2)"
   ]
  },
  {
   "cell_type": "code",
   "execution_count": 8,
   "metadata": {},
   "outputs": [
    {
     "data": {
      "text/html": [
       "<div>\n",
       "<style scoped>\n",
       "    .dataframe tbody tr th:only-of-type {\n",
       "        vertical-align: middle;\n",
       "    }\n",
       "\n",
       "    .dataframe tbody tr th {\n",
       "        vertical-align: top;\n",
       "    }\n",
       "\n",
       "    .dataframe thead th {\n",
       "        text-align: right;\n",
       "    }\n",
       "</style>\n",
       "<table border=\"1\" class=\"dataframe\">\n",
       "  <thead>\n",
       "    <tr style=\"text-align: right;\">\n",
       "      <th></th>\n",
       "      <th>start_ts</th>\n",
       "      <th>weather_conditions</th>\n",
       "      <th>duration_seconds</th>\n",
       "    </tr>\n",
       "  </thead>\n",
       "  <tbody>\n",
       "    <tr>\n",
       "      <td>0</td>\n",
       "      <td>2017-11-25 16:00:00</td>\n",
       "      <td>Good</td>\n",
       "      <td>2410</td>\n",
       "    </tr>\n",
       "    <tr>\n",
       "      <td>1</td>\n",
       "      <td>2017-11-25 14:00:00</td>\n",
       "      <td>Good</td>\n",
       "      <td>1920</td>\n",
       "    </tr>\n",
       "  </tbody>\n",
       "</table>\n",
       "</div>"
      ],
      "text/plain": [
       "             start_ts weather_conditions  duration_seconds\n",
       "0 2017-11-25 16:00:00               Good              2410\n",
       "1 2017-11-25 14:00:00               Good              1920"
      ]
     },
     "execution_count": 8,
     "metadata": {},
     "output_type": "execute_result"
    }
   ],
   "source": [
    "df_sql7['duration_seconds']=df_sql7['duration_seconds'].astype('int')\n",
    "df_sql7.head(2)"
   ]
  },
  {
   "cell_type": "markdown",
   "metadata": {},
   "source": [
    "### Rename DataFrames"
   ]
  },
  {
   "cell_type": "markdown",
   "metadata": {},
   "source": [
    "For easier understanding of the content of each dataframe, I'm renaming them accordingly."
   ]
  },
  {
   "cell_type": "code",
   "execution_count": 9,
   "metadata": {},
   "outputs": [],
   "source": [
    "df_trips_comp=df_sql1\n",
    "df_drops=df_sql4\n",
    "df_duration_weather=df_sql7"
   ]
  },
  {
   "cell_type": "markdown",
   "metadata": {},
   "source": [
    "## Analysis"
   ]
  },
  {
   "cell_type": "markdown",
   "metadata": {},
   "source": [
    "### identify the top 10 neighborhoods in terms of drop-offs"
   ]
  },
  {
   "cell_type": "code",
   "execution_count": 10,
   "metadata": {},
   "outputs": [
    {
     "data": {
      "text/html": [
       "<div>\n",
       "<style scoped>\n",
       "    .dataframe tbody tr th:only-of-type {\n",
       "        vertical-align: middle;\n",
       "    }\n",
       "\n",
       "    .dataframe tbody tr th {\n",
       "        vertical-align: top;\n",
       "    }\n",
       "\n",
       "    .dataframe thead th {\n",
       "        text-align: right;\n",
       "    }\n",
       "</style>\n",
       "<table border=\"1\" class=\"dataframe\">\n",
       "  <thead>\n",
       "    <tr style=\"text-align: right;\">\n",
       "      <th></th>\n",
       "      <th>dropoff_location_name</th>\n",
       "      <th>average_trips</th>\n",
       "    </tr>\n",
       "  </thead>\n",
       "  <tbody>\n",
       "    <tr>\n",
       "      <td>0</td>\n",
       "      <td>Loop</td>\n",
       "      <td>10727</td>\n",
       "    </tr>\n",
       "    <tr>\n",
       "      <td>1</td>\n",
       "      <td>River North</td>\n",
       "      <td>9523</td>\n",
       "    </tr>\n",
       "    <tr>\n",
       "      <td>2</td>\n",
       "      <td>Streeterville</td>\n",
       "      <td>6664</td>\n",
       "    </tr>\n",
       "    <tr>\n",
       "      <td>3</td>\n",
       "      <td>West Loop</td>\n",
       "      <td>5163</td>\n",
       "    </tr>\n",
       "    <tr>\n",
       "      <td>4</td>\n",
       "      <td>O'Hare</td>\n",
       "      <td>2546</td>\n",
       "    </tr>\n",
       "    <tr>\n",
       "      <td>5</td>\n",
       "      <td>Lake View</td>\n",
       "      <td>2420</td>\n",
       "    </tr>\n",
       "    <tr>\n",
       "      <td>6</td>\n",
       "      <td>Grant Park</td>\n",
       "      <td>2068</td>\n",
       "    </tr>\n",
       "    <tr>\n",
       "      <td>7</td>\n",
       "      <td>Museum Campus</td>\n",
       "      <td>1510</td>\n",
       "    </tr>\n",
       "    <tr>\n",
       "      <td>8</td>\n",
       "      <td>Gold Coast</td>\n",
       "      <td>1364</td>\n",
       "    </tr>\n",
       "    <tr>\n",
       "      <td>9</td>\n",
       "      <td>Sheffield &amp; DePaul</td>\n",
       "      <td>1259</td>\n",
       "    </tr>\n",
       "  </tbody>\n",
       "</table>\n",
       "</div>"
      ],
      "text/plain": [
       "  dropoff_location_name  average_trips\n",
       "0                  Loop          10727\n",
       "1           River North           9523\n",
       "2         Streeterville           6664\n",
       "3             West Loop           5163\n",
       "4                O'Hare           2546\n",
       "5             Lake View           2420\n",
       "6            Grant Park           2068\n",
       "7         Museum Campus           1510\n",
       "8            Gold Coast           1364\n",
       "9    Sheffield & DePaul           1259"
      ]
     },
     "execution_count": 10,
     "metadata": {},
     "output_type": "execute_result"
    }
   ],
   "source": [
    "df_drops_top_10=df_drops.sort_values('average_trips', ascending=False).head(10)\n",
    "df_drops_top_10"
   ]
  },
  {
   "cell_type": "code",
   "execution_count": 11,
   "metadata": {
    "scrolled": true
   },
   "outputs": [
    {
     "data": {
      "image/png": "[encoded data removed]",
      "text/plain": [
       "<Figure size 1008x360 with 1 Axes>"
      ]
     },
     "metadata": {
      "needs_background": "light"
     },
     "output_type": "display_data"
    }
   ],
   "source": [
    "fig, ax = plt.subplots()\n",
    "fig.set_size_inches(14, 5)\n",
    "\n",
    "sns.barplot(x='dropoff_location_name', y=\"average_trips\", data=df_drops_top_10)\n",
    "\n",
    "ax.set_xlabel(\"Drop-off Neighborhood\", fontsize=14)\n",
    "ax.set_ylabel(\"Average Number of Trips\", fontsize=14)\n",
    "ax.axes.set_title(\"Top 10 neighborhoods in terms of drop-offs\", fontsize=16);\n",
    "\n",
    "plt.show();"
   ]
  },
  {
   "cell_type": "markdown",
   "metadata": {},
   "source": [
    "Looking at the results, and the graph, there is something surprising. The __O'Hare International Airport__ is not leading in the number of drop-offs. This means that more people are coming to this area through the airport, rather than take off using it."
   ]
  },
  {
   "cell_type": "markdown",
   "metadata": {},
   "source": [
    "### Taxi companies and number of rides"
   ]
  },
  {
   "cell_type": "code",
   "execution_count": 12,
   "metadata": {},
   "outputs": [
    {
     "data": {
      "text/html": [
       "<div>\n",
       "<style scoped>\n",
       "    .dataframe tbody tr th:only-of-type {\n",
       "        vertical-align: middle;\n",
       "    }\n",
       "\n",
       "    .dataframe tbody tr th {\n",
       "        vertical-align: top;\n",
       "    }\n",
       "\n",
       "    .dataframe thead th {\n",
       "        text-align: right;\n",
       "    }\n",
       "</style>\n",
       "<table border=\"1\" class=\"dataframe\">\n",
       "  <thead>\n",
       "    <tr style=\"text-align: right;\">\n",
       "      <th></th>\n",
       "      <th>company_name</th>\n",
       "      <th>trips_amount</th>\n",
       "    </tr>\n",
       "  </thead>\n",
       "  <tbody>\n",
       "    <tr>\n",
       "      <td>0</td>\n",
       "      <td>Flash Cab</td>\n",
       "      <td>19558</td>\n",
       "    </tr>\n",
       "    <tr>\n",
       "      <td>1</td>\n",
       "      <td>Taxi Affiliation Services</td>\n",
       "      <td>11422</td>\n",
       "    </tr>\n",
       "  </tbody>\n",
       "</table>\n",
       "</div>"
      ],
      "text/plain": [
       "                company_name  trips_amount\n",
       "0                  Flash Cab         19558\n",
       "1  Taxi Affiliation Services         11422"
      ]
     },
     "execution_count": 12,
     "metadata": {},
     "output_type": "execute_result"
    }
   ],
   "source": [
    "df_trips_comp.head(2)"
   ]
  },
  {
   "cell_type": "code",
   "execution_count": 13,
   "metadata": {},
   "outputs": [
    {
     "data": {
      "text/html": [
       "<div>\n",
       "<style scoped>\n",
       "    .dataframe tbody tr th:only-of-type {\n",
       "        vertical-align: middle;\n",
       "    }\n",
       "\n",
       "    .dataframe tbody tr th {\n",
       "        vertical-align: top;\n",
       "    }\n",
       "\n",
       "    .dataframe thead th {\n",
       "        text-align: right;\n",
       "    }\n",
       "</style>\n",
       "<table border=\"1\" class=\"dataframe\">\n",
       "  <thead>\n",
       "    <tr style=\"text-align: right;\">\n",
       "      <th></th>\n",
       "      <th>trips_amount</th>\n",
       "    </tr>\n",
       "  </thead>\n",
       "  <tbody>\n",
       "    <tr>\n",
       "      <td>count</td>\n",
       "      <td>64.000000</td>\n",
       "    </tr>\n",
       "    <tr>\n",
       "      <td>mean</td>\n",
       "      <td>2145.484375</td>\n",
       "    </tr>\n",
       "    <tr>\n",
       "      <td>std</td>\n",
       "      <td>3812.310186</td>\n",
       "    </tr>\n",
       "    <tr>\n",
       "      <td>min</td>\n",
       "      <td>2.000000</td>\n",
       "    </tr>\n",
       "    <tr>\n",
       "      <td>25%</td>\n",
       "      <td>20.750000</td>\n",
       "    </tr>\n",
       "    <tr>\n",
       "      <td>50%</td>\n",
       "      <td>178.500000</td>\n",
       "    </tr>\n",
       "    <tr>\n",
       "      <td>75%</td>\n",
       "      <td>2106.500000</td>\n",
       "    </tr>\n",
       "    <tr>\n",
       "      <td>max</td>\n",
       "      <td>19558.000000</td>\n",
       "    </tr>\n",
       "  </tbody>\n",
       "</table>\n",
       "</div>"
      ],
      "text/plain": [
       "       trips_amount\n",
       "count     64.000000\n",
       "mean    2145.484375\n",
       "std     3812.310186\n",
       "min        2.000000\n",
       "25%       20.750000\n",
       "50%      178.500000\n",
       "75%     2106.500000\n",
       "max    19558.000000"
      ]
     },
     "execution_count": 13,
     "metadata": {},
     "output_type": "execute_result"
    }
   ],
   "source": [
    "df_trips_comp.describe()"
   ]
  },
  {
   "cell_type": "code",
   "execution_count": 14,
   "metadata": {},
   "outputs": [
    {
     "data": {
      "text/html": [
       "<div>\n",
       "<style scoped>\n",
       "    .dataframe tbody tr th:only-of-type {\n",
       "        vertical-align: middle;\n",
       "    }\n",
       "\n",
       "    .dataframe tbody tr th {\n",
       "        vertical-align: top;\n",
       "    }\n",
       "\n",
       "    .dataframe thead th {\n",
       "        text-align: right;\n",
       "    }\n",
       "</style>\n",
       "<table border=\"1\" class=\"dataframe\">\n",
       "  <thead>\n",
       "    <tr style=\"text-align: right;\">\n",
       "      <th></th>\n",
       "      <th>company_name</th>\n",
       "      <th>trips_amount</th>\n",
       "    </tr>\n",
       "  </thead>\n",
       "  <tbody>\n",
       "    <tr>\n",
       "      <td>0</td>\n",
       "      <td>Flash Cab</td>\n",
       "      <td>19558</td>\n",
       "    </tr>\n",
       "    <tr>\n",
       "      <td>1</td>\n",
       "      <td>Taxi Affiliation Services</td>\n",
       "      <td>11422</td>\n",
       "    </tr>\n",
       "    <tr>\n",
       "      <td>2</td>\n",
       "      <td>Medallion Leasing</td>\n",
       "      <td>10367</td>\n",
       "    </tr>\n",
       "    <tr>\n",
       "      <td>3</td>\n",
       "      <td>Yellow Cab</td>\n",
       "      <td>9888</td>\n",
       "    </tr>\n",
       "    <tr>\n",
       "      <td>4</td>\n",
       "      <td>Taxi Affiliation Service Yellow</td>\n",
       "      <td>9299</td>\n",
       "    </tr>\n",
       "    <tr>\n",
       "      <td>5</td>\n",
       "      <td>Chicago Carriage Cab Corp</td>\n",
       "      <td>9181</td>\n",
       "    </tr>\n",
       "    <tr>\n",
       "      <td>6</td>\n",
       "      <td>City Service</td>\n",
       "      <td>8448</td>\n",
       "    </tr>\n",
       "    <tr>\n",
       "      <td>7</td>\n",
       "      <td>Sun Taxi</td>\n",
       "      <td>7701</td>\n",
       "    </tr>\n",
       "    <tr>\n",
       "      <td>8</td>\n",
       "      <td>Star North Management LLC</td>\n",
       "      <td>7455</td>\n",
       "    </tr>\n",
       "    <tr>\n",
       "      <td>9</td>\n",
       "      <td>Blue Ribbon Taxi Association Inc.</td>\n",
       "      <td>5953</td>\n",
       "    </tr>\n",
       "    <tr>\n",
       "      <td>10</td>\n",
       "      <td>Choice Taxi Association</td>\n",
       "      <td>5015</td>\n",
       "    </tr>\n",
       "    <tr>\n",
       "      <td>11</td>\n",
       "      <td>Globe Taxi</td>\n",
       "      <td>4383</td>\n",
       "    </tr>\n",
       "    <tr>\n",
       "      <td>12</td>\n",
       "      <td>Dispatch Taxi Affiliation</td>\n",
       "      <td>3355</td>\n",
       "    </tr>\n",
       "    <tr>\n",
       "      <td>13</td>\n",
       "      <td>Nova Taxi Affiliation Llc</td>\n",
       "      <td>3175</td>\n",
       "    </tr>\n",
       "    <tr>\n",
       "      <td>14</td>\n",
       "      <td>Patriot Taxi Dba Peace Taxi Association</td>\n",
       "      <td>2235</td>\n",
       "    </tr>\n",
       "    <tr>\n",
       "      <td>15</td>\n",
       "      <td>Checker Taxi Affiliation</td>\n",
       "      <td>2216</td>\n",
       "    </tr>\n",
       "    <tr>\n",
       "      <td>16</td>\n",
       "      <td>Blue Diamond</td>\n",
       "      <td>2070</td>\n",
       "    </tr>\n",
       "    <tr>\n",
       "      <td>17</td>\n",
       "      <td>Chicago Medallion Management</td>\n",
       "      <td>1955</td>\n",
       "    </tr>\n",
       "    <tr>\n",
       "      <td>18</td>\n",
       "      <td>24 Seven Taxi</td>\n",
       "      <td>1775</td>\n",
       "    </tr>\n",
       "    <tr>\n",
       "      <td>19</td>\n",
       "      <td>Chicago Medallion Leasing INC</td>\n",
       "      <td>1607</td>\n",
       "    </tr>\n",
       "  </tbody>\n",
       "</table>\n",
       "</div>"
      ],
      "text/plain": [
       "                               company_name  trips_amount\n",
       "0                                 Flash Cab         19558\n",
       "1                 Taxi Affiliation Services         11422\n",
       "2                         Medallion Leasing         10367\n",
       "3                                Yellow Cab          9888\n",
       "4           Taxi Affiliation Service Yellow          9299\n",
       "5                 Chicago Carriage Cab Corp          9181\n",
       "6                              City Service          8448\n",
       "7                                  Sun Taxi          7701\n",
       "8                 Star North Management LLC          7455\n",
       "9         Blue Ribbon Taxi Association Inc.          5953\n",
       "10                  Choice Taxi Association          5015\n",
       "11                               Globe Taxi          4383\n",
       "12                Dispatch Taxi Affiliation          3355\n",
       "13                Nova Taxi Affiliation Llc          3175\n",
       "14  Patriot Taxi Dba Peace Taxi Association          2235\n",
       "15                 Checker Taxi Affiliation          2216\n",
       "16                             Blue Diamond          2070\n",
       "17             Chicago Medallion Management          1955\n",
       "18                            24 Seven Taxi          1775\n",
       "19            Chicago Medallion Leasing INC          1607"
      ]
     },
     "execution_count": 14,
     "metadata": {},
     "output_type": "execute_result"
    }
   ],
   "source": [
    "df_trips_comp_top_20=df_trips_comp.sort_values('trips_amount', ascending=False).head(20)\n",
    "df_trips_comp_top_20"
   ]
  },
  {
   "cell_type": "code",
   "execution_count": 15,
   "metadata": {},
   "outputs": [
    {
     "data": {
      "image/png": "[encoded data removed]",
      "text/plain": [
       "<Figure size 1008x432 with 1 Axes>"
      ]
     },
     "metadata": {
      "needs_background": "light"
     },
     "output_type": "display_data"
    }
   ],
   "source": [
    "fig, ax = plt.subplots()\n",
    "fig.set_size_inches(14, 6)\n",
    "\n",
    "sns.barplot(x='company_name', y=\"trips_amount\", data=df_trips_comp_top_20)\n",
    "\n",
    "ax.set_xlabel(\"Taxi Companies\", fontsize=14)\n",
    "ax.set_ylabel(\"Number of Trips\", fontsize=14)\n",
    "ax.axes.set_title(\"Top 20 taxi companies by number of rides\", fontsize=16);\n",
    "plt.xticks(rotation=90)\n",
    "\n",
    "plt.show();"
   ]
  },
  {
   "cell_type": "markdown",
   "metadata": {},
   "source": [
    "Looking at the results, and the graph, there is one taxi company that stands out in the number of rides comparing to other taxi companies. That is the __Flash Cab__ company. From the __describe__ function we can see that the 75% is 2106, meaning that the first 16 taxi companies are responsible for 75% of all taxi rides (from a total of 64 companies)."
   ]
  },
  {
   "cell_type": "markdown",
   "metadata": {},
   "source": [
    "## Testing hypotheses"
   ]
  },
  {
   "cell_type": "markdown",
   "metadata": {},
   "source": [
    "The null hypothsis:  \n",
    "The average duration of rides from the Loop to O'Hare International Airport changes on rainy Saturdays.  \n",
    "So the alternative hypothsis is:  \n",
    "The average duration of rides from the Loop to O'Hare International Airport does not change on rainy Saturdays."
   ]
  },
  {
   "cell_type": "markdown",
   "metadata": {},
   "source": [
    "The df_duration_weather dataframe contains data on rides from the Loop to O'Hare International Airport, and the weather condition during the ride."
   ]
  },
  {
   "cell_type": "code",
   "execution_count": 16,
   "metadata": {},
   "outputs": [
    {
     "data": {
      "text/html": [
       "<div>\n",
       "<style scoped>\n",
       "    .dataframe tbody tr th:only-of-type {\n",
       "        vertical-align: middle;\n",
       "    }\n",
       "\n",
       "    .dataframe tbody tr th {\n",
       "        vertical-align: top;\n",
       "    }\n",
       "\n",
       "    .dataframe thead th {\n",
       "        text-align: right;\n",
       "    }\n",
       "</style>\n",
       "<table border=\"1\" class=\"dataframe\">\n",
       "  <thead>\n",
       "    <tr style=\"text-align: right;\">\n",
       "      <th></th>\n",
       "      <th>start_ts</th>\n",
       "      <th>weather_conditions</th>\n",
       "      <th>duration_seconds</th>\n",
       "    </tr>\n",
       "  </thead>\n",
       "  <tbody>\n",
       "    <tr>\n",
       "      <td>0</td>\n",
       "      <td>2017-11-25 16:00:00</td>\n",
       "      <td>Good</td>\n",
       "      <td>2410</td>\n",
       "    </tr>\n",
       "    <tr>\n",
       "      <td>1</td>\n",
       "      <td>2017-11-25 14:00:00</td>\n",
       "      <td>Good</td>\n",
       "      <td>1920</td>\n",
       "    </tr>\n",
       "  </tbody>\n",
       "</table>\n",
       "</div>"
      ],
      "text/plain": [
       "             start_ts weather_conditions  duration_seconds\n",
       "0 2017-11-25 16:00:00               Good              2410\n",
       "1 2017-11-25 14:00:00               Good              1920"
      ]
     },
     "execution_count": 16,
     "metadata": {},
     "output_type": "execute_result"
    }
   ],
   "source": [
    "df_duration_weather.head(2)"
   ]
  },
  {
   "cell_type": "markdown",
   "metadata": {},
   "source": [
    "Since the hypothesis regards Saturday, I'm adding a column with the day of the week."
   ]
  },
  {
   "cell_type": "code",
   "execution_count": 17,
   "metadata": {},
   "outputs": [
    {
     "data": {
      "text/plain": [
       "0"
      ]
     },
     "execution_count": 17,
     "metadata": {},
     "output_type": "execute_result"
    },
    {
     "data": {
      "text/html": [
       "<div>\n",
       "<style scoped>\n",
       "    .dataframe tbody tr th:only-of-type {\n",
       "        vertical-align: middle;\n",
       "    }\n",
       "\n",
       "    .dataframe tbody tr th {\n",
       "        vertical-align: top;\n",
       "    }\n",
       "\n",
       "    .dataframe thead th {\n",
       "        text-align: right;\n",
       "    }\n",
       "</style>\n",
       "<table border=\"1\" class=\"dataframe\">\n",
       "  <thead>\n",
       "    <tr style=\"text-align: right;\">\n",
       "      <th></th>\n",
       "      <th>start_ts</th>\n",
       "      <th>weather_conditions</th>\n",
       "      <th>duration_seconds</th>\n",
       "      <th>day_of_week</th>\n",
       "    </tr>\n",
       "  </thead>\n",
       "  <tbody>\n",
       "    <tr>\n",
       "      <td>0</td>\n",
       "      <td>2017-11-25 16:00:00</td>\n",
       "      <td>Good</td>\n",
       "      <td>2410</td>\n",
       "      <td>Saturday</td>\n",
       "    </tr>\n",
       "    <tr>\n",
       "      <td>1</td>\n",
       "      <td>2017-11-25 14:00:00</td>\n",
       "      <td>Good</td>\n",
       "      <td>1920</td>\n",
       "      <td>Saturday</td>\n",
       "    </tr>\n",
       "    <tr>\n",
       "      <td>2</td>\n",
       "      <td>2017-11-25 12:00:00</td>\n",
       "      <td>Good</td>\n",
       "      <td>1543</td>\n",
       "      <td>Saturday</td>\n",
       "    </tr>\n",
       "    <tr>\n",
       "      <td>3</td>\n",
       "      <td>2017-11-04 10:00:00</td>\n",
       "      <td>Good</td>\n",
       "      <td>2512</td>\n",
       "      <td>Saturday</td>\n",
       "    </tr>\n",
       "    <tr>\n",
       "      <td>4</td>\n",
       "      <td>2017-11-11 07:00:00</td>\n",
       "      <td>Good</td>\n",
       "      <td>1440</td>\n",
       "      <td>Saturday</td>\n",
       "    </tr>\n",
       "  </tbody>\n",
       "</table>\n",
       "</div>"
      ],
      "text/plain": [
       "             start_ts weather_conditions  duration_seconds day_of_week\n",
       "0 2017-11-25 16:00:00               Good              2410    Saturday\n",
       "1 2017-11-25 14:00:00               Good              1920    Saturday\n",
       "2 2017-11-25 12:00:00               Good              1543    Saturday\n",
       "3 2017-11-04 10:00:00               Good              2512    Saturday\n",
       "4 2017-11-11 07:00:00               Good              1440    Saturday"
      ]
     },
     "execution_count": 17,
     "metadata": {},
     "output_type": "execute_result"
    }
   ],
   "source": [
    "df_duration_weather['day_of_week']=df_duration_weather['start_ts'].dt.day_name()\n",
    "len(df_duration_weather.query('day_of_week!=\"Saturday\"'))\n",
    "df_duration_weather.head()"
   ]
  },
  {
   "cell_type": "markdown",
   "metadata": {},
   "source": [
    "The data in the dataframe is only on rides that occured on Saturdays."
   ]
  },
  {
   "cell_type": "markdown",
   "metadata": {},
   "source": [
    "Making 2 new dataframes one for rides on good weather, and the other one of bad weather."
   ]
  },
  {
   "cell_type": "code",
   "execution_count": 18,
   "metadata": {},
   "outputs": [],
   "source": [
    "df_duration_weather_good=df_duration_weather.query('weather_conditions==\"Good\"')\n",
    "df_duration_weather_bad=df_duration_weather.query('weather_conditions==\"Bad\"')\n"
   ]
  },
  {
   "cell_type": "code",
   "execution_count": 19,
   "metadata": {},
   "outputs": [
    {
     "data": {
      "text/html": [
       "<div>\n",
       "<style scoped>\n",
       "    .dataframe tbody tr th:only-of-type {\n",
       "        vertical-align: middle;\n",
       "    }\n",
       "\n",
       "    .dataframe tbody tr th {\n",
       "        vertical-align: top;\n",
       "    }\n",
       "\n",
       "    .dataframe thead th {\n",
       "        text-align: right;\n",
       "    }\n",
       "</style>\n",
       "<table border=\"1\" class=\"dataframe\">\n",
       "  <thead>\n",
       "    <tr style=\"text-align: right;\">\n",
       "      <th></th>\n",
       "      <th>start_ts</th>\n",
       "      <th>weather_conditions</th>\n",
       "      <th>duration_seconds</th>\n",
       "      <th>day_of_week</th>\n",
       "    </tr>\n",
       "  </thead>\n",
       "  <tbody>\n",
       "    <tr>\n",
       "      <td>0</td>\n",
       "      <td>2017-11-25 16:00:00</td>\n",
       "      <td>Good</td>\n",
       "      <td>2410</td>\n",
       "      <td>Saturday</td>\n",
       "    </tr>\n",
       "    <tr>\n",
       "      <td>1</td>\n",
       "      <td>2017-11-25 14:00:00</td>\n",
       "      <td>Good</td>\n",
       "      <td>1920</td>\n",
       "      <td>Saturday</td>\n",
       "    </tr>\n",
       "  </tbody>\n",
       "</table>\n",
       "</div>"
      ],
      "text/plain": [
       "             start_ts weather_conditions  duration_seconds day_of_week\n",
       "0 2017-11-25 16:00:00               Good              2410    Saturday\n",
       "1 2017-11-25 14:00:00               Good              1920    Saturday"
      ]
     },
     "execution_count": 19,
     "metadata": {},
     "output_type": "execute_result"
    }
   ],
   "source": [
    "df_duration_weather_good.head(2)"
   ]
  },
  {
   "cell_type": "code",
   "execution_count": 20,
   "metadata": {},
   "outputs": [
    {
     "data": {
      "text/html": [
       "<div>\n",
       "<style scoped>\n",
       "    .dataframe tbody tr th:only-of-type {\n",
       "        vertical-align: middle;\n",
       "    }\n",
       "\n",
       "    .dataframe tbody tr th {\n",
       "        vertical-align: top;\n",
       "    }\n",
       "\n",
       "    .dataframe thead th {\n",
       "        text-align: right;\n",
       "    }\n",
       "</style>\n",
       "<table border=\"1\" class=\"dataframe\">\n",
       "  <thead>\n",
       "    <tr style=\"text-align: right;\">\n",
       "      <th></th>\n",
       "      <th>start_ts</th>\n",
       "      <th>weather_conditions</th>\n",
       "      <th>duration_seconds</th>\n",
       "      <th>day_of_week</th>\n",
       "    </tr>\n",
       "  </thead>\n",
       "  <tbody>\n",
       "    <tr>\n",
       "      <td>6</td>\n",
       "      <td>2017-11-04 16:00:00</td>\n",
       "      <td>Bad</td>\n",
       "      <td>2969</td>\n",
       "      <td>Saturday</td>\n",
       "    </tr>\n",
       "    <tr>\n",
       "      <td>30</td>\n",
       "      <td>2017-11-18 12:00:00</td>\n",
       "      <td>Bad</td>\n",
       "      <td>1980</td>\n",
       "      <td>Saturday</td>\n",
       "    </tr>\n",
       "  </tbody>\n",
       "</table>\n",
       "</div>"
      ],
      "text/plain": [
       "              start_ts weather_conditions  duration_seconds day_of_week\n",
       "6  2017-11-04 16:00:00                Bad              2969    Saturday\n",
       "30 2017-11-18 12:00:00                Bad              1980    Saturday"
      ]
     },
     "execution_count": 20,
     "metadata": {},
     "output_type": "execute_result"
    }
   ],
   "source": [
    "df_duration_weather_bad.head(2)"
   ]
  },
  {
   "cell_type": "markdown",
   "metadata": {},
   "source": [
    "As a threshold (alpha) I'll choose 5% as it is the commonly used value for the rejected values."
   ]
  },
  {
   "cell_type": "code",
   "execution_count": 21,
   "metadata": {},
   "outputs": [
    {
     "name": "stdout",
     "output_type": "stream",
     "text": [
      "We can't reject the null hypothesis\n"
     ]
    }
   ],
   "source": [
    "results = st.ttest_ind(df_duration_weather_good['duration_seconds'],df_duration_weather_bad['duration_seconds'])\n",
    "\n",
    "alpha = 0.05  # critical statistical significance level\n",
    "\n",
    "if results.pvalue > alpha:\n",
    "    print(\"We reject the null hypothesis\")\n",
    "else:\n",
    "    print(\"We can't reject the null hypothesis\") "
   ]
  },
  {
   "cell_type": "markdown",
   "metadata": {},
   "source": [
    "There is a difference between the 2 populations (rides on Saturdays with good weather, and ones with bad weather), therefore I can't reject the null hypothesis."
   ]
  },
  {
   "cell_type": "markdown",
   "metadata": {},
   "source": [
    "## Conclusion"
   ]
  },
  {
   "cell_type": "markdown",
   "metadata": {},
   "source": [
    "I managed to find several patterns relying on the provided data. Each section and task has its own conclusion, identifying a certain pattern. There was one odd pattern, which I think needs to be rechecked, although there is an international airport, there are more drop-offs in several neighborhoods rather than on the airport itself."
   ]
  },
  {
   "cell_type": "code",
   "execution_count": null,
   "metadata": {},
   "outputs": [],
   "source": []
  }
 ],
 "metadata": {
  "ExecuteTimeLog": [
   {
    "duration": 1765,
    "start_time": "2021-09-06T09:42:09.003Z"
   },
   {
    "duration": 1947,
    "start_time": "2021-09-06T09:43:35.523Z"
   },
   {
    "duration": 13,
    "start_time": "2021-09-06T09:43:42.273Z"
   },
   {
    "duration": 10,
    "start_time": "2021-09-06T09:43:56.613Z"
   },
   {
    "duration": 8,
    "start_time": "2021-09-06T09:44:10.382Z"
   },
   {
    "duration": 7,
    "start_time": "2021-09-06T09:44:16.289Z"
   },
   {
    "duration": 8,
    "start_time": "2021-09-06T09:44:21.485Z"
   },
   {
    "duration": 6,
    "start_time": "2021-09-06T09:57:28.319Z"
   },
   {
    "duration": 1031,
    "start_time": "2021-09-06T09:57:33.812Z"
   },
   {
    "duration": 810,
    "start_time": "2021-09-06T09:58:01.773Z"
   },
   {
    "duration": 8,
    "start_time": "2021-09-06T09:58:32.210Z"
   },
   {
    "duration": 6,
    "start_time": "2021-09-06T10:02:03.765Z"
   },
   {
    "duration": 10,
    "start_time": "2021-09-06T10:02:13.667Z"
   },
   {
    "duration": 12,
    "start_time": "2021-09-06T10:02:51.261Z"
   },
   {
    "duration": 17,
    "start_time": "2021-09-06T10:03:17.379Z"
   },
   {
    "duration": 7,
    "start_time": "2021-09-06T10:03:24.702Z"
   },
   {
    "duration": 10,
    "start_time": "2021-09-06T10:12:21.478Z"
   },
   {
    "duration": 3,
    "start_time": "2021-09-06T10:15:02.355Z"
   },
   {
    "duration": 9,
    "start_time": "2021-09-06T10:15:12.958Z"
   },
   {
    "duration": 3,
    "start_time": "2021-09-06T10:17:57.306Z"
   },
   {
    "duration": 10,
    "start_time": "2021-09-06T10:18:02.357Z"
   },
   {
    "duration": 3,
    "start_time": "2021-09-06T10:18:34.295Z"
   },
   {
    "duration": 9,
    "start_time": "2021-09-06T10:22:39.429Z"
   },
   {
    "duration": 742,
    "start_time": "2021-09-06T10:23:18.209Z"
   },
   {
    "duration": 13,
    "start_time": "2021-09-06T10:23:24.656Z"
   },
   {
    "duration": 10,
    "start_time": "2021-09-06T10:23:39.549Z"
   },
   {
    "duration": 9,
    "start_time": "2021-09-06T10:23:57.225Z"
   },
   {
    "duration": 1349,
    "start_time": "2021-09-06T10:31:15.224Z"
   },
   {
    "duration": 4,
    "start_time": "2021-09-06T10:31:59.853Z"
   },
   {
    "duration": 204,
    "start_time": "2021-09-06T10:32:07.467Z"
   },
   {
    "duration": 9,
    "start_time": "2021-09-06T10:32:19.821Z"
   },
   {
    "duration": 1144,
    "start_time": "2021-09-06T10:32:53.182Z"
   },
   {
    "duration": 831,
    "start_time": "2021-09-06T10:33:18.434Z"
   },
   {
    "duration": 377,
    "start_time": "2021-09-06T10:35:54.710Z"
   },
   {
    "duration": 380,
    "start_time": "2021-09-06T10:37:01.260Z"
   },
   {
    "duration": 378,
    "start_time": "2021-09-06T10:38:34.593Z"
   },
   {
    "duration": 14,
    "start_time": "2021-09-06T10:41:08.053Z"
   },
   {
    "duration": 4,
    "start_time": "2021-09-06T10:41:18.811Z"
   },
   {
    "duration": 8,
    "start_time": "2021-09-06T10:41:24.061Z"
   },
   {
    "duration": 7,
    "start_time": "2021-09-06T10:41:57.127Z"
   },
   {
    "duration": 8,
    "start_time": "2021-09-06T10:42:39.062Z"
   },
   {
    "duration": 9,
    "start_time": "2021-09-06T10:42:51.887Z"
   },
   {
    "duration": 10,
    "start_time": "2021-09-06T10:51:28.116Z"
   },
   {
    "duration": 1373,
    "start_time": "2021-09-06T10:52:35.237Z"
   },
   {
    "duration": 1240,
    "start_time": "2021-09-06T10:53:01.270Z"
   },
   {
    "duration": 10,
    "start_time": "2021-09-06T10:53:06.527Z"
   },
   {
    "duration": 353,
    "start_time": "2021-09-06T10:53:10.746Z"
   },
   {
    "duration": 399,
    "start_time": "2021-09-06T10:55:15.005Z"
   },
   {
    "duration": 376,
    "start_time": "2021-09-06T10:55:30.514Z"
   },
   {
    "duration": 8,
    "start_time": "2021-09-06T10:56:04.935Z"
   },
   {
    "duration": 281,
    "start_time": "2021-09-06T10:56:07.897Z"
   },
   {
    "duration": 1424,
    "start_time": "2021-09-06T10:56:26.361Z"
   },
   {
    "duration": 2791,
    "start_time": "2021-09-06T10:56:31.009Z"
   },
   {
    "duration": 9,
    "start_time": "2021-09-06T10:56:45.855Z"
   },
   {
    "duration": 365,
    "start_time": "2021-09-06T10:56:49.411Z"
   },
   {
    "duration": 378,
    "start_time": "2021-09-06T10:57:46.242Z"
   },
   {
    "duration": 376,
    "start_time": "2021-09-06T11:13:57.304Z"
   },
   {
    "duration": 360,
    "start_time": "2021-09-06T11:16:08.885Z"
   },
   {
    "duration": 256,
    "start_time": "2021-09-06T11:16:23.348Z"
   },
   {
    "duration": 227,
    "start_time": "2021-09-06T11:16:35.216Z"
   },
   {
    "duration": 7,
    "start_time": "2021-09-06T12:03:42.568Z"
   },
   {
    "duration": 178,
    "start_time": "2021-09-06T12:03:45.287Z"
   },
   {
    "duration": 11,
    "start_time": "2021-09-06T12:03:58.844Z"
   },
   {
    "duration": 12,
    "start_time": "2021-09-06T12:38:59.217Z"
   },
   {
    "duration": 9,
    "start_time": "2021-09-08T19:05:21.205Z"
   },
   {
    "duration": 10,
    "start_time": "2021-09-08T19:07:57.909Z"
   },
   {
    "duration": 11,
    "start_time": "2021-09-08T19:41:42.255Z"
   },
   {
    "duration": 8,
    "start_time": "2021-09-08T19:41:56.960Z"
   },
   {
    "duration": 7,
    "start_time": "2021-09-08T19:42:08.057Z"
   },
   {
    "duration": 418,
    "start_time": "2021-09-08T19:43:34.943Z"
   },
   {
    "duration": 98,
    "start_time": "2021-09-08T19:44:47.506Z"
   },
   {
    "duration": 6,
    "start_time": "2021-09-08T19:44:51.982Z"
   },
   {
    "duration": 7,
    "start_time": "2021-09-08T19:45:51.302Z"
   },
   {
    "duration": 4,
    "start_time": "2021-09-08T19:46:59.860Z"
   },
   {
    "duration": 5,
    "start_time": "2021-09-08T19:49:32.877Z"
   },
   {
    "duration": 7,
    "start_time": "2021-09-08T19:50:11.361Z"
   },
   {
    "duration": 5,
    "start_time": "2021-09-08T19:50:18.233Z"
   },
   {
    "duration": 5,
    "start_time": "2021-09-08T19:50:27.304Z"
   },
   {
    "duration": 4,
    "start_time": "2021-09-08T19:50:50.102Z"
   },
   {
    "duration": 6,
    "start_time": "2021-09-08T20:39:54.606Z"
   },
   {
    "duration": 5,
    "start_time": "2021-09-08T20:40:12.796Z"
   },
   {
    "duration": 9,
    "start_time": "2021-09-08T20:42:28.425Z"
   },
   {
    "duration": 308,
    "start_time": "2021-09-08T20:45:40.178Z"
   },
   {
    "duration": 310,
    "start_time": "2021-09-08T20:45:46.953Z"
   },
   {
    "duration": 7,
    "start_time": "2021-09-08T21:25:46.224Z"
   },
   {
    "duration": 4,
    "start_time": "2021-09-08T21:25:54.878Z"
   },
   {
    "duration": 5,
    "start_time": "2021-09-08T21:32:10.618Z"
   },
   {
    "duration": 7,
    "start_time": "2021-09-08T21:32:20.365Z"
   },
   {
    "duration": 12,
    "start_time": "2021-09-08T21:36:19.865Z"
   },
   {
    "duration": 8,
    "start_time": "2021-09-08T21:36:26.709Z"
   },
   {
    "duration": 4,
    "start_time": "2021-09-08T21:36:44.668Z"
   },
   {
    "duration": 10,
    "start_time": "2021-09-08T21:37:06.589Z"
   },
   {
    "duration": 7,
    "start_time": "2021-09-08T21:37:16.428Z"
   },
   {
    "duration": 255,
    "start_time": "2021-09-08T21:39:55.787Z"
   },
   {
    "duration": 1021,
    "start_time": "2021-09-08T21:40:43.436Z"
   },
   {
    "duration": 510,
    "start_time": "2021-09-08T21:40:44.459Z"
   },
   {
    "duration": 10,
    "start_time": "2021-09-08T21:40:44.971Z"
   },
   {
    "duration": 7,
    "start_time": "2021-09-08T21:40:44.983Z"
   },
   {
    "duration": 8,
    "start_time": "2021-09-08T21:40:44.992Z"
   },
   {
    "duration": 9,
    "start_time": "2021-09-08T21:40:45.001Z"
   },
   {
    "duration": 16,
    "start_time": "2021-09-08T21:40:45.011Z"
   },
   {
    "duration": 13,
    "start_time": "2021-09-08T21:40:45.030Z"
   },
   {
    "duration": 6,
    "start_time": "2021-09-08T21:40:45.045Z"
   },
   {
    "duration": 11,
    "start_time": "2021-09-08T21:40:45.053Z"
   },
   {
    "duration": 242,
    "start_time": "2021-09-08T21:40:45.066Z"
   },
   {
    "duration": 6,
    "start_time": "2021-09-08T21:40:45.310Z"
   },
   {
    "duration": 13,
    "start_time": "2021-09-08T21:40:45.318Z"
   },
   {
    "duration": 10,
    "start_time": "2021-09-08T21:40:45.333Z"
   },
   {
    "duration": 381,
    "start_time": "2021-09-08T21:40:45.344Z"
   },
   {
    "duration": 7,
    "start_time": "2021-09-08T21:40:45.727Z"
   },
   {
    "duration": 14,
    "start_time": "2021-09-08T21:40:45.736Z"
   },
   {
    "duration": 7,
    "start_time": "2021-09-08T21:40:45.751Z"
   },
   {
    "duration": 11,
    "start_time": "2021-09-08T21:40:45.760Z"
   },
   {
    "duration": 5,
    "start_time": "2021-09-08T21:40:45.791Z"
   },
   {
    "duration": 8,
    "start_time": "2021-09-08T21:59:00.756Z"
   },
   {
    "duration": 10,
    "start_time": "2021-09-08T21:59:52.793Z"
   },
   {
    "duration": 13,
    "start_time": "2021-09-08T22:00:23.997Z"
   },
   {
    "duration": 11,
    "start_time": "2021-09-08T22:01:13.624Z"
   },
   {
    "duration": 9,
    "start_time": "2021-09-08T22:01:47.291Z"
   },
   {
    "duration": 14,
    "start_time": "2021-09-08T22:02:47.512Z"
   },
   {
    "duration": 13,
    "start_time": "2021-09-08T22:03:01.977Z"
   },
   {
    "duration": 1167,
    "start_time": "2021-09-09T08:57:43.275Z"
   },
   {
    "duration": 533,
    "start_time": "2021-09-09T08:57:44.444Z"
   },
   {
    "duration": 9,
    "start_time": "2021-09-09T08:57:44.979Z"
   },
   {
    "duration": 12,
    "start_time": "2021-09-09T08:57:44.990Z"
   },
   {
    "duration": 18,
    "start_time": "2021-09-09T08:57:45.003Z"
   },
   {
    "duration": 13,
    "start_time": "2021-09-09T08:57:45.022Z"
   },
   {
    "duration": 15,
    "start_time": "2021-09-09T08:57:45.037Z"
   },
   {
    "duration": 10,
    "start_time": "2021-09-09T08:57:45.055Z"
   },
   {
    "duration": 10,
    "start_time": "2021-09-09T08:57:45.066Z"
   },
   {
    "duration": 16,
    "start_time": "2021-09-09T08:57:45.078Z"
   },
   {
    "duration": 241,
    "start_time": "2021-09-09T08:57:45.096Z"
   },
   {
    "duration": 6,
    "start_time": "2021-09-09T08:57:45.338Z"
   },
   {
    "duration": 17,
    "start_time": "2021-09-09T08:57:45.346Z"
   },
   {
    "duration": 16,
    "start_time": "2021-09-09T08:57:45.365Z"
   },
   {
    "duration": 375,
    "start_time": "2021-09-09T08:57:45.383Z"
   },
   {
    "duration": 8,
    "start_time": "2021-09-09T08:57:45.760Z"
   },
   {
    "duration": 29,
    "start_time": "2021-09-09T08:57:45.770Z"
   },
   {
    "duration": 8,
    "start_time": "2021-09-09T08:57:45.801Z"
   },
   {
    "duration": 8,
    "start_time": "2021-09-09T08:57:45.811Z"
   },
   {
    "duration": 10,
    "start_time": "2021-09-09T08:57:45.821Z"
   },
   {
    "duration": 5,
    "start_time": "2021-09-09T08:57:45.833Z"
   }
  ],
  "kernelspec": {
   "display_name": "Python 3",
   "language": "python",
   "name": "python3"
  },
  "language_info": {
   "codemirror_mode": {
    "name": "ipython",
    "version": 3
   },
   "file_extension": ".py",
   "mimetype": "text/x-python",
   "name": "python",
   "nbconvert_exporter": "python",
   "pygments_lexer": "ipython3",
   "version": "3.8.5"
  },
  "toc": {
   "base_numbering": 1,
   "nav_menu": {},
   "number_sections": true,
   "sideBar": true,
   "skip_h1_title": true,
   "title_cell": "Table of Contents",
   "title_sidebar": "Contents",
   "toc_cell": false,
   "toc_position": {},
   "toc_section_display": true,
   "toc_window_display": false
  }
 },
 "nbformat": 4,
 "nbformat_minor": 2
}
