{
 "cells": [
  {
   "cell_type": "markdown",
   "metadata": {},
   "source": [
    "# Analyzing borrowers’ risk of defaulting\n",
    "\n",
    "The aim of this project is to prepare a report for a bank’s loan division. The main thing that I'm showing is if a customer’s marital status and number of children has an impact on whether they will default on a loan. The bank already has some data on customers’ credit worthiness.\n",
    "\n",
    "This report will be considered when building a **credit scoring** of a potential customer. A ** credit scoring ** is used to evaluate the ability of a potential borrower to repay their loan."
   ]
  },
  {
   "cell_type": "markdown",
   "metadata": {},
   "source": [
    "## Open the data file and have a look at the general information. "
   ]
  },
  {
   "cell_type": "code",
   "execution_count": 1,
   "metadata": {
    "scrolled": false
   },
   "outputs": [
    {
     "data": {
      "text/html": [
       "<div>\n",
       "<style scoped>\n",
       "    .dataframe tbody tr th:only-of-type {\n",
       "        vertical-align: middle;\n",
       "    }\n",
       "\n",
       "    .dataframe tbody tr th {\n",
       "        vertical-align: top;\n",
       "    }\n",
       "\n",
       "    .dataframe thead th {\n",
       "        text-align: right;\n",
       "    }\n",
       "</style>\n",
       "<table border=\"1\" class=\"dataframe\">\n",
       "  <thead>\n",
       "    <tr style=\"text-align: right;\">\n",
       "      <th></th>\n",
       "      <th>children</th>\n",
       "      <th>days_employed</th>\n",
       "      <th>dob_years</th>\n",
       "      <th>education</th>\n",
       "      <th>education_id</th>\n",
       "      <th>family_status</th>\n",
       "      <th>family_status_id</th>\n",
       "      <th>gender</th>\n",
       "      <th>income_type</th>\n",
       "      <th>debt</th>\n",
       "      <th>total_income</th>\n",
       "      <th>purpose</th>\n",
       "    </tr>\n",
       "  </thead>\n",
       "  <tbody>\n",
       "    <tr>\n",
       "      <td>0</td>\n",
       "      <td>1</td>\n",
       "      <td>-8437.673028</td>\n",
       "      <td>42</td>\n",
       "      <td>bachelor's degree</td>\n",
       "      <td>0</td>\n",
       "      <td>married</td>\n",
       "      <td>0</td>\n",
       "      <td>F</td>\n",
       "      <td>employee</td>\n",
       "      <td>0</td>\n",
       "      <td>40620.102</td>\n",
       "      <td>purchase of the house</td>\n",
       "    </tr>\n",
       "    <tr>\n",
       "      <td>1</td>\n",
       "      <td>1</td>\n",
       "      <td>-4024.803754</td>\n",
       "      <td>36</td>\n",
       "      <td>secondary education</td>\n",
       "      <td>1</td>\n",
       "      <td>married</td>\n",
       "      <td>0</td>\n",
       "      <td>F</td>\n",
       "      <td>employee</td>\n",
       "      <td>0</td>\n",
       "      <td>17932.802</td>\n",
       "      <td>car purchase</td>\n",
       "    </tr>\n",
       "    <tr>\n",
       "      <td>2</td>\n",
       "      <td>0</td>\n",
       "      <td>-5623.422610</td>\n",
       "      <td>33</td>\n",
       "      <td>Secondary Education</td>\n",
       "      <td>1</td>\n",
       "      <td>married</td>\n",
       "      <td>0</td>\n",
       "      <td>M</td>\n",
       "      <td>employee</td>\n",
       "      <td>0</td>\n",
       "      <td>23341.752</td>\n",
       "      <td>purchase of the house</td>\n",
       "    </tr>\n",
       "    <tr>\n",
       "      <td>3</td>\n",
       "      <td>3</td>\n",
       "      <td>-4124.747207</td>\n",
       "      <td>32</td>\n",
       "      <td>secondary education</td>\n",
       "      <td>1</td>\n",
       "      <td>married</td>\n",
       "      <td>0</td>\n",
       "      <td>M</td>\n",
       "      <td>employee</td>\n",
       "      <td>0</td>\n",
       "      <td>42820.568</td>\n",
       "      <td>supplementary education</td>\n",
       "    </tr>\n",
       "    <tr>\n",
       "      <td>4</td>\n",
       "      <td>0</td>\n",
       "      <td>340266.072047</td>\n",
       "      <td>53</td>\n",
       "      <td>secondary education</td>\n",
       "      <td>1</td>\n",
       "      <td>civil partnership</td>\n",
       "      <td>1</td>\n",
       "      <td>F</td>\n",
       "      <td>retiree</td>\n",
       "      <td>0</td>\n",
       "      <td>25378.572</td>\n",
       "      <td>to have a wedding</td>\n",
       "    </tr>\n",
       "  </tbody>\n",
       "</table>\n",
       "</div>"
      ],
      "text/plain": [
       "   children  days_employed  dob_years            education  education_id  \\\n",
       "0         1   -8437.673028         42    bachelor's degree             0   \n",
       "1         1   -4024.803754         36  secondary education             1   \n",
       "2         0   -5623.422610         33  Secondary Education             1   \n",
       "3         3   -4124.747207         32  secondary education             1   \n",
       "4         0  340266.072047         53  secondary education             1   \n",
       "\n",
       "       family_status  family_status_id gender income_type  debt  total_income  \\\n",
       "0            married                 0      F    employee     0     40620.102   \n",
       "1            married                 0      F    employee     0     17932.802   \n",
       "2            married                 0      M    employee     0     23341.752   \n",
       "3            married                 0      M    employee     0     42820.568   \n",
       "4  civil partnership                 1      F     retiree     0     25378.572   \n",
       "\n",
       "                   purpose  \n",
       "0    purchase of the house  \n",
       "1             car purchase  \n",
       "2    purchase of the house  \n",
       "3  supplementary education  \n",
       "4        to have a wedding  "
      ]
     },
     "execution_count": 1,
     "metadata": {},
     "output_type": "execute_result"
    }
   ],
   "source": [
    "import pandas as pd\n",
    "\n",
    "try:\n",
    "    df=pd.read_csv('credit_scoring_eng.csv')\n",
    "except:\n",
    "    df=pd.read_csv('/datasets/credit_scoring_eng.csv')\n",
    "\n",
    "df.head()"
   ]
  },
  {
   "cell_type": "markdown",
   "metadata": {},
   "source": [
    "### Conclusion"
   ]
  },
  {
   "cell_type": "markdown",
   "metadata": {},
   "source": [
    "I found some issues with the report's data which I'll address them below. Those are the issues that I've found\n",
    "\n",
    "1. There are duplicate rows in the date source.\n",
    "2. column children, some has a negative value. I believe that this is a typo, and I removed the '-' sign.\n",
    "3. Days Employed column, has negative values, the value is in days, rather than in years, has missing values, \n",
    "    and some have very large valuse\n",
    "4. Missing values in the total income column, and making it more readable by changing the value's type to integer."
   ]
  },
  {
   "cell_type": "markdown",
   "metadata": {},
   "source": [
    "## Data preprocessing"
   ]
  },
  {
   "cell_type": "markdown",
   "metadata": {},
   "source": [
    "### Processing duplicates"
   ]
  },
  {
   "cell_type": "markdown",
   "metadata": {},
   "source": [
    "To eliminate the chance of missing a duplicate for a different casing, \n",
    "I'll make sure that each column has the same case"
   ]
  },
  {
   "cell_type": "code",
   "execution_count": 2,
   "metadata": {},
   "outputs": [],
   "source": [
    "df['education']=df['education'].astype(str).str.lower()\n",
    "df['family_status']=df['family_status'].astype(str).str.lower()\n",
    "df['gender']=df['gender'].astype(str).str.upper()\n",
    "df['income_type']=df['income_type'].astype(str).str.lower()\n",
    "df['purpose']=df['purpose'].astype(str).str.lower()"
   ]
  },
  {
   "cell_type": "code",
   "execution_count": 3,
   "metadata": {},
   "outputs": [
    {
     "name": "stdout",
     "output_type": "stream",
     "text": [
      "Number of duplicates in the dataset: 71, which is 0.33% of the dataset\n"
     ]
    }
   ],
   "source": [
    "#check if there are duplicates in the datasource\n",
    "num_of_duplicate=df.duplicated().sum()\n",
    "pct_of_duplicate=num_of_duplicate/len(df)\n",
    "print('Number of duplicates in the dataset: {}, which is {:.2%} of the dataset'\n",
    "      .format(num_of_duplicate,pct_of_duplicate))"
   ]
  },
  {
   "cell_type": "code",
   "execution_count": 4,
   "metadata": {},
   "outputs": [
    {
     "name": "stdout",
     "output_type": "stream",
     "text": [
      "Num of remaining duplicates in the dataset: 0\n"
     ]
    }
   ],
   "source": [
    "#since I found that there are 71 duplicates, i'm erasing them.\n",
    "df.drop_duplicates(inplace=True)\n",
    "print('Num of remaining duplicates in the dataset:',df.duplicated().sum())"
   ]
  },
  {
   "cell_type": "markdown",
   "metadata": {},
   "source": [
    "### Conclusion"
   ]
  },
  {
   "cell_type": "markdown",
   "metadata": {},
   "source": [
    "Although the duplicate data may not have an impact on the end result, it is a type of error, and it must be handled.\n",
    "A possible reason for a duplicate is a wrong SQL query, which should be fixed by the developer."
   ]
  },
  {
   "cell_type": "markdown",
   "metadata": {},
   "source": [
    "### Processing missing values"
   ]
  },
  {
   "cell_type": "code",
   "execution_count": 5,
   "metadata": {},
   "outputs": [
    {
     "name": "stdout",
     "output_type": "stream",
     "text": [
      "Num of missing values at column days_employed: 2103\n",
      "Percent of missing values at column days_employed: 9.80%\n"
     ]
    }
   ],
   "source": [
    "#days_employed column\n",
    "days_employed_mis_val_num=df['days_employed'].isnull().sum()\n",
    "print('Num of missing values at column days_employed:',days_employed_mis_val_num)\n",
    "days_employed_mis_val_pct=days_employed_mis_val_num/len(df)\n",
    "print('Percent of missing values at column days_employed: {:.2%}'.format(days_employed_mis_val_pct))"
   ]
  },
  {
   "cell_type": "code",
   "execution_count": 6,
   "metadata": {},
   "outputs": [],
   "source": [
    "#filling missing values with 0\n",
    "try:\n",
    "    df['days_employed']=df['days_employed'].fillna(0)\n",
    "except Exception as e: \n",
    "    print(e)\n",
    "    \n",
    "#I've noticed that there are negative values. \n",
    "#Since they'll might have an impact on the median value, I have to find\n",
    "#the median after treating them. The source for the negative values is\n",
    "#probably a typo\n",
    "df['days_employed']=abs(df['days_employed'])\n",
    "\n",
    "#finding the median value for years of employment\n",
    "median_employment_years=round(df['days_employed'].median())\n",
    "#replcaing 0 years of employment with the median value that I've found\n",
    "df.loc[df['days_employed']==0, 'days_employed']=median_employment_years"
   ]
  },
  {
   "cell_type": "code",
   "execution_count": 7,
   "metadata": {},
   "outputs": [
    {
     "name": "stdout",
     "output_type": "stream",
     "text": [
      "Num of missing values at column total_income: 2103\n",
      "Percent of missing values at column total_income: 9.80%\n"
     ]
    }
   ],
   "source": [
    "#handling total income's missing values\n",
    "total_income_mis_val_num=df['total_income'].isnull().sum()\n",
    "print('Num of missing values at column total_income:',total_income_mis_val_num)\n",
    "total_income_mis_val_pct=total_income_mis_val_num/len(df)\n",
    "print('Percent of missing values at column total_income: {:.2%}'.format(total_income_mis_val_pct))"
   ]
  },
  {
   "cell_type": "code",
   "execution_count": 8,
   "metadata": {},
   "outputs": [],
   "source": [
    "#i believe that the value is missing, and not that the person has 0 income, \n",
    "#or else that person wouldn't take a loan.\n",
    "total_income_madian=round(df['total_income'].median())\n",
    "df.loc[df['total_income'].isnull(),'total_income']=total_income_madian"
   ]
  },
  {
   "cell_type": "markdown",
   "metadata": {},
   "source": [
    "### Conclusion"
   ]
  },
  {
   "cell_type": "markdown",
   "metadata": {},
   "source": [
    "2 places are having missing values, on columns:\n",
    "    days_employed, total_income\n",
    "To have minimum impact on the calculation of probabilities, I used the median value as a filler to those empty holes.\n",
    "Reasons for missing values can vary from missing information, problems on an ETL."
   ]
  },
  {
   "cell_type": "markdown",
   "metadata": {},
   "source": [
    "### Data type replacement"
   ]
  },
  {
   "cell_type": "markdown",
   "metadata": {},
   "source": [
    "In 2 columns I've changed the data type so that the report will be more readable.\n",
    "I made the change on:\n",
    "    total_income, days_employed"
   ]
  },
  {
   "cell_type": "code",
   "execution_count": 9,
   "metadata": {},
   "outputs": [],
   "source": [
    "#I transfered the days_employed to years by deviding in 365, \n",
    "#then I changed the type to integer\n",
    "df['days_employed'] = (df['days_employed']/365).astype('int')\n",
    "#then i renamed the column name to years_employed\n",
    "new_column_names=['children', 'years_employed', 'dob_years', 'education', 'education_id', 'family_status', 'family_status_id', 'gender', 'income_type', 'debt', 'total_income', 'purpose']\n",
    "df.set_axis(new_column_names, axis='columns', inplace=True)"
   ]
  },
  {
   "cell_type": "code",
   "execution_count": 10,
   "metadata": {},
   "outputs": [],
   "source": [
    "#the total_income type change to integer\n",
    "df['total_income']=df['total_income'].astype('int')"
   ]
  },
  {
   "cell_type": "markdown",
   "metadata": {},
   "source": [
    "### Conclusion"
   ]
  },
  {
   "cell_type": "markdown",
   "metadata": {},
   "source": [
    "The main reason for data change is to make the report more readable, and although there is i slight data loss, it has no impact on the final report's outcome"
   ]
  },
  {
   "cell_type": "markdown",
   "metadata": {},
   "source": [
    "### Bad values treatment"
   ]
  },
  {
   "cell_type": "markdown",
   "metadata": {},
   "source": [
    "After getting the year_employed I've noticed that there are values in years employed of over 1000 years. I decided that more than 60 years is not logical, and replaced it with the median value"
   ]
  },
  {
   "cell_type": "code",
   "execution_count": 11,
   "metadata": {},
   "outputs": [
    {
     "name": "stdout",
     "output_type": "stream",
     "text": [
      "4      932\n",
      "18    1096\n",
      "24     927\n",
      "25     996\n",
      "30     919\n",
      "Name: years_employed, dtype: int64\n"
     ]
    }
   ],
   "source": [
    "print(df.loc[df['years_employed']>60]['years_employed'].head())"
   ]
  },
  {
   "cell_type": "code",
   "execution_count": 12,
   "metadata": {},
   "outputs": [],
   "source": [
    "#replace value too big for years of employment with 0\n",
    "df.loc[df['years_employed']>60, 'years_employed']=0\n",
    "df.loc[df['years_employed']==0, 'years_employed']=median_employment_years"
   ]
  },
  {
   "cell_type": "markdown",
   "metadata": {},
   "source": [
    "Looking at the number of children I've noticed that there are 76 loaners with 20 kids. I believe that it's a typo, and should have been 2. Also, there are 47 loaners with -1 children, which probably should be 1"
   ]
  },
  {
   "cell_type": "code",
   "execution_count": 13,
   "metadata": {},
   "outputs": [
    {
     "name": "stdout",
     "output_type": "stream",
     "text": [
      " 0     14091\n",
      " 1      4808\n",
      " 2      2052\n",
      " 3       330\n",
      " 20       76\n",
      "-1        47\n",
      " 4        41\n",
      " 5         9\n",
      "Name: children, dtype: int64\n"
     ]
    }
   ],
   "source": [
    "print(df['children'].value_counts())"
   ]
  },
  {
   "cell_type": "code",
   "execution_count": 14,
   "metadata": {},
   "outputs": [
    {
     "name": "stdout",
     "output_type": "stream",
     "text": [
      "0    14091\n",
      "1     4855\n",
      "2     2128\n",
      "3      330\n",
      "4       41\n",
      "5        9\n",
      "Name: children, dtype: int64\n"
     ]
    }
   ],
   "source": [
    "df.loc[df['children']==20,'children']=2\n",
    "df['children']=df['children'].abs()\n",
    "print(df['children'].value_counts())"
   ]
  },
  {
   "cell_type": "markdown",
   "metadata": {},
   "source": [
    "### Conclusion"
   ]
  },
  {
   "cell_type": "markdown",
   "metadata": {},
   "source": [
    "After identifying that some of the values are not reasonable, I replaced them with the median value so that the statistical calculation won't be affected."
   ]
  },
  {
   "cell_type": "markdown",
   "metadata": {},
   "source": [
    "### Categorizing Data"
   ]
  },
  {
   "cell_type": "markdown",
   "metadata": {},
   "source": [
    "To categories data, I used the stemmer. First of all, I needed to see how each word comes out of the stemmer."
   ]
  },
  {
   "cell_type": "code",
   "execution_count": 15,
   "metadata": {},
   "outputs": [
    {
     "name": "stdout",
     "output_type": "stream",
     "text": [
      "english_stemmer.stem('house') hous\n",
      "english_stemmer.stem('education') educ\n",
      "english_stemmer.stem('wedding') wed\n",
      "english_stemmer.stem('estate') estat\n",
      "english_stemmer.stem('property') properti\n",
      "english_stemmer.stem('university') univers\n",
      "english_stemmer.stem('estate') estat\n"
     ]
    }
   ],
   "source": [
    "from nltk.stem import SnowballStemmer\n",
    "\n",
    "english_stemmer = SnowballStemmer('english')\n",
    "\n",
    "print(\"english_stemmer.stem('house')\",english_stemmer.stem('house'))\n",
    "print(\"english_stemmer.stem('education')\",english_stemmer.stem('education'))\n",
    "print(\"english_stemmer.stem('wedding')\",english_stemmer.stem('wedding'))\n",
    "print(\"english_stemmer.stem('estate')\",english_stemmer.stem('estate'))\n",
    "print(\"english_stemmer.stem('property')\",english_stemmer.stem('property'))\n",
    "print(\"english_stemmer.stem('university')\",english_stemmer.stem('university'))\n",
    "print(\"english_stemmer.stem('estate')\",english_stemmer.stem('estate'))"
   ]
  },
  {
   "cell_type": "markdown",
   "metadata": {},
   "source": [
    "According to the words that come out of the stemmer, I made a function to categorize the reasons for a loan.\n",
    "I ran it on column 'purpose'. I kept the new categories in a new column called 'purpose_category'"
   ]
  },
  {
   "cell_type": "code",
   "execution_count": 16,
   "metadata": {},
   "outputs": [
    {
     "name": "stdout",
     "output_type": "stream",
     "text": [
      "Empty DataFrame\n",
      "Columns: [children, years_employed, dob_years, education, education_id, family_status, family_status_id, gender, income_type, debt, total_income, purpose, purpose_category]\n",
      "Index: []\n"
     ]
    }
   ],
   "source": [
    "def categorize_purpose(purpose):\n",
    "    words=purpose.split(' ')\n",
    "    for word in words:\n",
    "        stemmed_word=english_stemmer.stem(word)\n",
    "        if stemmed_word == 'car':\n",
    "            return 'car'\n",
    "        elif stemmed_word in ['educ','univers']:\n",
    "            return 'education'\n",
    "        elif stemmed_word in ['hous','estat','properti']:\n",
    "            return 'house'\n",
    "        elif stemmed_word =='wed':\n",
    "            return 'wedding'\n",
    "    return ''\n",
    "\n",
    "df['purpose_category']=df['purpose'].apply(categorize_purpose)\n",
    "\n",
    "#checking that all purposes are categoriesed\n",
    "print(df[df['purpose_category']==''])"
   ]
  },
  {
   "cell_type": "code",
   "execution_count": 17,
   "metadata": {},
   "outputs": [
    {
     "name": "stdout",
     "output_type": "stream",
     "text": [
      "house        10811\n",
      "car           4306\n",
      "education     4013\n",
      "wedding       2324\n",
      "Name: purpose_category, dtype: int64\n"
     ]
    }
   ],
   "source": [
    "#the categories that I came up with are\n",
    "print(df['purpose_category'].value_counts())"
   ]
  },
  {
   "cell_type": "markdown",
   "metadata": {},
   "source": [
    "### Conclusion"
   ]
  },
  {
   "cell_type": "markdown",
   "metadata": {},
   "source": [
    "The most common reason for taking a loan is for housing, its size is like the other 3 categories combined."
   ]
  },
  {
   "cell_type": "markdown",
   "metadata": {},
   "source": [
    "## Answer these questions"
   ]
  },
  {
   "cell_type": "markdown",
   "metadata": {},
   "source": [
    "- Is there a relation between having kids and repaying a loan on time?"
   ]
  },
  {
   "cell_type": "code",
   "execution_count": 18,
   "metadata": {},
   "outputs": [
    {
     "data": {
      "text/html": [
       "<div>\n",
       "<style scoped>\n",
       "    .dataframe tbody tr th:only-of-type {\n",
       "        vertical-align: middle;\n",
       "    }\n",
       "\n",
       "    .dataframe tbody tr th {\n",
       "        vertical-align: top;\n",
       "    }\n",
       "\n",
       "    .dataframe thead tr th {\n",
       "        text-align: left;\n",
       "    }\n",
       "\n",
       "    .dataframe thead tr:last-of-type th {\n",
       "        text-align: right;\n",
       "    }\n",
       "</style>\n",
       "<table border=\"1\" class=\"dataframe\">\n",
       "  <thead>\n",
       "    <tr>\n",
       "      <th></th>\n",
       "      <th>sum</th>\n",
       "      <th>count</th>\n",
       "      <th>percentage</th>\n",
       "    </tr>\n",
       "    <tr>\n",
       "      <th></th>\n",
       "      <th>debt</th>\n",
       "      <th>debt</th>\n",
       "      <th></th>\n",
       "    </tr>\n",
       "    <tr>\n",
       "      <th>children</th>\n",
       "      <th></th>\n",
       "      <th></th>\n",
       "      <th></th>\n",
       "    </tr>\n",
       "  </thead>\n",
       "  <tbody>\n",
       "    <tr>\n",
       "      <td>0</td>\n",
       "      <td>1063</td>\n",
       "      <td>14091</td>\n",
       "      <td>7.543822</td>\n",
       "    </tr>\n",
       "    <tr>\n",
       "      <td>1</td>\n",
       "      <td>445</td>\n",
       "      <td>4855</td>\n",
       "      <td>9.165808</td>\n",
       "    </tr>\n",
       "    <tr>\n",
       "      <td>2</td>\n",
       "      <td>202</td>\n",
       "      <td>2128</td>\n",
       "      <td>9.492481</td>\n",
       "    </tr>\n",
       "    <tr>\n",
       "      <td>3</td>\n",
       "      <td>27</td>\n",
       "      <td>330</td>\n",
       "      <td>8.181818</td>\n",
       "    </tr>\n",
       "    <tr>\n",
       "      <td>4</td>\n",
       "      <td>4</td>\n",
       "      <td>41</td>\n",
       "      <td>9.756098</td>\n",
       "    </tr>\n",
       "    <tr>\n",
       "      <td>5</td>\n",
       "      <td>0</td>\n",
       "      <td>9</td>\n",
       "      <td>0.000000</td>\n",
       "    </tr>\n",
       "  </tbody>\n",
       "</table>\n",
       "</div>"
      ],
      "text/plain": [
       "           sum  count percentage\n",
       "          debt   debt           \n",
       "children                        \n",
       "0         1063  14091   7.543822\n",
       "1          445   4855   9.165808\n",
       "2          202   2128   9.492481\n",
       "3           27    330   8.181818\n",
       "4            4     41   9.756098\n",
       "5            0      9   0.000000"
      ]
     },
     "execution_count": 18,
     "metadata": {},
     "output_type": "execute_result"
    }
   ],
   "source": [
    "df_pivot = df.pivot_table(\n",
    "    index='children', values='debt', aggfunc=['sum','count'])\n",
    "df_pivot['percentage']=(df_pivot['sum']['debt']/df_pivot['count']['debt']*100)\n",
    "df_pivot"
   ]
  },
  {
   "cell_type": "markdown",
   "metadata": {},
   "source": [
    "### Conclusion"
   ]
  },
  {
   "cell_type": "markdown",
   "metadata": {},
   "source": [
    "After looking on the percent of defaulting loaners per child, I can see that the default rate is nearly the same for loaners with children, no metter how many children there are. On the other hand, loaners without kids has higher return rate."
   ]
  },
  {
   "cell_type": "markdown",
   "metadata": {},
   "source": [
    "- Is there a relation between marital status and repaying a loan on time?"
   ]
  },
  {
   "cell_type": "code",
   "execution_count": 19,
   "metadata": {},
   "outputs": [
    {
     "data": {
      "text/html": [
       "<div>\n",
       "<style scoped>\n",
       "    .dataframe tbody tr th:only-of-type {\n",
       "        vertical-align: middle;\n",
       "    }\n",
       "\n",
       "    .dataframe tbody tr th {\n",
       "        vertical-align: top;\n",
       "    }\n",
       "\n",
       "    .dataframe thead tr th {\n",
       "        text-align: left;\n",
       "    }\n",
       "\n",
       "    .dataframe thead tr:last-of-type th {\n",
       "        text-align: right;\n",
       "    }\n",
       "</style>\n",
       "<table border=\"1\" class=\"dataframe\">\n",
       "  <thead>\n",
       "    <tr>\n",
       "      <th></th>\n",
       "      <th>sum</th>\n",
       "      <th>count</th>\n",
       "      <th>percentage</th>\n",
       "    </tr>\n",
       "    <tr>\n",
       "      <th></th>\n",
       "      <th>debt</th>\n",
       "      <th>debt</th>\n",
       "      <th></th>\n",
       "    </tr>\n",
       "    <tr>\n",
       "      <th>family_status</th>\n",
       "      <th></th>\n",
       "      <th></th>\n",
       "      <th></th>\n",
       "    </tr>\n",
       "  </thead>\n",
       "  <tbody>\n",
       "    <tr>\n",
       "      <td>civil partnership</td>\n",
       "      <td>388</td>\n",
       "      <td>4151</td>\n",
       "      <td>9.347145</td>\n",
       "    </tr>\n",
       "    <tr>\n",
       "      <td>divorced</td>\n",
       "      <td>85</td>\n",
       "      <td>1195</td>\n",
       "      <td>7.112971</td>\n",
       "    </tr>\n",
       "    <tr>\n",
       "      <td>married</td>\n",
       "      <td>931</td>\n",
       "      <td>12339</td>\n",
       "      <td>7.545182</td>\n",
       "    </tr>\n",
       "    <tr>\n",
       "      <td>unmarried</td>\n",
       "      <td>274</td>\n",
       "      <td>2810</td>\n",
       "      <td>9.750890</td>\n",
       "    </tr>\n",
       "    <tr>\n",
       "      <td>widow / widower</td>\n",
       "      <td>63</td>\n",
       "      <td>959</td>\n",
       "      <td>6.569343</td>\n",
       "    </tr>\n",
       "  </tbody>\n",
       "</table>\n",
       "</div>"
      ],
      "text/plain": [
       "                   sum  count percentage\n",
       "                  debt   debt           \n",
       "family_status                           \n",
       "civil partnership  388   4151   9.347145\n",
       "divorced            85   1195   7.112971\n",
       "married            931  12339   7.545182\n",
       "unmarried          274   2810   9.750890\n",
       "widow / widower     63    959   6.569343"
      ]
     },
     "execution_count": 19,
     "metadata": {},
     "output_type": "execute_result"
    }
   ],
   "source": [
    "df_pivot = df.pivot_table(\n",
    "    index='family_status', values='debt', aggfunc=['sum','count'])\n",
    "\n",
    "df_pivot['percentage']=(df_pivot['sum']['debt']/df_pivot['count']['debt']*100)\n",
    "df_pivot"
   ]
  },
  {
   "cell_type": "markdown",
   "metadata": {},
   "source": [
    "### Conclusion"
   ]
  },
  {
   "cell_type": "markdown",
   "metadata": {},
   "source": [
    "Those who made a commitment, and got married, had a lower loan defaulting rate"
   ]
  },
  {
   "cell_type": "markdown",
   "metadata": {},
   "source": [
    "- Is there a relation between income level and repaying a loan on time?"
   ]
  },
  {
   "cell_type": "markdown",
   "metadata": {},
   "source": [
    "To achieve that goal, I'll categorize the income levels into 5 levels: low, below average, average, above average, high"
   ]
  },
  {
   "cell_type": "code",
   "execution_count": 20,
   "metadata": {},
   "outputs": [
    {
     "name": "stdout",
     "output_type": "stream",
     "text": [
      "The total income mean value is: 26435.747413069825\n",
      "The total income median value is: 23203.0\n"
     ]
    }
   ],
   "source": [
    "#checking the mean & median values for total income column, according to it, I'll make the total income groups\n",
    "print('The total income mean value is:',df['total_income'].mean())\n",
    "print('The total income median value is:',df['total_income'].median())"
   ]
  },
  {
   "cell_type": "code",
   "execution_count": 21,
   "metadata": {},
   "outputs": [
    {
     "data": {
      "text/plain": [
       "average          8166\n",
       "below average    6443\n",
       "above average    4599\n",
       "high             1320\n",
       "low               926\n",
       "Name: total_income_category, dtype: int64"
      ]
     },
     "execution_count": 21,
     "metadata": {},
     "output_type": "execute_result"
    }
   ],
   "source": [
    "df.sort_values(by=['total_income'], ascending=False)\n",
    "\n",
    "def categorize_total_income(total_income):\n",
    "    if total_income < 10000:\n",
    "        return 'low'\n",
    "    elif total_income < 20000:\n",
    "        return 'below average'\n",
    "    elif total_income < 30000:\n",
    "        return 'average'\n",
    "    elif total_income < 50000:\n",
    "        return 'above average'\n",
    "    else:\n",
    "        return 'high'\n",
    "\n",
    "df['total_income_category']=df['total_income'].apply(categorize_total_income)\n",
    "\n",
    "#checking how many loaners are in each group\n",
    "df['total_income_category'].value_counts()"
   ]
  },
  {
   "cell_type": "code",
   "execution_count": 22,
   "metadata": {},
   "outputs": [
    {
     "data": {
      "text/html": [
       "<div>\n",
       "<style scoped>\n",
       "    .dataframe tbody tr th:only-of-type {\n",
       "        vertical-align: middle;\n",
       "    }\n",
       "\n",
       "    .dataframe tbody tr th {\n",
       "        vertical-align: top;\n",
       "    }\n",
       "\n",
       "    .dataframe thead tr th {\n",
       "        text-align: left;\n",
       "    }\n",
       "\n",
       "    .dataframe thead tr:last-of-type th {\n",
       "        text-align: right;\n",
       "    }\n",
       "</style>\n",
       "<table border=\"1\" class=\"dataframe\">\n",
       "  <thead>\n",
       "    <tr>\n",
       "      <th></th>\n",
       "      <th>sum</th>\n",
       "      <th>count</th>\n",
       "      <th>percentage</th>\n",
       "    </tr>\n",
       "    <tr>\n",
       "      <th></th>\n",
       "      <th>debt</th>\n",
       "      <th>debt</th>\n",
       "      <th></th>\n",
       "    </tr>\n",
       "    <tr>\n",
       "      <th>total_income_category</th>\n",
       "      <th></th>\n",
       "      <th></th>\n",
       "      <th></th>\n",
       "    </tr>\n",
       "  </thead>\n",
       "  <tbody>\n",
       "    <tr>\n",
       "      <td>above average</td>\n",
       "      <td>344</td>\n",
       "      <td>4599</td>\n",
       "      <td>7.479887</td>\n",
       "    </tr>\n",
       "    <tr>\n",
       "      <td>average</td>\n",
       "      <td>697</td>\n",
       "      <td>8166</td>\n",
       "      <td>8.535391</td>\n",
       "    </tr>\n",
       "    <tr>\n",
       "      <td>below average</td>\n",
       "      <td>550</td>\n",
       "      <td>6443</td>\n",
       "      <td>8.536396</td>\n",
       "    </tr>\n",
       "    <tr>\n",
       "      <td>high</td>\n",
       "      <td>92</td>\n",
       "      <td>1320</td>\n",
       "      <td>6.969697</td>\n",
       "    </tr>\n",
       "    <tr>\n",
       "      <td>low</td>\n",
       "      <td>58</td>\n",
       "      <td>926</td>\n",
       "      <td>6.263499</td>\n",
       "    </tr>\n",
       "  </tbody>\n",
       "</table>\n",
       "</div>"
      ],
      "text/plain": [
       "                       sum count percentage\n",
       "                      debt  debt           \n",
       "total_income_category                      \n",
       "above average          344  4599   7.479887\n",
       "average                697  8166   8.535391\n",
       "below average          550  6443   8.536396\n",
       "high                    92  1320   6.969697\n",
       "low                     58   926   6.263499"
      ]
     },
     "execution_count": 22,
     "metadata": {},
     "output_type": "execute_result"
    }
   ],
   "source": [
    "df_pivot = df.pivot_table(\n",
    "    index='total_income_category', values='debt', aggfunc=['sum','count'])\n",
    "\n",
    "df_pivot['percentage']=(df_pivot['sum']['debt']/df_pivot['count']['debt']*100)\n",
    "df_pivot"
   ]
  },
  {
   "cell_type": "markdown",
   "metadata": {},
   "source": [
    "### Conclusion"
   ]
  },
  {
   "cell_type": "markdown",
   "metadata": {},
   "source": [
    "Most people are in the average and below-average categories, and they have a higher default rate. The low-income group, which seems to be the most dangerous, has the lowest defaulting rates"
   ]
  },
  {
   "cell_type": "markdown",
   "metadata": {},
   "source": [
    "- How do different loan purposes affect on-time repayment of the loan?"
   ]
  },
  {
   "cell_type": "code",
   "execution_count": 31,
   "metadata": {},
   "outputs": [
    {
     "data": {
      "text/html": [
       "<div>\n",
       "<style scoped>\n",
       "    .dataframe tbody tr th:only-of-type {\n",
       "        vertical-align: middle;\n",
       "    }\n",
       "\n",
       "    .dataframe tbody tr th {\n",
       "        vertical-align: top;\n",
       "    }\n",
       "\n",
       "    .dataframe thead tr th {\n",
       "        text-align: left;\n",
       "    }\n",
       "\n",
       "    .dataframe thead tr:last-of-type th {\n",
       "        text-align: right;\n",
       "    }\n",
       "</style>\n",
       "<table border=\"1\" class=\"dataframe\">\n",
       "  <thead>\n",
       "    <tr>\n",
       "      <th></th>\n",
       "      <th>sum</th>\n",
       "      <th>count</th>\n",
       "      <th>default_rate</th>\n",
       "    </tr>\n",
       "    <tr>\n",
       "      <th></th>\n",
       "      <th>debt</th>\n",
       "      <th>debt</th>\n",
       "      <th></th>\n",
       "    </tr>\n",
       "    <tr>\n",
       "      <th>purpose_category</th>\n",
       "      <th></th>\n",
       "      <th></th>\n",
       "      <th></th>\n",
       "    </tr>\n",
       "  </thead>\n",
       "  <tbody>\n",
       "    <tr>\n",
       "      <td>car</td>\n",
       "      <td>403</td>\n",
       "      <td>4306</td>\n",
       "      <td>9.359034</td>\n",
       "    </tr>\n",
       "    <tr>\n",
       "      <td>education</td>\n",
       "      <td>370</td>\n",
       "      <td>4013</td>\n",
       "      <td>9.220035</td>\n",
       "    </tr>\n",
       "    <tr>\n",
       "      <td>house</td>\n",
       "      <td>782</td>\n",
       "      <td>10811</td>\n",
       "      <td>7.233373</td>\n",
       "    </tr>\n",
       "    <tr>\n",
       "      <td>wedding</td>\n",
       "      <td>186</td>\n",
       "      <td>2324</td>\n",
       "      <td>8.003442</td>\n",
       "    </tr>\n",
       "  </tbody>\n",
       "</table>\n",
       "</div>"
      ],
      "text/plain": [
       "                  sum  count default_rate\n",
       "                 debt   debt             \n",
       "purpose_category                         \n",
       "car               403   4306     9.359034\n",
       "education         370   4013     9.220035\n",
       "house             782  10811     7.233373\n",
       "wedding           186   2324     8.003442"
      ]
     },
     "execution_count": 31,
     "metadata": {},
     "output_type": "execute_result"
    }
   ],
   "source": [
    "df_pivot=df.pivot_table(index='purpose_category',values='debt', aggfunc=['sum','count'])\n",
    "df_pivot['default_rate']=(df_pivot['sum']['debt']/df_pivot['count']['debt']*100)\n",
    "df_pivot"
   ]
  },
  {
   "cell_type": "markdown",
   "metadata": {},
   "source": [
    "### Conclusion"
   ]
  },
  {
   "cell_type": "markdown",
   "metadata": {},
   "source": [
    "Grouping by the purpose category shows that loans for housing are the safest, riskier are loans for weddings, and the loans with the highest risk are loans for buying cars or education."
   ]
  },
  {
   "cell_type": "markdown",
   "metadata": {},
   "source": [
    "## General conclusion"
   ]
  },
  {
   "cell_type": "markdown",
   "metadata": {},
   "source": [
    "Although I got data that is not that neat and clean, I managed to draw conclusions out of it. To save time and get better results, it is advised to ask the developers to fix those issues"
   ]
  },
  {
   "cell_type": "markdown",
   "metadata": {},
   "source": [
    "## Project Readiness Checklist\n",
    "\n",
    "Put 'x' in the completed points. Then press Shift + Enter.\n",
    "- [x]  file open;\n",
    "- [x]  file examined;\n",
    "- [x]  missing values defined;\n",
    "- [x]  missing values are filled;\n",
    "- [x]  an explanation of which missing value types were detected;\n",
    "- [x]  explanation for the possible causes of missing values;\n",
    "- [x]  an explanation of how the blanks are filled;\n",
    "- [x]  replaced the real data type with an integer;\n",
    "- [x]  an explanation of which method is used to change the data type and why;\n",
    "- [x]  duplicates deleted;\n",
    "- [x]  an explanation of which method is used to find and remove duplicates;\n",
    "- [x]  description of the possible reasons for the appearance of duplicates in the data;\n",
    "- [x]  data is categorized;\n",
    "- [x]  an explanation of the principle of data categorization;\n",
    "- [x]  an answer to the question \"Is there a relation between having kids and repaying a loan on time?\";\n",
    "- [x]  an answer to the question \" Is there a relation between marital status and repaying a loan on time?\";\n",
    "- [x]   an answer to the question \" Is there a relation between income level and repaying a loan on time?\";\n",
    "- [x]  an answer to the question \" How do different loan purposes affect on-time repayment of the loan?\"\n",
    "- [x]  conclusions are present on each stage;\n",
    "- [x]  a general conclusion is made."
   ]
  },
  {
   "cell_type": "code",
   "execution_count": null,
   "metadata": {},
   "outputs": [],
   "source": []
  }
 ],
 "metadata": {
  "ExecuteTimeLog": [
   {
    "duration": 811,
    "start_time": "2021-06-21T19:46:24.370Z"
   },
   {
    "duration": 1327,
    "start_time": "2021-06-21T19:59:35.907Z"
   },
   {
    "duration": 222,
    "start_time": "2021-06-22T15:25:01.763Z"
   },
   {
    "duration": 35,
    "start_time": "2021-06-22T15:33:47.224Z"
   },
   {
    "duration": 333,
    "start_time": "2021-06-22T15:34:06.245Z"
   },
   {
    "duration": 279,
    "start_time": "2021-06-22T15:34:14.953Z"
   },
   {
    "duration": 7,
    "start_time": "2021-06-22T15:34:32.109Z"
   },
   {
    "duration": 8,
    "start_time": "2021-06-22T15:36:33.371Z"
   },
   {
    "duration": 4,
    "start_time": "2021-06-22T15:37:07.342Z"
   },
   {
    "duration": 8,
    "start_time": "2021-06-22T15:37:14.261Z"
   },
   {
    "duration": 283,
    "start_time": "2021-06-22T15:57:48.761Z"
   },
   {
    "duration": 36,
    "start_time": "2021-06-22T15:59:38.453Z"
   },
   {
    "duration": 34,
    "start_time": "2021-06-22T15:59:55.479Z"
   },
   {
    "duration": 35,
    "start_time": "2021-06-22T16:49:00.792Z"
   },
   {
    "duration": -997,
    "start_time": "2021-06-22T16:49:38.843Z"
   },
   {
    "duration": 6844,
    "start_time": "2021-06-22T16:49:43.264Z"
   },
   {
    "duration": 7659,
    "start_time": "2021-06-22T16:50:04.045Z"
   },
   {
    "duration": 6720,
    "start_time": "2021-06-22T16:50:24.633Z"
   },
   {
    "duration": 7329,
    "start_time": "2021-06-22T16:51:18.029Z"
   },
   {
    "duration": 6932,
    "start_time": "2021-06-22T16:52:43.189Z"
   },
   {
    "duration": 3,
    "start_time": "2021-06-22T19:52:56.892Z"
   },
   {
    "duration": 8935,
    "start_time": "2021-06-22T19:54:38.461Z"
   },
   {
    "duration": 7489,
    "start_time": "2021-06-22T19:55:09.937Z"
   },
   {
    "duration": 7524,
    "start_time": "2021-06-22T19:55:52.214Z"
   },
   {
    "duration": 238,
    "start_time": "2021-06-22T19:56:06.626Z"
   },
   {
    "duration": 4,
    "start_time": "2021-06-22T19:56:11.723Z"
   },
   {
    "duration": 40,
    "start_time": "2021-06-22T19:56:20.903Z"
   },
   {
    "duration": 7738,
    "start_time": "2021-06-22T19:56:57.452Z"
   },
   {
    "duration": 6603,
    "start_time": "2021-06-22T19:59:21.499Z"
   },
   {
    "duration": 4,
    "start_time": "2021-06-22T20:54:00.278Z"
   },
   {
    "duration": 6854,
    "start_time": "2021-06-22T20:54:05.714Z"
   },
   {
    "duration": 7250,
    "start_time": "2021-06-22T20:56:07.613Z"
   },
   {
    "duration": 38,
    "start_time": "2021-06-22T21:27:36.221Z"
   },
   {
    "duration": 6995,
    "start_time": "2021-06-22T21:28:03.663Z"
   },
   {
    "duration": 6518,
    "start_time": "2021-06-22T21:28:22.191Z"
   },
   {
    "duration": 39,
    "start_time": "2021-06-22T21:28:33.937Z"
   },
   {
    "duration": 40,
    "start_time": "2021-06-22T21:29:18.400Z"
   },
   {
    "duration": 265,
    "start_time": "2021-06-22T21:49:16.231Z"
   },
   {
    "duration": 41,
    "start_time": "2021-06-22T21:51:59.420Z"
   },
   {
    "duration": 8,
    "start_time": "2021-06-22T22:29:21.450Z"
   },
   {
    "duration": 46,
    "start_time": "2021-06-22T22:40:33.624Z"
   },
   {
    "duration": 283,
    "start_time": "2021-06-22T22:40:50.288Z"
   },
   {
    "duration": 46,
    "start_time": "2021-06-22T22:41:14.824Z"
   },
   {
    "duration": 6611,
    "start_time": "2021-06-22T22:57:54.477Z"
   },
   {
    "duration": 302,
    "start_time": "2021-06-23T13:51:15.285Z"
   },
   {
    "duration": 984,
    "start_time": "2021-06-23T13:52:36.657Z"
   },
   {
    "duration": 256,
    "start_time": "2021-06-23T13:52:48.479Z"
   },
   {
    "duration": 251,
    "start_time": "2021-06-23T13:53:18.839Z"
   },
   {
    "duration": 283,
    "start_time": "2021-06-23T13:54:04.913Z"
   },
   {
    "duration": 351,
    "start_time": "2021-06-23T16:47:27.460Z"
   },
   {
    "duration": 289,
    "start_time": "2021-06-23T16:50:12.329Z"
   },
   {
    "duration": 83,
    "start_time": "2021-06-23T16:50:54.242Z"
   },
   {
    "duration": 549,
    "start_time": "2021-06-23T16:51:14.462Z"
   },
   {
    "duration": 9,
    "start_time": "2021-06-23T20:40:01.279Z"
   },
   {
    "duration": 13,
    "start_time": "2021-06-23T20:40:04.622Z"
   },
   {
    "duration": 11,
    "start_time": "2021-06-23T20:40:11.182Z"
   },
   {
    "duration": 10,
    "start_time": "2021-06-23T20:40:13.688Z"
   },
   {
    "duration": 16,
    "start_time": "2021-06-23T20:40:33.038Z"
   },
   {
    "duration": 67,
    "start_time": "2021-06-23T20:41:27.830Z"
   },
   {
    "duration": 61,
    "start_time": "2021-06-23T20:41:51.769Z"
   },
   {
    "duration": 49,
    "start_time": "2021-06-23T20:43:14.076Z"
   },
   {
    "duration": 11,
    "start_time": "2021-06-23T20:44:03.756Z"
   },
   {
    "duration": 212,
    "start_time": "2021-06-23T20:44:20.760Z"
   },
   {
    "duration": 11,
    "start_time": "2021-06-23T20:44:53.397Z"
   },
   {
    "duration": 6,
    "start_time": "2021-06-23T20:45:11.028Z"
   },
   {
    "duration": 5,
    "start_time": "2021-06-23T20:45:20.633Z"
   },
   {
    "duration": 6,
    "start_time": "2021-06-23T20:45:39.907Z"
   },
   {
    "duration": 956,
    "start_time": "2021-06-23T20:48:06.193Z"
   },
   {
    "duration": 237,
    "start_time": "2021-06-23T20:48:17.126Z"
   },
   {
    "duration": 7,
    "start_time": "2021-06-23T20:48:29.023Z"
   },
   {
    "duration": 51,
    "start_time": "2021-06-23T20:48:39.556Z"
   },
   {
    "duration": 38,
    "start_time": "2021-06-23T20:49:01.880Z"
   },
   {
    "duration": 4,
    "start_time": "2021-06-23T20:49:26.532Z"
   },
   {
    "duration": 5,
    "start_time": "2021-06-23T20:49:34.388Z"
   },
   {
    "duration": 6,
    "start_time": "2021-06-23T20:50:34.733Z"
   },
   {
    "duration": 3,
    "start_time": "2021-06-23T20:51:04.772Z"
   },
   {
    "duration": 218,
    "start_time": "2021-06-23T20:51:22.920Z"
   },
   {
    "duration": 202,
    "start_time": "2021-06-23T20:51:35.483Z"
   },
   {
    "duration": 4,
    "start_time": "2021-06-23T20:51:35.687Z"
   },
   {
    "duration": 6,
    "start_time": "2021-06-23T20:51:35.694Z"
   },
   {
    "duration": 12,
    "start_time": "2021-06-23T20:51:35.702Z"
   },
   {
    "duration": 68,
    "start_time": "2021-06-23T20:51:35.716Z"
   },
   {
    "duration": 20,
    "start_time": "2021-06-23T20:51:35.787Z"
   },
   {
    "duration": 10,
    "start_time": "2021-06-23T20:51:35.810Z"
   },
   {
    "duration": 6,
    "start_time": "2021-06-23T20:51:35.859Z"
   },
   {
    "duration": 8,
    "start_time": "2021-06-23T20:51:35.868Z"
   },
   {
    "duration": 8,
    "start_time": "2021-06-23T20:51:35.879Z"
   },
   {
    "duration": 5,
    "start_time": "2021-06-23T20:52:31.236Z"
   },
   {
    "duration": 6,
    "start_time": "2021-06-23T20:52:35.890Z"
   },
   {
    "duration": 6,
    "start_time": "2021-06-23T20:52:38.353Z"
   },
   {
    "duration": 38,
    "start_time": "2021-06-23T20:53:03.303Z"
   },
   {
    "duration": 904,
    "start_time": "2021-06-23T20:54:19.211Z"
   },
   {
    "duration": 6,
    "start_time": "2021-06-23T20:54:20.118Z"
   },
   {
    "duration": 10,
    "start_time": "2021-06-23T20:54:20.127Z"
   },
   {
    "duration": 10,
    "start_time": "2021-06-23T20:54:20.140Z"
   },
   {
    "duration": 27,
    "start_time": "2021-06-23T20:54:20.152Z"
   },
   {
    "duration": 24,
    "start_time": "2021-06-23T20:54:20.182Z"
   },
   {
    "duration": 50,
    "start_time": "2021-06-23T20:54:20.208Z"
   },
   {
    "duration": 8,
    "start_time": "2021-06-23T20:54:20.261Z"
   },
   {
    "duration": 5,
    "start_time": "2021-06-23T20:54:20.271Z"
   },
   {
    "duration": 6,
    "start_time": "2021-06-23T20:54:20.278Z"
   },
   {
    "duration": 6,
    "start_time": "2021-06-23T20:54:20.286Z"
   },
   {
    "duration": 14,
    "start_time": "2021-06-23T20:57:38.368Z"
   },
   {
    "duration": 966,
    "start_time": "2021-06-23T20:57:52.276Z"
   },
   {
    "duration": 28,
    "start_time": "2021-06-23T20:57:53.246Z"
   },
   {
    "duration": 22,
    "start_time": "2021-06-23T20:57:53.278Z"
   },
   {
    "duration": 14,
    "start_time": "2021-06-23T20:57:53.303Z"
   },
   {
    "duration": 48,
    "start_time": "2021-06-23T20:57:53.319Z"
   },
   {
    "duration": 8,
    "start_time": "2021-06-23T20:57:53.370Z"
   },
   {
    "duration": 6,
    "start_time": "2021-06-23T20:57:53.380Z"
   },
   {
    "duration": 10,
    "start_time": "2021-06-23T20:57:53.388Z"
   },
   {
    "duration": 9,
    "start_time": "2021-06-23T20:57:53.400Z"
   },
   {
    "duration": 250,
    "start_time": "2021-06-23T21:13:53.578Z"
   },
   {
    "duration": 345,
    "start_time": "2021-06-23T21:39:33.816Z"
   },
   {
    "duration": 953,
    "start_time": "2021-06-23T21:40:06.011Z"
   },
   {
    "duration": 22,
    "start_time": "2021-06-23T21:40:06.966Z"
   },
   {
    "duration": 35,
    "start_time": "2021-06-23T21:40:06.991Z"
   },
   {
    "duration": 29,
    "start_time": "2021-06-23T21:40:07.029Z"
   },
   {
    "duration": 11,
    "start_time": "2021-06-23T21:40:07.060Z"
   },
   {
    "duration": 6,
    "start_time": "2021-06-23T21:40:07.073Z"
   },
   {
    "duration": 11,
    "start_time": "2021-06-23T21:40:07.081Z"
   },
   {
    "duration": 69,
    "start_time": "2021-06-23T21:40:07.095Z"
   },
   {
    "duration": 6,
    "start_time": "2021-06-23T21:40:07.167Z"
   },
   {
    "duration": 7,
    "start_time": "2021-06-23T21:40:07.176Z"
   },
   {
    "duration": 7280,
    "start_time": "2021-06-23T21:40:34.234Z"
   },
   {
    "duration": 962,
    "start_time": "2021-06-23T21:40:52.979Z"
   },
   {
    "duration": 22,
    "start_time": "2021-06-23T21:40:53.944Z"
   },
   {
    "duration": 36,
    "start_time": "2021-06-23T21:40:53.969Z"
   },
   {
    "duration": 6,
    "start_time": "2021-06-23T21:40:54.008Z"
   },
   {
    "duration": 46,
    "start_time": "2021-06-23T21:40:54.016Z"
   },
   {
    "duration": 6,
    "start_time": "2021-06-23T21:40:54.065Z"
   },
   {
    "duration": 9,
    "start_time": "2021-06-23T21:40:54.073Z"
   },
   {
    "duration": 13,
    "start_time": "2021-06-23T21:40:54.085Z"
   },
   {
    "duration": 4,
    "start_time": "2021-06-23T21:40:54.101Z"
   },
   {
    "duration": 6,
    "start_time": "2021-06-23T21:40:54.156Z"
   },
   {
    "duration": 251,
    "start_time": "2021-06-24T05:38:52.189Z"
   },
   {
    "duration": 23,
    "start_time": "2021-06-24T05:38:52.443Z"
   },
   {
    "duration": 39,
    "start_time": "2021-06-24T05:38:52.469Z"
   },
   {
    "duration": 5,
    "start_time": "2021-06-24T05:38:52.511Z"
   },
   {
    "duration": 41,
    "start_time": "2021-06-24T05:38:52.519Z"
   },
   {
    "duration": 6,
    "start_time": "2021-06-24T05:38:52.562Z"
   },
   {
    "duration": 9,
    "start_time": "2021-06-24T05:38:52.571Z"
   },
   {
    "duration": 8,
    "start_time": "2021-06-24T05:38:52.583Z"
   },
   {
    "duration": 7,
    "start_time": "2021-06-24T05:38:52.593Z"
   },
   {
    "duration": 947,
    "start_time": "2021-06-24T15:12:37.890Z"
   },
   {
    "duration": 31,
    "start_time": "2021-06-24T15:12:38.840Z"
   },
   {
    "duration": 41,
    "start_time": "2021-06-24T15:12:38.877Z"
   },
   {
    "duration": 36,
    "start_time": "2021-06-24T15:12:38.921Z"
   },
   {
    "duration": 11,
    "start_time": "2021-06-24T15:12:38.960Z"
   },
   {
    "duration": 6,
    "start_time": "2021-06-24T15:12:38.973Z"
   },
   {
    "duration": 8,
    "start_time": "2021-06-24T15:12:38.982Z"
   },
   {
    "duration": 12,
    "start_time": "2021-06-24T15:12:38.993Z"
   },
   {
    "duration": 5,
    "start_time": "2021-06-24T15:12:39.057Z"
   },
   {
    "duration": 6386,
    "start_time": "2021-06-24T15:12:39.065Z"
   },
   {
    "duration": -577,
    "start_time": "2021-06-24T15:12:46.031Z"
   },
   {
    "duration": 1136,
    "start_time": "2021-06-24T15:20:25.053Z"
   },
   {
    "duration": 22,
    "start_time": "2021-06-24T15:20:26.192Z"
   },
   {
    "duration": 66,
    "start_time": "2021-06-24T15:20:26.217Z"
   },
   {
    "duration": 5,
    "start_time": "2021-06-24T15:20:26.285Z"
   },
   {
    "duration": 10,
    "start_time": "2021-06-24T15:20:26.292Z"
   },
   {
    "duration": 7,
    "start_time": "2021-06-24T15:20:26.304Z"
   },
   {
    "duration": 45,
    "start_time": "2021-06-24T15:20:26.315Z"
   },
   {
    "duration": 13,
    "start_time": "2021-06-24T15:20:26.362Z"
   },
   {
    "duration": 5,
    "start_time": "2021-06-24T15:20:26.377Z"
   },
   {
    "duration": 15,
    "start_time": "2021-06-24T15:20:26.384Z"
   },
   {
    "duration": 113,
    "start_time": "2021-06-24T15:20:26.402Z"
   },
   {
    "duration": 795,
    "start_time": "2021-06-24T15:25:48.882Z"
   },
   {
    "duration": 87,
    "start_time": "2021-06-24T15:45:02.380Z"
   },
   {
    "duration": 1667,
    "start_time": "2021-06-24T15:45:10.109Z"
   },
   {
    "duration": 1004,
    "start_time": "2021-06-24T15:45:57.042Z"
   },
   {
    "duration": 24,
    "start_time": "2021-06-24T15:45:58.049Z"
   },
   {
    "duration": 39,
    "start_time": "2021-06-24T15:45:58.076Z"
   },
   {
    "duration": 5,
    "start_time": "2021-06-24T15:45:58.118Z"
   },
   {
    "duration": 10,
    "start_time": "2021-06-24T15:45:58.157Z"
   },
   {
    "duration": 6,
    "start_time": "2021-06-24T15:45:58.169Z"
   },
   {
    "duration": 9,
    "start_time": "2021-06-24T15:45:58.177Z"
   },
   {
    "duration": 12,
    "start_time": "2021-06-24T15:45:58.190Z"
   },
   {
    "duration": 53,
    "start_time": "2021-06-24T15:45:58.205Z"
   },
   {
    "duration": 20,
    "start_time": "2021-06-24T15:45:58.261Z"
   },
   {
    "duration": 1848,
    "start_time": "2021-06-24T15:45:58.284Z"
   },
   {
    "duration": 1110,
    "start_time": "2021-06-24T15:48:38.301Z"
   },
   {
    "duration": 432,
    "start_time": "2021-06-24T16:29:07.735Z"
   },
   {
    "duration": 123,
    "start_time": "2021-06-24T16:30:10.013Z"
   },
   {
    "duration": 413,
    "start_time": "2021-06-24T16:30:17.670Z"
   },
   {
    "duration": 412,
    "start_time": "2021-06-24T16:35:37.555Z"
   },
   {
    "duration": 526,
    "start_time": "2021-06-24T18:54:42.249Z"
   },
   {
    "duration": 706,
    "start_time": "2021-06-24T18:54:48.019Z"
   },
   {
    "duration": 1111,
    "start_time": "2021-06-24T19:39:30.028Z"
   },
   {
    "duration": 1139,
    "start_time": "2021-06-24T19:47:49.150Z"
   },
   {
    "duration": 1091,
    "start_time": "2021-06-24T19:53:41.198Z"
   },
   {
    "duration": 1078,
    "start_time": "2021-06-24T19:54:05.881Z"
   },
   {
    "duration": 1175,
    "start_time": "2021-06-24T19:54:16.603Z"
   },
   {
    "duration": 1308,
    "start_time": "2021-06-24T19:54:57.187Z"
   },
   {
    "duration": 1341,
    "start_time": "2021-06-24T19:55:14.950Z"
   },
   {
    "duration": 1052,
    "start_time": "2021-06-24T19:56:34.171Z"
   },
   {
    "duration": 1037,
    "start_time": "2021-06-24T19:56:50.780Z"
   },
   {
    "duration": 1059,
    "start_time": "2021-06-24T19:57:42.090Z"
   },
   {
    "duration": 1534,
    "start_time": "2021-06-24T19:58:20.376Z"
   },
   {
    "duration": 1727,
    "start_time": "2021-06-24T19:59:19.900Z"
   },
   {
    "duration": 1510,
    "start_time": "2021-06-24T19:59:31.629Z"
   },
   {
    "duration": 1093,
    "start_time": "2021-06-24T19:59:51.036Z"
   },
   {
    "duration": 1634,
    "start_time": "2021-06-24T20:00:14.478Z"
   },
   {
    "duration": 9,
    "start_time": "2021-06-24T20:10:55.464Z"
   },
   {
    "duration": 995,
    "start_time": "2021-06-24T20:15:24.922Z"
   },
   {
    "duration": 1246,
    "start_time": "2021-06-24T20:15:51.460Z"
   },
   {
    "duration": 12,
    "start_time": "2021-06-24T20:16:49.374Z"
   },
   {
    "duration": 7,
    "start_time": "2021-06-24T20:35:46.258Z"
   },
   {
    "duration": 11,
    "start_time": "2021-06-24T20:36:01.830Z"
   },
   {
    "duration": 947,
    "start_time": "2021-06-24T20:37:14.182Z"
   },
   {
    "duration": 35,
    "start_time": "2021-06-24T20:37:15.131Z"
   },
   {
    "duration": 35,
    "start_time": "2021-06-24T20:37:15.169Z"
   },
   {
    "duration": 5,
    "start_time": "2021-06-24T20:37:15.207Z"
   },
   {
    "duration": 10,
    "start_time": "2021-06-24T20:37:15.257Z"
   },
   {
    "duration": 7,
    "start_time": "2021-06-24T20:37:15.269Z"
   },
   {
    "duration": 10,
    "start_time": "2021-06-24T20:37:15.278Z"
   },
   {
    "duration": 65,
    "start_time": "2021-06-24T20:37:15.292Z"
   },
   {
    "duration": 5,
    "start_time": "2021-06-24T20:37:15.360Z"
   },
   {
    "duration": 35,
    "start_time": "2021-06-24T20:37:15.367Z"
   },
   {
    "duration": 13,
    "start_time": "2021-06-24T20:37:15.457Z"
   },
   {
    "duration": 7,
    "start_time": "2021-06-24T20:37:15.472Z"
   },
   {
    "duration": 821,
    "start_time": "2021-06-24T20:37:15.481Z"
   },
   {
    "duration": 1282,
    "start_time": "2021-06-24T20:37:16.305Z"
   },
   {
    "duration": 10,
    "start_time": "2021-06-24T20:37:17.591Z"
   },
   {
    "duration": 7,
    "start_time": "2021-06-24T20:42:29.698Z"
   },
   {
    "duration": 1011,
    "start_time": "2021-06-24T20:42:46.275Z"
   },
   {
    "duration": 27,
    "start_time": "2021-06-24T20:42:47.290Z"
   },
   {
    "duration": 75,
    "start_time": "2021-06-24T20:42:47.324Z"
   },
   {
    "duration": 4,
    "start_time": "2021-06-24T20:42:47.402Z"
   },
   {
    "duration": 55,
    "start_time": "2021-06-24T20:42:47.410Z"
   },
   {
    "duration": 5,
    "start_time": "2021-06-24T20:42:47.469Z"
   },
   {
    "duration": 8,
    "start_time": "2021-06-24T20:42:47.477Z"
   },
   {
    "duration": 12,
    "start_time": "2021-06-24T20:42:47.487Z"
   },
   {
    "duration": 5,
    "start_time": "2021-06-24T20:42:47.557Z"
   },
   {
    "duration": 11,
    "start_time": "2021-06-24T20:42:47.565Z"
   },
   {
    "duration": 13,
    "start_time": "2021-06-24T20:42:47.578Z"
   },
   {
    "duration": 6,
    "start_time": "2021-06-24T20:42:47.593Z"
   },
   {
    "duration": 810,
    "start_time": "2021-06-24T20:42:47.601Z"
   },
   {
    "duration": 1011,
    "start_time": "2021-06-24T20:42:48.414Z"
   },
   {
    "duration": 8,
    "start_time": "2021-06-24T20:42:49.427Z"
   },
   {
    "duration": 965,
    "start_time": "2021-06-24T20:43:36.346Z"
   },
   {
    "duration": 42,
    "start_time": "2021-06-24T20:43:37.314Z"
   },
   {
    "duration": 38,
    "start_time": "2021-06-24T20:43:37.360Z"
   },
   {
    "duration": 5,
    "start_time": "2021-06-24T20:43:37.402Z"
   },
   {
    "duration": 51,
    "start_time": "2021-06-24T20:43:37.409Z"
   },
   {
    "duration": 5,
    "start_time": "2021-06-24T20:43:37.463Z"
   },
   {
    "duration": 9,
    "start_time": "2021-06-24T20:43:37.470Z"
   },
   {
    "duration": 13,
    "start_time": "2021-06-24T20:43:37.482Z"
   },
   {
    "duration": 4,
    "start_time": "2021-06-24T20:43:37.498Z"
   },
   {
    "duration": 95,
    "start_time": "2021-06-24T20:43:37.556Z"
   },
   {
    "duration": -817,
    "start_time": "2021-06-24T20:43:38.470Z"
   },
   {
    "duration": -819,
    "start_time": "2021-06-24T20:43:38.473Z"
   },
   {
    "duration": -826,
    "start_time": "2021-06-24T20:43:38.482Z"
   },
   {
    "duration": -829,
    "start_time": "2021-06-24T20:43:38.486Z"
   },
   {
    "duration": -832,
    "start_time": "2021-06-24T20:43:38.490Z"
   },
   {
    "duration": 20,
    "start_time": "2021-06-24T20:45:00.894Z"
   },
   {
    "duration": 8,
    "start_time": "2021-06-24T20:45:42.812Z"
   },
   {
    "duration": 8,
    "start_time": "2021-06-24T20:47:52.629Z"
   },
   {
    "duration": 11,
    "start_time": "2021-06-24T20:56:53.254Z"
   },
   {
    "duration": 12,
    "start_time": "2021-06-24T20:58:31.405Z"
   },
   {
    "duration": 16,
    "start_time": "2021-06-24T20:58:36.024Z"
   },
   {
    "duration": 12,
    "start_time": "2021-06-24T20:58:37.988Z"
   },
   {
    "duration": 961,
    "start_time": "2021-06-24T20:58:56.456Z"
   },
   {
    "duration": 37,
    "start_time": "2021-06-24T20:58:57.420Z"
   },
   {
    "duration": 41,
    "start_time": "2021-06-24T20:58:57.461Z"
   },
   {
    "duration": 5,
    "start_time": "2021-06-24T20:58:57.505Z"
   },
   {
    "duration": 51,
    "start_time": "2021-06-24T20:58:57.512Z"
   },
   {
    "duration": 5,
    "start_time": "2021-06-24T20:58:57.566Z"
   },
   {
    "duration": 9,
    "start_time": "2021-06-24T20:58:57.573Z"
   },
   {
    "duration": 12,
    "start_time": "2021-06-24T20:58:57.586Z"
   },
   {
    "duration": 60,
    "start_time": "2021-06-24T20:58:57.600Z"
   },
   {
    "duration": 21,
    "start_time": "2021-06-24T20:58:57.662Z"
   },
   {
    "duration": 13,
    "start_time": "2021-06-24T20:58:57.685Z"
   },
   {
    "duration": 58,
    "start_time": "2021-06-24T20:58:57.701Z"
   },
   {
    "duration": 11,
    "start_time": "2021-06-24T20:58:57.762Z"
   },
   {
    "duration": 846,
    "start_time": "2021-06-24T20:58:57.776Z"
   },
   {
    "duration": 1549,
    "start_time": "2021-06-24T20:58:58.625Z"
   },
   {
    "duration": 10,
    "start_time": "2021-06-24T20:59:00.176Z"
   },
   {
    "duration": 1236,
    "start_time": "2021-06-24T21:00:25.823Z"
   },
   {
    "duration": 31,
    "start_time": "2021-06-24T21:00:27.062Z"
   },
   {
    "duration": 95,
    "start_time": "2021-06-24T21:00:27.101Z"
   },
   {
    "duration": 7,
    "start_time": "2021-06-24T21:00:27.200Z"
   },
   {
    "duration": 50,
    "start_time": "2021-06-24T21:00:27.210Z"
   },
   {
    "duration": 5,
    "start_time": "2021-06-24T21:00:27.262Z"
   },
   {
    "duration": 12,
    "start_time": "2021-06-24T21:00:27.271Z"
   },
   {
    "duration": 13,
    "start_time": "2021-06-24T21:00:27.286Z"
   },
   {
    "duration": 6,
    "start_time": "2021-06-24T21:00:27.301Z"
   },
   {
    "duration": 52,
    "start_time": "2021-06-24T21:00:27.309Z"
   },
   {
    "duration": 12,
    "start_time": "2021-06-24T21:00:27.364Z"
   },
   {
    "duration": 26,
    "start_time": "2021-06-24T21:00:27.378Z"
   },
   {
    "duration": 53,
    "start_time": "2021-06-24T21:00:27.407Z"
   },
   {
    "duration": 778,
    "start_time": "2021-06-24T21:00:27.463Z"
   },
   {
    "duration": 994,
    "start_time": "2021-06-24T21:00:28.245Z"
   },
   {
    "duration": 15,
    "start_time": "2021-06-24T21:00:29.242Z"
   },
   {
    "duration": 30,
    "start_time": "2021-06-24T21:19:57.847Z"
   },
   {
    "duration": 10,
    "start_time": "2021-06-24T21:22:25.696Z"
   },
   {
    "duration": 14,
    "start_time": "2021-06-25T06:43:13.976Z"
   },
   {
    "duration": 22,
    "start_time": "2021-06-25T06:43:21.814Z"
   },
   {
    "duration": 29,
    "start_time": "2021-06-25T06:46:07.050Z"
   },
   {
    "duration": 19,
    "start_time": "2021-06-25T06:46:52.516Z"
   },
   {
    "duration": 685,
    "start_time": "2021-06-25T07:19:09.893Z"
   },
   {
    "duration": 42,
    "start_time": "2021-06-25T07:19:21.482Z"
   },
   {
    "duration": 36,
    "start_time": "2021-06-25T07:22:56.861Z"
   },
   {
    "duration": 6460,
    "start_time": "2021-06-25T07:24:26.495Z"
   },
   {
    "duration": 6483,
    "start_time": "2021-06-25T07:25:17.053Z"
   },
   {
    "duration": 6330,
    "start_time": "2021-06-25T07:25:47.432Z"
   },
   {
    "duration": 38,
    "start_time": "2021-06-25T07:26:02.038Z"
   },
   {
    "duration": 46,
    "start_time": "2021-06-25T07:26:11.303Z"
   },
   {
    "duration": 36,
    "start_time": "2021-06-25T07:26:26.123Z"
   },
   {
    "duration": 28,
    "start_time": "2021-06-25T08:19:44.696Z"
   },
   {
    "duration": 95,
    "start_time": "2021-06-25T08:34:23.881Z"
   },
   {
    "duration": 57,
    "start_time": "2021-06-25T09:27:24.012Z"
   },
   {
    "duration": 341,
    "start_time": "2021-06-25T09:27:45.930Z"
   },
   {
    "duration": 256,
    "start_time": "2021-06-25T09:27:57.534Z"
   },
   {
    "duration": 37,
    "start_time": "2021-06-25T09:28:36.921Z"
   },
   {
    "duration": 36,
    "start_time": "2021-06-25T09:28:44.511Z"
   },
   {
    "duration": 38,
    "start_time": "2021-06-25T09:29:25.903Z"
   },
   {
    "duration": 7,
    "start_time": "2021-06-25T09:29:33.867Z"
   },
   {
    "duration": 7,
    "start_time": "2021-06-25T09:29:50.847Z"
   },
   {
    "duration": 6,
    "start_time": "2021-06-25T09:30:11.242Z"
   },
   {
    "duration": 53,
    "start_time": "2021-06-25T09:30:23.587Z"
   },
   {
    "duration": 32,
    "start_time": "2021-06-25T09:43:21.257Z"
   },
   {
    "duration": 7,
    "start_time": "2021-06-25T09:46:15.631Z"
   },
   {
    "duration": 55,
    "start_time": "2021-06-25T09:48:23.181Z"
   },
   {
    "duration": 31,
    "start_time": "2021-06-25T09:54:52.394Z"
   },
   {
    "duration": 9,
    "start_time": "2021-06-25T10:13:17.560Z"
   },
   {
    "duration": 5,
    "start_time": "2021-06-25T10:13:33.043Z"
   },
   {
    "duration": 5,
    "start_time": "2021-06-25T10:13:46.100Z"
   },
   {
    "duration": 1042,
    "start_time": "2021-06-25T10:14:03.406Z"
   },
   {
    "duration": 28,
    "start_time": "2021-06-25T10:14:04.450Z"
   },
   {
    "duration": 77,
    "start_time": "2021-06-25T10:14:04.486Z"
   },
   {
    "duration": 8,
    "start_time": "2021-06-25T10:14:04.565Z"
   },
   {
    "duration": 11,
    "start_time": "2021-06-25T10:14:04.576Z"
   },
   {
    "duration": 5,
    "start_time": "2021-06-25T10:14:04.590Z"
   },
   {
    "duration": 12,
    "start_time": "2021-06-25T10:14:04.599Z"
   },
   {
    "duration": 13,
    "start_time": "2021-06-25T10:14:04.665Z"
   },
   {
    "duration": 9,
    "start_time": "2021-06-25T10:14:04.681Z"
   },
   {
    "duration": 12,
    "start_time": "2021-06-25T10:14:04.693Z"
   },
   {
    "duration": 58,
    "start_time": "2021-06-25T10:14:04.708Z"
   },
   {
    "duration": 9,
    "start_time": "2021-06-25T10:14:04.769Z"
   },
   {
    "duration": 14,
    "start_time": "2021-06-25T10:14:04.780Z"
   },
   {
    "duration": 865,
    "start_time": "2021-06-25T10:14:04.796Z"
   },
   {
    "duration": 1067,
    "start_time": "2021-06-25T10:14:05.664Z"
   },
   {
    "duration": 31,
    "start_time": "2021-06-25T10:14:06.735Z"
   },
   {
    "duration": 38,
    "start_time": "2021-06-25T10:14:06.769Z"
   },
   {
    "duration": 85,
    "start_time": "2021-06-25T10:14:06.810Z"
   },
   {
    "duration": 9,
    "start_time": "2021-06-25T10:14:06.897Z"
   },
   {
    "duration": 70,
    "start_time": "2021-06-25T10:14:06.909Z"
   },
   {
    "duration": 39,
    "start_time": "2021-06-25T10:14:06.982Z"
   },
   {
    "duration": 59,
    "start_time": "2021-06-25T10:14:07.026Z"
   },
   {
    "duration": 5,
    "start_time": "2021-06-25T10:14:07.088Z"
   },
   {
    "duration": 6,
    "start_time": "2021-06-25T10:14:37.272Z"
   },
   {
    "duration": 90,
    "start_time": "2021-06-25T10:21:55.750Z"
   },
   {
    "duration": 5,
    "start_time": "2021-06-25T10:22:03.495Z"
   },
   {
    "duration": 20,
    "start_time": "2021-06-25T10:22:11.972Z"
   },
   {
    "duration": 8,
    "start_time": "2021-06-25T10:22:48.786Z"
   },
   {
    "duration": 10,
    "start_time": "2021-06-25T10:23:13.104Z"
   },
   {
    "duration": 11,
    "start_time": "2021-06-25T10:23:21.969Z"
   },
   {
    "duration": 87,
    "start_time": "2021-06-25T11:57:20.104Z"
   },
   {
    "duration": 759,
    "start_time": "2021-06-25T14:57:03.041Z"
   },
   {
    "duration": 26,
    "start_time": "2021-06-25T14:57:03.803Z"
   },
   {
    "duration": 66,
    "start_time": "2021-06-25T14:57:03.831Z"
   },
   {
    "duration": 5,
    "start_time": "2021-06-25T14:57:03.900Z"
   },
   {
    "duration": 14,
    "start_time": "2021-06-25T14:57:03.908Z"
   },
   {
    "duration": 6,
    "start_time": "2021-06-25T14:57:03.925Z"
   },
   {
    "duration": 38,
    "start_time": "2021-06-25T14:57:03.934Z"
   },
   {
    "duration": 8,
    "start_time": "2021-06-25T14:57:03.977Z"
   },
   {
    "duration": 14,
    "start_time": "2021-06-25T14:57:03.988Z"
   },
   {
    "duration": 13,
    "start_time": "2021-06-25T14:57:04.005Z"
   },
   {
    "duration": 6,
    "start_time": "2021-06-25T14:57:04.021Z"
   },
   {
    "duration": 42,
    "start_time": "2021-06-25T14:57:04.029Z"
   },
   {
    "duration": 11,
    "start_time": "2021-06-25T14:57:04.073Z"
   },
   {
    "duration": 900,
    "start_time": "2021-06-25T14:57:04.086Z"
   },
   {
    "duration": 1059,
    "start_time": "2021-06-25T14:57:04.988Z"
   },
   {
    "duration": 8,
    "start_time": "2021-06-25T14:57:06.049Z"
   },
   {
    "duration": 18,
    "start_time": "2021-06-25T14:57:06.068Z"
   },
   {
    "duration": 39,
    "start_time": "2021-06-25T14:57:06.088Z"
   },
   {
    "duration": 37,
    "start_time": "2021-06-25T14:57:06.129Z"
   },
   {
    "duration": 30,
    "start_time": "2021-06-25T14:57:06.168Z"
   },
   {
    "duration": 69,
    "start_time": "2021-06-25T14:57:06.200Z"
   },
   {
    "duration": 10,
    "start_time": "2021-06-25T14:57:06.271Z"
   },
   {
    "duration": 1193,
    "start_time": "2021-07-01T20:26:01.102Z"
   },
   {
    "duration": 24,
    "start_time": "2021-07-01T20:26:02.298Z"
   },
   {
    "duration": 52,
    "start_time": "2021-07-01T20:26:02.324Z"
   },
   {
    "duration": 5,
    "start_time": "2021-07-01T20:26:02.378Z"
   },
   {
    "duration": 21,
    "start_time": "2021-07-01T20:26:02.385Z"
   },
   {
    "duration": 9,
    "start_time": "2021-07-01T20:26:02.409Z"
   },
   {
    "duration": 15,
    "start_time": "2021-07-01T20:26:02.420Z"
   },
   {
    "duration": 24,
    "start_time": "2021-07-01T20:26:02.439Z"
   },
   {
    "duration": 4,
    "start_time": "2021-07-01T20:26:02.466Z"
   },
   {
    "duration": 17,
    "start_time": "2021-07-01T20:26:02.473Z"
   },
   {
    "duration": 14,
    "start_time": "2021-07-01T20:26:02.493Z"
   },
   {
    "duration": 20,
    "start_time": "2021-07-01T20:26:02.509Z"
   },
   {
    "duration": 25,
    "start_time": "2021-07-01T20:26:02.531Z"
   },
   {
    "duration": 723,
    "start_time": "2021-07-01T20:26:02.558Z"
   },
   {
    "duration": 1000,
    "start_time": "2021-07-01T20:26:03.283Z"
   },
   {
    "duration": 7,
    "start_time": "2021-07-01T20:26:04.286Z"
   },
   {
    "duration": 24,
    "start_time": "2021-07-01T20:26:04.296Z"
   },
   {
    "duration": 56,
    "start_time": "2021-07-01T20:26:04.323Z"
   },
   {
    "duration": 6,
    "start_time": "2021-07-01T20:26:04.382Z"
   },
   {
    "duration": 36,
    "start_time": "2021-07-01T20:26:04.390Z"
   },
   {
    "duration": 64,
    "start_time": "2021-07-01T20:26:04.428Z"
   },
   {
    "duration": 8,
    "start_time": "2021-07-01T20:26:04.495Z"
   },
   {
    "duration": 6749,
    "start_time": "2021-07-02T08:21:18.123Z"
   },
   {
    "duration": 988,
    "start_time": "2021-07-02T08:23:26.892Z"
   },
   {
    "duration": 20,
    "start_time": "2021-07-02T08:23:27.883Z"
   },
   {
    "duration": 56,
    "start_time": "2021-07-02T08:23:27.905Z"
   },
   {
    "duration": 4,
    "start_time": "2021-07-02T08:23:27.964Z"
   },
   {
    "duration": 29,
    "start_time": "2021-07-02T08:23:27.970Z"
   },
   {
    "duration": 11,
    "start_time": "2021-07-02T08:23:28.002Z"
   },
   {
    "duration": 21,
    "start_time": "2021-07-02T08:23:28.016Z"
   },
   {
    "duration": 25,
    "start_time": "2021-07-02T08:23:28.040Z"
   },
   {
    "duration": 10,
    "start_time": "2021-07-02T08:23:28.068Z"
   },
   {
    "duration": 19,
    "start_time": "2021-07-02T08:23:28.080Z"
   },
   {
    "duration": 22,
    "start_time": "2021-07-02T08:23:28.102Z"
   },
   {
    "duration": 14,
    "start_time": "2021-07-02T08:23:28.126Z"
   },
   {
    "duration": 17,
    "start_time": "2021-07-02T08:23:28.142Z"
   },
   {
    "duration": 704,
    "start_time": "2021-07-02T08:23:28.161Z"
   },
   {
    "duration": 1049,
    "start_time": "2021-07-02T08:23:28.868Z"
   },
   {
    "duration": 7,
    "start_time": "2021-07-02T08:23:29.919Z"
   },
   {
    "duration": 32,
    "start_time": "2021-07-02T08:23:29.928Z"
   },
   {
    "duration": 35,
    "start_time": "2021-07-02T08:23:29.963Z"
   },
   {
    "duration": 6,
    "start_time": "2021-07-02T08:23:30.000Z"
   },
   {
    "duration": 67,
    "start_time": "2021-07-02T08:23:30.008Z"
   },
   {
    "duration": 39,
    "start_time": "2021-07-02T08:23:30.077Z"
   },
   {
    "duration": 9,
    "start_time": "2021-07-02T08:23:30.118Z"
   },
   {
    "duration": 6638,
    "start_time": "2021-07-02T08:34:20.814Z"
   },
   {
    "duration": -1391,
    "start_time": "2021-07-02T08:34:36.502Z"
   },
   {
    "duration": 918,
    "start_time": "2021-07-02T08:34:38.997Z"
   },
   {
    "duration": 21,
    "start_time": "2021-07-02T08:34:39.918Z"
   },
   {
    "duration": 44,
    "start_time": "2021-07-02T08:34:39.942Z"
   },
   {
    "duration": 5,
    "start_time": "2021-07-02T08:34:39.989Z"
   },
   {
    "duration": 12,
    "start_time": "2021-07-02T08:34:39.997Z"
   },
   {
    "duration": 12,
    "start_time": "2021-07-02T08:34:40.011Z"
   },
   {
    "duration": 32,
    "start_time": "2021-07-02T08:34:40.025Z"
   },
   {
    "duration": 12,
    "start_time": "2021-07-02T08:34:40.061Z"
   },
   {
    "duration": 5,
    "start_time": "2021-07-02T08:34:40.076Z"
   },
   {
    "duration": 12,
    "start_time": "2021-07-02T08:34:40.084Z"
   },
   {
    "duration": 13,
    "start_time": "2021-07-02T08:34:40.099Z"
   },
   {
    "duration": 44,
    "start_time": "2021-07-02T08:34:40.115Z"
   },
   {
    "duration": 11,
    "start_time": "2021-07-02T08:34:40.161Z"
   },
   {
    "duration": 829,
    "start_time": "2021-07-02T08:34:40.174Z"
   },
   {
    "duration": 944,
    "start_time": "2021-07-02T08:34:41.005Z"
   },
   {
    "duration": 8,
    "start_time": "2021-07-02T08:34:41.951Z"
   },
   {
    "duration": 34,
    "start_time": "2021-07-02T08:34:41.961Z"
   },
   {
    "duration": 50,
    "start_time": "2021-07-02T08:34:41.997Z"
   },
   {
    "duration": 7,
    "start_time": "2021-07-02T08:34:42.049Z"
   },
   {
    "duration": 39,
    "start_time": "2021-07-02T08:34:42.059Z"
   },
   {
    "duration": 74,
    "start_time": "2021-07-02T08:34:42.101Z"
   },
   {
    "duration": 12,
    "start_time": "2021-07-02T08:34:42.178Z"
   },
   {
    "duration": 6,
    "start_time": "2021-07-02T08:37:59.325Z"
   },
   {
    "duration": 6,
    "start_time": "2021-07-02T08:38:34.837Z"
   },
   {
    "duration": 957,
    "start_time": "2021-07-02T08:43:53.660Z"
   },
   {
    "duration": 23,
    "start_time": "2021-07-02T08:43:54.619Z"
   },
   {
    "duration": 44,
    "start_time": "2021-07-02T08:43:54.646Z"
   },
   {
    "duration": 7,
    "start_time": "2021-07-02T08:43:54.693Z"
   },
   {
    "duration": 30,
    "start_time": "2021-07-02T08:43:54.703Z"
   },
   {
    "duration": 22,
    "start_time": "2021-07-02T08:43:54.736Z"
   },
   {
    "duration": 10,
    "start_time": "2021-07-02T08:43:54.761Z"
   },
   {
    "duration": 18,
    "start_time": "2021-07-02T08:43:54.776Z"
   },
   {
    "duration": 6,
    "start_time": "2021-07-02T08:43:54.797Z"
   },
   {
    "duration": 26,
    "start_time": "2021-07-02T08:43:54.805Z"
   },
   {
    "duration": 32,
    "start_time": "2021-07-02T08:43:54.834Z"
   },
   {
    "duration": 17,
    "start_time": "2021-07-02T08:43:54.869Z"
   },
   {
    "duration": 25,
    "start_time": "2021-07-02T08:43:54.889Z"
   },
   {
    "duration": 730,
    "start_time": "2021-07-02T08:43:54.918Z"
   },
   {
    "duration": 981,
    "start_time": "2021-07-02T08:43:55.650Z"
   },
   {
    "duration": 9,
    "start_time": "2021-07-02T08:43:56.634Z"
   },
   {
    "duration": 22,
    "start_time": "2021-07-02T08:43:56.657Z"
   },
   {
    "duration": 38,
    "start_time": "2021-07-02T08:43:56.682Z"
   },
   {
    "duration": 6,
    "start_time": "2021-07-02T08:43:56.722Z"
   },
   {
    "duration": 29,
    "start_time": "2021-07-02T08:43:56.757Z"
   },
   {
    "duration": 39,
    "start_time": "2021-07-02T08:43:56.788Z"
   },
   {
    "duration": 33,
    "start_time": "2021-07-02T08:43:56.829Z"
   },
   {
    "duration": 141,
    "start_time": "2021-07-02T08:58:35.777Z"
   },
   {
    "duration": 17,
    "start_time": "2021-07-02T08:59:01.170Z"
   },
   {
    "duration": 413,
    "start_time": "2021-07-02T09:02:39.667Z"
   },
   {
    "duration": 271,
    "start_time": "2021-07-02T09:02:44.361Z"
   },
   {
    "duration": 266,
    "start_time": "2021-07-02T09:11:46.589Z"
   },
   {
    "duration": 87,
    "start_time": "2021-07-02T09:12:38.691Z"
   },
   {
    "duration": 273,
    "start_time": "2021-07-02T09:12:48.113Z"
   },
   {
    "duration": 276,
    "start_time": "2021-07-02T09:13:13.815Z"
   },
   {
    "duration": 45,
    "start_time": "2021-07-02T09:28:04.710Z"
   },
   {
    "duration": 47,
    "start_time": "2021-07-02T09:28:29.004Z"
   },
   {
    "duration": 44,
    "start_time": "2021-07-02T09:28:50.173Z"
   },
   {
    "duration": 29,
    "start_time": "2021-07-02T09:29:45.126Z"
   },
   {
    "duration": 94,
    "start_time": "2021-07-02T09:32:15.073Z"
   },
   {
    "duration": 994,
    "start_time": "2021-07-02T09:36:43.408Z"
   },
   {
    "duration": 6896,
    "start_time": "2021-07-02T09:36:44.404Z"
   },
   {
    "duration": -1360,
    "start_time": "2021-07-02T09:36:52.665Z"
   },
   {
    "duration": -1362,
    "start_time": "2021-07-02T09:36:52.669Z"
   },
   {
    "duration": -1366,
    "start_time": "2021-07-02T09:36:52.675Z"
   },
   {
    "duration": -1367,
    "start_time": "2021-07-02T09:36:52.679Z"
   },
   {
    "duration": -1369,
    "start_time": "2021-07-02T09:36:52.683Z"
   },
   {
    "duration": -1371,
    "start_time": "2021-07-02T09:36:52.687Z"
   },
   {
    "duration": -1375,
    "start_time": "2021-07-02T09:36:52.694Z"
   },
   {
    "duration": -1376,
    "start_time": "2021-07-02T09:36:52.697Z"
   },
   {
    "duration": -1377,
    "start_time": "2021-07-02T09:36:52.701Z"
   },
   {
    "duration": -1378,
    "start_time": "2021-07-02T09:36:52.705Z"
   },
   {
    "duration": -1382,
    "start_time": "2021-07-02T09:36:52.711Z"
   },
   {
    "duration": -1382,
    "start_time": "2021-07-02T09:36:52.714Z"
   },
   {
    "duration": -1383,
    "start_time": "2021-07-02T09:36:52.717Z"
   },
   {
    "duration": -1385,
    "start_time": "2021-07-02T09:36:52.721Z"
   },
   {
    "duration": -1389,
    "start_time": "2021-07-02T09:36:52.728Z"
   },
   {
    "duration": -1375,
    "start_time": "2021-07-02T09:36:52.731Z"
   },
   {
    "duration": -1432,
    "start_time": "2021-07-02T09:36:52.790Z"
   },
   {
    "duration": -1434,
    "start_time": "2021-07-02T09:36:52.794Z"
   },
   {
    "duration": -1435,
    "start_time": "2021-07-02T09:36:52.798Z"
   },
   {
    "duration": -1436,
    "start_time": "2021-07-02T09:36:52.801Z"
   },
   {
    "duration": -1438,
    "start_time": "2021-07-02T09:36:52.805Z"
   },
   {
    "duration": 966,
    "start_time": "2021-07-02T09:41:40.290Z"
   },
   {
    "duration": 6584,
    "start_time": "2021-07-02T09:41:41.258Z"
   },
   {
    "duration": -1378,
    "start_time": "2021-07-02T09:41:49.224Z"
   },
   {
    "duration": -1386,
    "start_time": "2021-07-02T09:41:49.233Z"
   },
   {
    "duration": -1388,
    "start_time": "2021-07-02T09:41:49.237Z"
   },
   {
    "duration": -1392,
    "start_time": "2021-07-02T09:41:49.242Z"
   },
   {
    "duration": -1396,
    "start_time": "2021-07-02T09:41:49.248Z"
   },
   {
    "duration": -1399,
    "start_time": "2021-07-02T09:41:49.252Z"
   },
   {
    "duration": -1400,
    "start_time": "2021-07-02T09:41:49.255Z"
   },
   {
    "duration": -1406,
    "start_time": "2021-07-02T09:41:49.262Z"
   },
   {
    "duration": -1407,
    "start_time": "2021-07-02T09:41:49.265Z"
   },
   {
    "duration": -1410,
    "start_time": "2021-07-02T09:41:49.269Z"
   },
   {
    "duration": -1410,
    "start_time": "2021-07-02T09:41:49.271Z"
   },
   {
    "duration": -1417,
    "start_time": "2021-07-02T09:41:49.279Z"
   },
   {
    "duration": -1419,
    "start_time": "2021-07-02T09:41:49.282Z"
   },
   {
    "duration": -1422,
    "start_time": "2021-07-02T09:41:49.286Z"
   },
   {
    "duration": -1464,
    "start_time": "2021-07-02T09:41:49.330Z"
   },
   {
    "duration": -1472,
    "start_time": "2021-07-02T09:41:49.339Z"
   },
   {
    "duration": -1478,
    "start_time": "2021-07-02T09:41:49.346Z"
   },
   {
    "duration": -1480,
    "start_time": "2021-07-02T09:41:49.350Z"
   },
   {
    "duration": -1482,
    "start_time": "2021-07-02T09:41:49.353Z"
   },
   {
    "duration": -1484,
    "start_time": "2021-07-02T09:41:49.356Z"
   },
   {
    "duration": -1488,
    "start_time": "2021-07-02T09:41:49.362Z"
   },
   {
    "duration": 924,
    "start_time": "2021-07-02T09:42:14.083Z"
   },
   {
    "duration": 6311,
    "start_time": "2021-07-02T09:42:15.010Z"
   },
   {
    "duration": -1378,
    "start_time": "2021-07-02T09:42:22.702Z"
   },
   {
    "duration": -1386,
    "start_time": "2021-07-02T09:42:22.712Z"
   },
   {
    "duration": -1388,
    "start_time": "2021-07-02T09:42:22.715Z"
   },
   {
    "duration": -1390,
    "start_time": "2021-07-02T09:42:22.719Z"
   },
   {
    "duration": -1398,
    "start_time": "2021-07-02T09:42:22.728Z"
   },
   {
    "duration": -1400,
    "start_time": "2021-07-02T09:42:22.731Z"
   },
   {
    "duration": -1402,
    "start_time": "2021-07-02T09:42:22.735Z"
   },
   {
    "duration": -1408,
    "start_time": "2021-07-02T09:42:22.743Z"
   },
   {
    "duration": -1410,
    "start_time": "2021-07-02T09:42:22.746Z"
   },
   {
    "duration": -1413,
    "start_time": "2021-07-02T09:42:22.750Z"
   },
   {
    "duration": -1415,
    "start_time": "2021-07-02T09:42:22.754Z"
   },
   {
    "duration": -1422,
    "start_time": "2021-07-02T09:42:22.762Z"
   },
   {
    "duration": -1425,
    "start_time": "2021-07-02T09:42:22.766Z"
   },
   {
    "duration": -1428,
    "start_time": "2021-07-02T09:42:22.771Z"
   },
   {
    "duration": -1433,
    "start_time": "2021-07-02T09:42:22.778Z"
   },
   {
    "duration": -1435,
    "start_time": "2021-07-02T09:42:22.781Z"
   },
   {
    "duration": -1442,
    "start_time": "2021-07-02T09:42:22.789Z"
   },
   {
    "duration": -1450,
    "start_time": "2021-07-02T09:42:22.798Z"
   },
   {
    "duration": -1452,
    "start_time": "2021-07-02T09:42:22.801Z"
   },
   {
    "duration": -1454,
    "start_time": "2021-07-02T09:42:22.805Z"
   },
   {
    "duration": -1460,
    "start_time": "2021-07-02T09:42:22.812Z"
   },
   {
    "duration": 966,
    "start_time": "2021-07-02T09:43:44.730Z"
   },
   {
    "duration": 6668,
    "start_time": "2021-07-02T09:43:45.700Z"
   },
   {
    "duration": -1363,
    "start_time": "2021-07-02T09:43:53.735Z"
   },
   {
    "duration": -1365,
    "start_time": "2021-07-02T09:43:53.738Z"
   },
   {
    "duration": -1369,
    "start_time": "2021-07-02T09:43:53.743Z"
   },
   {
    "duration": -1373,
    "start_time": "2021-07-02T09:43:53.749Z"
   },
   {
    "duration": -1376,
    "start_time": "2021-07-02T09:43:53.753Z"
   },
   {
    "duration": -1377,
    "start_time": "2021-07-02T09:43:53.756Z"
   },
   {
    "duration": -1380,
    "start_time": "2021-07-02T09:43:53.760Z"
   },
   {
    "duration": -1386,
    "start_time": "2021-07-02T09:43:53.767Z"
   },
   {
    "duration": -1386,
    "start_time": "2021-07-02T09:43:53.770Z"
   },
   {
    "duration": -1388,
    "start_time": "2021-07-02T09:43:53.773Z"
   },
   {
    "duration": -1390,
    "start_time": "2021-07-02T09:43:53.777Z"
   },
   {
    "duration": -1396,
    "start_time": "2021-07-02T09:43:53.784Z"
   },
   {
    "duration": -1398,
    "start_time": "2021-07-02T09:43:53.787Z"
   },
   {
    "duration": -1400,
    "start_time": "2021-07-02T09:43:53.791Z"
   },
   {
    "duration": -1402,
    "start_time": "2021-07-02T09:43:53.794Z"
   },
   {
    "duration": -1407,
    "start_time": "2021-07-02T09:43:53.800Z"
   },
   {
    "duration": -1410,
    "start_time": "2021-07-02T09:43:53.805Z"
   },
   {
    "duration": -1412,
    "start_time": "2021-07-02T09:43:53.808Z"
   },
   {
    "duration": -1460,
    "start_time": "2021-07-02T09:43:53.857Z"
   },
   {
    "duration": -1469,
    "start_time": "2021-07-02T09:43:53.868Z"
   },
   {
    "duration": -1472,
    "start_time": "2021-07-02T09:43:53.872Z"
   },
   {
    "duration": 220,
    "start_time": "2021-07-02T09:46:24.237Z"
   },
   {
    "duration": -1353,
    "start_time": "2021-07-02T09:53:08.681Z"
   },
   {
    "duration": 1191,
    "start_time": "2021-07-02T11:33:51.629Z"
   },
   {
    "duration": 6820,
    "start_time": "2021-07-02T11:33:52.823Z"
   },
   {
    "duration": -1296,
    "start_time": "2021-07-02T11:34:00.942Z"
   },
   {
    "duration": -1299,
    "start_time": "2021-07-02T11:34:00.947Z"
   },
   {
    "duration": -1305,
    "start_time": "2021-07-02T11:34:00.954Z"
   },
   {
    "duration": -1305,
    "start_time": "2021-07-02T11:34:00.956Z"
   },
   {
    "duration": -1308,
    "start_time": "2021-07-02T11:34:00.960Z"
   },
   {
    "duration": -1309,
    "start_time": "2021-07-02T11:34:00.963Z"
   },
   {
    "duration": -1314,
    "start_time": "2021-07-02T11:34:00.970Z"
   },
   {
    "duration": -1317,
    "start_time": "2021-07-02T11:34:00.974Z"
   },
   {
    "duration": -1319,
    "start_time": "2021-07-02T11:34:00.977Z"
   },
   {
    "duration": -1322,
    "start_time": "2021-07-02T11:34:00.982Z"
   },
   {
    "duration": -1328,
    "start_time": "2021-07-02T11:34:00.989Z"
   },
   {
    "duration": -1330,
    "start_time": "2021-07-02T11:34:00.992Z"
   },
   {
    "duration": -1332,
    "start_time": "2021-07-02T11:34:00.996Z"
   },
   {
    "duration": -1335,
    "start_time": "2021-07-02T11:34:01.000Z"
   },
   {
    "duration": -1338,
    "start_time": "2021-07-02T11:34:01.005Z"
   },
   {
    "duration": -1340,
    "start_time": "2021-07-02T11:34:01.008Z"
   },
   {
    "duration": -1396,
    "start_time": "2021-07-02T11:34:01.066Z"
   },
   {
    "duration": -1405,
    "start_time": "2021-07-02T11:34:01.076Z"
   },
   {
    "duration": -1407,
    "start_time": "2021-07-02T11:34:01.080Z"
   },
   {
    "duration": -1410,
    "start_time": "2021-07-02T11:34:01.084Z"
   },
   {
    "duration": -1414,
    "start_time": "2021-07-02T11:34:01.090Z"
   },
   {
    "duration": 984,
    "start_time": "2021-07-02T11:49:57.427Z"
   },
   {
    "duration": 6817,
    "start_time": "2021-07-02T11:49:58.414Z"
   },
   {
    "duration": -1310,
    "start_time": "2021-07-02T11:50:06.545Z"
   },
   {
    "duration": -1312,
    "start_time": "2021-07-02T11:50:06.549Z"
   },
   {
    "duration": -1320,
    "start_time": "2021-07-02T11:50:06.559Z"
   },
   {
    "duration": -1322,
    "start_time": "2021-07-02T11:50:06.563Z"
   },
   {
    "duration": -1324,
    "start_time": "2021-07-02T11:50:06.567Z"
   },
   {
    "duration": -1331,
    "start_time": "2021-07-02T11:50:06.576Z"
   },
   {
    "duration": -1332,
    "start_time": "2021-07-02T11:50:06.580Z"
   },
   {
    "duration": -1335,
    "start_time": "2021-07-02T11:50:06.586Z"
   },
   {
    "duration": -1341,
    "start_time": "2021-07-02T11:50:06.594Z"
   },
   {
    "duration": -1343,
    "start_time": "2021-07-02T11:50:06.598Z"
   },
   {
    "duration": -1347,
    "start_time": "2021-07-02T11:50:06.604Z"
   },
   {
    "duration": -1352,
    "start_time": "2021-07-02T11:50:06.611Z"
   },
   {
    "duration": -1355,
    "start_time": "2021-07-02T11:50:06.615Z"
   },
   {
    "duration": -1358,
    "start_time": "2021-07-02T11:50:06.620Z"
   },
   {
    "duration": -1364,
    "start_time": "2021-07-02T11:50:06.628Z"
   },
   {
    "duration": -1366,
    "start_time": "2021-07-02T11:50:06.631Z"
   },
   {
    "duration": -1370,
    "start_time": "2021-07-02T11:50:06.637Z"
   },
   {
    "duration": -1408,
    "start_time": "2021-07-02T11:50:06.677Z"
   },
   {
    "duration": -1411,
    "start_time": "2021-07-02T11:50:06.681Z"
   },
   {
    "duration": -1414,
    "start_time": "2021-07-02T11:50:06.686Z"
   },
   {
    "duration": -1420,
    "start_time": "2021-07-02T11:50:06.693Z"
   },
   {
    "duration": 2768,
    "start_time": "2021-07-02T11:51:49.377Z"
   },
   {
    "duration": 75,
    "start_time": "2021-07-02T11:51:52.148Z"
   },
   {
    "duration": 48,
    "start_time": "2021-07-02T11:51:52.227Z"
   },
   {
    "duration": 77,
    "start_time": "2021-07-02T11:51:52.279Z"
   },
   {
    "duration": 8,
    "start_time": "2021-07-02T11:51:52.360Z"
   },
   {
    "duration": 21,
    "start_time": "2021-07-02T11:51:52.371Z"
   },
   {
    "duration": 13,
    "start_time": "2021-07-02T11:51:52.396Z"
   },
   {
    "duration": 49,
    "start_time": "2021-07-02T11:51:52.414Z"
   },
   {
    "duration": 15,
    "start_time": "2021-07-02T11:51:52.467Z"
   },
   {
    "duration": 11,
    "start_time": "2021-07-02T11:51:52.486Z"
   },
   {
    "duration": 18,
    "start_time": "2021-07-02T11:51:52.500Z"
   },
   {
    "duration": 44,
    "start_time": "2021-07-02T11:51:52.521Z"
   },
   {
    "duration": 21,
    "start_time": "2021-07-02T11:51:52.568Z"
   },
   {
    "duration": 15,
    "start_time": "2021-07-02T11:51:52.592Z"
   },
   {
    "duration": 1148,
    "start_time": "2021-07-02T11:51:52.611Z"
   },
   {
    "duration": 1018,
    "start_time": "2021-07-02T11:51:53.762Z"
   },
   {
    "duration": 8,
    "start_time": "2021-07-02T11:51:54.782Z"
   },
   {
    "duration": 34,
    "start_time": "2021-07-02T11:51:54.794Z"
   },
   {
    "duration": 66,
    "start_time": "2021-07-02T11:51:54.830Z"
   },
   {
    "duration": 8,
    "start_time": "2021-07-02T11:51:54.899Z"
   },
   {
    "duration": 71,
    "start_time": "2021-07-02T11:51:54.910Z"
   },
   {
    "duration": 41,
    "start_time": "2021-07-02T11:51:54.984Z"
   },
   {
    "duration": 30,
    "start_time": "2021-07-02T11:51:55.030Z"
   },
   {
    "duration": 27,
    "start_time": "2021-07-02T12:03:22.033Z"
   },
   {
    "duration": 1177,
    "start_time": "2021-07-02T12:03:46.774Z"
   },
   {
    "duration": 71,
    "start_time": "2021-07-02T12:03:47.954Z"
   },
   {
    "duration": 37,
    "start_time": "2021-07-02T12:03:48.028Z"
   },
   {
    "duration": 60,
    "start_time": "2021-07-02T12:03:48.069Z"
   },
   {
    "duration": 29,
    "start_time": "2021-07-02T12:03:48.132Z"
   },
   {
    "duration": 20,
    "start_time": "2021-07-02T12:03:48.164Z"
   },
   {
    "duration": 7,
    "start_time": "2021-07-02T12:03:48.187Z"
   },
   {
    "duration": 8,
    "start_time": "2021-07-02T12:03:48.198Z"
   },
   {
    "duration": 49,
    "start_time": "2021-07-02T12:03:48.209Z"
   },
   {
    "duration": 5,
    "start_time": "2021-07-02T12:03:48.260Z"
   },
   {
    "duration": 14,
    "start_time": "2021-07-02T12:03:48.267Z"
   },
   {
    "duration": 13,
    "start_time": "2021-07-02T12:03:48.283Z"
   },
   {
    "duration": 8,
    "start_time": "2021-07-02T12:03:48.299Z"
   },
   {
    "duration": 54,
    "start_time": "2021-07-02T12:03:48.310Z"
   },
   {
    "duration": 812,
    "start_time": "2021-07-02T12:03:48.367Z"
   },
   {
    "duration": 985,
    "start_time": "2021-07-02T12:03:49.182Z"
   },
   {
    "duration": 8,
    "start_time": "2021-07-02T12:03:50.170Z"
   },
   {
    "duration": 28,
    "start_time": "2021-07-02T12:03:50.180Z"
   },
   {
    "duration": 56,
    "start_time": "2021-07-02T12:03:50.211Z"
   },
   {
    "duration": 8,
    "start_time": "2021-07-02T12:03:50.270Z"
   },
   {
    "duration": 38,
    "start_time": "2021-07-02T12:03:50.280Z"
   },
   {
    "duration": 79,
    "start_time": "2021-07-02T12:03:50.320Z"
   },
   {
    "duration": 9,
    "start_time": "2021-07-02T12:03:50.404Z"
   },
   {
    "duration": -1274,
    "start_time": "2021-07-02T12:20:01.994Z"
   },
   {
    "duration": -1266,
    "start_time": "2021-07-02T12:20:15.981Z"
   },
   {
    "duration": 1062,
    "start_time": "2021-07-02T12:20:21.646Z"
   },
   {
    "duration": 82,
    "start_time": "2021-07-02T12:20:22.710Z"
   },
   {
    "duration": 27,
    "start_time": "2021-07-02T12:20:22.794Z"
   },
   {
    "duration": 68,
    "start_time": "2021-07-02T12:20:22.824Z"
   },
   {
    "duration": 6,
    "start_time": "2021-07-02T12:20:22.895Z"
   },
   {
    "duration": 17,
    "start_time": "2021-07-02T12:20:22.903Z"
   },
   {
    "duration": 40,
    "start_time": "2021-07-02T12:20:22.922Z"
   },
   {
    "duration": 11,
    "start_time": "2021-07-02T12:20:22.968Z"
   },
   {
    "duration": 8,
    "start_time": "2021-07-02T12:20:22.982Z"
   },
   {
    "duration": 9,
    "start_time": "2021-07-02T12:20:22.993Z"
   },
   {
    "duration": 55,
    "start_time": "2021-07-02T12:20:23.005Z"
   },
   {
    "duration": 16,
    "start_time": "2021-07-02T12:20:23.063Z"
   },
   {
    "duration": 14,
    "start_time": "2021-07-02T12:20:23.081Z"
   },
   {
    "duration": 12,
    "start_time": "2021-07-02T12:20:23.097Z"
   },
   {
    "duration": 1090,
    "start_time": "2021-07-02T12:20:23.112Z"
   },
   {
    "duration": 1735,
    "start_time": "2021-07-02T12:20:24.205Z"
   },
   {
    "duration": 26,
    "start_time": "2021-07-02T12:20:25.945Z"
   },
   {
    "duration": 10915,
    "start_time": "2021-07-02T12:20:25.975Z"
   },
   {
    "duration": -1282,
    "start_time": "2021-07-02T12:20:38.176Z"
   },
   {
    "duration": -1283,
    "start_time": "2021-07-02T12:20:38.179Z"
   },
   {
    "duration": -1284,
    "start_time": "2021-07-02T12:20:38.182Z"
   },
   {
    "duration": -1288,
    "start_time": "2021-07-02T12:20:38.188Z"
   },
   {
    "duration": -1289,
    "start_time": "2021-07-02T12:20:38.191Z"
   },
   {
    "duration": 1341,
    "start_time": "2021-07-02T12:24:37.025Z"
   },
   {
    "duration": 85,
    "start_time": "2021-07-02T12:24:38.372Z"
   },
   {
    "duration": 31,
    "start_time": "2021-07-02T12:24:38.460Z"
   },
   {
    "duration": 68,
    "start_time": "2021-07-02T12:24:38.494Z"
   },
   {
    "duration": 7,
    "start_time": "2021-07-02T12:24:38.565Z"
   },
   {
    "duration": 17,
    "start_time": "2021-07-02T12:24:38.576Z"
   },
   {
    "duration": 10,
    "start_time": "2021-07-02T12:24:38.596Z"
   },
   {
    "duration": 20,
    "start_time": "2021-07-02T12:24:38.611Z"
   },
   {
    "duration": 33,
    "start_time": "2021-07-02T12:24:38.635Z"
   },
   {
    "duration": 10,
    "start_time": "2021-07-02T12:24:38.673Z"
   },
   {
    "duration": 22,
    "start_time": "2021-07-02T12:24:38.685Z"
   },
   {
    "duration": 15,
    "start_time": "2021-07-02T12:24:38.710Z"
   },
   {
    "duration": 9,
    "start_time": "2021-07-02T12:24:38.728Z"
   },
   {
    "duration": 36,
    "start_time": "2021-07-02T12:24:38.740Z"
   },
   {
    "duration": 1006,
    "start_time": "2021-07-02T12:24:38.779Z"
   },
   {
    "duration": 1852,
    "start_time": "2021-07-02T12:24:39.788Z"
   },
   {
    "duration": 20,
    "start_time": "2021-07-02T12:24:41.644Z"
   },
   {
    "duration": 40,
    "start_time": "2021-07-02T12:24:41.668Z"
   },
   {
    "duration": 76,
    "start_time": "2021-07-02T12:24:41.711Z"
   },
   {
    "duration": 8,
    "start_time": "2021-07-02T12:24:41.790Z"
   },
   {
    "duration": 56,
    "start_time": "2021-07-02T12:24:41.800Z"
   },
   {
    "duration": 46,
    "start_time": "2021-07-02T12:24:41.858Z"
   },
   {
    "duration": 9,
    "start_time": "2021-07-02T12:24:41.908Z"
   },
   {
    "duration": 9,
    "start_time": "2021-07-02T13:51:15.089Z"
   },
   {
    "duration": 121,
    "start_time": "2021-07-02T13:54:10.877Z"
   },
   {
    "duration": 51,
    "start_time": "2021-07-02T13:54:47.951Z"
   },
   {
    "duration": 444,
    "start_time": "2021-07-02T13:57:48.756Z"
   },
   {
    "duration": 29,
    "start_time": "2021-07-02T13:58:03.780Z"
   },
   {
    "duration": 27,
    "start_time": "2021-07-02T13:58:09.307Z"
   },
   {
    "duration": 34,
    "start_time": "2021-07-02T13:58:18.439Z"
   },
   {
    "duration": 42,
    "start_time": "2021-07-02T13:58:26.554Z"
   }
  ],
  "kernelspec": {
   "display_name": "Python 3",
   "language": "python",
   "name": "python3"
  },
  "language_info": {
   "codemirror_mode": {
    "name": "ipython",
    "version": 3
   },
   "file_extension": ".py",
   "mimetype": "text/x-python",
   "name": "python",
   "nbconvert_exporter": "python",
   "pygments_lexer": "ipython3",
   "version": "3.8.5"
  },
  "toc": {
   "base_numbering": 1,
   "nav_menu": {},
   "number_sections": true,
   "sideBar": true,
   "skip_h1_title": true,
   "title_cell": "Table of Contents",
   "title_sidebar": "Contents",
   "toc_cell": false,
   "toc_position": {},
   "toc_section_display": true,
   "toc_window_display": false
  }
 },
 "nbformat": 4,
 "nbformat_minor": 2
}
