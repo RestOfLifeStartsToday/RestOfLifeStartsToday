{
 "cells": [
  {
   "cell_type": "markdown",
   "metadata": {},
   "source": [
    "# Plan recommandation based on user behavior"
   ]
  },
  {
   "cell_type": "markdown",
   "metadata": {
    "toc": true
   },
   "source": [
    "<h1>Table of Contents<span class=\"tocSkip\"></span></h1>\n",
    "<div class=\"toc\"><ul class=\"toc-item\"><li><span><a href=\"#Project-Description\" data-toc-modified-id=\"Project-Description-1\"><span class=\"toc-item-num\">1&nbsp;&nbsp;</span>Project Description</a></span></li><li><span><a href=\"#Data-preperation\" data-toc-modified-id=\"Data-preperation-2\"><span class=\"toc-item-num\">2&nbsp;&nbsp;</span>Data preperation</a></span><ul class=\"toc-item\"><li><span><a href=\"#Split-the-source-data-into-a-training-set,-a-validation-set,-and-a-test-set.\" data-toc-modified-id=\"Split-the-source-data-into-a-training-set,-a-validation-set,-and-a-test-set.-2.1\"><span class=\"toc-item-num\">2.1&nbsp;&nbsp;</span>Split the source data into a training set, a validation set, and a test set.</a></span></li><li><span><a href=\"#Making-features-&amp;-targets-datasets-for-each-dataset.\" data-toc-modified-id=\"Making-features-&amp;-targets-datasets-for-each-dataset.-2.2\"><span class=\"toc-item-num\">2.2&nbsp;&nbsp;</span>Making features &amp; targets datasets for each dataset.</a></span></li></ul></li><li><span><a href=\"#Investigate-the-quality-of-different-models-by-changing-hyperparameters.-Briefly-describe-the-findings-of-the-study.\" data-toc-modified-id=\"Investigate-the-quality-of-different-models-by-changing-hyperparameters.-Briefly-describe-the-findings-of-the-study.-3\"><span class=\"toc-item-num\">3&nbsp;&nbsp;</span>Investigate the quality of different models by changing hyperparameters. Briefly describe the findings of the study.</a></span></li><li><span><a href=\"#Sanity-check-to-the-model\" data-toc-modified-id=\"Sanity-check-to-the-model-4\"><span class=\"toc-item-num\">4&nbsp;&nbsp;</span>Sanity check to the model</a></span><ul class=\"toc-item\"><li><span><a href=\"#K-fold-cross-validation\" data-toc-modified-id=\"K-fold-cross-validation-4.1\"><span class=\"toc-item-num\">4.1&nbsp;&nbsp;</span>K-fold cross validation</a></span></li><li><span><a href=\"#Confusion-matrix\" data-toc-modified-id=\"Confusion-matrix-4.2\"><span class=\"toc-item-num\">4.2&nbsp;&nbsp;</span>Confusion matrix</a></span></li><li><span><a href=\"#Conclusion\" data-toc-modified-id=\"Conclusion-4.3\"><span class=\"toc-item-num\">4.3&nbsp;&nbsp;</span>Conclusion</a></span></li></ul></li></ul></div>"
   ]
  },
  {
   "cell_type": "markdown",
   "metadata": {},
   "source": [
    "## Project Description"
   ]
  },
  {
   "cell_type": "markdown",
   "metadata": {},
   "source": [
    "Mobile carrier Megaline has found out that many of their subscribers use legacy plans. They want to develop a model that would analyze subscribers' behavior and recommend one of Megaline's newer plans: Smart or Ultra.  \n",
    "Based on behavior data about subscribers who have already switched to the new plans. \n",
    "The classification task is to develop a model that will pick the right plan.  \n",
    "Develop a model with the highest possible accuracy. In this project, the threshold for accuracy is 0.75. Check the accuracy using the test dataset.  \n",
    "\n",
    "__Since you’ve already performed the data preprocessing step, you can move straight to creating the model.__"
   ]
  },
  {
   "cell_type": "code",
   "execution_count": 1,
   "metadata": {},
   "outputs": [],
   "source": [
    "# pip install -U -q scikit-learn"
   ]
  },
  {
   "cell_type": "code",
   "execution_count": 2,
   "metadata": {},
   "outputs": [],
   "source": [
    "import pandas as pd\n",
    "from sklearn.model_selection import train_test_split\n",
    "from sklearn.metrics import accuracy_score\n",
    "from sklearn.tree import DecisionTreeClassifier\n",
    "from sklearn.ensemble import RandomForestClassifier\n",
    "from sklearn.linear_model import LogisticRegression\n",
    "from sklearn.model_selection import cross_val_score\n",
    "import matplotlib.pyplot as plt\n",
    "from sklearn.metrics import ConfusionMatrixDisplay\n",
    "\n",
    "\n",
    "from IPython.core.interactiveshell import InteractiveShell\n",
    "InteractiveShell.ast_node_interactivity = \"all\""
   ]
  },
  {
   "cell_type": "markdown",
   "metadata": {},
   "source": [
    "## Data preperation"
   ]
  },
  {
   "cell_type": "code",
   "execution_count": 3,
   "metadata": {},
   "outputs": [],
   "source": [
    "def load_data(file_name, parse_dates=None, dtype=None, sep=','):\n",
    "    df=''\n",
    "    \n",
    "    try:\n",
    "        df=pd.read_csv('datasets/{}'.format(file_name), parse_dates=parse_dates, dtype=dtype, sep=sep)\n",
    "    except:\n",
    "        df=pd.read_csv('/datasets/{}'.format(file_name), parse_dates=parse_dates, dtype=dtype, sep=sep)\n",
    "    \n",
    "        \n",
    "    return df"
   ]
  },
  {
   "cell_type": "code",
   "execution_count": 4,
   "metadata": {},
   "outputs": [
    {
     "data": {
      "text/html": [
       "<div>\n",
       "<style scoped>\n",
       "    .dataframe tbody tr th:only-of-type {\n",
       "        vertical-align: middle;\n",
       "    }\n",
       "\n",
       "    .dataframe tbody tr th {\n",
       "        vertical-align: top;\n",
       "    }\n",
       "\n",
       "    .dataframe thead th {\n",
       "        text-align: right;\n",
       "    }\n",
       "</style>\n",
       "<table border=\"1\" class=\"dataframe\">\n",
       "  <thead>\n",
       "    <tr style=\"text-align: right;\">\n",
       "      <th></th>\n",
       "      <th>calls</th>\n",
       "      <th>minutes</th>\n",
       "      <th>messages</th>\n",
       "      <th>mb_used</th>\n",
       "      <th>is_ultra</th>\n",
       "    </tr>\n",
       "  </thead>\n",
       "  <tbody>\n",
       "    <tr>\n",
       "      <th>0</th>\n",
       "      <td>40.0</td>\n",
       "      <td>311.90</td>\n",
       "      <td>83.0</td>\n",
       "      <td>19915.42</td>\n",
       "      <td>0</td>\n",
       "    </tr>\n",
       "    <tr>\n",
       "      <th>1</th>\n",
       "      <td>85.0</td>\n",
       "      <td>516.75</td>\n",
       "      <td>56.0</td>\n",
       "      <td>22696.96</td>\n",
       "      <td>0</td>\n",
       "    </tr>\n",
       "  </tbody>\n",
       "</table>\n",
       "</div>"
      ],
      "text/plain": [
       "   calls  minutes  messages   mb_used  is_ultra\n",
       "0   40.0   311.90      83.0  19915.42         0\n",
       "1   85.0   516.75      56.0  22696.96         0"
      ]
     },
     "execution_count": 4,
     "metadata": {},
     "output_type": "execute_result"
    }
   ],
   "source": [
    "df=load_data('users_behavior.csv')\n",
    "\n",
    "df.head(2)"
   ]
  },
  {
   "cell_type": "markdown",
   "metadata": {},
   "source": [
    "### Split the source data into a training set, a validation set, and a test set."
   ]
  },
  {
   "cell_type": "markdown",
   "metadata": {},
   "source": [
    "The data is split into 3 ways for training, validating, and testing (making sure there's no overfitting). "
   ]
  },
  {
   "cell_type": "code",
   "execution_count": 5,
   "metadata": {},
   "outputs": [
    {
     "data": {
      "text/plain": [
       "(643, 643, 1928)"
      ]
     },
     "execution_count": 5,
     "metadata": {},
     "output_type": "execute_result"
    }
   ],
   "source": [
    "df_train, df_valid = train_test_split(df, test_size=0.4, random_state=12345)\n",
    "df_test, df_valid = train_test_split(df_valid, test_size=0.5, random_state=12345)\n",
    "len(df_test), len(df_valid), len(df_train)"
   ]
  },
  {
   "cell_type": "markdown",
   "metadata": {},
   "source": [
    "### Making features & targets datasets for each dataset."
   ]
  },
  {
   "cell_type": "markdown",
   "metadata": {},
   "source": [
    "This is a classification problem, which it's target is the __is_ultra__ field. This field is a binary field."
   ]
  },
  {
   "cell_type": "code",
   "execution_count": 6,
   "metadata": {},
   "outputs": [],
   "source": [
    "features_train=df_train.drop('is_ultra', axis=1)\n",
    "target_train=df_train['is_ultra']\n",
    "\n",
    "features_valid=df_valid.drop('is_ultra', axis=1)\n",
    "target_valid=df_valid['is_ultra']\n",
    "\n",
    "features_test=df_test.drop('is_ultra', axis=1)\n",
    "target_test=df_test['is_ultra']\n",
    "\n",
    "features=df.drop('is_ultra', axis=1)\n",
    "target=df['is_ultra']"
   ]
  },
  {
   "cell_type": "markdown",
   "metadata": {},
   "source": [
    "## Investigate the quality of different models by changing hyperparameters. Briefly describe the findings of the study."
   ]
  },
  {
   "cell_type": "markdown",
   "metadata": {},
   "source": [
    "This problem is a classification problem, to understand which new plan should be proposed to the users.  \n",
    "First of all, I'm building a function to calculate the accuracy of a model that is sent to it."
   ]
  },
  {
   "cell_type": "code",
   "execution_count": 7,
   "metadata": {},
   "outputs": [],
   "source": [
    "def accuracy_calculator(modelToCheck):\n",
    "    modelToCheck.fit(features_train, target_train)\n",
    "    predictions_valid=modelToCheck.predict(features_valid)\n",
    "    accuracy_valid=accuracy_score(target_valid, predictions_valid)\n",
    "    print('accuracy valid: ',accuracy_valid)"
   ]
  },
  {
   "cell_type": "markdown",
   "metadata": {},
   "source": [
    "Starting with the basic __DecisionTreeClassifier__ algorithm, gets an accuracy below the 0.75 threshold."
   ]
  },
  {
   "cell_type": "code",
   "execution_count": 8,
   "metadata": {},
   "outputs": [
    {
     "name": "stdout",
     "output_type": "stream",
     "text": [
      "accuracy valid:  0.7309486780715396\n"
     ]
    }
   ],
   "source": [
    "model = DecisionTreeClassifier(random_state=12345)\n",
    "accuracy_calculator(model)"
   ]
  },
  {
   "cell_type": "markdown",
   "metadata": {},
   "source": [
    "Running the same basic __DecisionTreeClassifier__ algorithm, but adding the __max_depth__ hyperparameter that gets us above the threshold."
   ]
  },
  {
   "cell_type": "code",
   "execution_count": 9,
   "metadata": {},
   "outputs": [
    {
     "name": "stdout",
     "output_type": "stream",
     "text": [
      "accuracy valid:  0.7791601866251944\n"
     ]
    }
   ],
   "source": [
    "model = DecisionTreeClassifier(random_state=12345, max_depth=3)\n",
    "accuracy_calculator(model)"
   ]
  },
  {
   "cell_type": "markdown",
   "metadata": {},
   "source": [
    "Trying the __RandomForestClassifier__ algorithm. First with only 3 estimators."
   ]
  },
  {
   "cell_type": "code",
   "execution_count": 10,
   "metadata": {},
   "outputs": [
    {
     "name": "stdout",
     "output_type": "stream",
     "text": [
      "accuracy valid:  0.7573872472783826\n"
     ]
    }
   ],
   "source": [
    "model = RandomForestClassifier(random_state=12345, n_estimators=3)\n",
    "accuracy_calculator(model)"
   ]
  },
  {
   "cell_type": "markdown",
   "metadata": {},
   "source": [
    "Running the __RandomForestClassifier__ algorithm. Now with 40 estimators."
   ]
  },
  {
   "cell_type": "code",
   "execution_count": 11,
   "metadata": {},
   "outputs": [
    {
     "name": "stdout",
     "output_type": "stream",
     "text": [
      "accuracy valid:  0.7931570762052877\n"
     ]
    }
   ],
   "source": [
    "model = RandomForestClassifier(random_state=12345, n_estimators=40)\n",
    "accuracy_calculator(model)"
   ]
  },
  {
   "cell_type": "markdown",
   "metadata": {},
   "source": [
    "Trying the __LogisticRegression__ algorithm."
   ]
  },
  {
   "cell_type": "code",
   "execution_count": 12,
   "metadata": {},
   "outputs": [
    {
     "name": "stdout",
     "output_type": "stream",
     "text": [
      "accuracy valid:  0.6889580093312597\n"
     ]
    }
   ],
   "source": [
    "model = LogisticRegression(random_state=12345, solver='liblinear')\n",
    "accuracy_calculator(model)"
   ]
  },
  {
   "cell_type": "markdown",
   "metadata": {},
   "source": [
    "The __RandomForestClassifier__ algorithm got the best results with 0.79. I'll run a test on the finial model."
   ]
  },
  {
   "cell_type": "code",
   "execution_count": 13,
   "metadata": {},
   "outputs": [
    {
     "name": "stdout",
     "output_type": "stream",
     "text": [
      "accuracy valid:  0.7931570762052877\n"
     ]
    }
   ],
   "source": [
    "model = RandomForestClassifier(random_state=12345, n_estimators=40)\n",
    "accuracy_calculator(model)"
   ]
  },
  {
   "cell_type": "code",
   "execution_count": 14,
   "metadata": {},
   "outputs": [
    {
     "data": {
      "text/plain": [
       "('accuracy test:', 0.7838258164852255)"
      ]
     },
     "execution_count": 14,
     "metadata": {},
     "output_type": "execute_result"
    }
   ],
   "source": [
    "predictions_test=model.predict(features_test)\n",
    "accuracy_test=accuracy_score(target_test, predictions_test)\n",
    "'accuracy test:',accuracy_test"
   ]
  },
  {
   "cell_type": "markdown",
   "metadata": {},
   "source": [
    "The test got similar results, which are above the minimum threshold of 0.75."
   ]
  },
  {
   "cell_type": "markdown",
   "metadata": {},
   "source": [
    "## Sanity check to the model"
   ]
  },
  {
   "cell_type": "markdown",
   "metadata": {},
   "source": [
    "### K-fold cross validation"
   ]
  },
  {
   "cell_type": "markdown",
   "metadata": {},
   "source": [
    "A more accurate method for training-testing the accuracy is using the __k-fold cross validation__. Using a technic called __cross-validation__ The data is split into K sets, making K runs. In each iteration, a different set is used as a validation set, while the remaining K-1 sets are used to train a new model (after the test the model is being discarded). The accuracy score is gathered from each iteration. Usually, K=10.  \n",
    "\n",
    "For example, in the next image K=5, the data is split into 5 sets, each iteration a different blue set is used to test the data while the other 4 green sets are used for training."
   ]
  },
  {
   "attachments": {
    "image.png": {
     "image/png": "[encoded data removed]"
    }
   },
   "cell_type": "markdown",
   "metadata": {},
   "source": [
    "<div>\n",
    "<img src=\"attachment:image.png\" width=\"300\" align=\"left\"/>\n",
    "</div>"
   ]
  },
  {
   "cell_type": "code",
   "execution_count": 15,
   "metadata": {},
   "outputs": [
    {
     "data": {
      "text/plain": [
       "array([0.81987578, 0.78881988, 0.76397516, 0.78881988, 0.82242991,\n",
       "       0.80373832, 0.80062305, 0.80373832, 0.80062305, 0.80373832])"
      ]
     },
     "execution_count": 15,
     "metadata": {},
     "output_type": "execute_result"
    }
   ],
   "source": [
    "scores = cross_val_score(model, features, target, cv=10)\n",
    "scores"
   ]
  },
  {
   "cell_type": "code",
   "execution_count": 16,
   "metadata": {},
   "outputs": [
    {
     "data": {
      "text/plain": [
       "'0.80 accuracy with a standard deviation of 0.02'"
      ]
     },
     "execution_count": 16,
     "metadata": {},
     "output_type": "execute_result"
    }
   ],
   "source": [
    "\"%0.2f accuracy with a standard deviation of %0.2f\" % (scores.mean(), scores.std())"
   ]
  },
  {
   "cell_type": "markdown",
   "metadata": {},
   "source": [
    "Training with the full dataset, and testing with all the datasets returns even a better score of 0.8."
   ]
  },
  {
   "cell_type": "markdown",
   "metadata": {},
   "source": [
    "### Confusion matrix"
   ]
  },
  {
   "cell_type": "markdown",
   "metadata": {},
   "source": [
    "Accuracy by itself can be a misleading metric, especially when there is a large class imbalance: i.e., when one feature occurs much more frequently than another.  \n",
    "To check it, first I'll fill the __Confusion matrix__. This is it's structure:"
   ]
  },
  {
   "cell_type": "markdown",
   "metadata": {},
   "source": [
    "<div style=\"float:left;\">\n",
    "        <table class=\"wikitable\" style=\"text-align:center;\">\n",
    "            <tbody>\n",
    "                <tr>\n",
    "                    <th style=\"background:linear-gradient(to top right,#eaecf0 49.5%,#aaa 49.5%,#aaa 50.5%,#eaecf0 50.5%);line-height:1;\">\n",
    "                        <div style=\"margin-left:2em;text-align:right;\">Predicted<br>class</div><div style=\"margin-right:2em;text-align:left;\">Actual class</div>\n",
    "                    </th>\n",
    "                    <th>\n",
    "                        <abbr title=\"Positive\">Positive</abbr>\n",
    "                    </th>\n",
    "                    <th>\n",
    "                        <abbr title=\"Negative\">Negative</abbr>\n",
    "                    </th>\n",
    "                </tr>\n",
    "                <tr>\n",
    "                    <th>\n",
    "                        <abbr title=\"Positive\">Positive</abbr>\n",
    "                    </th>\n",
    "                    <td>\n",
    "                        <b><abbr title=\"True positive\">True positive</abbr></b>\n",
    "                    </td>\n",
    "                    <td>\n",
    "                        <abbr title=\"False negative\">False negative</abbr>\n",
    "                    </td>\n",
    "                </tr>\n",
    "                <tr>\n",
    "                    <th>\n",
    "                        <abbr title=\"Negative\">Negative</abbr>\n",
    "                    </th>\n",
    "                    <td>\n",
    "                        <abbr title=\"False positive\">False positive</abbr>\n",
    "                    </td>\n",
    "                    <td>\n",
    "                        <b><abbr title=\"True negative\">True negative</abbr></b>\n",
    "                    </td>\n",
    "                </tr>\n",
    "            </tbody>\n",
    "        </table>\n",
    "    </div>"
   ]
  },
  {
   "cell_type": "markdown",
   "metadata": {},
   "source": [
    "Filling the Confusion matrix using the validation dataset:"
   ]
  },
  {
   "cell_type": "code",
   "execution_count": 17,
   "metadata": {},
   "outputs": [
    {
     "data": {
      "image/png": "[encoded data removed]",
      "text/plain": [
       "<Figure size 432x288 with 2 Axes>"
      ]
     },
     "metadata": {
      "needs_background": "light"
     },
     "output_type": "display_data"
    }
   ],
   "source": [
    "model = RandomForestClassifier(random_state=12345, n_estimators=40)\n",
    "model.fit(features_train, target_train)\n",
    "\n",
    "disp = ConfusionMatrixDisplay.from_estimator(\n",
    "    model, features_valid, target_valid, cmap=plt.cm.Blues,\n",
    "    display_labels=['Smart','Ultra']\n",
    ")\n",
    "disp.ax_.set_title('Confusion matrix')\n",
    "plt.show();"
   ]
  },
  {
   "cell_type": "markdown",
   "metadata": {},
   "source": [
    "The confusion matrix shows that there is a problem in predicting the Ultra plan. The data has an imbalance, most of the data is regarding the Smart plan.  \n",
    "So I'll try running an accuracy on prediction of dummy results - predict only Smart plan (constant 0 in is_ultra)."
   ]
  },
  {
   "cell_type": "code",
   "execution_count": 18,
   "metadata": {},
   "outputs": [
    {
     "data": {
      "text/plain": [
       "0.6842923794712286"
      ]
     },
     "execution_count": 18,
     "metadata": {},
     "output_type": "execute_result"
    }
   ],
   "source": [
    "dummy_target=pd.Series(0, index=target_valid)\n",
    "accuracy_valid=accuracy_score(target_valid, dummy_target)\n",
    "accuracy_valid"
   ]
  },
  {
   "cell_type": "markdown",
   "metadata": {},
   "source": [
    "### Conclusion"
   ]
  },
  {
   "cell_type": "markdown",
   "metadata": {},
   "source": [
    "I tried 3 different models __DecisionTreeClassifier, RandomForestClassifier, LogisticRegression__, the best model was the __RandomForestClassifier__ with accuracy score of 0.79, and 0.78 for the test dataset. Running a sanity test of k-fold got even better results of 0.8, but the heatmap of the confusion matrix shows that there is a problem predicting the Ultra plan, as a result of imbalanced data - too much data is regarding the Smart plan. Testing the accuracy against dummy results got a score of 0.68.  \n",
    "\n",
    "The data is imbalanced, and although the model got better results in its predictions, for even better results it's better to have a more balanced dataset."
   ]
  },
  {
   "cell_type": "markdown",
   "metadata": {},
   "source": [
    " "
   ]
  },
  {
   "cell_type": "markdown",
   "metadata": {},
   "source": [
    " "
   ]
  },
  {
   "cell_type": "markdown",
   "metadata": {},
   "source": [
    " "
   ]
  }
 ],
 "metadata": {
  "kernelspec": {
   "display_name": "Python 3",
   "language": "python",
   "name": "python3"
  },
  "language_info": {
   "codemirror_mode": {
    "name": "ipython",
    "version": 3
   },
   "file_extension": ".py",
   "mimetype": "text/x-python",
   "name": "python",
   "nbconvert_exporter": "python",
   "pygments_lexer": "ipython3",
   "version": "3.8.5"
  },
  "toc": {
   "base_numbering": 1,
   "nav_menu": {},
   "number_sections": true,
   "sideBar": true,
   "skip_h1_title": true,
   "title_cell": "Table of Contents",
   "title_sidebar": "Contents",
   "toc_cell": true,
   "toc_position": {},
   "toc_section_display": true,
   "toc_window_display": false
  }
 },
 "nbformat": 4,
 "nbformat_minor": 4
}
