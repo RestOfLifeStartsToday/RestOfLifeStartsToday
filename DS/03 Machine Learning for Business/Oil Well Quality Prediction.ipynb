{
 "cells": [
  {
   "cell_type": "markdown",
   "metadata": {},
   "source": [
    "# Oil Well Quality Prediction"
   ]
  },
  {
   "cell_type": "markdown",
   "metadata": {},
   "source": [
    "## Project description"
   ]
  },
  {
   "cell_type": "markdown",
   "metadata": {},
   "source": [
    "You work for the OilyGiant mining company. The task is to find the best place for a new well.  \n",
    "Steps to choose the location:  \n",
    "\n",
    "    • Collect the oil well parameters in the selected region: oil quality and volume of reserves.  \n",
    "    • Build a model for predicting the volume of reserves in the new wells.  \n",
    "    • Pick the oil wells with the highest estimated values;  \n",
    "    • Pick the region with the highest total profit for the selected oil wells.  \n",
    "\n",
    "You have data on oil samples from three regions. Parameters of each oil well in the region are already known.  \n",
    "Build a model that will help to pick the region with the highest profit margin. Analyze potential profit and risks using the Bootstrapping technique."
   ]
  },
  {
   "cell_type": "code",
   "execution_count": 1,
   "metadata": {},
   "outputs": [],
   "source": [
    "# pip install -U -q scikit-learn\n",
    "# pip install -q sidetable"
   ]
  },
  {
   "cell_type": "code",
   "execution_count": 29,
   "metadata": {},
   "outputs": [],
   "source": [
    "import pandas as pd\n",
    "from sklearn.model_selection import train_test_split\n",
    "from sklearn.metrics import accuracy_score\n",
    "from sklearn.tree import DecisionTreeClassifier\n",
    "from sklearn.ensemble import RandomForestClassifier\n",
    "from sklearn.linear_model import LogisticRegression\n",
    "from sklearn.model_selection import cross_val_score\n",
    "from sklearn.preprocessing import OrdinalEncoder\n",
    "from sklearn.model_selection import cross_validate\n",
    "from sklearn.metrics import ConfusionMatrixDisplay\n",
    "from sklearn.utils import shuffle\n",
    "from sklearn.metrics import f1_score\n",
    "import matplotlib.pyplot as plt\n",
    "import sidetable\n",
    "from sklearn.linear_model import LinearRegression\n",
    "from sklearn.metrics import mean_squared_error\n",
    "from sklearn.metrics import r2_score\n",
    "import numpy as np\n",
    "\n",
    "\n",
    "from IPython.core.interactiveshell import InteractiveShell\n",
    "InteractiveShell.ast_node_interactivity = \"all\""
   ]
  },
  {
   "cell_type": "markdown",
   "metadata": {},
   "source": [
    "## Data preperation"
   ]
  },
  {
   "cell_type": "code",
   "execution_count": 3,
   "metadata": {},
   "outputs": [],
   "source": [
    "def load_data(file_name, parse_dates=None, dtype=None, sep=','):\n",
    "    df=''\n",
    "    \n",
    "    try:\n",
    "        df=pd.read_csv('datasets/{}'.format(file_name), parse_dates=parse_dates, dtype=dtype, sep=sep)\n",
    "    except:\n",
    "        df=pd.read_csv('/datasets/{}'.format(file_name), parse_dates=parse_dates, dtype=dtype, sep=sep)\n",
    "        \n",
    "    return df"
   ]
  },
  {
   "cell_type": "markdown",
   "metadata": {},
   "source": [
    "Loading data of the 3 regions.  \n",
    "The data description is:  \n",
    "\n",
    "    • id — unique oil well identifier  \n",
    "    • f0, f1, f2 — three features of points (their specific meaning is unimportant, but the features themselves are significant)  \n",
    "    • product — volume of reserves in the oil well (thousand barrels)."
   ]
  },
  {
   "cell_type": "code",
   "execution_count": 4,
   "metadata": {},
   "outputs": [
    {
     "data": {
      "text/html": [
       "<div>\n",
       "<style scoped>\n",
       "    .dataframe tbody tr th:only-of-type {\n",
       "        vertical-align: middle;\n",
       "    }\n",
       "\n",
       "    .dataframe tbody tr th {\n",
       "        vertical-align: top;\n",
       "    }\n",
       "\n",
       "    .dataframe thead th {\n",
       "        text-align: right;\n",
       "    }\n",
       "</style>\n",
       "<table border=\"1\" class=\"dataframe\">\n",
       "  <thead>\n",
       "    <tr style=\"text-align: right;\">\n",
       "      <th></th>\n",
       "      <th>id</th>\n",
       "      <th>f0</th>\n",
       "      <th>f1</th>\n",
       "      <th>f2</th>\n",
       "      <th>product</th>\n",
       "    </tr>\n",
       "  </thead>\n",
       "  <tbody>\n",
       "    <tr>\n",
       "      <th>0</th>\n",
       "      <td>txEyH</td>\n",
       "      <td>0.705745</td>\n",
       "      <td>-0.497823</td>\n",
       "      <td>1.22117</td>\n",
       "      <td>105.280062</td>\n",
       "    </tr>\n",
       "    <tr>\n",
       "      <th>1</th>\n",
       "      <td>2acmU</td>\n",
       "      <td>1.334711</td>\n",
       "      <td>-0.340164</td>\n",
       "      <td>4.36508</td>\n",
       "      <td>73.037750</td>\n",
       "    </tr>\n",
       "  </tbody>\n",
       "</table>\n",
       "</div>"
      ],
      "text/plain": [
       "      id        f0        f1       f2     product\n",
       "0  txEyH  0.705745 -0.497823  1.22117  105.280062\n",
       "1  2acmU  1.334711 -0.340164  4.36508   73.037750"
      ]
     },
     "execution_count": 4,
     "metadata": {},
     "output_type": "execute_result"
    },
    {
     "data": {
      "text/html": [
       "<div>\n",
       "<style scoped>\n",
       "    .dataframe tbody tr th:only-of-type {\n",
       "        vertical-align: middle;\n",
       "    }\n",
       "\n",
       "    .dataframe tbody tr th {\n",
       "        vertical-align: top;\n",
       "    }\n",
       "\n",
       "    .dataframe thead th {\n",
       "        text-align: right;\n",
       "    }\n",
       "</style>\n",
       "<table border=\"1\" class=\"dataframe\">\n",
       "  <thead>\n",
       "    <tr style=\"text-align: right;\">\n",
       "      <th></th>\n",
       "      <th>id</th>\n",
       "      <th>f0</th>\n",
       "      <th>f1</th>\n",
       "      <th>f2</th>\n",
       "      <th>product</th>\n",
       "    </tr>\n",
       "  </thead>\n",
       "  <tbody>\n",
       "    <tr>\n",
       "      <th>0</th>\n",
       "      <td>kBEdx</td>\n",
       "      <td>-15.001348</td>\n",
       "      <td>-8.276000</td>\n",
       "      <td>-0.005876</td>\n",
       "      <td>3.179103</td>\n",
       "    </tr>\n",
       "    <tr>\n",
       "      <th>1</th>\n",
       "      <td>62mP7</td>\n",
       "      <td>14.272088</td>\n",
       "      <td>-3.475083</td>\n",
       "      <td>0.999183</td>\n",
       "      <td>26.953261</td>\n",
       "    </tr>\n",
       "  </tbody>\n",
       "</table>\n",
       "</div>"
      ],
      "text/plain": [
       "      id         f0        f1        f2    product\n",
       "0  kBEdx -15.001348 -8.276000 -0.005876   3.179103\n",
       "1  62mP7  14.272088 -3.475083  0.999183  26.953261"
      ]
     },
     "execution_count": 4,
     "metadata": {},
     "output_type": "execute_result"
    },
    {
     "data": {
      "text/html": [
       "<div>\n",
       "<style scoped>\n",
       "    .dataframe tbody tr th:only-of-type {\n",
       "        vertical-align: middle;\n",
       "    }\n",
       "\n",
       "    .dataframe tbody tr th {\n",
       "        vertical-align: top;\n",
       "    }\n",
       "\n",
       "    .dataframe thead th {\n",
       "        text-align: right;\n",
       "    }\n",
       "</style>\n",
       "<table border=\"1\" class=\"dataframe\">\n",
       "  <thead>\n",
       "    <tr style=\"text-align: right;\">\n",
       "      <th></th>\n",
       "      <th>id</th>\n",
       "      <th>f0</th>\n",
       "      <th>f1</th>\n",
       "      <th>f2</th>\n",
       "      <th>product</th>\n",
       "    </tr>\n",
       "  </thead>\n",
       "  <tbody>\n",
       "    <tr>\n",
       "      <th>0</th>\n",
       "      <td>fwXo0</td>\n",
       "      <td>-1.146987</td>\n",
       "      <td>0.963328</td>\n",
       "      <td>-0.828965</td>\n",
       "      <td>27.758673</td>\n",
       "    </tr>\n",
       "    <tr>\n",
       "      <th>1</th>\n",
       "      <td>WJtFt</td>\n",
       "      <td>0.262778</td>\n",
       "      <td>0.269839</td>\n",
       "      <td>-2.530187</td>\n",
       "      <td>56.069697</td>\n",
       "    </tr>\n",
       "  </tbody>\n",
       "</table>\n",
       "</div>"
      ],
      "text/plain": [
       "      id        f0        f1        f2    product\n",
       "0  fwXo0 -1.146987  0.963328 -0.828965  27.758673\n",
       "1  WJtFt  0.262778  0.269839 -2.530187  56.069697"
      ]
     },
     "execution_count": 4,
     "metadata": {},
     "output_type": "execute_result"
    }
   ],
   "source": [
    "geo_0=load_data('geo_data_0.csv')\n",
    "geo_1=load_data('geo_data_1.csv')\n",
    "geo_2=load_data('geo_data_2.csv')\n",
    "geo_0.head(2)\n",
    "geo_1.head(2)\n",
    "geo_2.head(2)"
   ]
  },
  {
   "cell_type": "markdown",
   "metadata": {},
   "source": [
    "### Missing values check."
   ]
  },
  {
   "cell_type": "code",
   "execution_count": 5,
   "metadata": {},
   "outputs": [
    {
     "data": {
      "text/html": [
       "<style  type=\"text/css\" >\n",
       "</style><table id=\"T_fb6a99c2_65b4_11ec_b0f4_3c950944167a\" ><thead>    <tr>        <th class=\"blank level0\" ></th>        <th class=\"col_heading level0 col0\" >missing</th>        <th class=\"col_heading level0 col1\" >total</th>        <th class=\"col_heading level0 col2\" >percent</th>    </tr></thead><tbody>\n",
       "                <tr>\n",
       "                        <th id=\"T_fb6a99c2_65b4_11ec_b0f4_3c950944167alevel0_row0\" class=\"row_heading level0 row0\" >id</th>\n",
       "                        <td id=\"T_fb6a99c2_65b4_11ec_b0f4_3c950944167arow0_col0\" class=\"data row0 col0\" >0</td>\n",
       "                        <td id=\"T_fb6a99c2_65b4_11ec_b0f4_3c950944167arow0_col1\" class=\"data row0 col1\" >100,000</td>\n",
       "                        <td id=\"T_fb6a99c2_65b4_11ec_b0f4_3c950944167arow0_col2\" class=\"data row0 col2\" >0.00%</td>\n",
       "            </tr>\n",
       "            <tr>\n",
       "                        <th id=\"T_fb6a99c2_65b4_11ec_b0f4_3c950944167alevel0_row1\" class=\"row_heading level0 row1\" >f0</th>\n",
       "                        <td id=\"T_fb6a99c2_65b4_11ec_b0f4_3c950944167arow1_col0\" class=\"data row1 col0\" >0</td>\n",
       "                        <td id=\"T_fb6a99c2_65b4_11ec_b0f4_3c950944167arow1_col1\" class=\"data row1 col1\" >100,000</td>\n",
       "                        <td id=\"T_fb6a99c2_65b4_11ec_b0f4_3c950944167arow1_col2\" class=\"data row1 col2\" >0.00%</td>\n",
       "            </tr>\n",
       "            <tr>\n",
       "                        <th id=\"T_fb6a99c2_65b4_11ec_b0f4_3c950944167alevel0_row2\" class=\"row_heading level0 row2\" >f1</th>\n",
       "                        <td id=\"T_fb6a99c2_65b4_11ec_b0f4_3c950944167arow2_col0\" class=\"data row2 col0\" >0</td>\n",
       "                        <td id=\"T_fb6a99c2_65b4_11ec_b0f4_3c950944167arow2_col1\" class=\"data row2 col1\" >100,000</td>\n",
       "                        <td id=\"T_fb6a99c2_65b4_11ec_b0f4_3c950944167arow2_col2\" class=\"data row2 col2\" >0.00%</td>\n",
       "            </tr>\n",
       "            <tr>\n",
       "                        <th id=\"T_fb6a99c2_65b4_11ec_b0f4_3c950944167alevel0_row3\" class=\"row_heading level0 row3\" >f2</th>\n",
       "                        <td id=\"T_fb6a99c2_65b4_11ec_b0f4_3c950944167arow3_col0\" class=\"data row3 col0\" >0</td>\n",
       "                        <td id=\"T_fb6a99c2_65b4_11ec_b0f4_3c950944167arow3_col1\" class=\"data row3 col1\" >100,000</td>\n",
       "                        <td id=\"T_fb6a99c2_65b4_11ec_b0f4_3c950944167arow3_col2\" class=\"data row3 col2\" >0.00%</td>\n",
       "            </tr>\n",
       "            <tr>\n",
       "                        <th id=\"T_fb6a99c2_65b4_11ec_b0f4_3c950944167alevel0_row4\" class=\"row_heading level0 row4\" >product</th>\n",
       "                        <td id=\"T_fb6a99c2_65b4_11ec_b0f4_3c950944167arow4_col0\" class=\"data row4 col0\" >0</td>\n",
       "                        <td id=\"T_fb6a99c2_65b4_11ec_b0f4_3c950944167arow4_col1\" class=\"data row4 col1\" >100,000</td>\n",
       "                        <td id=\"T_fb6a99c2_65b4_11ec_b0f4_3c950944167arow4_col2\" class=\"data row4 col2\" >0.00%</td>\n",
       "            </tr>\n",
       "    </tbody></table>"
      ],
      "text/plain": [
       "<pandas.io.formats.style.Styler at 0x14c902343d0>"
      ]
     },
     "execution_count": 5,
     "metadata": {},
     "output_type": "execute_result"
    }
   ],
   "source": [
    "geo_0.stb.missing(style=True)"
   ]
  },
  {
   "cell_type": "code",
   "execution_count": 6,
   "metadata": {},
   "outputs": [
    {
     "data": {
      "text/html": [
       "<style  type=\"text/css\" >\n",
       "</style><table id=\"T_fb6f5e3e_65b4_11ec_856d_3c950944167a\" ><thead>    <tr>        <th class=\"blank level0\" ></th>        <th class=\"col_heading level0 col0\" >missing</th>        <th class=\"col_heading level0 col1\" >total</th>        <th class=\"col_heading level0 col2\" >percent</th>    </tr></thead><tbody>\n",
       "                <tr>\n",
       "                        <th id=\"T_fb6f5e3e_65b4_11ec_856d_3c950944167alevel0_row0\" class=\"row_heading level0 row0\" >id</th>\n",
       "                        <td id=\"T_fb6f5e3e_65b4_11ec_856d_3c950944167arow0_col0\" class=\"data row0 col0\" >0</td>\n",
       "                        <td id=\"T_fb6f5e3e_65b4_11ec_856d_3c950944167arow0_col1\" class=\"data row0 col1\" >100,000</td>\n",
       "                        <td id=\"T_fb6f5e3e_65b4_11ec_856d_3c950944167arow0_col2\" class=\"data row0 col2\" >0.00%</td>\n",
       "            </tr>\n",
       "            <tr>\n",
       "                        <th id=\"T_fb6f5e3e_65b4_11ec_856d_3c950944167alevel0_row1\" class=\"row_heading level0 row1\" >f0</th>\n",
       "                        <td id=\"T_fb6f5e3e_65b4_11ec_856d_3c950944167arow1_col0\" class=\"data row1 col0\" >0</td>\n",
       "                        <td id=\"T_fb6f5e3e_65b4_11ec_856d_3c950944167arow1_col1\" class=\"data row1 col1\" >100,000</td>\n",
       "                        <td id=\"T_fb6f5e3e_65b4_11ec_856d_3c950944167arow1_col2\" class=\"data row1 col2\" >0.00%</td>\n",
       "            </tr>\n",
       "            <tr>\n",
       "                        <th id=\"T_fb6f5e3e_65b4_11ec_856d_3c950944167alevel0_row2\" class=\"row_heading level0 row2\" >f1</th>\n",
       "                        <td id=\"T_fb6f5e3e_65b4_11ec_856d_3c950944167arow2_col0\" class=\"data row2 col0\" >0</td>\n",
       "                        <td id=\"T_fb6f5e3e_65b4_11ec_856d_3c950944167arow2_col1\" class=\"data row2 col1\" >100,000</td>\n",
       "                        <td id=\"T_fb6f5e3e_65b4_11ec_856d_3c950944167arow2_col2\" class=\"data row2 col2\" >0.00%</td>\n",
       "            </tr>\n",
       "            <tr>\n",
       "                        <th id=\"T_fb6f5e3e_65b4_11ec_856d_3c950944167alevel0_row3\" class=\"row_heading level0 row3\" >f2</th>\n",
       "                        <td id=\"T_fb6f5e3e_65b4_11ec_856d_3c950944167arow3_col0\" class=\"data row3 col0\" >0</td>\n",
       "                        <td id=\"T_fb6f5e3e_65b4_11ec_856d_3c950944167arow3_col1\" class=\"data row3 col1\" >100,000</td>\n",
       "                        <td id=\"T_fb6f5e3e_65b4_11ec_856d_3c950944167arow3_col2\" class=\"data row3 col2\" >0.00%</td>\n",
       "            </tr>\n",
       "            <tr>\n",
       "                        <th id=\"T_fb6f5e3e_65b4_11ec_856d_3c950944167alevel0_row4\" class=\"row_heading level0 row4\" >product</th>\n",
       "                        <td id=\"T_fb6f5e3e_65b4_11ec_856d_3c950944167arow4_col0\" class=\"data row4 col0\" >0</td>\n",
       "                        <td id=\"T_fb6f5e3e_65b4_11ec_856d_3c950944167arow4_col1\" class=\"data row4 col1\" >100,000</td>\n",
       "                        <td id=\"T_fb6f5e3e_65b4_11ec_856d_3c950944167arow4_col2\" class=\"data row4 col2\" >0.00%</td>\n",
       "            </tr>\n",
       "    </tbody></table>"
      ],
      "text/plain": [
       "<pandas.io.formats.style.Styler at 0x14c9bde9d00>"
      ]
     },
     "execution_count": 6,
     "metadata": {},
     "output_type": "execute_result"
    }
   ],
   "source": [
    "geo_1.stb.missing(style=True)"
   ]
  },
  {
   "cell_type": "code",
   "execution_count": 7,
   "metadata": {},
   "outputs": [
    {
     "data": {
      "text/html": [
       "<style  type=\"text/css\" >\n",
       "</style><table id=\"T_fb775c15_65b4_11ec_8b8b_3c950944167a\" ><thead>    <tr>        <th class=\"blank level0\" ></th>        <th class=\"col_heading level0 col0\" >missing</th>        <th class=\"col_heading level0 col1\" >total</th>        <th class=\"col_heading level0 col2\" >percent</th>    </tr></thead><tbody>\n",
       "                <tr>\n",
       "                        <th id=\"T_fb775c15_65b4_11ec_8b8b_3c950944167alevel0_row0\" class=\"row_heading level0 row0\" >id</th>\n",
       "                        <td id=\"T_fb775c15_65b4_11ec_8b8b_3c950944167arow0_col0\" class=\"data row0 col0\" >0</td>\n",
       "                        <td id=\"T_fb775c15_65b4_11ec_8b8b_3c950944167arow0_col1\" class=\"data row0 col1\" >100,000</td>\n",
       "                        <td id=\"T_fb775c15_65b4_11ec_8b8b_3c950944167arow0_col2\" class=\"data row0 col2\" >0.00%</td>\n",
       "            </tr>\n",
       "            <tr>\n",
       "                        <th id=\"T_fb775c15_65b4_11ec_8b8b_3c950944167alevel0_row1\" class=\"row_heading level0 row1\" >f0</th>\n",
       "                        <td id=\"T_fb775c15_65b4_11ec_8b8b_3c950944167arow1_col0\" class=\"data row1 col0\" >0</td>\n",
       "                        <td id=\"T_fb775c15_65b4_11ec_8b8b_3c950944167arow1_col1\" class=\"data row1 col1\" >100,000</td>\n",
       "                        <td id=\"T_fb775c15_65b4_11ec_8b8b_3c950944167arow1_col2\" class=\"data row1 col2\" >0.00%</td>\n",
       "            </tr>\n",
       "            <tr>\n",
       "                        <th id=\"T_fb775c15_65b4_11ec_8b8b_3c950944167alevel0_row2\" class=\"row_heading level0 row2\" >f1</th>\n",
       "                        <td id=\"T_fb775c15_65b4_11ec_8b8b_3c950944167arow2_col0\" class=\"data row2 col0\" >0</td>\n",
       "                        <td id=\"T_fb775c15_65b4_11ec_8b8b_3c950944167arow2_col1\" class=\"data row2 col1\" >100,000</td>\n",
       "                        <td id=\"T_fb775c15_65b4_11ec_8b8b_3c950944167arow2_col2\" class=\"data row2 col2\" >0.00%</td>\n",
       "            </tr>\n",
       "            <tr>\n",
       "                        <th id=\"T_fb775c15_65b4_11ec_8b8b_3c950944167alevel0_row3\" class=\"row_heading level0 row3\" >f2</th>\n",
       "                        <td id=\"T_fb775c15_65b4_11ec_8b8b_3c950944167arow3_col0\" class=\"data row3 col0\" >0</td>\n",
       "                        <td id=\"T_fb775c15_65b4_11ec_8b8b_3c950944167arow3_col1\" class=\"data row3 col1\" >100,000</td>\n",
       "                        <td id=\"T_fb775c15_65b4_11ec_8b8b_3c950944167arow3_col2\" class=\"data row3 col2\" >0.00%</td>\n",
       "            </tr>\n",
       "            <tr>\n",
       "                        <th id=\"T_fb775c15_65b4_11ec_8b8b_3c950944167alevel0_row4\" class=\"row_heading level0 row4\" >product</th>\n",
       "                        <td id=\"T_fb775c15_65b4_11ec_8b8b_3c950944167arow4_col0\" class=\"data row4 col0\" >0</td>\n",
       "                        <td id=\"T_fb775c15_65b4_11ec_8b8b_3c950944167arow4_col1\" class=\"data row4 col1\" >100,000</td>\n",
       "                        <td id=\"T_fb775c15_65b4_11ec_8b8b_3c950944167arow4_col2\" class=\"data row4 col2\" >0.00%</td>\n",
       "            </tr>\n",
       "    </tbody></table>"
      ],
      "text/plain": [
       "<pandas.io.formats.style.Styler at 0x14c90248a90>"
      ]
     },
     "execution_count": 7,
     "metadata": {},
     "output_type": "execute_result"
    }
   ],
   "source": [
    "geo_2.stb.missing(style=True)"
   ]
  },
  {
   "cell_type": "markdown",
   "metadata": {},
   "source": [
    "There are no missing values in our data."
   ]
  },
  {
   "cell_type": "markdown",
   "metadata": {},
   "source": [
    "## Data analysis"
   ]
  },
  {
   "cell_type": "markdown",
   "metadata": {},
   "source": [
    "### Split the source data into a training set, and a test set."
   ]
  },
  {
   "cell_type": "markdown",
   "metadata": {},
   "source": [
    "Split the data into a training set and validation set at a ratio of 75:25."
   ]
  },
  {
   "cell_type": "code",
   "execution_count": 8,
   "metadata": {},
   "outputs": [],
   "source": [
    "geo_0_train, geo_0_test=train_test_split(geo_0, test_size=0.25, random_state=12345)\n",
    "geo_1_train, geo_1_test=train_test_split(geo_1, test_size=0.25, random_state=12345)\n",
    "geo_2_train, geo_2_test=train_test_split(geo_2, test_size=0.25, random_state=12345)"
   ]
  },
  {
   "cell_type": "markdown",
   "metadata": {},
   "source": [
    "### Making features & targets datasets for each dataset."
   ]
  },
  {
   "cell_type": "markdown",
   "metadata": {},
   "source": [
    "Used convension for:\n",
    "\n",
    "    Features=x\n",
    "    Target=y"
   ]
  },
  {
   "cell_type": "code",
   "execution_count": 9,
   "metadata": {},
   "outputs": [],
   "source": [
    "geo_0_x_train=geo_0_train.drop(['product', 'id'], axis=1)\n",
    "geo_0_y_train=geo_0_train['product']\n",
    "\n",
    "geo_0_x_test=geo_0_test.drop(['product', 'id'], axis=1)\n",
    "geo_0_y_test=geo_0_test['product']\n",
    "\n",
    "geo_1_x_train=geo_1_train.drop(['product', 'id'], axis=1)\n",
    "geo_1_y_train=geo_1_train['product']\n",
    "\n",
    "geo_1_x_test=geo_1_test.drop(['product', 'id'], axis=1)\n",
    "geo_1_y_test=geo_1_test['product']\n",
    "\n",
    "geo_2_x_train=geo_2_train.drop(['product', 'id'], axis=1)\n",
    "geo_2_y_train=geo_2_train['product']\n",
    "\n",
    "geo_2_x_test=geo_2_test.drop(['product', 'id'], axis=1)\n",
    "geo_2_y_test=geo_2_test['product']"
   ]
  },
  {
   "cell_type": "markdown",
   "metadata": {},
   "source": [
    "### Train the model and make predictions for the validation set."
   ]
  },
  {
   "cell_type": "markdown",
   "metadata": {},
   "source": [
    "Training the ML model using `LinearRegression` as it is most suitable for a regression problem."
   ]
  },
  {
   "cell_type": "code",
   "execution_count": 10,
   "metadata": {},
   "outputs": [
    {
     "data": {
      "text/plain": [
       "LinearRegression()"
      ]
     },
     "execution_count": 10,
     "metadata": {},
     "output_type": "execute_result"
    },
    {
     "data": {
      "text/plain": [
       "LinearRegression()"
      ]
     },
     "execution_count": 10,
     "metadata": {},
     "output_type": "execute_result"
    },
    {
     "data": {
      "text/plain": [
       "LinearRegression()"
      ]
     },
     "execution_count": 10,
     "metadata": {},
     "output_type": "execute_result"
    },
    {
     "name": "stdout",
     "output_type": "stream",
     "text": [
      "Region 0 prediction results\n",
      "---------------------------\n",
      "Average predicted reserves: 92.59\n",
      "RMSE score: 37.58\n",
      "R2 score: 0.28\n",
      "\n",
      "Region 1 prediction results\n",
      "---------------------------\n",
      "Average predicted reserves: 68.73\n",
      "RMSE score: 0.89\n",
      "R2 score: 1.00\n",
      "\n",
      "Region 2 prediction results\n",
      "---------------------------\n",
      "Average predicted reserves: 94.97\n",
      "RMSE score: 40.03\n",
      "R2 score: 0.21\n",
      "\n"
     ]
    }
   ],
   "source": [
    "model_0 = LinearRegression()\n",
    "model_1 = LinearRegression()\n",
    "model_2 = LinearRegression()\n",
    "\n",
    "model_0.fit(geo_0_x_train, geo_0_y_train)\n",
    "model_1.fit(geo_1_x_train, geo_1_y_train)\n",
    "model_2.fit(geo_2_x_train, geo_2_y_train)\n",
    "\n",
    "predict_0=model_0.predict(geo_0_x_test)\n",
    "rmse_0 = mean_squared_error(geo_0_y_test, predict_0, squared=False)\n",
    "\n",
    "predict_1=model_1.predict(geo_1_x_test)\n",
    "rmse_1 = mean_squared_error(geo_1_y_test, predict_1, squared=False)\n",
    "\n",
    "predict_2=model_2.predict(geo_2_x_test)\n",
    "rmse_2 = mean_squared_error(geo_2_y_test, predict_2, squared=False)\n",
    "\n",
    "average_predicted_reserves_0=predict_0.mean()\n",
    "average_predicted_reserves_1=predict_1.mean()\n",
    "average_predicted_reserves_2=predict_2.mean()\n",
    "\n",
    "r2_0=r2_score(geo_0_y_test, predict_0)\n",
    "r2_1=r2_score(geo_1_y_test, predict_1)\n",
    "r2_2=r2_score(geo_2_y_test, predict_2)\n",
    "\n",
    "print('Region 0 prediction results')\n",
    "print('---------------------------')\n",
    "print('Average predicted reserves: {:.2f}'.format(average_predicted_reserves_0))\n",
    "print('RMSE score: {:.2f}'.format(rmse_0))\n",
    "print('R2 score: {:.2f}'.format(r2_0))\n",
    "print()\n",
    "\n",
    "print('Region 1 prediction results')\n",
    "print('---------------------------')\n",
    "print('Average predicted reserves: {:.2f}'.format(average_predicted_reserves_1))\n",
    "print('RMSE score: {:.2f}'.format(rmse_1))\n",
    "print('R2 score: {:.2f}'.format(r2_1))\n",
    "print()\n",
    "\n",
    "print('Region 2 prediction results')\n",
    "print('---------------------------')\n",
    "print('Average predicted reserves: {:.2f}'.format(average_predicted_reserves_2))\n",
    "print('RMSE score: {:.2f}'.format(rmse_2))\n",
    "print('R2 score: {:.2f}'.format(r2_2))\n",
    "print()"
   ]
  },
  {
   "cell_type": "markdown",
   "metadata": {},
   "source": [
    "The Region 1 predictions were very accurate. Not like the other 2 regions which didn't have such good predictions, which have higher RMSE, and much lower R2 score. "
   ]
  },
  {
   "cell_type": "markdown",
   "metadata": {},
   "source": [
    "## Data preperation for profit calculation"
   ]
  },
  {
   "cell_type": "markdown",
   "metadata": {},
   "source": [
    "1. You need to set up variables: barrel_revenue, unit_revenue, budget, best_points_amount (the best 200 wells selected from 500 as a sample size), sample_size\n",
    "2. Calculate the volume of reserves sufficient for developing a new well. `well_cost = budget / best_points_amount`\n",
    "3. Compare the obtained value with the average volume of reserves in each region: predictions.mean() vs well_cost"
   ]
  },
  {
   "cell_type": "markdown",
   "metadata": {},
   "source": [
    "Conditions for profit calculation:\n",
    "1. Only linear regression is suitable for model training (the rest are not sufficiently predictable).\n",
    "2. When exploring the region, a study of 500 points is carried with picking the best 200 points for the profit calculation.\n",
    "3. The budget for development of 200 oil wells is 100 USD million.\n",
    "4. One barrel of raw materials brings 4.5 USD of revenue The revenue from one unit of product is 4,500 dollars (volume of reserves is in thousand barrels).\n",
    "5. After the risk evaluation, keep only the regions with the risk of losses lower than 2.5%. From the ones that fit the criteria, the region with the highest average profit should be selected.\n"
   ]
  },
  {
   "cell_type": "markdown",
   "metadata": {},
   "source": [
    "Those conditions are summed into the next parameters:"
   ]
  },
  {
   "cell_type": "code",
   "execution_count": 27,
   "metadata": {},
   "outputs": [],
   "source": [
    "barrel_revenue=4.5\n",
    "unit_revenue=4500\n",
    "budget=100000000\n",
    "best_points_amount=200\n",
    "sample_size=500\n",
    "confidence_level=1-0.025"
   ]
  },
  {
   "cell_type": "markdown",
   "metadata": {},
   "source": [
    "Calculating the profit for each well."
   ]
  },
  {
   "cell_type": "code",
   "execution_count": 16,
   "metadata": {},
   "outputs": [],
   "source": [
    "geo_0['profit']=geo_0['product']*unit_revenue\n",
    "geo_1['profit']=geo_1['product']*unit_revenue\n",
    "geo_2['profit']=geo_2['product']*unit_revenue"
   ]
  },
  {
   "cell_type": "markdown",
   "metadata": {},
   "source": [
    "Taking the 200 most profitable wells."
   ]
  },
  {
   "cell_type": "code",
   "execution_count": 18,
   "metadata": {},
   "outputs": [],
   "source": [
    "geo_top_0=geo_0.sort_values('profit', ascending=False).head(200)\n",
    "geo_top_1=geo_1.sort_values('profit', ascending=False).head(200)\n",
    "geo_top_2=geo_2.sort_values('profit', ascending=False).head(200)"
   ]
  },
  {
   "cell_type": "markdown",
   "metadata": {},
   "source": [
    "Calculating the profit for a region."
   ]
  },
  {
   "cell_type": "code",
   "execution_count": 52,
   "metadata": {},
   "outputs": [
    {
     "name": "stdout",
     "output_type": "stream",
     "text": [
      "Profit for region 0: 166350365.68$\n",
      "Profit for region 1: 124150866.97$\n",
      "Profit for region 2: 170596329.28$\n"
     ]
    }
   ],
   "source": [
    "geo_profit_0=geo_top_0['profit'].sum()\n",
    "geo_profit_1=geo_top_1['profit'].sum()\n",
    "geo_profit_2=geo_top_2['profit'].sum()\n",
    "print('Profit for region 0: {:.2f}$'.format(geo_profit_0))\n",
    "print('Profit for region 1: {:.2f}$'.format(geo_profit_1))\n",
    "print('Profit for region 2: {:.2f}$'.format(geo_profit_2))"
   ]
  },
  {
   "cell_type": "markdown",
   "metadata": {},
   "source": [
    "Risk evaluation:"
   ]
  },
  {
   "cell_type": "code",
   "execution_count": 51,
   "metadata": {},
   "outputs": [
    {
     "name": "stdout",
     "output_type": "stream",
     "text": [
      "Profit evaluation for region 0, with confidence of 97.5%: 166389849.46$\n",
      "Profit evaluation for region 1, with confidence of 97.5%: 124150866.97$\n",
      "Profit evaluation for region 2, with confidence of 97.5%: 170634365.54$\n"
     ]
    }
   ],
   "source": [
    "def risk_evaluation(data):\n",
    "    state = np.random.RandomState(12345)\n",
    "    values = []\n",
    "\n",
    "    for i in range(500):\n",
    "        geosubsample = data.sample(frac=1, replace=True, random_state=state)\n",
    "        values.append(geosubsample['profit'].sum())\n",
    "\n",
    "    values=pd.Series(values)\n",
    "    return values.quantile(confidence_level)\n",
    "\n",
    "print('Profit evaluation for region 0, with confidence of 97.5%: {:.2f}$'.format(risk_evaluation(geo_top_0)))\n",
    "print('Profit evaluation for region 1, with confidence of 97.5%: {:.2f}$'.format(risk_evaluation(geo_top_1)))\n",
    "print('Profit evaluation for region 2, with confidence of 97.5%: {:.2f}$'.format(risk_evaluation(geo_top_2)))"
   ]
  },
  {
   "cell_type": "markdown",
   "metadata": {},
   "source": [
    "After looking at the predicted profit from each region, with the risk of 2.5%, I can see that all regions are profitable."
   ]
  },
  {
   "cell_type": "markdown",
   "metadata": {},
   "source": [
    "Finding the ROI for region 2."
   ]
  },
  {
   "cell_type": "code",
   "execution_count": 65,
   "metadata": {},
   "outputs": [
    {
     "name": "stdout",
     "output_type": "stream",
     "text": [
      "ROI for region 2: 70.63%\n"
     ]
    }
   ],
   "source": [
    "print('ROI for region 2: {:.2%}'.format((risk_evaluation(geo_top_2)-budget)/budget))"
   ]
  },
  {
   "cell_type": "markdown",
   "metadata": {},
   "source": [
    "The most profitable region is region 2, and it has a nice predicted ROI on an investment of 70.63%."
   ]
  },
  {
   "cell_type": "markdown",
   "metadata": {},
   "source": [
    "## Conclusion"
   ]
  },
  {
   "cell_type": "markdown",
   "metadata": {},
   "source": [
    "Developing an oil well is a very expensive task, therefore it's crucial to minimize the risks.  \n",
    "After analyzing the data of the 3 regions, there is one region that is likely to be the most profitable one, with a nice ROI of over 70%."
   ]
  },
  {
   "cell_type": "markdown",
   "metadata": {},
   "source": [
    " \n",
    "  "
   ]
  },
  {
   "cell_type": "markdown",
   "metadata": {},
   "source": [
    " "
   ]
  }
 ],
 "metadata": {
  "kernelspec": {
   "display_name": "Python 3",
   "language": "python",
   "name": "python3"
  },
  "language_info": {
   "codemirror_mode": {
    "name": "ipython",
    "version": 3
   },
   "file_extension": ".py",
   "mimetype": "text/x-python",
   "name": "python",
   "nbconvert_exporter": "python",
   "pygments_lexer": "ipython3",
   "version": "3.8.5"
  }
 },
 "nbformat": 4,
 "nbformat_minor": 4
}
