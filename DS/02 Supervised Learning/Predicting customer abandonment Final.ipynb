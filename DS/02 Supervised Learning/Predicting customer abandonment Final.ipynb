{
 "cells": [
  {
   "cell_type": "markdown",
   "metadata": {},
   "source": [
    "# Predicting customer abandonment"
   ]
  },
  {
   "cell_type": "markdown",
   "metadata": {
    "toc": true
   },
   "source": [
    "<h1>Table of Contents<span class=\"tocSkip\"></span></h1>\n",
    "<div class=\"toc\"><ul class=\"toc-item\"><li><span><a href=\"#Project-Description\" data-toc-modified-id=\"Project-Description-1\"><span class=\"toc-item-num\">1&nbsp;&nbsp;</span>Project Description</a></span></li><li><span><a href=\"#Data-preperation\" data-toc-modified-id=\"Data-preperation-2\"><span class=\"toc-item-num\">2&nbsp;&nbsp;</span>Data preperation</a></span><ul class=\"toc-item\"><li><span><a href=\"#Missing-values-check.\" data-toc-modified-id=\"Missing-values-check.-2.1\"><span class=\"toc-item-num\">2.1&nbsp;&nbsp;</span>Missing values check.</a></span></li><li><span><a href=\"#Alphabetical-features-treatment\" data-toc-modified-id=\"Alphabetical-features-treatment-2.2\"><span class=\"toc-item-num\">2.2&nbsp;&nbsp;</span>Alphabetical features treatment</a></span><ul class=\"toc-item\"><li><span><a href=\"#Droping-redundant-feature\" data-toc-modified-id=\"Droping-redundant-feature-2.2.1\"><span class=\"toc-item-num\">2.2.1&nbsp;&nbsp;</span>Droping redundant feature</a></span></li><li><span><a href=\"#Alphabetical-features-encoding\" data-toc-modified-id=\"Alphabetical-features-encoding-2.2.2\"><span class=\"toc-item-num\">2.2.2&nbsp;&nbsp;</span>Alphabetical features encoding</a></span><ul class=\"toc-item\"><li><span><a href=\"#One-Hot-Encoding-(OHE)\" data-toc-modified-id=\"One-Hot-Encoding-(OHE)-2.2.2.1\"><span class=\"toc-item-num\">2.2.2.1&nbsp;&nbsp;</span>One-Hot Encoding (OHE)</a></span></li><li><span><a href=\"#Label-Encoding\" data-toc-modified-id=\"Label-Encoding-2.2.2.2\"><span class=\"toc-item-num\">2.2.2.2&nbsp;&nbsp;</span>Label Encoding</a></span></li></ul></li></ul></li><li><span><a href=\"#Split-the-source-data-into-a-training-set,-and-a-test-set.\" data-toc-modified-id=\"Split-the-source-data-into-a-training-set,-and-a-test-set.-2.3\"><span class=\"toc-item-num\">2.3&nbsp;&nbsp;</span>Split the source data into a training set, and a test set.</a></span></li><li><span><a href=\"#Making-features-&amp;-targets-datasets-for-each-dataset.\" data-toc-modified-id=\"Making-features-&amp;-targets-datasets-for-each-dataset.-2.4\"><span class=\"toc-item-num\">2.4&nbsp;&nbsp;</span>Making features &amp; targets datasets for each dataset.</a></span></li></ul></li><li><span><a href=\"#Model-training\" data-toc-modified-id=\"Model-training-3\"><span class=\"toc-item-num\">3&nbsp;&nbsp;</span>Model training</a></span><ul class=\"toc-item\"><li><span><a href=\"#Examine-the-balance-of-classes\" data-toc-modified-id=\"Examine-the-balance-of-classes-3.1\"><span class=\"toc-item-num\">3.1&nbsp;&nbsp;</span>Examine the balance of classes</a></span></li><li><span><a href=\"#F1-and-ROC-AUC-metrics\" data-toc-modified-id=\"F1-and-ROC-AUC-metrics-3.2\"><span class=\"toc-item-num\">3.2&nbsp;&nbsp;</span>F1 and ROC-AUC metrics</a></span></li><li><span><a href=\"#Train-the-model-without-taking-into-account-the-imbalance.\" data-toc-modified-id=\"Train-the-model-without-taking-into-account-the-imbalance.-3.3\"><span class=\"toc-item-num\">3.3&nbsp;&nbsp;</span>Train the model without taking into account the imbalance.</a></span></li><li><span><a href=\"#Conclusion\" data-toc-modified-id=\"Conclusion-3.4\"><span class=\"toc-item-num\">3.4&nbsp;&nbsp;</span>Conclusion</a></span></li></ul></li><li><span><a href=\"#Improve-the-quality-of-the-model.\" data-toc-modified-id=\"Improve-the-quality-of-the-model.-4\"><span class=\"toc-item-num\">4&nbsp;&nbsp;</span>Improve the quality of the model.</a></span><ul class=\"toc-item\"><li><span><a href=\"#Upsampling-and-Downsampling-the-datasets\" data-toc-modified-id=\"Upsampling-and-Downsampling-the-datasets-4.1\"><span class=\"toc-item-num\">4.1&nbsp;&nbsp;</span>Upsampling and Downsampling the datasets</a></span><ul class=\"toc-item\"><li><span><a href=\"#Upsampling-OHE\" data-toc-modified-id=\"Upsampling-OHE-4.1.1\"><span class=\"toc-item-num\">4.1.1&nbsp;&nbsp;</span>Upsampling OHE</a></span></li><li><span><a href=\"#Upsampling-Label-encoding\" data-toc-modified-id=\"Upsampling-Label-encoding-4.1.2\"><span class=\"toc-item-num\">4.1.2&nbsp;&nbsp;</span>Upsampling Label encoding</a></span></li><li><span><a href=\"#Downsampling-OHE\" data-toc-modified-id=\"Downsampling-OHE-4.1.3\"><span class=\"toc-item-num\">4.1.3&nbsp;&nbsp;</span>Downsampling OHE</a></span></li><li><span><a href=\"#Downsampling-Label-encoding\" data-toc-modified-id=\"Downsampling-Label-encoding-4.1.4\"><span class=\"toc-item-num\">4.1.4&nbsp;&nbsp;</span>Downsampling Label encoding</a></span></li></ul></li><li><span><a href=\"#Testing-the-upsampled-datasets\" data-toc-modified-id=\"Testing-the-upsampled-datasets-4.2\"><span class=\"toc-item-num\">4.2&nbsp;&nbsp;</span>Testing the upsampled datasets</a></span><ul class=\"toc-item\"><li><span><a href=\"#DecisionTreeClassifier\" data-toc-modified-id=\"DecisionTreeClassifier-4.2.1\"><span class=\"toc-item-num\">4.2.1&nbsp;&nbsp;</span>DecisionTreeClassifier</a></span></li><li><span><a href=\"#RandomForestClassifier\" data-toc-modified-id=\"RandomForestClassifier-4.2.2\"><span class=\"toc-item-num\">4.2.2&nbsp;&nbsp;</span>RandomForestClassifier</a></span></li><li><span><a href=\"#LogisticRegression\" data-toc-modified-id=\"LogisticRegression-4.2.3\"><span class=\"toc-item-num\">4.2.3&nbsp;&nbsp;</span>LogisticRegression</a></span></li></ul></li><li><span><a href=\"#Testing-the-downsampled-datasets\" data-toc-modified-id=\"Testing-the-downsampled-datasets-4.3\"><span class=\"toc-item-num\">4.3&nbsp;&nbsp;</span>Testing the downsampled datasets</a></span><ul class=\"toc-item\"><li><span><a href=\"#DecisionTreeClassifier\" data-toc-modified-id=\"DecisionTreeClassifier-4.3.1\"><span class=\"toc-item-num\">4.3.1&nbsp;&nbsp;</span>DecisionTreeClassifier</a></span></li><li><span><a href=\"#RandomForestClassifier\" data-toc-modified-id=\"RandomForestClassifier-4.3.2\"><span class=\"toc-item-num\">4.3.2&nbsp;&nbsp;</span>RandomForestClassifier</a></span></li><li><span><a href=\"#LogisticRegression\" data-toc-modified-id=\"LogisticRegression-4.3.3\"><span class=\"toc-item-num\">4.3.3&nbsp;&nbsp;</span>LogisticRegression</a></span></li></ul></li><li><span><a href=\"#Conclusion\" data-toc-modified-id=\"Conclusion-4.4\"><span class=\"toc-item-num\">4.4&nbsp;&nbsp;</span>Conclusion</a></span></li></ul></li><li><span><a href=\"#The-final-test\" data-toc-modified-id=\"The-final-test-5\"><span class=\"toc-item-num\">5&nbsp;&nbsp;</span>The final test</a></span></li><li><span><a href=\"#Conclusion\" data-toc-modified-id=\"Conclusion-6\"><span class=\"toc-item-num\">6&nbsp;&nbsp;</span>Conclusion</a></span></li></ul></div>"
   ]
  },
  {
   "cell_type": "markdown",
   "metadata": {},
   "source": [
    "## Project Description"
   ]
  },
  {
   "cell_type": "markdown",
   "metadata": {},
   "source": [
    "Beta Bank customers are leaving: little by little, chipping away every month. The bankers figured out it’s cheaper to save the existing customers rather than to attract new ones.\n",
    "We need to predict whether a customer will leave the bank soon. You have the data on clients’ past behavior and termination of contracts with the bank.\n",
    "Build a model with the maximum possible F1 score. To pass the project, you need an F1 score of at least 0.59. Check the F1 for the test set.\n",
    "Additionally, measure the AUC-ROC metric and compare it with the F1."
   ]
  },
  {
   "cell_type": "code",
   "execution_count": 1,
   "metadata": {},
   "outputs": [],
   "source": [
    "# pip install -U -q scikit-learn\n",
    "# pip install -q sidetable"
   ]
  },
  {
   "cell_type": "code",
   "execution_count": 2,
   "metadata": {},
   "outputs": [],
   "source": [
    "import pandas as pd\n",
    "from sklearn.model_selection import train_test_split\n",
    "from sklearn.metrics import accuracy_score\n",
    "from sklearn.tree import DecisionTreeClassifier\n",
    "from sklearn.ensemble import RandomForestClassifier\n",
    "from sklearn.linear_model import LogisticRegression\n",
    "from sklearn.model_selection import cross_val_score\n",
    "from sklearn.preprocessing import OrdinalEncoder\n",
    "from sklearn.model_selection import cross_validate\n",
    "from sklearn.metrics import ConfusionMatrixDisplay\n",
    "from sklearn.utils import shuffle\n",
    "from sklearn.metrics import f1_score\n",
    "import matplotlib.pyplot as plt\n",
    "import sidetable\n",
    "\n",
    "\n",
    "from IPython.core.interactiveshell import InteractiveShell\n",
    "InteractiveShell.ast_node_interactivity = \"all\""
   ]
  },
  {
   "cell_type": "markdown",
   "metadata": {},
   "source": [
    "## Data preperation"
   ]
  },
  {
   "cell_type": "code",
   "execution_count": 3,
   "metadata": {},
   "outputs": [],
   "source": [
    "def load_data(file_name, parse_dates=None, dtype=None, sep=','):\n",
    "    df=''\n",
    "    \n",
    "    try:\n",
    "        df=pd.read_csv('datasets/{}'.format(file_name), parse_dates=parse_dates, dtype=dtype, sep=sep)\n",
    "    except:\n",
    "        df=pd.read_csv('/datasets/{}'.format(file_name), parse_dates=parse_dates, dtype=dtype, sep=sep)\n",
    "    \n",
    "        \n",
    "    return df"
   ]
  },
  {
   "cell_type": "code",
   "execution_count": 4,
   "metadata": {},
   "outputs": [
    {
     "data": {
      "text/html": [
       "<div>\n",
       "<style scoped>\n",
       "    .dataframe tbody tr th:only-of-type {\n",
       "        vertical-align: middle;\n",
       "    }\n",
       "\n",
       "    .dataframe tbody tr th {\n",
       "        vertical-align: top;\n",
       "    }\n",
       "\n",
       "    .dataframe thead th {\n",
       "        text-align: right;\n",
       "    }\n",
       "</style>\n",
       "<table border=\"1\" class=\"dataframe\">\n",
       "  <thead>\n",
       "    <tr style=\"text-align: right;\">\n",
       "      <th></th>\n",
       "      <th>Unnamed: 0</th>\n",
       "      <th>RowNumber</th>\n",
       "      <th>CustomerId</th>\n",
       "      <th>Surname</th>\n",
       "      <th>CreditScore</th>\n",
       "      <th>Geography</th>\n",
       "      <th>Gender</th>\n",
       "      <th>Age</th>\n",
       "      <th>Tenure</th>\n",
       "      <th>Balance</th>\n",
       "      <th>NumOfProducts</th>\n",
       "      <th>HasCrCard</th>\n",
       "      <th>IsActiveMember</th>\n",
       "      <th>EstimatedSalary</th>\n",
       "      <th>Exited</th>\n",
       "    </tr>\n",
       "  </thead>\n",
       "  <tbody>\n",
       "    <tr>\n",
       "      <th>0</th>\n",
       "      <td>0</td>\n",
       "      <td>1</td>\n",
       "      <td>15634602</td>\n",
       "      <td>Hargrave</td>\n",
       "      <td>619</td>\n",
       "      <td>France</td>\n",
       "      <td>Female</td>\n",
       "      <td>42</td>\n",
       "      <td>2.0</td>\n",
       "      <td>0.00</td>\n",
       "      <td>1</td>\n",
       "      <td>1</td>\n",
       "      <td>1</td>\n",
       "      <td>101348.88</td>\n",
       "      <td>1</td>\n",
       "    </tr>\n",
       "    <tr>\n",
       "      <th>1</th>\n",
       "      <td>1</td>\n",
       "      <td>2</td>\n",
       "      <td>15647311</td>\n",
       "      <td>Hill</td>\n",
       "      <td>608</td>\n",
       "      <td>Spain</td>\n",
       "      <td>Female</td>\n",
       "      <td>41</td>\n",
       "      <td>1.0</td>\n",
       "      <td>83807.86</td>\n",
       "      <td>1</td>\n",
       "      <td>0</td>\n",
       "      <td>1</td>\n",
       "      <td>112542.58</td>\n",
       "      <td>0</td>\n",
       "    </tr>\n",
       "  </tbody>\n",
       "</table>\n",
       "</div>"
      ],
      "text/plain": [
       "   Unnamed: 0  RowNumber  CustomerId   Surname  CreditScore Geography  Gender  \\\n",
       "0           0          1    15634602  Hargrave          619    France  Female   \n",
       "1           1          2    15647311      Hill          608     Spain  Female   \n",
       "\n",
       "   Age  Tenure   Balance  NumOfProducts  HasCrCard  IsActiveMember  \\\n",
       "0   42     2.0      0.00              1          1               1   \n",
       "1   41     1.0  83807.86              1          0               1   \n",
       "\n",
       "   EstimatedSalary  Exited  \n",
       "0        101348.88       1  \n",
       "1        112542.58       0  "
      ]
     },
     "execution_count": 4,
     "metadata": {},
     "output_type": "execute_result"
    }
   ],
   "source": [
    "df=load_data('Churn.csv')\n",
    "\n",
    "df.head(2)"
   ]
  },
  {
   "cell_type": "markdown",
   "metadata": {},
   "source": [
    "### Missing values check."
   ]
  },
  {
   "cell_type": "code",
   "execution_count": 5,
   "metadata": {},
   "outputs": [
    {
     "data": {
      "text/html": [
       "<style  type=\"text/css\" >\n",
       "</style><table id=\"T_709f0e82_59a5_11ec_a2cd_3c950944167a\" ><thead>    <tr>        <th class=\"blank level0\" ></th>        <th class=\"col_heading level0 col0\" >missing</th>        <th class=\"col_heading level0 col1\" >total</th>        <th class=\"col_heading level0 col2\" >percent</th>    </tr></thead><tbody>\n",
       "                <tr>\n",
       "                        <th id=\"T_709f0e82_59a5_11ec_a2cd_3c950944167alevel0_row0\" class=\"row_heading level0 row0\" >Tenure</th>\n",
       "                        <td id=\"T_709f0e82_59a5_11ec_a2cd_3c950944167arow0_col0\" class=\"data row0 col0\" >909</td>\n",
       "                        <td id=\"T_709f0e82_59a5_11ec_a2cd_3c950944167arow0_col1\" class=\"data row0 col1\" >10,000</td>\n",
       "                        <td id=\"T_709f0e82_59a5_11ec_a2cd_3c950944167arow0_col2\" class=\"data row0 col2\" >9.09%</td>\n",
       "            </tr>\n",
       "            <tr>\n",
       "                        <th id=\"T_709f0e82_59a5_11ec_a2cd_3c950944167alevel0_row1\" class=\"row_heading level0 row1\" >Unnamed: 0</th>\n",
       "                        <td id=\"T_709f0e82_59a5_11ec_a2cd_3c950944167arow1_col0\" class=\"data row1 col0\" >0</td>\n",
       "                        <td id=\"T_709f0e82_59a5_11ec_a2cd_3c950944167arow1_col1\" class=\"data row1 col1\" >10,000</td>\n",
       "                        <td id=\"T_709f0e82_59a5_11ec_a2cd_3c950944167arow1_col2\" class=\"data row1 col2\" >0.00%</td>\n",
       "            </tr>\n",
       "            <tr>\n",
       "                        <th id=\"T_709f0e82_59a5_11ec_a2cd_3c950944167alevel0_row2\" class=\"row_heading level0 row2\" >RowNumber</th>\n",
       "                        <td id=\"T_709f0e82_59a5_11ec_a2cd_3c950944167arow2_col0\" class=\"data row2 col0\" >0</td>\n",
       "                        <td id=\"T_709f0e82_59a5_11ec_a2cd_3c950944167arow2_col1\" class=\"data row2 col1\" >10,000</td>\n",
       "                        <td id=\"T_709f0e82_59a5_11ec_a2cd_3c950944167arow2_col2\" class=\"data row2 col2\" >0.00%</td>\n",
       "            </tr>\n",
       "            <tr>\n",
       "                        <th id=\"T_709f0e82_59a5_11ec_a2cd_3c950944167alevel0_row3\" class=\"row_heading level0 row3\" >CustomerId</th>\n",
       "                        <td id=\"T_709f0e82_59a5_11ec_a2cd_3c950944167arow3_col0\" class=\"data row3 col0\" >0</td>\n",
       "                        <td id=\"T_709f0e82_59a5_11ec_a2cd_3c950944167arow3_col1\" class=\"data row3 col1\" >10,000</td>\n",
       "                        <td id=\"T_709f0e82_59a5_11ec_a2cd_3c950944167arow3_col2\" class=\"data row3 col2\" >0.00%</td>\n",
       "            </tr>\n",
       "            <tr>\n",
       "                        <th id=\"T_709f0e82_59a5_11ec_a2cd_3c950944167alevel0_row4\" class=\"row_heading level0 row4\" >Surname</th>\n",
       "                        <td id=\"T_709f0e82_59a5_11ec_a2cd_3c950944167arow4_col0\" class=\"data row4 col0\" >0</td>\n",
       "                        <td id=\"T_709f0e82_59a5_11ec_a2cd_3c950944167arow4_col1\" class=\"data row4 col1\" >10,000</td>\n",
       "                        <td id=\"T_709f0e82_59a5_11ec_a2cd_3c950944167arow4_col2\" class=\"data row4 col2\" >0.00%</td>\n",
       "            </tr>\n",
       "            <tr>\n",
       "                        <th id=\"T_709f0e82_59a5_11ec_a2cd_3c950944167alevel0_row5\" class=\"row_heading level0 row5\" >CreditScore</th>\n",
       "                        <td id=\"T_709f0e82_59a5_11ec_a2cd_3c950944167arow5_col0\" class=\"data row5 col0\" >0</td>\n",
       "                        <td id=\"T_709f0e82_59a5_11ec_a2cd_3c950944167arow5_col1\" class=\"data row5 col1\" >10,000</td>\n",
       "                        <td id=\"T_709f0e82_59a5_11ec_a2cd_3c950944167arow5_col2\" class=\"data row5 col2\" >0.00%</td>\n",
       "            </tr>\n",
       "            <tr>\n",
       "                        <th id=\"T_709f0e82_59a5_11ec_a2cd_3c950944167alevel0_row6\" class=\"row_heading level0 row6\" >Geography</th>\n",
       "                        <td id=\"T_709f0e82_59a5_11ec_a2cd_3c950944167arow6_col0\" class=\"data row6 col0\" >0</td>\n",
       "                        <td id=\"T_709f0e82_59a5_11ec_a2cd_3c950944167arow6_col1\" class=\"data row6 col1\" >10,000</td>\n",
       "                        <td id=\"T_709f0e82_59a5_11ec_a2cd_3c950944167arow6_col2\" class=\"data row6 col2\" >0.00%</td>\n",
       "            </tr>\n",
       "            <tr>\n",
       "                        <th id=\"T_709f0e82_59a5_11ec_a2cd_3c950944167alevel0_row7\" class=\"row_heading level0 row7\" >Gender</th>\n",
       "                        <td id=\"T_709f0e82_59a5_11ec_a2cd_3c950944167arow7_col0\" class=\"data row7 col0\" >0</td>\n",
       "                        <td id=\"T_709f0e82_59a5_11ec_a2cd_3c950944167arow7_col1\" class=\"data row7 col1\" >10,000</td>\n",
       "                        <td id=\"T_709f0e82_59a5_11ec_a2cd_3c950944167arow7_col2\" class=\"data row7 col2\" >0.00%</td>\n",
       "            </tr>\n",
       "            <tr>\n",
       "                        <th id=\"T_709f0e82_59a5_11ec_a2cd_3c950944167alevel0_row8\" class=\"row_heading level0 row8\" >Age</th>\n",
       "                        <td id=\"T_709f0e82_59a5_11ec_a2cd_3c950944167arow8_col0\" class=\"data row8 col0\" >0</td>\n",
       "                        <td id=\"T_709f0e82_59a5_11ec_a2cd_3c950944167arow8_col1\" class=\"data row8 col1\" >10,000</td>\n",
       "                        <td id=\"T_709f0e82_59a5_11ec_a2cd_3c950944167arow8_col2\" class=\"data row8 col2\" >0.00%</td>\n",
       "            </tr>\n",
       "            <tr>\n",
       "                        <th id=\"T_709f0e82_59a5_11ec_a2cd_3c950944167alevel0_row9\" class=\"row_heading level0 row9\" >Balance</th>\n",
       "                        <td id=\"T_709f0e82_59a5_11ec_a2cd_3c950944167arow9_col0\" class=\"data row9 col0\" >0</td>\n",
       "                        <td id=\"T_709f0e82_59a5_11ec_a2cd_3c950944167arow9_col1\" class=\"data row9 col1\" >10,000</td>\n",
       "                        <td id=\"T_709f0e82_59a5_11ec_a2cd_3c950944167arow9_col2\" class=\"data row9 col2\" >0.00%</td>\n",
       "            </tr>\n",
       "            <tr>\n",
       "                        <th id=\"T_709f0e82_59a5_11ec_a2cd_3c950944167alevel0_row10\" class=\"row_heading level0 row10\" >NumOfProducts</th>\n",
       "                        <td id=\"T_709f0e82_59a5_11ec_a2cd_3c950944167arow10_col0\" class=\"data row10 col0\" >0</td>\n",
       "                        <td id=\"T_709f0e82_59a5_11ec_a2cd_3c950944167arow10_col1\" class=\"data row10 col1\" >10,000</td>\n",
       "                        <td id=\"T_709f0e82_59a5_11ec_a2cd_3c950944167arow10_col2\" class=\"data row10 col2\" >0.00%</td>\n",
       "            </tr>\n",
       "            <tr>\n",
       "                        <th id=\"T_709f0e82_59a5_11ec_a2cd_3c950944167alevel0_row11\" class=\"row_heading level0 row11\" >HasCrCard</th>\n",
       "                        <td id=\"T_709f0e82_59a5_11ec_a2cd_3c950944167arow11_col0\" class=\"data row11 col0\" >0</td>\n",
       "                        <td id=\"T_709f0e82_59a5_11ec_a2cd_3c950944167arow11_col1\" class=\"data row11 col1\" >10,000</td>\n",
       "                        <td id=\"T_709f0e82_59a5_11ec_a2cd_3c950944167arow11_col2\" class=\"data row11 col2\" >0.00%</td>\n",
       "            </tr>\n",
       "            <tr>\n",
       "                        <th id=\"T_709f0e82_59a5_11ec_a2cd_3c950944167alevel0_row12\" class=\"row_heading level0 row12\" >IsActiveMember</th>\n",
       "                        <td id=\"T_709f0e82_59a5_11ec_a2cd_3c950944167arow12_col0\" class=\"data row12 col0\" >0</td>\n",
       "                        <td id=\"T_709f0e82_59a5_11ec_a2cd_3c950944167arow12_col1\" class=\"data row12 col1\" >10,000</td>\n",
       "                        <td id=\"T_709f0e82_59a5_11ec_a2cd_3c950944167arow12_col2\" class=\"data row12 col2\" >0.00%</td>\n",
       "            </tr>\n",
       "            <tr>\n",
       "                        <th id=\"T_709f0e82_59a5_11ec_a2cd_3c950944167alevel0_row13\" class=\"row_heading level0 row13\" >EstimatedSalary</th>\n",
       "                        <td id=\"T_709f0e82_59a5_11ec_a2cd_3c950944167arow13_col0\" class=\"data row13 col0\" >0</td>\n",
       "                        <td id=\"T_709f0e82_59a5_11ec_a2cd_3c950944167arow13_col1\" class=\"data row13 col1\" >10,000</td>\n",
       "                        <td id=\"T_709f0e82_59a5_11ec_a2cd_3c950944167arow13_col2\" class=\"data row13 col2\" >0.00%</td>\n",
       "            </tr>\n",
       "            <tr>\n",
       "                        <th id=\"T_709f0e82_59a5_11ec_a2cd_3c950944167alevel0_row14\" class=\"row_heading level0 row14\" >Exited</th>\n",
       "                        <td id=\"T_709f0e82_59a5_11ec_a2cd_3c950944167arow14_col0\" class=\"data row14 col0\" >0</td>\n",
       "                        <td id=\"T_709f0e82_59a5_11ec_a2cd_3c950944167arow14_col1\" class=\"data row14 col1\" >10,000</td>\n",
       "                        <td id=\"T_709f0e82_59a5_11ec_a2cd_3c950944167arow14_col2\" class=\"data row14 col2\" >0.00%</td>\n",
       "            </tr>\n",
       "    </tbody></table>"
      ],
      "text/plain": [
       "<pandas.io.formats.style.Styler at 0x1edec0046d0>"
      ]
     },
     "execution_count": 5,
     "metadata": {},
     "output_type": "execute_result"
    }
   ],
   "source": [
    "df.stb.missing(style=True)"
   ]
  },
  {
   "cell_type": "code",
   "execution_count": 6,
   "metadata": {},
   "outputs": [
    {
     "name": "stdout",
     "output_type": "stream",
     "text": [
      "Percent of missing values: 9.09\n"
     ]
    }
   ],
   "source": [
    "pct_missing_vals=909/len(df)*100\n",
    "print('Percent of missing values:',pct_missing_vals)"
   ]
  },
  {
   "cell_type": "markdown",
   "metadata": {},
   "source": [
    "Tenure - period of maturation for a customer’s fixed deposit (years).  \n",
    "The field `Tenure` represents the time left for a fixed deposit account (FD) to mature. The money cannot be withdrawn from the FD before maturity.  \n",
    "\n",
    "I think that if the field is empty - it means that the customer won't have an FD account, so I'm filling this field with 0."
   ]
  },
  {
   "cell_type": "code",
   "execution_count": 7,
   "metadata": {},
   "outputs": [
    {
     "data": {
      "text/html": [
       "<div>\n",
       "<style scoped>\n",
       "    .dataframe tbody tr th:only-of-type {\n",
       "        vertical-align: middle;\n",
       "    }\n",
       "\n",
       "    .dataframe tbody tr th {\n",
       "        vertical-align: top;\n",
       "    }\n",
       "\n",
       "    .dataframe thead th {\n",
       "        text-align: right;\n",
       "    }\n",
       "</style>\n",
       "<table border=\"1\" class=\"dataframe\">\n",
       "  <thead>\n",
       "    <tr style=\"text-align: right;\">\n",
       "      <th></th>\n",
       "      <th>Unnamed: 0</th>\n",
       "      <th>RowNumber</th>\n",
       "      <th>CustomerId</th>\n",
       "      <th>Surname</th>\n",
       "      <th>CreditScore</th>\n",
       "      <th>Geography</th>\n",
       "      <th>Gender</th>\n",
       "      <th>Age</th>\n",
       "      <th>Tenure</th>\n",
       "      <th>Balance</th>\n",
       "      <th>NumOfProducts</th>\n",
       "      <th>HasCrCard</th>\n",
       "      <th>IsActiveMember</th>\n",
       "      <th>EstimatedSalary</th>\n",
       "      <th>Exited</th>\n",
       "    </tr>\n",
       "  </thead>\n",
       "  <tbody>\n",
       "  </tbody>\n",
       "</table>\n",
       "</div>"
      ],
      "text/plain": [
       "Empty DataFrame\n",
       "Columns: [Unnamed: 0, RowNumber, CustomerId, Surname, CreditScore, Geography, Gender, Age, Tenure, Balance, NumOfProducts, HasCrCard, IsActiveMember, EstimatedSalary, Exited]\n",
       "Index: []"
      ]
     },
     "execution_count": 7,
     "metadata": {},
     "output_type": "execute_result"
    }
   ],
   "source": [
    "df['Tenure']=df['Tenure'].fillna(0)\n",
    "df.query('Tenure!=Tenure')"
   ]
  },
  {
   "cell_type": "markdown",
   "metadata": {},
   "source": [
    "### Alphabetical features treatment"
   ]
  },
  {
   "cell_type": "markdown",
   "metadata": {},
   "source": [
    "There are 2 features containing alphabetical values. `Surname`, `Geography`, and `Gender`."
   ]
  },
  {
   "cell_type": "markdown",
   "metadata": {},
   "source": [
    "#### Droping redundant feature"
   ]
  },
  {
   "cell_type": "markdown",
   "metadata": {},
   "source": [
    "The `Surname` feature can be dropped, it's not relevant for predicting customers' future behavior."
   ]
  },
  {
   "cell_type": "code",
   "execution_count": 8,
   "metadata": {
    "scrolled": true
   },
   "outputs": [
    {
     "data": {
      "text/html": [
       "<div>\n",
       "<style scoped>\n",
       "    .dataframe tbody tr th:only-of-type {\n",
       "        vertical-align: middle;\n",
       "    }\n",
       "\n",
       "    .dataframe tbody tr th {\n",
       "        vertical-align: top;\n",
       "    }\n",
       "\n",
       "    .dataframe thead th {\n",
       "        text-align: right;\n",
       "    }\n",
       "</style>\n",
       "<table border=\"1\" class=\"dataframe\">\n",
       "  <thead>\n",
       "    <tr style=\"text-align: right;\">\n",
       "      <th></th>\n",
       "      <th>Unnamed: 0</th>\n",
       "      <th>RowNumber</th>\n",
       "      <th>CustomerId</th>\n",
       "      <th>CreditScore</th>\n",
       "      <th>Geography</th>\n",
       "      <th>Gender</th>\n",
       "      <th>Age</th>\n",
       "      <th>Tenure</th>\n",
       "      <th>Balance</th>\n",
       "      <th>NumOfProducts</th>\n",
       "      <th>HasCrCard</th>\n",
       "      <th>IsActiveMember</th>\n",
       "      <th>EstimatedSalary</th>\n",
       "      <th>Exited</th>\n",
       "    </tr>\n",
       "  </thead>\n",
       "  <tbody>\n",
       "    <tr>\n",
       "      <th>0</th>\n",
       "      <td>0</td>\n",
       "      <td>1</td>\n",
       "      <td>15634602</td>\n",
       "      <td>619</td>\n",
       "      <td>France</td>\n",
       "      <td>Female</td>\n",
       "      <td>42</td>\n",
       "      <td>2.0</td>\n",
       "      <td>0.00</td>\n",
       "      <td>1</td>\n",
       "      <td>1</td>\n",
       "      <td>1</td>\n",
       "      <td>101348.88</td>\n",
       "      <td>1</td>\n",
       "    </tr>\n",
       "    <tr>\n",
       "      <th>1</th>\n",
       "      <td>1</td>\n",
       "      <td>2</td>\n",
       "      <td>15647311</td>\n",
       "      <td>608</td>\n",
       "      <td>Spain</td>\n",
       "      <td>Female</td>\n",
       "      <td>41</td>\n",
       "      <td>1.0</td>\n",
       "      <td>83807.86</td>\n",
       "      <td>1</td>\n",
       "      <td>0</td>\n",
       "      <td>1</td>\n",
       "      <td>112542.58</td>\n",
       "      <td>0</td>\n",
       "    </tr>\n",
       "  </tbody>\n",
       "</table>\n",
       "</div>"
      ],
      "text/plain": [
       "   Unnamed: 0  RowNumber  CustomerId  CreditScore Geography  Gender  Age  \\\n",
       "0           0          1    15634602          619    France  Female   42   \n",
       "1           1          2    15647311          608     Spain  Female   41   \n",
       "\n",
       "   Tenure   Balance  NumOfProducts  HasCrCard  IsActiveMember  \\\n",
       "0     2.0      0.00              1          1               1   \n",
       "1     1.0  83807.86              1          0               1   \n",
       "\n",
       "   EstimatedSalary  Exited  \n",
       "0        101348.88       1  \n",
       "1        112542.58       0  "
      ]
     },
     "execution_count": 8,
     "metadata": {},
     "output_type": "execute_result"
    }
   ],
   "source": [
    "df=df.drop('Surname', axis=1)\n",
    "df.head(2)"
   ]
  },
  {
   "cell_type": "markdown",
   "metadata": {},
   "source": [
    "#### Alphabetical features encoding"
   ]
  },
  {
   "cell_type": "code",
   "execution_count": 9,
   "metadata": {},
   "outputs": [
    {
     "data": {
      "text/plain": [
       "Male      5457\n",
       "Female    4543\n",
       "Name: Gender, dtype: int64"
      ]
     },
     "execution_count": 9,
     "metadata": {},
     "output_type": "execute_result"
    }
   ],
   "source": [
    "df.Gender.value_counts()"
   ]
  },
  {
   "cell_type": "code",
   "execution_count": 10,
   "metadata": {},
   "outputs": [
    {
     "data": {
      "text/plain": [
       "France     5014\n",
       "Germany    2509\n",
       "Spain      2477\n",
       "Name: Geography, dtype: int64"
      ]
     },
     "execution_count": 10,
     "metadata": {},
     "output_type": "execute_result"
    }
   ],
   "source": [
    "df.Geography.value_counts()"
   ]
  },
  {
   "cell_type": "markdown",
   "metadata": {},
   "source": [
    "There are 2 main ways to encode categorical values. __One-Hot Encoding (OHE)__ and __Label Encoding__. Choosing the method is dependant on the algorithm that will be used. Since I'm going to check several of them, I'll use both of them, and use the proper one according to the algorithm in use.  \n",
    "\n",
    "The __OHE__ solution doesn't fit the decision trees algorithms. The main reason is that, unlike regression models that have access to the whole spectrum of features at once, the tree-based model can process only one feature at a time. As a result, it doesn't have complete information about the original categorical variable.  \n",
    "__Label Encoding__ is a bad idea, particularly for regression algorithms. Such algorithms are based on learning weights for each feature in a formula. But if we encode a categorical variable with numbers in a single column, then the algorithm will treat the variable as continuous and assume the values are on a meaningful scale."
   ]
  },
  {
   "cell_type": "markdown",
   "metadata": {},
   "source": [
    "##### One-Hot Encoding (OHE)"
   ]
  },
  {
   "cell_type": "code",
   "execution_count": 11,
   "metadata": {},
   "outputs": [
    {
     "data": {
      "text/html": [
       "<div>\n",
       "<style scoped>\n",
       "    .dataframe tbody tr th:only-of-type {\n",
       "        vertical-align: middle;\n",
       "    }\n",
       "\n",
       "    .dataframe tbody tr th {\n",
       "        vertical-align: top;\n",
       "    }\n",
       "\n",
       "    .dataframe thead th {\n",
       "        text-align: right;\n",
       "    }\n",
       "</style>\n",
       "<table border=\"1\" class=\"dataframe\">\n",
       "  <thead>\n",
       "    <tr style=\"text-align: right;\">\n",
       "      <th></th>\n",
       "      <th>Unnamed: 0</th>\n",
       "      <th>RowNumber</th>\n",
       "      <th>CustomerId</th>\n",
       "      <th>CreditScore</th>\n",
       "      <th>Age</th>\n",
       "      <th>Tenure</th>\n",
       "      <th>Balance</th>\n",
       "      <th>NumOfProducts</th>\n",
       "      <th>HasCrCard</th>\n",
       "      <th>IsActiveMember</th>\n",
       "      <th>EstimatedSalary</th>\n",
       "      <th>Exited</th>\n",
       "      <th>Gender_Male</th>\n",
       "      <th>Geography_Germany</th>\n",
       "      <th>Geography_Spain</th>\n",
       "    </tr>\n",
       "  </thead>\n",
       "  <tbody>\n",
       "    <tr>\n",
       "      <th>0</th>\n",
       "      <td>0</td>\n",
       "      <td>1</td>\n",
       "      <td>15634602</td>\n",
       "      <td>619</td>\n",
       "      <td>42</td>\n",
       "      <td>2.0</td>\n",
       "      <td>0.00</td>\n",
       "      <td>1</td>\n",
       "      <td>1</td>\n",
       "      <td>1</td>\n",
       "      <td>101348.88</td>\n",
       "      <td>1</td>\n",
       "      <td>0</td>\n",
       "      <td>0</td>\n",
       "      <td>0</td>\n",
       "    </tr>\n",
       "    <tr>\n",
       "      <th>1</th>\n",
       "      <td>1</td>\n",
       "      <td>2</td>\n",
       "      <td>15647311</td>\n",
       "      <td>608</td>\n",
       "      <td>41</td>\n",
       "      <td>1.0</td>\n",
       "      <td>83807.86</td>\n",
       "      <td>1</td>\n",
       "      <td>0</td>\n",
       "      <td>1</td>\n",
       "      <td>112542.58</td>\n",
       "      <td>0</td>\n",
       "      <td>0</td>\n",
       "      <td>0</td>\n",
       "      <td>1</td>\n",
       "    </tr>\n",
       "  </tbody>\n",
       "</table>\n",
       "</div>"
      ],
      "text/plain": [
       "   Unnamed: 0  RowNumber  CustomerId  CreditScore  Age  Tenure   Balance  \\\n",
       "0           0          1    15634602          619   42     2.0      0.00   \n",
       "1           1          2    15647311          608   41     1.0  83807.86   \n",
       "\n",
       "   NumOfProducts  HasCrCard  IsActiveMember  EstimatedSalary  Exited  \\\n",
       "0              1          1               1        101348.88       1   \n",
       "1              1          0               1        112542.58       0   \n",
       "\n",
       "   Gender_Male  Geography_Germany  Geography_Spain  \n",
       "0            0                  0                0  \n",
       "1            0                  0                1  "
      ]
     },
     "execution_count": 11,
     "metadata": {},
     "output_type": "execute_result"
    }
   ],
   "source": [
    "df_ohe = pd.get_dummies(df, columns=['Gender', 'Geography'], drop_first=True)\n",
    "df_ohe.head(2)"
   ]
  },
  {
   "cell_type": "markdown",
   "metadata": {},
   "source": [
    "##### Label Encoding"
   ]
  },
  {
   "cell_type": "code",
   "execution_count": 12,
   "metadata": {
    "scrolled": true
   },
   "outputs": [
    {
     "data": {
      "text/plain": [
       "OrdinalEncoder()"
      ]
     },
     "execution_count": 12,
     "metadata": {},
     "output_type": "execute_result"
    },
    {
     "data": {
      "text/html": [
       "<div>\n",
       "<style scoped>\n",
       "    .dataframe tbody tr th:only-of-type {\n",
       "        vertical-align: middle;\n",
       "    }\n",
       "\n",
       "    .dataframe tbody tr th {\n",
       "        vertical-align: top;\n",
       "    }\n",
       "\n",
       "    .dataframe thead th {\n",
       "        text-align: right;\n",
       "    }\n",
       "</style>\n",
       "<table border=\"1\" class=\"dataframe\">\n",
       "  <thead>\n",
       "    <tr style=\"text-align: right;\">\n",
       "      <th></th>\n",
       "      <th>Unnamed: 0</th>\n",
       "      <th>RowNumber</th>\n",
       "      <th>CustomerId</th>\n",
       "      <th>CreditScore</th>\n",
       "      <th>Geography</th>\n",
       "      <th>Gender</th>\n",
       "      <th>Age</th>\n",
       "      <th>Tenure</th>\n",
       "      <th>Balance</th>\n",
       "      <th>NumOfProducts</th>\n",
       "      <th>HasCrCard</th>\n",
       "      <th>IsActiveMember</th>\n",
       "      <th>EstimatedSalary</th>\n",
       "      <th>Exited</th>\n",
       "    </tr>\n",
       "  </thead>\n",
       "  <tbody>\n",
       "    <tr>\n",
       "      <th>0</th>\n",
       "      <td>0.0</td>\n",
       "      <td>0.0</td>\n",
       "      <td>2736.0</td>\n",
       "      <td>228.0</td>\n",
       "      <td>0.0</td>\n",
       "      <td>0.0</td>\n",
       "      <td>24.0</td>\n",
       "      <td>2.0</td>\n",
       "      <td>0.0</td>\n",
       "      <td>0.0</td>\n",
       "      <td>1.0</td>\n",
       "      <td>1.0</td>\n",
       "      <td>5068.0</td>\n",
       "      <td>1.0</td>\n",
       "    </tr>\n",
       "    <tr>\n",
       "      <th>1</th>\n",
       "      <td>1.0</td>\n",
       "      <td>1.0</td>\n",
       "      <td>3258.0</td>\n",
       "      <td>217.0</td>\n",
       "      <td>2.0</td>\n",
       "      <td>0.0</td>\n",
       "      <td>23.0</td>\n",
       "      <td>1.0</td>\n",
       "      <td>743.0</td>\n",
       "      <td>0.0</td>\n",
       "      <td>0.0</td>\n",
       "      <td>1.0</td>\n",
       "      <td>5639.0</td>\n",
       "      <td>0.0</td>\n",
       "    </tr>\n",
       "  </tbody>\n",
       "</table>\n",
       "</div>"
      ],
      "text/plain": [
       "   Unnamed: 0  RowNumber  CustomerId  CreditScore  Geography  Gender   Age  \\\n",
       "0         0.0        0.0      2736.0        228.0        0.0     0.0  24.0   \n",
       "1         1.0        1.0      3258.0        217.0        2.0     0.0  23.0   \n",
       "\n",
       "   Tenure  Balance  NumOfProducts  HasCrCard  IsActiveMember  EstimatedSalary  \\\n",
       "0     2.0      0.0            0.0        1.0             1.0           5068.0   \n",
       "1     1.0    743.0            0.0        0.0             1.0           5639.0   \n",
       "\n",
       "   Exited  \n",
       "0     1.0  \n",
       "1     0.0  "
      ]
     },
     "execution_count": 12,
     "metadata": {},
     "output_type": "execute_result"
    }
   ],
   "source": [
    "encoder = OrdinalEncoder()\n",
    "\n",
    "# so that the encoder will know the data\n",
    "encoder.fit(df)\n",
    "\n",
    "# rebuilds the data as a dataframe\n",
    "df_lbl = pd.DataFrame(encoder.transform(df), columns=df.columns)\n",
    "df_lbl.head(2)"
   ]
  },
  {
   "cell_type": "markdown",
   "metadata": {},
   "source": [
    "### Split the source data into a training set, and a test set."
   ]
  },
  {
   "cell_type": "markdown",
   "metadata": {},
   "source": [
    "Using the `K-Fold` technic, which makes the validation set redundant, splitting the data into training-test with the relation of 80:20."
   ]
  },
  {
   "cell_type": "code",
   "execution_count": 13,
   "metadata": {},
   "outputs": [
    {
     "data": {
      "text/plain": [
       "(8000, 2000)"
      ]
     },
     "execution_count": 13,
     "metadata": {},
     "output_type": "execute_result"
    },
    {
     "data": {
      "text/plain": [
       "(8000, 2000)"
      ]
     },
     "execution_count": 13,
     "metadata": {},
     "output_type": "execute_result"
    }
   ],
   "source": [
    "ohe_train, ohe_test = train_test_split(df_ohe, test_size=0.2, random_state=12345)\n",
    "lbl_train, lbl_test = train_test_split(df_lbl, test_size=0.2, random_state=12345)\n",
    "len(lbl_train), len(lbl_test)\n",
    "len(ohe_train), len(ohe_test)"
   ]
  },
  {
   "cell_type": "markdown",
   "metadata": {},
   "source": [
    "__K-fold cross validation__  \n",
    "\n",
    "A more accurate method for training-testing the accuracy is using the __k-fold cross validation__. Using a technic called __cross-validation__ The data is split into K sets, making K runs. In each iteration, a different set is used as a validation set, while the remaining K-1 sets are used to train a new model (after the test the model is being discarded). The accuracy score is gathered from each iteration. Usually, K=10.  \n",
    "\n",
    "For example, in the next image K=5, the data is split into 5 sets, each iteration a different blue set is used to test the data while the other 4 green sets are used for training."
   ]
  },
  {
   "attachments": {
    "image.png": {
     "image/png": "[encoded data removed]"
    }
   },
   "cell_type": "markdown",
   "metadata": {},
   "source": [
    "<div>\n",
    "<img src=\"attachment:image.png\" width=\"300\" align=\"left\"/>\n",
    "</div>"
   ]
  },
  {
   "cell_type": "markdown",
   "metadata": {},
   "source": [
    "### Making features & targets datasets for each dataset."
   ]
  },
  {
   "cell_type": "code",
   "execution_count": 14,
   "metadata": {},
   "outputs": [],
   "source": [
    "ohe_features_train=ohe_train.drop('Exited', axis=1)\n",
    "ohe_target_train=ohe_train['Exited']\n",
    "\n",
    "ohe_features_test=ohe_test.drop('Exited', axis=1)\n",
    "ohe_target_test=ohe_test['Exited']\n",
    "\n",
    "lbl_features_train=lbl_train.drop('Exited', axis=1)\n",
    "lbl_target_train=lbl_train['Exited']\n",
    "\n",
    "lbl_features_test=lbl_test.drop('Exited', axis=1)\n",
    "lbl_target_test=lbl_test['Exited']"
   ]
  },
  {
   "cell_type": "markdown",
   "metadata": {},
   "source": [
    "## Model training"
   ]
  },
  {
   "cell_type": "markdown",
   "metadata": {},
   "source": [
    "### Examine the balance of classes"
   ]
  },
  {
   "cell_type": "markdown",
   "metadata": {},
   "source": [
    "Checking the balance of the target feature of the dataset - `Exited` field."
   ]
  },
  {
   "cell_type": "code",
   "execution_count": 15,
   "metadata": {},
   "outputs": [
    {
     "data": {
      "text/plain": [
       "0    7963\n",
       "1    2037\n",
       "Name: Exited, dtype: int64"
      ]
     },
     "execution_count": 15,
     "metadata": {},
     "output_type": "execute_result"
    }
   ],
   "source": [
    "df.Exited.value_counts()"
   ]
  },
  {
   "cell_type": "markdown",
   "metadata": {},
   "source": [
    "The relation is of 80:20 to the negative value."
   ]
  },
  {
   "cell_type": "markdown",
   "metadata": {},
   "source": [
    "### F1 and ROC-AUC metrics"
   ]
  },
  {
   "cell_type": "markdown",
   "metadata": {},
   "source": [
    "The __ROC__ curve visualizes the ratio between __TPR__ (True Positive Rate) and __FPR__ (False Positive Rate) for different thresholds.  \n",
    "The model gives a score to a certain set of features. That score, if it's above a certain threshold will be considered as 1, otherwise, it will be 0. For a certain threshold, there is a score, taking scores for each threshold creates the __ROC__ curve. The __AUC__ or __ROC-AUC__ represents the area that is under the curve. If the score is above 0.5 then the model predicts better than a random guess of the result.  \n",
    "\n",
    "The F1 matric is the harmonic mean between __precision__ and __recall__. It is a comparison indicator between __precision__ and __recall__. __F1__ is usually more useful than accuracy, especially if there is an imbalance between classes."
   ]
  },
  {
   "cell_type": "markdown",
   "metadata": {},
   "source": [
    "### Train the model without taking into account the imbalance."
   ]
  },
  {
   "cell_type": "markdown",
   "metadata": {},
   "source": [
    "Starting with the basic __DecisionTreeClassifier__ algorithm.  \n",
    "Tree algorithms don't work well with __OHE__ encoding, therefore the __Label__ encoding will be used."
   ]
  },
  {
   "cell_type": "code",
   "execution_count": 16,
   "metadata": {},
   "outputs": [],
   "source": [
    "model = DecisionTreeClassifier(random_state=12345)"
   ]
  },
  {
   "cell_type": "markdown",
   "metadata": {},
   "source": [
    "When there is an imbalance, the regular way of calculating the accuracy can be misleading, so the F1 metric is used to measure the accuracy of the model."
   ]
  },
  {
   "cell_type": "code",
   "execution_count": 17,
   "metadata": {},
   "outputs": [
    {
     "name": "stdout",
     "output_type": "stream",
     "text": [
      "F1: 0.48899357159089024\n",
      "AUC-ROC: 0.6809271085449898\n"
     ]
    }
   ],
   "source": [
    "scores = cross_validate(model, lbl_features_train, lbl_target_train, cv=10,\n",
    "                         scoring=('f1', 'roc_auc'))\n",
    "\n",
    "print('F1:', scores['test_f1'].mean())\n",
    "print('AUC-ROC:', scores['test_roc_auc'].mean())"
   ]
  },
  {
   "cell_type": "markdown",
   "metadata": {},
   "source": [
    "Running the __RandomForestClassifier__ algorithm with 40 estimators."
   ]
  },
  {
   "cell_type": "code",
   "execution_count": 18,
   "metadata": {},
   "outputs": [],
   "source": [
    "model = RandomForestClassifier(random_state=12345, n_estimators=40)"
   ]
  },
  {
   "cell_type": "code",
   "execution_count": 19,
   "metadata": {},
   "outputs": [
    {
     "name": "stdout",
     "output_type": "stream",
     "text": [
      "F1: 0.5541089543625016\n",
      "AUC-ROC: 0.8385622916241408\n"
     ]
    }
   ],
   "source": [
    "scores = cross_validate(model, lbl_features_train, lbl_target_train, cv=10,\n",
    "                         scoring=('f1', 'roc_auc'))\n",
    "\n",
    "print('F1:', scores['test_f1'].mean())\n",
    "print('AUC-ROC:', scores['test_roc_auc'].mean())"
   ]
  },
  {
   "cell_type": "markdown",
   "metadata": {},
   "source": [
    "Better results, but those results don't take care of the imbalance, and it's getting near the target threshold of 0.59 score from the F1 metric."
   ]
  },
  {
   "cell_type": "markdown",
   "metadata": {},
   "source": [
    "For __Logistic Regression__ the encoder can't be __Label__ encoding since different labels have a different id which the algorithm interprets ids with bigger numbers as more important than ids with a smaller number. The __OHE__ encoder is used."
   ]
  },
  {
   "cell_type": "code",
   "execution_count": 20,
   "metadata": {},
   "outputs": [],
   "source": [
    "model = LogisticRegression(random_state=12345, solver='liblinear')"
   ]
  },
  {
   "cell_type": "code",
   "execution_count": 21,
   "metadata": {},
   "outputs": [
    {
     "name": "stdout",
     "output_type": "stream",
     "text": [
      "F1: 0.0\n",
      "AUC-ROC: 0.5797694378833388\n"
     ]
    }
   ],
   "source": [
    "scores = cross_validate(model, ohe_features_train, ohe_target_train, cv=10,\n",
    "                         scoring=('f1', 'roc_auc'))\n",
    "\n",
    "print('F1:', scores['test_f1'].mean())\n",
    "print('AUC-ROC:', scores['test_roc_auc'].mean())"
   ]
  },
  {
   "cell_type": "markdown",
   "metadata": {},
   "source": [
    "The algorithm performed so purely that it returned a score of 0 in the F1 accuracy metric."
   ]
  },
  {
   "cell_type": "markdown",
   "metadata": {},
   "source": [
    "### Conclusion"
   ]
  },
  {
   "cell_type": "markdown",
   "metadata": {},
   "source": [
    "I managed to train a model, without taking care of the imbalance. The results are not so good, and didn't manage to meet the threshold requirement and can be improved "
   ]
  },
  {
   "cell_type": "markdown",
   "metadata": {},
   "source": [
    "## Improve the quality of the model."
   ]
  },
  {
   "cell_type": "markdown",
   "metadata": {},
   "source": [
    "__Improve the quality of the model. Make sure you use at least two approaches to fixing class imbalance. Use the training set to pick the best parameters. Train different models on training and validation sets. Find the best one. Briefly describe your findings.__"
   ]
  },
  {
   "cell_type": "markdown",
   "metadata": {},
   "source": [
    "There are 3 methods to handle the imbalance. \n",
    "1. __Upsampling__ - Splitting the training dataset into 2 datasets of 0 and 1, according to the result in the target. then multiplying the dataset of the 1's several times, and then shuffle the 2 datasets together.\n",
    "2. __Downsampling__ - Splitting the training dataset into 2 datasets of 0 and 1, according to the result in the target. then taking only a fraction from the dataset of the 0's, and then shuffle the 2 datasets together.\n",
    "3. Specifing to the algoritm that class_weight='balanced' will give higher rank to more rare classes."
   ]
  },
  {
   "cell_type": "markdown",
   "metadata": {},
   "source": [
    "### Upsampling and Downsampling the datasets"
   ]
  },
  {
   "cell_type": "markdown",
   "metadata": {},
   "source": [
    "I have 2 sets - one encoded using the __OHE__ encoding, and the other one using the __Label__ encoding. Each set will be handled separately."
   ]
  },
  {
   "cell_type": "code",
   "execution_count": 22,
   "metadata": {},
   "outputs": [],
   "source": [
    "def separate_1_and_0(features, target):\n",
    "    features_zeros = features[target == 0]\n",
    "    features_ones = features[target == 1]\n",
    "    target_zeros = target[target == 0]\n",
    "    target_ones = target[target == 1]\n",
    "    return features_zeros, features_ones, target_zeros, target_ones\n",
    "\n",
    "def downsample(features, target, fraction):    \n",
    "    features_zeros, features_ones, target_zeros, target_ones=separate_1_and_0(features, target)\n",
    "\n",
    "    features_frac = features_zeros.sample(frac=fraction, random_state=12345)\n",
    "    target_frac = target_zeros.sample(frac=fraction, random_state=12345)\n",
    "    \n",
    "    features_downsampled = pd.concat([features_frac]+[features_ones])\n",
    "    target_downsampled = pd.concat([target_frac] + [target_ones])\n",
    "\n",
    "    return shuffle(features_downsampled, target_downsampled, random_state=12345)\n",
    "\n",
    "def upsample(features, target, repeat):    \n",
    "    features_zeros, features_ones, target_zeros, target_ones=separate_1_and_0(features, target)\n",
    "\n",
    "    features_train_up = pd.concat([features_zeros] + [features_ones] * repeat)\n",
    "    target_train_up = pd.concat([target_zeros] + [target_ones] * repeat)\n",
    "\n",
    "    return shuffle(features_train_up, target_train_up, random_state=12345)"
   ]
  },
  {
   "cell_type": "markdown",
   "metadata": {},
   "source": [
    "#### Upsampling OHE"
   ]
  },
  {
   "cell_type": "code",
   "execution_count": 23,
   "metadata": {},
   "outputs": [],
   "source": [
    "ohe_features_train_up, ohe_target_train_up = upsample(\n",
    "    ohe_features_train, ohe_target_train, 10\n",
    ")"
   ]
  },
  {
   "cell_type": "markdown",
   "metadata": {},
   "source": [
    "#### Upsampling Label encoding"
   ]
  },
  {
   "cell_type": "code",
   "execution_count": 24,
   "metadata": {},
   "outputs": [],
   "source": [
    "lbl_features_train_up, lbl_target_train_up = upsample(\n",
    "    lbl_features_train, lbl_target_train, 10\n",
    ")"
   ]
  },
  {
   "cell_type": "markdown",
   "metadata": {},
   "source": [
    "#### Downsampling OHE"
   ]
  },
  {
   "cell_type": "code",
   "execution_count": 25,
   "metadata": {},
   "outputs": [],
   "source": [
    "ohe_features_train_down, ohe_target_train_down = downsample(\n",
    "    ohe_features_train, ohe_target_train, 0.1\n",
    ")"
   ]
  },
  {
   "cell_type": "markdown",
   "metadata": {},
   "source": [
    "#### Downsampling Label encoding"
   ]
  },
  {
   "cell_type": "code",
   "execution_count": 26,
   "metadata": {},
   "outputs": [],
   "source": [
    "lbl_features_train_down, lbl_target_train_down = downsample(\n",
    "    lbl_features_train, lbl_target_train, 0.1\n",
    ")"
   ]
  },
  {
   "cell_type": "markdown",
   "metadata": {},
   "source": [
    "### Testing the upsampled datasets"
   ]
  },
  {
   "cell_type": "markdown",
   "metadata": {},
   "source": [
    "#### DecisionTreeClassifier"
   ]
  },
  {
   "cell_type": "code",
   "execution_count": 27,
   "metadata": {},
   "outputs": [
    {
     "name": "stdout",
     "output_type": "stream",
     "text": [
      "F1: 0.48899357159089024\n",
      "AUC-ROC: 0.6809271085449898\n",
      "Upsampled F1: 0.9747589896127687\n",
      "Upsampled AUC-ROC: 0.9347417840375588\n"
     ]
    }
   ],
   "source": [
    "model = DecisionTreeClassifier(random_state=12345)\n",
    "\n",
    "scores = cross_validate(model, lbl_features_train, lbl_target_train, cv=10,\n",
    "                         scoring=('f1', 'roc_auc'))\n",
    "\n",
    "print('F1:', scores['test_f1'].mean())\n",
    "print('AUC-ROC:', scores['test_roc_auc'].mean())\n",
    "\n",
    "scores = cross_validate(model, lbl_features_train_up, lbl_target_train_up, cv=10,\n",
    "                         scoring=('f1', 'roc_auc'))\n",
    "\n",
    "print('Upsampled F1:', scores['test_f1'].mean())\n",
    "print('Upsampled AUC-ROC:', scores['test_roc_auc'].mean())"
   ]
  },
  {
   "cell_type": "markdown",
   "metadata": {},
   "source": [
    "#### RandomForestClassifier"
   ]
  },
  {
   "cell_type": "code",
   "execution_count": 28,
   "metadata": {},
   "outputs": [
    {
     "name": "stdout",
     "output_type": "stream",
     "text": [
      "F1: 0.5541089543625016\n",
      "AUC-ROC: 0.8385622916241408\n",
      "Upsampled F1: 0.9871875291081936\n",
      "Upsampled AUC-ROC: 0.9999990765851144\n"
     ]
    }
   ],
   "source": [
    "model = RandomForestClassifier(random_state=12345, n_estimators=40)\n",
    "\n",
    "scores = cross_validate(model, lbl_features_train, lbl_target_train, cv=10,\n",
    "                         scoring=('f1', 'roc_auc'))\n",
    "\n",
    "print('F1:', scores['test_f1'].mean())\n",
    "print('AUC-ROC:', scores['test_roc_auc'].mean())\n",
    "\n",
    "scores = cross_validate(model, lbl_features_train_up, lbl_target_train_up, cv=10,\n",
    "                         scoring=('f1', 'roc_auc'))\n",
    "\n",
    "print('Upsampled F1:', scores['test_f1'].mean())\n",
    "print('Upsampled AUC-ROC:', scores['test_roc_auc'].mean())"
   ]
  },
  {
   "cell_type": "markdown",
   "metadata": {},
   "source": [
    "#### LogisticRegression"
   ]
  },
  {
   "cell_type": "code",
   "execution_count": 29,
   "metadata": {},
   "outputs": [
    {
     "name": "stdout",
     "output_type": "stream",
     "text": [
      "F1: 0.0\n",
      "AUC-ROC: 0.5797694378833388\n",
      "Upsampled F1: 0.8344130603783364\n",
      "Upsampled AUC-ROC: 0.582210946840463\n"
     ]
    }
   ],
   "source": [
    "model = LogisticRegression(random_state=12345, solver='liblinear')\n",
    "\n",
    "scores = cross_validate(model, ohe_features_train, ohe_target_train, cv=10,\n",
    "                         scoring=('f1', 'roc_auc'))\n",
    "\n",
    "print('F1:', scores['test_f1'].mean())\n",
    "print('AUC-ROC:', scores['test_roc_auc'].mean())\n",
    "\n",
    "scores = cross_validate(model, ohe_features_train_up, ohe_target_train_up, cv=10,\n",
    "                         scoring=('f1', 'roc_auc'))\n",
    "\n",
    "print('Upsampled F1:', scores['test_f1'].mean())\n",
    "print('Upsampled AUC-ROC:', scores['test_roc_auc'].mean())"
   ]
  },
  {
   "cell_type": "markdown",
   "metadata": {},
   "source": [
    "### Testing the downsampled datasets"
   ]
  },
  {
   "cell_type": "markdown",
   "metadata": {},
   "source": [
    "#### DecisionTreeClassifier"
   ]
  },
  {
   "cell_type": "code",
   "execution_count": 30,
   "metadata": {},
   "outputs": [
    {
     "name": "stdout",
     "output_type": "stream",
     "text": [
      "F1: 0.48899357159089024\n",
      "AUC-ROC: 0.6809271085449898\n",
      "Downsampled F1: 0.8155559999147636\n",
      "Downsampled AUC-ROC: 0.6813594504830918\n"
     ]
    }
   ],
   "source": [
    "model = DecisionTreeClassifier(random_state=12345)\n",
    "\n",
    "scores = cross_validate(model, lbl_features_train, lbl_target_train, cv=10,\n",
    "                         scoring=('f1', 'roc_auc'))\n",
    "\n",
    "print('F1:', scores['test_f1'].mean())\n",
    "print('AUC-ROC:', scores['test_roc_auc'].mean())\n",
    "\n",
    "scores = cross_validate(model, lbl_features_train_down, lbl_target_train_down, cv=10,\n",
    "                         scoring=('f1', 'roc_auc'))\n",
    "\n",
    "print('Downsampled F1:', scores['test_f1'].mean())\n",
    "print('Downsampled AUC-ROC:', scores['test_roc_auc'].mean())"
   ]
  },
  {
   "cell_type": "markdown",
   "metadata": {},
   "source": [
    "#### RandomForestClassifier"
   ]
  },
  {
   "cell_type": "code",
   "execution_count": 31,
   "metadata": {},
   "outputs": [
    {
     "name": "stdout",
     "output_type": "stream",
     "text": [
      "F1: 0.5541089543625016\n",
      "AUC-ROC: 0.8385622916241408\n",
      "Downsampled F1: 0.8622394969413391\n",
      "Downsampled AUC-ROC: 0.828091571773637\n"
     ]
    }
   ],
   "source": [
    "model = RandomForestClassifier(random_state=12345, n_estimators=40)\n",
    "\n",
    "scores = cross_validate(model, lbl_features_train, lbl_target_train, cv=10,\n",
    "                         scoring=('f1', 'roc_auc'))\n",
    "\n",
    "print('F1:', scores['test_f1'].mean())\n",
    "print('AUC-ROC:', scores['test_roc_auc'].mean())\n",
    "\n",
    "scores = cross_validate(model, lbl_features_train_down, lbl_target_train_down, cv=10,\n",
    "                         scoring=('f1', 'roc_auc'))\n",
    "\n",
    "print('Downsampled F1:', scores['test_f1'].mean())\n",
    "print('Downsampled AUC-ROC:', scores['test_roc_auc'].mean())"
   ]
  },
  {
   "cell_type": "markdown",
   "metadata": {},
   "source": [
    "#### LogisticRegression"
   ]
  },
  {
   "cell_type": "code",
   "execution_count": 32,
   "metadata": {},
   "outputs": [
    {
     "name": "stdout",
     "output_type": "stream",
     "text": [
      "F1: 0.0\n",
      "AUC-ROC: 0.5797694378833388\n",
      "Downsampled F1: 0.8344135657089025\n",
      "Downsampled AUC-ROC: 0.5753496869762398\n"
     ]
    }
   ],
   "source": [
    "model = LogisticRegression(random_state=12345, solver='liblinear')\n",
    "\n",
    "scores = cross_validate(model, ohe_features_train, ohe_target_train, cv=10,\n",
    "                         scoring=('f1', 'roc_auc'))\n",
    "\n",
    "print('F1:', scores['test_f1'].mean())\n",
    "print('AUC-ROC:', scores['test_roc_auc'].mean())\n",
    "\n",
    "scores = cross_validate(model, ohe_features_train_down, ohe_target_train_down, cv=10,\n",
    "                         scoring=('f1', 'roc_auc'))\n",
    "\n",
    "print('Downsampled F1:', scores['test_f1'].mean())\n",
    "print('Downsampled AUC-ROC:', scores['test_roc_auc'].mean())"
   ]
  },
  {
   "cell_type": "markdown",
   "metadata": {},
   "source": [
    "### Conclusion"
   ]
  },
  {
   "cell_type": "markdown",
   "metadata": {},
   "source": [
    "Both upsampling and downsampling showed better results, at some cases it reached almost perfect scoreof more than 0.98.  \n",
    "The upsampling did a better job in improving the accuracy of the model than the downsampling."
   ]
  },
  {
   "cell_type": "markdown",
   "metadata": {},
   "source": [
    "## The final test"
   ]
  },
  {
   "cell_type": "markdown",
   "metadata": {},
   "source": [
    "First step is training the model with the algorithm that gave us the best results. That was the __RandomForestClassifier__, with upsampled datasets."
   ]
  },
  {
   "cell_type": "code",
   "execution_count": 33,
   "metadata": {},
   "outputs": [
    {
     "data": {
      "text/plain": [
       "RandomForestClassifier(n_estimators=40, random_state=12345)"
      ]
     },
     "execution_count": 33,
     "metadata": {},
     "output_type": "execute_result"
    },
    {
     "name": "stdout",
     "output_type": "stream",
     "text": [
      "F1 without (class_weight=balanced): 0.57\n"
     ]
    }
   ],
   "source": [
    "model = RandomForestClassifier(random_state=12345, n_estimators=40)\n",
    "model.fit(lbl_features_train_up, lbl_target_train_up)\n",
    "\n",
    "test_predict=model.predict(lbl_features_test)\n",
    "\n",
    "print('F1 without (class_weight=balanced): {:.2f}'.format(f1_score(lbl_target_test, test_predict)))"
   ]
  },
  {
   "cell_type": "markdown",
   "metadata": {},
   "source": [
    "The result is not good enough, it doesn't meet the minimum F1 score of 0.59. Adding the `class_weight=balanced` will do the trick."
   ]
  },
  {
   "cell_type": "code",
   "execution_count": 34,
   "metadata": {},
   "outputs": [
    {
     "data": {
      "text/plain": [
       "RandomForestClassifier(class_weight='balanced', n_estimators=40,\n",
       "                       random_state=12345)"
      ]
     },
     "execution_count": 34,
     "metadata": {},
     "output_type": "execute_result"
    },
    {
     "name": "stdout",
     "output_type": "stream",
     "text": [
      "F1 with (class_weight=balanced): 0.59\n"
     ]
    }
   ],
   "source": [
    "model = RandomForestClassifier(random_state=12345, n_estimators=40, class_weight='balanced')\n",
    "model.fit(lbl_features_train_up, lbl_target_train_up)\n",
    "\n",
    "test_predict=model.predict(lbl_features_test)\n",
    "\n",
    "print('F1 with (class_weight=balanced): {:.2f}'.format(f1_score(lbl_target_test, test_predict)))"
   ]
  },
  {
   "cell_type": "markdown",
   "metadata": {},
   "source": [
    "## Conclusion"
   ]
  },
  {
   "cell_type": "markdown",
   "metadata": {},
   "source": [
    "The input dataset was imbalanced. Tried several ways to find the best way to improve the results. The best results were using the __upsampling__ method combined with the `class_weight='balanced'` model's attribute, which got the target F1 score of 0.59."
   ]
  },
  {
   "cell_type": "markdown",
   "metadata": {},
   "source": [
    " "
   ]
  },
  {
   "cell_type": "markdown",
   "metadata": {},
   "source": [
    " "
   ]
  }
 ],
 "metadata": {
  "kernelspec": {
   "display_name": "Python 3",
   "language": "python",
   "name": "python3"
  },
  "language_info": {
   "codemirror_mode": {
    "name": "ipython",
    "version": 3
   },
   "file_extension": ".py",
   "mimetype": "text/x-python",
   "name": "python",
   "nbconvert_exporter": "python",
   "pygments_lexer": "ipython3",
   "version": "3.8.5"
  },
  "toc": {
   "base_numbering": 1,
   "nav_menu": {},
   "number_sections": true,
   "sideBar": true,
   "skip_h1_title": true,
   "title_cell": "Table of Contents",
   "title_sidebar": "Contents",
   "toc_cell": true,
   "toc_position": {},
   "toc_section_display": true,
   "toc_window_display": false
  }
 },
 "nbformat": 4,
 "nbformat_minor": 4
}
