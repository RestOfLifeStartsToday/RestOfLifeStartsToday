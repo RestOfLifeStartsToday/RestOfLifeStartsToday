{
 "cells": [
  {
   "cell_type": "markdown",
   "metadata": {},
   "source": [
    "# Car Pricing Prediction"
   ]
  },
  {
   "cell_type": "markdown",
   "metadata": {
    "toc": true
   },
   "source": [
    "<h1>Table of Contents<span class=\"tocSkip\"></span></h1>\n",
    "<div class=\"toc\"><ul class=\"toc-item\"><li><span><a href=\"#Project-description\" data-toc-modified-id=\"Project-description-1\"><span class=\"toc-item-num\">1&nbsp;&nbsp;</span>Project description</a></span></li><li><span><a href=\"#Data-preperation\" data-toc-modified-id=\"Data-preperation-2\"><span class=\"toc-item-num\">2&nbsp;&nbsp;</span>Data preperation</a></span><ul class=\"toc-item\"><li><span><a href=\"#Data-description\" data-toc-modified-id=\"Data-description-2.1\"><span class=\"toc-item-num\">2.1&nbsp;&nbsp;</span>Data description</a></span></li><li><span><a href=\"#Removing-exces-data\" data-toc-modified-id=\"Removing-exces-data-2.2\"><span class=\"toc-item-num\">2.2&nbsp;&nbsp;</span>Removing exces data</a></span></li><li><span><a href=\"#Data-validation\" data-toc-modified-id=\"Data-validation-2.3\"><span class=\"toc-item-num\">2.3&nbsp;&nbsp;</span>Data validation</a></span><ul class=\"toc-item\"><li><span><a href=\"#RegistrationYear\" data-toc-modified-id=\"RegistrationYear-2.3.1\"><span class=\"toc-item-num\">2.3.1&nbsp;&nbsp;</span>RegistrationYear</a></span></li><li><span><a href=\"#RegistrationMonth\" data-toc-modified-id=\"RegistrationMonth-2.3.2\"><span class=\"toc-item-num\">2.3.2&nbsp;&nbsp;</span>RegistrationMonth</a></span></li><li><span><a href=\"#Price\" data-toc-modified-id=\"Price-2.3.3\"><span class=\"toc-item-num\">2.3.3&nbsp;&nbsp;</span>Price</a></span></li></ul></li><li><span><a href=\"#Missing-values-check.\" data-toc-modified-id=\"Missing-values-check.-2.4\"><span class=\"toc-item-num\">2.4&nbsp;&nbsp;</span>Missing values check.</a></span><ul class=\"toc-item\"><li><span><a href=\"#NotRepaired\" data-toc-modified-id=\"NotRepaired-2.4.1\"><span class=\"toc-item-num\">2.4.1&nbsp;&nbsp;</span>NotRepaired</a></span></li><li><span><a href=\"#VehicleType\" data-toc-modified-id=\"VehicleType-2.4.2\"><span class=\"toc-item-num\">2.4.2&nbsp;&nbsp;</span>VehicleType</a></span></li><li><span><a href=\"#FuelType\" data-toc-modified-id=\"FuelType-2.4.3\"><span class=\"toc-item-num\">2.4.3&nbsp;&nbsp;</span>FuelType</a></span></li><li><span><a href=\"#Gearbox\" data-toc-modified-id=\"Gearbox-2.4.4\"><span class=\"toc-item-num\">2.4.4&nbsp;&nbsp;</span>Gearbox</a></span></li><li><span><a href=\"#Model\" data-toc-modified-id=\"Model-2.4.5\"><span class=\"toc-item-num\">2.4.5&nbsp;&nbsp;</span>Model</a></span></li></ul></li><li><span><a href=\"#Encoding-categorical-data\" data-toc-modified-id=\"Encoding-categorical-data-2.5\"><span class=\"toc-item-num\">2.5&nbsp;&nbsp;</span>Encoding categorical data</a></span><ul class=\"toc-item\"><li><span><a href=\"#One-Hot-Encoding-(OHE)\" data-toc-modified-id=\"One-Hot-Encoding-(OHE)-2.5.1\"><span class=\"toc-item-num\">2.5.1&nbsp;&nbsp;</span>One-Hot Encoding (OHE)</a></span></li><li><span><a href=\"#Label-Encoding\" data-toc-modified-id=\"Label-Encoding-2.5.2\"><span class=\"toc-item-num\">2.5.2&nbsp;&nbsp;</span>Label Encoding</a></span></li></ul></li><li><span><a href=\"#Splitting-the-data\" data-toc-modified-id=\"Splitting-the-data-2.6\"><span class=\"toc-item-num\">2.6&nbsp;&nbsp;</span>Splitting the data</a></span></li></ul></li><li><span><a href=\"#Model-training\" data-toc-modified-id=\"Model-training-3\"><span class=\"toc-item-num\">3&nbsp;&nbsp;</span>Model training</a></span><ul class=\"toc-item\"><li><span><a href=\"#Regular-model-training\" data-toc-modified-id=\"Regular-model-training-3.1\"><span class=\"toc-item-num\">3.1&nbsp;&nbsp;</span>Regular model training</a></span><ul class=\"toc-item\"><li><span><a href=\"#Linear-Regression\" data-toc-modified-id=\"Linear-Regression-3.1.1\"><span class=\"toc-item-num\">3.1.1&nbsp;&nbsp;</span>Linear Regression</a></span></li><li><span><a href=\"#Decision-Tree\" data-toc-modified-id=\"Decision-Tree-3.1.2\"><span class=\"toc-item-num\">3.1.2&nbsp;&nbsp;</span>Decision Tree</a></span></li><li><span><a href=\"#Random-Forest\" data-toc-modified-id=\"Random-Forest-3.1.3\"><span class=\"toc-item-num\">3.1.3&nbsp;&nbsp;</span>Random Forest</a></span></li></ul></li><li><span><a href=\"#Gradient-Boosting\" data-toc-modified-id=\"Gradient-Boosting-3.2\"><span class=\"toc-item-num\">3.2&nbsp;&nbsp;</span>Gradient Boosting</a></span><ul class=\"toc-item\"><li><span><a href=\"#CatBoost\" data-toc-modified-id=\"CatBoost-3.2.1\"><span class=\"toc-item-num\">3.2.1&nbsp;&nbsp;</span>CatBoost</a></span></li><li><span><a href=\"#LightGBM\" data-toc-modified-id=\"LightGBM-3.2.2\"><span class=\"toc-item-num\">3.2.2&nbsp;&nbsp;</span>LightGBM</a></span></li><li><span><a href=\"#XGBoost\" data-toc-modified-id=\"XGBoost-3.2.3\"><span class=\"toc-item-num\">3.2.3&nbsp;&nbsp;</span>XGBoost</a></span></li><li><span><a href=\"#Testing-the-model\" data-toc-modified-id=\"Testing-the-model-3.2.4\"><span class=\"toc-item-num\">3.2.4&nbsp;&nbsp;</span>Testing the model</a></span></li></ul></li></ul></li><li><span><a href=\"#Conclusion\" data-toc-modified-id=\"Conclusion-4\"><span class=\"toc-item-num\">4&nbsp;&nbsp;</span>Conclusion</a></span></li></ul></div>"
   ]
  },
  {
   "cell_type": "markdown",
   "metadata": {},
   "source": [
    "## Project description"
   ]
  },
  {
   "cell_type": "markdown",
   "metadata": {},
   "source": [
    "Rusty Bargain used car sales service is developing an app to attract new customers. In that app, you can quickly find out the market value of your car. You have access to historical data: technical specifications, trim versions, and prices. You need to build the model to determine the value. \n",
    "Rusty Bargain is interested in:  \n",
    "\n",
    "    •\tthe quality of the prediction  \n",
    "    •\tthe speed of the prediction  \n",
    "    •\tthe time required for training\n"
   ]
  },
  {
   "cell_type": "code",
   "execution_count": 1,
   "metadata": {},
   "outputs": [],
   "source": [
    "# !pip install -U -q scikit-learn\n",
    "# !pip install -U -q sidetable\n",
    "# !pip install -U -q catboost\n",
    "# !pip install -U -q lightgbm\n",
    "# !pip install -U -q xgboost"
   ]
  },
  {
   "cell_type": "code",
   "execution_count": 2,
   "metadata": {},
   "outputs": [],
   "source": [
    "import pandas as pd\n",
    "import sidetable\n",
    "from sklearn.model_selection import train_test_split\n",
    "from sklearn.metrics import mean_squared_error\n",
    "import numpy as np\n",
    "from scipy import stats as st\n",
    "from sklearn.preprocessing import OrdinalEncoder\n",
    "from sklearn.preprocessing import StandardScaler\n",
    "from sklearn.tree import DecisionTreeRegressor\n",
    "from sklearn.ensemble import RandomForestRegressor\n",
    "from sklearn.linear_model import LinearRegression\n",
    "from sklearn.model_selection import GridSearchCV\n",
    "from sklearn.metrics import mean_squared_error\n",
    "from sklearn.metrics import make_scorer\n",
    "from sklearn.compose import make_column_transformer\n",
    "from sklearn.pipeline import make_pipeline\n",
    "from catboost import CatBoostClassifier, Pool, cv\n",
    "from catboost import CatBoostRegressor\n",
    "import catboost as cb\n",
    "import lightgbm as lgb\n",
    "from xgboost.sklearn import XGBRegressor\n",
    "\n",
    "\n",
    "from IPython.core.interactiveshell import InteractiveShell\n",
    "InteractiveShell.ast_node_interactivity = \"all\""
   ]
  },
  {
   "cell_type": "markdown",
   "metadata": {},
   "source": [
    "## Data preparation"
   ]
  },
  {
   "cell_type": "code",
   "execution_count": 3,
   "metadata": {},
   "outputs": [],
   "source": [
    "def load_data(file_name, parse_dates=None, dtype=None, sep=','):\n",
    "    df=''\n",
    "    \n",
    "    try:\n",
    "        df=pd.read_csv('datasets/{}'.format(file_name), parse_dates=parse_dates, dtype=dtype, sep=sep)\n",
    "    except:\n",
    "        df=pd.read_csv('/datasets/{}'.format(file_name), parse_dates=parse_dates, dtype=dtype, sep=sep)\n",
    "        \n",
    "    return df"
   ]
  },
  {
   "cell_type": "markdown",
   "metadata": {},
   "source": [
    "Loading the data"
   ]
  },
  {
   "cell_type": "code",
   "execution_count": 4,
   "metadata": {},
   "outputs": [
    {
     "data": {
      "text/html": [
       "<div>\n",
       "<style scoped>\n",
       "    .dataframe tbody tr th:only-of-type {\n",
       "        vertical-align: middle;\n",
       "    }\n",
       "\n",
       "    .dataframe tbody tr th {\n",
       "        vertical-align: top;\n",
       "    }\n",
       "\n",
       "    .dataframe thead th {\n",
       "        text-align: right;\n",
       "    }\n",
       "</style>\n",
       "<table border=\"1\" class=\"dataframe\">\n",
       "  <thead>\n",
       "    <tr style=\"text-align: right;\">\n",
       "      <th></th>\n",
       "      <th>DateCrawled</th>\n",
       "      <th>Price</th>\n",
       "      <th>VehicleType</th>\n",
       "      <th>RegistrationYear</th>\n",
       "      <th>Gearbox</th>\n",
       "      <th>Power</th>\n",
       "      <th>Model</th>\n",
       "      <th>Mileage</th>\n",
       "      <th>RegistrationMonth</th>\n",
       "      <th>FuelType</th>\n",
       "      <th>Brand</th>\n",
       "      <th>NotRepaired</th>\n",
       "      <th>DateCreated</th>\n",
       "      <th>NumberOfPictures</th>\n",
       "      <th>PostalCode</th>\n",
       "      <th>LastSeen</th>\n",
       "    </tr>\n",
       "  </thead>\n",
       "  <tbody>\n",
       "    <tr>\n",
       "      <th>0</th>\n",
       "      <td>24/03/2016 11:52</td>\n",
       "      <td>480</td>\n",
       "      <td>NaN</td>\n",
       "      <td>1993</td>\n",
       "      <td>manual</td>\n",
       "      <td>0</td>\n",
       "      <td>golf</td>\n",
       "      <td>150000</td>\n",
       "      <td>0</td>\n",
       "      <td>petrol</td>\n",
       "      <td>volkswagen</td>\n",
       "      <td>NaN</td>\n",
       "      <td>24/03/2016 00:00</td>\n",
       "      <td>0</td>\n",
       "      <td>70435</td>\n",
       "      <td>07/04/2016 03:16</td>\n",
       "    </tr>\n",
       "    <tr>\n",
       "      <th>1</th>\n",
       "      <td>24/03/2016 10:58</td>\n",
       "      <td>18300</td>\n",
       "      <td>coupe</td>\n",
       "      <td>2011</td>\n",
       "      <td>manual</td>\n",
       "      <td>190</td>\n",
       "      <td>NaN</td>\n",
       "      <td>125000</td>\n",
       "      <td>5</td>\n",
       "      <td>gasoline</td>\n",
       "      <td>audi</td>\n",
       "      <td>yes</td>\n",
       "      <td>24/03/2016 00:00</td>\n",
       "      <td>0</td>\n",
       "      <td>66954</td>\n",
       "      <td>07/04/2016 01:46</td>\n",
       "    </tr>\n",
       "  </tbody>\n",
       "</table>\n",
       "</div>"
      ],
      "text/plain": [
       "        DateCrawled  Price VehicleType  RegistrationYear Gearbox  Power Model  \\\n",
       "0  24/03/2016 11:52    480         NaN              1993  manual      0  golf   \n",
       "1  24/03/2016 10:58  18300       coupe              2011  manual    190   NaN   \n",
       "\n",
       "   Mileage  RegistrationMonth  FuelType       Brand NotRepaired  \\\n",
       "0   150000                  0    petrol  volkswagen         NaN   \n",
       "1   125000                  5  gasoline        audi         yes   \n",
       "\n",
       "        DateCreated  NumberOfPictures  PostalCode          LastSeen  \n",
       "0  24/03/2016 00:00                 0       70435  07/04/2016 03:16  \n",
       "1  24/03/2016 00:00                 0       66954  07/04/2016 01:46  "
      ]
     },
     "execution_count": 4,
     "metadata": {},
     "output_type": "execute_result"
    }
   ],
   "source": [
    "df=load_data('car_data.csv')\n",
    "df.head(2)"
   ]
  },
  {
   "cell_type": "markdown",
   "metadata": {},
   "source": [
    "### Data description"
   ]
  },
  {
   "cell_type": "markdown",
   "metadata": {},
   "source": [
    "__Features__\n",
    "\n",
    "    DateCrawled — date profile was downloaded from the database\n",
    "    VehicleType — vehicle body type\n",
    "    RegistrationYear — vehicle registration year\n",
    "    Gearbox — gearbox type\n",
    "    Power — power (hp)\n",
    "    Model — vehicle model\n",
    "    Mileage — mileage (measured in km due to dataset's regional specifics)\n",
    "    RegistrationMonth — vehicle registration month\n",
    "    FuelType — fuel type\n",
    "    Brand — vehicle brand\n",
    "    NotRepaired — vehicle repaired or not\n",
    "    DateCreated — date of profile creation\n",
    "    NumberOfPictures — number of vehicle pictures\n",
    "    PostalCode — postal code of profile owner (user)\n",
    "    LastSeen — date of the last activity of the user\n",
    "\n",
    "__Target__\n",
    "\n",
    "    Price — price (Euro)"
   ]
  },
  {
   "cell_type": "markdown",
   "metadata": {},
   "source": [
    "### Removing exces data"
   ]
  },
  {
   "cell_type": "markdown",
   "metadata": {},
   "source": [
    "Some of the columns are not relevant to the model building process.  \n",
    "All the data not related to cars will be removed."
   ]
  },
  {
   "cell_type": "code",
   "execution_count": 5,
   "metadata": {},
   "outputs": [],
   "source": [
    "df=df.drop(['DateCrawled', 'DateCreated', 'LastSeen', 'PostalCode', 'NumberOfPictures'], axis=1)"
   ]
  },
  {
   "cell_type": "markdown",
   "metadata": {},
   "source": [
    "### Data validation"
   ]
  },
  {
   "cell_type": "code",
   "execution_count": 6,
   "metadata": {},
   "outputs": [
    {
     "data": {
      "text/html": [
       "<div>\n",
       "<style scoped>\n",
       "    .dataframe tbody tr th:only-of-type {\n",
       "        vertical-align: middle;\n",
       "    }\n",
       "\n",
       "    .dataframe tbody tr th {\n",
       "        vertical-align: top;\n",
       "    }\n",
       "\n",
       "    .dataframe thead th {\n",
       "        text-align: right;\n",
       "    }\n",
       "</style>\n",
       "<table border=\"1\" class=\"dataframe\">\n",
       "  <thead>\n",
       "    <tr style=\"text-align: right;\">\n",
       "      <th></th>\n",
       "      <th>Price</th>\n",
       "      <th>VehicleType</th>\n",
       "      <th>RegistrationYear</th>\n",
       "      <th>Gearbox</th>\n",
       "      <th>Power</th>\n",
       "      <th>Model</th>\n",
       "      <th>Mileage</th>\n",
       "      <th>RegistrationMonth</th>\n",
       "      <th>FuelType</th>\n",
       "      <th>Brand</th>\n",
       "      <th>NotRepaired</th>\n",
       "    </tr>\n",
       "  </thead>\n",
       "  <tbody>\n",
       "    <tr>\n",
       "      <th>count</th>\n",
       "      <td>354369.000000</td>\n",
       "      <td>316879</td>\n",
       "      <td>354369.000000</td>\n",
       "      <td>334536</td>\n",
       "      <td>354369.000000</td>\n",
       "      <td>334664</td>\n",
       "      <td>354369.000000</td>\n",
       "      <td>354369.000000</td>\n",
       "      <td>321474</td>\n",
       "      <td>354369</td>\n",
       "      <td>283215</td>\n",
       "    </tr>\n",
       "    <tr>\n",
       "      <th>unique</th>\n",
       "      <td>NaN</td>\n",
       "      <td>8</td>\n",
       "      <td>NaN</td>\n",
       "      <td>2</td>\n",
       "      <td>NaN</td>\n",
       "      <td>250</td>\n",
       "      <td>NaN</td>\n",
       "      <td>NaN</td>\n",
       "      <td>7</td>\n",
       "      <td>40</td>\n",
       "      <td>2</td>\n",
       "    </tr>\n",
       "    <tr>\n",
       "      <th>top</th>\n",
       "      <td>NaN</td>\n",
       "      <td>sedan</td>\n",
       "      <td>NaN</td>\n",
       "      <td>manual</td>\n",
       "      <td>NaN</td>\n",
       "      <td>golf</td>\n",
       "      <td>NaN</td>\n",
       "      <td>NaN</td>\n",
       "      <td>petrol</td>\n",
       "      <td>volkswagen</td>\n",
       "      <td>no</td>\n",
       "    </tr>\n",
       "    <tr>\n",
       "      <th>freq</th>\n",
       "      <td>NaN</td>\n",
       "      <td>91457</td>\n",
       "      <td>NaN</td>\n",
       "      <td>268251</td>\n",
       "      <td>NaN</td>\n",
       "      <td>29232</td>\n",
       "      <td>NaN</td>\n",
       "      <td>NaN</td>\n",
       "      <td>216352</td>\n",
       "      <td>77013</td>\n",
       "      <td>247161</td>\n",
       "    </tr>\n",
       "    <tr>\n",
       "      <th>mean</th>\n",
       "      <td>4416.656776</td>\n",
       "      <td>NaN</td>\n",
       "      <td>2004.234448</td>\n",
       "      <td>NaN</td>\n",
       "      <td>110.094337</td>\n",
       "      <td>NaN</td>\n",
       "      <td>128211.172535</td>\n",
       "      <td>5.714645</td>\n",
       "      <td>NaN</td>\n",
       "      <td>NaN</td>\n",
       "      <td>NaN</td>\n",
       "    </tr>\n",
       "    <tr>\n",
       "      <th>std</th>\n",
       "      <td>4514.158514</td>\n",
       "      <td>NaN</td>\n",
       "      <td>90.227958</td>\n",
       "      <td>NaN</td>\n",
       "      <td>189.850405</td>\n",
       "      <td>NaN</td>\n",
       "      <td>37905.341530</td>\n",
       "      <td>3.726421</td>\n",
       "      <td>NaN</td>\n",
       "      <td>NaN</td>\n",
       "      <td>NaN</td>\n",
       "    </tr>\n",
       "    <tr>\n",
       "      <th>min</th>\n",
       "      <td>0.000000</td>\n",
       "      <td>NaN</td>\n",
       "      <td>1000.000000</td>\n",
       "      <td>NaN</td>\n",
       "      <td>0.000000</td>\n",
       "      <td>NaN</td>\n",
       "      <td>5000.000000</td>\n",
       "      <td>0.000000</td>\n",
       "      <td>NaN</td>\n",
       "      <td>NaN</td>\n",
       "      <td>NaN</td>\n",
       "    </tr>\n",
       "    <tr>\n",
       "      <th>25%</th>\n",
       "      <td>1050.000000</td>\n",
       "      <td>NaN</td>\n",
       "      <td>1999.000000</td>\n",
       "      <td>NaN</td>\n",
       "      <td>69.000000</td>\n",
       "      <td>NaN</td>\n",
       "      <td>125000.000000</td>\n",
       "      <td>3.000000</td>\n",
       "      <td>NaN</td>\n",
       "      <td>NaN</td>\n",
       "      <td>NaN</td>\n",
       "    </tr>\n",
       "    <tr>\n",
       "      <th>50%</th>\n",
       "      <td>2700.000000</td>\n",
       "      <td>NaN</td>\n",
       "      <td>2003.000000</td>\n",
       "      <td>NaN</td>\n",
       "      <td>105.000000</td>\n",
       "      <td>NaN</td>\n",
       "      <td>150000.000000</td>\n",
       "      <td>6.000000</td>\n",
       "      <td>NaN</td>\n",
       "      <td>NaN</td>\n",
       "      <td>NaN</td>\n",
       "    </tr>\n",
       "    <tr>\n",
       "      <th>75%</th>\n",
       "      <td>6400.000000</td>\n",
       "      <td>NaN</td>\n",
       "      <td>2008.000000</td>\n",
       "      <td>NaN</td>\n",
       "      <td>143.000000</td>\n",
       "      <td>NaN</td>\n",
       "      <td>150000.000000</td>\n",
       "      <td>9.000000</td>\n",
       "      <td>NaN</td>\n",
       "      <td>NaN</td>\n",
       "      <td>NaN</td>\n",
       "    </tr>\n",
       "    <tr>\n",
       "      <th>max</th>\n",
       "      <td>20000.000000</td>\n",
       "      <td>NaN</td>\n",
       "      <td>9999.000000</td>\n",
       "      <td>NaN</td>\n",
       "      <td>20000.000000</td>\n",
       "      <td>NaN</td>\n",
       "      <td>150000.000000</td>\n",
       "      <td>12.000000</td>\n",
       "      <td>NaN</td>\n",
       "      <td>NaN</td>\n",
       "      <td>NaN</td>\n",
       "    </tr>\n",
       "  </tbody>\n",
       "</table>\n",
       "</div>"
      ],
      "text/plain": [
       "                Price VehicleType  RegistrationYear Gearbox          Power  \\\n",
       "count   354369.000000      316879     354369.000000  334536  354369.000000   \n",
       "unique            NaN           8               NaN       2            NaN   \n",
       "top               NaN       sedan               NaN  manual            NaN   \n",
       "freq              NaN       91457               NaN  268251            NaN   \n",
       "mean      4416.656776         NaN       2004.234448     NaN     110.094337   \n",
       "std       4514.158514         NaN         90.227958     NaN     189.850405   \n",
       "min          0.000000         NaN       1000.000000     NaN       0.000000   \n",
       "25%       1050.000000         NaN       1999.000000     NaN      69.000000   \n",
       "50%       2700.000000         NaN       2003.000000     NaN     105.000000   \n",
       "75%       6400.000000         NaN       2008.000000     NaN     143.000000   \n",
       "max      20000.000000         NaN       9999.000000     NaN   20000.000000   \n",
       "\n",
       "         Model        Mileage  RegistrationMonth FuelType       Brand  \\\n",
       "count   334664  354369.000000      354369.000000   321474      354369   \n",
       "unique     250            NaN                NaN        7          40   \n",
       "top       golf            NaN                NaN   petrol  volkswagen   \n",
       "freq     29232            NaN                NaN   216352       77013   \n",
       "mean       NaN  128211.172535           5.714645      NaN         NaN   \n",
       "std        NaN   37905.341530           3.726421      NaN         NaN   \n",
       "min        NaN    5000.000000           0.000000      NaN         NaN   \n",
       "25%        NaN  125000.000000           3.000000      NaN         NaN   \n",
       "50%        NaN  150000.000000           6.000000      NaN         NaN   \n",
       "75%        NaN  150000.000000           9.000000      NaN         NaN   \n",
       "max        NaN  150000.000000          12.000000      NaN         NaN   \n",
       "\n",
       "       NotRepaired  \n",
       "count       283215  \n",
       "unique           2  \n",
       "top             no  \n",
       "freq        247161  \n",
       "mean           NaN  \n",
       "std            NaN  \n",
       "min            NaN  \n",
       "25%            NaN  \n",
       "50%            NaN  \n",
       "75%            NaN  \n",
       "max            NaN  "
      ]
     },
     "execution_count": 6,
     "metadata": {},
     "output_type": "execute_result"
    }
   ],
   "source": [
    "df.describe(include = 'all')"
   ]
  },
  {
   "cell_type": "markdown",
   "metadata": {},
   "source": [
    "#### RegistrationYear"
   ]
  },
  {
   "cell_type": "code",
   "execution_count": 7,
   "metadata": {},
   "outputs": [
    {
     "data": {
      "text/html": [
       "<div>\n",
       "<style scoped>\n",
       "    .dataframe tbody tr th:only-of-type {\n",
       "        vertical-align: middle;\n",
       "    }\n",
       "\n",
       "    .dataframe tbody tr th {\n",
       "        vertical-align: top;\n",
       "    }\n",
       "\n",
       "    .dataframe thead th {\n",
       "        text-align: right;\n",
       "    }\n",
       "</style>\n",
       "<table border=\"1\" class=\"dataframe\">\n",
       "  <thead>\n",
       "    <tr style=\"text-align: right;\">\n",
       "      <th></th>\n",
       "      <th>Price</th>\n",
       "      <th>VehicleType</th>\n",
       "      <th>RegistrationYear</th>\n",
       "      <th>Gearbox</th>\n",
       "      <th>Power</th>\n",
       "      <th>Model</th>\n",
       "      <th>Mileage</th>\n",
       "      <th>RegistrationMonth</th>\n",
       "      <th>FuelType</th>\n",
       "      <th>Brand</th>\n",
       "      <th>NotRepaired</th>\n",
       "    </tr>\n",
       "  </thead>\n",
       "  <tbody>\n",
       "    <tr>\n",
       "      <th>244092</th>\n",
       "      <td>2000</td>\n",
       "      <td>NaN</td>\n",
       "      <td>1000</td>\n",
       "      <td>NaN</td>\n",
       "      <td>0</td>\n",
       "      <td>NaN</td>\n",
       "      <td>5000</td>\n",
       "      <td>0</td>\n",
       "      <td>NaN</td>\n",
       "      <td>sonstige_autos</td>\n",
       "      <td>NaN</td>\n",
       "    </tr>\n",
       "    <tr>\n",
       "      <th>91869</th>\n",
       "      <td>400</td>\n",
       "      <td>NaN</td>\n",
       "      <td>1000</td>\n",
       "      <td>NaN</td>\n",
       "      <td>0</td>\n",
       "      <td>NaN</td>\n",
       "      <td>5000</td>\n",
       "      <td>0</td>\n",
       "      <td>NaN</td>\n",
       "      <td>sonstige_autos</td>\n",
       "      <td>NaN</td>\n",
       "    </tr>\n",
       "  </tbody>\n",
       "</table>\n",
       "</div>"
      ],
      "text/plain": [
       "        Price VehicleType  RegistrationYear Gearbox  Power Model  Mileage  \\\n",
       "244092   2000         NaN              1000     NaN      0   NaN     5000   \n",
       "91869     400         NaN              1000     NaN      0   NaN     5000   \n",
       "\n",
       "        RegistrationMonth FuelType           Brand NotRepaired  \n",
       "244092                  0      NaN  sonstige_autos         NaN  \n",
       "91869                   0      NaN  sonstige_autos         NaN  "
      ]
     },
     "execution_count": 7,
     "metadata": {},
     "output_type": "execute_result"
    }
   ],
   "source": [
    "df.sort_values('RegistrationYear').head(2)"
   ]
  },
  {
   "cell_type": "markdown",
   "metadata": {},
   "source": [
    "The year 1000 is obviously a mistake."
   ]
  },
  {
   "cell_type": "code",
   "execution_count": 8,
   "metadata": {},
   "outputs": [
    {
     "data": {
      "text/html": [
       "<div>\n",
       "<style scoped>\n",
       "    .dataframe tbody tr th:only-of-type {\n",
       "        vertical-align: middle;\n",
       "    }\n",
       "\n",
       "    .dataframe tbody tr th {\n",
       "        vertical-align: top;\n",
       "    }\n",
       "\n",
       "    .dataframe thead th {\n",
       "        text-align: right;\n",
       "    }\n",
       "</style>\n",
       "<table border=\"1\" class=\"dataframe\">\n",
       "  <thead>\n",
       "    <tr style=\"text-align: right;\">\n",
       "      <th></th>\n",
       "      <th>Price</th>\n",
       "      <th>VehicleType</th>\n",
       "      <th>RegistrationYear</th>\n",
       "      <th>Gearbox</th>\n",
       "      <th>Power</th>\n",
       "      <th>Model</th>\n",
       "      <th>Mileage</th>\n",
       "      <th>RegistrationMonth</th>\n",
       "      <th>FuelType</th>\n",
       "      <th>Brand</th>\n",
       "      <th>NotRepaired</th>\n",
       "    </tr>\n",
       "  </thead>\n",
       "  <tbody>\n",
       "    <tr>\n",
       "      <th>22</th>\n",
       "      <td>2900</td>\n",
       "      <td>NaN</td>\n",
       "      <td>2018</td>\n",
       "      <td>manual</td>\n",
       "      <td>90</td>\n",
       "      <td>meriva</td>\n",
       "      <td>150000</td>\n",
       "      <td>5</td>\n",
       "      <td>petrol</td>\n",
       "      <td>opel</td>\n",
       "      <td>no</td>\n",
       "    </tr>\n",
       "    <tr>\n",
       "      <th>26</th>\n",
       "      <td>5555</td>\n",
       "      <td>NaN</td>\n",
       "      <td>2017</td>\n",
       "      <td>manual</td>\n",
       "      <td>125</td>\n",
       "      <td>c4</td>\n",
       "      <td>125000</td>\n",
       "      <td>4</td>\n",
       "      <td>NaN</td>\n",
       "      <td>citroen</td>\n",
       "      <td>no</td>\n",
       "    </tr>\n",
       "  </tbody>\n",
       "</table>\n",
       "</div>"
      ],
      "text/plain": [
       "    Price VehicleType  RegistrationYear Gearbox  Power   Model  Mileage  \\\n",
       "22   2900         NaN              2018  manual     90  meriva   150000   \n",
       "26   5555         NaN              2017  manual    125      c4   125000   \n",
       "\n",
       "    RegistrationMonth FuelType    Brand NotRepaired  \n",
       "22                  5   petrol     opel          no  \n",
       "26                  4      NaN  citroen          no  "
      ]
     },
     "execution_count": 8,
     "metadata": {},
     "output_type": "execute_result"
    }
   ],
   "source": [
    "cars_from_future=df.query('RegistrationYear>2016')\n",
    "cars_from_future.head(2)"
   ]
  },
  {
   "cell_type": "markdown",
   "metadata": {},
   "source": [
    "The data was created/collected in the year 2016.  \n",
    "Cars newer than 2016 are from the future. It must be a mistake.  \n",
    "So as cars older than 1900."
   ]
  },
  {
   "cell_type": "code",
   "execution_count": 9,
   "metadata": {},
   "outputs": [],
   "source": [
    "df.loc[df['RegistrationYear']>2016,'RegistrationYear']=np.NaN\n",
    "df.loc[df['RegistrationYear']<1900,'RegistrationYear']=np.NaN"
   ]
  },
  {
   "cell_type": "markdown",
   "metadata": {},
   "source": [
    "Those mistaken values will be filled in later while handling the rest of the missing values."
   ]
  },
  {
   "cell_type": "markdown",
   "metadata": {},
   "source": [
    "#### RegistrationMonth"
   ]
  },
  {
   "cell_type": "code",
   "execution_count": 10,
   "metadata": {},
   "outputs": [
    {
     "data": {
      "text/plain": [
       "0     37352\n",
       "3     34373\n",
       "6     31508\n",
       "4     29270\n",
       "5     29153\n",
       "7     27213\n",
       "10    26099\n",
       "12    24289\n",
       "11    24186\n",
       "9     23813\n",
       "1     23219\n",
       "8     22627\n",
       "2     21267\n",
       "Name: RegistrationMonth, dtype: int64"
      ]
     },
     "execution_count": 10,
     "metadata": {},
     "output_type": "execute_result"
    }
   ],
   "source": [
    "df.RegistrationMonth.value_counts()"
   ]
  },
  {
   "cell_type": "markdown",
   "metadata": {},
   "source": [
    "The dataframe has 13 months. Probably month 0 suppose to be january."
   ]
  },
  {
   "cell_type": "code",
   "execution_count": 11,
   "metadata": {},
   "outputs": [],
   "source": [
    "df.loc[df['RegistrationMonth']==0, 'RegistrationMonth']=1"
   ]
  },
  {
   "cell_type": "markdown",
   "metadata": {},
   "source": [
    "#### Price"
   ]
  },
  {
   "cell_type": "markdown",
   "metadata": {},
   "source": [
    "The price is the target. Rows that don't have a valid value are not relevant, not for trainning nor for testing.  \n",
    "Rows with invalid price value will be removed."
   ]
  },
  {
   "cell_type": "code",
   "execution_count": 12,
   "metadata": {},
   "outputs": [
    {
     "name": "stdout",
     "output_type": "stream",
     "text": [
      "The percent of invalild price tag is: 3.04%\n"
     ]
    }
   ],
   "source": [
    "pct_bad_price=len(df.query('Price==0'))/len(df)\n",
    "print('The percent of invalild price tag is: {:.2%}'.format(pct_bad_price))"
   ]
  },
  {
   "cell_type": "markdown",
   "metadata": {},
   "source": [
    "Deleting the rows with invalid price tag."
   ]
  },
  {
   "cell_type": "code",
   "execution_count": 13,
   "metadata": {},
   "outputs": [],
   "source": [
    "df.loc[df['Price']==0,'Price']=np.NaN\n",
    "df=df.dropna(subset=['Price'])"
   ]
  },
  {
   "cell_type": "markdown",
   "metadata": {},
   "source": [
    "### Missing values check."
   ]
  },
  {
   "cell_type": "code",
   "execution_count": 14,
   "metadata": {},
   "outputs": [
    {
     "data": {
      "text/html": [
       "<style  type=\"text/css\" >\n",
       "</style><table id=\"T_e55fd3db_a632_11ec_84cc_3c950944167a\" ><thead>    <tr>        <th class=\"blank level0\" ></th>        <th class=\"col_heading level0 col0\" >missing</th>        <th class=\"col_heading level0 col1\" >total</th>        <th class=\"col_heading level0 col2\" >percent</th>    </tr></thead><tbody>\n",
       "                <tr>\n",
       "                        <th id=\"T_e55fd3db_a632_11ec_84cc_3c950944167alevel0_row0\" class=\"row_heading level0 row0\" >NotRepaired</th>\n",
       "                        <td id=\"T_e55fd3db_a632_11ec_84cc_3c950944167arow0_col0\" class=\"data row0 col0\" >65,866</td>\n",
       "                        <td id=\"T_e55fd3db_a632_11ec_84cc_3c950944167arow0_col1\" class=\"data row0 col1\" >343,597</td>\n",
       "                        <td id=\"T_e55fd3db_a632_11ec_84cc_3c950944167arow0_col2\" class=\"data row0 col2\" >19.17%</td>\n",
       "            </tr>\n",
       "            <tr>\n",
       "                        <th id=\"T_e55fd3db_a632_11ec_84cc_3c950944167alevel0_row1\" class=\"row_heading level0 row1\" >VehicleType</th>\n",
       "                        <td id=\"T_e55fd3db_a632_11ec_84cc_3c950944167arow1_col0\" class=\"data row1 col0\" >33,750</td>\n",
       "                        <td id=\"T_e55fd3db_a632_11ec_84cc_3c950944167arow1_col1\" class=\"data row1 col1\" >343,597</td>\n",
       "                        <td id=\"T_e55fd3db_a632_11ec_84cc_3c950944167arow1_col2\" class=\"data row1 col2\" >9.82%</td>\n",
       "            </tr>\n",
       "            <tr>\n",
       "                        <th id=\"T_e55fd3db_a632_11ec_84cc_3c950944167alevel0_row2\" class=\"row_heading level0 row2\" >FuelType</th>\n",
       "                        <td id=\"T_e55fd3db_a632_11ec_84cc_3c950944167arow2_col0\" class=\"data row2 col0\" >29,459</td>\n",
       "                        <td id=\"T_e55fd3db_a632_11ec_84cc_3c950944167arow2_col1\" class=\"data row2 col1\" >343,597</td>\n",
       "                        <td id=\"T_e55fd3db_a632_11ec_84cc_3c950944167arow2_col2\" class=\"data row2 col2\" >8.57%</td>\n",
       "            </tr>\n",
       "            <tr>\n",
       "                        <th id=\"T_e55fd3db_a632_11ec_84cc_3c950944167alevel0_row3\" class=\"row_heading level0 row3\" >Model</th>\n",
       "                        <td id=\"T_e55fd3db_a632_11ec_84cc_3c950944167arow3_col0\" class=\"data row3 col0\" >17,521</td>\n",
       "                        <td id=\"T_e55fd3db_a632_11ec_84cc_3c950944167arow3_col1\" class=\"data row3 col1\" >343,597</td>\n",
       "                        <td id=\"T_e55fd3db_a632_11ec_84cc_3c950944167arow3_col2\" class=\"data row3 col2\" >5.10%</td>\n",
       "            </tr>\n",
       "            <tr>\n",
       "                        <th id=\"T_e55fd3db_a632_11ec_84cc_3c950944167alevel0_row4\" class=\"row_heading level0 row4\" >Gearbox</th>\n",
       "                        <td id=\"T_e55fd3db_a632_11ec_84cc_3c950944167arow4_col0\" class=\"data row4 col0\" >17,355</td>\n",
       "                        <td id=\"T_e55fd3db_a632_11ec_84cc_3c950944167arow4_col1\" class=\"data row4 col1\" >343,597</td>\n",
       "                        <td id=\"T_e55fd3db_a632_11ec_84cc_3c950944167arow4_col2\" class=\"data row4 col2\" >5.05%</td>\n",
       "            </tr>\n",
       "            <tr>\n",
       "                        <th id=\"T_e55fd3db_a632_11ec_84cc_3c950944167alevel0_row5\" class=\"row_heading level0 row5\" >RegistrationYear</th>\n",
       "                        <td id=\"T_e55fd3db_a632_11ec_84cc_3c950944167arow5_col0\" class=\"data row5 col0\" >13,832</td>\n",
       "                        <td id=\"T_e55fd3db_a632_11ec_84cc_3c950944167arow5_col1\" class=\"data row5 col1\" >343,597</td>\n",
       "                        <td id=\"T_e55fd3db_a632_11ec_84cc_3c950944167arow5_col2\" class=\"data row5 col2\" >4.03%</td>\n",
       "            </tr>\n",
       "            <tr>\n",
       "                        <th id=\"T_e55fd3db_a632_11ec_84cc_3c950944167alevel0_row6\" class=\"row_heading level0 row6\" >Price</th>\n",
       "                        <td id=\"T_e55fd3db_a632_11ec_84cc_3c950944167arow6_col0\" class=\"data row6 col0\" >0</td>\n",
       "                        <td id=\"T_e55fd3db_a632_11ec_84cc_3c950944167arow6_col1\" class=\"data row6 col1\" >343,597</td>\n",
       "                        <td id=\"T_e55fd3db_a632_11ec_84cc_3c950944167arow6_col2\" class=\"data row6 col2\" >0.00%</td>\n",
       "            </tr>\n",
       "            <tr>\n",
       "                        <th id=\"T_e55fd3db_a632_11ec_84cc_3c950944167alevel0_row7\" class=\"row_heading level0 row7\" >Power</th>\n",
       "                        <td id=\"T_e55fd3db_a632_11ec_84cc_3c950944167arow7_col0\" class=\"data row7 col0\" >0</td>\n",
       "                        <td id=\"T_e55fd3db_a632_11ec_84cc_3c950944167arow7_col1\" class=\"data row7 col1\" >343,597</td>\n",
       "                        <td id=\"T_e55fd3db_a632_11ec_84cc_3c950944167arow7_col2\" class=\"data row7 col2\" >0.00%</td>\n",
       "            </tr>\n",
       "            <tr>\n",
       "                        <th id=\"T_e55fd3db_a632_11ec_84cc_3c950944167alevel0_row8\" class=\"row_heading level0 row8\" >Mileage</th>\n",
       "                        <td id=\"T_e55fd3db_a632_11ec_84cc_3c950944167arow8_col0\" class=\"data row8 col0\" >0</td>\n",
       "                        <td id=\"T_e55fd3db_a632_11ec_84cc_3c950944167arow8_col1\" class=\"data row8 col1\" >343,597</td>\n",
       "                        <td id=\"T_e55fd3db_a632_11ec_84cc_3c950944167arow8_col2\" class=\"data row8 col2\" >0.00%</td>\n",
       "            </tr>\n",
       "            <tr>\n",
       "                        <th id=\"T_e55fd3db_a632_11ec_84cc_3c950944167alevel0_row9\" class=\"row_heading level0 row9\" >RegistrationMonth</th>\n",
       "                        <td id=\"T_e55fd3db_a632_11ec_84cc_3c950944167arow9_col0\" class=\"data row9 col0\" >0</td>\n",
       "                        <td id=\"T_e55fd3db_a632_11ec_84cc_3c950944167arow9_col1\" class=\"data row9 col1\" >343,597</td>\n",
       "                        <td id=\"T_e55fd3db_a632_11ec_84cc_3c950944167arow9_col2\" class=\"data row9 col2\" >0.00%</td>\n",
       "            </tr>\n",
       "            <tr>\n",
       "                        <th id=\"T_e55fd3db_a632_11ec_84cc_3c950944167alevel0_row10\" class=\"row_heading level0 row10\" >Brand</th>\n",
       "                        <td id=\"T_e55fd3db_a632_11ec_84cc_3c950944167arow10_col0\" class=\"data row10 col0\" >0</td>\n",
       "                        <td id=\"T_e55fd3db_a632_11ec_84cc_3c950944167arow10_col1\" class=\"data row10 col1\" >343,597</td>\n",
       "                        <td id=\"T_e55fd3db_a632_11ec_84cc_3c950944167arow10_col2\" class=\"data row10 col2\" >0.00%</td>\n",
       "            </tr>\n",
       "    </tbody></table>"
      ],
      "text/plain": [
       "<pandas.io.formats.style.Styler at 0x1d3106c68b0>"
      ]
     },
     "execution_count": 14,
     "metadata": {},
     "output_type": "execute_result"
    }
   ],
   "source": [
    "df.stb.missing(style=True)"
   ]
  },
  {
   "cell_type": "markdown",
   "metadata": {},
   "source": [
    "Since there are a lot of rows containing missing data, those rows can't be deleted.  \n",
    "I'll handle each group of missing data according to its type."
   ]
  },
  {
   "cell_type": "markdown",
   "metadata": {},
   "source": [
    "#### NotRepaired"
   ]
  },
  {
   "cell_type": "code",
   "execution_count": 15,
   "metadata": {},
   "outputs": [
    {
     "data": {
      "text/plain": [
       "no     243682\n",
       "yes     34049\n",
       "Name: NotRepaired, dtype: int64"
      ]
     },
     "execution_count": 15,
     "metadata": {},
     "output_type": "execute_result"
    }
   ],
   "source": [
    "df.NotRepaired.value_counts()"
   ]
  },
  {
   "cell_type": "code",
   "execution_count": 16,
   "metadata": {},
   "outputs": [
    {
     "name": "stdout",
     "output_type": "stream",
     "text": [
      "Percent of not repaired: 87.27%\n"
     ]
    }
   ],
   "source": [
    "pct_not_repaired=247161/(247161+36054)\n",
    "print('Percent of not repaired: {:.2%}'.format(pct_not_repaired))"
   ]
  },
  {
   "cell_type": "markdown",
   "metadata": {},
   "source": [
    "Most of the observation's values of NotRepaired are no. I assume that most cars take it as obvious, and that's why this field is not filled up. Under this assumption, the missing values will be filled with no."
   ]
  },
  {
   "cell_type": "code",
   "execution_count": 17,
   "metadata": {},
   "outputs": [],
   "source": [
    "df.loc[df.NotRepaired.isna(), 'NotRepaired']='no'"
   ]
  },
  {
   "cell_type": "markdown",
   "metadata": {},
   "source": [
    "#### VehicleType"
   ]
  },
  {
   "cell_type": "code",
   "execution_count": 18,
   "metadata": {},
   "outputs": [
    {
     "data": {
      "text/plain": [
       "sedan          89405\n",
       "small          78018\n",
       "wagon          63701\n",
       "bus            28345\n",
       "convertible    19865\n",
       "coupe          15636\n",
       "suv            11791\n",
       "other           3086\n",
       "Name: VehicleType, dtype: int64"
      ]
     },
     "execution_count": 18,
     "metadata": {},
     "output_type": "execute_result"
    }
   ],
   "source": [
    "df.VehicleType.value_counts()"
   ]
  },
  {
   "cell_type": "markdown",
   "metadata": {},
   "source": [
    "There is no distinct value that can be used with high certainty as a filler to the missing values."
   ]
  },
  {
   "cell_type": "markdown",
   "metadata": {},
   "source": [
    "#### FuelType"
   ]
  },
  {
   "cell_type": "code",
   "execution_count": 19,
   "metadata": {},
   "outputs": [
    {
     "data": {
      "text/plain": [
       "petrol      210765\n",
       "gasoline     97168\n",
       "lpg           5166\n",
       "cng            554\n",
       "hybrid         227\n",
       "other          170\n",
       "electric        88\n",
       "Name: FuelType, dtype: int64"
      ]
     },
     "execution_count": 19,
     "metadata": {},
     "output_type": "execute_result"
    }
   ],
   "source": [
    "df.FuelType.value_counts()"
   ]
  },
  {
   "cell_type": "markdown",
   "metadata": {},
   "source": [
    "There is no consistency in name usage. I'll consolidate those groups.  \n",
    "LPG and CNG are the same, the same goes with Petrol and Gasoline.  \n",
    "Fuel type other will be redefined as petrol like most of the cars."
   ]
  },
  {
   "cell_type": "code",
   "execution_count": 20,
   "metadata": {},
   "outputs": [
    {
     "data": {
      "text/plain": [
       "petrol      308103\n",
       "lpg           5720\n",
       "hybrid         227\n",
       "electric        88\n",
       "Name: FuelType, dtype: int64"
      ]
     },
     "execution_count": 20,
     "metadata": {},
     "output_type": "execute_result"
    }
   ],
   "source": [
    "df.loc[df['FuelType']=='gasoline','FuelType']='petrol'\n",
    "df.loc[df['FuelType']=='cng','FuelType']='lpg'\n",
    "df.loc[df['FuelType']=='other','FuelType']='petrol'\n",
    "\n",
    "df.FuelType.value_counts()"
   ]
  },
  {
   "cell_type": "code",
   "execution_count": 21,
   "metadata": {},
   "outputs": [
    {
     "name": "stdout",
     "output_type": "stream",
     "text": [
      "Petrol cars are 89.67% of all observations\n"
     ]
    }
   ],
   "source": [
    "print('Petrol cars are {:.2%} of all observations'.format(df.FuelType.value_counts()['petrol']/len(df)))"
   ]
  },
  {
   "cell_type": "markdown",
   "metadata": {},
   "source": [
    "Since more than 89% of all observations are petrol cars, I'll label the fuel type missing values as petrol."
   ]
  },
  {
   "cell_type": "code",
   "execution_count": 22,
   "metadata": {},
   "outputs": [],
   "source": [
    "df.loc[df['FuelType'].isna(),'FuelType']='petrol'"
   ]
  },
  {
   "cell_type": "markdown",
   "metadata": {},
   "source": [
    "#### Gearbox"
   ]
  },
  {
   "cell_type": "code",
   "execution_count": 23,
   "metadata": {},
   "outputs": [
    {
     "data": {
      "text/plain": [
       "manual    261373\n",
       "auto       64869\n",
       "Name: Gearbox, dtype: int64"
      ]
     },
     "execution_count": 23,
     "metadata": {},
     "output_type": "execute_result"
    }
   ],
   "source": [
    "df.Gearbox.value_counts()"
   ]
  },
  {
   "cell_type": "code",
   "execution_count": 24,
   "metadata": {},
   "outputs": [
    {
     "name": "stdout",
     "output_type": "stream",
     "text": [
      "Petrol cars are 76.07% of all observations\n"
     ]
    }
   ],
   "source": [
    "print('Petrol cars are {:.2%} of all observations'.format(df.Gearbox.value_counts()['manual']/len(df)))"
   ]
  },
  {
   "cell_type": "markdown",
   "metadata": {},
   "source": [
    "Since more than 76% of all observation's gearbox type is manual, I'll label the gearbox type missing values as manual."
   ]
  },
  {
   "cell_type": "code",
   "execution_count": 25,
   "metadata": {},
   "outputs": [],
   "source": [
    "df.loc[df['Gearbox'].isna(), 'Gearbox']='manual'"
   ]
  },
  {
   "cell_type": "markdown",
   "metadata": {},
   "source": [
    "#### Model"
   ]
  },
  {
   "cell_type": "code",
   "execution_count": 26,
   "metadata": {},
   "outputs": [
    {
     "data": {
      "text/plain": [
       "golf                  28246\n",
       "other                 23707\n",
       "3er                   19179\n",
       "polo                  12628\n",
       "corsa                 12197\n",
       "                      ...  \n",
       "serie_2                   8\n",
       "rangerover                4\n",
       "serie_3                   3\n",
       "range_rover_evoque        2\n",
       "serie_1                   1\n",
       "Name: Model, Length: 250, dtype: int64"
      ]
     },
     "execution_count": 26,
     "metadata": {},
     "output_type": "execute_result"
    }
   ],
   "source": [
    "df.Model.value_counts()"
   ]
  },
  {
   "cell_type": "markdown",
   "metadata": {},
   "source": [
    "There is no distinct value that can be used with high certainty as a filler to the missing values."
   ]
  },
  {
   "cell_type": "markdown",
   "metadata": {},
   "source": [
    "After treating all kinds of data issues, and some of the missing values, those are the currently missing values:"
   ]
  },
  {
   "cell_type": "code",
   "execution_count": 27,
   "metadata": {},
   "outputs": [
    {
     "data": {
      "text/html": [
       "<style  type=\"text/css\" >\n",
       "</style><table id=\"T_e5e6c8a9_a632_11ec_8bf4_3c950944167a\" ><thead>    <tr>        <th class=\"blank level0\" ></th>        <th class=\"col_heading level0 col0\" >missing</th>        <th class=\"col_heading level0 col1\" >total</th>        <th class=\"col_heading level0 col2\" >percent</th>    </tr></thead><tbody>\n",
       "                <tr>\n",
       "                        <th id=\"T_e5e6c8a9_a632_11ec_8bf4_3c950944167alevel0_row0\" class=\"row_heading level0 row0\" >VehicleType</th>\n",
       "                        <td id=\"T_e5e6c8a9_a632_11ec_8bf4_3c950944167arow0_col0\" class=\"data row0 col0\" >33,750</td>\n",
       "                        <td id=\"T_e5e6c8a9_a632_11ec_8bf4_3c950944167arow0_col1\" class=\"data row0 col1\" >343,597</td>\n",
       "                        <td id=\"T_e5e6c8a9_a632_11ec_8bf4_3c950944167arow0_col2\" class=\"data row0 col2\" >9.82%</td>\n",
       "            </tr>\n",
       "            <tr>\n",
       "                        <th id=\"T_e5e6c8a9_a632_11ec_8bf4_3c950944167alevel0_row1\" class=\"row_heading level0 row1\" >Model</th>\n",
       "                        <td id=\"T_e5e6c8a9_a632_11ec_8bf4_3c950944167arow1_col0\" class=\"data row1 col0\" >17,521</td>\n",
       "                        <td id=\"T_e5e6c8a9_a632_11ec_8bf4_3c950944167arow1_col1\" class=\"data row1 col1\" >343,597</td>\n",
       "                        <td id=\"T_e5e6c8a9_a632_11ec_8bf4_3c950944167arow1_col2\" class=\"data row1 col2\" >5.10%</td>\n",
       "            </tr>\n",
       "            <tr>\n",
       "                        <th id=\"T_e5e6c8a9_a632_11ec_8bf4_3c950944167alevel0_row2\" class=\"row_heading level0 row2\" >RegistrationYear</th>\n",
       "                        <td id=\"T_e5e6c8a9_a632_11ec_8bf4_3c950944167arow2_col0\" class=\"data row2 col0\" >13,832</td>\n",
       "                        <td id=\"T_e5e6c8a9_a632_11ec_8bf4_3c950944167arow2_col1\" class=\"data row2 col1\" >343,597</td>\n",
       "                        <td id=\"T_e5e6c8a9_a632_11ec_8bf4_3c950944167arow2_col2\" class=\"data row2 col2\" >4.03%</td>\n",
       "            </tr>\n",
       "            <tr>\n",
       "                        <th id=\"T_e5e6c8a9_a632_11ec_8bf4_3c950944167alevel0_row3\" class=\"row_heading level0 row3\" >Price</th>\n",
       "                        <td id=\"T_e5e6c8a9_a632_11ec_8bf4_3c950944167arow3_col0\" class=\"data row3 col0\" >0</td>\n",
       "                        <td id=\"T_e5e6c8a9_a632_11ec_8bf4_3c950944167arow3_col1\" class=\"data row3 col1\" >343,597</td>\n",
       "                        <td id=\"T_e5e6c8a9_a632_11ec_8bf4_3c950944167arow3_col2\" class=\"data row3 col2\" >0.00%</td>\n",
       "            </tr>\n",
       "            <tr>\n",
       "                        <th id=\"T_e5e6c8a9_a632_11ec_8bf4_3c950944167alevel0_row4\" class=\"row_heading level0 row4\" >Gearbox</th>\n",
       "                        <td id=\"T_e5e6c8a9_a632_11ec_8bf4_3c950944167arow4_col0\" class=\"data row4 col0\" >0</td>\n",
       "                        <td id=\"T_e5e6c8a9_a632_11ec_8bf4_3c950944167arow4_col1\" class=\"data row4 col1\" >343,597</td>\n",
       "                        <td id=\"T_e5e6c8a9_a632_11ec_8bf4_3c950944167arow4_col2\" class=\"data row4 col2\" >0.00%</td>\n",
       "            </tr>\n",
       "            <tr>\n",
       "                        <th id=\"T_e5e6c8a9_a632_11ec_8bf4_3c950944167alevel0_row5\" class=\"row_heading level0 row5\" >Power</th>\n",
       "                        <td id=\"T_e5e6c8a9_a632_11ec_8bf4_3c950944167arow5_col0\" class=\"data row5 col0\" >0</td>\n",
       "                        <td id=\"T_e5e6c8a9_a632_11ec_8bf4_3c950944167arow5_col1\" class=\"data row5 col1\" >343,597</td>\n",
       "                        <td id=\"T_e5e6c8a9_a632_11ec_8bf4_3c950944167arow5_col2\" class=\"data row5 col2\" >0.00%</td>\n",
       "            </tr>\n",
       "            <tr>\n",
       "                        <th id=\"T_e5e6c8a9_a632_11ec_8bf4_3c950944167alevel0_row6\" class=\"row_heading level0 row6\" >Mileage</th>\n",
       "                        <td id=\"T_e5e6c8a9_a632_11ec_8bf4_3c950944167arow6_col0\" class=\"data row6 col0\" >0</td>\n",
       "                        <td id=\"T_e5e6c8a9_a632_11ec_8bf4_3c950944167arow6_col1\" class=\"data row6 col1\" >343,597</td>\n",
       "                        <td id=\"T_e5e6c8a9_a632_11ec_8bf4_3c950944167arow6_col2\" class=\"data row6 col2\" >0.00%</td>\n",
       "            </tr>\n",
       "            <tr>\n",
       "                        <th id=\"T_e5e6c8a9_a632_11ec_8bf4_3c950944167alevel0_row7\" class=\"row_heading level0 row7\" >RegistrationMonth</th>\n",
       "                        <td id=\"T_e5e6c8a9_a632_11ec_8bf4_3c950944167arow7_col0\" class=\"data row7 col0\" >0</td>\n",
       "                        <td id=\"T_e5e6c8a9_a632_11ec_8bf4_3c950944167arow7_col1\" class=\"data row7 col1\" >343,597</td>\n",
       "                        <td id=\"T_e5e6c8a9_a632_11ec_8bf4_3c950944167arow7_col2\" class=\"data row7 col2\" >0.00%</td>\n",
       "            </tr>\n",
       "            <tr>\n",
       "                        <th id=\"T_e5e6c8a9_a632_11ec_8bf4_3c950944167alevel0_row8\" class=\"row_heading level0 row8\" >FuelType</th>\n",
       "                        <td id=\"T_e5e6c8a9_a632_11ec_8bf4_3c950944167arow8_col0\" class=\"data row8 col0\" >0</td>\n",
       "                        <td id=\"T_e5e6c8a9_a632_11ec_8bf4_3c950944167arow8_col1\" class=\"data row8 col1\" >343,597</td>\n",
       "                        <td id=\"T_e5e6c8a9_a632_11ec_8bf4_3c950944167arow8_col2\" class=\"data row8 col2\" >0.00%</td>\n",
       "            </tr>\n",
       "            <tr>\n",
       "                        <th id=\"T_e5e6c8a9_a632_11ec_8bf4_3c950944167alevel0_row9\" class=\"row_heading level0 row9\" >Brand</th>\n",
       "                        <td id=\"T_e5e6c8a9_a632_11ec_8bf4_3c950944167arow9_col0\" class=\"data row9 col0\" >0</td>\n",
       "                        <td id=\"T_e5e6c8a9_a632_11ec_8bf4_3c950944167arow9_col1\" class=\"data row9 col1\" >343,597</td>\n",
       "                        <td id=\"T_e5e6c8a9_a632_11ec_8bf4_3c950944167arow9_col2\" class=\"data row9 col2\" >0.00%</td>\n",
       "            </tr>\n",
       "            <tr>\n",
       "                        <th id=\"T_e5e6c8a9_a632_11ec_8bf4_3c950944167alevel0_row10\" class=\"row_heading level0 row10\" >NotRepaired</th>\n",
       "                        <td id=\"T_e5e6c8a9_a632_11ec_8bf4_3c950944167arow10_col0\" class=\"data row10 col0\" >0</td>\n",
       "                        <td id=\"T_e5e6c8a9_a632_11ec_8bf4_3c950944167arow10_col1\" class=\"data row10 col1\" >343,597</td>\n",
       "                        <td id=\"T_e5e6c8a9_a632_11ec_8bf4_3c950944167arow10_col2\" class=\"data row10 col2\" >0.00%</td>\n",
       "            </tr>\n",
       "    </tbody></table>"
      ],
      "text/plain": [
       "<pandas.io.formats.style.Styler at 0x1d3106c6670>"
      ]
     },
     "execution_count": 27,
     "metadata": {},
     "output_type": "execute_result"
    }
   ],
   "source": [
    "df.stb.missing(style=True)"
   ]
  },
  {
   "cell_type": "code",
   "execution_count": 28,
   "metadata": {},
   "outputs": [
    {
     "name": "stdout",
     "output_type": "stream",
     "text": [
      "There are 297892 observations without any missing values, which are 86.70% from the original dataset.\n"
     ]
    }
   ],
   "source": [
    "df_no_na=df.dropna()\n",
    "msg='There are {} observations without any missing values, which are {:.2%} from the original dataset.'\n",
    "print(msg.format(len(df_no_na), len(df_no_na)/ len(df)))"
   ]
  },
  {
   "cell_type": "markdown",
   "metadata": {},
   "source": [
    "The missing data that can't be filled with high certainty, will be deleted."
   ]
  },
  {
   "cell_type": "code",
   "execution_count": 29,
   "metadata": {},
   "outputs": [],
   "source": [
    "df=df_no_na"
   ]
  },
  {
   "cell_type": "markdown",
   "metadata": {},
   "source": [
    "The price feature is the target for our models."
   ]
  },
  {
   "cell_type": "code",
   "execution_count": 30,
   "metadata": {},
   "outputs": [],
   "source": [
    "X_df=df.drop('Price', axis=1)\n",
    "y_df=df.Price"
   ]
  },
  {
   "cell_type": "markdown",
   "metadata": {},
   "source": [
    "### Encoding categorical data"
   ]
  },
  {
   "cell_type": "markdown",
   "metadata": {},
   "source": [
    "Categorical data needs to be converted to numerical values. The requirement is to build models using different algorithms (random forest, decision tree, and linear regression). The linear regression works better with OHE, while the decision tree works better with label encoding.  \n",
    "The 2 different methods will be applied and used according to the algorithm's needs."
   ]
  },
  {
   "cell_type": "markdown",
   "metadata": {},
   "source": [
    "#### One-Hot Encoding (OHE) "
   ]
  },
  {
   "cell_type": "markdown",
   "metadata": {},
   "source": [
    "Encoding using OHE."
   ]
  },
  {
   "cell_type": "code",
   "execution_count": 31,
   "metadata": {},
   "outputs": [
    {
     "data": {
      "text/html": [
       "<div>\n",
       "<style scoped>\n",
       "    .dataframe tbody tr th:only-of-type {\n",
       "        vertical-align: middle;\n",
       "    }\n",
       "\n",
       "    .dataframe tbody tr th {\n",
       "        vertical-align: top;\n",
       "    }\n",
       "\n",
       "    .dataframe thead th {\n",
       "        text-align: right;\n",
       "    }\n",
       "</style>\n",
       "<table border=\"1\" class=\"dataframe\">\n",
       "  <thead>\n",
       "    <tr style=\"text-align: right;\">\n",
       "      <th></th>\n",
       "      <th>RegistrationYear</th>\n",
       "      <th>Power</th>\n",
       "      <th>Mileage</th>\n",
       "      <th>RegistrationMonth</th>\n",
       "      <th>VehicleType_convertible</th>\n",
       "      <th>VehicleType_coupe</th>\n",
       "      <th>VehicleType_other</th>\n",
       "      <th>VehicleType_sedan</th>\n",
       "      <th>VehicleType_small</th>\n",
       "      <th>VehicleType_suv</th>\n",
       "      <th>...</th>\n",
       "      <th>Brand_seat</th>\n",
       "      <th>Brand_skoda</th>\n",
       "      <th>Brand_smart</th>\n",
       "      <th>Brand_subaru</th>\n",
       "      <th>Brand_suzuki</th>\n",
       "      <th>Brand_toyota</th>\n",
       "      <th>Brand_trabant</th>\n",
       "      <th>Brand_volkswagen</th>\n",
       "      <th>Brand_volvo</th>\n",
       "      <th>NotRepaired_yes</th>\n",
       "    </tr>\n",
       "  </thead>\n",
       "  <tbody>\n",
       "    <tr>\n",
       "      <th>2</th>\n",
       "      <td>2004.0</td>\n",
       "      <td>163</td>\n",
       "      <td>125000</td>\n",
       "      <td>8</td>\n",
       "      <td>0</td>\n",
       "      <td>0</td>\n",
       "      <td>0</td>\n",
       "      <td>0</td>\n",
       "      <td>0</td>\n",
       "      <td>1</td>\n",
       "      <td>...</td>\n",
       "      <td>0</td>\n",
       "      <td>0</td>\n",
       "      <td>0</td>\n",
       "      <td>0</td>\n",
       "      <td>0</td>\n",
       "      <td>0</td>\n",
       "      <td>0</td>\n",
       "      <td>0</td>\n",
       "      <td>0</td>\n",
       "      <td>0</td>\n",
       "    </tr>\n",
       "    <tr>\n",
       "      <th>3</th>\n",
       "      <td>2001.0</td>\n",
       "      <td>75</td>\n",
       "      <td>150000</td>\n",
       "      <td>6</td>\n",
       "      <td>0</td>\n",
       "      <td>0</td>\n",
       "      <td>0</td>\n",
       "      <td>0</td>\n",
       "      <td>1</td>\n",
       "      <td>0</td>\n",
       "      <td>...</td>\n",
       "      <td>0</td>\n",
       "      <td>0</td>\n",
       "      <td>0</td>\n",
       "      <td>0</td>\n",
       "      <td>0</td>\n",
       "      <td>0</td>\n",
       "      <td>0</td>\n",
       "      <td>1</td>\n",
       "      <td>0</td>\n",
       "      <td>0</td>\n",
       "    </tr>\n",
       "    <tr>\n",
       "      <th>4</th>\n",
       "      <td>2008.0</td>\n",
       "      <td>69</td>\n",
       "      <td>90000</td>\n",
       "      <td>7</td>\n",
       "      <td>0</td>\n",
       "      <td>0</td>\n",
       "      <td>0</td>\n",
       "      <td>0</td>\n",
       "      <td>1</td>\n",
       "      <td>0</td>\n",
       "      <td>...</td>\n",
       "      <td>0</td>\n",
       "      <td>1</td>\n",
       "      <td>0</td>\n",
       "      <td>0</td>\n",
       "      <td>0</td>\n",
       "      <td>0</td>\n",
       "      <td>0</td>\n",
       "      <td>0</td>\n",
       "      <td>0</td>\n",
       "      <td>0</td>\n",
       "    </tr>\n",
       "    <tr>\n",
       "      <th>5</th>\n",
       "      <td>1995.0</td>\n",
       "      <td>102</td>\n",
       "      <td>150000</td>\n",
       "      <td>10</td>\n",
       "      <td>0</td>\n",
       "      <td>0</td>\n",
       "      <td>0</td>\n",
       "      <td>1</td>\n",
       "      <td>0</td>\n",
       "      <td>0</td>\n",
       "      <td>...</td>\n",
       "      <td>0</td>\n",
       "      <td>0</td>\n",
       "      <td>0</td>\n",
       "      <td>0</td>\n",
       "      <td>0</td>\n",
       "      <td>0</td>\n",
       "      <td>0</td>\n",
       "      <td>0</td>\n",
       "      <td>0</td>\n",
       "      <td>1</td>\n",
       "    </tr>\n",
       "    <tr>\n",
       "      <th>6</th>\n",
       "      <td>2004.0</td>\n",
       "      <td>109</td>\n",
       "      <td>150000</td>\n",
       "      <td>8</td>\n",
       "      <td>1</td>\n",
       "      <td>0</td>\n",
       "      <td>0</td>\n",
       "      <td>0</td>\n",
       "      <td>0</td>\n",
       "      <td>0</td>\n",
       "      <td>...</td>\n",
       "      <td>0</td>\n",
       "      <td>0</td>\n",
       "      <td>0</td>\n",
       "      <td>0</td>\n",
       "      <td>0</td>\n",
       "      <td>0</td>\n",
       "      <td>0</td>\n",
       "      <td>0</td>\n",
       "      <td>0</td>\n",
       "      <td>0</td>\n",
       "    </tr>\n",
       "  </tbody>\n",
       "</table>\n",
       "<p>5 rows × 303 columns</p>\n",
       "</div>"
      ],
      "text/plain": [
       "   RegistrationYear  Power  Mileage  RegistrationMonth  \\\n",
       "2            2004.0    163   125000                  8   \n",
       "3            2001.0     75   150000                  6   \n",
       "4            2008.0     69    90000                  7   \n",
       "5            1995.0    102   150000                 10   \n",
       "6            2004.0    109   150000                  8   \n",
       "\n",
       "   VehicleType_convertible  VehicleType_coupe  VehicleType_other  \\\n",
       "2                        0                  0                  0   \n",
       "3                        0                  0                  0   \n",
       "4                        0                  0                  0   \n",
       "5                        0                  0                  0   \n",
       "6                        1                  0                  0   \n",
       "\n",
       "   VehicleType_sedan  VehicleType_small  VehicleType_suv  ...  Brand_seat  \\\n",
       "2                  0                  0                1  ...           0   \n",
       "3                  0                  1                0  ...           0   \n",
       "4                  0                  1                0  ...           0   \n",
       "5                  1                  0                0  ...           0   \n",
       "6                  0                  0                0  ...           0   \n",
       "\n",
       "   Brand_skoda  Brand_smart  Brand_subaru  Brand_suzuki  Brand_toyota  \\\n",
       "2            0            0             0             0             0   \n",
       "3            0            0             0             0             0   \n",
       "4            1            0             0             0             0   \n",
       "5            0            0             0             0             0   \n",
       "6            0            0             0             0             0   \n",
       "\n",
       "   Brand_trabant  Brand_volkswagen  Brand_volvo  NotRepaired_yes  \n",
       "2              0                 0            0                0  \n",
       "3              0                 1            0                0  \n",
       "4              0                 0            0                0  \n",
       "5              0                 0            0                1  \n",
       "6              0                 0            0                0  \n",
       "\n",
       "[5 rows x 303 columns]"
      ]
     },
     "execution_count": 31,
     "metadata": {},
     "output_type": "execute_result"
    }
   ],
   "source": [
    "X_df_ohe=pd.get_dummies(X_df, drop_first=True)\n",
    "X_df_ohe.head()"
   ]
  },
  {
   "cell_type": "markdown",
   "metadata": {},
   "source": [
    "#### Label Encoding"
   ]
  },
  {
   "cell_type": "markdown",
   "metadata": {},
   "source": [
    "Encoding using label encoding technique.  \n",
    "Finding the categorical columns."
   ]
  },
  {
   "cell_type": "code",
   "execution_count": 58,
   "metadata": {},
   "outputs": [
    {
     "data": {
      "text/html": [
       "<div>\n",
       "<style scoped>\n",
       "    .dataframe tbody tr th:only-of-type {\n",
       "        vertical-align: middle;\n",
       "    }\n",
       "\n",
       "    .dataframe tbody tr th {\n",
       "        vertical-align: top;\n",
       "    }\n",
       "\n",
       "    .dataframe thead th {\n",
       "        text-align: right;\n",
       "    }\n",
       "</style>\n",
       "<table border=\"1\" class=\"dataframe\">\n",
       "  <thead>\n",
       "    <tr style=\"text-align: right;\">\n",
       "      <th></th>\n",
       "      <th>VehicleType</th>\n",
       "      <th>Gearbox</th>\n",
       "      <th>Model</th>\n",
       "      <th>FuelType</th>\n",
       "      <th>Brand</th>\n",
       "      <th>NotRepaired</th>\n",
       "    </tr>\n",
       "  </thead>\n",
       "  <tbody>\n",
       "    <tr>\n",
       "      <th>2</th>\n",
       "      <td>suv</td>\n",
       "      <td>auto</td>\n",
       "      <td>grand</td>\n",
       "      <td>petrol</td>\n",
       "      <td>jeep</td>\n",
       "      <td>no</td>\n",
       "    </tr>\n",
       "    <tr>\n",
       "      <th>3</th>\n",
       "      <td>small</td>\n",
       "      <td>manual</td>\n",
       "      <td>golf</td>\n",
       "      <td>petrol</td>\n",
       "      <td>volkswagen</td>\n",
       "      <td>no</td>\n",
       "    </tr>\n",
       "  </tbody>\n",
       "</table>\n",
       "</div>"
      ],
      "text/plain": [
       "  VehicleType Gearbox  Model FuelType       Brand NotRepaired\n",
       "2         suv    auto  grand   petrol        jeep          no\n",
       "3       small  manual   golf   petrol  volkswagen          no"
      ]
     },
     "execution_count": 58,
     "metadata": {},
     "output_type": "execute_result"
    },
    {
     "data": {
      "text/html": [
       "<div>\n",
       "<style scoped>\n",
       "    .dataframe tbody tr th:only-of-type {\n",
       "        vertical-align: middle;\n",
       "    }\n",
       "\n",
       "    .dataframe tbody tr th {\n",
       "        vertical-align: top;\n",
       "    }\n",
       "\n",
       "    .dataframe thead th {\n",
       "        text-align: right;\n",
       "    }\n",
       "</style>\n",
       "<table border=\"1\" class=\"dataframe\">\n",
       "  <thead>\n",
       "    <tr style=\"text-align: right;\">\n",
       "      <th></th>\n",
       "      <th>RegistrationYear</th>\n",
       "      <th>Power</th>\n",
       "      <th>Mileage</th>\n",
       "      <th>RegistrationMonth</th>\n",
       "    </tr>\n",
       "  </thead>\n",
       "  <tbody>\n",
       "    <tr>\n",
       "      <th>2</th>\n",
       "      <td>2004.0</td>\n",
       "      <td>163</td>\n",
       "      <td>125000</td>\n",
       "      <td>8</td>\n",
       "    </tr>\n",
       "    <tr>\n",
       "      <th>3</th>\n",
       "      <td>2001.0</td>\n",
       "      <td>75</td>\n",
       "      <td>150000</td>\n",
       "      <td>6</td>\n",
       "    </tr>\n",
       "  </tbody>\n",
       "</table>\n",
       "</div>"
      ],
      "text/plain": [
       "   RegistrationYear  Power  Mileage  RegistrationMonth\n",
       "2            2004.0    163   125000                  8\n",
       "3            2001.0     75   150000                  6"
      ]
     },
     "execution_count": 58,
     "metadata": {},
     "output_type": "execute_result"
    }
   ],
   "source": [
    "numerical_features=[]\n",
    "categorical_features=[]\n",
    "for col in list(X_df.columns):\n",
    "    if X_df[col].dtypes == object:\n",
    "        categorical_features.append(col)\n",
    "    else:\n",
    "        numerical_features.append(col)\n",
    "        \n",
    "X_df[categorical_features].head(2)\n",
    "X_df[numerical_features].head(2)"
   ]
  },
  {
   "cell_type": "markdown",
   "metadata": {},
   "source": [
    "Label encoding is applied only to the categorical columns."
   ]
  },
  {
   "cell_type": "code",
   "execution_count": 60,
   "metadata": {},
   "outputs": [
    {
     "data": {
      "text/html": [
       "<div>\n",
       "<style scoped>\n",
       "    .dataframe tbody tr th:only-of-type {\n",
       "        vertical-align: middle;\n",
       "    }\n",
       "\n",
       "    .dataframe tbody tr th {\n",
       "        vertical-align: top;\n",
       "    }\n",
       "\n",
       "    .dataframe thead th {\n",
       "        text-align: right;\n",
       "    }\n",
       "</style>\n",
       "<table border=\"1\" class=\"dataframe\">\n",
       "  <thead>\n",
       "    <tr style=\"text-align: right;\">\n",
       "      <th></th>\n",
       "      <th>VehicleType</th>\n",
       "      <th>Gearbox</th>\n",
       "      <th>Model</th>\n",
       "      <th>FuelType</th>\n",
       "      <th>Brand</th>\n",
       "      <th>NotRepaired</th>\n",
       "      <th>RegistrationYear</th>\n",
       "      <th>Power</th>\n",
       "      <th>Mileage</th>\n",
       "      <th>RegistrationMonth</th>\n",
       "    </tr>\n",
       "  </thead>\n",
       "  <tbody>\n",
       "    <tr>\n",
       "      <th>2</th>\n",
       "      <td>6.0</td>\n",
       "      <td>0.0</td>\n",
       "      <td>117.0</td>\n",
       "      <td>3.0</td>\n",
       "      <td>14.0</td>\n",
       "      <td>0.0</td>\n",
       "      <td>2004.0</td>\n",
       "      <td>163.0</td>\n",
       "      <td>125000.0</td>\n",
       "      <td>8.0</td>\n",
       "    </tr>\n",
       "    <tr>\n",
       "      <th>3</th>\n",
       "      <td>5.0</td>\n",
       "      <td>1.0</td>\n",
       "      <td>116.0</td>\n",
       "      <td>3.0</td>\n",
       "      <td>37.0</td>\n",
       "      <td>0.0</td>\n",
       "      <td>2001.0</td>\n",
       "      <td>75.0</td>\n",
       "      <td>150000.0</td>\n",
       "      <td>6.0</td>\n",
       "    </tr>\n",
       "    <tr>\n",
       "      <th>4</th>\n",
       "      <td>5.0</td>\n",
       "      <td>1.0</td>\n",
       "      <td>101.0</td>\n",
       "      <td>3.0</td>\n",
       "      <td>31.0</td>\n",
       "      <td>0.0</td>\n",
       "      <td>2008.0</td>\n",
       "      <td>69.0</td>\n",
       "      <td>90000.0</td>\n",
       "      <td>7.0</td>\n",
       "    </tr>\n",
       "    <tr>\n",
       "      <th>5</th>\n",
       "      <td>4.0</td>\n",
       "      <td>1.0</td>\n",
       "      <td>11.0</td>\n",
       "      <td>3.0</td>\n",
       "      <td>2.0</td>\n",
       "      <td>1.0</td>\n",
       "      <td>1995.0</td>\n",
       "      <td>102.0</td>\n",
       "      <td>150000.0</td>\n",
       "      <td>10.0</td>\n",
       "    </tr>\n",
       "    <tr>\n",
       "      <th>6</th>\n",
       "      <td>1.0</td>\n",
       "      <td>1.0</td>\n",
       "      <td>8.0</td>\n",
       "      <td>3.0</td>\n",
       "      <td>25.0</td>\n",
       "      <td>0.0</td>\n",
       "      <td>2004.0</td>\n",
       "      <td>109.0</td>\n",
       "      <td>150000.0</td>\n",
       "      <td>8.0</td>\n",
       "    </tr>\n",
       "  </tbody>\n",
       "</table>\n",
       "</div>"
      ],
      "text/plain": [
       "   VehicleType  Gearbox  Model  FuelType  Brand  NotRepaired  \\\n",
       "2          6.0      0.0  117.0       3.0   14.0          0.0   \n",
       "3          5.0      1.0  116.0       3.0   37.0          0.0   \n",
       "4          5.0      1.0  101.0       3.0   31.0          0.0   \n",
       "5          4.0      1.0   11.0       3.0    2.0          1.0   \n",
       "6          1.0      1.0    8.0       3.0   25.0          0.0   \n",
       "\n",
       "   RegistrationYear  Power   Mileage  RegistrationMonth  \n",
       "2            2004.0  163.0  125000.0                8.0  \n",
       "3            2001.0   75.0  150000.0                6.0  \n",
       "4            2008.0   69.0   90000.0                7.0  \n",
       "5            1995.0  102.0  150000.0               10.0  \n",
       "6            2004.0  109.0  150000.0                8.0  "
      ]
     },
     "execution_count": 60,
     "metadata": {},
     "output_type": "execute_result"
    }
   ],
   "source": [
    "# column_transformer needs to have the columns that needs to be transformed first,\n",
    "# and only then the columns that won't be transformed - numerical features\n",
    "features_reordered=categorical_features+numerical_features\n",
    "X_df=X_df[features_reordered]\n",
    "        \n",
    "X_df_labeled=X_df.copy()\n",
    "column_transformer=make_column_transformer(\n",
    "    (OrdinalEncoder(), categorical_features),\n",
    "    remainder='passthrough')\n",
    "X_df_labeled[:]=column_transformer.fit_transform(X_df)\n",
    "X_df_labeled.head()"
   ]
  },
  {
   "cell_type": "markdown",
   "metadata": {},
   "source": [
    "### Splitting the data"
   ]
  },
  {
   "cell_type": "markdown",
   "metadata": {},
   "source": [
    "Splitting the data for training and testing datasets."
   ]
  },
  {
   "cell_type": "code",
   "execution_count": 42,
   "metadata": {},
   "outputs": [],
   "source": [
    "X_train_lbl, X_test_lbl, y_train_lbl, y_test_lbl = train_test_split(\n",
    "    X_df_labeled, y_df, test_size=0.3, random_state=12345\n",
    ")"
   ]
  },
  {
   "cell_type": "code",
   "execution_count": 43,
   "metadata": {},
   "outputs": [],
   "source": [
    "X_train_ohe, X_test_ohe, y_train_ohe, y_test_ohe = train_test_split(\n",
    "    X_df_ohe, y_df, test_size=0.3, random_state=12345\n",
    ")"
   ]
  },
  {
   "cell_type": "markdown",
   "metadata": {},
   "source": [
    "## Model training"
   ]
  },
  {
   "cell_type": "markdown",
   "metadata": {},
   "source": [
    "The requested metric is __RMSE__. A function is defined for that, and a scorer to use this self-made metric with the `GridSearchCV()`.  \n",
    "The model training compares the result of standard models:  \n",
    "\n",
    "    Linear Regression, Decision Tree, Random Forest\n",
    "    \n",
    "to Gradient Boosting algorithms:  \n",
    "\n",
    "    CatBoost, LightGBM, XBoost"
   ]
  },
  {
   "cell_type": "markdown",
   "metadata": {},
   "source": [
    "__Feature scaling__ - Making sure that all features should be considered equally important before the algorithm's execution. In order to avoid data leakage, pipeline will be used."
   ]
  },
  {
   "cell_type": "code",
   "execution_count": 47,
   "metadata": {},
   "outputs": [],
   "source": [
    "def RMSE(y_true, y_pred):\n",
    "    return mean_squared_error(y_true, y_pred, squared=False)"
   ]
  },
  {
   "cell_type": "code",
   "execution_count": 92,
   "metadata": {},
   "outputs": [],
   "source": [
    "RMSE_scorer=make_scorer(RMSE, greater_is_better=False)\n",
    "std_scaler = StandardScaler()\n",
    "\n",
    "def search_best_hyper_params(model, params, X, y):\n",
    "    \n",
    "    pipe=make_pipeline(std_scaler, model)\n",
    "    \n",
    "    clf=GridSearchCV(pipe, param_grid=params, scoring=RMSE_scorer, cv=10)\n",
    "    clf.fit(X, y)\n",
    "    return clf.best_score_*(-1), clf.best_params_"
   ]
  },
  {
   "cell_type": "markdown",
   "metadata": {},
   "source": [
    "### Regular model training"
   ]
  },
  {
   "cell_type": "markdown",
   "metadata": {},
   "source": [
    "#### Linear Regression"
   ]
  },
  {
   "cell_type": "code",
   "execution_count": 95,
   "metadata": {},
   "outputs": [
    {
     "name": "stdout",
     "output_type": "stream",
     "text": [
      "Wall time: 58.3 s\n"
     ]
    },
    {
     "data": {
      "text/plain": [
       "(2728.632616355445, {})"
      ]
     },
     "execution_count": 95,
     "metadata": {},
     "output_type": "execute_result"
    }
   ],
   "source": [
    "%%time\n",
    "lr_model=LinearRegression()\n",
    "search_best_hyper_params(lr_model, {}, X_train_ohe, y_train_ohe)"
   ]
  },
  {
   "cell_type": "markdown",
   "metadata": {},
   "source": [
    "Training time for 200K observations:"
   ]
  },
  {
   "cell_type": "code",
   "execution_count": 98,
   "metadata": {},
   "outputs": [
    {
     "name": "stdout",
     "output_type": "stream",
     "text": [
      "Wall time: 5.41 s\n"
     ]
    },
    {
     "data": {
      "text/plain": [
       "Pipeline(steps=[('standardscaler', StandardScaler()),\n",
       "                ('linearregression', LinearRegression())])"
      ]
     },
     "execution_count": 98,
     "metadata": {},
     "output_type": "execute_result"
    }
   ],
   "source": [
    "%%time\n",
    "lr_pipe=make_pipeline(std_scaler, lr_model)\n",
    "lr_pipe.fit(X_train_ohe, y_train_ohe)"
   ]
  },
  {
   "cell_type": "markdown",
   "metadata": {},
   "source": [
    "Prediction time for 200K observations:"
   ]
  },
  {
   "cell_type": "code",
   "execution_count": 99,
   "metadata": {},
   "outputs": [
    {
     "name": "stdout",
     "output_type": "stream",
     "text": [
      "Wall time: 571 ms\n"
     ]
    },
    {
     "data": {
      "text/plain": [
       "array([15538.78994385, -2798.51905026,  1169.74717977, ...,\n",
       "        2979.34785228,  1336.88696769,  9610.57039248])"
      ]
     },
     "execution_count": 99,
     "metadata": {},
     "output_type": "execute_result"
    }
   ],
   "source": [
    "%%time\n",
    "lr_pipe.predict(X_train_ohe)"
   ]
  },
  {
   "cell_type": "markdown",
   "metadata": {},
   "source": [
    "#### Decision Tree"
   ]
  },
  {
   "cell_type": "code",
   "execution_count": 53,
   "metadata": {},
   "outputs": [
    {
     "name": "stdout",
     "output_type": "stream",
     "text": [
      "Wall time: 52.5 s\n"
     ]
    },
    {
     "data": {
      "text/plain": [
       "(2514.4083364190005,\n",
       " {'decisiontreeregressor__max_depth': 4,\n",
       "  'decisiontreeregressor__max_features': 'auto',\n",
       "  'decisiontreeregressor__max_leaf_nodes': None})"
      ]
     },
     "execution_count": 53,
     "metadata": {},
     "output_type": "execute_result"
    }
   ],
   "source": [
    "%%time\n",
    "search_best_hyper_params(\n",
    "    DecisionTreeRegressor(random_state=12345), \n",
    "    {\n",
    "        'decisiontreeregressor__max_features':['auto','log2','sqrt',None],\n",
    "        'decisiontreeregressor__max_leaf_nodes':[None,10,90],\n",
    "        'decisiontreeregressor__max_depth':[2, 3, 4]\n",
    "    },\n",
    "    X_train_lbl, y_train_lbl\n",
    ")"
   ]
  },
  {
   "cell_type": "markdown",
   "metadata": {},
   "source": [
    "Training time using selected hyperparameters for 200K observations:"
   ]
  },
  {
   "cell_type": "code",
   "execution_count": 100,
   "metadata": {},
   "outputs": [
    {
     "name": "stdout",
     "output_type": "stream",
     "text": [
      "Wall time: 262 ms\n"
     ]
    },
    {
     "data": {
      "text/plain": [
       "Pipeline(steps=[('standardscaler', StandardScaler()),\n",
       "                ('decisiontreeregressor',\n",
       "                 DecisionTreeRegressor(max_depth=4, max_features='auto',\n",
       "                                       random_state=12345))])"
      ]
     },
     "execution_count": 100,
     "metadata": {},
     "output_type": "execute_result"
    }
   ],
   "source": [
    "%%time\n",
    "dt_model=DecisionTreeRegressor(random_state=12345, max_features='auto', max_leaf_nodes=None, max_depth=4)\n",
    "dt_pipe=make_pipeline(std_scaler, dt_model)\n",
    "dt_pipe.fit(X_train_lbl, y_train_lbl)"
   ]
  },
  {
   "cell_type": "markdown",
   "metadata": {},
   "source": [
    "Prediction time for 200K observations"
   ]
  },
  {
   "cell_type": "code",
   "execution_count": 101,
   "metadata": {},
   "outputs": [
    {
     "name": "stdout",
     "output_type": "stream",
     "text": [
      "Wall time: 37.9 ms\n"
     ]
    },
    {
     "data": {
      "text/plain": [
       "array([14705.93219214,  6138.58252835,  1596.73819281, ...,\n",
       "        4113.5408805 ,  1596.73819281, 10669.74552286])"
      ]
     },
     "execution_count": 101,
     "metadata": {},
     "output_type": "execute_result"
    }
   ],
   "source": [
    "%%time\n",
    "dt_pipe.predict(X_train_lbl)"
   ]
  },
  {
   "cell_type": "markdown",
   "metadata": {},
   "source": [
    "#### Random Forest"
   ]
  },
  {
   "cell_type": "code",
   "execution_count": 54,
   "metadata": {},
   "outputs": [
    {
     "name": "stdout",
     "output_type": "stream",
     "text": [
      "Wall time: 5min 13s\n"
     ]
    },
    {
     "data": {
      "text/plain": [
       "(2206.4292558000357,\n",
       " {'randomforestregressor__max_depth': 6,\n",
       "  'randomforestregressor__n_estimators': 80})"
      ]
     },
     "execution_count": 54,
     "metadata": {},
     "output_type": "execute_result"
    }
   ],
   "source": [
    "%%time\n",
    "search_best_hyper_params(\n",
    "    RandomForestRegressor(random_state=12345), \n",
    "    {'randomforestregressor__n_estimators':[20, 80], \n",
    "     'randomforestregressor__max_depth':[3, 6] },\n",
    "    X_train_lbl, y_train_lbl\n",
    ")"
   ]
  },
  {
   "cell_type": "markdown",
   "metadata": {},
   "source": [
    "Training time using selected hyperparameters for 200K observations:"
   ]
  },
  {
   "cell_type": "code",
   "execution_count": 102,
   "metadata": {},
   "outputs": [
    {
     "name": "stdout",
     "output_type": "stream",
     "text": [
      "Wall time: 19 s\n"
     ]
    },
    {
     "data": {
      "text/plain": [
       "Pipeline(steps=[('standardscaler', StandardScaler()),\n",
       "                ('randomforestregressor',\n",
       "                 RandomForestRegressor(max_depth=6, n_estimators=80,\n",
       "                                       random_state=12345))])"
      ]
     },
     "execution_count": 102,
     "metadata": {},
     "output_type": "execute_result"
    }
   ],
   "source": [
    "%%time\n",
    "rf_model=RandomForestRegressor(random_state=12345, n_estimators=80, max_depth=6)\n",
    "rf_pipe=make_pipeline(std_scaler, rf_model)\n",
    "rf_pipe.fit(X_train_lbl, y_train_lbl)"
   ]
  },
  {
   "cell_type": "markdown",
   "metadata": {},
   "source": [
    "Prediction time for 200K observations"
   ]
  },
  {
   "cell_type": "code",
   "execution_count": 103,
   "metadata": {},
   "outputs": [
    {
     "name": "stdout",
     "output_type": "stream",
     "text": [
      "Wall time: 965 ms\n"
     ]
    },
    {
     "data": {
      "text/plain": [
       "array([13451.90470796,  4278.09327521,  1775.82467675, ...,\n",
       "        4233.05884516,  1183.11186333,  9257.51232789])"
      ]
     },
     "execution_count": 103,
     "metadata": {},
     "output_type": "execute_result"
    }
   ],
   "source": [
    "%%time\n",
    "rf_pipe.predict(X_train_lbl)"
   ]
  },
  {
   "cell_type": "markdown",
   "metadata": {},
   "source": [
    "Tried 3 regular algorithms with some parameters:\n",
    "    \n",
    "    Linear Regression\n",
    "    Decision Tree\n",
    "    Random Forest\n",
    "\n",
    "The best result was received from the Random Forest with RMSE score of 2206.43.  \n",
    "Training time using selected hyperparameters for 200K observations took 19 seconds, and the prediction time was 965 milliseconds"
   ]
  },
  {
   "cell_type": "markdown",
   "metadata": {},
   "source": [
    "### Gradient Boosting"
   ]
  },
  {
   "cell_type": "markdown",
   "metadata": {},
   "source": [
    "Running the same data using Gradient Boosting algorithms."
   ]
  },
  {
   "cell_type": "markdown",
   "metadata": {},
   "source": [
    "#### CatBoost"
   ]
  },
  {
   "cell_type": "code",
   "execution_count": 69,
   "metadata": {},
   "outputs": [
    {
     "name": "stderr",
     "output_type": "stream",
     "text": [
      "Custom logger is already specified. Specify more than one logger at same time is not thread safe."
     ]
    },
    {
     "name": "stdout",
     "output_type": "stream",
     "text": [
      "Wall time: 18min 1s\n"
     ]
    },
    {
     "data": {
      "text/plain": [
       "(1596.0519301517338,\n",
       " {'catboostregressor__depth': 8,\n",
       "  'catboostregressor__iterations': 500,\n",
       "  'catboostregressor__learning_rate': 0.1})"
      ]
     },
     "execution_count": 69,
     "metadata": {},
     "output_type": "execute_result"
    }
   ],
   "source": [
    "%%time\n",
    "search_best_hyper_params(\n",
    "    cb.CatBoostRegressor(\n",
    "        loss_function='RMSE', random_seed = 12345, verbose=False\n",
    "    ), \n",
    "    {'catboostregressor__iterations': [100, 200, 500],\n",
    "     'catboostregressor__learning_rate': [0.03, 0.1],\n",
    "     'catboostregressor__depth': [2, 5, 8]\n",
    "    },\n",
    "    X_train_lbl, y_train_lbl\n",
    ")"
   ]
  },
  {
   "cell_type": "markdown",
   "metadata": {},
   "source": [
    "Training time using selected hyperparameters for 200K observations:"
   ]
  },
  {
   "cell_type": "code",
   "execution_count": 104,
   "metadata": {},
   "outputs": [
    {
     "name": "stdout",
     "output_type": "stream",
     "text": [
      "Wall time: 14.9 s\n"
     ]
    },
    {
     "data": {
      "text/plain": [
       "Pipeline(steps=[('standardscaler', StandardScaler()),\n",
       "                ('catboostregressor',\n",
       "                 <catboost.core.CatBoostRegressor object at 0x000001AB5A3A0D60>)])"
      ]
     },
     "execution_count": 104,
     "metadata": {},
     "output_type": "execute_result"
    }
   ],
   "source": [
    "%%time\n",
    "cb_model=cb.CatBoostRegressor(\n",
    "        loss_function='RMSE', random_seed = 12345, verbose=False, \n",
    "        iterations=500, depth=8, learning_rate=0.1\n",
    "    )\n",
    "cb_pipe=make_pipeline(std_scaler, cb_model)\n",
    "cb_pipe.fit(X_train_lbl, y_train_lbl)"
   ]
  },
  {
   "cell_type": "markdown",
   "metadata": {},
   "source": [
    "Prediction time for 200K observations"
   ]
  },
  {
   "cell_type": "code",
   "execution_count": 105,
   "metadata": {},
   "outputs": [
    {
     "name": "stdout",
     "output_type": "stream",
     "text": [
      "Wall time: 111 ms\n"
     ]
    },
    {
     "data": {
      "text/plain": [
       "array([  920.09214186,  1444.95991244,  1037.80737925, ...,\n",
       "        3272.17909191,  1023.01175918, 11440.19279029])"
      ]
     },
     "execution_count": 105,
     "metadata": {},
     "output_type": "execute_result"
    }
   ],
   "source": [
    "%%time\n",
    "cb_pipe.predict(X_train_lbl)"
   ]
  },
  {
   "cell_type": "markdown",
   "metadata": {},
   "source": [
    "The CatBoost algorithm managed to outperform the best score a regular model managed to get. The Random Forest got an RMSE score of 2206.43, while the CatBoost got an impressive score of 1596.05.  \n",
    "Training time using selected hyperparameters for 200K observations took 14.9 seconds, and the prediction time was 111 milliseconds"
   ]
  },
  {
   "cell_type": "markdown",
   "metadata": {},
   "source": [
    "#### LightGBM"
   ]
  },
  {
   "cell_type": "code",
   "execution_count": 55,
   "metadata": {},
   "outputs": [
    {
     "name": "stdout",
     "output_type": "stream",
     "text": [
      "Wall time: 6min 8s\n"
     ]
    },
    {
     "data": {
      "text/plain": [
       "(1580.2131350122704,\n",
       " {'lgbmregressor__learning_rate': 0.1,\n",
       "  'lgbmregressor__max_depth': 8,\n",
       "  'lgbmregressor__n_estimators': 500})"
      ]
     },
     "execution_count": 55,
     "metadata": {},
     "output_type": "execute_result"
    }
   ],
   "source": [
    "%%time\n",
    "search_best_hyper_params(\n",
    "    lgb.LGBMRegressor(random_state=12345), \n",
    "    {\n",
    "        'lgbmregressor__learning_rate': [0.03, 0.1],\n",
    "        'lgbmregressor__max_depth': [2, 5, 8],\n",
    "        'lgbmregressor__n_estimators': [100, 200, 500]\n",
    "    },\n",
    "    X_train_lbl, y_train_lbl\n",
    ")"
   ]
  },
  {
   "cell_type": "markdown",
   "metadata": {},
   "source": [
    "Training time using selected hyperparameters for 200K observations:"
   ]
  },
  {
   "cell_type": "code",
   "execution_count": 106,
   "metadata": {},
   "outputs": [
    {
     "name": "stdout",
     "output_type": "stream",
     "text": [
      "Wall time: 2.83 s\n"
     ]
    },
    {
     "data": {
      "text/plain": [
       "Pipeline(steps=[('standardscaler', StandardScaler()),\n",
       "                ('lgbmregressor',\n",
       "                 LGBMRegressor(max_depth=8, n_estimators=500,\n",
       "                               random_state=12345))])"
      ]
     },
     "execution_count": 106,
     "metadata": {},
     "output_type": "execute_result"
    }
   ],
   "source": [
    "%%time\n",
    "lgbm_model=lgb.LGBMRegressor(random_state=12345, learning_rate=0.1, max_depth=8, n_estimators=500)\n",
    "lgbm_pipe=make_pipeline(std_scaler, lgbm_model)\n",
    "lgbm_pipe.fit(X_train_lbl, y_train_lbl)"
   ]
  },
  {
   "cell_type": "markdown",
   "metadata": {},
   "source": [
    "Prediction time for 200K observations"
   ]
  },
  {
   "cell_type": "code",
   "execution_count": 107,
   "metadata": {},
   "outputs": [
    {
     "name": "stdout",
     "output_type": "stream",
     "text": [
      "Wall time: 2.34 s\n"
     ]
    },
    {
     "data": {
      "text/plain": [
       "array([ 1404.44719291,  2313.29111321,   832.3513787 , ...,\n",
       "        3211.61884185,  1053.76487258, 10907.03991158])"
      ]
     },
     "execution_count": 107,
     "metadata": {},
     "output_type": "execute_result"
    }
   ],
   "source": [
    "%%time\n",
    "lgbm_pipe.predict(X_train_lbl)"
   ]
  },
  {
   "cell_type": "markdown",
   "metadata": {},
   "source": [
    "The LightGBM algorithm managed to get a slightly better score than the CatBoost algorithm. The LightGBM scored 1580.21, while CatBoost scored 1596.05. Using similar parameters, the training time was slightly faster. The training time of LightGBM was 2.83 seconds, while the CatBoost did it in 14.9 seconds."
   ]
  },
  {
   "cell_type": "markdown",
   "metadata": {},
   "source": [
    "#### XGBoost"
   ]
  },
  {
   "cell_type": "code",
   "execution_count": 70,
   "metadata": {},
   "outputs": [
    {
     "name": "stdout",
     "output_type": "stream",
     "text": [
      "Wall time: 31min 41s\n"
     ]
    },
    {
     "data": {
      "text/plain": [
       "(1528.416488117165,\n",
       " {'xgbregressor__learning_rate': 0.1,\n",
       "  'xgbregressor__max_depth': 8,\n",
       "  'xgbregressor__n_estimators': 500,\n",
       "  'xgbregressor__nthread': 4})"
      ]
     },
     "execution_count": 70,
     "metadata": {},
     "output_type": "execute_result"
    }
   ],
   "source": [
    "%%time\n",
    "\n",
    "search_best_hyper_params(\n",
    "    XGBRegressor(random_state=12345), \n",
    "    {\n",
    "      'xgbregressor__nthread':[4],\n",
    "      'xgbregressor__learning_rate': [0.03, 0.1],\n",
    "      'xgbregressor__max_depth': [2, 8],\n",
    "      'xgbregressor__n_estimators': [100, 500]\n",
    "    },\n",
    "    X_train_lbl, y_train_lbl\n",
    ")"
   ]
  },
  {
   "cell_type": "markdown",
   "metadata": {},
   "source": [
    "Training time using selected hyperparameters for 200K observations:"
   ]
  },
  {
   "cell_type": "code",
   "execution_count": 108,
   "metadata": {},
   "outputs": [
    {
     "name": "stdout",
     "output_type": "stream",
     "text": [
      "Wall time: 1min 7s\n"
     ]
    },
    {
     "data": {
      "text/plain": [
       "Pipeline(steps=[('standardscaler', StandardScaler()),\n",
       "                ('xgbregressor',\n",
       "                 XGBRegressor(base_score=0.5, booster='gbtree',\n",
       "                              colsample_bylevel=1, colsample_bynode=1,\n",
       "                              colsample_bytree=1, enable_categorical=False,\n",
       "                              gamma=0, gpu_id=-1, importance_type=None,\n",
       "                              interaction_constraints='', learning_rate=0.1,\n",
       "                              max_delta_step=0, max_depth=8, min_child_weight=1,\n",
       "                              missing=nan, monotone_constraints='()',\n",
       "                              n_estimators=500, n_jobs=4, nthread=4,\n",
       "                              num_parallel_tree=1, predictor='auto',\n",
       "                              random_state=12345, reg_alpha=0, reg_lambda=1,\n",
       "                              scale_pos_weight=1, subsample=1,\n",
       "                              tree_method='exact', validate_parameters=1,\n",
       "                              verbosity=None))])"
      ]
     },
     "execution_count": 108,
     "metadata": {},
     "output_type": "execute_result"
    }
   ],
   "source": [
    "%%time\n",
    "xgb_model=XGBRegressor(random_state=12345, nthread=4, learning_rate=0.1, max_depth=8, n_estimators=500)\n",
    "xgb_pipe=make_pipeline(std_scaler, xgb_model)\n",
    "xgb_pipe.fit(X_train_lbl, y_train_lbl)"
   ]
  },
  {
   "cell_type": "markdown",
   "metadata": {},
   "source": [
    "Prediction time for 200K observations"
   ]
  },
  {
   "cell_type": "code",
   "execution_count": 109,
   "metadata": {},
   "outputs": [
    {
     "name": "stdout",
     "output_type": "stream",
     "text": [
      "Wall time: 1.5 s\n"
     ]
    },
    {
     "data": {
      "text/plain": [
       "array([ 1293.0513,  1319.6216,   918.1772, ...,  3505.5098,  1014.9354,\n",
       "       11145.523 ], dtype=float32)"
      ]
     },
     "execution_count": 109,
     "metadata": {},
     "output_type": "execute_result"
    }
   ],
   "source": [
    "%%time\n",
    "xgb_pipe.predict(X_train_lbl)"
   ]
  },
  {
   "cell_type": "markdown",
   "metadata": {},
   "source": [
    "The XGBoost did manage to perform slightly better than the rest of the gradient boosting algorithms using the same parameters, it got a score of 1528.41 compared to 1580.21 and 1596.05, but it consumed much more time (1 minute while the other managed to do it in 2.83 seconds for the LightGBM, and in 14.9 seconds in the CatBoost)."
   ]
  },
  {
   "cell_type": "markdown",
   "metadata": {},
   "source": [
    "#### Testing the model"
   ]
  },
  {
   "cell_type": "markdown",
   "metadata": {},
   "source": [
    "After checking all those algorithms, I'll choose the LightGBM as it gave very good results, and in a very good time compared to the other gradient boosting algorithms."
   ]
  },
  {
   "cell_type": "code",
   "execution_count": 110,
   "metadata": {},
   "outputs": [
    {
     "data": {
      "text/plain": [
       "Pipeline(steps=[('standardscaler', StandardScaler()),\n",
       "                ('lgbmregressor',\n",
       "                 LGBMRegressor(max_depth=8, n_estimators=500,\n",
       "                               random_state=12345))])"
      ]
     },
     "execution_count": 110,
     "metadata": {},
     "output_type": "execute_result"
    }
   ],
   "source": [
    "lgbm_model=lgb.LGBMRegressor(random_state=12345, learning_rate=0.1, max_depth=8, n_estimators=500)\n",
    "lgbm_pipe=make_pipeline(std_scaler, lgbm_model)\n",
    "lgbm_pipe.fit(X_train_lbl, y_train_lbl)"
   ]
  },
  {
   "cell_type": "code",
   "execution_count": 111,
   "metadata": {},
   "outputs": [
    {
     "name": "stdout",
     "output_type": "stream",
     "text": [
      "LightGBM RMSE: 1564.68\n"
     ]
    }
   ],
   "source": [
    "lgbm_pred = lgbm_pipe.predict(X_test_lbl)\n",
    "rmse_score = (RMSE(y_test_lbl, lgbm_pred))\n",
    "\n",
    "print('LightGBM RMSE: {:.2f}'.format(rmse_score))"
   ]
  },
  {
   "cell_type": "markdown",
   "metadata": {},
   "source": [
    "The score of the test dataset for the LightGBM model was slightly better than the score in the training phase (1564.68 compared to 1580.21), which means that the training was good, and it was not overfitting."
   ]
  },
  {
   "cell_type": "markdown",
   "metadata": {},
   "source": [
    "## Conclusion"
   ]
  },
  {
   "cell_type": "markdown",
   "metadata": {},
   "source": [
    "Algorithms using gradient boosting techniques are much more accurate than traditional algorithms. Using the same parameters the CatBoost, LightGBM, and XGBoost got similar RMSE scores, while the XGBoost was slower than the other 2. The CatBoost and LightGBM had similar results and training time, but the LightGBM was slightly better, and it is the winner from all of the algorithms tested here."
   ]
  },
  {
   "cell_type": "markdown",
   "metadata": {},
   "source": [
    " "
   ]
  },
  {
   "cell_type": "markdown",
   "metadata": {},
   "source": [
    " "
   ]
  },
  {
   "cell_type": "markdown",
   "metadata": {},
   "source": [
    " "
   ]
  }
 ],
 "metadata": {
  "ExecuteTimeLog": [
   {
    "duration": 29058,
    "start_time": "2022-03-12T21:05:37.092Z"
   },
   {
    "duration": 1732,
    "start_time": "2022-03-12T21:06:10.792Z"
   },
   {
    "duration": 148,
    "start_time": "2022-03-12T21:08:17.396Z"
   },
   {
    "duration": 6,
    "start_time": "2022-03-12T21:08:27.707Z"
   },
   {
    "duration": 2755,
    "start_time": "2022-03-12T21:08:33.242Z"
   },
   {
    "duration": 34,
    "start_time": "2022-03-12T21:08:46.347Z"
   },
   {
    "duration": 375,
    "start_time": "2022-03-12T21:08:49.296Z"
   },
   {
    "duration": 141,
    "start_time": "2022-03-12T21:08:53.860Z"
   },
   {
    "duration": 15962,
    "start_time": "2022-03-12T21:09:38.696Z"
   },
   {
    "duration": 11,
    "start_time": "2022-03-12T21:09:54.662Z"
   },
   {
    "duration": 6,
    "start_time": "2022-03-12T21:09:54.677Z"
   },
   {
    "duration": 987,
    "start_time": "2022-03-12T21:09:54.686Z"
   },
   {
    "duration": 49,
    "start_time": "2022-03-12T21:09:55.676Z"
   },
   {
    "duration": 411,
    "start_time": "2022-03-12T21:09:55.728Z"
   },
   {
    "duration": 259,
    "start_time": "2022-03-12T21:09:56.141Z"
   },
   {
    "duration": 31,
    "start_time": "2022-03-12T21:09:56.406Z"
   },
   {
    "duration": 16,
    "start_time": "2022-03-12T21:09:56.440Z"
   },
   {
    "duration": 35,
    "start_time": "2022-03-12T21:09:56.459Z"
   },
   {
    "duration": 41,
    "start_time": "2022-03-12T21:09:56.496Z"
   },
   {
    "duration": 24,
    "start_time": "2022-03-12T21:09:56.539Z"
   },
   {
    "duration": 75,
    "start_time": "2022-03-12T21:09:56.566Z"
   },
   {
    "duration": 1088,
    "start_time": "2022-03-12T21:09:56.643Z"
   },
   {
    "duration": 33,
    "start_time": "2022-03-12T21:09:57.733Z"
   },
   {
    "duration": 22,
    "start_time": "2022-03-12T21:09:57.769Z"
   },
   {
    "duration": 49,
    "start_time": "2022-03-12T21:09:57.794Z"
   },
   {
    "duration": 49,
    "start_time": "2022-03-12T21:09:57.846Z"
   },
   {
    "duration": 38,
    "start_time": "2022-03-12T21:09:57.898Z"
   },
   {
    "duration": 150,
    "start_time": "2022-03-12T21:09:57.939Z"
   },
   {
    "duration": 36,
    "start_time": "2022-03-12T21:09:58.092Z"
   },
   {
    "duration": 46,
    "start_time": "2022-03-12T21:09:58.131Z"
   },
   {
    "duration": 39,
    "start_time": "2022-03-12T21:09:58.187Z"
   },
   {
    "duration": 36,
    "start_time": "2022-03-12T21:09:58.229Z"
   },
   {
    "duration": 35,
    "start_time": "2022-03-12T21:09:58.287Z"
   },
   {
    "duration": 40,
    "start_time": "2022-03-12T21:09:58.325Z"
   },
   {
    "duration": 261,
    "start_time": "2022-03-12T21:09:58.367Z"
   },
   {
    "duration": 168,
    "start_time": "2022-03-12T21:09:58.631Z"
   },
   {
    "duration": 4,
    "start_time": "2022-03-12T21:09:58.802Z"
   },
   {
    "duration": 867,
    "start_time": "2022-03-12T21:09:58.809Z"
   },
   {
    "duration": 2419,
    "start_time": "2022-03-12T21:09:59.678Z"
   },
   {
    "duration": 5,
    "start_time": "2022-03-12T21:10:02.099Z"
   },
   {
    "duration": 156,
    "start_time": "2022-03-12T21:10:02.107Z"
   },
   {
    "duration": 18116,
    "start_time": "2022-03-12T21:10:45.047Z"
   },
   {
    "duration": 3302,
    "start_time": "2022-03-12T21:11:03.166Z"
   },
   {
    "duration": 5,
    "start_time": "2022-03-12T21:11:06.472Z"
   },
   {
    "duration": 2926,
    "start_time": "2022-03-12T21:11:06.479Z"
   },
   {
    "duration": 63,
    "start_time": "2022-03-12T21:11:09.408Z"
   },
   {
    "duration": 443,
    "start_time": "2022-03-12T21:11:09.474Z"
   },
   {
    "duration": 159,
    "start_time": "2022-03-12T21:11:09.919Z"
   },
   {
    "duration": 41,
    "start_time": "2022-03-12T21:11:10.082Z"
   },
   {
    "duration": 24,
    "start_time": "2022-03-12T21:11:10.127Z"
   },
   {
    "duration": 42,
    "start_time": "2022-03-12T21:11:10.154Z"
   },
   {
    "duration": 13,
    "start_time": "2022-03-12T21:11:10.199Z"
   },
   {
    "duration": 17,
    "start_time": "2022-03-12T21:11:10.215Z"
   },
   {
    "duration": 100,
    "start_time": "2022-03-12T21:11:10.234Z"
   },
   {
    "duration": 1170,
    "start_time": "2022-03-12T21:11:10.336Z"
   },
   {
    "duration": 59,
    "start_time": "2022-03-12T21:11:11.509Z"
   },
   {
    "duration": 22,
    "start_time": "2022-03-12T21:11:11.571Z"
   },
   {
    "duration": 45,
    "start_time": "2022-03-12T21:11:11.597Z"
   },
   {
    "duration": 49,
    "start_time": "2022-03-12T21:11:11.644Z"
   },
   {
    "duration": 49,
    "start_time": "2022-03-12T21:11:11.696Z"
   },
   {
    "duration": 168,
    "start_time": "2022-03-12T21:11:11.748Z"
   },
   {
    "duration": 31,
    "start_time": "2022-03-12T21:11:11.918Z"
   },
   {
    "duration": 53,
    "start_time": "2022-03-12T21:11:11.952Z"
   },
   {
    "duration": 37,
    "start_time": "2022-03-12T21:11:12.010Z"
   },
   {
    "duration": 53,
    "start_time": "2022-03-12T21:11:12.051Z"
   },
   {
    "duration": 37,
    "start_time": "2022-03-12T21:11:12.108Z"
   },
   {
    "duration": 50,
    "start_time": "2022-03-12T21:11:12.147Z"
   },
   {
    "duration": 246,
    "start_time": "2022-03-12T21:11:12.200Z"
   },
   {
    "duration": 166,
    "start_time": "2022-03-12T21:11:12.449Z"
   },
   {
    "duration": 4,
    "start_time": "2022-03-12T21:11:12.618Z"
   },
   {
    "duration": 897,
    "start_time": "2022-03-12T21:11:12.625Z"
   },
   {
    "duration": 1702,
    "start_time": "2022-03-12T21:11:13.525Z"
   },
   {
    "duration": 5,
    "start_time": "2022-03-12T21:11:15.231Z"
   },
   {
    "duration": 142,
    "start_time": "2022-03-12T21:11:15.239Z"
   },
   {
    "duration": 18030,
    "start_time": "2022-03-12T21:12:37.914Z"
   },
   {
    "duration": 3204,
    "start_time": "2022-03-12T21:12:55.947Z"
   },
   {
    "duration": 6,
    "start_time": "2022-03-12T21:12:59.154Z"
   },
   {
    "duration": 2873,
    "start_time": "2022-03-12T21:12:59.164Z"
   },
   {
    "duration": 48,
    "start_time": "2022-03-12T21:13:02.039Z"
   },
   {
    "duration": 467,
    "start_time": "2022-03-12T21:13:02.090Z"
   },
   {
    "duration": 164,
    "start_time": "2022-03-12T21:13:02.559Z"
   },
   {
    "duration": 33,
    "start_time": "2022-03-12T21:13:02.727Z"
   },
   {
    "duration": 44,
    "start_time": "2022-03-12T21:13:02.763Z"
   },
   {
    "duration": 10,
    "start_time": "2022-03-12T21:13:02.809Z"
   },
   {
    "duration": 24,
    "start_time": "2022-03-12T21:13:02.822Z"
   },
   {
    "duration": 27,
    "start_time": "2022-03-12T21:13:02.849Z"
   },
   {
    "duration": 81,
    "start_time": "2022-03-12T21:13:02.879Z"
   },
   {
    "duration": 1051,
    "start_time": "2022-03-12T21:13:02.963Z"
   },
   {
    "duration": 32,
    "start_time": "2022-03-12T21:13:04.016Z"
   },
   {
    "duration": 22,
    "start_time": "2022-03-12T21:13:04.051Z"
   },
   {
    "duration": 55,
    "start_time": "2022-03-12T21:13:04.076Z"
   },
   {
    "duration": 51,
    "start_time": "2022-03-12T21:13:04.133Z"
   },
   {
    "duration": 72,
    "start_time": "2022-03-12T21:13:04.187Z"
   },
   {
    "duration": 170,
    "start_time": "2022-03-12T21:13:04.261Z"
   },
   {
    "duration": 33,
    "start_time": "2022-03-12T21:13:04.433Z"
   },
   {
    "duration": 48,
    "start_time": "2022-03-12T21:13:04.469Z"
   },
   {
    "duration": 50,
    "start_time": "2022-03-12T21:13:04.521Z"
   },
   {
    "duration": 44,
    "start_time": "2022-03-12T21:13:04.574Z"
   },
   {
    "duration": 49,
    "start_time": "2022-03-12T21:13:04.622Z"
   },
   {
    "duration": 57,
    "start_time": "2022-03-12T21:13:04.674Z"
   },
   {
    "duration": 244,
    "start_time": "2022-03-12T21:13:04.734Z"
   },
   {
    "duration": 171,
    "start_time": "2022-03-12T21:13:04.981Z"
   },
   {
    "duration": 3,
    "start_time": "2022-03-12T21:13:05.155Z"
   },
   {
    "duration": 875,
    "start_time": "2022-03-12T21:13:15.569Z"
   },
   {
    "duration": 1643,
    "start_time": "2022-03-12T21:13:21.342Z"
   },
   {
    "duration": 4,
    "start_time": "2022-03-12T21:13:26.771Z"
   },
   {
    "duration": 114,
    "start_time": "2022-03-12T21:13:31.117Z"
   },
   {
    "duration": 297,
    "start_time": "2022-03-12T21:13:53.067Z"
   },
   {
    "duration": 16070,
    "start_time": "2022-03-12T21:14:36.658Z"
   },
   {
    "duration": 3053,
    "start_time": "2022-03-12T21:14:52.731Z"
   },
   {
    "duration": 5,
    "start_time": "2022-03-12T21:14:55.787Z"
   },
   {
    "duration": 2813,
    "start_time": "2022-03-12T21:14:55.795Z"
   },
   {
    "duration": 55,
    "start_time": "2022-03-12T21:14:58.611Z"
   },
   {
    "duration": 411,
    "start_time": "2022-03-12T21:14:58.669Z"
   },
   {
    "duration": 163,
    "start_time": "2022-03-12T21:14:59.083Z"
   },
   {
    "duration": 45,
    "start_time": "2022-03-12T21:14:59.250Z"
   },
   {
    "duration": 23,
    "start_time": "2022-03-12T21:14:59.297Z"
   },
   {
    "duration": 11,
    "start_time": "2022-03-12T21:14:59.322Z"
   },
   {
    "duration": 12,
    "start_time": "2022-03-12T21:14:59.335Z"
   },
   {
    "duration": 51,
    "start_time": "2022-03-12T21:14:59.349Z"
   },
   {
    "duration": 85,
    "start_time": "2022-03-12T21:14:59.402Z"
   },
   {
    "duration": 988,
    "start_time": "2022-03-12T21:14:59.489Z"
   },
   {
    "duration": 36,
    "start_time": "2022-03-12T21:15:00.480Z"
   },
   {
    "duration": 11,
    "start_time": "2022-03-12T21:15:00.518Z"
   },
   {
    "duration": 48,
    "start_time": "2022-03-12T21:15:00.531Z"
   },
   {
    "duration": 37,
    "start_time": "2022-03-12T21:15:00.586Z"
   },
   {
    "duration": 38,
    "start_time": "2022-03-12T21:15:00.626Z"
   },
   {
    "duration": 262,
    "start_time": "2022-03-12T21:15:00.667Z"
   },
   {
    "duration": 69,
    "start_time": "2022-03-12T21:15:00.932Z"
   },
   {
    "duration": 65,
    "start_time": "2022-03-12T21:15:01.004Z"
   },
   {
    "duration": 64,
    "start_time": "2022-03-12T21:15:01.076Z"
   },
   {
    "duration": 75,
    "start_time": "2022-03-12T21:15:01.143Z"
   },
   {
    "duration": 46,
    "start_time": "2022-03-12T21:15:01.221Z"
   },
   {
    "duration": 42,
    "start_time": "2022-03-12T21:15:01.270Z"
   },
   {
    "duration": 225,
    "start_time": "2022-03-12T21:15:01.315Z"
   },
   {
    "duration": 158,
    "start_time": "2022-03-12T21:15:01.542Z"
   },
   {
    "duration": 4,
    "start_time": "2022-03-12T21:15:01.702Z"
   },
   {
    "duration": 959,
    "start_time": "2022-03-12T21:15:01.708Z"
   },
   {
    "duration": 1786,
    "start_time": "2022-03-12T21:15:02.669Z"
   },
   {
    "duration": 5,
    "start_time": "2022-03-12T21:15:04.458Z"
   },
   {
    "duration": 140,
    "start_time": "2022-03-12T21:15:04.466Z"
   },
   {
    "duration": 5,
    "start_time": "2022-03-12T21:16:02.267Z"
   },
   {
    "duration": 134,
    "start_time": "2022-03-12T21:16:07.215Z"
   },
   {
    "duration": 299,
    "start_time": "2022-03-12T21:16:41.265Z"
   },
   {
    "duration": 4,
    "start_time": "2022-03-12T21:16:46.427Z"
   },
   {
    "duration": 232,
    "start_time": "2022-03-12T21:16:49.503Z"
   },
   {
    "duration": 37379,
    "start_time": "2022-03-12T21:18:36.736Z"
   },
   {
    "duration": 17800,
    "start_time": "2022-03-12T21:20:17.759Z"
   },
   {
    "duration": 4,
    "start_time": "2022-03-12T21:21:14.391Z"
   },
   {
    "duration": 3,
    "start_time": "2022-03-12T21:21:42.299Z"
   },
   {
    "duration": 3717,
    "start_time": "2022-03-12T21:21:42.305Z"
   },
   {
    "duration": 5,
    "start_time": "2022-03-12T21:21:46.024Z"
   },
   {
    "duration": 2777,
    "start_time": "2022-03-12T21:21:46.032Z"
   },
   {
    "duration": 41,
    "start_time": "2022-03-12T21:21:48.812Z"
   },
   {
    "duration": 384,
    "start_time": "2022-03-12T21:21:48.856Z"
   },
   {
    "duration": 148,
    "start_time": "2022-03-12T21:21:49.243Z"
   },
   {
    "duration": 29,
    "start_time": "2022-03-12T21:21:49.394Z"
   },
   {
    "duration": 19,
    "start_time": "2022-03-12T21:21:49.426Z"
   },
   {
    "duration": 48,
    "start_time": "2022-03-12T21:21:49.448Z"
   },
   {
    "duration": 10,
    "start_time": "2022-03-12T21:21:49.499Z"
   },
   {
    "duration": 19,
    "start_time": "2022-03-12T21:21:49.511Z"
   },
   {
    "duration": 109,
    "start_time": "2022-03-12T21:21:49.533Z"
   },
   {
    "duration": 605,
    "start_time": "2022-03-12T21:21:49.645Z"
   },
   {
    "duration": 36,
    "start_time": "2022-03-12T21:21:50.252Z"
   },
   {
    "duration": 5,
    "start_time": "2022-03-12T21:21:50.291Z"
   },
   {
    "duration": 32,
    "start_time": "2022-03-12T21:21:50.298Z"
   },
   {
    "duration": 126,
    "start_time": "2022-03-12T21:21:50.333Z"
   },
   {
    "duration": 51,
    "start_time": "2022-03-12T21:21:50.464Z"
   },
   {
    "duration": 260,
    "start_time": "2022-03-12T21:21:50.518Z"
   },
   {
    "duration": 64,
    "start_time": "2022-03-12T21:21:50.787Z"
   },
   {
    "duration": 56,
    "start_time": "2022-03-12T21:21:50.854Z"
   },
   {
    "duration": 45,
    "start_time": "2022-03-12T21:21:50.913Z"
   },
   {
    "duration": 43,
    "start_time": "2022-03-12T21:21:50.960Z"
   },
   {
    "duration": 36,
    "start_time": "2022-03-12T21:21:51.006Z"
   },
   {
    "duration": 43,
    "start_time": "2022-03-12T21:21:51.045Z"
   },
   {
    "duration": 231,
    "start_time": "2022-03-12T21:21:51.091Z"
   },
   {
    "duration": 200,
    "start_time": "2022-03-12T21:21:51.324Z"
   },
   {
    "duration": 4,
    "start_time": "2022-03-12T21:21:51.527Z"
   },
   {
    "duration": 1207,
    "start_time": "2022-03-12T21:21:51.533Z"
   },
   {
    "duration": 1577,
    "start_time": "2022-03-12T21:21:52.743Z"
   },
   {
    "duration": 803,
    "start_time": "2022-03-12T21:22:22.935Z"
   },
   {
    "duration": 1564,
    "start_time": "2022-03-12T21:22:36.459Z"
   },
   {
    "duration": 4,
    "start_time": "2022-03-12T21:22:43.055Z"
   },
   {
    "duration": 119,
    "start_time": "2022-03-12T21:22:46.691Z"
   },
   {
    "duration": 292,
    "start_time": "2022-03-12T21:23:54.126Z"
   },
   {
    "duration": 3,
    "start_time": "2022-03-12T21:25:50.539Z"
   },
   {
    "duration": 4732,
    "start_time": "2022-03-12T21:25:50.544Z"
   },
   {
    "duration": 6,
    "start_time": "2022-03-12T21:25:55.279Z"
   },
   {
    "duration": 2783,
    "start_time": "2022-03-12T21:25:55.289Z"
   },
   {
    "duration": 45,
    "start_time": "2022-03-12T21:25:58.074Z"
   },
   {
    "duration": 382,
    "start_time": "2022-03-12T21:25:58.121Z"
   },
   {
    "duration": 150,
    "start_time": "2022-03-12T21:25:58.506Z"
   },
   {
    "duration": 36,
    "start_time": "2022-03-12T21:25:58.659Z"
   },
   {
    "duration": 17,
    "start_time": "2022-03-12T21:25:58.697Z"
   },
   {
    "duration": 11,
    "start_time": "2022-03-12T21:25:58.716Z"
   },
   {
    "duration": 11,
    "start_time": "2022-03-12T21:25:58.729Z"
   },
   {
    "duration": 50,
    "start_time": "2022-03-12T21:25:58.742Z"
   },
   {
    "duration": 76,
    "start_time": "2022-03-12T21:25:58.795Z"
   },
   {
    "duration": 514,
    "start_time": "2022-03-12T21:25:58.873Z"
   },
   {
    "duration": 32,
    "start_time": "2022-03-12T21:25:59.389Z"
   },
   {
    "duration": 7,
    "start_time": "2022-03-12T21:25:59.423Z"
   },
   {
    "duration": 55,
    "start_time": "2022-03-12T21:25:59.432Z"
   },
   {
    "duration": 106,
    "start_time": "2022-03-12T21:25:59.490Z"
   },
   {
    "duration": 34,
    "start_time": "2022-03-12T21:25:59.600Z"
   },
   {
    "duration": 161,
    "start_time": "2022-03-12T21:25:59.637Z"
   },
   {
    "duration": 31,
    "start_time": "2022-03-12T21:25:59.800Z"
   },
   {
    "duration": 32,
    "start_time": "2022-03-12T21:25:59.833Z"
   },
   {
    "duration": 48,
    "start_time": "2022-03-12T21:25:59.868Z"
   },
   {
    "duration": 34,
    "start_time": "2022-03-12T21:25:59.919Z"
   },
   {
    "duration": 54,
    "start_time": "2022-03-12T21:25:59.956Z"
   },
   {
    "duration": 36,
    "start_time": "2022-03-12T21:26:00.013Z"
   },
   {
    "duration": 246,
    "start_time": "2022-03-12T21:26:00.052Z"
   },
   {
    "duration": 156,
    "start_time": "2022-03-12T21:26:00.301Z"
   },
   {
    "duration": 3,
    "start_time": "2022-03-12T21:26:00.459Z"
   },
   {
    "duration": 864,
    "start_time": "2022-03-12T21:26:00.464Z"
   },
   {
    "duration": 1600,
    "start_time": "2022-03-12T21:26:01.331Z"
   },
   {
    "duration": 4,
    "start_time": "2022-03-12T21:26:02.934Z"
   },
   {
    "duration": 127,
    "start_time": "2022-03-12T21:26:02.940Z"
   },
   {
    "duration": 2,
    "start_time": "2022-03-12T21:26:03.070Z"
   },
   {
    "duration": 23,
    "start_time": "2022-03-12T21:26:03.087Z"
   },
   {
    "duration": 217,
    "start_time": "2022-03-12T21:26:03.113Z"
   },
   {
    "duration": 81,
    "start_time": "2022-03-12T21:26:03.333Z"
   },
   {
    "duration": 995,
    "start_time": "2022-03-12T21:26:03.416Z"
   },
   {
    "duration": 4,
    "start_time": "2022-03-12T21:26:04.413Z"
   },
   {
    "duration": 7,
    "start_time": "2022-03-12T21:26:04.419Z"
   },
   {
    "duration": 360772,
    "start_time": "2022-03-12T21:26:04.428Z"
   },
   {
    "duration": 80240,
    "start_time": "2022-03-12T21:32:05.203Z"
   },
   {
    "duration": 147737,
    "start_time": "2022-03-12T21:33:25.446Z"
   },
   {
    "duration": 2691,
    "start_time": "2022-03-17T18:04:39.022Z"
   },
   {
    "duration": 4,
    "start_time": "2022-03-17T18:04:47.593Z"
   },
   {
    "duration": 3257,
    "start_time": "2022-03-17T18:04:48.394Z"
   },
   {
    "duration": 108,
    "start_time": "2022-03-17T18:05:07.816Z"
   },
   {
    "duration": 45,
    "start_time": "2022-03-17T18:05:16.913Z"
   },
   {
    "duration": 53,
    "start_time": "2022-03-17T18:05:28.780Z"
   },
   {
    "duration": 128,
    "start_time": "2022-03-17T18:05:37.066Z"
   },
   {
    "duration": 315,
    "start_time": "2022-03-17T18:05:50.172Z"
   },
   {
    "duration": 17,
    "start_time": "2022-03-17T18:06:00.174Z"
   },
   {
    "duration": 284,
    "start_time": "2022-03-17T18:06:07.352Z"
   },
   {
    "duration": 180,
    "start_time": "2022-03-17T18:06:21.285Z"
   },
   {
    "duration": 296,
    "start_time": "2022-03-17T18:06:26.199Z"
   },
   {
    "duration": 4,
    "start_time": "2022-03-17T18:06:58.848Z"
   },
   {
    "duration": 3,
    "start_time": "2022-03-17T18:07:16.480Z"
   },
   {
    "duration": 213,
    "start_time": "2022-03-17T18:07:18.748Z"
   },
   {
    "duration": 1640,
    "start_time": "2022-03-17T18:07:37.217Z"
   },
   {
    "duration": 165,
    "start_time": "2022-03-17T18:08:11.293Z"
   },
   {
    "duration": 193,
    "start_time": "2022-03-17T18:08:23.342Z"
   },
   {
    "duration": 1636,
    "start_time": "2022-03-17T18:08:41.693Z"
   },
   {
    "duration": 1741,
    "start_time": "2022-03-17T18:09:42.618Z"
   },
   {
    "duration": 1019,
    "start_time": "2022-03-17T18:10:03.342Z"
   },
   {
    "duration": 703,
    "start_time": "2022-03-17T18:10:09.825Z"
   },
   {
    "duration": 699,
    "start_time": "2022-03-17T18:10:13.081Z"
   },
   {
    "duration": 679,
    "start_time": "2022-03-17T18:10:15.541Z"
   },
   {
    "duration": 824,
    "start_time": "2022-03-17T18:10:28.134Z"
   },
   {
    "duration": 1049,
    "start_time": "2022-03-17T18:10:38.077Z"
   },
   {
    "duration": 845,
    "start_time": "2022-03-17T18:11:06.232Z"
   },
   {
    "duration": 2,
    "start_time": "2022-03-17T18:12:48.692Z"
   }
  ],
  "kernelspec": {
   "display_name": "Python 3",
   "language": "python",
   "name": "python3"
  },
  "language_info": {
   "codemirror_mode": {
    "name": "ipython",
    "version": 3
   },
   "file_extension": ".py",
   "mimetype": "text/x-python",
   "name": "python",
   "nbconvert_exporter": "python",
   "pygments_lexer": "ipython3",
   "version": "3.8.5"
  },
  "toc": {
   "base_numbering": 1,
   "nav_menu": {},
   "number_sections": true,
   "sideBar": true,
   "skip_h1_title": true,
   "title_cell": "Table of Contents",
   "title_sidebar": "Contents",
   "toc_cell": true,
   "toc_position": {},
   "toc_section_display": true,
   "toc_window_display": false
  }
 },
 "nbformat": 4,
 "nbformat_minor": 4
}
